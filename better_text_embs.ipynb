{
 "cells": [
  {
   "cell_type": "code",
   "execution_count": 1,
   "metadata": {
    "scrolled": true
   },
   "outputs": [],
   "source": [
    "from utils import compute_f1, load_data\n",
    "from text_train.imports import *\n",
    "from text_train.data import TextDS, text_to_device\n",
    "from arcface import ArcMarginProduct\n",
    "from text_train.model import EMBBert\n",
    "from text_train.train import *\n",
    "np.random.seed(1337)\n",
    "device = torch.device('cuda')"
   ]
  },
  {
   "cell_type": "code",
   "execution_count": 2,
   "metadata": {},
   "outputs": [],
   "source": [
    "from imports import *"
   ]
  },
  {
   "cell_type": "markdown",
   "metadata": {},
   "source": [
    "## BERT multilingual"
   ]
  },
  {
   "cell_type": "markdown",
   "metadata": {},
   "source": [
    "### Split"
   ]
  },
  {
   "cell_type": "code",
   "execution_count": 3,
   "metadata": {},
   "outputs": [],
   "source": [
    "df, train_df, val_df, train_labels, val_labels = load_data(train_perc=0.3)"
   ]
  },
  {
   "cell_type": "code",
   "execution_count": 4,
   "metadata": {
    "scrolled": true
   },
   "outputs": [],
   "source": [
    "bs = 32\n",
    "bs_val = 128\n",
    "max_length=200\n",
    "agg = 'mean'\n",
    "language_model = 'bert-base-multilingual-uncased'\n",
    "tokenizer = BertTokenizer.from_pretrained(language_model)"
   ]
  },
  {
   "cell_type": "markdown",
   "metadata": {},
   "source": [
    "tr_ds = TextDS(train_df, tokenizer, max_length=max_length)\n",
    "val_ds = TextDS(val_df, tokenizer, max_length=max_length)\n",
    "full_ds = TextDS(df, tokenizer, max_length=max_length)"
   ]
  },
  {
   "cell_type": "markdown",
   "metadata": {},
   "source": [
    "torch.save(tr_ds, 'data/text_models/datasets/tr_ds_0.3_{}.pth'.format(max_length))\n",
    "torch.save(val_ds, 'data/text_models/datasets/val_ds_0.3_{}.pth'.format(max_length))\n",
    "torch.save(full_ds, 'data/text_models/datasets/full_ds_0.3_{}.pth'.format(max_length))"
   ]
  },
  {
   "cell_type": "code",
   "execution_count": 5,
   "metadata": {},
   "outputs": [],
   "source": [
    "tr_ds = torch.load('data/text_models/datasets/tr_ds_0.3_{}.pth'.format(max_length))\n",
    "val_ds = torch.load('data/text_models/datasets/val_ds_0.3_{}.pth'.format(max_length))\n",
    "full_ds = torch.load('data/text_models/datasets/full_ds_0.3_{}.pth'.format(max_length))"
   ]
  },
  {
   "cell_type": "code",
   "execution_count": 6,
   "metadata": {},
   "outputs": [],
   "source": [
    "tr_test_dl = DataLoader(tr_ds, batch_size = bs_val, shuffle = False, pin_memory = True)\n",
    "tr_dl = DataLoader(tr_ds, batch_size = bs, shuffle = True, pin_memory = True)\n",
    "val_dl = DataLoader(val_ds, batch_size = bs_val, shuffle = False, pin_memory = True)\n",
    "#full_dl = DataLoader(full_ds, batch_size = bs_val, shuffle = False, pin_memory = True)"
   ]
  },
  {
   "cell_type": "code",
   "execution_count": 7,
   "metadata": {},
   "outputs": [],
   "source": [
    "# model\n",
    "model = EMBBert(language_model, agg=agg).to(device)"
   ]
  },
  {
   "cell_type": "code",
   "execution_count": 8,
   "metadata": {},
   "outputs": [
    {
     "data": {
      "application/vnd.jupyter.widget-view+json": {
       "model_id": "490f46a8d4ea4da784a5f37b8eb7b2ce",
       "version_major": 2,
       "version_minor": 0
      },
      "text/plain": [
       "HBox(children=(HTML(value=''), FloatProgress(value=0.0, max=81.0), HTML(value='')))"
      ]
     },
     "metadata": {},
     "output_type": "display_data"
    },
    {
     "name": "stdout",
     "output_type": "stream",
     "text": [
      "\n"
     ]
    },
    {
     "ename": "IndexError",
     "evalue": "index 10375 is out of bounds for dimension 0 with size 10322",
     "output_type": "error",
     "traceback": [
      "\u001b[1;31m---------------------------------------------------------------------------\u001b[0m",
      "\u001b[1;31mIndexError\u001b[0m                                Traceback (most recent call last)",
      "\u001b[1;32m<ipython-input-8-49331b9b5b3b>\u001b[0m in \u001b[0;36m<module>\u001b[1;34m\u001b[0m\n\u001b[1;32m----> 1\u001b[1;33m \u001b[0mcenters\u001b[0m \u001b[1;33m=\u001b[0m \u001b[0mcompute_centers\u001b[0m\u001b[1;33m(\u001b[0m\u001b[0mtr_test_dl\u001b[0m\u001b[1;33m,\u001b[0m \u001b[0mmodel\u001b[0m\u001b[1;33m,\u001b[0m \u001b[0mtrain_df\u001b[0m\u001b[1;33m)\u001b[0m\u001b[1;33m\u001b[0m\u001b[1;33m\u001b[0m\u001b[0m\n\u001b[0m\u001b[0;32m      2\u001b[0m \u001b[0mtorch\u001b[0m\u001b[1;33m.\u001b[0m\u001b[0msave\u001b[0m\u001b[1;33m(\u001b[0m\u001b[0mcenters\u001b[0m\u001b[1;33m,\u001b[0m \u001b[1;34m'data/text_models/centers_0.3_{}_{}_{}.pth'\u001b[0m\u001b[1;33m.\u001b[0m\u001b[0mformat\u001b[0m\u001b[1;33m(\u001b[0m\u001b[0magg\u001b[0m\u001b[1;33m,\u001b[0m \u001b[0mmax_length\u001b[0m\u001b[1;33m,\u001b[0m \u001b[0mlanguage_model\u001b[0m\u001b[1;33m)\u001b[0m\u001b[1;33m)\u001b[0m\u001b[1;33m\u001b[0m\u001b[1;33m\u001b[0m\u001b[0m\n",
      "\u001b[1;32m~\\Documents\\shopee\\text_train\\train.py\u001b[0m in \u001b[0;36mcompute_centers\u001b[1;34m(dataloader, model, dataframe, batch_size)\u001b[0m\n\u001b[0;32m    224\u001b[0m     \u001b[0mcenters\u001b[0m \u001b[1;33m=\u001b[0m \u001b[0mtorch\u001b[0m\u001b[1;33m.\u001b[0m\u001b[0mzeros\u001b[0m\u001b[1;33m(\u001b[0m\u001b[0mlen\u001b[0m\u001b[1;33m(\u001b[0m\u001b[0mlabel_indexes\u001b[0m\u001b[1;33m)\u001b[0m\u001b[1;33m,\u001b[0m \u001b[0membs\u001b[0m\u001b[1;33m.\u001b[0m\u001b[0mshape\u001b[0m\u001b[1;33m[\u001b[0m\u001b[1;36m1\u001b[0m\u001b[1;33m]\u001b[0m\u001b[1;33m)\u001b[0m\u001b[1;33m.\u001b[0m\u001b[0mto\u001b[0m\u001b[1;33m(\u001b[0m\u001b[1;34m'cuda'\u001b[0m\u001b[1;33m)\u001b[0m\u001b[1;33m\u001b[0m\u001b[1;33m\u001b[0m\u001b[0m\n\u001b[0;32m    225\u001b[0m     \u001b[1;32mfor\u001b[0m \u001b[0mi\u001b[0m \u001b[1;32min\u001b[0m \u001b[0mrange\u001b[0m\u001b[1;33m(\u001b[0m\u001b[0mlen\u001b[0m\u001b[1;33m(\u001b[0m\u001b[0mlabel_indexes\u001b[0m\u001b[1;33m)\u001b[0m\u001b[1;33m)\u001b[0m \u001b[1;33m:\u001b[0m\u001b[1;33m\u001b[0m\u001b[1;33m\u001b[0m\u001b[0m\n\u001b[1;32m--> 226\u001b[1;33m         \u001b[0mcenters\u001b[0m\u001b[1;33m[\u001b[0m\u001b[0mi\u001b[0m\u001b[1;33m]\u001b[0m \u001b[1;33m=\u001b[0m \u001b[0membs\u001b[0m\u001b[1;33m[\u001b[0m\u001b[0mlabel_indexes\u001b[0m\u001b[1;33m.\u001b[0m\u001b[0miloc\u001b[0m\u001b[1;33m[\u001b[0m\u001b[0mi\u001b[0m\u001b[1;33m]\u001b[0m\u001b[1;33m.\u001b[0m\u001b[0mvalues\u001b[0m\u001b[1;33m[\u001b[0m\u001b[1;36m0\u001b[0m\u001b[1;33m]\u001b[0m\u001b[1;33m]\u001b[0m\u001b[1;33m.\u001b[0m\u001b[0mmean\u001b[0m\u001b[1;33m(\u001b[0m\u001b[0mdim\u001b[0m\u001b[1;33m=\u001b[0m\u001b[1;36m0\u001b[0m\u001b[1;33m)\u001b[0m\u001b[1;33m\u001b[0m\u001b[1;33m\u001b[0m\u001b[0m\n\u001b[0m\u001b[0;32m    227\u001b[0m     \u001b[1;32mreturn\u001b[0m \u001b[0mcenters\u001b[0m\u001b[1;33m\u001b[0m\u001b[1;33m\u001b[0m\u001b[0m\n\u001b[0;32m    228\u001b[0m \u001b[1;33m\u001b[0m\u001b[0m\n",
      "\u001b[1;31mIndexError\u001b[0m: index 10375 is out of bounds for dimension 0 with size 10322"
     ]
    }
   ],
   "source": [
    "centers = compute_centers(tr_test_dl, model, train_df)\n",
    "torch.save(centers, 'data/text_models/centers_0.3_{}_{}_{}.pth'.format(agg, max_length, language_model))"
   ]
  },
  {
   "cell_type": "code",
   "execution_count": null,
   "metadata": {},
   "outputs": [
    {
     "name": "stdout",
     "output_type": "stream",
     "text": [
      "> \u001b[1;32mc:\\users\\admin\\documents\\shopee\\text_train\\train.py\u001b[0m(226)\u001b[0;36mcompute_centers\u001b[1;34m()\u001b[0m\n",
      "\u001b[1;32m    224 \u001b[1;33m    \u001b[0mcenters\u001b[0m \u001b[1;33m=\u001b[0m \u001b[0mtorch\u001b[0m\u001b[1;33m.\u001b[0m\u001b[0mzeros\u001b[0m\u001b[1;33m(\u001b[0m\u001b[0mlen\u001b[0m\u001b[1;33m(\u001b[0m\u001b[0mlabel_indexes\u001b[0m\u001b[1;33m)\u001b[0m\u001b[1;33m,\u001b[0m \u001b[0membs\u001b[0m\u001b[1;33m.\u001b[0m\u001b[0mshape\u001b[0m\u001b[1;33m[\u001b[0m\u001b[1;36m1\u001b[0m\u001b[1;33m]\u001b[0m\u001b[1;33m)\u001b[0m\u001b[1;33m.\u001b[0m\u001b[0mto\u001b[0m\u001b[1;33m(\u001b[0m\u001b[1;34m'cuda'\u001b[0m\u001b[1;33m)\u001b[0m\u001b[1;33m\u001b[0m\u001b[1;33m\u001b[0m\u001b[0m\n",
      "\u001b[0m\u001b[1;32m    225 \u001b[1;33m    \u001b[1;32mfor\u001b[0m \u001b[0mi\u001b[0m \u001b[1;32min\u001b[0m \u001b[0mrange\u001b[0m\u001b[1;33m(\u001b[0m\u001b[0mlen\u001b[0m\u001b[1;33m(\u001b[0m\u001b[0mlabel_indexes\u001b[0m\u001b[1;33m)\u001b[0m\u001b[1;33m)\u001b[0m \u001b[1;33m:\u001b[0m\u001b[1;33m\u001b[0m\u001b[1;33m\u001b[0m\u001b[0m\n",
      "\u001b[0m\u001b[1;32m--> 226 \u001b[1;33m        \u001b[0mcenters\u001b[0m\u001b[1;33m[\u001b[0m\u001b[0mi\u001b[0m\u001b[1;33m]\u001b[0m \u001b[1;33m=\u001b[0m \u001b[0membs\u001b[0m\u001b[1;33m[\u001b[0m\u001b[0mlabel_indexes\u001b[0m\u001b[1;33m.\u001b[0m\u001b[0miloc\u001b[0m\u001b[1;33m[\u001b[0m\u001b[0mi\u001b[0m\u001b[1;33m]\u001b[0m\u001b[1;33m.\u001b[0m\u001b[0mvalues\u001b[0m\u001b[1;33m[\u001b[0m\u001b[1;36m0\u001b[0m\u001b[1;33m]\u001b[0m\u001b[1;33m]\u001b[0m\u001b[1;33m.\u001b[0m\u001b[0mmean\u001b[0m\u001b[1;33m(\u001b[0m\u001b[0mdim\u001b[0m\u001b[1;33m=\u001b[0m\u001b[1;36m0\u001b[0m\u001b[1;33m)\u001b[0m\u001b[1;33m\u001b[0m\u001b[1;33m\u001b[0m\u001b[0m\n",
      "\u001b[0m\u001b[1;32m    227 \u001b[1;33m    \u001b[1;32mreturn\u001b[0m \u001b[0mcenters\u001b[0m\u001b[1;33m\u001b[0m\u001b[1;33m\u001b[0m\u001b[0m\n",
      "\u001b[0m\u001b[1;32m    228 \u001b[1;33m\u001b[1;33m\u001b[0m\u001b[0m\n",
      "\u001b[0m\n",
      "ipdb> label_indexes\n",
      "                                                          indx\n",
      "label_group                                                   \n",
      "0                                                 [2353, 3767]\n",
      "1            [3567, 4569, 4625, 4758, 5344, 5655, 6162, 668...\n",
      "2                                                 [1494, 6620]\n",
      "3                                                 [7722, 9474]\n",
      "4                                                  [692, 2534]\n",
      "...                                                        ...\n",
      "3299                                        [1545, 5554, 9912]\n",
      "3300                                        [1670, 1684, 8899]\n",
      "3301                             [844, 1430, 5951, 6450, 6897]\n",
      "3302                                               [817, 5321]\n",
      "3303                                 [1390, 1565, 2071, 10229]\n",
      "\n",
      "[3304 rows x 1 columns]\n",
      "ipdb> len(label_indexes\n",
      "*** SyntaxError: unexpected EOF while parsing\n",
      "ipdb> len(train_df)\n",
      "*** NameError: name 'train_df' is not defined\n"
     ]
    }
   ],
   "source": [
    "%debug"
   ]
  },
  {
   "cell_type": "code",
   "execution_count": 8,
   "metadata": {},
   "outputs": [],
   "source": [
    "centers = torch.load('data/text_models/centers_0.3_{}_{}_{}.pth'.format(agg, max_length, language_model))"
   ]
  },
  {
   "cell_type": "code",
   "execution_count": 9,
   "metadata": {},
   "outputs": [
    {
     "name": "stdout",
     "output_type": "stream",
     "text": [
      "Using center as wieghts\n"
     ]
    }
   ],
   "source": [
    "metric_fc = ArcMarginProduct(512, train_df['label_group'].nunique(), s=30, m=0.5,\n",
    "                             easy_margin=False, centers=centers, device=device).to(device)"
   ]
  },
  {
   "cell_type": "code",
   "execution_count": 10,
   "metadata": {},
   "outputs": [
    {
     "name": "stdout",
     "output_type": "stream",
     "text": [
      "Unfroze 5 parameters\n"
     ]
    }
   ],
   "source": [
    "n_epochs, lf, params, optimizer, sched = get_hparams(tr_dl, model, metric_fc, lr=5e-4, n_epochs=5)\n",
    "freeze_bert_embeddings(model)\n",
    "freeze(model)"
   ]
  },
  {
   "cell_type": "code",
   "execution_count": 11,
   "metadata": {},
   "outputs": [
    {
     "name": "stdout",
     "output_type": "stream",
     "text": [
      "Unfroze 32 parameters\n"
     ]
    }
   ],
   "source": [
    "unfreeze_bert_to(model, 10)"
   ]
  },
  {
   "cell_type": "code",
   "execution_count": 12,
   "metadata": {},
   "outputs": [],
   "source": [
    "loss_hist = []\n",
    "best_thr_score={'val': {'thr': None, 'f1': None}, 'train': {'thr': None, 'f1': None}}\n",
    "thr_score_hist=[]\n",
    "ep_start = 0\n",
    "save_path = 'data/text_models/test_12ap_epochs'"
   ]
  },
  {
   "cell_type": "code",
   "execution_count": 13,
   "metadata": {
    "scrolled": true
   },
   "outputs": [
    {
     "data": {
      "application/vnd.jupyter.widget-view+json": {
       "model_id": "",
       "version_major": 2,
       "version_minor": 0
      },
      "text/plain": [
       "HBox(children=(FloatProgress(value=0.0, max=5.0), HTML(value='')))"
      ]
     },
     "metadata": {},
     "output_type": "display_data"
    },
    {
     "data": {
      "application/vnd.jupyter.widget-view+json": {
       "model_id": "",
       "version_major": 2,
       "version_minor": 0
      },
      "text/plain": [
       "HBox(children=(FloatProgress(value=0.0, max=327.0), HTML(value='')))"
      ]
     },
     "metadata": {},
     "output_type": "display_data"
    },
    {
     "data": {
      "application/vnd.jupyter.widget-view+json": {
       "model_id": "",
       "version_major": 2,
       "version_minor": 0
      },
      "text/plain": [
       "HBox(children=(FloatProgress(value=0.0, description='Thresholds', max=10.0, style=ProgressStyle(description_wi…"
      ]
     },
     "metadata": {},
     "output_type": "display_data"
    },
    {
     "name": "stdout",
     "output_type": "stream",
     "text": [
      "Checkpoint : saved model to data/text_models/test_12ap_epochs_ep_0.pth\n"
     ]
    },
    {
     "data": {
      "application/vnd.jupyter.widget-view+json": {
       "model_id": "",
       "version_major": 2,
       "version_minor": 0
      },
      "text/plain": [
       "HBox(children=(FloatProgress(value=0.0, max=187.0), HTML(value='')))"
      ]
     },
     "metadata": {},
     "output_type": "display_data"
    },
    {
     "data": {
      "application/vnd.jupyter.widget-view+json": {
       "model_id": "",
       "version_major": 2,
       "version_minor": 0
      },
      "text/plain": [
       "HBox(children=(FloatProgress(value=0.0, description='Thresholds', max=10.0, style=ProgressStyle(description_wi…"
      ]
     },
     "metadata": {},
     "output_type": "display_data"
    },
    {
     "name": "stdout",
     "output_type": "stream",
     "text": [
      "Saved best model ep 0 with f score : 0.6134224358446186\n",
      "Ep 0: Train loss 9.9623 | Val f score 0.6134 with thresh 0.73, train f score 0.5879 with thresh 0.73\n"
     ]
    },
    {
     "data": {
      "application/vnd.jupyter.widget-view+json": {
       "model_id": "",
       "version_major": 2,
       "version_minor": 0
      },
      "text/plain": [
       "HBox(children=(FloatProgress(value=0.0, max=327.0), HTML(value='')))"
      ]
     },
     "metadata": {},
     "output_type": "display_data"
    },
    {
     "data": {
      "application/vnd.jupyter.widget-view+json": {
       "model_id": "",
       "version_major": 2,
       "version_minor": 0
      },
      "text/plain": [
       "HBox(children=(FloatProgress(value=0.0, description='Thresholds', max=5.0, style=ProgressStyle(description_wid…"
      ]
     },
     "metadata": {},
     "output_type": "display_data"
    },
    {
     "data": {
      "application/vnd.jupyter.widget-view+json": {
       "model_id": "",
       "version_major": 2,
       "version_minor": 0
      },
      "text/plain": [
       "HBox(children=(FloatProgress(value=0.0, max=187.0), HTML(value='')))"
      ]
     },
     "metadata": {},
     "output_type": "display_data"
    },
    {
     "data": {
      "application/vnd.jupyter.widget-view+json": {
       "model_id": "",
       "version_major": 2,
       "version_minor": 0
      },
      "text/plain": [
       "HBox(children=(FloatProgress(value=0.0, description='Thresholds', max=5.0, style=ProgressStyle(description_wid…"
      ]
     },
     "metadata": {},
     "output_type": "display_data"
    },
    {
     "name": "stdout",
     "output_type": "stream",
     "text": [
      "Saved best model ep 1 with f score : 0.6403566809792569\n",
      "Ep 1: Train loss 8.4241 | Val f score 0.6404 with thresh 0.73, train f score 0.6738 with thresh 0.83\n"
     ]
    },
    {
     "data": {
      "application/vnd.jupyter.widget-view+json": {
       "model_id": "",
       "version_major": 2,
       "version_minor": 0
      },
      "text/plain": [
       "HBox(children=(FloatProgress(value=0.0, max=327.0), HTML(value='')))"
      ]
     },
     "metadata": {},
     "output_type": "display_data"
    },
    {
     "data": {
      "application/vnd.jupyter.widget-view+json": {
       "model_id": "",
       "version_major": 2,
       "version_minor": 0
      },
      "text/plain": [
       "HBox(children=(FloatProgress(value=0.0, description='Thresholds', max=5.0, style=ProgressStyle(description_wid…"
      ]
     },
     "metadata": {},
     "output_type": "display_data"
    },
    {
     "name": "stdout",
     "output_type": "stream",
     "text": [
      "Checkpoint : saved model to data/text_models/test_12ap_epochs_ep_2.pth\n"
     ]
    },
    {
     "data": {
      "application/vnd.jupyter.widget-view+json": {
       "model_id": "",
       "version_major": 2,
       "version_minor": 0
      },
      "text/plain": [
       "HBox(children=(FloatProgress(value=0.0, max=187.0), HTML(value='')))"
      ]
     },
     "metadata": {},
     "output_type": "display_data"
    },
    {
     "data": {
      "application/vnd.jupyter.widget-view+json": {
       "model_id": "",
       "version_major": 2,
       "version_minor": 0
      },
      "text/plain": [
       "HBox(children=(FloatProgress(value=0.0, description='Thresholds', max=5.0, style=ProgressStyle(description_wid…"
      ]
     },
     "metadata": {},
     "output_type": "display_data"
    },
    {
     "name": "stdout",
     "output_type": "stream",
     "text": [
      "Saved best model ep 2 with f score : 0.655571273586006\n",
      "Ep 2: Train loss 5.8388 | Val f score 0.6556 with thresh 0.78, train f score 0.7725 with thresh 0.93\n"
     ]
    },
    {
     "data": {
      "application/vnd.jupyter.widget-view+json": {
       "model_id": "",
       "version_major": 2,
       "version_minor": 0
      },
      "text/plain": [
       "HBox(children=(FloatProgress(value=0.0, max=327.0), HTML(value='')))"
      ]
     },
     "metadata": {},
     "output_type": "display_data"
    },
    {
     "data": {
      "application/vnd.jupyter.widget-view+json": {
       "model_id": "",
       "version_major": 2,
       "version_minor": 0
      },
      "text/plain": [
       "HBox(children=(FloatProgress(value=0.0, description='Thresholds', max=5.0, style=ProgressStyle(description_wid…"
      ]
     },
     "metadata": {},
     "output_type": "display_data"
    },
    {
     "data": {
      "application/vnd.jupyter.widget-view+json": {
       "model_id": "",
       "version_major": 2,
       "version_minor": 0
      },
      "text/plain": [
       "HBox(children=(FloatProgress(value=0.0, max=187.0), HTML(value='')))"
      ]
     },
     "metadata": {},
     "output_type": "display_data"
    },
    {
     "data": {
      "application/vnd.jupyter.widget-view+json": {
       "model_id": "",
       "version_major": 2,
       "version_minor": 0
      },
      "text/plain": [
       "HBox(children=(FloatProgress(value=0.0, description='Thresholds', max=5.0, style=ProgressStyle(description_wid…"
      ]
     },
     "metadata": {},
     "output_type": "display_data"
    },
    {
     "name": "stdout",
     "output_type": "stream",
     "text": [
      "Saved best model ep 3 with f score : 0.6628752112823555\n",
      "Ep 3: Train loss 3.6691 | Val f score 0.6629 with thresh 0.83, train f score 0.8363 with thresh 0.93\n"
     ]
    },
    {
     "data": {
      "application/vnd.jupyter.widget-view+json": {
       "model_id": "",
       "version_major": 2,
       "version_minor": 0
      },
      "text/plain": [
       "HBox(children=(FloatProgress(value=0.0, max=327.0), HTML(value='')))"
      ]
     },
     "metadata": {},
     "output_type": "display_data"
    },
    {
     "data": {
      "application/vnd.jupyter.widget-view+json": {
       "model_id": "",
       "version_major": 2,
       "version_minor": 0
      },
      "text/plain": [
       "HBox(children=(FloatProgress(value=0.0, description='Thresholds', max=5.0, style=ProgressStyle(description_wid…"
      ]
     },
     "metadata": {},
     "output_type": "display_data"
    },
    {
     "name": "stdout",
     "output_type": "stream",
     "text": [
      "Checkpoint : saved model to data/text_models/test_12ap_epochs_ep_4.pth\n"
     ]
    },
    {
     "data": {
      "application/vnd.jupyter.widget-view+json": {
       "model_id": "",
       "version_major": 2,
       "version_minor": 0
      },
      "text/plain": [
       "HBox(children=(FloatProgress(value=0.0, max=187.0), HTML(value='')))"
      ]
     },
     "metadata": {},
     "output_type": "display_data"
    },
    {
     "data": {
      "application/vnd.jupyter.widget-view+json": {
       "model_id": "",
       "version_major": 2,
       "version_minor": 0
      },
      "text/plain": [
       "HBox(children=(FloatProgress(value=0.0, description='Thresholds', max=5.0, style=ProgressStyle(description_wid…"
      ]
     },
     "metadata": {},
     "output_type": "display_data"
    },
    {
     "name": "stdout",
     "output_type": "stream",
     "text": [
      "Saved best model ep 4 with f score : 0.66618577123748\n",
      "Ep 4: Train loss 2.5325 | Val f score 0.6662 with thresh 0.83, train f score 0.8756 with thresh 0.93\n",
      "\r"
     ]
    }
   ],
   "source": [
    "best_thr_score, thr_score_hist, losses = train(model, optimizer, lf, sched, metric_fc, tr_dl, val_dl,\n",
    "                                               n_epochs, train_df, val_df, \n",
    "                                               save_path=save_path, \n",
    "                                               prev_best_info=best_thr_score, info_history=thr_score_hist,\n",
    "                                               ep_start=ep_start, device=device)\n",
    "loss_hist.append(losses)\n",
    "ep_start += n_epochs"
   ]
  },
  {
   "cell_type": "code",
   "execution_count": 14,
   "metadata": {},
   "outputs": [
    {
     "name": "stdout",
     "output_type": "stream",
     "text": [
      "Unfroze 5 parameters\n"
     ]
    }
   ],
   "source": [
    "n_epochs, lf, params, optimizer, sched = get_hparams(tr_dl, model, metric_fc, lr=1e-4, n_epochs=2)\n",
    "freeze_bert_embeddings(model)\n",
    "freeze(model)"
   ]
  },
  {
   "cell_type": "code",
   "execution_count": 15,
   "metadata": {},
   "outputs": [
    {
     "name": "stdout",
     "output_type": "stream",
     "text": [
      "Unfroze 96 parameters\n"
     ]
    }
   ],
   "source": [
    "unfreeze_bert_to(model, 6)"
   ]
  },
  {
   "cell_type": "code",
   "execution_count": 16,
   "metadata": {
    "scrolled": true
   },
   "outputs": [
    {
     "data": {
      "application/vnd.jupyter.widget-view+json": {
       "model_id": "",
       "version_major": 2,
       "version_minor": 0
      },
      "text/plain": [
       "HBox(children=(FloatProgress(value=0.0, max=2.0), HTML(value='')))"
      ]
     },
     "metadata": {},
     "output_type": "display_data"
    },
    {
     "data": {
      "application/vnd.jupyter.widget-view+json": {
       "model_id": "",
       "version_major": 2,
       "version_minor": 0
      },
      "text/plain": [
       "HBox(children=(FloatProgress(value=0.0, max=327.0), HTML(value='')))"
      ]
     },
     "metadata": {},
     "output_type": "display_data"
    },
    {
     "data": {
      "application/vnd.jupyter.widget-view+json": {
       "model_id": "",
       "version_major": 2,
       "version_minor": 0
      },
      "text/plain": [
       "HBox(children=(FloatProgress(value=0.0, description='Thresholds', max=5.0, style=ProgressStyle(description_wid…"
      ]
     },
     "metadata": {},
     "output_type": "display_data"
    },
    {
     "data": {
      "application/vnd.jupyter.widget-view+json": {
       "model_id": "",
       "version_major": 2,
       "version_minor": 0
      },
      "text/plain": [
       "HBox(children=(FloatProgress(value=0.0, max=187.0), HTML(value='')))"
      ]
     },
     "metadata": {},
     "output_type": "display_data"
    },
    {
     "data": {
      "application/vnd.jupyter.widget-view+json": {
       "model_id": "",
       "version_major": 2,
       "version_minor": 0
      },
      "text/plain": [
       "HBox(children=(FloatProgress(value=0.0, description='Thresholds', max=5.0, style=ProgressStyle(description_wid…"
      ]
     },
     "metadata": {},
     "output_type": "display_data"
    },
    {
     "name": "stdout",
     "output_type": "stream",
     "text": [
      "Saved best model ep 5 with f score : 0.6691313062397024\n",
      "Ep 5: Train loss 2.6464 | Val f score 0.6691 with thresh 0.83, train f score 0.8754 with thresh 0.93\n"
     ]
    },
    {
     "data": {
      "application/vnd.jupyter.widget-view+json": {
       "model_id": "",
       "version_major": 2,
       "version_minor": 0
      },
      "text/plain": [
       "HBox(children=(FloatProgress(value=0.0, max=327.0), HTML(value='')))"
      ]
     },
     "metadata": {},
     "output_type": "display_data"
    },
    {
     "data": {
      "application/vnd.jupyter.widget-view+json": {
       "model_id": "",
       "version_major": 2,
       "version_minor": 0
      },
      "text/plain": [
       "HBox(children=(FloatProgress(value=0.0, description='Thresholds', max=5.0, style=ProgressStyle(description_wid…"
      ]
     },
     "metadata": {},
     "output_type": "display_data"
    },
    {
     "name": "stdout",
     "output_type": "stream",
     "text": [
      "Checkpoint : saved model to data/text_models/test_12ap_epochs_ep_6.pth\n"
     ]
    },
    {
     "data": {
      "application/vnd.jupyter.widget-view+json": {
       "model_id": "",
       "version_major": 2,
       "version_minor": 0
      },
      "text/plain": [
       "HBox(children=(FloatProgress(value=0.0, max=187.0), HTML(value='')))"
      ]
     },
     "metadata": {},
     "output_type": "display_data"
    },
    {
     "data": {
      "application/vnd.jupyter.widget-view+json": {
       "model_id": "",
       "version_major": 2,
       "version_minor": 0
      },
      "text/plain": [
       "HBox(children=(FloatProgress(value=0.0, description='Thresholds', max=5.0, style=ProgressStyle(description_wid…"
      ]
     },
     "metadata": {},
     "output_type": "display_data"
    },
    {
     "name": "stdout",
     "output_type": "stream",
     "text": [
      "Saved best model ep 6 with f score : 0.672848153774134\n",
      "Ep 6: Train loss 1.9609 | Val f score 0.6728 with thresh 0.83, train f score 0.9053 with thresh 0.93\n",
      "\r"
     ]
    }
   ],
   "source": [
    "best_thr_score, thr_score_hist, losses = train(model, optimizer, lf, sched, metric_fc, tr_dl, val_dl,\n",
    "                                               n_epochs, train_df, val_df, \n",
    "                                               save_path=save_path, \n",
    "                                               prev_best_info=best_thr_score, info_history=thr_score_hist,\n",
    "                                               ep_start=ep_start, device=device)\n",
    "loss_hist.append(losses)\n",
    "ep_start += n_epochs"
   ]
  },
  {
   "cell_type": "code",
   "execution_count": 17,
   "metadata": {},
   "outputs": [
    {
     "name": "stdout",
     "output_type": "stream",
     "text": [
      "Unfroze 5 parameters\n"
     ]
    }
   ],
   "source": [
    "n_epochs, lf, params, optimizer, sched = get_hparams(tr_dl, model, metric_fc, lr=1e-5, n_epochs=2)\n",
    "freeze_bert_embeddings(model)\n",
    "freeze(model)"
   ]
  },
  {
   "cell_type": "code",
   "execution_count": 18,
   "metadata": {},
   "outputs": [],
   "source": [
    "unfreeze(model)"
   ]
  },
  {
   "cell_type": "code",
   "execution_count": 19,
   "metadata": {
    "scrolled": true
   },
   "outputs": [
    {
     "data": {
      "application/vnd.jupyter.widget-view+json": {
       "model_id": "",
       "version_major": 2,
       "version_minor": 0
      },
      "text/plain": [
       "HBox(children=(FloatProgress(value=0.0, max=2.0), HTML(value='')))"
      ]
     },
     "metadata": {},
     "output_type": "display_data"
    },
    {
     "data": {
      "application/vnd.jupyter.widget-view+json": {
       "model_id": "",
       "version_major": 2,
       "version_minor": 0
      },
      "text/plain": [
       "HBox(children=(FloatProgress(value=0.0, max=327.0), HTML(value='')))"
      ]
     },
     "metadata": {},
     "output_type": "display_data"
    },
    {
     "data": {
      "application/vnd.jupyter.widget-view+json": {
       "model_id": "",
       "version_major": 2,
       "version_minor": 0
      },
      "text/plain": [
       "HBox(children=(FloatProgress(value=0.0, description='Thresholds', max=5.0, style=ProgressStyle(description_wid…"
      ]
     },
     "metadata": {},
     "output_type": "display_data"
    },
    {
     "data": {
      "application/vnd.jupyter.widget-view+json": {
       "model_id": "",
       "version_major": 2,
       "version_minor": 0
      },
      "text/plain": [
       "HBox(children=(FloatProgress(value=0.0, max=187.0), HTML(value='')))"
      ]
     },
     "metadata": {},
     "output_type": "display_data"
    },
    {
     "data": {
      "application/vnd.jupyter.widget-view+json": {
       "model_id": "",
       "version_major": 2,
       "version_minor": 0
      },
      "text/plain": [
       "HBox(children=(FloatProgress(value=0.0, description='Thresholds', max=5.0, style=ProgressStyle(description_wid…"
      ]
     },
     "metadata": {},
     "output_type": "display_data"
    },
    {
     "name": "stdout",
     "output_type": "stream",
     "text": [
      "Saved best model ep 7 with f score : 0.6760731523704145\n",
      "Ep 7: Train loss 1.5734 | Val f score 0.6761 with thresh 0.83, train f score 0.9226 with thresh 0.93\n"
     ]
    },
    {
     "data": {
      "application/vnd.jupyter.widget-view+json": {
       "model_id": "",
       "version_major": 2,
       "version_minor": 0
      },
      "text/plain": [
       "HBox(children=(FloatProgress(value=0.0, max=327.0), HTML(value='')))"
      ]
     },
     "metadata": {},
     "output_type": "display_data"
    },
    {
     "data": {
      "application/vnd.jupyter.widget-view+json": {
       "model_id": "",
       "version_major": 2,
       "version_minor": 0
      },
      "text/plain": [
       "HBox(children=(FloatProgress(value=0.0, description='Thresholds', max=5.0, style=ProgressStyle(description_wid…"
      ]
     },
     "metadata": {},
     "output_type": "display_data"
    },
    {
     "name": "stdout",
     "output_type": "stream",
     "text": [
      "Checkpoint : saved model to data/text_models/test_12ap_epochs_ep_8.pth\n"
     ]
    },
    {
     "data": {
      "application/vnd.jupyter.widget-view+json": {
       "model_id": "",
       "version_major": 2,
       "version_minor": 0
      },
      "text/plain": [
       "HBox(children=(FloatProgress(value=0.0, max=187.0), HTML(value='')))"
      ]
     },
     "metadata": {},
     "output_type": "display_data"
    },
    {
     "data": {
      "application/vnd.jupyter.widget-view+json": {
       "model_id": "",
       "version_major": 2,
       "version_minor": 0
      },
      "text/plain": [
       "HBox(children=(FloatProgress(value=0.0, description='Thresholds', max=5.0, style=ProgressStyle(description_wid…"
      ]
     },
     "metadata": {},
     "output_type": "display_data"
    },
    {
     "name": "stdout",
     "output_type": "stream",
     "text": [
      "Ep 8: Train loss 1.3791 | Val f score 0.6760 with thresh 0.83, train f score 0.9332 with thresh 0.93\n",
      "\r"
     ]
    }
   ],
   "source": [
    "best_thr_score, thr_score_hist, losses = train(model, optimizer, lf, sched, metric_fc, tr_dl, val_dl,\n",
    "                                               n_epochs, train_df, val_df, \n",
    "                                               save_path=save_path, \n",
    "                                               prev_best_info=best_thr_score, info_history=thr_score_hist,\n",
    "                                               ep_start=ep_start, device=device)\n",
    "loss_hist.append(losses)\n",
    "ep_start += n_epochs"
   ]
  },
  {
   "cell_type": "code",
   "execution_count": 21,
   "metadata": {},
   "outputs": [],
   "source": [
    "def plot_hist(history) : \n",
    "    train_scores = [info['train']['f1'] for info in history]\n",
    "    train_thr = [info['train']['thr'] for info in history]\n",
    "    val_scores = [info['val']['f1'] for info in history]\n",
    "    val_thr = [info['val']['thr'] for info in history]\n",
    "    x = range(len(train_scores))\n",
    "    plt.plot(x, val_scores, label='val_score')\n",
    "    plt.plot(x, train_scores, label='train_score')\n",
    "    plt.legend()\n",
    "    plt.show()\n",
    "    plt.plot(x, val_thr, label='val_thr')\n",
    "    plt.plot(x, train_thr, label='train_thr')\n",
    "    plt.legend()\n",
    "    plt.show()"
   ]
  },
  {
   "cell_type": "code",
   "execution_count": 22,
   "metadata": {
    "scrolled": false
   },
   "outputs": [
    {
     "data": {
      "image/png": "[encoded data removed]",
      "text/plain": [
       "<Figure size 432x288 with 1 Axes>"
      ]
     },
     "metadata": {
      "needs_background": "light"
     },
     "output_type": "display_data"
    },
    {
     "data": {
      "image/png": "[encoded data removed]",
      "text/plain": [
       "<Figure size 432x288 with 1 Axes>"
      ]
     },
     "metadata": {
      "needs_background": "light"
     },
     "output_type": "display_data"
    }
   ],
   "source": [
    "plot_hist(thr_score_hist)"
   ]
  },
  {
   "cell_type": "markdown",
   "metadata": {},
   "source": [
    "### full train"
   ]
  },
  {
   "cell_type": "code",
   "execution_count": 1,
   "metadata": {
    "scrolled": true
   },
   "outputs": [],
   "source": [
    "from utils import compute_f1, load_data\n",
    "from text_train.imports import *\n",
    "from text_train.data import TextDS, text_to_device\n",
    "from arcface import ArcMarginProduct\n",
    "from text_train.model import EMBBert\n",
    "from text_train.train import *\n",
    "np.random.seed(1337)\n",
    "device = torch.device('cuda')"
   ]
  },
  {
   "cell_type": "code",
   "execution_count": 2,
   "metadata": {},
   "outputs": [],
   "source": [
    "from imports import *"
   ]
  },
  {
   "cell_type": "code",
   "execution_count": 3,
   "metadata": {},
   "outputs": [],
   "source": [
    "def plot_hist(history) : \n",
    "    train_scores = [info['train']['f1'] for info in history]\n",
    "    train_thr = [info['train']['thr'] for info in history]\n",
    "    val_scores = [info['val']['f1'] for info in history]\n",
    "    val_thr = [info['val']['thr'] for info in history]\n",
    "    x = range(len(train_scores))\n",
    "    plt.plot(x, val_scores, label='val_score')\n",
    "    plt.plot(x, train_scores, label='train_score')\n",
    "    plt.legend()\n",
    "    plt.show()\n",
    "    plt.plot(x, val_thr, label='val_thr')\n",
    "    plt.plot(x, train_thr, label='train_thr')\n",
    "    plt.legend()\n",
    "    plt.show()"
   ]
  },
  {
   "cell_type": "markdown",
   "metadata": {},
   "source": [
    "#### Prep data and model"
   ]
  },
  {
   "cell_type": "code",
   "execution_count": 4,
   "metadata": {},
   "outputs": [],
   "source": [
    "df, train_df, val_df, train_labels, val_labels = load_data(train_perc=1)"
   ]
  },
  {
   "cell_type": "code",
   "execution_count": 5,
   "metadata": {},
   "outputs": [],
   "source": [
    "bs = 64\n",
    "bs_val = 128\n",
    "max_length=200\n",
    "agg = 'mean'\n",
    "language_model = 'bert-base-multilingual-uncased'\n",
    "tokenizer = BertTokenizer.from_pretrained(language_model)"
   ]
  },
  {
   "cell_type": "markdown",
   "metadata": {},
   "source": [
    "tr_ds = TextDS(train_df, tokenizer, max_length=max_length)\n",
    "full_ds = TextDS(df, tokenizer, max_length=max_length)"
   ]
  },
  {
   "cell_type": "markdown",
   "metadata": {},
   "source": [
    "torch.save(tr_ds, 'data/text_models/datasets/tr_ds_full_{}.pth'.format(max_length))\n",
    "torch.save(full_ds, 'data/text_models/datasets/full_ds_full_{}.pth'.format(max_length))"
   ]
  },
  {
   "cell_type": "code",
   "execution_count": 6,
   "metadata": {},
   "outputs": [],
   "source": [
    "tr_ds = torch.load('data/text_models/datasets/tr_ds_full_{}.pth'.format(max_length))\n",
    "full_ds = torch.load('data/text_models/datasets/full_ds_full_{}.pth'.format(max_length))"
   ]
  },
  {
   "cell_type": "code",
   "execution_count": 7,
   "metadata": {},
   "outputs": [],
   "source": [
    "tr_test_dl = DataLoader(tr_ds, batch_size = bs_val, shuffle = False, pin_memory = True)\n",
    "tr_dl = DataLoader(tr_ds, batch_size = bs, shuffle = True, pin_memory = True)\n",
    "#full_dl = DataLoader(full_ds, batch_size = bs_val, shuffle = False, pin_memory = True)"
   ]
  },
  {
   "cell_type": "code",
   "execution_count": 8,
   "metadata": {},
   "outputs": [],
   "source": [
    "model = EMBBert(language_model, agg=agg).to(device)"
   ]
  },
  {
   "cell_type": "markdown",
   "metadata": {},
   "source": [
    "centers = compute_centers(tr_test_dl, model, train_df)\n",
    "torch.save(centers, 'data/text_models/centers_0.3_{}_{}_{}.pth'.format(agg, max_length, language_model))"
   ]
  },
  {
   "cell_type": "code",
   "execution_count": 9,
   "metadata": {},
   "outputs": [],
   "source": [
    "centers = torch.load('data/text_models/centers_0.3_{}_{}_{}.pth'.format(agg, max_length, language_model))"
   ]
  },
  {
   "cell_type": "code",
   "execution_count": 10,
   "metadata": {},
   "outputs": [
    {
     "name": "stdout",
     "output_type": "stream",
     "text": [
      "Using center as wieghts\n"
     ]
    }
   ],
   "source": [
    "metric_fc = ArcMarginProduct(512, train_df['label_group'].nunique(), s=30, m=0.5,\n",
    "                             easy_margin=False, centers=centers, device=device).to(device)"
   ]
  },
  {
   "cell_type": "code",
   "execution_count": 11,
   "metadata": {},
   "outputs": [],
   "source": [
    "loss_hist = []\n",
    "best_thr_score={'train': {'thr': None, 'f1': None}}\n",
    "thr_score_hist=[]\n",
    "ep_start = 0\n",
    "save_path = 'data/text_models/2april'"
   ]
  },
  {
   "cell_type": "markdown",
   "metadata": {},
   "source": [
    "#### First train"
   ]
  },
  {
   "cell_type": "code",
   "execution_count": 11,
   "metadata": {},
   "outputs": [
    {
     "name": "stdout",
     "output_type": "stream",
     "text": [
      "Unfroze 5 parameters\n"
     ]
    }
   ],
   "source": [
    "n_epochs, lf, params, optimizer, sched = get_hparams(tr_dl, model, metric_fc, lr=5e-4, n_epochs=5)\n",
    "freeze_bert_embeddings(model)\n",
    "freeze(model)"
   ]
  },
  {
   "cell_type": "code",
   "execution_count": 12,
   "metadata": {},
   "outputs": [
    {
     "name": "stdout",
     "output_type": "stream",
     "text": [
      "Unfroze 32 parameters\n"
     ]
    }
   ],
   "source": [
    "unfreeze_bert_to(model, 10)"
   ]
  },
  {
   "cell_type": "code",
   "execution_count": 14,
   "metadata": {
    "scrolled": true
   },
   "outputs": [
    {
     "data": {
      "application/vnd.jupyter.widget-view+json": {
       "model_id": "",
       "version_major": 2,
       "version_minor": 0
      },
      "text/plain": [
       "HBox(children=(HTML(value=''), FloatProgress(value=0.0, max=5.0), HTML(value='')))"
      ]
     },
     "metadata": {},
     "output_type": "display_data"
    },
    {
     "data": {
      "application/vnd.jupyter.widget-view+json": {
       "model_id": "",
       "version_major": 2,
       "version_minor": 0
      },
      "text/plain": [
       "HBox(children=(HTML(value=''), FloatProgress(value=0.0, max=536.0), HTML(value='')))"
      ]
     },
     "metadata": {},
     "output_type": "display_data"
    },
    {
     "data": {
      "application/vnd.jupyter.widget-view+json": {
       "model_id": "",
       "version_major": 2,
       "version_minor": 0
      },
      "text/plain": [
       "HBox(children=(HTML(value='Thresholds'), FloatProgress(value=0.0, max=10.0), HTML(value='')))"
      ]
     },
     "metadata": {},
     "output_type": "display_data"
    },
    {
     "name": "stdout",
     "output_type": "stream",
     "text": [
      "Checkpoint : saved model to data/text_models/2april_ep_0.pth\n",
      "Ep 0: Loss 10.9213 | F score 0.5386 with thresh 0.73\n"
     ]
    },
    {
     "data": {
      "application/vnd.jupyter.widget-view+json": {
       "model_id": "",
       "version_major": 2,
       "version_minor": 0
      },
      "text/plain": [
       "HBox(children=(HTML(value=''), FloatProgress(value=0.0, max=536.0), HTML(value='')))"
      ]
     },
     "metadata": {},
     "output_type": "display_data"
    },
    {
     "data": {
      "application/vnd.jupyter.widget-view+json": {
       "model_id": "",
       "version_major": 2,
       "version_minor": 0
      },
      "text/plain": [
       "HBox(children=(HTML(value='Thresholds'), FloatProgress(value=0.0, max=5.0), HTML(value='')))"
      ]
     },
     "metadata": {},
     "output_type": "display_data"
    },
    {
     "name": "stdout",
     "output_type": "stream",
     "text": [
      "Ep 1: Loss 9.6618 | F score 0.6101 with thresh 0.83\n"
     ]
    },
    {
     "data": {
      "application/vnd.jupyter.widget-view+json": {
       "model_id": "",
       "version_major": 2,
       "version_minor": 0
      },
      "text/plain": [
       "HBox(children=(HTML(value=''), FloatProgress(value=0.0, max=536.0), HTML(value='')))"
      ]
     },
     "metadata": {},
     "output_type": "display_data"
    },
    {
     "data": {
      "application/vnd.jupyter.widget-view+json": {
       "model_id": "",
       "version_major": 2,
       "version_minor": 0
      },
      "text/plain": [
       "HBox(children=(HTML(value='Thresholds'), FloatProgress(value=0.0, max=5.0), HTML(value='')))"
      ]
     },
     "metadata": {},
     "output_type": "display_data"
    },
    {
     "name": "stdout",
     "output_type": "stream",
     "text": [
      "Checkpoint : saved model to data/text_models/2april_ep_2.pth\n",
      "Ep 2: Loss 7.4889 | F score 0.6702 with thresh 0.88\n"
     ]
    },
    {
     "data": {
      "application/vnd.jupyter.widget-view+json": {
       "model_id": "",
       "version_major": 2,
       "version_minor": 0
      },
      "text/plain": [
       "HBox(children=(HTML(value=''), FloatProgress(value=0.0, max=536.0), HTML(value='')))"
      ]
     },
     "metadata": {},
     "output_type": "display_data"
    },
    {
     "data": {
      "application/vnd.jupyter.widget-view+json": {
       "model_id": "",
       "version_major": 2,
       "version_minor": 0
      },
      "text/plain": [
       "HBox(children=(HTML(value='Thresholds'), FloatProgress(value=0.0, max=5.0), HTML(value='')))"
      ]
     },
     "metadata": {},
     "output_type": "display_data"
    },
    {
     "name": "stdout",
     "output_type": "stream",
     "text": [
      "Ep 3: Loss 5.5096 | F score 0.7203 with thresh 0.93\n"
     ]
    },
    {
     "data": {
      "application/vnd.jupyter.widget-view+json": {
       "model_id": "",
       "version_major": 2,
       "version_minor": 0
      },
      "text/plain": [
       "HBox(children=(HTML(value=''), FloatProgress(value=0.0, max=536.0), HTML(value='')))"
      ]
     },
     "metadata": {},
     "output_type": "display_data"
    },
    {
     "data": {
      "application/vnd.jupyter.widget-view+json": {
       "model_id": "",
       "version_major": 2,
       "version_minor": 0
      },
      "text/plain": [
       "HBox(children=(HTML(value='Thresholds'), FloatProgress(value=0.0, max=5.0), HTML(value='')))"
      ]
     },
     "metadata": {},
     "output_type": "display_data"
    },
    {
     "name": "stdout",
     "output_type": "stream",
     "text": [
      "Checkpoint : saved model to data/text_models/2april_ep_4.pth\n",
      "Ep 4: Loss 4.3183 | F score 0.7519 with thresh 0.93\n"
     ]
    }
   ],
   "source": [
    "best_thr_score, thr_score_hist, losses = train_full_data(model, optimizer, lf, sched, metric_fc, tr_dl,\n",
    "                                               n_epochs, train_df, \n",
    "                                               save_path=save_path, \n",
    "                                               prev_best_info=best_thr_score, info_history=thr_score_hist,\n",
    "                                               ep_start=ep_start)\n",
    "loss_hist.append(losses)\n",
    "ep_start += n_epochs"
   ]
  },
  {
   "cell_type": "code",
   "execution_count": 15,
   "metadata": {},
   "outputs": [],
   "source": [
    "torch.save(metric_fc.state_dict(), save_path+'_met_1fr.pth')"
   ]
  },
  {
   "cell_type": "markdown",
   "metadata": {},
   "source": [
    "#### Second train"
   ]
  },
  {
   "cell_type": "code",
   "execution_count": 14,
   "metadata": {
    "scrolled": true
   },
   "outputs": [
    {
     "data": {
      "text/plain": [
       "<All keys matched successfully>"
      ]
     },
     "execution_count": 14,
     "metadata": {},
     "output_type": "execute_result"
    }
   ],
   "source": [
    "metric_fc.load_state_dict(torch.load(save_path+'_met_1fr.pth'))"
   ]
  },
  {
   "cell_type": "code",
   "execution_count": 15,
   "metadata": {
    "scrolled": false
   },
   "outputs": [
    {
     "data": {
      "text/plain": [
       "<All keys matched successfully>"
      ]
     },
     "execution_count": 15,
     "metadata": {},
     "output_type": "execute_result"
    }
   ],
   "source": [
    "model.load_state_dict(torch.load('data/text_models/2april_ep_4.pth'))"
   ]
  },
  {
   "cell_type": "code",
   "execution_count": 16,
   "metadata": {},
   "outputs": [
    {
     "name": "stdout",
     "output_type": "stream",
     "text": [
      "Unfroze 5 parameters\n"
     ]
    }
   ],
   "source": [
    "n_epochs, lf, params, optimizer, sched = get_hparams(tr_dl, model, metric_fc, lr=1e-4, n_epochs=5)\n",
    "ep_start = 5\n",
    "freeze_bert_embeddings(model)\n",
    "freeze(model)"
   ]
  },
  {
   "cell_type": "code",
   "execution_count": 17,
   "metadata": {},
   "outputs": [
    {
     "name": "stdout",
     "output_type": "stream",
     "text": [
      "Unfroze 96 parameters\n"
     ]
    }
   ],
   "source": [
    "freeze(model)\n",
    "unfreeze_bert_to(model, 6)"
   ]
  },
  {
   "cell_type": "code",
   "execution_count": 18,
   "metadata": {},
   "outputs": [],
   "source": [
    "bs = 64\n",
    "tr_test_dl = DataLoader(tr_ds, batch_size = bs_val, shuffle = False, pin_memory = True)\n",
    "tr_dl = DataLoader(tr_ds, batch_size = bs, shuffle = True, pin_memory = True)"
   ]
  },
  {
   "cell_type": "code",
   "execution_count": 19,
   "metadata": {
    "scrolled": true
   },
   "outputs": [
    {
     "data": {
      "application/vnd.jupyter.widget-view+json": {
       "model_id": "",
       "version_major": 2,
       "version_minor": 0
      },
      "text/plain": [
       "HBox(children=(HTML(value=''), FloatProgress(value=0.0, max=5.0), HTML(value='')))"
      ]
     },
     "metadata": {},
     "output_type": "display_data"
    },
    {
     "data": {
      "application/vnd.jupyter.widget-view+json": {
       "model_id": "",
       "version_major": 2,
       "version_minor": 0
      },
      "text/plain": [
       "HBox(children=(HTML(value=''), FloatProgress(value=0.0, max=536.0), HTML(value='')))"
      ]
     },
     "metadata": {},
     "output_type": "display_data"
    },
    {
     "data": {
      "application/vnd.jupyter.widget-view+json": {
       "model_id": "",
       "version_major": 2,
       "version_minor": 0
      },
      "text/plain": [
       "HBox(children=(HTML(value='Thresholds'), FloatProgress(value=0.0, max=10.0), HTML(value='')))"
      ]
     },
     "metadata": {},
     "output_type": "display_data"
    },
    {
     "name": "stdout",
     "output_type": "stream",
     "text": [
      "Ep 5: Loss 4.1489 | F score 0.7635 with thresh 0.91\n"
     ]
    },
    {
     "data": {
      "application/vnd.jupyter.widget-view+json": {
       "model_id": "",
       "version_major": 2,
       "version_minor": 0
      },
      "text/plain": [
       "HBox(children=(HTML(value=''), FloatProgress(value=0.0, max=536.0), HTML(value='')))"
      ]
     },
     "metadata": {},
     "output_type": "display_data"
    },
    {
     "data": {
      "application/vnd.jupyter.widget-view+json": {
       "model_id": "",
       "version_major": 2,
       "version_minor": 0
      },
      "text/plain": [
       "HBox(children=(HTML(value='Thresholds'), FloatProgress(value=0.0, max=5.0), HTML(value='')))"
      ]
     },
     "metadata": {},
     "output_type": "display_data"
    },
    {
     "name": "stdout",
     "output_type": "stream",
     "text": [
      "Checkpoint : saved model to data/text_models/2april_ep_6.pth\n",
      "Ep 6: Loss 4.2318 | F score 0.7689 with thresh 0.91\n"
     ]
    },
    {
     "data": {
      "application/vnd.jupyter.widget-view+json": {
       "model_id": "",
       "version_major": 2,
       "version_minor": 0
      },
      "text/plain": [
       "HBox(children=(HTML(value=''), FloatProgress(value=0.0, max=536.0), HTML(value='')))"
      ]
     },
     "metadata": {},
     "output_type": "display_data"
    },
    {
     "data": {
      "application/vnd.jupyter.widget-view+json": {
       "model_id": "",
       "version_major": 2,
       "version_minor": 0
      },
      "text/plain": [
       "HBox(children=(HTML(value='Thresholds'), FloatProgress(value=0.0, max=5.0), HTML(value='')))"
      ]
     },
     "metadata": {},
     "output_type": "display_data"
    },
    {
     "name": "stdout",
     "output_type": "stream",
     "text": [
      "Ep 7: Loss 3.5823 | F score 0.7966 with thresh 0.91\n"
     ]
    },
    {
     "data": {
      "application/vnd.jupyter.widget-view+json": {
       "model_id": "",
       "version_major": 2,
       "version_minor": 0
      },
      "text/plain": [
       "HBox(children=(HTML(value=''), FloatProgress(value=0.0, max=536.0), HTML(value='')))"
      ]
     },
     "metadata": {},
     "output_type": "display_data"
    },
    {
     "data": {
      "application/vnd.jupyter.widget-view+json": {
       "model_id": "",
       "version_major": 2,
       "version_minor": 0
      },
      "text/plain": [
       "HBox(children=(HTML(value='Thresholds'), FloatProgress(value=0.0, max=5.0), HTML(value='')))"
      ]
     },
     "metadata": {},
     "output_type": "display_data"
    },
    {
     "name": "stdout",
     "output_type": "stream",
     "text": [
      "Checkpoint : saved model to data/text_models/2april_ep_8.pth\n",
      "Ep 8: Loss 2.9327 | F score 0.8247 with thresh 0.91\n"
     ]
    },
    {
     "data": {
      "application/vnd.jupyter.widget-view+json": {
       "model_id": "",
       "version_major": 2,
       "version_minor": 0
      },
      "text/plain": [
       "HBox(children=(HTML(value=''), FloatProgress(value=0.0, max=536.0), HTML(value='')))"
      ]
     },
     "metadata": {},
     "output_type": "display_data"
    },
    {
     "data": {
      "application/vnd.jupyter.widget-view+json": {
       "model_id": "",
       "version_major": 2,
       "version_minor": 0
      },
      "text/plain": [
       "HBox(children=(HTML(value='Thresholds'), FloatProgress(value=0.0, max=5.0), HTML(value='')))"
      ]
     },
     "metadata": {},
     "output_type": "display_data"
    },
    {
     "name": "stdout",
     "output_type": "stream",
     "text": [
      "Ep 9: Loss 2.5338 | F score 0.8433 with thresh 0.91\n"
     ]
    }
   ],
   "source": [
    "best_thr_score, thr_score_hist, losses = train_full_data(model, optimizer, lf, sched, metric_fc, tr_dl,\n",
    "                                               n_epochs, train_df, \n",
    "                                               save_path=save_path, \n",
    "                                               prev_best_info=best_thr_score, info_history=thr_score_hist,\n",
    "                                               ep_start=ep_start)\n",
    "loss_hist.append(losses)\n",
    "ep_start += n_epochs"
   ]
  },
  {
   "cell_type": "code",
   "execution_count": 17,
   "metadata": {},
   "outputs": [],
   "source": [
    "torch.save(metric_fc.state_dict(), save_path+'_met_3fr.pth')\n",
    "torch.save(model.state_dict(), save_path+'_mod_3fr.pth')"
   ]
  },
  {
   "cell_type": "markdown",
   "metadata": {},
   "source": [
    "#### Third train"
   ]
  },
  {
   "cell_type": "code",
   "execution_count": 12,
   "metadata": {},
   "outputs": [
    {
     "data": {
      "text/plain": [
       "<All keys matched successfully>"
      ]
     },
     "execution_count": 12,
     "metadata": {},
     "output_type": "execute_result"
    }
   ],
   "source": [
    "model.load_state_dict(torch.load(save_path+'_mod_3fr.pth'))\n",
    "metric_fc.load_state_dict(torch.load(save_path+'_met_3fr.pth'))"
   ]
  },
  {
   "cell_type": "code",
   "execution_count": 13,
   "metadata": {},
   "outputs": [],
   "source": [
    "ep_start = 10\n",
    "bs = 32\n",
    "tr_test_dl = DataLoader(tr_ds, batch_size = bs_val, shuffle = False, pin_memory = True)\n",
    "tr_dl = DataLoader(tr_ds, batch_size = bs, shuffle = True, pin_memory = True)"
   ]
  },
  {
   "cell_type": "code",
   "execution_count": 14,
   "metadata": {},
   "outputs": [
    {
     "name": "stdout",
     "output_type": "stream",
     "text": [
      "Unfroze 5 parameters\n"
     ]
    }
   ],
   "source": [
    "n_epochs, lf, params, optimizer, sched = get_hparams(tr_dl, model, metric_fc, lr=3e-5, n_epochs=3)\n",
    "freeze_bert_embeddings(model)\n",
    "freeze(model)"
   ]
  },
  {
   "cell_type": "code",
   "execution_count": 15,
   "metadata": {},
   "outputs": [],
   "source": [
    "unfreeze(model)"
   ]
  },
  {
   "cell_type": "code",
   "execution_count": 16,
   "metadata": {
    "scrolled": true
   },
   "outputs": [
    {
     "data": {
      "application/vnd.jupyter.widget-view+json": {
       "model_id": "",
       "version_major": 2,
       "version_minor": 0
      },
      "text/plain": [
       "HBox(children=(HTML(value=''), FloatProgress(value=0.0, max=3.0), HTML(value='')))"
      ]
     },
     "metadata": {},
     "output_type": "display_data"
    },
    {
     "data": {
      "application/vnd.jupyter.widget-view+json": {
       "model_id": "",
       "version_major": 2,
       "version_minor": 0
      },
      "text/plain": [
       "HBox(children=(HTML(value=''), FloatProgress(value=0.0, max=1071.0), HTML(value='')))"
      ]
     },
     "metadata": {},
     "output_type": "display_data"
    },
    {
     "data": {
      "application/vnd.jupyter.widget-view+json": {
       "model_id": "",
       "version_major": 2,
       "version_minor": 0
      },
      "text/plain": [
       "HBox(children=(HTML(value='Thresholds'), FloatProgress(value=0.0, max=10.0), HTML(value='')))"
      ]
     },
     "metadata": {},
     "output_type": "display_data"
    },
    {
     "name": "stdout",
     "output_type": "stream",
     "text": [
      "Checkpoint : saved model to data/text_models/2april_ep_12.pth\n",
      "Ep 12: Loss 1.9958 | F score 0.8790 with thresh 0.91\n"
     ]
    },
    {
     "data": {
      "application/vnd.jupyter.widget-view+json": {
       "model_id": "",
       "version_major": 2,
       "version_minor": 0
      },
      "text/plain": [
       "HBox(children=(HTML(value=''), FloatProgress(value=0.0, max=1071.0), HTML(value='')))"
      ]
     },
     "metadata": {},
     "output_type": "display_data"
    },
    {
     "data": {
      "application/vnd.jupyter.widget-view+json": {
       "model_id": "",
       "version_major": 2,
       "version_minor": 0
      },
      "text/plain": [
       "HBox(children=(HTML(value='Thresholds'), FloatProgress(value=0.0, max=5.0), HTML(value='')))"
      ]
     },
     "metadata": {},
     "output_type": "display_data"
    },
    {
     "name": "stdout",
     "output_type": "stream",
     "text": [
      "Ep 13: Loss 1.9210 | F score 0.8867 with thresh 0.96\n"
     ]
    },
    {
     "data": {
      "application/vnd.jupyter.widget-view+json": {
       "model_id": "",
       "version_major": 2,
       "version_minor": 0
      },
      "text/plain": [
       "HBox(children=(HTML(value=''), FloatProgress(value=0.0, max=1071.0), HTML(value='')))"
      ]
     },
     "metadata": {},
     "output_type": "display_data"
    },
    {
     "data": {
      "application/vnd.jupyter.widget-view+json": {
       "model_id": "",
       "version_major": 2,
       "version_minor": 0
      },
      "text/plain": [
       "HBox(children=(HTML(value='Thresholds'), FloatProgress(value=0.0, max=5.0), HTML(value='')))"
      ]
     },
     "metadata": {},
     "output_type": "display_data"
    },
    {
     "name": "stdout",
     "output_type": "stream",
     "text": [
      "Checkpoint : saved model to data/text_models/2april_ep_14.pth\n",
      "Ep 14: Loss 1.4027 | F score 0.9160 with thresh 0.91\n"
     ]
    }
   ],
   "source": [
    "best_thr_score, thr_score_hist, losses = train_full_data(model, optimizer, lf, sched, metric_fc, tr_dl,\n",
    "                                               n_epochs, train_df, \n",
    "                                               save_path=save_path, \n",
    "                                               prev_best_info=best_thr_score, info_history=thr_score_hist,\n",
    "                                               ep_start=ep_start)\n",
    "loss_hist.append(losses)\n",
    "ep_start += n_epochs"
   ]
  },
  {
   "cell_type": "code",
   "execution_count": 17,
   "metadata": {},
   "outputs": [],
   "source": [
    "torch.save(model.text_embedor, save_path + '_embedor.pth')"
   ]
  },
  {
   "cell_type": "markdown",
   "metadata": {},
   "source": [
    "#### Emdeddings"
   ]
  },
  {
   "cell_type": "code",
   "execution_count": 18,
   "metadata": {},
   "outputs": [],
   "source": [
    "full_dl = DataLoader(full_ds, batch_size = bs_val, shuffle = False, pin_memory = True)"
   ]
  },
  {
   "cell_type": "code",
   "execution_count": 19,
   "metadata": {},
   "outputs": [
    {
     "data": {
      "application/vnd.jupyter.widget-view+json": {
       "model_id": "",
       "version_major": 2,
       "version_minor": 0
      },
      "text/plain": [
       "HBox(children=(HTML(value=''), FloatProgress(value=0.0, max=268.0), HTML(value='')))"
      ]
     },
     "metadata": {},
     "output_type": "display_data"
    }
   ],
   "source": [
    "model.eval()\n",
    "with torch.no_grad():\n",
    "    pbar = tqdm(full_dl, leave=False)\n",
    "    embs = []\n",
    "    for txts, _ in pbar:\n",
    "        txts = text_to_device(txts, device)\n",
    "        feature =  model(txts)\n",
    "        embs.append(feature)\n",
    "    embs = F.normalize(torch.cat(embs, 0))"
   ]
  },
  {
   "cell_type": "code",
   "execution_count": 20,
   "metadata": {},
   "outputs": [
    {
     "data": {
      "text/plain": [
       "tensor([ 1.5977e-02,  9.4843e-03,  2.0199e-02,  1.6982e-02, -5.0291e-02,\n",
       "        -6.1617e-02,  2.2312e-02,  4.2507e-02, -1.6077e-02, -1.2120e-02,\n",
       "        -2.7322e-02, -7.6870e-02,  2.7255e-02,  1.5592e-03, -2.4130e-02,\n",
       "        -5.4400e-02, -2.4130e-02,  1.3481e-02, -3.1603e-02,  1.0400e-02,\n",
       "         1.2031e-03,  3.0889e-06,  1.0955e-02, -2.9942e-02, -1.1964e-02,\n",
       "        -3.3817e-02, -6.7162e-03,  4.1907e-02, -1.0435e-02,  1.1434e-02,\n",
       "         7.3929e-03,  1.6875e-04, -3.2573e-02,  7.1702e-03, -6.0602e-02,\n",
       "         7.2440e-05, -9.2028e-02,  4.1442e-02,  1.4289e-02, -3.5879e-02,\n",
       "        -5.8619e-02,  3.7181e-02,  2.4544e-02,  1.9276e-02, -6.4000e-02,\n",
       "         1.1204e-02, -4.0711e-02,  1.9459e-02, -3.6747e-02, -2.1809e-02,\n",
       "        -3.5360e-02, -3.2383e-02, -5.4108e-03, -5.0785e-02, -6.1764e-02,\n",
       "         1.7699e-02, -4.8104e-02,  1.6161e-03, -2.2236e-02, -2.1278e-02,\n",
       "        -3.2169e-02,  2.0870e-02, -8.3363e-03, -1.6318e-03,  2.3984e-02,\n",
       "        -5.3105e-02,  1.8196e-03,  8.3667e-03,  9.9159e-03, -1.7424e-02,\n",
       "         4.1120e-02,  9.6036e-04,  5.1003e-02, -4.0271e-03, -2.1370e-02,\n",
       "        -2.6756e-02, -2.7652e-02, -7.2826e-02, -4.9814e-02,  2.4228e-02,\n",
       "         2.0915e-02,  8.5616e-02, -1.0696e-02, -6.4272e-03,  7.7759e-03,\n",
       "        -3.2807e-03, -1.7776e-02,  3.8707e-02, -2.5205e-02,  4.8337e-02,\n",
       "         2.3914e-02, -3.3948e-02, -1.2902e-02, -3.7158e-02,  1.0383e-02,\n",
       "         1.2612e-02, -6.5941e-02,  3.9940e-02, -1.2408e-02, -3.5027e-03,\n",
       "        -2.8551e-02, -1.0366e-02,  3.1640e-02, -1.3101e-03, -1.4764e-02,\n",
       "         5.2936e-03,  5.9102e-02, -3.7965e-02,  2.6016e-02,  2.7610e-03,\n",
       "        -4.4601e-02,  3.0175e-02, -6.7224e-02,  1.6403e-03, -2.3660e-02,\n",
       "         2.5388e-02,  1.7840e-02,  4.8073e-03,  1.6307e-02, -5.7116e-03,\n",
       "         1.3741e-03, -7.9071e-02, -7.2909e-02, -8.6013e-03,  1.0148e-02,\n",
       "         6.4183e-03, -6.5074e-03,  4.5330e-02, -4.2529e-02, -8.9549e-03,\n",
       "        -1.5099e-02,  2.4201e-02,  5.7352e-02, -4.9325e-02,  2.4999e-02,\n",
       "         3.1407e-02, -5.1414e-02,  3.0887e-02,  1.0138e-02, -2.9248e-02,\n",
       "         2.5870e-02,  4.0403e-03,  1.1950e-02, -7.8316e-03,  3.1716e-02,\n",
       "         2.1738e-02,  1.0378e-03,  3.1212e-02, -6.7502e-02,  1.3427e-02,\n",
       "        -2.8646e-02,  2.3363e-02,  1.6388e-02, -2.8557e-02, -2.5535e-02,\n",
       "        -8.2140e-02,  1.2128e-03,  2.2662e-02, -9.6091e-03, -5.4716e-02,\n",
       "        -3.6974e-02,  7.3180e-02, -2.8761e-02,  8.8764e-03,  1.3283e-02,\n",
       "        -7.1850e-02,  4.2849e-02, -2.5241e-02, -3.2370e-02, -1.3672e-02,\n",
       "        -3.4462e-03,  2.1130e-02,  2.0684e-02, -9.0475e-03, -2.9429e-03,\n",
       "         1.7482e-02, -4.8814e-02, -1.2364e-02, -5.1054e-02,  2.9606e-02,\n",
       "         9.8453e-03,  2.8156e-02, -1.5055e-02, -2.1443e-02, -5.6075e-02,\n",
       "         3.1875e-02, -2.6054e-02, -7.6778e-03,  8.0813e-02, -9.6833e-03,\n",
       "         1.4522e-02,  3.2129e-02,  1.1551e-02, -3.4947e-02,  6.7925e-02,\n",
       "         1.7815e-02,  6.3094e-03, -8.9641e-02,  3.7188e-02, -3.7032e-02,\n",
       "         1.6695e-02,  4.7503e-02,  3.4233e-02,  2.9989e-02,  1.5937e-02,\n",
       "        -1.2326e-02,  5.9297e-04,  6.9358e-03, -4.5600e-02, -5.6790e-03,\n",
       "         3.1117e-02,  1.0939e-02,  7.0259e-02, -4.7174e-02,  7.5676e-02,\n",
       "         1.4393e-02,  7.7899e-02,  8.2332e-03, -1.1774e-02, -2.6060e-02,\n",
       "        -1.7445e-02,  1.4668e-02,  2.6404e-02, -3.0944e-02,  6.1269e-03,\n",
       "        -5.8307e-03, -7.4308e-02,  7.0265e-04, -8.9470e-02,  5.8995e-03,\n",
       "        -7.7167e-02,  9.8257e-03, -3.7425e-02,  1.2641e-03, -9.6284e-03,\n",
       "        -1.3996e-02,  2.9521e-02,  3.4270e-02, -6.0236e-04,  3.0531e-02,\n",
       "         6.2224e-02, -1.9040e-02,  4.5867e-02,  1.4914e-02,  2.9021e-02,\n",
       "         7.5430e-02, -2.4011e-02, -3.0873e-02, -2.4670e-02, -2.7123e-02,\n",
       "        -9.8881e-03, -2.9338e-02,  1.7425e-02, -2.0605e-02, -3.5521e-03,\n",
       "         3.3768e-03,  1.0257e-02,  1.9183e-02, -2.3428e-02,  1.2404e-03,\n",
       "        -2.6416e-03, -6.8014e-02, -4.4035e-02, -2.9086e-02,  2.4780e-02,\n",
       "         6.4796e-02, -9.0320e-02,  3.3842e-02, -5.1444e-02, -7.2742e-02,\n",
       "        -2.3256e-02,  8.7810e-03,  3.3656e-02,  1.0202e-02, -3.0740e-02,\n",
       "        -1.4785e-02,  1.1552e-01,  4.1131e-02,  5.2230e-02, -4.4559e-02,\n",
       "         3.5831e-02, -3.4683e-03,  1.0357e-02,  3.9509e-02,  1.9477e-02,\n",
       "        -2.5774e-02,  2.7235e-03, -4.5334e-02,  4.3729e-02, -1.4216e-02,\n",
       "        -5.1815e-02,  3.4617e-02, -5.5252e-03,  1.0901e-03, -5.3542e-02,\n",
       "        -1.4059e-02, -7.8660e-03, -1.0312e-01, -3.0092e-03,  8.2302e-03,\n",
       "         4.6313e-02,  4.1719e-03, -3.0682e-02,  6.4884e-02, -3.7365e-02,\n",
       "         2.4632e-02, -1.3189e-02,  4.3337e-02,  4.5472e-02,  1.3594e-02,\n",
       "         1.6258e-02,  2.9279e-02,  4.0621e-02, -1.0236e-02, -3.4126e-02,\n",
       "        -1.5594e-02,  1.2295e-02,  2.8605e-02, -2.5996e-02, -2.8795e-02,\n",
       "        -5.8580e-02, -8.3621e-03,  1.8091e-02,  4.2665e-02,  6.0663e-02,\n",
       "         1.1660e-02,  6.0094e-02, -4.7794e-02,  2.3843e-02, -3.8560e-02,\n",
       "         2.3040e-02,  1.0907e-01, -2.2042e-02,  2.7931e-02, -3.6445e-02,\n",
       "         3.8604e-02, -2.9812e-02, -8.7042e-03, -4.6601e-02, -2.8914e-02,\n",
       "        -2.3983e-03,  2.3780e-02, -2.5013e-03,  2.4283e-02,  2.2051e-02,\n",
       "        -4.6943e-02, -3.2520e-03,  1.7931e-03, -8.6537e-03,  4.6783e-02,\n",
       "        -1.0525e-02, -2.1494e-02,  1.8818e-02, -5.0559e-02,  4.3209e-02,\n",
       "         2.9873e-02,  4.8873e-02,  1.0595e-03,  2.7831e-02,  1.8179e-02,\n",
       "         5.0633e-03, -7.8570e-02, -2.3406e-02,  6.1167e-02,  8.6264e-03,\n",
       "        -5.3176e-02,  5.3685e-02,  1.8744e-02, -2.6408e-03, -2.7351e-03,\n",
       "        -2.2956e-02, -1.7280e-02, -1.5637e-02, -1.0805e-02,  8.7278e-05,\n",
       "         5.0229e-02,  4.6326e-02,  5.0193e-02, -4.0357e-02,  1.2302e-02,\n",
       "        -4.0951e-02,  2.4011e-02, -5.0963e-02,  6.2574e-02,  1.6702e-02,\n",
       "        -4.4795e-02,  1.0040e-03,  5.7973e-02, -1.1929e-02,  1.4372e-02,\n",
       "         4.1591e-02,  1.2127e-01,  1.5167e-02,  9.0730e-03, -3.7039e-02,\n",
       "        -1.0110e-02,  5.1180e-02,  3.8675e-03, -5.1305e-02, -5.8391e-03,\n",
       "         2.8111e-02,  2.7612e-02, -3.5529e-02,  3.2291e-02, -6.2851e-02,\n",
       "         2.8962e-02,  1.2146e-01,  4.7831e-02,  3.6385e-02, -2.8231e-02,\n",
       "        -1.1636e-01,  2.4811e-02, -2.3116e-03, -1.3962e-01, -4.1456e-02,\n",
       "        -2.1780e-02, -1.2501e-02, -4.2404e-02,  4.6706e-03, -4.1093e-03,\n",
       "         3.2173e-02, -2.2156e-02,  4.5810e-02,  2.7111e-02,  2.0012e-02,\n",
       "        -1.9901e-02,  2.1601e-02,  1.1456e-02,  3.1477e-02,  4.0308e-03,\n",
       "        -4.3713e-03,  2.0517e-02,  2.2575e-02,  1.9596e-03, -2.4931e-02,\n",
       "        -7.8051e-03,  7.4533e-02, -7.1558e-03, -4.3680e-02,  3.1959e-02,\n",
       "        -2.4297e-02,  3.4207e-02, -2.0712e-02,  1.7719e-02,  1.3378e-02,\n",
       "        -6.3021e-02,  1.4218e-02,  6.0350e-03, -8.4429e-02,  7.2167e-02,\n",
       "         1.1245e-02,  1.8768e-02, -2.2912e-02,  1.6823e-02,  4.7202e-02,\n",
       "        -1.0722e-02, -4.7197e-02, -3.8689e-02,  2.5668e-03,  1.4584e-02,\n",
       "        -4.3017e-02, -1.5316e-02, -1.7970e-03,  3.1076e-02, -3.9009e-03,\n",
       "        -3.9634e-02, -3.1021e-02, -6.9953e-03,  1.0825e-02,  1.5664e-02,\n",
       "         1.0934e-01, -5.6781e-03,  3.0699e-02,  6.7763e-02,  6.8964e-02,\n",
       "         2.2233e-04, -4.0827e-02, -2.7034e-02, -1.5035e-02,  2.7796e-02,\n",
       "        -1.6988e-02,  1.7986e-02,  7.1785e-02, -4.6683e-03,  2.1897e-03,\n",
       "        -2.0576e-02, -1.1557e-02, -1.1204e-02,  3.7196e-02,  4.7008e-02,\n",
       "        -9.2473e-03, -1.1596e-02,  4.1495e-03,  5.8824e-02,  5.9626e-04,\n",
       "         3.9408e-02, -5.1094e-03,  3.2003e-02,  8.9078e-02,  8.2894e-02,\n",
       "         2.1612e-02, -2.1880e-02,  2.3514e-02,  1.3015e-02, -3.8622e-03,\n",
       "        -4.1767e-02, -2.3416e-02,  1.0716e-02,  4.6128e-02,  2.5601e-02,\n",
       "         7.6871e-04,  3.3012e-03, -1.1570e-02,  1.1540e-02, -3.1090e-02,\n",
       "        -2.5568e-02, -5.3014e-03,  2.7594e-02, -5.1022e-02, -4.1737e-02,\n",
       "         2.1953e-02, -1.2164e-02,  1.5369e-02,  1.5900e-02, -3.0626e-02,\n",
       "        -1.6474e-03,  3.0866e-02,  2.8844e-03,  1.8698e-02, -3.1549e-02,\n",
       "         2.9689e-02,  4.1255e-02,  2.7316e-02,  4.7644e-02, -9.1032e-02,\n",
       "         2.1522e-02,  3.4673e-02, -1.6728e-02, -1.9566e-02, -4.5672e-03,\n",
       "         2.0939e-02,  2.3066e-02,  1.1020e-02,  4.7565e-02, -4.8014e-02,\n",
       "         1.5907e-02, -5.5281e-02,  2.4406e-02, -3.1456e-02, -1.8572e-02,\n",
       "         2.1031e-03, -3.7123e-03,  2.1373e-02, -1.5195e-02,  4.1419e-02,\n",
       "         9.9198e-03,  1.1231e-02,  9.8097e-03, -6.7967e-02,  3.1219e-02,\n",
       "         2.2541e-02,  1.0139e-02,  2.9827e-02,  8.1732e-03,  2.4849e-03,\n",
       "         5.2287e-02,  1.6174e-02,  3.2103e-02,  6.4869e-02, -3.8823e-02,\n",
       "        -4.2157e-03, -9.9646e-03,  3.9324e-03,  2.8408e-02,  1.0113e-02,\n",
       "        -2.7351e-02, -3.3396e-02,  1.3602e-03, -4.5187e-02, -6.6712e-03,\n",
       "        -5.3203e-02, -8.9926e-02,  4.2662e-02,  4.0555e-02,  1.7989e-02,\n",
       "         2.2743e-02,  5.5046e-02,  2.0213e-02,  1.9672e-02,  9.1619e-03,\n",
       "        -2.7896e-03, -2.8610e-02, -2.1102e-02, -4.7529e-02, -3.5690e-03,\n",
       "        -5.0541e-02,  1.5508e-02,  4.0957e-02,  1.5131e-02,  6.6599e-02,\n",
       "        -4.2888e-02, -6.9868e-03,  3.4014e-02,  6.9950e-03,  4.9677e-03,\n",
       "         5.5178e-02,  3.7379e-02, -4.5206e-02,  9.8116e-03, -9.8447e-03,\n",
       "        -1.0833e-02, -6.8394e-03,  1.3646e-02, -2.0508e-03, -1.8520e-02,\n",
       "        -5.1915e-02, -4.2047e-02, -2.1286e-02,  2.3757e-02, -2.9839e-02,\n",
       "        -4.7168e-02,  3.1201e-02, -4.5672e-02, -3.3451e-03,  3.3914e-02,\n",
       "         3.7343e-02,  1.0137e-02, -1.2700e-02, -3.9540e-02, -9.3246e-03,\n",
       "        -4.4521e-02,  5.5870e-03,  6.2930e-03,  1.8375e-04, -4.9043e-02,\n",
       "         3.4340e-02,  5.4055e-02, -2.7283e-02, -1.3000e-02, -1.0079e-02,\n",
       "        -4.7774e-02,  3.0875e-02,  3.8142e-02,  1.4496e-02, -8.6608e-03,\n",
       "         4.4028e-02,  2.7912e-02,  1.1095e-04, -3.5465e-02, -5.1189e-03,\n",
       "        -6.7379e-02,  1.3957e-02,  4.2393e-02, -7.1369e-03,  4.7892e-02,\n",
       "         5.5071e-03, -5.3242e-03, -5.4825e-02, -4.3759e-03,  6.7670e-03,\n",
       "         6.4577e-02,  5.5877e-02, -6.8546e-02,  2.5738e-02,  3.3865e-02,\n",
       "         7.0961e-03,  5.6119e-02,  8.7337e-02, -3.0347e-02, -3.6986e-02,\n",
       "         1.1774e-02,  4.0833e-02,  6.1907e-02,  6.3300e-02,  2.7622e-02,\n",
       "         1.8924e-02,  7.7051e-02,  5.0018e-03,  4.4197e-03, -1.7303e-02,\n",
       "        -6.7521e-03,  4.1320e-02, -7.3981e-02,  1.0823e-02, -4.2830e-02,\n",
       "        -6.5806e-02,  3.2751e-02,  8.7834e-03,  8.8345e-03, -4.2913e-03,\n",
       "         1.8432e-03, -2.9544e-03, -1.7197e-02,  6.6834e-04,  3.6274e-02,\n",
       "         5.2173e-03, -2.5340e-03,  3.2630e-02,  1.0537e-02,  3.2025e-02,\n",
       "        -3.7336e-04, -1.0254e-02,  7.8332e-03, -1.9877e-02, -5.6511e-02,\n",
       "        -2.3054e-03, -1.5758e-02,  3.7181e-03, -8.8821e-03,  4.6813e-03,\n",
       "         5.7628e-02, -5.0143e-02, -4.1783e-02,  1.0483e-03, -5.9801e-02,\n",
       "        -2.8396e-03, -3.7950e-02, -5.1980e-02,  2.1116e-02, -1.4225e-02,\n",
       "         3.3643e-02,  1.5247e-02, -1.2384e-02,  7.7993e-02, -5.9669e-02,\n",
       "         3.1408e-02, -6.6294e-03, -4.0881e-02, -3.1711e-03,  3.4650e-02,\n",
       "         1.9054e-02,  1.5549e-02, -1.4449e-02,  1.0178e-01,  4.7440e-02,\n",
       "         1.6909e-02,  6.6767e-03, -2.5541e-02,  5.1925e-03, -1.3331e-02,\n",
       "         1.9336e-02, -4.4389e-02, -7.9594e-03, -7.6740e-02, -9.3521e-03,\n",
       "        -2.8703e-02,  2.3169e-02,  2.8470e-02, -4.1280e-02, -2.1600e-03,\n",
       "        -1.9062e-02, -1.9441e-02,  4.1026e-02, -1.5306e-02,  1.1325e-02,\n",
       "        -2.3969e-02, -7.3555e-03,  2.0855e-02,  2.5679e-02,  2.3330e-02,\n",
       "        -4.9945e-02, -3.7532e-02, -2.8196e-02,  5.9488e-02, -3.1528e-02,\n",
       "        -4.9442e-02, -5.3093e-03, -3.8911e-02], device='cuda:0')"
      ]
     },
     "execution_count": 20,
     "metadata": {},
     "output_type": "execute_result"
    }
   ],
   "source": [
    "embs[0]"
   ]
  },
  {
   "cell_type": "markdown",
   "metadata": {},
   "source": [
    "## Translate"
   ]
  },
  {
   "cell_type": "code",
   "execution_count": 3,
   "metadata": {},
   "outputs": [],
   "source": [
    "df, train_df, val_df, train_labels, val_labels = load_data(train_perc=0.3)"
   ]
  },
  {
   "cell_type": "code",
   "execution_count": 4,
   "metadata": {},
   "outputs": [],
   "source": [
    "from transformers import AutoTokenizer, AutoModelForSeq2SeqLM, pipeline"
   ]
  },
  {
   "cell_type": "code",
   "execution_count": null,
   "metadata": {},
   "outputs": [],
   "source": [
    "tokenizer = AutoTokenizer.from_pretrained(\"../input/id-en-converter\")\n",
    "txt_model = AutoModelForSeq2SeqLM.from_pretrained(\"../input/id-en-converter\")"
   ]
  },
  {
   "cell_type": "code",
   "execution_count": 7,
   "metadata": {
    "scrolled": true
   },
   "outputs": [
    {
     "name": "stderr",
     "output_type": "stream",
     "text": [
      "404 Client Error: Not Found for url: https://huggingface.co/input/id-en-converter/resolve/main/config.json\n"
     ]
    },
    {
     "ename": "OSError",
     "evalue": "Can't load config for '../input/id-en-converter'. Make sure that:\n\n- '../input/id-en-converter' is a correct model identifier listed on 'https://huggingface.co/models'\n\n- or '../input/id-en-converter' is the correct path to a directory containing a config.json file\n\n",
     "output_type": "error",
     "traceback": [
      "\u001b[0;31m---------------------------------------------------------------------------\u001b[0m",
      "\u001b[0;31mHTTPError\u001b[0m                                 Traceback (most recent call last)",
      "\u001b[0;32m~/anaconda3/lib/python3.7/site-packages/transformers/configuration_utils.py\u001b[0m in \u001b[0;36mget_config_dict\u001b[0;34m(cls, pretrained_model_name_or_path, **kwargs)\u001b[0m\n\u001b[1;32m    437\u001b[0m                 \u001b[0mlocal_files_only\u001b[0m\u001b[0;34m=\u001b[0m\u001b[0mlocal_files_only\u001b[0m\u001b[0;34m,\u001b[0m\u001b[0;34m\u001b[0m\u001b[0;34m\u001b[0m\u001b[0m\n\u001b[0;32m--> 438\u001b[0;31m                 \u001b[0muse_auth_token\u001b[0m\u001b[0;34m=\u001b[0m\u001b[0muse_auth_token\u001b[0m\u001b[0;34m,\u001b[0m\u001b[0;34m\u001b[0m\u001b[0;34m\u001b[0m\u001b[0m\n\u001b[0m\u001b[1;32m    439\u001b[0m             )\n",
      "\u001b[0;32m~/anaconda3/lib/python3.7/site-packages/transformers/file_utils.py\u001b[0m in \u001b[0;36mcached_path\u001b[0;34m(url_or_filename, cache_dir, force_download, proxies, resume_download, user_agent, extract_compressed_file, force_extract, use_auth_token, local_files_only)\u001b[0m\n\u001b[1;32m   1137\u001b[0m             \u001b[0muse_auth_token\u001b[0m\u001b[0;34m=\u001b[0m\u001b[0muse_auth_token\u001b[0m\u001b[0;34m,\u001b[0m\u001b[0;34m\u001b[0m\u001b[0;34m\u001b[0m\u001b[0m\n\u001b[0;32m-> 1138\u001b[0;31m             \u001b[0mlocal_files_only\u001b[0m\u001b[0;34m=\u001b[0m\u001b[0mlocal_files_only\u001b[0m\u001b[0;34m,\u001b[0m\u001b[0;34m\u001b[0m\u001b[0;34m\u001b[0m\u001b[0m\n\u001b[0m\u001b[1;32m   1139\u001b[0m         )\n",
      "\u001b[0;32m~/anaconda3/lib/python3.7/site-packages/transformers/file_utils.py\u001b[0m in \u001b[0;36mget_from_cache\u001b[0;34m(url, cache_dir, force_download, proxies, etag_timeout, resume_download, user_agent, use_auth_token, local_files_only)\u001b[0m\n\u001b[1;32m   1295\u001b[0m             \u001b[0mr\u001b[0m \u001b[0;34m=\u001b[0m \u001b[0mrequests\u001b[0m\u001b[0;34m.\u001b[0m\u001b[0mhead\u001b[0m\u001b[0;34m(\u001b[0m\u001b[0murl\u001b[0m\u001b[0;34m,\u001b[0m \u001b[0mheaders\u001b[0m\u001b[0;34m=\u001b[0m\u001b[0mheaders\u001b[0m\u001b[0;34m,\u001b[0m \u001b[0mallow_redirects\u001b[0m\u001b[0;34m=\u001b[0m\u001b[0;32mFalse\u001b[0m\u001b[0;34m,\u001b[0m \u001b[0mproxies\u001b[0m\u001b[0;34m=\u001b[0m\u001b[0mproxies\u001b[0m\u001b[0;34m,\u001b[0m \u001b[0mtimeout\u001b[0m\u001b[0;34m=\u001b[0m\u001b[0metag_timeout\u001b[0m\u001b[0;34m)\u001b[0m\u001b[0;34m\u001b[0m\u001b[0;34m\u001b[0m\u001b[0m\n\u001b[0;32m-> 1296\u001b[0;31m             \u001b[0mr\u001b[0m\u001b[0;34m.\u001b[0m\u001b[0mraise_for_status\u001b[0m\u001b[0;34m(\u001b[0m\u001b[0;34m)\u001b[0m\u001b[0;34m\u001b[0m\u001b[0;34m\u001b[0m\u001b[0m\n\u001b[0m\u001b[1;32m   1297\u001b[0m             \u001b[0metag\u001b[0m \u001b[0;34m=\u001b[0m \u001b[0mr\u001b[0m\u001b[0;34m.\u001b[0m\u001b[0mheaders\u001b[0m\u001b[0;34m.\u001b[0m\u001b[0mget\u001b[0m\u001b[0;34m(\u001b[0m\u001b[0;34m\"X-Linked-Etag\"\u001b[0m\u001b[0;34m)\u001b[0m \u001b[0;32mor\u001b[0m \u001b[0mr\u001b[0m\u001b[0;34m.\u001b[0m\u001b[0mheaders\u001b[0m\u001b[0;34m.\u001b[0m\u001b[0mget\u001b[0m\u001b[0;34m(\u001b[0m\u001b[0;34m\"ETag\"\u001b[0m\u001b[0;34m)\u001b[0m\u001b[0;34m\u001b[0m\u001b[0;34m\u001b[0m\u001b[0m\n",
      "\u001b[0;32m~/anaconda3/lib/python3.7/site-packages/requests/models.py\u001b[0m in \u001b[0;36mraise_for_status\u001b[0;34m(self)\u001b[0m\n\u001b[1;32m    939\u001b[0m         \u001b[0;32mif\u001b[0m \u001b[0mhttp_error_msg\u001b[0m\u001b[0;34m:\u001b[0m\u001b[0;34m\u001b[0m\u001b[0;34m\u001b[0m\u001b[0m\n\u001b[0;32m--> 940\u001b[0;31m             \u001b[0;32mraise\u001b[0m \u001b[0mHTTPError\u001b[0m\u001b[0;34m(\u001b[0m\u001b[0mhttp_error_msg\u001b[0m\u001b[0;34m,\u001b[0m \u001b[0mresponse\u001b[0m\u001b[0;34m=\u001b[0m\u001b[0mself\u001b[0m\u001b[0;34m)\u001b[0m\u001b[0;34m\u001b[0m\u001b[0;34m\u001b[0m\u001b[0m\n\u001b[0m\u001b[1;32m    941\u001b[0m \u001b[0;34m\u001b[0m\u001b[0m\n",
      "\u001b[0;31mHTTPError\u001b[0m: 404 Client Error: Not Found for url: https://huggingface.co/input/id-en-converter/resolve/main/config.json",
      "\nDuring handling of the above exception, another exception occurred:\n",
      "\u001b[0;31mOSError\u001b[0m                                   Traceback (most recent call last)",
      "\u001b[0;32m<ipython-input-7-b18fb987e405>\u001b[0m in \u001b[0;36m<module>\u001b[0;34m\u001b[0m\n\u001b[1;32m      1\u001b[0m \u001b[0;31m#tokenizer = AutoTokenizer.from_pretrained(\"../id-en-converter\")\u001b[0m\u001b[0;34m\u001b[0m\u001b[0;34m\u001b[0m\u001b[0;34m\u001b[0m\u001b[0m\n\u001b[0;32m----> 2\u001b[0;31m \u001b[0mtxt_model\u001b[0m \u001b[0;34m=\u001b[0m \u001b[0mAutoModelForSeq2SeqLM\u001b[0m\u001b[0;34m.\u001b[0m\u001b[0mfrom_pretrained\u001b[0m\u001b[0;34m(\u001b[0m\u001b[0;34m\"../input/id-en-converter\"\u001b[0m\u001b[0;34m)\u001b[0m\u001b[0;34m\u001b[0m\u001b[0;34m\u001b[0m\u001b[0m\n\u001b[0m",
      "\u001b[0;32m~/anaconda3/lib/python3.7/site-packages/transformers/models/auto/modeling_auto.py\u001b[0m in \u001b[0;36mfrom_pretrained\u001b[0;34m(cls, pretrained_model_name_or_path, *model_args, **kwargs)\u001b[0m\n\u001b[1;32m   1295\u001b[0m         \u001b[0;32mif\u001b[0m \u001b[0;32mnot\u001b[0m \u001b[0misinstance\u001b[0m\u001b[0;34m(\u001b[0m\u001b[0mconfig\u001b[0m\u001b[0;34m,\u001b[0m \u001b[0mPretrainedConfig\u001b[0m\u001b[0;34m)\u001b[0m\u001b[0;34m:\u001b[0m\u001b[0;34m\u001b[0m\u001b[0;34m\u001b[0m\u001b[0m\n\u001b[1;32m   1296\u001b[0m             config, kwargs = AutoConfig.from_pretrained(\n\u001b[0;32m-> 1297\u001b[0;31m                 \u001b[0mpretrained_model_name_or_path\u001b[0m\u001b[0;34m,\u001b[0m \u001b[0mreturn_unused_kwargs\u001b[0m\u001b[0;34m=\u001b[0m\u001b[0;32mTrue\u001b[0m\u001b[0;34m,\u001b[0m \u001b[0;34m**\u001b[0m\u001b[0mkwargs\u001b[0m\u001b[0;34m\u001b[0m\u001b[0;34m\u001b[0m\u001b[0m\n\u001b[0m\u001b[1;32m   1298\u001b[0m             )\n\u001b[1;32m   1299\u001b[0m \u001b[0;34m\u001b[0m\u001b[0m\n",
      "\u001b[0;32m~/anaconda3/lib/python3.7/site-packages/transformers/models/auto/configuration_auto.py\u001b[0m in \u001b[0;36mfrom_pretrained\u001b[0;34m(cls, pretrained_model_name_or_path, **kwargs)\u001b[0m\n\u001b[1;32m    385\u001b[0m             \u001b[0;34m{\u001b[0m\u001b[0;34m'foo'\u001b[0m\u001b[0;34m:\u001b[0m \u001b[0;32mFalse\u001b[0m\u001b[0;34m}\u001b[0m\u001b[0;34m\u001b[0m\u001b[0;34m\u001b[0m\u001b[0m\n\u001b[1;32m    386\u001b[0m         \"\"\"\n\u001b[0;32m--> 387\u001b[0;31m         \u001b[0mconfig_dict\u001b[0m\u001b[0;34m,\u001b[0m \u001b[0m_\u001b[0m \u001b[0;34m=\u001b[0m \u001b[0mPretrainedConfig\u001b[0m\u001b[0;34m.\u001b[0m\u001b[0mget_config_dict\u001b[0m\u001b[0;34m(\u001b[0m\u001b[0mpretrained_model_name_or_path\u001b[0m\u001b[0;34m,\u001b[0m \u001b[0;34m**\u001b[0m\u001b[0mkwargs\u001b[0m\u001b[0;34m)\u001b[0m\u001b[0;34m\u001b[0m\u001b[0;34m\u001b[0m\u001b[0m\n\u001b[0m\u001b[1;32m    388\u001b[0m         \u001b[0;32mif\u001b[0m \u001b[0;34m\"model_type\"\u001b[0m \u001b[0;32min\u001b[0m \u001b[0mconfig_dict\u001b[0m\u001b[0;34m:\u001b[0m\u001b[0;34m\u001b[0m\u001b[0;34m\u001b[0m\u001b[0m\n\u001b[1;32m    389\u001b[0m             \u001b[0mconfig_class\u001b[0m \u001b[0;34m=\u001b[0m \u001b[0mCONFIG_MAPPING\u001b[0m\u001b[0;34m[\u001b[0m\u001b[0mconfig_dict\u001b[0m\u001b[0;34m[\u001b[0m\u001b[0;34m\"model_type\"\u001b[0m\u001b[0;34m]\u001b[0m\u001b[0;34m]\u001b[0m\u001b[0;34m\u001b[0m\u001b[0;34m\u001b[0m\u001b[0m\n",
      "\u001b[0;32m~/anaconda3/lib/python3.7/site-packages/transformers/configuration_utils.py\u001b[0m in \u001b[0;36mget_config_dict\u001b[0;34m(cls, pretrained_model_name_or_path, **kwargs)\u001b[0m\n\u001b[1;32m    448\u001b[0m                 \u001b[0;34mf\"- or '{pretrained_model_name_or_path}' is the correct path to a directory containing a {CONFIG_NAME} file\\n\\n\"\u001b[0m\u001b[0;34m\u001b[0m\u001b[0;34m\u001b[0m\u001b[0m\n\u001b[1;32m    449\u001b[0m             )\n\u001b[0;32m--> 450\u001b[0;31m             \u001b[0;32mraise\u001b[0m \u001b[0mEnvironmentError\u001b[0m\u001b[0;34m(\u001b[0m\u001b[0mmsg\u001b[0m\u001b[0;34m)\u001b[0m\u001b[0;34m\u001b[0m\u001b[0;34m\u001b[0m\u001b[0m\n\u001b[0m\u001b[1;32m    451\u001b[0m \u001b[0;34m\u001b[0m\u001b[0m\n\u001b[1;32m    452\u001b[0m         \u001b[0;32mexcept\u001b[0m \u001b[0mjson\u001b[0m\u001b[0;34m.\u001b[0m\u001b[0mJSONDecodeError\u001b[0m\u001b[0;34m:\u001b[0m\u001b[0;34m\u001b[0m\u001b[0;34m\u001b[0m\u001b[0m\n",
      "\u001b[0;31mOSError\u001b[0m: Can't load config for '../input/id-en-converter'. Make sure that:\n\n- '../input/id-en-converter' is a correct model identifier listed on 'https://huggingface.co/models'\n\n- or '../input/id-en-converter' is the correct path to a directory containing a config.json file\n\n"
     ]
    }
   ],
   "source": [
    "#tokenizer = AutoTokenizer.from_pretrained(\"../id-en-converter\")\n",
    "txt_model = AutoModelForSeq2SeqLM.from_pretrained(\"../input/id-en-converter\")"
   ]
  },
  {
   "cell_type": "code",
   "execution_count": null,
   "metadata": {},
   "outputs": [],
   "source": []
  }
 ],
 "metadata": {
  "kernelspec": {
   "display_name": "Python 3",
   "language": "python",
   "name": "python3"
  },
  "language_info": {
   "codemirror_mode": {
    "name": "ipython",
    "version": 3
   },
   "file_extension": ".py",
   "mimetype": "text/x-python",
   "name": "python",
   "nbconvert_exporter": "python",
   "pygments_lexer": "ipython3",
   "version": "3.8.5"
  },
  "toc": {
   "base_numbering": 1,
   "nav_menu": {},
   "number_sections": true,
   "sideBar": true,
   "skip_h1_title": false,
   "title_cell": "Table of Contents",
   "title_sidebar": "Contents",
   "toc_cell": false,
   "toc_position": {},
   "toc_section_display": true,
   "toc_window_display": true
  }
 },
 "nbformat": 4,
 "nbformat_minor": 4
}
