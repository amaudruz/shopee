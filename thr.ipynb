{
 "cells": [
  {
   "cell_type": "markdown",
   "metadata": {
    "toc": true
   },
   "source": [
    "<h1>Table of Contents<span class=\"tocSkip\"></span></h1>\n",
    "<div class=\"toc\"><ul class=\"toc-item\"><li><span><a href=\"#Computing-embs\" data-toc-modified-id=\"Computing-embs-1\"><span class=\"toc-item-num\">1&nbsp;&nbsp;</span>Computing embs</a></span></li><li><span><a href=\"#Thresh-grid-search\" data-toc-modified-id=\"Thresh-grid-search-2\"><span class=\"toc-item-num\">2&nbsp;&nbsp;</span>Thresh grid search</a></span><ul class=\"toc-item\"><li><span><a href=\"#grid-search\" data-toc-modified-id=\"grid-search-2.1\"><span class=\"toc-item-num\">2.1&nbsp;&nbsp;</span>grid search</a></span><ul class=\"toc-item\"><li><span><a href=\"#Full-dataset\" data-toc-modified-id=\"Full-dataset-2.1.1\"><span class=\"toc-item-num\">2.1.1&nbsp;&nbsp;</span>Full dataset</a></span></li><li><span><a href=\"#train-dataset\" data-toc-modified-id=\"train-dataset-2.1.2\"><span class=\"toc-item-num\">2.1.2&nbsp;&nbsp;</span>train dataset</a></span></li><li><span><a href=\"#val-dataset\" data-toc-modified-id=\"val-dataset-2.1.3\"><span class=\"toc-item-num\">2.1.3&nbsp;&nbsp;</span>val dataset</a></span></li></ul></li></ul></li><li><span><a href=\"#Only-resnet50\" data-toc-modified-id=\"Only-resnet50-3\"><span class=\"toc-item-num\">3&nbsp;&nbsp;</span>Only resnet50</a></span></li><li><span><a href=\"#Tests\" data-toc-modified-id=\"Tests-4\"><span class=\"toc-item-num\">4&nbsp;&nbsp;</span>Tests</a></span></li></ul></div>"
   ]
  },
  {
   "cell_type": "code",
   "execution_count": 1,
   "metadata": {},
   "outputs": [
    {
     "ename": "ModuleNotFoundError",
     "evalue": "No module named 'timm'",
     "output_type": "error",
     "traceback": [
      "\u001b[0;31m---------------------------------------------------------------------------\u001b[0m",
      "\u001b[0;31mModuleNotFoundError\u001b[0m                       Traceback (most recent call last)",
      "\u001b[0;32m<ipython-input-1-bd012751e397>\u001b[0m in \u001b[0;36m<module>\u001b[0;34m\u001b[0m\n\u001b[1;32m     17\u001b[0m \u001b[0;32mfrom\u001b[0m \u001b[0mtorch\u001b[0m\u001b[0;34m.\u001b[0m\u001b[0mutils\u001b[0m\u001b[0;34m.\u001b[0m\u001b[0mdata\u001b[0m \u001b[0;32mimport\u001b[0m \u001b[0mDataset\u001b[0m\u001b[0;34m,\u001b[0m \u001b[0mDataLoader\u001b[0m\u001b[0;34m\u001b[0m\u001b[0;34m\u001b[0m\u001b[0m\n\u001b[1;32m     18\u001b[0m \u001b[0;34m\u001b[0m\u001b[0m\n\u001b[0;32m---> 19\u001b[0;31m \u001b[0;32mimport\u001b[0m \u001b[0mtimm\u001b[0m\u001b[0;34m\u001b[0m\u001b[0;34m\u001b[0m\u001b[0m\n\u001b[0m\u001b[1;32m     20\u001b[0m \u001b[0;34m\u001b[0m\u001b[0m\n\u001b[1;32m     21\u001b[0m \u001b[0;32mfrom\u001b[0m \u001b[0mtransformers\u001b[0m \u001b[0;32mimport\u001b[0m \u001b[0mBertTokenizer\u001b[0m\u001b[0;34m\u001b[0m\u001b[0;34m\u001b[0m\u001b[0m\n",
      "\u001b[0;31mModuleNotFoundError\u001b[0m: No module named 'timm'"
     ]
    }
   ],
   "source": [
    "import os\n",
    "import random\n",
    "import functools\n",
    "from functools import partial\n",
    "import PIL\n",
    "\n",
    "import numpy as np \n",
    "import pandas as pd\n",
    "\n",
    "from tqdm.notebook import tqdm\n",
    "\n",
    "import torch\n",
    "import torch.nn as nn\n",
    "import torch.nn.functional as F\n",
    "import torchvision\n",
    "from torchvision import transforms\n",
    "from torch.utils.data import Dataset, DataLoader\n",
    "\n",
    "import timm\n",
    "\n",
    "from transformers import BertTokenizer\n",
    "from transformers import BertModel\n",
    "\n",
    "from data_process import TripletDS, text_to_device\n",
    "from models import EmbedorNN\n",
    "np.random.seed(1337)"
   ]
  },
  {
   "cell_type": "markdown",
   "metadata": {},
   "source": [
    "## Computing embs"
   ]
  },
  {
   "cell_type": "code",
   "execution_count": 24,
   "metadata": {},
   "outputs": [],
   "source": [
    "??EmbedorNN"
   ]
  },
  {
   "cell_type": "code",
   "execution_count": 2,
   "metadata": {},
   "outputs": [],
   "source": [
    "# load in data\n",
    "df = pd.read_csv('data/train.csv')\n",
    "small_images_dir = 'data/small_train_images'\n",
    "\n",
    "# train val split\n",
    "\n",
    "train_perc = 0.7\n",
    "n_train_examples = int(train_perc * len(df))\n",
    "\n",
    "train_df = df.iloc[:n_train_examples]\n",
    "val_df = df.iloc[n_train_examples:]\n",
    "\n",
    "# creating dataloaders\n",
    "\n",
    "vision_model = 'resnet50'\n",
    "language_model = 'bert-base-uncased'\n",
    "tokenizer = BertTokenizer.from_pretrained(language_model)\n",
    "\n",
    "\n",
    "bs = 32\n",
    "tr_ds = TripletDS(train_df, tokenizer, small_images_dir)\n",
    "tr_dl = DataLoader(tr_ds, batch_size = bs, shuffle = True, pin_memory = True)\n",
    "\n",
    "val_ds = TripletDS(val_df, tokenizer, small_images_dir)\n",
    "val_dl = DataLoader(val_ds, batch_size = bs, shuffle = False, pin_memory = True)\n",
    "\n",
    "device = torch.device('cuda')"
   ]
  },
  {
   "cell_type": "code",
   "execution_count": 3,
   "metadata": {
    "scrolled": true
   },
   "outputs": [],
   "source": [
    "model = EmbedorNN(vision_model, language_model).to(device)"
   ]
  },
  {
   "cell_type": "code",
   "execution_count": 5,
   "metadata": {},
   "outputs": [
    {
     "data": {
      "text/plain": [
       "<All keys matched successfully>"
      ]
     },
     "execution_count": 5,
     "metadata": {},
     "output_type": "execute_result"
    }
   ],
   "source": [
    "model.load_state_dict(torch.load('data/loss_9_0.005.pt'))"
   ]
  },
  {
   "cell_type": "code",
   "execution_count": 7,
   "metadata": {},
   "outputs": [],
   "source": [
    "testing_ds = TripletDS(df, tokenizer, small_images_dir, return_triplet = False)\n",
    "testing_dl = DataLoader(testing_ds, batch_size = bs, shuffle = False, pin_memory = True)"
   ]
  },
  {
   "cell_type": "code",
   "execution_count": 10,
   "metadata": {},
   "outputs": [],
   "source": [
    "normalize = transforms.Normalize(mean=(0.485, 0.456, 0.406),\n",
    "                                 std=(0.229, 0.224, 0.225))\n",
    "\n",
    "val_transforms = transforms.Compose([transforms.Resize((224,224)),\n",
    "                                     normalize\n",
    "                                     ])"
   ]
  },
  {
   "cell_type": "code",
   "execution_count": 11,
   "metadata": {
    "scrolled": true
   },
   "outputs": [
    {
     "data": {
      "application/vnd.jupyter.widget-view+json": {
       "model_id": "adba3627bcc547f5af1ae0d02f7467a5",
       "version_major": 2,
       "version_minor": 0
      },
      "text/plain": [
       "HBox(children=(FloatProgress(value=0.0, max=1071.0), HTML(value='')))"
      ]
     },
     "metadata": {},
     "output_type": "display_data"
    },
    {
     "name": "stdout",
     "output_type": "stream",
     "text": [
      "\n"
     ]
    }
   ],
   "source": [
    "embs = []\n",
    "model.eval()\n",
    "with torch.no_grad():\n",
    "    pbar = tqdm(testing_dl)\n",
    "    for image, text in pbar:\n",
    "        x = val_transforms(image.to(device)), text_to_device(text, device)\n",
    "        y = model(x)\n",
    "        embs.append(y.cpu())"
   ]
  },
  {
   "cell_type": "code",
   "execution_count": 12,
   "metadata": {},
   "outputs": [],
   "source": [
    "embs = torch.cat(embs,0)\n",
    "\n",
    "embs_df = pd.DataFrame(embs.numpy())\n",
    "emb_cols = [f'emb_{i}' for i in embs_df.columns]\n",
    "embs_df.columns = emb_cols\n",
    "embs_df.to_csv('train_embs.csv')\n",
    "\n",
    "\n",
    "embs_df.to_csv('train_embs.csv')"
   ]
  },
  {
   "cell_type": "markdown",
   "metadata": {},
   "source": [
    "## Thresh grid search "
   ]
  },
  {
   "cell_type": "code",
   "execution_count": 3,
   "metadata": {},
   "outputs": [],
   "source": [
    "import pandas as pd\n",
    "import torch\n",
    "import numpy as np\n",
    "import matplotlib.pyplot as plt\n",
    "from tqdm.notebook import tqdm"
   ]
  },
  {
   "cell_type": "code",
   "execution_count": 4,
   "metadata": {},
   "outputs": [],
   "source": [
    "from cuml.neighbors import NearestNeighbors"
   ]
  },
  {
   "cell_type": "code",
   "execution_count": 5,
   "metadata": {},
   "outputs": [],
   "source": [
    "embs, labels = pd.read_csv('train_embs.csv', index_col=0), torch.load('labels.ph')"
   ]
  },
  {
   "cell_type": "code",
   "execution_count": 6,
   "metadata": {},
   "outputs": [],
   "source": [
    "np.random.seed(1337)\n",
    "\n",
    "train_perc = 0.7\n",
    "n_train_examples = int(train_perc * len(embs))\n",
    "\n",
    "train_labels = labels.iloc[:n_train_examples]\n",
    "val_labels = labels.iloc[n_train_examples:]"
   ]
  },
  {
   "cell_type": "code",
   "execution_count": 7,
   "metadata": {},
   "outputs": [],
   "source": [
    "train_embs = embs[:n_train_examples]\n",
    "val_embs = embs[n_train_examples:]"
   ]
  },
  {
   "cell_type": "code",
   "execution_count": 8,
   "metadata": {
    "scrolled": true
   },
   "outputs": [
    {
     "data": {
      "text/html": [
       "<div>\n",
       "<style scoped>\n",
       "    .dataframe tbody tr th:only-of-type {\n",
       "        vertical-align: middle;\n",
       "    }\n",
       "\n",
       "    .dataframe tbody tr th {\n",
       "        vertical-align: top;\n",
       "    }\n",
       "\n",
       "    .dataframe thead th {\n",
       "        text-align: right;\n",
       "    }\n",
       "</style>\n",
       "<table border=\"1\" class=\"dataframe\">\n",
       "  <thead>\n",
       "    <tr style=\"text-align: right;\">\n",
       "      <th></th>\n",
       "      <th>emb_0</th>\n",
       "      <th>emb_1</th>\n",
       "      <th>emb_2</th>\n",
       "      <th>emb_3</th>\n",
       "      <th>emb_4</th>\n",
       "      <th>emb_5</th>\n",
       "      <th>emb_6</th>\n",
       "      <th>emb_7</th>\n",
       "      <th>emb_8</th>\n",
       "      <th>emb_9</th>\n",
       "      <th>...</th>\n",
       "      <th>emb_502</th>\n",
       "      <th>emb_503</th>\n",
       "      <th>emb_504</th>\n",
       "      <th>emb_505</th>\n",
       "      <th>emb_506</th>\n",
       "      <th>emb_507</th>\n",
       "      <th>emb_508</th>\n",
       "      <th>emb_509</th>\n",
       "      <th>emb_510</th>\n",
       "      <th>emb_511</th>\n",
       "    </tr>\n",
       "  </thead>\n",
       "  <tbody>\n",
       "    <tr>\n",
       "      <th>0</th>\n",
       "      <td>0.038600</td>\n",
       "      <td>-0.044721</td>\n",
       "      <td>-0.041830</td>\n",
       "      <td>-0.083153</td>\n",
       "      <td>0.023948</td>\n",
       "      <td>-0.019448</td>\n",
       "      <td>-0.042530</td>\n",
       "      <td>-0.024029</td>\n",
       "      <td>0.037545</td>\n",
       "      <td>-0.038466</td>\n",
       "      <td>...</td>\n",
       "      <td>0.063109</td>\n",
       "      <td>-0.079494</td>\n",
       "      <td>-0.047503</td>\n",
       "      <td>0.081542</td>\n",
       "      <td>-0.026238</td>\n",
       "      <td>0.049447</td>\n",
       "      <td>-0.059719</td>\n",
       "      <td>0.002430</td>\n",
       "      <td>-0.039005</td>\n",
       "      <td>0.030931</td>\n",
       "    </tr>\n",
       "    <tr>\n",
       "      <th>1</th>\n",
       "      <td>0.001940</td>\n",
       "      <td>-0.016763</td>\n",
       "      <td>0.035275</td>\n",
       "      <td>-0.016450</td>\n",
       "      <td>-0.046662</td>\n",
       "      <td>0.016345</td>\n",
       "      <td>-0.009769</td>\n",
       "      <td>-0.146457</td>\n",
       "      <td>0.000695</td>\n",
       "      <td>-0.037863</td>\n",
       "      <td>...</td>\n",
       "      <td>0.064661</td>\n",
       "      <td>-0.038906</td>\n",
       "      <td>-0.011562</td>\n",
       "      <td>-0.038165</td>\n",
       "      <td>0.001208</td>\n",
       "      <td>-0.040753</td>\n",
       "      <td>0.024289</td>\n",
       "      <td>-0.001972</td>\n",
       "      <td>0.013571</td>\n",
       "      <td>-0.003906</td>\n",
       "    </tr>\n",
       "    <tr>\n",
       "      <th>2</th>\n",
       "      <td>0.016056</td>\n",
       "      <td>-0.014849</td>\n",
       "      <td>0.093197</td>\n",
       "      <td>-0.040614</td>\n",
       "      <td>-0.035620</td>\n",
       "      <td>0.013535</td>\n",
       "      <td>-0.019464</td>\n",
       "      <td>-0.018314</td>\n",
       "      <td>-0.036119</td>\n",
       "      <td>-0.005769</td>\n",
       "      <td>...</td>\n",
       "      <td>0.018305</td>\n",
       "      <td>-0.034129</td>\n",
       "      <td>-0.037804</td>\n",
       "      <td>-0.037323</td>\n",
       "      <td>0.087867</td>\n",
       "      <td>-0.018376</td>\n",
       "      <td>0.038292</td>\n",
       "      <td>-0.060192</td>\n",
       "      <td>0.024330</td>\n",
       "      <td>-0.073779</td>\n",
       "    </tr>\n",
       "    <tr>\n",
       "      <th>3</th>\n",
       "      <td>-0.054010</td>\n",
       "      <td>0.004885</td>\n",
       "      <td>0.023995</td>\n",
       "      <td>-0.018338</td>\n",
       "      <td>0.071442</td>\n",
       "      <td>0.024827</td>\n",
       "      <td>-0.059285</td>\n",
       "      <td>0.004270</td>\n",
       "      <td>-0.018626</td>\n",
       "      <td>0.048731</td>\n",
       "      <td>...</td>\n",
       "      <td>0.054015</td>\n",
       "      <td>-0.031777</td>\n",
       "      <td>-0.066990</td>\n",
       "      <td>0.034834</td>\n",
       "      <td>-0.010072</td>\n",
       "      <td>0.009164</td>\n",
       "      <td>-0.034217</td>\n",
       "      <td>0.021796</td>\n",
       "      <td>0.028507</td>\n",
       "      <td>0.039108</td>\n",
       "    </tr>\n",
       "    <tr>\n",
       "      <th>4</th>\n",
       "      <td>-0.032548</td>\n",
       "      <td>0.057746</td>\n",
       "      <td>0.010266</td>\n",
       "      <td>-0.040914</td>\n",
       "      <td>-0.063721</td>\n",
       "      <td>-0.035756</td>\n",
       "      <td>0.066674</td>\n",
       "      <td>0.010233</td>\n",
       "      <td>-0.123327</td>\n",
       "      <td>0.033831</td>\n",
       "      <td>...</td>\n",
       "      <td>-0.039506</td>\n",
       "      <td>0.017430</td>\n",
       "      <td>-0.028667</td>\n",
       "      <td>-0.035315</td>\n",
       "      <td>-0.020148</td>\n",
       "      <td>-0.054920</td>\n",
       "      <td>0.009865</td>\n",
       "      <td>0.088304</td>\n",
       "      <td>0.007486</td>\n",
       "      <td>-0.044139</td>\n",
       "    </tr>\n",
       "  </tbody>\n",
       "</table>\n",
       "<p>5 rows × 512 columns</p>\n",
       "</div>"
      ],
      "text/plain": [
       "      emb_0     emb_1     emb_2     emb_3     emb_4     emb_5     emb_6  \\\n",
       "0  0.038600 -0.044721 -0.041830 -0.083153  0.023948 -0.019448 -0.042530   \n",
       "1  0.001940 -0.016763  0.035275 -0.016450 -0.046662  0.016345 -0.009769   \n",
       "2  0.016056 -0.014849  0.093197 -0.040614 -0.035620  0.013535 -0.019464   \n",
       "3 -0.054010  0.004885  0.023995 -0.018338  0.071442  0.024827 -0.059285   \n",
       "4 -0.032548  0.057746  0.010266 -0.040914 -0.063721 -0.035756  0.066674   \n",
       "\n",
       "      emb_7     emb_8     emb_9  ...   emb_502   emb_503   emb_504   emb_505  \\\n",
       "0 -0.024029  0.037545 -0.038466  ...  0.063109 -0.079494 -0.047503  0.081542   \n",
       "1 -0.146457  0.000695 -0.037863  ...  0.064661 -0.038906 -0.011562 -0.038165   \n",
       "2 -0.018314 -0.036119 -0.005769  ...  0.018305 -0.034129 -0.037804 -0.037323   \n",
       "3  0.004270 -0.018626  0.048731  ...  0.054015 -0.031777 -0.066990  0.034834   \n",
       "4  0.010233 -0.123327  0.033831  ... -0.039506  0.017430 -0.028667 -0.035315   \n",
       "\n",
       "    emb_506   emb_507   emb_508   emb_509   emb_510   emb_511  \n",
       "0 -0.026238  0.049447 -0.059719  0.002430 -0.039005  0.030931  \n",
       "1  0.001208 -0.040753  0.024289 -0.001972  0.013571 -0.003906  \n",
       "2  0.087867 -0.018376  0.038292 -0.060192  0.024330 -0.073779  \n",
       "3 -0.010072  0.009164 -0.034217  0.021796  0.028507  0.039108  \n",
       "4 -0.020148 -0.054920  0.009865  0.088304  0.007486 -0.044139  \n",
       "\n",
       "[5 rows x 512 columns]"
      ]
     },
     "execution_count": 8,
     "metadata": {},
     "output_type": "execute_result"
    }
   ],
   "source": [
    "embs.head()"
   ]
  },
  {
   "cell_type": "code",
   "execution_count": 9,
   "metadata": {
    "scrolled": true
   },
   "outputs": [
    {
     "data": {
      "text/plain": [
       "((34250, 512), (34250,))"
      ]
     },
     "execution_count": 9,
     "metadata": {},
     "output_type": "execute_result"
    }
   ],
   "source": [
    "embs.shape, labels.shape"
   ]
  },
  {
   "cell_type": "code",
   "execution_count": 34,
   "metadata": {},
   "outputs": [],
   "source": [
    "def compute_f1(embeddings, ls, threshold) :\n",
    "    knn = NearestNeighbors(50)\n",
    "    knn.fit(embeddings)\n",
    "    \n",
    "    print('Computing distances...')\n",
    "    distances, indices = knn.kneighbors(embeddings)\n",
    "    \n",
    "    print('Making predictions...')\n",
    "    THRESHOLD = threshold\n",
    "    preds = [[] for _ in range(embeddings.shape[0])]\n",
    "    for i in tqdm(range(distances.shape[0])) :\n",
    "        IDX = np.where(distances[i,]<THRESHOLD)[0]\n",
    "        IDS = indices[i,IDX]\n",
    "        preds[i] = IDS\n",
    "            \n",
    "    print('Computing f1 score...')\n",
    "    label_counts = ls.value_counts()\n",
    "    f_score = 0 \n",
    "    for i in tqdm(range(embeddings.shape[0])) :\n",
    "        tp = 0\n",
    "        fp = 0\n",
    "        true_label = ls.iloc[i]\n",
    "        for index in preds[i] :\n",
    "            if ls.iloc[index] == true_label :\n",
    "                tp += 1\n",
    "            else :\n",
    "                fp += 1\n",
    "        fn = label_counts[true_label] - tp\n",
    "        #print(label_counts[true_label]-1, tp)\n",
    "        f_score += 2*tp / (label_counts[true_label] + len(preds[i]))\n",
    "    f_score = f_score/embeddings.shape[0]\n",
    "    print('f1 score : {}'.format(f_score))\n",
    "    return f_score, preds, distances, indices"
   ]
  },
  {
   "cell_type": "code",
   "execution_count": 8,
   "metadata": {},
   "outputs": [],
   "source": [
    "dists = pairwise_distances(embs[0:4], embs)"
   ]
  },
  {
   "cell_type": "code",
   "execution_count": 35,
   "metadata": {},
   "outputs": [
    {
     "name": "stdout",
     "output_type": "stream",
     "text": [
      "Computing distances...\n",
      "Making predictions...\n"
     ]
    },
    {
     "data": {
      "application/vnd.jupyter.widget-view+json": {
       "model_id": "729548077df04b27ab98fbe3a90d7837",
       "version_major": 2,
       "version_minor": 0
      },
      "text/plain": [
       "  0%|          | 0/34250 [00:00<?, ?it/s]"
      ]
     },
     "metadata": {},
     "output_type": "display_data"
    },
    {
     "name": "stdout",
     "output_type": "stream",
     "text": [
      "Computing f1 score...\n"
     ]
    },
    {
     "data": {
      "application/vnd.jupyter.widget-view+json": {
       "model_id": "98e6f066394440e79756f5939b83fd94",
       "version_major": 2,
       "version_minor": 0
      },
      "text/plain": [
       "  0%|          | 0/34250 [00:00<?, ?it/s]"
      ]
     },
     "metadata": {},
     "output_type": "display_data"
    },
    {
     "name": "stdout",
     "output_type": "stream",
     "text": [
      "f1 score : 0.6494399948480348\n"
     ]
    }
   ],
   "source": [
    "f_score, preds, dists, indx = compute_f1(embs, labels, 0.5)"
   ]
  },
  {
   "cell_type": "markdown",
   "metadata": {},
   "source": [
    "### grid search"
   ]
  },
  {
   "cell_type": "markdown",
   "metadata": {},
   "source": [
    "#### Full dataset"
   ]
  },
  {
   "cell_type": "code",
   "execution_count": 6,
   "metadata": {},
   "outputs": [],
   "source": [
    "def plot_scores(sc) :\n",
    "    thrs, scs = zip(*sc)\n",
    "    plt.plot(thrs, scs)\n",
    "    plt.show()"
   ]
  },
  {
   "cell_type": "code",
   "execution_count": 12,
   "metadata": {
    "scrolled": true
   },
   "outputs": [
    {
     "name": "stdout",
     "output_type": "stream",
     "text": [
      "Computing distances...\n",
      "Making predictions...\n"
     ]
    },
    {
     "data": {
      "application/vnd.jupyter.widget-view+json": {
       "model_id": "994f84fc47f04339a58dfd2ffc0ac31f",
       "version_major": 2,
       "version_minor": 0
      },
      "text/plain": [
       "  0%|          | 0/34250 [00:00<?, ?it/s]"
      ]
     },
     "metadata": {},
     "output_type": "display_data"
    },
    {
     "name": "stdout",
     "output_type": "stream",
     "text": [
      "Computing f1 score...\n"
     ]
    },
    {
     "data": {
      "application/vnd.jupyter.widget-view+json": {
       "model_id": "bd8ae200c4184b779b35592bf1e5e3ab",
       "version_major": 2,
       "version_minor": 0
      },
      "text/plain": [
       "  0%|          | 0/34250 [00:00<?, ?it/s]"
      ]
     },
     "metadata": {},
     "output_type": "display_data"
    },
    {
     "name": "stdout",
     "output_type": "stream",
     "text": [
      "f1 score : 0.44085510399846195\n",
      "Computing distances...\n",
      "Making predictions...\n"
     ]
    },
    {
     "data": {
      "application/vnd.jupyter.widget-view+json": {
       "model_id": "b5e1d0d04da3453a88d4e94c04666a3c",
       "version_major": 2,
       "version_minor": 0
      },
      "text/plain": [
       "  0%|          | 0/34250 [00:00<?, ?it/s]"
      ]
     },
     "metadata": {},
     "output_type": "display_data"
    },
    {
     "name": "stdout",
     "output_type": "stream",
     "text": [
      "Computing f1 score...\n"
     ]
    },
    {
     "data": {
      "application/vnd.jupyter.widget-view+json": {
       "model_id": "d87efc61a90a483dbbbc5e2c00477dff",
       "version_major": 2,
       "version_minor": 0
      },
      "text/plain": [
       "  0%|          | 0/34250 [00:00<?, ?it/s]"
      ]
     },
     "metadata": {},
     "output_type": "display_data"
    },
    {
     "name": "stdout",
     "output_type": "stream",
     "text": [
      "f1 score : 0.47707558388539634\n",
      "Computing distances...\n",
      "Making predictions...\n"
     ]
    },
    {
     "data": {
      "application/vnd.jupyter.widget-view+json": {
       "model_id": "1368b0b0198847869be682d60d3ab9c6",
       "version_major": 2,
       "version_minor": 0
      },
      "text/plain": [
       "  0%|          | 0/34250 [00:00<?, ?it/s]"
      ]
     },
     "metadata": {},
     "output_type": "display_data"
    },
    {
     "name": "stdout",
     "output_type": "stream",
     "text": [
      "Computing f1 score...\n"
     ]
    },
    {
     "data": {
      "application/vnd.jupyter.widget-view+json": {
       "model_id": "c5d7114d5bc64d7dab2c9979b0f1812b",
       "version_major": 2,
       "version_minor": 0
      },
      "text/plain": [
       "  0%|          | 0/34250 [00:00<?, ?it/s]"
      ]
     },
     "metadata": {},
     "output_type": "display_data"
    },
    {
     "name": "stdout",
     "output_type": "stream",
     "text": [
      "f1 score : 0.531335222232999\n",
      "Computing distances...\n",
      "Making predictions...\n"
     ]
    },
    {
     "data": {
      "application/vnd.jupyter.widget-view+json": {
       "model_id": "210027b999f44b4ea449dc56506dc243",
       "version_major": 2,
       "version_minor": 0
      },
      "text/plain": [
       "  0%|          | 0/34250 [00:00<?, ?it/s]"
      ]
     },
     "metadata": {},
     "output_type": "display_data"
    },
    {
     "name": "stdout",
     "output_type": "stream",
     "text": [
      "Computing f1 score...\n"
     ]
    },
    {
     "data": {
      "application/vnd.jupyter.widget-view+json": {
       "model_id": "1e45f87b3ef944fca89dad7f44c9c498",
       "version_major": 2,
       "version_minor": 0
      },
      "text/plain": [
       "  0%|          | 0/34250 [00:00<?, ?it/s]"
      ]
     },
     "metadata": {},
     "output_type": "display_data"
    },
    {
     "name": "stdout",
     "output_type": "stream",
     "text": [
      "f1 score : 0.6141174034283127\n",
      "Computing distances...\n",
      "Making predictions...\n"
     ]
    },
    {
     "data": {
      "application/vnd.jupyter.widget-view+json": {
       "model_id": "4b54c2a6a3f54a0ab1bfbef4d2fd6392",
       "version_major": 2,
       "version_minor": 0
      },
      "text/plain": [
       "  0%|          | 0/34250 [00:00<?, ?it/s]"
      ]
     },
     "metadata": {},
     "output_type": "display_data"
    },
    {
     "name": "stdout",
     "output_type": "stream",
     "text": [
      "Computing f1 score...\n"
     ]
    },
    {
     "data": {
      "application/vnd.jupyter.widget-view+json": {
       "model_id": "7080e71fb92c43f7ac8aad6974e2b488",
       "version_major": 2,
       "version_minor": 0
      },
      "text/plain": [
       "  0%|          | 0/34250 [00:00<?, ?it/s]"
      ]
     },
     "metadata": {},
     "output_type": "display_data"
    },
    {
     "name": "stdout",
     "output_type": "stream",
     "text": [
      "f1 score : 0.6582326927090401\n",
      "Computing distances...\n",
      "Making predictions...\n"
     ]
    },
    {
     "data": {
      "application/vnd.jupyter.widget-view+json": {
       "model_id": "d39473649d6a4a00a01c372c2b9b00e9",
       "version_major": 2,
       "version_minor": 0
      },
      "text/plain": [
       "  0%|          | 0/34250 [00:00<?, ?it/s]"
      ]
     },
     "metadata": {},
     "output_type": "display_data"
    },
    {
     "name": "stdout",
     "output_type": "stream",
     "text": [
      "Computing f1 score...\n"
     ]
    },
    {
     "data": {
      "application/vnd.jupyter.widget-view+json": {
       "model_id": "6f7df65c7c63460c96d95295f92230a8",
       "version_major": 2,
       "version_minor": 0
      },
      "text/plain": [
       "  0%|          | 0/34250 [00:00<?, ?it/s]"
      ]
     },
     "metadata": {},
     "output_type": "display_data"
    },
    {
     "name": "stdout",
     "output_type": "stream",
     "text": [
      "f1 score : 0.618215672372117\n",
      "Computing distances...\n",
      "Making predictions...\n"
     ]
    },
    {
     "data": {
      "application/vnd.jupyter.widget-view+json": {
       "model_id": "e117dd0929f0446cae3b7761a2376d15",
       "version_major": 2,
       "version_minor": 0
      },
      "text/plain": [
       "  0%|          | 0/34250 [00:00<?, ?it/s]"
      ]
     },
     "metadata": {},
     "output_type": "display_data"
    },
    {
     "name": "stdout",
     "output_type": "stream",
     "text": [
      "Computing f1 score...\n"
     ]
    },
    {
     "data": {
      "application/vnd.jupyter.widget-view+json": {
       "model_id": "7de37987868b4078a2d3db32582449b5",
       "version_major": 2,
       "version_minor": 0
      },
      "text/plain": [
       "  0%|          | 0/34250 [00:00<?, ?it/s]"
      ]
     },
     "metadata": {},
     "output_type": "display_data"
    },
    {
     "name": "stdout",
     "output_type": "stream",
     "text": [
      "f1 score : 0.5048914281218272\n",
      "Computing distances...\n",
      "Making predictions...\n"
     ]
    },
    {
     "data": {
      "application/vnd.jupyter.widget-view+json": {
       "model_id": "799bf99ebc374ee2a1bc1c10d5342b1d",
       "version_major": 2,
       "version_minor": 0
      },
      "text/plain": [
       "  0%|          | 0/34250 [00:00<?, ?it/s]"
      ]
     },
     "metadata": {},
     "output_type": "display_data"
    },
    {
     "name": "stdout",
     "output_type": "stream",
     "text": [
      "Computing f1 score...\n"
     ]
    },
    {
     "data": {
      "application/vnd.jupyter.widget-view+json": {
       "model_id": "40f0d2f00e244a1a991555718e2e4777",
       "version_major": 2,
       "version_minor": 0
      },
      "text/plain": [
       "  0%|          | 0/34250 [00:00<?, ?it/s]"
      ]
     },
     "metadata": {},
     "output_type": "display_data"
    },
    {
     "name": "stdout",
     "output_type": "stream",
     "text": [
      "f1 score : 0.34633900550480484\n",
      "Computing distances...\n",
      "Making predictions...\n"
     ]
    },
    {
     "data": {
      "application/vnd.jupyter.widget-view+json": {
       "model_id": "acc09798ce244b699cbff8250d8f0b2a",
       "version_major": 2,
       "version_minor": 0
      },
      "text/plain": [
       "  0%|          | 0/34250 [00:00<?, ?it/s]"
      ]
     },
     "metadata": {},
     "output_type": "display_data"
    },
    {
     "name": "stdout",
     "output_type": "stream",
     "text": [
      "Computing f1 score...\n"
     ]
    },
    {
     "data": {
      "application/vnd.jupyter.widget-view+json": {
       "model_id": "864ace5e5df1484ea06ca3f3bf89a503",
       "version_major": 2,
       "version_minor": 0
      },
      "text/plain": [
       "  0%|          | 0/34250 [00:00<?, ?it/s]"
      ]
     },
     "metadata": {},
     "output_type": "display_data"
    },
    {
     "name": "stdout",
     "output_type": "stream",
     "text": [
      "f1 score : 0.21426705948258165\n",
      "Computing distances...\n",
      "Making predictions...\n"
     ]
    },
    {
     "data": {
      "application/vnd.jupyter.widget-view+json": {
       "model_id": "08e27250c5f94f8c9d0ec652521e3aef",
       "version_major": 2,
       "version_minor": 0
      },
      "text/plain": [
       "  0%|          | 0/34250 [00:00<?, ?it/s]"
      ]
     },
     "metadata": {},
     "output_type": "display_data"
    },
    {
     "name": "stdout",
     "output_type": "stream",
     "text": [
      "Computing f1 score...\n"
     ]
    },
    {
     "data": {
      "application/vnd.jupyter.widget-view+json": {
       "model_id": "bc19f393ed2d466492b0c681455b4613",
       "version_major": 2,
       "version_minor": 0
      },
      "text/plain": [
       "  0%|          | 0/34250 [00:00<?, ?it/s]"
      ]
     },
     "metadata": {},
     "output_type": "display_data"
    },
    {
     "name": "stdout",
     "output_type": "stream",
     "text": [
      "f1 score : 0.17636797150439332\n"
     ]
    }
   ],
   "source": [
    "scores = [(thr, compute_f1(embs, labels, thr)[0]) for thr in np.linspace(0.001, 1, 10)]"
   ]
  },
  {
   "cell_type": "code",
   "execution_count": 24,
   "metadata": {},
   "outputs": [
    {
     "data": {
      "image/png": "[encoded data removed]",
      "text/plain": [
       "<Figure size 432x288 with 1 Axes>"
      ]
     },
     "metadata": {
      "needs_background": "light"
     },
     "output_type": "display_data"
    }
   ],
   "source": [
    "plot_scores(scores)"
   ]
  },
  {
   "cell_type": "code",
   "execution_count": 25,
   "metadata": {
    "scrolled": true
   },
   "outputs": [
    {
     "name": "stdout",
     "output_type": "stream",
     "text": [
      "Computing distances...\n",
      "Making predictions...\n"
     ]
    },
    {
     "data": {
      "application/vnd.jupyter.widget-view+json": {
       "model_id": "c5877941850442e9bc0370d7bff90f58",
       "version_major": 2,
       "version_minor": 0
      },
      "text/plain": [
       "  0%|          | 0/34250 [00:00<?, ?it/s]"
      ]
     },
     "metadata": {},
     "output_type": "display_data"
    },
    {
     "name": "stdout",
     "output_type": "stream",
     "text": [
      "Computing f1 score...\n"
     ]
    },
    {
     "data": {
      "application/vnd.jupyter.widget-view+json": {
       "model_id": "e14c281bc4784183938531a1155b0811",
       "version_major": 2,
       "version_minor": 0
      },
      "text/plain": [
       "  0%|          | 0/34250 [00:00<?, ?it/s]"
      ]
     },
     "metadata": {},
     "output_type": "display_data"
    },
    {
     "name": "stdout",
     "output_type": "stream",
     "text": [
      "f1 score : 0.6483319127584861\n",
      "Computing distances...\n",
      "Making predictions...\n"
     ]
    },
    {
     "data": {
      "application/vnd.jupyter.widget-view+json": {
       "model_id": "6e538b7ddddf47ff8c047123f1b53107",
       "version_major": 2,
       "version_minor": 0
      },
      "text/plain": [
       "  0%|          | 0/34250 [00:00<?, ?it/s]"
      ]
     },
     "metadata": {},
     "output_type": "display_data"
    },
    {
     "name": "stdout",
     "output_type": "stream",
     "text": [
      "Computing f1 score...\n"
     ]
    },
    {
     "data": {
      "application/vnd.jupyter.widget-view+json": {
       "model_id": "925d16d0d9484446ad3e4f045f42aeb3",
       "version_major": 2,
       "version_minor": 0
      },
      "text/plain": [
       "  0%|          | 0/34250 [00:00<?, ?it/s]"
      ]
     },
     "metadata": {},
     "output_type": "display_data"
    },
    {
     "name": "stdout",
     "output_type": "stream",
     "text": [
      "f1 score : 0.655645383146149\n",
      "Computing distances...\n",
      "Making predictions...\n"
     ]
    },
    {
     "data": {
      "application/vnd.jupyter.widget-view+json": {
       "model_id": "daeb4052aa2a44eca25da4b8a017758a",
       "version_major": 2,
       "version_minor": 0
      },
      "text/plain": [
       "  0%|          | 0/34250 [00:00<?, ?it/s]"
      ]
     },
     "metadata": {},
     "output_type": "display_data"
    },
    {
     "name": "stdout",
     "output_type": "stream",
     "text": [
      "Computing f1 score...\n"
     ]
    },
    {
     "data": {
      "application/vnd.jupyter.widget-view+json": {
       "model_id": "edcad22cc958409699da7ce14d01d135",
       "version_major": 2,
       "version_minor": 0
      },
      "text/plain": [
       "  0%|          | 0/34250 [00:00<?, ?it/s]"
      ]
     },
     "metadata": {},
     "output_type": "display_data"
    },
    {
     "name": "stdout",
     "output_type": "stream",
     "text": [
      "f1 score : 0.6582020831707546\n",
      "Computing distances...\n",
      "Making predictions...\n"
     ]
    },
    {
     "data": {
      "application/vnd.jupyter.widget-view+json": {
       "model_id": "861d790bc5914ef5b72cd879dac4ccfb",
       "version_major": 2,
       "version_minor": 0
      },
      "text/plain": [
       "  0%|          | 0/34250 [00:00<?, ?it/s]"
      ]
     },
     "metadata": {},
     "output_type": "display_data"
    },
    {
     "name": "stdout",
     "output_type": "stream",
     "text": [
      "Computing f1 score...\n"
     ]
    },
    {
     "data": {
      "application/vnd.jupyter.widget-view+json": {
       "model_id": "bfc458c3dc8d412b93d8dac40687fc38",
       "version_major": 2,
       "version_minor": 0
      },
      "text/plain": [
       "  0%|          | 0/34250 [00:00<?, ?it/s]"
      ]
     },
     "metadata": {},
     "output_type": "display_data"
    },
    {
     "name": "stdout",
     "output_type": "stream",
     "text": [
      "f1 score : 0.657021008166676\n",
      "Computing distances...\n",
      "Making predictions...\n"
     ]
    },
    {
     "data": {
      "application/vnd.jupyter.widget-view+json": {
       "model_id": "329633abc87d42378c39a6ec4abdbf32",
       "version_major": 2,
       "version_minor": 0
      },
      "text/plain": [
       "  0%|          | 0/34250 [00:00<?, ?it/s]"
      ]
     },
     "metadata": {},
     "output_type": "display_data"
    },
    {
     "name": "stdout",
     "output_type": "stream",
     "text": [
      "Computing f1 score...\n"
     ]
    },
    {
     "data": {
      "application/vnd.jupyter.widget-view+json": {
       "model_id": "7b884c0c74604a5fbba58236fa9c4351",
       "version_major": 2,
       "version_minor": 0
      },
      "text/plain": [
       "  0%|          | 0/34250 [00:00<?, ?it/s]"
      ]
     },
     "metadata": {},
     "output_type": "display_data"
    },
    {
     "name": "stdout",
     "output_type": "stream",
     "text": [
      "f1 score : 0.652769157030126\n",
      "Computing distances...\n",
      "Making predictions...\n"
     ]
    },
    {
     "data": {
      "application/vnd.jupyter.widget-view+json": {
       "model_id": "86caa7851f6640a7b00fa32f85f48aa6",
       "version_major": 2,
       "version_minor": 0
      },
      "text/plain": [
       "  0%|          | 0/34250 [00:00<?, ?it/s]"
      ]
     },
     "metadata": {},
     "output_type": "display_data"
    },
    {
     "name": "stdout",
     "output_type": "stream",
     "text": [
      "Computing f1 score...\n"
     ]
    },
    {
     "data": {
      "application/vnd.jupyter.widget-view+json": {
       "model_id": "c3049958024949acb563373161867828",
       "version_major": 2,
       "version_minor": 0
      },
      "text/plain": [
       "  0%|          | 0/34250 [00:00<?, ?it/s]"
      ]
     },
     "metadata": {},
     "output_type": "display_data"
    },
    {
     "name": "stdout",
     "output_type": "stream",
     "text": [
      "f1 score : 0.6452712565844787\n",
      "Computing distances...\n",
      "Making predictions...\n"
     ]
    },
    {
     "data": {
      "application/vnd.jupyter.widget-view+json": {
       "model_id": "6f9b035286c44fadbe0ad6508c1f67d1",
       "version_major": 2,
       "version_minor": 0
      },
      "text/plain": [
       "  0%|          | 0/34250 [00:00<?, ?it/s]"
      ]
     },
     "metadata": {},
     "output_type": "display_data"
    },
    {
     "name": "stdout",
     "output_type": "stream",
     "text": [
      "Computing f1 score...\n"
     ]
    },
    {
     "data": {
      "application/vnd.jupyter.widget-view+json": {
       "model_id": "fbbba656c7ae4bec9074180f677f7b76",
       "version_major": 2,
       "version_minor": 0
      },
      "text/plain": [
       "  0%|          | 0/34250 [00:00<?, ?it/s]"
      ]
     },
     "metadata": {},
     "output_type": "display_data"
    },
    {
     "name": "stdout",
     "output_type": "stream",
     "text": [
      "f1 score : 0.6338581711173628\n",
      "Computing distances...\n",
      "Making predictions...\n"
     ]
    },
    {
     "data": {
      "application/vnd.jupyter.widget-view+json": {
       "model_id": "104c0be3f8b1485f839512506ecffda3",
       "version_major": 2,
       "version_minor": 0
      },
      "text/plain": [
       "  0%|          | 0/34250 [00:00<?, ?it/s]"
      ]
     },
     "metadata": {},
     "output_type": "display_data"
    },
    {
     "name": "stdout",
     "output_type": "stream",
     "text": [
      "Computing f1 score...\n"
     ]
    },
    {
     "data": {
      "application/vnd.jupyter.widget-view+json": {
       "model_id": "354c1424337f409b8e856b78c3e8c466",
       "version_major": 2,
       "version_minor": 0
      },
      "text/plain": [
       "  0%|          | 0/34250 [00:00<?, ?it/s]"
      ]
     },
     "metadata": {},
     "output_type": "display_data"
    },
    {
     "name": "stdout",
     "output_type": "stream",
     "text": [
      "f1 score : 0.6186362197134734\n",
      "Computing distances...\n",
      "Making predictions...\n"
     ]
    },
    {
     "data": {
      "application/vnd.jupyter.widget-view+json": {
       "model_id": "d30c7c65dd1044a4bd83b358616fd3a0",
       "version_major": 2,
       "version_minor": 0
      },
      "text/plain": [
       "  0%|          | 0/34250 [00:00<?, ?it/s]"
      ]
     },
     "metadata": {},
     "output_type": "display_data"
    },
    {
     "name": "stdout",
     "output_type": "stream",
     "text": [
      "Computing f1 score...\n"
     ]
    },
    {
     "data": {
      "application/vnd.jupyter.widget-view+json": {
       "model_id": "206d110baf954012a364006657e1baad",
       "version_major": 2,
       "version_minor": 0
      },
      "text/plain": [
       "  0%|          | 0/34250 [00:00<?, ?it/s]"
      ]
     },
     "metadata": {},
     "output_type": "display_data"
    },
    {
     "name": "stdout",
     "output_type": "stream",
     "text": [
      "f1 score : 0.601012062173885\n",
      "Computing distances...\n",
      "Making predictions...\n"
     ]
    },
    {
     "data": {
      "application/vnd.jupyter.widget-view+json": {
       "model_id": "7e1bac8430da4a02930e06afc5370c1b",
       "version_major": 2,
       "version_minor": 0
      },
      "text/plain": [
       "  0%|          | 0/34250 [00:00<?, ?it/s]"
      ]
     },
     "metadata": {},
     "output_type": "display_data"
    },
    {
     "name": "stdout",
     "output_type": "stream",
     "text": [
      "Computing f1 score...\n"
     ]
    },
    {
     "data": {
      "application/vnd.jupyter.widget-view+json": {
       "model_id": "ee2fd4f51cd643a4aa595591a30b2522",
       "version_major": 2,
       "version_minor": 0
      },
      "text/plain": [
       "  0%|          | 0/34250 [00:00<?, ?it/s]"
      ]
     },
     "metadata": {},
     "output_type": "display_data"
    },
    {
     "name": "stdout",
     "output_type": "stream",
     "text": [
      "f1 score : 0.5802006126401967\n"
     ]
    }
   ],
   "source": [
    "scores = [(thr, compute_f1(embs, labels, thr)[0]) for thr in np.linspace(0.4, 0.6, 10)]"
   ]
  },
  {
   "cell_type": "markdown",
   "metadata": {},
   "source": [
    "#### train dataset"
   ]
  },
  {
   "cell_type": "code",
   "execution_count": 33,
   "metadata": {},
   "outputs": [
    {
     "data": {
      "text/plain": [
       "((23975,), (23975, 512))"
      ]
     },
     "execution_count": 33,
     "metadata": {},
     "output_type": "execute_result"
    }
   ],
   "source": [
    "train_labels.shape, train_embs.shape"
   ]
  },
  {
   "cell_type": "code",
   "execution_count": 36,
   "metadata": {},
   "outputs": [
    {
     "name": "stdout",
     "output_type": "stream",
     "text": [
      "Computing distances...\n",
      "Making predictions...\n"
     ]
    },
    {
     "data": {
      "application/vnd.jupyter.widget-view+json": {
       "model_id": "9afc9fc75bd449ee84a4e6bc310d951a",
       "version_major": 2,
       "version_minor": 0
      },
      "text/plain": [
       "  0%|          | 0/23975 [00:00<?, ?it/s]"
      ]
     },
     "metadata": {},
     "output_type": "display_data"
    },
    {
     "name": "stdout",
     "output_type": "stream",
     "text": [
      "Computing f1 score...\n"
     ]
    },
    {
     "data": {
      "application/vnd.jupyter.widget-view+json": {
       "model_id": "2606b6e4f4914ef487ef897fa61b04e8",
       "version_major": 2,
       "version_minor": 0
      },
      "text/plain": [
       "  0%|          | 0/23975 [00:00<?, ?it/s]"
      ]
     },
     "metadata": {},
     "output_type": "display_data"
    },
    {
     "name": "stdout",
     "output_type": "stream",
     "text": [
      "f1 score : 0.5298056303782903\n",
      "Computing distances...\n",
      "Making predictions...\n"
     ]
    },
    {
     "data": {
      "application/vnd.jupyter.widget-view+json": {
       "model_id": "bdc46af1c8f64efbb46a337aa6d4b9cd",
       "version_major": 2,
       "version_minor": 0
      },
      "text/plain": [
       "  0%|          | 0/23975 [00:00<?, ?it/s]"
      ]
     },
     "metadata": {},
     "output_type": "display_data"
    },
    {
     "name": "stdout",
     "output_type": "stream",
     "text": [
      "Computing f1 score...\n"
     ]
    },
    {
     "data": {
      "application/vnd.jupyter.widget-view+json": {
       "model_id": "225b32f8d3044753892583f6110fc940",
       "version_major": 2,
       "version_minor": 0
      },
      "text/plain": [
       "  0%|          | 0/23975 [00:00<?, ?it/s]"
      ]
     },
     "metadata": {},
     "output_type": "display_data"
    },
    {
     "name": "stdout",
     "output_type": "stream",
     "text": [
      "f1 score : 0.5674151316140864\n",
      "Computing distances...\n",
      "Making predictions...\n"
     ]
    },
    {
     "data": {
      "application/vnd.jupyter.widget-view+json": {
       "model_id": "9598e6ede0fb46d2804aa309b1adb277",
       "version_major": 2,
       "version_minor": 0
      },
      "text/plain": [
       "  0%|          | 0/23975 [00:00<?, ?it/s]"
      ]
     },
     "metadata": {},
     "output_type": "display_data"
    },
    {
     "name": "stdout",
     "output_type": "stream",
     "text": [
      "Computing f1 score...\n"
     ]
    },
    {
     "data": {
      "application/vnd.jupyter.widget-view+json": {
       "model_id": "f89eca101c12410da6c4fa9968e37c97",
       "version_major": 2,
       "version_minor": 0
      },
      "text/plain": [
       "  0%|          | 0/23975 [00:00<?, ?it/s]"
      ]
     },
     "metadata": {},
     "output_type": "display_data"
    },
    {
     "name": "stdout",
     "output_type": "stream",
     "text": [
      "f1 score : 0.6136102267624285\n",
      "Computing distances...\n",
      "Making predictions...\n"
     ]
    },
    {
     "data": {
      "application/vnd.jupyter.widget-view+json": {
       "model_id": "f4330527539c46dba52783170fc0de4b",
       "version_major": 2,
       "version_minor": 0
      },
      "text/plain": [
       "  0%|          | 0/23975 [00:00<?, ?it/s]"
      ]
     },
     "metadata": {},
     "output_type": "display_data"
    },
    {
     "name": "stdout",
     "output_type": "stream",
     "text": [
      "Computing f1 score...\n"
     ]
    },
    {
     "data": {
      "application/vnd.jupyter.widget-view+json": {
       "model_id": "e514843104ce489080541cdf389dc0b3",
       "version_major": 2,
       "version_minor": 0
      },
      "text/plain": [
       "  0%|          | 0/23975 [00:00<?, ?it/s]"
      ]
     },
     "metadata": {},
     "output_type": "display_data"
    },
    {
     "name": "stdout",
     "output_type": "stream",
     "text": [
      "f1 score : 0.6834033095473236\n",
      "Computing distances...\n",
      "Making predictions...\n"
     ]
    },
    {
     "data": {
      "application/vnd.jupyter.widget-view+json": {
       "model_id": "ec5a45eb589c4eadba80f8796d5a2006",
       "version_major": 2,
       "version_minor": 0
      },
      "text/plain": [
       "  0%|          | 0/23975 [00:00<?, ?it/s]"
      ]
     },
     "metadata": {},
     "output_type": "display_data"
    },
    {
     "name": "stdout",
     "output_type": "stream",
     "text": [
      "Computing f1 score...\n"
     ]
    },
    {
     "data": {
      "application/vnd.jupyter.widget-view+json": {
       "model_id": "99ae10d282cc4c17bb9eee944f94a23c",
       "version_major": 2,
       "version_minor": 0
      },
      "text/plain": [
       "  0%|          | 0/23975 [00:00<?, ?it/s]"
      ]
     },
     "metadata": {},
     "output_type": "display_data"
    },
    {
     "name": "stdout",
     "output_type": "stream",
     "text": [
      "f1 score : 0.7133076756443674\n",
      "Computing distances...\n",
      "Making predictions...\n"
     ]
    },
    {
     "data": {
      "application/vnd.jupyter.widget-view+json": {
       "model_id": "6ba11027002a40ee8c4f1d53315a6e1c",
       "version_major": 2,
       "version_minor": 0
      },
      "text/plain": [
       "  0%|          | 0/23975 [00:00<?, ?it/s]"
      ]
     },
     "metadata": {},
     "output_type": "display_data"
    },
    {
     "name": "stdout",
     "output_type": "stream",
     "text": [
      "Computing f1 score...\n"
     ]
    },
    {
     "data": {
      "application/vnd.jupyter.widget-view+json": {
       "model_id": "519657be8dd84680ad06db4ffec98539",
       "version_major": 2,
       "version_minor": 0
      },
      "text/plain": [
       "  0%|          | 0/23975 [00:00<?, ?it/s]"
      ]
     },
     "metadata": {},
     "output_type": "display_data"
    },
    {
     "name": "stdout",
     "output_type": "stream",
     "text": [
      "f1 score : 0.6591160415748419\n",
      "Computing distances...\n",
      "Making predictions...\n"
     ]
    },
    {
     "data": {
      "application/vnd.jupyter.widget-view+json": {
       "model_id": "1c20258857744eaca734a57c95ceb631",
       "version_major": 2,
       "version_minor": 0
      },
      "text/plain": [
       "  0%|          | 0/23975 [00:00<?, ?it/s]"
      ]
     },
     "metadata": {},
     "output_type": "display_data"
    },
    {
     "name": "stdout",
     "output_type": "stream",
     "text": [
      "Computing f1 score...\n"
     ]
    },
    {
     "data": {
      "application/vnd.jupyter.widget-view+json": {
       "model_id": "a4e1ad2765a947f19dfe932c6d02b29d",
       "version_major": 2,
       "version_minor": 0
      },
      "text/plain": [
       "  0%|          | 0/23975 [00:00<?, ?it/s]"
      ]
     },
     "metadata": {},
     "output_type": "display_data"
    },
    {
     "name": "stdout",
     "output_type": "stream",
     "text": [
      "f1 score : 0.527219676869062\n",
      "Computing distances...\n",
      "Making predictions...\n"
     ]
    },
    {
     "data": {
      "application/vnd.jupyter.widget-view+json": {
       "model_id": "b964ed6eb68d47a8afba670fdceb88e1",
       "version_major": 2,
       "version_minor": 0
      },
      "text/plain": [
       "  0%|          | 0/23975 [00:00<?, ?it/s]"
      ]
     },
     "metadata": {},
     "output_type": "display_data"
    },
    {
     "name": "stdout",
     "output_type": "stream",
     "text": [
      "Computing f1 score...\n"
     ]
    },
    {
     "data": {
      "application/vnd.jupyter.widget-view+json": {
       "model_id": "a428dab5947247e0b20f07577e08d292",
       "version_major": 2,
       "version_minor": 0
      },
      "text/plain": [
       "  0%|          | 0/23975 [00:00<?, ?it/s]"
      ]
     },
     "metadata": {},
     "output_type": "display_data"
    },
    {
     "name": "stdout",
     "output_type": "stream",
     "text": [
      "f1 score : 0.3503449328123086\n",
      "Computing distances...\n",
      "Making predictions...\n"
     ]
    },
    {
     "data": {
      "application/vnd.jupyter.widget-view+json": {
       "model_id": "5235963f33214f77a7fbd5faa6f6b942",
       "version_major": 2,
       "version_minor": 0
      },
      "text/plain": [
       "  0%|          | 0/23975 [00:00<?, ?it/s]"
      ]
     },
     "metadata": {},
     "output_type": "display_data"
    },
    {
     "name": "stdout",
     "output_type": "stream",
     "text": [
      "Computing f1 score...\n"
     ]
    },
    {
     "data": {
      "application/vnd.jupyter.widget-view+json": {
       "model_id": "e24bd9348c9247a5b0d63f88e88d5641",
       "version_major": 2,
       "version_minor": 0
      },
      "text/plain": [
       "  0%|          | 0/23975 [00:00<?, ?it/s]"
      ]
     },
     "metadata": {},
     "output_type": "display_data"
    },
    {
     "name": "stdout",
     "output_type": "stream",
     "text": [
      "f1 score : 0.1972737872213963\n",
      "Computing distances...\n",
      "Making predictions...\n"
     ]
    },
    {
     "data": {
      "application/vnd.jupyter.widget-view+json": {
       "model_id": "8edd414e7bda4112a71a9487352781b5",
       "version_major": 2,
       "version_minor": 0
      },
      "text/plain": [
       "  0%|          | 0/23975 [00:00<?, ?it/s]"
      ]
     },
     "metadata": {},
     "output_type": "display_data"
    },
    {
     "name": "stdout",
     "output_type": "stream",
     "text": [
      "Computing f1 score...\n"
     ]
    },
    {
     "data": {
      "application/vnd.jupyter.widget-view+json": {
       "model_id": "6113a9662da8425eb788611bdc6057bc",
       "version_major": 2,
       "version_minor": 0
      },
      "text/plain": [
       "  0%|          | 0/23975 [00:00<?, ?it/s]"
      ]
     },
     "metadata": {},
     "output_type": "display_data"
    },
    {
     "name": "stdout",
     "output_type": "stream",
     "text": [
      "f1 score : 0.14764991593955018\n"
     ]
    }
   ],
   "source": [
    "scores = [(thr, compute_f1(train_embs, train_labels, thr)[0]) for thr in np.linspace(0.001, 1, 10)]"
   ]
  },
  {
   "cell_type": "markdown",
   "metadata": {},
   "source": [
    "#### val dataset "
   ]
  },
  {
   "cell_type": "code",
   "execution_count": 37,
   "metadata": {
    "scrolled": true
   },
   "outputs": [
    {
     "name": "stdout",
     "output_type": "stream",
     "text": [
      "Computing distances...\n",
      "Making predictions...\n"
     ]
    },
    {
     "data": {
      "application/vnd.jupyter.widget-view+json": {
       "model_id": "ee1c2ceb61a542a09016facbae406d27",
       "version_major": 2,
       "version_minor": 0
      },
      "text/plain": [
       "  0%|          | 0/10275 [00:00<?, ?it/s]"
      ]
     },
     "metadata": {},
     "output_type": "display_data"
    },
    {
     "name": "stdout",
     "output_type": "stream",
     "text": [
      "Computing f1 score...\n"
     ]
    },
    {
     "data": {
      "application/vnd.jupyter.widget-view+json": {
       "model_id": "2f5495e5b90f43308550c399ca9d2967",
       "version_major": 2,
       "version_minor": 0
      },
      "text/plain": [
       "  0%|          | 0/10275 [00:00<?, ?it/s]"
      ]
     },
     "metadata": {},
     "output_type": "display_data"
    },
    {
     "name": "stdout",
     "output_type": "stream",
     "text": [
      "f1 score : 0.6920304638392997\n",
      "Computing distances...\n",
      "Making predictions...\n"
     ]
    },
    {
     "data": {
      "application/vnd.jupyter.widget-view+json": {
       "model_id": "5edcd9ca9f4349328c22f125c3f38426",
       "version_major": 2,
       "version_minor": 0
      },
      "text/plain": [
       "  0%|          | 0/10275 [00:00<?, ?it/s]"
      ]
     },
     "metadata": {},
     "output_type": "display_data"
    },
    {
     "name": "stdout",
     "output_type": "stream",
     "text": [
      "Computing f1 score...\n"
     ]
    },
    {
     "data": {
      "application/vnd.jupyter.widget-view+json": {
       "model_id": "56188d57098c489ea81e28831ad26c88",
       "version_major": 2,
       "version_minor": 0
      },
      "text/plain": [
       "  0%|          | 0/10275 [00:00<?, ?it/s]"
      ]
     },
     "metadata": {},
     "output_type": "display_data"
    },
    {
     "name": "stdout",
     "output_type": "stream",
     "text": [
      "f1 score : 0.7353983272568838\n",
      "Computing distances...\n",
      "Making predictions...\n"
     ]
    },
    {
     "data": {
      "application/vnd.jupyter.widget-view+json": {
       "model_id": "882a0ced96f7487887cb9c06ec7be3b3",
       "version_major": 2,
       "version_minor": 0
      },
      "text/plain": [
       "  0%|          | 0/10275 [00:00<?, ?it/s]"
      ]
     },
     "metadata": {},
     "output_type": "display_data"
    },
    {
     "name": "stdout",
     "output_type": "stream",
     "text": [
      "Computing f1 score...\n"
     ]
    },
    {
     "data": {
      "application/vnd.jupyter.widget-view+json": {
       "model_id": "21c865c15b484df286df102772d6d614",
       "version_major": 2,
       "version_minor": 0
      },
      "text/plain": [
       "  0%|          | 0/10275 [00:00<?, ?it/s]"
      ]
     },
     "metadata": {},
     "output_type": "display_data"
    },
    {
     "name": "stdout",
     "output_type": "stream",
     "text": [
      "f1 score : 0.763902235128316\n",
      "Computing distances...\n",
      "Making predictions...\n"
     ]
    },
    {
     "data": {
      "application/vnd.jupyter.widget-view+json": {
       "model_id": "e611122977ba4db7a6c37b697c8c7a18",
       "version_major": 2,
       "version_minor": 0
      },
      "text/plain": [
       "  0%|          | 0/10275 [00:00<?, ?it/s]"
      ]
     },
     "metadata": {},
     "output_type": "display_data"
    },
    {
     "name": "stdout",
     "output_type": "stream",
     "text": [
      "Computing f1 score...\n"
     ]
    },
    {
     "data": {
      "application/vnd.jupyter.widget-view+json": {
       "model_id": "4f848b3bdfaa49e6ae0800582a99fa69",
       "version_major": 2,
       "version_minor": 0
      },
      "text/plain": [
       "  0%|          | 0/10275 [00:00<?, ?it/s]"
      ]
     },
     "metadata": {},
     "output_type": "display_data"
    },
    {
     "name": "stdout",
     "output_type": "stream",
     "text": [
      "f1 score : 0.7953294579636402\n",
      "Computing distances...\n",
      "Making predictions...\n"
     ]
    },
    {
     "data": {
      "application/vnd.jupyter.widget-view+json": {
       "model_id": "844883687b504ac3b8d2448dbb357b41",
       "version_major": 2,
       "version_minor": 0
      },
      "text/plain": [
       "  0%|          | 0/10275 [00:00<?, ?it/s]"
      ]
     },
     "metadata": {},
     "output_type": "display_data"
    },
    {
     "name": "stdout",
     "output_type": "stream",
     "text": [
      "Computing f1 score...\n"
     ]
    },
    {
     "data": {
      "application/vnd.jupyter.widget-view+json": {
       "model_id": "a8a9c41fe48047c683ff6120b046c30c",
       "version_major": 2,
       "version_minor": 0
      },
      "text/plain": [
       "  0%|          | 0/10275 [00:00<?, ?it/s]"
      ]
     },
     "metadata": {},
     "output_type": "display_data"
    },
    {
     "name": "stdout",
     "output_type": "stream",
     "text": [
      "f1 score : 0.7894377165031298\n",
      "Computing distances...\n",
      "Making predictions...\n"
     ]
    },
    {
     "data": {
      "application/vnd.jupyter.widget-view+json": {
       "model_id": "6e9dce9651b143ec99d727226b8bfc91",
       "version_major": 2,
       "version_minor": 0
      },
      "text/plain": [
       "  0%|          | 0/10275 [00:00<?, ?it/s]"
      ]
     },
     "metadata": {},
     "output_type": "display_data"
    },
    {
     "name": "stdout",
     "output_type": "stream",
     "text": [
      "Computing f1 score...\n"
     ]
    },
    {
     "data": {
      "application/vnd.jupyter.widget-view+json": {
       "model_id": "16bae097d15845e295e39a502643d6ca",
       "version_major": 2,
       "version_minor": 0
      },
      "text/plain": [
       "  0%|          | 0/10275 [00:00<?, ?it/s]"
      ]
     },
     "metadata": {},
     "output_type": "display_data"
    },
    {
     "name": "stdout",
     "output_type": "stream",
     "text": [
      "f1 score : 0.7160872703566089\n",
      "Computing distances...\n",
      "Making predictions...\n"
     ]
    },
    {
     "data": {
      "application/vnd.jupyter.widget-view+json": {
       "model_id": "4a195e2fdf8f424498f749f33325b4b6",
       "version_major": 2,
       "version_minor": 0
      },
      "text/plain": [
       "  0%|          | 0/10275 [00:00<?, ?it/s]"
      ]
     },
     "metadata": {},
     "output_type": "display_data"
    },
    {
     "name": "stdout",
     "output_type": "stream",
     "text": [
      "Computing f1 score...\n"
     ]
    },
    {
     "data": {
      "application/vnd.jupyter.widget-view+json": {
       "model_id": "656a00f77fe349cb9fdebbbb6af1a760",
       "version_major": 2,
       "version_minor": 0
      },
      "text/plain": [
       "  0%|          | 0/10275 [00:00<?, ?it/s]"
      ]
     },
     "metadata": {},
     "output_type": "display_data"
    },
    {
     "name": "stdout",
     "output_type": "stream",
     "text": [
      "f1 score : 0.57920851129234\n",
      "Computing distances...\n",
      "Making predictions...\n"
     ]
    },
    {
     "data": {
      "application/vnd.jupyter.widget-view+json": {
       "model_id": "a6878bc175ee415697d4dd4037ef4e80",
       "version_major": 2,
       "version_minor": 0
      },
      "text/plain": [
       "  0%|          | 0/10275 [00:00<?, ?it/s]"
      ]
     },
     "metadata": {},
     "output_type": "display_data"
    },
    {
     "name": "stdout",
     "output_type": "stream",
     "text": [
      "Computing f1 score...\n"
     ]
    },
    {
     "data": {
      "application/vnd.jupyter.widget-view+json": {
       "model_id": "069edb1025334bc0a9bc9d65642222ee",
       "version_major": 2,
       "version_minor": 0
      },
      "text/plain": [
       "  0%|          | 0/10275 [00:00<?, ?it/s]"
      ]
     },
     "metadata": {},
     "output_type": "display_data"
    },
    {
     "name": "stdout",
     "output_type": "stream",
     "text": [
      "f1 score : 0.3871146919435032\n",
      "Computing distances...\n",
      "Making predictions...\n"
     ]
    },
    {
     "data": {
      "application/vnd.jupyter.widget-view+json": {
       "model_id": "a87f45ffd5aa487185bb0fe8dcdd8b85",
       "version_major": 2,
       "version_minor": 0
      },
      "text/plain": [
       "  0%|          | 0/10275 [00:00<?, ?it/s]"
      ]
     },
     "metadata": {},
     "output_type": "display_data"
    },
    {
     "name": "stdout",
     "output_type": "stream",
     "text": [
      "Computing f1 score...\n"
     ]
    },
    {
     "data": {
      "application/vnd.jupyter.widget-view+json": {
       "model_id": "b3d58bc0bcab4b09a2b9066d61126974",
       "version_major": 2,
       "version_minor": 0
      },
      "text/plain": [
       "  0%|          | 0/10275 [00:00<?, ?it/s]"
      ]
     },
     "metadata": {},
     "output_type": "display_data"
    },
    {
     "name": "stdout",
     "output_type": "stream",
     "text": [
      "f1 score : 0.19165120449156633\n",
      "Computing distances...\n",
      "Making predictions...\n"
     ]
    },
    {
     "data": {
      "application/vnd.jupyter.widget-view+json": {
       "model_id": "5b5d5bc9fa1844999359cdb7cc6bc716",
       "version_major": 2,
       "version_minor": 0
      },
      "text/plain": [
       "  0%|          | 0/10275 [00:00<?, ?it/s]"
      ]
     },
     "metadata": {},
     "output_type": "display_data"
    },
    {
     "name": "stdout",
     "output_type": "stream",
     "text": [
      "Computing f1 score...\n"
     ]
    },
    {
     "data": {
      "application/vnd.jupyter.widget-view+json": {
       "model_id": "fdfc0f13cbe642dfa39f0905604efc32",
       "version_major": 2,
       "version_minor": 0
      },
      "text/plain": [
       "  0%|          | 0/10275 [00:00<?, ?it/s]"
      ]
     },
     "metadata": {},
     "output_type": "display_data"
    },
    {
     "name": "stdout",
     "output_type": "stream",
     "text": [
      "f1 score : 0.10139944866175278\n"
     ]
    }
   ],
   "source": [
    "scores = [(thr, compute_f1(val_embs, val_labels, thr)[0]) for thr in np.linspace(0.001, 1, 10)]"
   ]
  },
  {
   "cell_type": "markdown",
   "metadata": {},
   "source": [
    "## Only resnet50"
   ]
  },
  {
   "cell_type": "code",
   "execution_count": 2,
   "metadata": {},
   "outputs": [],
   "source": [
    "import pandas as pd\n",
    "import torch\n",
    "import numpy as np\n",
    "import matplotlib.pyplot as plt\n",
    "from tqdm.notebook import tqdm"
   ]
  },
  {
   "cell_type": "code",
   "execution_count": 3,
   "metadata": {},
   "outputs": [],
   "source": [
    "from sklearn.metrics import f1_score"
   ]
  },
  {
   "cell_type": "code",
   "execution_count": 4,
   "metadata": {},
   "outputs": [],
   "source": [
    "import cuml.metrics.pairwise_distances as pairwise_distances"
   ]
  },
  {
   "cell_type": "code",
   "execution_count": 5,
   "metadata": {},
   "outputs": [],
   "source": [
    "from cuml.neighbors import NearestNeighbors"
   ]
  },
  {
   "cell_type": "code",
   "execution_count": 6,
   "metadata": {},
   "outputs": [],
   "source": [
    "embs, labels = pd.read_csv('data/tests_model_image/train_embs.csv', index_col=0), torch.load('labels.ph')"
   ]
  },
  {
   "cell_type": "code",
   "execution_count": 37,
   "metadata": {},
   "outputs": [
    {
     "name": "stdout",
     "output_type": "stream",
     "text": [
      "Computing distances...\n",
      "Making predictions...\n"
     ]
    },
    {
     "data": {
      "application/vnd.jupyter.widget-view+json": {
       "model_id": "8651ef3af929470aaa11c2288bbb72e8",
       "version_major": 2,
       "version_minor": 0
      },
      "text/plain": [
       "  0%|          | 0/34250 [00:00<?, ?it/s]"
      ]
     },
     "metadata": {},
     "output_type": "display_data"
    },
    {
     "name": "stdout",
     "output_type": "stream",
     "text": [
      "Computing f1 score...\n"
     ]
    },
    {
     "data": {
      "application/vnd.jupyter.widget-view+json": {
       "model_id": "d338780b487a4414b94cab05ded707f4",
       "version_major": 2,
       "version_minor": 0
      },
      "text/plain": [
       "  0%|          | 0/34250 [00:00<?, ?it/s]"
      ]
     },
     "metadata": {},
     "output_type": "display_data"
    },
    {
     "name": "stdout",
     "output_type": "stream",
     "text": [
      "f1 score : 0.5180334303998027\n"
     ]
    },
    {
     "data": {
      "text/plain": [
       "(0.5180334303998027,\n",
       " [array([    0, 18373, 31779, 25261, 33161, 27050, 15317,  4245,  6022,\n",
       "         32799,  9886,  1457, 19567,  2659, 27574,   779, 27762, 19746,\n",
       "         28524]),\n",
       "  array([    1, 18683,   194,   469, 25199]),\n",
       "  array([2]),\n",
       "  array([    3, 18753, 14559, 32290, 13236, 13324,  8200, 14988, 17184,\n",
       "         21315, 27812,  2522, 20105,   103, 24678,  1129,  6261,  9821,\n",
       "          1947,  1584, 28878,  5341,  3892, 11295,  8895,  8894, 26503,\n",
       "         28288, 27501,  4982, 30082, 22886,  6419,   900,  1176, 33946,\n",
       "         17140, 25240, 11163, 28826, 22183, 19740, 27469,  4255, 19352,\n",
       "         13452,  8790, 32289, 30132,  2596]),\n",
       "  array([    4, 18449, 24171]),\n",
       "  array([    5,  1442, 14075, 33182, 29071, 16540, 29305]),\n",
       "  array([    6, 32264, 28042,  7574, 14049, 15883]),\n",
       "  array([    7,  3987,  9388,  9387, 32291, 30789,  8530, 30597, 33527,\n",
       "         12648, 22760, 10419,    57,    56, 16039, 10787,  2520, 12190,\n",
       "         19018, 19017, 22745, 29372, 27606, 25605, 14921, 13329, 19503,\n",
       "         16729, 16730, 16728,  4955,  2970, 17515,  7551, 24792, 16782,\n",
       "           523,  5220, 21101,  4348, 18532,  4374,  1854, 28617,  3579,\n",
       "         21949, 15242, 30253, 31604, 13254]),\n",
       "  array([    8,  4828,  4829, 26886, 12757, 20463, 20989, 15871, 29025,\n",
       "         21983, 16624, 12701, 20934, 16256, 15890, 10774]),\n",
       "  array([    9, 23587, 11390, 26984, 23551, 16501,  2148, 12908, 16520,\n",
       "         15616, 30711, 28481, 28477, 28478, 28479, 28480, 28482,  8455,\n",
       "         11297,  3144, 29096, 30283, 33847, 33845, 33844, 33843, 33846,\n",
       "         33848, 12304, 16824, 16654, 32037,  9102, 10754,  4004, 32038,\n",
       "          3982, 33011,  8677, 23604, 25592, 10989,  3509, 12188, 15889,\n",
       "         30811, 25868, 25867, 25866,   528]),\n",
       "  array([   10,  9696,  9113, 29624,  9145, 29362, 27205, 33159, 14249,\n",
       "          5691,  4224]),\n",
       "  array([   11,    12,  5589, 11401, 25404,  6754,   923, 15152,  5801]),\n",
       "  array([   11,    12,  5589, 11401, 25404,  6754,   923, 15152,  5801]),\n",
       "  array([   13, 28067]),\n",
       "  array([   14, 27179, 27180,   638,  9770,  5741, 20117, 28500,  2977,\n",
       "          1771,  5256, 29437, 30205, 19631, 24949, 18842,  6248,  9011]),\n",
       "  array([   15,  4656,  6352, 26652, 22938, 28378,  2770,  3098, 31910,\n",
       "         17019, 10422,  7504, 14471,   999,  1603, 22499,  4482, 12567,\n",
       "          7841,  5847, 25725]),\n",
       "  array([   16, 22789, 21207, 21206,  1116,  9222, 27869]),\n",
       "  array([17]),\n",
       "  array([   18, 14656,  4636,  8321, 21524, 17381, 32455]),\n",
       "  array([   19, 13799, 23987]),\n",
       "  array([   20, 28661, 14609,  9827,  5909, 32097, 32096,  2521,  7506,\n",
       "         17421, 17420, 23293, 18249, 11552, 18163,  7478, 21695, 17493,\n",
       "         32736, 30131, 31065,  8508, 15945,  9410, 12424, 17413, 16599,\n",
       "          9339]),\n",
       "  array([   21, 24797, 31222, 14365, 28785, 16807, 31925, 30578, 30197]),\n",
       "  array([   22, 18797, 23849, 11254, 11386, 27739, 27636, 24553, 10342]),\n",
       "  array([   23, 24489, 24226]),\n",
       "  array([   24, 25635, 25699,  8308, 28842, 20804, 11169, 21351, 32234,\n",
       "         23860, 20437,  9118, 24951, 16034, 16352,  9676,  1016, 32069,\n",
       "          7143, 11290, 28323, 28322, 28321,  3905,  3902,  3903,  3904,\n",
       "          5756,  6948]),\n",
       "  array([   25,   123, 14547]),\n",
       "  array([   26, 26060, 33467, 19473, 11879]),\n",
       "  array([   27, 23290, 18690, 13384, 19940, 23430,  7658,  4349, 16433,\n",
       "         26955, 26792, 14761, 27367, 25558,  1026,  3477,  5528,  1999,\n",
       "         12177, 24025, 33331,  8434, 16976, 31327, 20657,  6680, 28645,\n",
       "         26872, 21294, 32779,  3808,  4782, 12664,  9703, 12357,  5648]),\n",
       "  array([   28,    29, 31410]),\n",
       "  array([   28,    29, 31410]),\n",
       "  array([   30,  8038,  8039, 32527, 18678, 12874, 24485, 10889, 30974,\n",
       "         31337, 22954, 10067,  4958,  4673, 21070, 26487, 14602, 28786,\n",
       "         20066, 34210,  3643,  3298, 26859, 28714, 20956, 13419,   219,\n",
       "           715,   714,   713, 19061,  9474,  4149, 15679, 14166, 21735,\n",
       "         17780, 13664, 31887,  2960, 15748, 15749, 29450, 16606, 16604,\n",
       "         16605, 27181, 21431, 30948,  7069]),\n",
       "  array([   31,   739, 15976, 31422, 20367, 32071, 30337]),\n",
       "  array([  32, 9133]),\n",
       "  array([   33, 24411, 29006,  9606, 24202]),\n",
       "  array([   34,  4248, 27010, 29912, 32444, 21348, 17530, 11232, 21448,\n",
       "         15440,  2258,  5091, 22976, 23770,  2714, 29932, 26931,  9891,\n",
       "         11774, 15134,  2093, 19754, 17014, 19457, 22552, 32944, 13943,\n",
       "         19800, 31045, 22358, 22357, 22359, 28668, 27094, 14086, 14085,\n",
       "         33813, 19853,  1746, 30287, 32204, 12640, 12641, 24895, 24894,\n",
       "         16334, 31024, 17006, 16442, 22875]),\n",
       "  array([   35, 24208, 25102, 11898, 28949, 18561,   260,   634, 31603,\n",
       "         18754, 28888, 20826, 31522, 12729,  2242, 19842, 12142,  4362,\n",
       "         31265, 12207, 10658, 24466, 10738, 31387, 14898,  4120,  5644,\n",
       "          1737, 16498, 33810, 33809, 32507, 16118, 18741, 27813,  7322,\n",
       "          9707, 31857, 22379,  1752, 10165, 10902, 14498, 19734, 19921,\n",
       "         11125,  8167, 17223, 33163, 18529]),\n",
       "  array([   36, 20216, 15255]),\n",
       "  array([   37, 25287, 25002, 24405, 11327, 30014]),\n",
       "  array([   38, 14218, 22540, 15420, 10393, 27850,  4806,  8928,  2428,\n",
       "         15945, 27331,   693, 18079, 15860, 15861, 31364, 28956, 30199,\n",
       "          6288, 16599, 12902,  1468,  8710,  1511, 14423, 18343, 33019,\n",
       "          4406,  1547,  8938,  8357, 12907, 25455, 32990, 26921, 18825,\n",
       "          6554,  7138,  6620, 18374, 17136, 23613, 13092,  4882, 19157,\n",
       "         27496, 23293,   189, 30088, 17420]),\n",
       "  array([   39, 11062]),\n",
       "  array([   40,  3708, 18750, 24556, 21585,  7004, 17454,    43, 14991]),\n",
       "  array([   41, 11981,  7976, 17514, 30962,  4786, 16775, 19622,  1198,\n",
       "          4937, 27908,  2436, 32236, 26934,  1896, 12073, 25296, 23063,\n",
       "         12492,  1443, 19056,  5631, 20721,  3998,  4498, 30529, 27681,\n",
       "         25340, 25339, 25341,  9439, 31597,  6163, 24931,  1249, 22268,\n",
       "          4352, 25639, 33621, 33622, 30151, 31767, 13172, 27525,  8166,\n",
       "         26607, 32091, 13003,  1633,  9513]),\n",
       "  array([   42, 26662, 12715,  5728,   291,  7537, 16822,  2981, 22302,\n",
       "         23562,  5857, 20913,   179,   682, 23056, 18380, 18379, 13970,\n",
       "         11833, 22704,  9001, 10857, 17297,  3975, 34247, 28824,  9160,\n",
       "          4447, 30715,  1475, 27162, 24696,  1405, 21641, 18213, 12084,\n",
       "         28124,  9004,  1614, 23243,  6393, 18141, 13590, 13348, 26643,\n",
       "         11530, 12050, 32963, 27105, 32281]),\n",
       "  array([   43, 18069, 13315,  5009, 27305, 29634, 17367, 16836, 12561,\n",
       "         32168,  3708,    40,  4000,  1342,  4420, 17647]),\n",
       "  array([   44, 15617, 30270, 30271, 14337, 20674,  4416, 27322, 28641,\n",
       "          6179,  1277, 24976, 33203, 19234,  7488, 17320, 25284,  4151,\n",
       "          7761, 22544,  5813, 16989, 18819, 17896, 31081, 21993,   554,\n",
       "         30262, 31113, 12550, 33121,  3253, 10732,  7523,  4802, 21038,\n",
       "          9555, 33122, 18716,  1674, 33205,  2887, 10957, 10956, 17559,\n",
       "         23103, 23674]),\n",
       "  array([   45, 25163, 25162, 29873, 31071]),\n",
       "  array([   46,  3835, 14226, 11957, 11956, 33014,  8909,  8079,  4053,\n",
       "         10916, 10917, 10918,  1162,  8624,  3074,  4079,  9559, 32897,\n",
       "         25326, 23621, 11325, 28122, 14274, 31264, 15994, 15988, 26057,\n",
       "         21513, 14335, 11059, 10532,   861,  7120, 18951]),\n",
       "  array([   47, 15067, 29400]),\n",
       "  array([   48, 11069, 26405, 19570,  7036]),\n",
       "  array([49]),\n",
       "  array([   50, 13644, 34235,  2154, 22316, 12698, 33027, 20055, 28476,\n",
       "         11737, 12762, 31030, 33806, 28428,  6361, 19112, 14580, 14579,\n",
       "          3656, 29493,  7408,  3882, 33533,  3908,  8116,  8420, 21719,\n",
       "            97, 14655, 12337, 19301, 28168, 29323, 32302, 32301, 32300,\n",
       "          6515,  6516, 27830, 10039, 10905, 25206, 19907, 22843, 16495,\n",
       "         11921, 13651, 21866, 18737,    85]),\n",
       "  array([   51, 12579,  8580, 14824, 33398, 11762,  7827]),\n",
       "  array([52]),\n",
       "  array([53]),\n",
       "  array([   54, 12643, 23103, 18651,  7334, 17320]),\n",
       "  array([   55,   312, 25752, 25152,  2584, 21033, 32837, 10899, 15344,\n",
       "         31325, 19168,  6154,  8639, 10104, 13382, 19666, 33858, 11874,\n",
       "         11873, 24463,  5675, 24871,  1117,  1890, 24049, 33852,  8002,\n",
       "           776, 18983, 18029,  6828, 22139,  2059, 23695, 27957,  1121,\n",
       "          5462, 10425,  7444]),\n",
       "  array([   56,    57, 33527, 16039, 12648, 30789, 31604,   523,  9787,\n",
       "         19503,  6606, 16743, 10787, 14966, 14968, 14967, 14970, 14969,\n",
       "          6992, 28786, 30115, 13254, 18532, 19915,  2849,  8155, 19528,\n",
       "          5671, 28704,  4064, 21964, 24792, 10203, 19018, 19017, 27716,\n",
       "         33687, 30522, 27048, 30937, 11860, 10419,  7285, 25359, 27357,\n",
       "         14338,   117, 13664,  5931,  5930]),\n",
       "  array([   56,    57, 33527, 16039, 12648, 30789, 31604,   523,  9787,\n",
       "         19503,  6606, 16743, 10787, 14966, 14968, 14967, 14970, 14969,\n",
       "          6992, 28786, 30115, 13254, 18532, 19915,  2849,  8155, 19528,\n",
       "          5671, 28704,  4064, 21964, 24792, 10203, 19018, 19017, 27716,\n",
       "         33687, 30522, 27048, 30937, 11860, 10419,  7285, 25359, 27357,\n",
       "         14338,   117, 13664,  5931,  5930]),\n",
       "  array([   59,    58,   482, 20656, 20690, 23637, 22138, 10912, 10084,\n",
       "         11507, 31741,   678, 27507, 13148, 33754, 32467, 16826, 13839,\n",
       "         10831, 14305, 31378,  2071, 19706, 30672, 18355, 20469, 19283,\n",
       "         11516, 11100, 19650,  2471]),\n",
       "  array([   59,    58,   482, 20656, 20690, 23637, 22138, 10912, 10084,\n",
       "         11507, 31741,   678, 27507, 13148, 33754, 32467, 16826, 13839,\n",
       "         10831, 14305, 31378,  2071, 19706, 30672, 18355, 20469, 19283,\n",
       "         11516, 11100, 19650,  2471]),\n",
       "  array([   60, 23102, 20617, 25729, 11442, 14626,  5883,  9202,  5724,\n",
       "          6966, 30412,  7967, 21174]),\n",
       "  array([   61, 24904, 23404, 22576, 33233, 32232, 25017, 21024, 11237,\n",
       "         29949, 31163, 15953, 32134, 17842,  6614, 17698,  2185, 25466,\n",
       "         23624, 20811, 33483,   953, 33704,  6253,  7622, 30470, 23891]),\n",
       "  array([   62, 20717, 26950, 25441, 25442,  3238,  5811, 30091, 24591,\n",
       "         20061,  8754,  7218]),\n",
       "  array([   63,  8668,  7526,  2608, 10838, 11757, 28045, 32578, 15767,\n",
       "          6734, 12932,  6201,    99,    98, 11586, 14491, 13476, 26483,\n",
       "         31721, 27146, 33322,  5283, 12688, 27075, 28282, 12284, 12393,\n",
       "            75, 21204, 31759,  1186, 12706, 22170, 14544, 17811, 18326,\n",
       "         32138, 28489,  2517]),\n",
       "  array([   64, 30810, 18786,  9032, 16719, 15448, 20358, 32349,  3449,\n",
       "         20930,  9862, 30447, 16702, 11755, 14378, 22184, 28119, 14551,\n",
       "         12864, 15309, 28385,  6252, 28620, 12675, 20426,  4571,  1966,\n",
       "         28673, 13891, 29757, 16676, 21183, 15652,  9478, 22204,  3999,\n",
       "         26631, 26630, 26629, 26621, 26623, 26622, 26620, 26628, 26627,\n",
       "         26624, 26619, 26625, 26626, 32123]),\n",
       "  array([65]),\n",
       "  array([   66, 28620,  4571, 10537, 32787, 22578, 28119, 15652,  4208,\n",
       "         28385, 20930,  3395, 15387,  3222, 31423, 34171, 23638, 23639,\n",
       "         16689,  9456,  1014, 16673, 13891, 23320, 16676, 25435,  9740,\n",
       "         27407, 32452, 32453,  6207, 23084, 17336,  9478,  6924,  3521,\n",
       "         12864, 32349,  3449,  4232, 15309,  1754, 26133, 31778, 20926,\n",
       "         22204, 31094, 11903, 25315, 16018]),\n",
       "  array([   67, 18528, 34106]),\n",
       "  array([  68, 4966, 4238]),\n",
       "  array([   69, 33713, 10491,  2831, 25959, 19690, 22858, 15534, 20903,\n",
       "         10619, 33603,  8752]),\n",
       "  array([   70, 29582,  8101,  2371,   348, 16750, 18971, 11242, 29750]),\n",
       "  array([   71,  2265, 21063,  2671, 32139, 31852, 24939, 24940]),\n",
       "  array([   72,  5476, 25798, 18806, 25869, 16079, 16139, 23824, 16886,\n",
       "          6484,   201, 28336, 14696,  5794, 11582,  6323, 21248, 23598,\n",
       "         18034,  3812,  7999,   906,  5305,  8809, 12224,  2235,   925,\n",
       "          9762, 22470, 14651, 26904,   372, 23867, 16384, 31307, 25138,\n",
       "         27221,  3075,  5556,  4159, 13303,  3736,  7266, 19523, 17593,\n",
       "         24839, 25481, 10666, 24289, 19605]),\n",
       "  array([   73,  7796,  5066,   354,  8416, 28325, 27196, 12838, 12837,\n",
       "         10364, 10334, 24420, 19221, 15081,  3928,  7012, 31863,  7640,\n",
       "         26655, 18693, 12778, 25560, 10458, 32874, 12956,  9448,  6963,\n",
       "          7287, 20889, 33477, 31785, 31970, 10040, 10041, 10221, 14820,\n",
       "          3961,  6662, 32299, 24818, 10439, 24901, 28521, 28520, 28522,\n",
       "         29160, 18296, 14441, 24415,  9557]),\n",
       "  array([   74,  7458, 22426, 31393, 10389]),\n",
       "  array([   75, 21204,  8668,    63, 10838, 11757,  2608,    98,    99,\n",
       "          7526, 15767, 32578,  5283, 27146, 14491, 12688, 11586, 28489,\n",
       "          6201, 31721,  6734, 26483, 18326, 27075, 13476, 12706, 33322,\n",
       "         28282, 12284, 12932, 28045, 31759]),\n",
       "  array([   76, 21956, 26822, 31467, 27743,  7484, 28537, 16880, 20085,\n",
       "         23231, 25861, 13418,  9328,  9327, 15829, 32669,  6008, 30988,\n",
       "          1366, 15938,  5961, 12468, 19062, 29825, 14648, 27460, 29975,\n",
       "         27041, 29522,  2649,  7461, 31211, 19309,  1561, 31153,  5693,\n",
       "         20443,  1810,   583, 23077,  7951,   962,  7111, 28148, 12766,\n",
       "         15924,  7057, 12344, 19621, 19620]),\n",
       "  array([   77, 26519, 25736, 17591,  6947, 18863, 31672, 26311]),\n",
       "  array([   78, 23703, 15899, 29700,   951,  6142, 14516,  4655,  8555,\n",
       "         14822, 25821, 24253,  9164,  2877, 10627,  7121, 19123, 26872,\n",
       "         16433,  7872, 12177,  8726, 12768]),\n",
       "  array([   79, 12821, 12820, 26085]),\n",
       "  array([   80, 33956,  8008,  7815]),\n",
       "  array([81]),\n",
       "  array([   82, 12795, 26189, 23643, 18290,  7734, 31092, 28429, 17800,\n",
       "          2305, 30531, 31656, 19540, 23614,  6607, 30043, 16280, 18277,\n",
       "         18276,   606,  9292, 20339, 12584, 22399, 27614,  3272, 30145,\n",
       "         22322, 18358,   847,   849,   850,   848, 24363, 33779, 15815,\n",
       "          5304, 27673, 24126,  1763, 23142, 15552, 16773, 34060, 27785,\n",
       "         11309, 14554, 19945, 10807, 33769]),\n",
       "  array([   83, 22240, 30012, 10246, 33690,  2374, 15323, 31350, 25047,\n",
       "         32640, 31083, 25592,  8677, 33011, 22992, 32879, 32878,  4933,\n",
       "         23631, 13709, 33099, 32733, 10188,  3243, 32037, 12188, 27155,\n",
       "          4706, 28727, 29511, 20233, 32404, 27736, 18330, 26288,  5391,\n",
       "          5389,  5386,  5387,  5388,  5390,  4826, 16119, 32909,  6428,\n",
       "          8031, 20927, 16367, 19707, 31844]),\n",
       "  array([   84, 20023, 28762, 22624]),\n",
       "  array([   85, 13651, 12337,  6515,  6516, 11921, 19301, 14580, 14579,\n",
       "         29323, 29226, 16546, 28168,  8116,  3656, 25206, 11737, 20055,\n",
       "         31030, 28476, 14655, 10905,  8420, 25298,    97, 16495, 28428,\n",
       "         22316, 22421, 12762, 12698, 32300, 32301, 32302, 34235, 19112,\n",
       "         13349, 13644, 21719,    50, 19907,  2154, 24787, 10039, 28670,\n",
       "          3908,  6361,  3882,  4703, 29493]),\n",
       "  array([   86,  5123,  4486,  5111, 25191, 12704, 23826,   794, 33292,\n",
       "          9245,  5247, 25250, 32129, 14578, 11084, 24579, 26257, 18215,\n",
       "         33018, 33139,  1499,  3424,  5527, 29881,  8034, 15866,  9161,\n",
       "          1111, 14504,  5514, 22148,  1337, 10477, 29735, 20375, 20374,\n",
       "          9153, 21303, 31379,  6745,  4518, 23030, 16499,  8698,  6959,\n",
       "         12517, 13464,  4711, 29001, 25369]),\n",
       "  array([   87, 11485,   747, 31630,  9158]),\n",
       "  array([   88,  5630,  4119,   463, 25662,  2683,  2685,  2684, 16723,\n",
       "         29695,  5103, 14527, 29736,  6600,  7739, 27023, 10888, 31177,\n",
       "         31176, 13563,  1363, 24716, 27645,   809,  4701, 31463, 18986,\n",
       "         12693,  1673,  6637, 12980, 26439, 11592, 30071, 20056, 22765,\n",
       "         11466, 28180, 16348,  5767, 32905, 22349, 17872, 12857, 28539,\n",
       "         19839, 26268, 34017, 16523]),\n",
       "  array([   89,  2543, 10346, 27160, 27429,   444, 11554, 27209,  8915,\n",
       "         26079, 18996, 25496, 25494, 25495, 24273]),\n",
       "  array([90]),\n",
       "  array([   91, 11357, 14605, 23095, 24856, 28200, 31809, 30588, 26389,\n",
       "         18829, 28633, 16114, 32937, 27096, 28689, 29871, 17532,  9320,\n",
       "         12571, 24370, 31066, 27480, 21855, 27124,  5365, 23182, 32718,\n",
       "         10661,  3277, 32531]),\n",
       "  array([   92, 29393, 17128, 11158,  7502, 24761]),\n",
       "  array([   93, 16965, 18832,  7465, 20113, 29265, 16897, 12457, 21531,\n",
       "         13150,  8961, 21817, 15706, 15705, 19049, 18368, 19555, 29108,\n",
       "          6007, 31399, 20298, 19206,  4495, 22825, 20952,  9601,  9541,\n",
       "          5333, 30278, 29278,  4533,  9521, 21666,  1303, 12751,  7528,\n",
       "         30978, 29707, 14754, 18442, 34180, 10984]),\n",
       "  array([   94,   430, 29811, 13847,  9365, 28679, 30520, 25926,  7158,\n",
       "          2803, 22374, 16607, 19314,  5662, 12900, 12899,  3623, 33829,\n",
       "         21527, 21528, 27968,  4391,  6984, 29978, 26575, 11924,  7449,\n",
       "         10570, 25291, 11896, 26567, 22799,  9771, 26960]),\n",
       "  array([   95, 14404, 17754,  1781, 23421, 23422,  2561]),\n",
       "  array([   96, 15675, 31026, 28017, 15250, 31626,  1147, 23895, 23894,\n",
       "         23896, 23897,  6116,  6115, 18375,  8123, 34048, 34049, 16536,\n",
       "         28962, 28134, 14472,  1205, 21767,  5367, 32629, 14341, 19306,\n",
       "         22788, 21145, 20500, 20499,  9759,  2474]),\n",
       "  array([   97, 11737, 28476, 31030, 14580, 14579, 20055,  2154,    50,\n",
       "         13644, 34235, 28428, 22316, 19112,  8420,  8116, 12698,  3882,\n",
       "         33027, 33806,  7408, 29493, 12337,  3908, 12762, 27830,  3656,\n",
       "         21719, 19301,  6361, 16546,    85,  6515,  6516, 29323, 13651,\n",
       "         27228, 32301, 32302, 32300, 28168, 14655, 16495, 33533, 10905,\n",
       "         25206, 11921, 22421, 19907,  6190]),\n",
       "  array([   98,    99, 15767,  8668,  7526,    63,  6201, 11757, 10838,\n",
       "         31721,  2608, 14491, 32578, 12284, 12932, 31759, 13476,  6734,\n",
       "         26483, 27075, 33322, 27146, 28282,  5283,  1186,    75, 17811,\n",
       "         21204, 11586, 12393, 28045, 18326, 12688, 28489, 22170, 14544,\n",
       "         33423, 12706, 32138]),\n",
       "  array([   98,    99, 15767,  8668,  7526,    63,  6201, 11757, 10838,\n",
       "         31721,  2608, 14491, 32578, 12284, 12932, 31759, 13476,  6734,\n",
       "         26483, 27075, 33322, 27146, 28282,  5283,  1186,    75, 17811,\n",
       "         21204, 11586, 12393, 28045, 18326, 12688, 28489, 22170, 14544,\n",
       "         33423, 12706, 32138]),\n",
       "  array([ 100, 3664]),\n",
       "  array([  101, 33321, 31253]),\n",
       "  array([  102, 17712, 25693,  2651, 10692,  6458, 27457, 16962, 16961]),\n",
       "  array([  103, 27812, 21315, 20105, 28878, 27469,  5341,  8983,  4255,\n",
       "         22183, 14559, 18753, 32290,     3,  6814,  9821,  1074,  6261,\n",
       "         20719, 24678, 28288, 13324, 21753,  5862,  3459,  8200, 30082,\n",
       "         11027,  2522, 12325,  8790, 17184, 30132, 24914, 28826,  2596,\n",
       "         19771,  5146, 25816,  1176,  1584, 27837, 27637, 29673,  3027,\n",
       "          1947, 30541,  3892, 22840, 14988]),\n",
       "  array([  104,   105,   106,   107, 23210, 11660, 18234]),\n",
       "  array([  104,   105,   106,   107, 23210, 11660, 18234]),\n",
       "  array([  104,   105,   106,   107, 23210, 11660, 18234]),\n",
       "  array([  104,   105,   106,   107, 23210, 11660, 18234]),\n",
       "  array([  109,   108, 11745]),\n",
       "  array([  109,   108, 11745]),\n",
       "  array([  110,  9987, 15728, 15213, 25213, 17021, 22630,  5419, 24243,\n",
       "         11134,  5023, 10858, 21045,  7331, 25337, 19652, 18205]),\n",
       "  array([  111,  6808, 26996, 28527,  4417,   581, 29103, 29104,  3246,\n",
       "         21172, 32730, 32731, 20855,  4732, 10155, 10154, 12534, 23755,\n",
       "         12599, 18269, 13945, 10531, 10441, 29202, 11596,  8755, 29747,\n",
       "          8477, 10573, 15773,  9701, 32846,  4765, 16845, 15806, 17381,\n",
       "          8321, 27143, 19188,  5122,  1992, 20886, 30064, 10012,  6335,\n",
       "         24333, 12117, 14311,  8044, 10343]),\n",
       "  array([  112, 16408, 29894, 29895]),\n",
       "  array([  113, 24527, 31478, 32344, 19443,  7010,  9568, 26007, 16490,\n",
       "         22310,  5088,  9641, 11439,  7125, 17118,  1951, 31508,  7281,\n",
       "         26775,  3574, 14333, 32482, 24973, 20616, 29925, 22342, 23132,\n",
       "          1101, 33021, 30211, 16600,  2490, 18766, 14225, 21191,  3399,\n",
       "         12721, 33660,   834, 31132, 30916, 13541, 32891,  8347,  8346,\n",
       "         31653, 20881,  5769, 26273,   195]),\n",
       "  array([  114, 32354, 28623,   313, 17210, 20411, 20163]),\n",
       "  array([  115,  8551, 24504, 28958,  3165, 28504, 16132, 18756,  2207,\n",
       "          6011,  7934,  4681, 31011, 13444, 22638,  2104]),\n",
       "  array([  116, 16015, 33801, 17362,  2610, 27093, 18436, 16874, 28591,\n",
       "         15214,  6841, 30007, 27536,  9729,  3153]),\n",
       "  array([  117,  5930,  5931, 28141, 11525, 14338, 21964, 27716, 10203,\n",
       "         20305, 15679,  9477, 16606, 16604, 16605, 33491, 22866, 13729,\n",
       "         14166, 23990, 14411, 16648, 11860, 31930, 10067, 28475, 10419,\n",
       "         18868, 12185, 10574, 13664, 19503, 31887, 20580,   523, 16827,\n",
       "         18614,  5671,  8155, 17899, 29450,  2970, 19017, 19018,  2910,\n",
       "         19876, 19879, 19877, 19878, 15749]),\n",
       "  array([  118,  8700, 27224,  7456, 22850, 23863, 17545,  2641,  7040,\n",
       "          7359,  8411, 13152,  2826, 20033, 29276, 10172, 33038, 29411,\n",
       "         16261, 33648, 33198, 28379,  5484,  5483, 10554, 13912, 25180,\n",
       "         26875, 24884, 29305,  9897, 15572, 30164, 29810, 22551, 17706,\n",
       "          1227, 30595, 30596, 13298,  3864,  9985, 14819, 13601, 26980,\n",
       "         23887, 11467, 34061, 19778,  5173]),\n",
       "  array([119, 120]),\n",
       "  array([119, 120]),\n",
       "  array([  121, 19108, 30998, 27366, 12275, 20603, 12228, 30483, 14342,\n",
       "         13848, 17664,  5608, 21147,  8586,  8585,  4365,  4366, 10000,\n",
       "         13395,  1523,  6088, 33168, 33167, 33169, 14074, 14073,  3145,\n",
       "         17173,  2002, 22916,  2178, 32018, 16823, 10533,  2391, 26109,\n",
       "          5376, 33737, 13515,  2501,  3137, 20282, 18611, 14330, 23520,\n",
       "         29312, 29967,  2248, 10597, 10599]),\n",
       "  array([  122, 27977, 10586,  9829, 23670,  3466, 14811, 11729,  4633]),\n",
       "  array([  123,    25, 14547]),\n",
       "  array([  124, 34181, 17942, 17940, 17941, 27359, 12090, 12092, 12091,\n",
       "         14555, 17364, 21540, 21558,  9989, 17906, 31004, 18154, 33898,\n",
       "          6382, 10013, 28310, 14639, 19918, 31437,  4442,  4441, 24477,\n",
       "         21705, 10972, 25755,  9802, 32403,  5582,  9175, 29479, 23952,\n",
       "         31906,  4565, 20692]),\n",
       "  array([  125, 22423, 27577, 29289, 21021, 13242, 10020, 25509,  8354,\n",
       "         31851, 30431, 30432, 27165, 33513,  2946,  2945,  2947,  2948,\n",
       "         20918, 20392]),\n",
       "  array([  126, 11002, 15267, 25565, 26193, 28674,  1897, 31666, 20492,\n",
       "          8311,  8168, 20232,  5703, 15445, 25464]),\n",
       "  array([  127,  6846,  7163, 29150, 27073, 33096, 17893]),\n",
       "  array([  128,   515,  8439, 10919, 26960, 13215]),\n",
       "  array([  129, 10053, 32687, 11112]),\n",
       "  array([  130, 30428, 31098, 32963, 27105, 21641,  1405,  3924, 28124,\n",
       "         14702, 32281,  1891,   562,  5697, 26061, 27987, 20755,  1265,\n",
       "          5698, 32153,  2988, 11575, 24270,  1996, 23104,  4447, 15792,\n",
       "         15906,  5300,  4289, 14259, 29019, 18421,  7156,  9001, 33268,\n",
       "         24337,  3829, 30214,  2494,  8604, 14169,  5392, 13472]),\n",
       "  array([  131,  1155, 10753, 30790,  7177,  7178,  6013, 13635, 31716,\n",
       "          2054,  9835, 33204, 32327, 24612, 26804, 32834,  5156,  5229,\n",
       "         25272, 32499, 24148,  7722,  7721,  7720,  7724,  7723, 23131,\n",
       "         11498, 22555, 16641,   378, 12513, 28990, 28988, 28987, 28989,\n",
       "         17442, 33662, 17045, 31342, 10113, 29405, 20820, 30342, 12441,\n",
       "         10076, 10684,  9435,  9436,  9437]),\n",
       "  array([132, 990]),\n",
       "  array([  133,  6130,  3428, 12437, 15954,  7337,  1182, 17352, 29232]),\n",
       "  array([  134,  9294, 20239, 20276, 32062, 17776, 24471, 25566, 10252]),\n",
       "  array([  135,  2420, 17860, 11116, 13692, 13693,  3970,  9005, 26861,\n",
       "         23956, 14304,  7344, 19419, 19420, 19418,  4967, 25462,  3910,\n",
       "         21088, 20144, 11518,  6403, 30870, 15303,  9999, 31123, 25783,\n",
       "         25781, 25782, 16983,  3016, 22737, 15532, 32362,  6514,  2245,\n",
       "         22417,  3822, 30428,  9312, 19376,   799,   800, 20783,  2035,\n",
       "         14702, 22364, 24709, 31098, 16708]),\n",
       "  array([ 136, 8097]),\n",
       "  array([  137, 15458,  9745, 27694,  1551, 22647]),\n",
       "  array([  138, 21240, 21366, 13433,  1756, 25346,  2730, 16778,  9512,\n",
       "          9130, 22242, 19553,  7160, 14534, 19122]),\n",
       "  array([  139,  4648, 16526, 10126, 28787]),\n",
       "  array([  140, 13657, 26649, 17523,   662]),\n",
       "  array([  141, 15772,  7325, 17660,  5441, 12395, 32287]),\n",
       "  array([  142, 28399, 19287, 10418, 30395, 16614]),\n",
       "  array([  143, 17306, 14025]),\n",
       "  array([  144, 31614, 19478, 11142,  4305, 20753, 29144, 18479, 25187,\n",
       "           718,  9513,  5503, 26607, 14859,  3127,  7786, 23676, 18062,\n",
       "         18061, 15365,  9834, 13938, 13937,  4457,  4901,  6936, 32538,\n",
       "         10215, 31742,  7369, 32517, 16081,  5047, 23391]),\n",
       "  array([  145, 12996,   155, 20754, 11136]),\n",
       "  array([  146, 22733,  3068, 21904, 14465, 14467, 14466, 11266, 14368,\n",
       "         29867, 16974, 25241, 11133, 24073,  6364, 31278, 25049, 19271,\n",
       "         13390, 15823,  2387, 25408, 31693,  3655, 31711, 27405, 27371,\n",
       "         24293, 15517,  3375,  6567, 28020, 11826,  6232,  9117, 23087,\n",
       "         23794, 33338,  9013, 22567, 27852, 24275, 24274,  3769,   509,\n",
       "          9599, 23086, 29778,  2743, 11117]),\n",
       "  array([  147, 17977]),\n",
       "  array([  148,  2607, 15122,  1335, 24331]),\n",
       "  array([  149, 18614, 11723, 18710,  4822, 29100, 12185, 24103, 14411,\n",
       "         11860,  6709,  2927, 16648,  9477, 33491, 23990, 28475, 19876,\n",
       "         19878, 19879, 19877, 21070, 13616, 16827,  4056,  2970, 17515,\n",
       "         22866, 12620, 31930,  5930,  5931, 14338,   117, 16238, 23453,\n",
       "         16605, 16604, 16606,  8670,  8669,  8671, 13040, 24583, 28141,\n",
       "          4064, 10574, 18868, 14166, 21735]),\n",
       "  array([  151,   150, 22568,  9629,  7383, 23841, 27112, 14026, 15269,\n",
       "          9650, 19495,  9508,  6242,  8939, 12070,  2017,  2016]),\n",
       "  array([  151,   150, 22568,  9629,  7383, 23841, 27112, 14026, 15269,\n",
       "          9650, 19495,  9508,  6242,  8939, 12070,  2017,  2016]),\n",
       "  array([  152,  6596, 25951, 32831, 32830, 24874, 26164, 34039]),\n",
       "  array([  153,  7035, 23222, 24671, 24672, 15185,  1154]),\n",
       "  array([  154, 33023, 26700,  2623, 21149, 33825]),\n",
       "  array([  155,   145, 12996, 20754, 11136]),\n",
       "  array([  156, 11074, 14070]),\n",
       "  array([  157, 17298]),\n",
       "  array([  158, 26979, 10320, 26248, 25553, 27478, 31615, 31218, 24077]),\n",
       "  array([  159, 24185, 24123,  8321,  8280, 27303, 17588, 13211, 33471,\n",
       "          1747, 23045,  3095, 13478, 23236, 32039,   222, 14848,  2360,\n",
       "         20338, 30865, 29917,  7597, 27961, 23739, 24327, 24329, 24328,\n",
       "         14576,  3530, 20185, 15806,   711, 20354,  1083, 21978,  9644,\n",
       "         19445, 21672, 11892, 19188,  5677,  9184]),\n",
       "  array([  160, 19136]),\n",
       "  array([  161, 12650,  2913, 11259,  2094, 25709, 12000,  8370,  9368,\n",
       "         23917,  8195, 29012, 24849, 18664, 19807, 21449, 18350, 31526,\n",
       "         32022,  9047, 21413, 23526, 19101,  3640, 29993,  8085,  4019,\n",
       "         29209, 29211, 29210, 18148,  6978, 31342, 32680, 32678, 32683,\n",
       "         32682, 32681, 32677, 32679, 22518,  7916,   671, 23601, 23603,\n",
       "         23600, 23602, 23599,  9766, 22389]),\n",
       "  array([  162,  5803, 27893,  4384]),\n",
       "  array([  163, 29384]),\n",
       "  array([  164, 31130, 11611,   826,  4279,  3010, 18178, 16521, 19021,\n",
       "         14387, 10379, 23161]),\n",
       "  array([  165, 28306, 29495,  9668]),\n",
       "  array([  166, 25678,  4437, 21758,  6889,  2476,  2475, 18948, 18947,\n",
       "         18949, 20694, 31375, 31244, 31243,  8078,  7419, 21048]),\n",
       "  array([  167,  4214,  4216,  4215, 34027, 19013, 17630,  2639, 24175,\n",
       "         12536, 19810, 27126, 16238, 29225, 23832, 23453, 27181, 16950,\n",
       "         25786, 28947, 13600, 17780, 12620, 32328,  4064,  8670,  8671,\n",
       "          8669, 16151,   377, 18402, 24691, 31403, 31402,  2715, 10180,\n",
       "          2960, 17829, 15376,  7181,  4822, 13616, 13908, 31165, 19528,\n",
       "          4836, 11698,  2849, 17990,  7193]),\n",
       "  array([  168,  5375, 27051,  8926, 15658, 19439, 20607,  8156, 31760,\n",
       "         22612, 22463, 24300, 24472, 28725, 11698,  4746,  7069, 11635,\n",
       "         11634, 31696,  6439, 20632, 31291,  8463, 14070, 13769, 13649,\n",
       "          4350, 23692, 23691, 25854, 19972,  8148, 13419, 21835, 27861,\n",
       "         16057, 34105, 29910, 31663,  1850, 22105, 20956, 32960, 20017,\n",
       "          9667,  5455, 27353,  8516,  2741]),\n",
       "  array([  169,  2117, 17091, 29107, 12103,  8301, 12560,  2910, 23155,\n",
       "         33543,  3624, 28617, 19591, 28246, 11805, 18868,  1854, 11525,\n",
       "         20580, 10574,  6280,  6817, 29102, 31887, 13664, 25786, 23832,\n",
       "         13329, 20305,  5671, 22866, 21735,  6630, 21964, 14338, 19879,\n",
       "         19877, 19878, 19876,  8155,  4348, 10203, 30115,  9477, 18532,\n",
       "         33491, 27716, 30522, 18441, 17149]),\n",
       "  array([  170, 18812]),\n",
       "  array([  171, 15541,  1013, 28895, 34044,  1382,   805, 22028, 33511,\n",
       "         28643, 13297,   394, 32249, 10938, 22276, 27803, 14827,  9212,\n",
       "          1512, 27332,  7768, 15406, 16013, 12426, 19095,  2065, 27282,\n",
       "         31835,  3575, 20177,  2638, 27539, 17338, 30261,  5061, 23311,\n",
       "         11393, 30136, 31576,  9865,  1910, 13663, 11651, 10600,  9143,\n",
       "          1269, 22496,  9181, 25852, 25151]),\n",
       "  array([  172, 22133]),\n",
       "  array([  173, 25947, 10167]),\n",
       "  array([  174,  3550, 30936, 30837,   409,  4676, 10320, 27478, 29904,\n",
       "         30418, 26979, 21828]),\n",
       "  array([  175,  4313, 32896, 19988, 19822, 13137,  8173,  1370, 23606,\n",
       "         14588, 23195, 17260]),\n",
       "  array([  176, 30238,  9174,  6105, 24512, 32223, 33922, 11353, 13597,\n",
       "          2772, 32033, 16812, 25727, 29882,  3851,  5286, 28324, 12312,\n",
       "          6490, 29200, 27037, 22185,  1069, 18781, 25161,   382, 22187,\n",
       "         28519, 10365]),\n",
       "  array([  177, 21515, 10558, 25480, 30907, 30908,  9426,  9906,  9573,\n",
       "         16129, 16128,  4360, 24346,  9204, 19405]),\n",
       "  array([  178,  9170, 15922, 22162]),\n",
       "  array([  179,  5857,  9001, 28124, 22302,   291, 27162, 32963, 27105,\n",
       "         21641, 26662,   562, 12715,  1614, 11833,   682,    42, 13970,\n",
       "         22704, 32281,  5728, 23562,  1405, 31098,  2981, 16822,  1475,\n",
       "         19376, 13116,  7156,  4447, 24696, 10857,  3975,  7537, 23056,\n",
       "         23104,  1891, 18380, 18379,  9160, 20913, 30162, 17297,  3924,\n",
       "         13348,  8604,  3783,  5697, 33268]),\n",
       "  array([180]),\n",
       "  array([  181,  1819, 17789, 21234, 33295,  2213,  2212, 26536, 11526,\n",
       "         11527,  8590,  6576, 11989, 11621,  4670]),\n",
       "  array([  182, 30334, 18613, 19408, 19589,  5736,  5735]),\n",
       "  array([  183, 24826, 22844, 14815,  2128,  2127, 17997, 11583, 10653,\n",
       "          2578,  2579,  2580,  2581,  2582,  2583, 20715, 31529, 31528,\n",
       "         31527, 28804, 23846,  2062, 16001, 27373, 20509, 17837, 20785,\n",
       "         23440]),\n",
       "  array([  184, 15455, 26158, 16256,  3483,  6654,  4548, 29025, 27070,\n",
       "         23390, 12701, 16624, 27533, 25374, 16007, 13578, 25037, 14211,\n",
       "         22467, 21946,  4354]),\n",
       "  array([  185, 29033, 19784, 33113, 18767, 24982,   498,  6531, 28040,\n",
       "         28039,  4115,  4114, 19051, 31847, 15854, 15838,  9664, 11083,\n",
       "          2066,  2648,  9911]),\n",
       "  array([  186,  7560, 15977, 19869, 12274, 25062, 24392, 21336, 27385,\n",
       "         16971, 26019, 28260, 27600, 33055, 33056, 29675, 15687, 22888,\n",
       "         21713,  3538,  5802,  5893, 24452, 32639, 10770, 28839, 25311,\n",
       "         27537, 28425,  4011,  4010,  4012,  1817, 17496, 32015, 27436,\n",
       "         11816, 31647, 28891, 17813,  8557,   465, 14241,  7002, 12305,\n",
       "         16457, 31837,  4858, 16844, 26154]),\n",
       "  array([  187, 13575, 26456, 19911, 20221, 12732,   944, 22963,  2845,\n",
       "         33790,  7226,  7225, 18549, 27832, 30243, 24793, 12404,  2079,\n",
       "         14680]),\n",
       "  array([  188,  2883, 28934, 25014, 25013,  3454,  3455]),\n",
       "  array([  189, 28592,  3628,  3629, 29414,  6554, 16671, 23613,  6620,\n",
       "         11382, 19963, 27185,  6266,  7478, 24402, 11471, 12401, 31561,\n",
       "         12424,  9410, 31065,  8710,  1547,  8357, 25455,  6960,  9339,\n",
       "         23021, 27331,  8928, 17421, 17420, 14508, 23293, 15945, 19688,\n",
       "         11552, 14755,   693, 19157,  2428,  6288, 18249, 19646, 17136,\n",
       "         17493, 27187, 21695,  9228, 27377]),\n",
       "  array([  190, 20734,  4432, 10715, 20867, 29120, 33701,  8118, 14919,\n",
       "         20673,  5726, 14546, 22211, 17132, 23174, 17749,  1022, 26032,\n",
       "         17925, 17924, 17926,  8115,  9849, 33630]),\n",
       "  array([  191, 15208,  3391, 23150, 34015, 21117, 23176,  7580, 17694,\n",
       "           548,  5997,  6050,  6051, 13147,   825, 31095, 16456, 16916,\n",
       "         16435,  4144, 24957, 18246, 18245,  3259, 21800, 17255, 16496,\n",
       "          8997,  6480,  7393, 28545,  8823, 16649, 12836, 11895, 10922,\n",
       "         10923, 32101, 11522, 14206, 24398, 13045, 24922, 16617,  3126,\n",
       "         16327,  1038,   476, 18055,  2184]),\n",
       "  array([  192, 26810, 12101, 16893, 33798, 15122, 32386, 15972]),\n",
       "  array([  193, 21241,  2010,  4450,  4449, 26713,  9144, 23346, 32785,\n",
       "         29914, 29913, 24903, 17735,  3482, 22982, 12232, 12234, 12233,\n",
       "         10597, 10599, 10598, 17864, 11711, 23908, 30804, 33737, 21147,\n",
       "          5608, 17664, 30170, 16823, 26272, 32018,  2248,  2501, 23520,\n",
       "         33169, 33168, 33167,  6088, 14073, 14074, 22916,  3145, 13395,\n",
       "          1523,  2178, 10000, 13657, 14342]),\n",
       "  array([  194,   469, 25199, 18683,     1]),\n",
       "  array([  195,  5769, 32891, 31132, 30849, 10604, 20616,  9828,  6206,\n",
       "          8051,  1101, 22310,  4338,  4356, 18851, 32344,  7281, 23172,\n",
       "         33021, 16600, 16619,  7125, 25202, 20102, 32813, 22947, 30916,\n",
       "          6145,  1951,  8347,  8346,   113, 31478,  5088, 20621,  7415,\n",
       "          9568,  9917, 23132, 17118, 14741, 31508,  2490, 21796,  9641,\n",
       "         29925, 11439, 22342,  1301,  7282]),\n",
       "  array([  196,  5116, 10725, 16582, 13925, 19187, 24295, 22709]),\n",
       "  array([  197, 24236, 28304,  5465, 24822, 28497, 31988, 16911, 14519,\n",
       "         22565, 14121,   928, 12592, 27897, 22304,  7379,  9323, 23527,\n",
       "         12252, 10416, 31457,  1130, 20581, 22372, 11476, 30275, 26550,\n",
       "         17105,  8740, 15570, 21466, 31794,  3182, 32137, 32510, 29784,\n",
       "           841, 27553, 11207, 30652, 17629,  5795, 13151,  3804, 23343,\n",
       "           419, 23687,  2240, 26836, 21630]),\n",
       "  array([  198, 13891, 11903, 28106,  4232,  1014, 16702, 31984,  4571,\n",
       "         34171, 16673, 23638, 23639, 28620,  3449, 32787, 32349,  1966,\n",
       "         15652,  6823,  6824,  9740, 28845,  6683, 28385, 22204,  4008,\n",
       "         10537, 22184, 21870, 11126, 28119, 22578, 28185, 16676, 23320,\n",
       "          3222,  3395, 20930, 21359, 25435, 15387,   461, 32753,  6924,\n",
       "         14925, 27492, 17336, 19261, 27782]),\n",
       "  array([  199, 16864, 10782, 19985, 27464,  8602,  2042, 25479, 30620,\n",
       "         24788, 16477, 16998]),\n",
       "  array([  200,  5140, 23034, 23033,  8519, 14352, 14350, 14351, 31087,\n",
       "         32011]),\n",
       "  array([  201, 23824,  3812, 19523, 16139,  6323, 16886, 10666, 28336,\n",
       "          9762,   372,  7999,    72, 23598,   925,  7908,  5476, 12396,\n",
       "         18958, 33530,   906, 31307, 11582, 26904, 16079, 12224,  5305,\n",
       "         23876, 21161,  6484,  5794, 18806, 29565,  4159, 27546,  6494,\n",
       "         25869, 25870, 17593, 22407,  3736, 14651, 24839, 25481, 30304,\n",
       "         17972,  2235, 25798, 15375, 19605]),\n",
       "  array([202]),\n",
       "  array([  203, 28637, 22534,  8824, 18366, 32262]),\n",
       "  array([  204, 14701, 17610, 28580,  4621, 23024, 23025]),\n",
       "  array([  205,   607,  8183,  9806, 17715, 17716, 15673, 33133,  4020,\n",
       "          1339, 25529, 26548, 21926, 16076, 17927,  4428, 28368, 28367,\n",
       "         15391, 29531, 33418, 10351,  2537, 31492,  2654, 16020,  8131,\n",
       "         30448,  8011,  8587, 27076,  2349, 29564, 17536, 13828, 21547,\n",
       "         17190, 22455,  3750, 11051, 18566,  5092,  6665,  9588, 29560,\n",
       "         24889, 10600,  1730,  1269,  2863]),\n",
       "  array([206]),\n",
       "  array([  207, 34010, 27659, 15413, 10663, 14299, 14300,  1180,  1179,\n",
       "         31220]),\n",
       "  array([  208, 14603, 31289,  9901, 20905,  9016,  1619, 32917, 24038,\n",
       "          8663, 24802, 11197, 21536, 16953, 20631]),\n",
       "  array([  209, 23379]),\n",
       "  array([  210, 32247, 25111, 26035, 12041, 29862, 33062, 31541]),\n",
       "  array([  211,  5210,  5209,  5208,  6286, 25434]),\n",
       "  array([  212, 22632, 26667, 15033, 16205]),\n",
       "  array([  213, 20954]),\n",
       "  array([  214, 16286,  5876, 28085, 31275,  3405, 26505, 10879, 21863,\n",
       "         18888, 19526, 19905, 10723, 29497, 13509, 14909,  4600,  2482,\n",
       "         16423, 13125,  6827, 32004, 21338, 20733, 15535, 15273, 17246,\n",
       "         25253, 18250, 28937,  2215, 28262, 29973]),\n",
       "  array([  215, 29446, 11864, 31420, 22549, 20094, 15483, 31391, 18839,\n",
       "         15248, 15247, 25354, 19263,  4928, 17631, 27798, 27283, 23925,\n",
       "          3638, 24303,  1352,  4644,  8841, 11364]),\n",
       "  array([  216,  8819,   567, 19966, 18769, 18533, 33637, 21110, 17296,\n",
       "         23151,  8822,  6757, 31082, 31945, 33675, 33676, 30058, 33157,\n",
       "         26127, 29208,  6400, 18505, 20999, 24176, 20960,  9196,  9197,\n",
       "         20166, 20165, 20164, 32184, 16798, 30675, 15021, 29069,  2487,\n",
       "         30125, 27387, 34023,  4455,  5809, 13877, 19750, 10959, 26746,\n",
       "          6094,  3314,  3315,  3316, 12921]),\n",
       "  array([  217, 18968,  6834,  6835, 18287, 27191]),\n",
       "  array([  218, 24400, 17093, 23304, 26719,  5963]),\n",
       "  array([  219,  4149,  3262, 14338, 11860, 23155, 11525, 33543, 13616,\n",
       "         31887, 31930, 22866, 30937, 13664, 18868,  9477, 20580, 17091,\n",
       "         33491, 16827, 23990, 10574,  2849, 16604, 16606, 16605, 21964,\n",
       "         14166, 15679, 13729,  5671, 19528,  8670,  8671,  8669,  7018,\n",
       "         19061, 28475,  2910, 14411,   714,   715,   713, 10203,  8155,\n",
       "         27716, 30948, 28947, 21070, 12103]),\n",
       "  array([  220, 11529, 14071, 14072, 19308, 24748,  9662,  1165, 19798,\n",
       "         21665, 10411, 24272, 27226,   879, 14378, 30447, 20812, 14587,\n",
       "         31675, 31607, 20060, 20278, 20277, 16987, 11755,  6047, 23416,\n",
       "         11283, 31423, 15544,  9679, 26631, 26625, 26630, 26629, 26628,\n",
       "         26626, 26624, 26620, 26627, 26623, 26621, 26619, 26622, 24729,\n",
       "         29469,  1430,  5733, 14624, 27704]),\n",
       "  array([  221, 12819,  7842]),\n",
       "  array([  222,  9184, 27760,  9393, 11596, 27303,  9203, 26751, 13991,\n",
       "         29950,  5122, 26996, 25001, 26853,  5963, 19188,   159,  3877,\n",
       "         20338,  1083,  8280, 17381, 29917,   111,  5818,  6808, 14576,\n",
       "         24232, 17093, 23236, 26364, 29747,  8321,  1672,  8268, 26719,\n",
       "         13211, 29103, 29104, 17588, 33471, 23739,  7963,  1403, 18981,\n",
       "         21978, 26230, 24123, 17769, 15806]),\n",
       "  array([  223,  5428, 31168, 24762,  8371,  6082, 18435, 20787, 23496,\n",
       "          5543, 13631, 33297,  9782, 29224, 27338,   837, 30659, 33727,\n",
       "         12746, 25451, 19246, 14177, 27815, 12183,  4525, 15002, 27401,\n",
       "          2090,  2089, 31048, 14437, 15385, 15384,   517, 17723, 28866,\n",
       "          8675, 14672, 27430,  1815,  1814, 20648, 12049,  6513, 32806,\n",
       "         33709, 10559, 10579, 19715,  6915]),\n",
       "  array([  224, 15429, 31329, 30540,  5489, 31739, 27922, 20134, 32577,\n",
       "         32576, 32575]),\n",
       "  array([  225, 24597, 24596, 30844, 24900,  9956,  1287,  5005,  8254,\n",
       "         32064, 15361, 30222,   584,  8063, 10942, 21640, 21639, 16789,\n",
       "         10321, 18404, 16851,  3143, 19161, 13738, 33766,  1451, 16244,\n",
       "         29113, 22146, 24464,  4368,  1202, 15243,  8423,  8424, 16268,\n",
       "         29719, 27590, 18434,  5397,  4620, 22055, 13246, 12003,  4392,\n",
       "         17391, 30969,  3993,  4086, 33694]),\n",
       "  array([ 226, 4727]),\n",
       "  array([  227, 18903, 20416, 28519, 29697, 19162, 11315, 16812, 25719,\n",
       "         13846, 28513, 26586, 25161,  1141, 30519, 26522, 21900, 31109,\n",
       "         29684, 14695, 18732, 29552, 22187, 18303,  4293,  5303, 24097,\n",
       "         33787, 10640,  5498,  2772, 22795, 13047, 14535, 22314,  6105,\n",
       "         34103, 34102, 14861, 24537,  5983, 11208, 24930, 22185, 28151,\n",
       "          6856,  1869, 28889,  5325, 11353]),\n",
       "  array([  228, 14981, 21882, 19230, 15136, 15137, 15135,  7341,  9208,\n",
       "         17112]),\n",
       "  array([  229, 10924, 16487,  3746,  5508, 22528]),\n",
       "  array([  231,   232,   230, 24674]),\n",
       "  array([  231,   232,   230, 24674]),\n",
       "  array([  231,   232,   230, 24674]),\n",
       "  array([ 233, 1871]),\n",
       "  array([  234, 22575,   753, 16106,  2060, 28373,  1739,  2478, 14458,\n",
       "         15503, 28311, 23348, 32525,  4294, 26055, 26056, 28775, 11559,\n",
       "         33853,  9417,  1598, 14566,   646, 33540]),\n",
       "  array([ 235, 2294]),\n",
       "  array([  236, 10739, 13340, 16023, 23476, 33932,  2837, 28696, 26726,\n",
       "          8453, 31025, 18038, 16614]),\n",
       "  array([  237, 11188, 24345,  8100, 22301, 11859, 25461, 13835, 31345]),\n",
       "  array([  239,   238, 29766]),\n",
       "  array([  239,   238, 29766]),\n",
       "  array([  240, 16650, 22661, 15396, 12914, 18313, 12557]),\n",
       "  array([  241, 24462, 17955, 15714,  2959,  6297,  4271, 22101,  9792,\n",
       "         31720, 32137, 23779, 31311,  9744]),\n",
       "  array([  242, 17044,  5507, 29161, 11273,  5058, 26634]),\n",
       "  array([  243, 30461, 23478, 33542, 23542, 23543, 12459, 30766,  4743,\n",
       "         29596,  4779,  8002, 26454, 26455, 30832, 32837, 23885, 11874,\n",
       "         11873, 10104, 15344, 25152, 20793, 18029,  5049, 25752,  2537]),\n",
       "  array([  244, 27334, 27263, 14752, 21850, 27302, 31335,  6551,  9905,\n",
       "         23498, 16722, 28271, 16958, 15257,  9209, 10606,  4850]),\n",
       "  array([  245,  3318, 13452,  8895,  8894,  4982,  5164, 11027, 20587,\n",
       "         20105,  6261, 14559,     3,  9821, 16795, 20819, 33347, 24560,\n",
       "         26503, 24678, 20746,  9632]),\n",
       "  array([246]),\n",
       "  array([247]),\n",
       "  array([  248, 11667, 32167, 21644,  7952,  2099, 25897, 26866, 16221,\n",
       "         34018, 10401,  2642,   397,  1961,   490, 23197, 25109, 18127,\n",
       "         34229, 16898,  9135, 21834, 20622, 10336, 11399, 18521, 18522,\n",
       "           264, 22425,  4893, 19590,  2930,  5734,  1173,  6690, 29904,\n",
       "         24066,  2525,   914,  6426, 24532, 23508, 32495, 24316, 31686]),\n",
       "  array([  249,  8390, 32871, 24412, 32014, 12810, 10505,  5323, 21051,\n",
       "         30150, 19967, 23228,  4692, 30971, 33972, 26183, 26182, 26735,\n",
       "         26736,  2692, 32851, 26490, 15372, 18121, 21581]),\n",
       "  array([  250, 10624, 16638, 20685, 20684]),\n",
       "  array([  251, 33657, 11680, 10038, 28267,  8665,  8664,  1018, 12315]),\n",
       "  array([  252, 11186,  2900, 18585,  2343, 23771, 29452, 22905,  2600,\n",
       "          3720, 17133,  2789,  9907, 25320,  9438,  8890]),\n",
       "  array([ 253, 6048]),\n",
       "  array([  254, 17452, 23984,  3105,  6782, 21562,  8680, 30360, 22159,\n",
       "         27543]),\n",
       "  array([  255,  5380,  9904, 20441,  8286,  4973, 25493]),\n",
       "  array([  256, 13420]),\n",
       "  array([  257,  6011, 16172,  6147,  6146,  5037, 11551,  7934,  4681,\n",
       "         18398, 27744, 19223,  3771, 20890,   316, 30219, 13444, 30799,\n",
       "          6404, 19730, 12065, 11661, 15080, 11490, 27006,  8379,  3165,\n",
       "         17616, 33314,  4572]),\n",
       "  array([  258,  7205,  7204,  7207,  7206, 31037, 11940]),\n",
       "  array([  259,  9418, 31820, 19314, 24213, 25926, 27968,  6984,  7449,\n",
       "         26575, 11173, 10570, 29978, 22374, 25291, 11896,  3067,  5662,\n",
       "         12899, 12900, 32028,  7158, 16875, 11924, 31390, 22799, 21527,\n",
       "         21528, 29811, 28782, 30329, 16101, 17721, 31798,  9863, 26567,\n",
       "          3623, 20512,  6559,   430, 13591,  2803, 16607]),\n",
       "  array([  260, 25102, 12207,  2242, 24466, 31387, 12729, 18561, 16498,\n",
       "         31522, 16118, 11898, 19842, 12142, 31265,    35, 20826, 19734,\n",
       "         28949,  4120, 18754, 19921, 14898,  4362,   634, 18741, 10165,\n",
       "         14498, 31603,  5644, 33163, 24208, 28048, 22379, 31857, 13960,\n",
       "         27813, 27004,  7322, 11125, 10738, 30467, 32507, 10926, 28888,\n",
       "          1737,   564,  8167, 17223, 18529]),\n",
       "  array([  261, 26844,  6220, 34152,  9281, 32471, 33765, 12054, 11988,\n",
       "         23079, 24131,  8620,  8621,  8622, 13777, 16914, 16915, 30746,\n",
       "         24118,  6255, 16095, 16096,  1695]),\n",
       "  array([  262, 10120, 26870, 10341,  4664,  7809,  7166,   299, 10931,\n",
       "         23630, 27859, 24089, 31765, 10274, 20205, 27573,  5882, 17985,\n",
       "          2470, 25204, 34157, 31162, 29567, 16291,  6499, 26721, 22547,\n",
       "         31493, 12392, 20853, 10686, 33344, 29838,  4330, 29017, 16516,\n",
       "          7983, 23717, 33457, 28355, 32216, 19782, 33173,  3673, 18796,\n",
       "          1359, 11601, 14665, 31918, 29453]),\n",
       "  array([  263, 29654, 29653, 19216, 29527,  6718,  5344, 26282, 27616,\n",
       "         13812, 13811, 13813]),\n",
       "  array([  264,  4893, 23508, 11667, 21648,  1791, 21644,   490, 15441,\n",
       "         18522, 18521,   248,  6690, 26866, 10401,  2642, 23197, 34018,\n",
       "         33606, 24727,  7399, 11399,  2064,  2099,  9970, 31686, 30077,\n",
       "         21834, 32167, 32443, 24066,  1961, 16898,  7952, 16221, 24087]),\n",
       "  array([  265, 30547, 16715]),\n",
       "  array([  266, 30052, 14340]),\n",
       "  array([  267, 19260, 28444, 16390, 20116,  3662]),\n",
       "  array([  268, 19703,  6503, 33887,  1840, 32556,  6608, 17275,  6450,\n",
       "         30487,   619, 23493, 31261,  8012,  5729, 23318,  4054, 27609,\n",
       "          6692, 19073, 31189, 20987, 10333, 25668, 24358, 31299, 31326,\n",
       "         22533, 31174, 25548, 29998,  4597,   684,  6864, 11196, 23349,\n",
       "         10646, 19636,  7469,  5118, 14638, 12374,  2254, 30101, 33031,\n",
       "         30376,  2516, 30523, 27306,  4855]),\n",
       "  array([  269, 18520]),\n",
       "  array([  270,  9407, 31404,  8145, 25266, 33177]),\n",
       "  array([  271,  9135,  9783,  2029,  2030, 11975,  9315, 18127, 14698,\n",
       "         14699, 10721, 30945,  6426, 14462,  2642,  7952,  2525, 31924,\n",
       "         20658, 34018, 26283,  8102, 17258, 34229,  1961, 28111, 27362,\n",
       "         21834, 20622]),\n",
       "  array([  272, 14210, 20652, 21408, 22050, 11828, 29062,  2082,  8087,\n",
       "         22180, 22179, 23294, 11472, 24795, 18405, 27287, 27561, 22556,\n",
       "          7135, 22318, 20838, 23618, 27840, 10548,  7145, 24986, 14865,\n",
       "         14866, 15103, 14794,  6735, 12433, 24815,  1981]),\n",
       "  array([  273,  7152, 13560, 15968, 18688, 18658, 10679,  9495, 21846,\n",
       "         10523,  3585,  4263,  6800, 25168, 27466, 29651,  3022, 24657,\n",
       "         24960,  7779,  5086,  8886, 26431]),\n",
       "  array([  274, 14854, 15884, 18810,  1140, 10641, 18801,  1952, 10891,\n",
       "         19928,   559,   765,  6643,  2039,  1530, 20480, 16703, 27154,\n",
       "         11913,  2836, 19305, 10021,  4057,  5595, 21700, 13488,  1058,\n",
       "          1344,  1440,  7730, 13257,  3335,  3336,  5766, 13126, 32704,\n",
       "          9782, 33010, 31695,  7208, 31036, 33127, 21223, 15505,  7660,\n",
       "         22118, 26211]),\n",
       "  array([  275, 16485, 16945, 31897,  7790, 13268,  7122, 27586, 12976,\n",
       "         26793,  3592,   624,  2144, 27257, 27921,  8635,  8691,  2141,\n",
       "         24359,  3086, 20458, 20459,  2987, 11487, 15476,  4243, 23548,\n",
       "         15310, 31865,  9451,  3873, 11945, 11451, 26842, 22522, 18400,\n",
       "         11381, 25608, 32391, 32390,   343, 25238, 26880, 26632, 12167,\n",
       "          6351, 17908,   732,   731, 16407]),\n",
       "  array([276]),\n",
       "  array([  277,  2801, 19311, 29056, 29057, 18630, 13081, 16451, 31948,\n",
       "         31949,  1862,  6938, 12860, 12442, 26333, 31122, 31381,  6319,\n",
       "          4912,  5625, 33069,  5045,  1312, 22856]),\n",
       "  array([  278, 32282, 12600, 25656,  1913, 20933]),\n",
       "  array([  279,  9352, 25030,  7620,  7619,  6756, 18309, 23765, 23766,\n",
       "         33070, 33071,  1518,  1519,  4865, 32738, 11026,  2502,  3292,\n",
       "          4578, 17598, 12063,  6520,  7656, 24643,  4025,   978, 17595,\n",
       "         17594, 25534, 25412,  1025,   379,   380, 32579, 20711, 13014,\n",
       "         32009, 28957, 25535,  2508,  2506,  2507,  7201, 15431, 18725,\n",
       "           355,   455,  1383,  6987, 20215]),\n",
       "  array([  280, 13949, 32621, 30195, 17595, 17594,  2508,  2506,  2507,\n",
       "         32009,  2509,  7619,  7620, 22816,  6987,  4578, 18309,  7201,\n",
       "         28201,  2502,  3292, 24733, 13014, 25535,  1519,  1518, 33071,\n",
       "         33070, 16799, 24319,   379,   380, 23765, 23766,  4865,  8242,\n",
       "          8243,  4422, 19846, 13831, 27279, 28957, 32738, 30887,  6520,\n",
       "          4025,  7656, 24643,  6756, 14080]),\n",
       "  array([  281,  4552, 10873,  4590, 15059, 17154, 32892]),\n",
       "  array([  282,  2280,  3229,  2912, 13669, 14021, 19598, 18601,  3826,\n",
       "          9756]),\n",
       "  array([  283, 25482, 26203, 32690,  1247,  6243, 27262, 22586, 33923,\n",
       "         32923,  2294]),\n",
       "  array([  284, 15063]),\n",
       "  array([285]),\n",
       "  array([  286, 22857]),\n",
       "  array([  287, 27239, 16097, 33270, 28658, 13047, 10640, 33787, 12386,\n",
       "          6732,  9890, 19122,  5325, 32033, 22198,   295,  6856, 27516,\n",
       "         16926, 29672, 12741, 30519,  4293, 19721, 13597, 26530,  3101,\n",
       "         17567, 10693, 12312, 24930, 33247, 29882, 33514, 11620, 20076,\n",
       "          6199,  2772, 24537,  9130, 27037, 24512, 11315,  7081, 31109,\n",
       "         22884, 30408, 19812, 13846,  5353]),\n",
       "  array([  288,  6813, 30807, 32246, 32034, 28744,  6807, 14081, 26890,\n",
       "         10553, 15414,  8576, 24905]),\n",
       "  array([  289, 17970, 23260, 33362, 19653,  6218, 18335, 32839,   651,\n",
       "         31546, 21709,  8921]),\n",
       "  array([  290, 27568]),\n",
       "  array([  291, 11833, 16822,  2981, 22704,  5857,  5728,   179, 26662,\n",
       "            42, 12715, 23056, 18380, 18379, 20913,  9001, 28124, 17297,\n",
       "          7537, 22302, 13348, 30715,  1475, 23562, 21641, 34247,  3975,\n",
       "          1405, 24696,   682,  4447, 32963, 27105,  9004, 13970,  6393,\n",
       "         12084,  9160, 18213, 32281, 26643, 27162, 28824, 23243, 29440,\n",
       "         10857, 19680, 16150, 13590, 19376]),\n",
       "  array([  292,  9138,  9137,  9139,  2741,  5197, 22105, 20728, 20727,\n",
       "         28725,  6366,  8463, 11698, 18925, 30096, 11635, 11634, 15658,\n",
       "          4404, 20017, 32960, 23129,  3867, 20956, 19013,  4746, 13419,\n",
       "         22802, 22360, 24175,   167, 17630, 22471]),\n",
       "  array([  293,  5748, 24584, 22451]),\n",
       "  array([  294, 28938, 17665, 26295, 22949, 22950, 25604, 10727, 17034,\n",
       "          8119, 14136, 14135,  9145, 29158, 12716,  6995, 21452, 27961,\n",
       "          9644, 17588, 20338, 29917,  9393, 23045]),\n",
       "  array([  295, 14212, 16458,  4816, 30408, 32033, 17567,  8638, 27037,\n",
       "         22185, 29882,  3101, 33247, 26530,   287, 29200, 10693, 12312,\n",
       "          5525, 13597, 11799,  2622, 16097, 27239,  6856, 13047,  7350,\n",
       "          4321, 33787, 10409, 10640, 10269, 19116,  1219,  2772, 24512,\n",
       "         12741, 28658,  7810,  5353,  9890, 29672, 22187,  1762,  7784,\n",
       "         33270, 30519,  5325, 27516,  1869]),\n",
       "  array([296]),\n",
       "  array([  297, 23680]),\n",
       "  array([  298,   544,   545, 11915, 17533,  6228, 28871, 33339, 11281,\n",
       "         11280, 33092, 31000,   980, 16335, 19752, 11696,  6365, 10516,\n",
       "         29662, 23510, 23509]),\n",
       "  array([  299,  7166, 27859, 31765, 24089, 20205,  4664,  5882,   262,\n",
       "         26870, 10120, 27573, 10274, 31162, 23630, 10341, 17985, 16291,\n",
       "         10931, 25204, 33344,  6499,  7983,  2470, 23717,  1359, 28355,\n",
       "         20853, 31493, 10686,  7809, 14665, 33173, 32216, 12392, 16516,\n",
       "         26721, 29453, 34157, 19782, 15563, 29567, 14752, 22547, 29237]),\n",
       "  array([  300, 11403, 26284,  2854,  8329, 15271, 24317,  4262, 30353,\n",
       "         21456,  6858,  5106, 27695, 27696,  4860,  4595,  1708]),\n",
       "  array([  301, 17823, 31016,  4592]),\n",
       "  array([  302, 21184, 27270,  6249,  2086,  6957,  8711,  8712, 20417,\n",
       "         33202,  9954, 22131, 32638, 21425,  1732, 19475, 11275, 29335,\n",
       "         29334,  9397, 24571, 33252]),\n",
       "  array([  303,  9277,  9939,  9938, 18717, 26372,  2081, 11296, 17095,\n",
       "          4364, 28729,  6058, 19059,  1773,  5687,  4150, 13461, 13462,\n",
       "           964, 21444, 23264, 26952, 26267, 18541, 29754,  7886,  7885,\n",
       "         27408, 28708, 26943, 18198, 12597, 16685,  5373, 26003, 15608,\n",
       "          7076,  1514, 14563,  6085,  6075,  7802,  1585,  1593, 20563,\n",
       "         19369, 10436, 23848, 14840,  7631]),\n",
       "  array([  304,  5982,  5981,  2591,  8802, 33300, 12282]),\n",
       "  array([  305, 28016,  6969, 13914]),\n",
       "  array([  306, 23919,  9855, 32642, 32238, 32237, 10939, 19667, 33996,\n",
       "           836, 29952, 29775, 23171,  5515,  3088, 24215,  3310, 11813,\n",
       "         12061, 29407,  4290,  6806, 29130,  9565,  9563,  9564, 14097,\n",
       "          7757, 28302, 11521,  9353, 14574, 22402, 12355,  7384, 19345,\n",
       "          1901, 32549, 23087, 15360, 16936, 16934, 16935, 16933, 16932,\n",
       "         20851, 20904]),\n",
       "  array([  307, 16214, 23969, 20313,  2413, 28341,  8596,  4164]),\n",
       "  array([  308, 15095,  4955, 25605, 30597,  2520, 23906,  4836, 32100,\n",
       "         29372, 20449, 11708,  3987, 18807, 18427, 10787, 27227, 28608,\n",
       "         25530,  6527,  5260, 29465, 19017, 19018,   486, 19083, 24634,\n",
       "             7, 10419, 30253, 19528, 33914, 17512, 30545,  4374, 21101,\n",
       "          2849, 17806, 11933,  5071, 27012, 14513,  9388,  9387, 29970,\n",
       "         32291, 11584, 17287,  1034, 28747]),\n",
       "  array([  309,  4206, 31480, 29172]),\n",
       "  array([310]),\n",
       "  array([  311, 17388, 17523]),\n",
       "  array([  312,    55,  2584, 25752, 10899, 25152, 21033, 19168, 31325,\n",
       "         32837,  6154, 15344, 19666,  8639, 13382, 10104,   776, 18983,\n",
       "         33858,  5675, 11874, 11873, 24463, 24049, 33852, 24871, 18029,\n",
       "          1890,  6828,  1117,  2059, 23695,  8002, 27957, 22139, 29153,\n",
       "          1121,  5462,  1412,  7444]),\n",
       "  array([  313, 20411, 17210, 20163, 28623, 32354,   114]),\n",
       "  array([  314, 26878,  8957,  5689, 10271, 24224, 26163, 27233]),\n",
       "  array([  315,  8810, 33614]),\n",
       "  array([  316, 19241, 27284,  4737, 11490, 25945, 30219, 29091,   257,\n",
       "          4681, 14392,  4246, 14000, 19730, 18507, 32539, 28836,  1473,\n",
       "          7179,  2104,  5037, 20780, 19223,  3801]),\n",
       "  array([  317, 28728]),\n",
       "  array([  318, 32520, 24572,  5096,  8715,  8716, 29924, 24541, 31044,\n",
       "         30190,  1546,  2433, 25499, 18719, 15665,  4324, 18180,  6363,\n",
       "          9383,  9384,  6921, 17109,  2678, 24552,  3553, 27033, 29043,\n",
       "         17931,  3078, 20453]),\n",
       "  array([  319, 31611]),\n",
       "  array([  320, 33925, 28192,  8215,  8214, 21598, 17647, 18042,  1342,\n",
       "          1189, 32548, 19601, 16888, 12561, 17367, 14743, 33917,  4000,\n",
       "         18524, 14935, 16836]),\n",
       "  array([  321, 24999, 22234, 28635, 16873,  9351]),\n",
       "  array([322]),\n",
       "  array([  323, 24368, 18342, 23697,   543, 24406,  7220,  8313, 32336,\n",
       "         33475, 14790, 34232,  5326, 28817,  3492, 33995,  9798, 27273,\n",
       "         19845, 22827, 21630, 11207,  8740, 30947, 12252, 22565, 28898,\n",
       "          4785,   841, 20581, 27100, 17629]),\n",
       "  array([  324, 23884, 11003, 18972]),\n",
       "  array([  325, 26603, 23800, 16920, 30091]),\n",
       "  array([  326,  4419, 12549, 18755, 19947, 21611]),\n",
       "  array([327]),\n",
       "  array([  328,  2114, 14952, 26914, 15112, 16623, 29126,  3282]),\n",
       "  array([  329, 15110, 31758, 15799, 17516, 11022,  2914]),\n",
       "  array([330]),\n",
       "  array([  331, 10412,  2402, 22686,  7769,   488, 26671,  5178, 34130,\n",
       "         18301, 17508, 16409, 34183,  2852,  3173,  1715, 33691, 32047,\n",
       "         20696, 13269, 16756, 24051, 28349, 10476, 10475, 25307, 20739,\n",
       "         20740, 32856, 32857, 11087, 30013, 11993, 30241, 10992, 30700,\n",
       "         16644, 33393,  6991,  8382,  6395, 24311,  9431,  3569, 16416,\n",
       "          9286, 22505,  7700, 31331, 31473]),\n",
       "  array([  332, 33380, 25941,  6970]),\n",
       "  array([  333, 30080, 32893]),\n",
       "  array([  334, 25449, 32397,  5633, 28305, 10584, 20385]),\n",
       "  array([  335, 25110,   485, 30972, 10515, 14678, 23903]),\n",
       "  array([336]),\n",
       "  array([337]),\n",
       "  array([ 338, 8506]),\n",
       "  array([  339, 25247, 26411, 25146,  6325, 31415, 27582, 32480, 10445,\n",
       "          7590,  8857, 15408, 12407, 10121,  4160]),\n",
       "  array([  340,  6439, 29884,  6762, 27528, 30095,  7758, 21063, 19999,\n",
       "         16382, 32613, 34082, 31852, 33081, 22871]),\n",
       "  array([  341, 15615, 28366, 15918, 19716]),\n",
       "  array([  342, 27962, 26217, 23300, 10037,  7567, 11691,  3751, 27474,\n",
       "         19245,  8811,  5914, 16453, 16538, 18204, 16200,  1235, 30383,\n",
       "         13299, 11132, 20199, 20878, 27906, 25181, 10075, 14926, 27925,\n",
       "          6150, 21916, 15192, 10796, 26941, 29171, 22658, 11289, 33049,\n",
       "          4213, 29553, 20415, 18715, 24369, 19249,  9189,  7072, 13185,\n",
       "         29999, 27420, 19695, 24505, 29468]),\n",
       "  array([  343, 26632, 26880, 25238, 32391, 32390,  4439,  8617, 23256,\n",
       "         12167, 27921, 34055, 26793, 11381, 22522,  2987, 15476, 23548,\n",
       "          3873,  4243, 11945, 18400, 30669, 32421, 12306, 25608, 11487,\n",
       "         24359,  3086, 20459, 20458,  8691, 31865, 15310,  2141,  8635,\n",
       "         26842,  3592, 12976, 17076, 27586, 27257,  9451,  5382, 13268,\n",
       "           624, 16449, 16407,  6351,   731]),\n",
       "  array([  344,  2951, 19114, 19750, 32184,  4455, 30920, 16646, 34023,\n",
       "         20960, 26127, 17296, 32083, 32082, 32202, 24176, 10262,  5972,\n",
       "          5971,  5970, 18743, 18742, 16986, 22977, 21744, 32955, 32956,\n",
       "         15021, 33675, 33676,  1357,  2271, 27387, 19966,  3314,  3316,\n",
       "          3315, 20479,  6757, 32227,  4705,  5342, 31945,  3524, 18769,\n",
       "         27394,  1053, 28985,   216, 24388]),\n",
       "  array([  345, 15079, 14339,  4615]),\n",
       "  array([  346, 23023,  8300, 22731, 22730, 30539, 26289, 32313,   995,\n",
       "         15967, 34110,  4532]),\n",
       "  array([  347, 23519]),\n",
       "  array([  348, 16750,  2908,  4311,    70,  8101, 15915, 21409, 26598,\n",
       "         12473, 21369, 23443, 18971, 23817]),\n",
       "  array([  349, 20809, 26613,  3625,  3626]),\n",
       "  array([  350, 13018]),\n",
       "  array([ 351, 1120]),\n",
       "  array([  352, 32768, 10432,  1481]),\n",
       "  array([  353, 19438, 32115, 13817,   783, 12801, 22917,  8270, 15514,\n",
       "          5610,   443, 22631,  9594, 19134]),\n",
       "  array([  354, 14820,  9448, 25446, 27414, 27116,  1256,  7796, 25560,\n",
       "          1453, 24858, 29160, 31645, 13932,  5716,   991, 15892, 10221,\n",
       "          2890, 27196,  6963, 23801, 24901, 21478, 32986, 26820, 26819,\n",
       "         33856, 32727,  2233,  4935, 28108,  6662, 27020, 21772,  7265,\n",
       "          1220, 32055,  5105,  6954,  6953,  6955,  6952, 10482, 10483,\n",
       "         19630, 24818,  4274, 10439, 31785]),\n",
       "  array([  355, 15431, 34129, 20215, 17598, 32738,  3076, 26097, 24714,\n",
       "         28957,  6520,  5563, 13014, 25535,   380,   379, 12144,  9352,\n",
       "           279,  6987, 17595, 17594, 16447,  2507,  2508,  2506, 28201,\n",
       "          8597, 13949, 32621]),\n",
       "  array([  356, 11151, 16525, 30787,  9236,  7667, 23873, 25277,  1941,\n",
       "         16755,  3630, 30622,  7910,  6999, 12044, 26863]),\n",
       "  array([  357, 12201, 28376,  3193, 28793, 10770, 26658,  5943, 16240,\n",
       "          4985,  3816, 18051, 24222,  2484, 17714, 21336, 17813, 17496,\n",
       "         13230,  8903, 14241, 31497,  8486, 12952, 21427, 19629, 11816,\n",
       "         27436, 29648, 16110, 25062,  7651, 28983, 29588,  4012,  4010,\n",
       "          4011, 25311, 24452, 31277, 20008,  9027, 30297, 30298, 30299,\n",
       "         30300, 30301, 30296, 30302, 30892]),\n",
       "  array([  358, 22079,  8490, 32256,  4788, 23864,  2089,  2090, 15384,\n",
       "         15385, 17723,  7511, 34053, 13654, 13289, 10559,  1814,  1815,\n",
       "         15699, 28054, 13049, 28866, 19246,  1631,   858,  1530, 22480,\n",
       "          7589,  7897, 14437,  8768, 30659,   517, 15002, 24742, 31048,\n",
       "         32928, 31036, 14480, 27430, 24258, 21566, 14672, 15374,  5905,\n",
       "         31168, 31468,  7577, 32806, 29313]),\n",
       "  array([  359,  1208, 33282, 29464, 17526, 19608,  5248, 30800, 26347,\n",
       "         26348]),\n",
       "  array([  360, 22406, 25743,  9293,  9858]),\n",
       "  array([361]),\n",
       "  array([  362, 19655,  2804, 23973]),\n",
       "  array([  363, 24482, 12559, 16351, 24589, 10610, 10611, 30388, 18066,\n",
       "         28587, 11462, 13035, 32865, 16089, 19958, 23663, 31624, 26450,\n",
       "          7229,  3090, 26534, 31023, 29636,  8905,  3577]),\n",
       "  array([  364,   819, 23051,  2404, 27108, 29191, 30065, 21629, 32726,\n",
       "          8413, 16424, 32481, 17775, 13034, 20922,  6881, 10777, 13626,\n",
       "         19381, 14869, 14428, 18747, 23541, 24820, 19012, 11247,   565,\n",
       "         23963, 15788, 30106,  8541, 12324, 20762,   881, 31458,  9518,\n",
       "         22109,  1622, 14654, 23655]),\n",
       "  array([365]),\n",
       "  array([  366,  7759, 32094, 11211, 26371, 14757,  4869, 13120, 18466]),\n",
       "  array([  368,   367, 15473,   597, 28756, 28755,   510, 19388,   709]),\n",
       "  array([  368,   367, 15473,   597, 28756, 28755,   510, 19388,   709]),\n",
       "  array([ 369, 6705, 4029]),\n",
       "  array([  370, 25319, 29821]),\n",
       "  array([  371, 20145]),\n",
       "  array([  372,  6323,  7999, 11582,   925, 16139,  3812,   201,  9762,\n",
       "          5794,  3075, 16886,  5305, 23824, 28336,  4475, 16079, 12368,\n",
       "          6484, 14651, 18806, 30912, 23598, 25630, 29565, 33530, 23876,\n",
       "         24045, 26904, 10666,  5476, 24839,  7908,    72, 12224,  2235,\n",
       "         16838, 10934, 22407, 14696,   906, 29514, 25869,  6494, 24289,\n",
       "         24225, 21248, 17593, 19523, 31307]),\n",
       "  array([  373, 17247,  6872, 12831,  5078, 21486, 15354, 23190]),\n",
       "  array([374]),\n",
       "  array([  375, 29417, 33146, 28563]),\n",
       "  array([  376,  2021, 31188]),\n",
       "  array([  377, 16950,  4822, 16238, 23453,  4056, 31495, 31494,  8669,\n",
       "          8670,  8671,  2715,  7901, 33491, 14411, 23990, 25676, 25677,\n",
       "         12185, 16648,  7018, 13930, 11723, 18614, 18710, 11860, 16827,\n",
       "         12620,  9477, 24691, 24570,  2907,  4064, 13616, 28475,  6819,\n",
       "         31930, 33519, 33520, 27342, 13908, 21070, 25041, 22866,   149,\n",
       "          7181, 31199, 19503, 20580, 29249]),\n",
       "  array([  378, 28987, 28989, 28990, 28988, 33662, 17442, 16641, 10076,\n",
       "         30342,  9435,  9437,  9436, 32834, 19266, 33204, 10392, 31000,\n",
       "         11498, 22266, 32936, 23991,  5156, 11735,   980,   648, 26270,\n",
       "         19752,  3404, 23939, 23940, 25272, 11013, 21770,  5957, 32327,\n",
       "         24148, 27346,  5229, 10003, 26804, 11578, 33101, 33092,  4347,\n",
       "          3154, 32499,  9566, 21579, 19235]),\n",
       "  array([  380,   379, 25535, 13014, 28957,  6987,  6520,  4578,  7656,\n",
       "          4025, 24643, 14635, 17598,  7619,  7620, 28201, 23766, 23765,\n",
       "         17594, 17595, 33071, 33070,  5563,  1519,  1518,  2508,  2506,\n",
       "          2507,  2509, 17937, 17938,  4865, 28887, 12782, 11300,   280,\n",
       "         27964, 25534,   641,   978,  8249,  2502, 30195,  3292, 32738,\n",
       "         14080, 32009, 32579,  5204, 18309]),\n",
       "  array([  380,   379, 25535, 13014, 28957,  6987,  6520,  4578,  7656,\n",
       "          4025, 24643, 14635, 17598,  7619,  7620, 28201, 23766, 23765,\n",
       "         17594, 17595, 33071, 33070,  5563,  1519,  1518,  2508,  2506,\n",
       "          2507,  2509, 17937, 17938,  4865, 28887, 12782, 11300,   280,\n",
       "         27964, 25534,   641,   978,  8249,  2502, 30195,  3292, 32738,\n",
       "         14080, 32009, 32579,  5204, 18309]),\n",
       "  array([  381, 13776, 16589, 14515, 19204, 25338, 11619,  4798, 13146,\n",
       "         33906, 14126,  9164, 15678, 26963,  3382, 32541, 33736,  5328,\n",
       "         33745,  8555, 25821, 26113, 23918, 14516, 20344,  1027,  7121,\n",
       "         28150, 32473, 30139, 12253, 31797, 31796, 16433, 18735, 24992,\n",
       "          7727, 21018, 10058, 27493,  6109, 30797,  8443, 30035, 11257,\n",
       "         31431, 24253, 17763,  9470, 27763]),\n",
       "  array([  382, 24105, 24386,  6490,  6461,  6795, 30045, 11143, 13029,\n",
       "         19770, 14429, 33922,  7648,   176]),\n",
       "  array([  383, 29054, 19640, 33979,  3102, 15293, 26501]),\n",
       "  array([  384, 30254, 20475, 29866, 19787, 18695, 23004,  6542, 20781,\n",
       "         18390,  6527, 23501, 11584, 18807, 12896, 23906,  7381,   486,\n",
       "         25359, 11398, 19083, 18427, 17958, 10707,  2520, 33914, 28747,\n",
       "          3987, 14553, 21217, 27620, 32100, 26604,  9833, 31567, 10602,\n",
       "          1895, 30021, 24302, 23295, 23296,  9073,  1494,  5573, 11541,\n",
       "         11540, 29372, 30597,  2962, 31047]),\n",
       "  array([  385, 11329,  4795,  7663, 22649, 10151, 26116, 31296, 30583,\n",
       "         29316,  5590, 24282, 27361, 25463, 13820,  1884, 28438,  9232,\n",
       "         15410, 34122, 20976, 11515, 10287, 29622, 29501, 25828, 11285,\n",
       "         23785, 14874,  5360, 22914, 17622]),\n",
       "  array([ 386, 2098]),\n",
       "  array([  387, 34098]),\n",
       "  array([  388, 27200, 32448, 32447, 30232, 19816, 12151, 23010,  8628,\n",
       "         32982,  2338, 22029, 31435, 15881, 23944,  9006, 10176, 14847,\n",
       "         21920, 18395, 22629, 10906, 20229, 26216, 25450, 21857]),\n",
       "  array([389]),\n",
       "  array([  390, 29439, 31667]),\n",
       "  array([391]),\n",
       "  array([  392, 17759, 13525, 29326,  6619, 28191, 13933,  9467, 27386,\n",
       "          9670,  5196, 32245,  3635, 16661, 20191, 11040, 34174, 23245,\n",
       "         20398, 27650, 30976]),\n",
       "  array([  393,  4371, 20051]),\n",
       "  array([  394, 15541, 12426, 31835, 28643, 20177,  9593, 27539,  2638,\n",
       "         30261, 14827, 25852, 27282, 22496, 11393, 28895,  3575,   171,\n",
       "         31576, 32249, 22276, 25937, 30813, 22335, 12497, 27332,  1013,\n",
       "          8703, 13663, 23311, 17915,  1382,  1804, 15102,  7349, 19192,\n",
       "         19191, 28893, 15066, 12910, 30136,  1269,  8328,  1910, 28135,\n",
       "         13105, 15855, 33569, 21819, 20359]),\n",
       "  array([  395, 15526,  5841, 23957, 25387, 11224,  4240,  9682, 19309,\n",
       "         31336,  2649, 34054,  5668,  9657]),\n",
       "  array([  396, 24060, 33878, 23707]),\n",
       "  array([  397,  2099, 25109, 16221, 25897, 22425,  7952, 30333,   248,\n",
       "         26866, 34018,  1961,  2642, 10336,  9783, 14462,  6426,  9135,\n",
       "         32167,  1173, 26283, 11667, 30945, 27362, 28111, 21644, 18127,\n",
       "          8578, 16898]),\n",
       "  array([  398, 10127,  8520, 30961, 33463, 21865, 22574, 29826, 31537,\n",
       "          3571, 10583, 25550]),\n",
       "  array([  399, 10119, 29163, 19147, 19212, 22247]),\n",
       "  array([  400, 24981, 32188, 28530, 28532, 28531]),\n",
       "  array([  401, 25396,  9178,  7733,  1918,  2424, 10564,  8920,  6224,\n",
       "         15006, 15004, 15005,  1462, 17431, 32641,  4102, 24673,  1003,\n",
       "           957,  3309, 23221, 30024, 30023, 19644,  6852, 30405, 26732,\n",
       "         13603, 30637, 12448,  9553,  3981,  1743,  6576]),\n",
       "  array([  402, 27471,  5130, 25552, 19242, 19185, 34092, 22303, 29777,\n",
       "         26077,  5255, 15296, 15298, 15297, 15295,  2062, 20715, 15963,\n",
       "         28804, 10653, 31529, 31528, 31527,  2580,  2583,  2579,  2582,\n",
       "          2578,  2581, 28997,  1843, 23846, 16001, 27373, 17887,  8231,\n",
       "         20790, 17672, 25883,  7140, 23555, 16123, 16124, 32470, 31458,\n",
       "         15187, 13702]),\n",
       "  array([  403,  7630, 15751, 21074, 14202,  1799, 31683, 16497, 12458,\n",
       "          3604]),\n",
       "  array([  404,   405, 22475, 22476, 13407, 14510, 27591, 32660, 14615,\n",
       "          3913, 22579,  8056, 23648, 22800,  9587, 29185, 29186,  4250,\n",
       "          4251, 20155, 20156, 17240, 29007,  6552,  6994, 31917,  9661,\n",
       "         25059, 25058, 13228, 27497, 27276, 19971, 27335, 29044, 34197,\n",
       "          3462, 30643, 18315,  3348, 31619, 23250, 23964,  6615, 24719,\n",
       "         27927, 22525,  8583, 30678, 31453]),\n",
       "  array([  404,   405, 22475, 22476, 13407, 14510, 27591, 32660, 14615,\n",
       "          3913, 22579,  8056, 23648, 22800,  9587, 29185, 29186,  4250,\n",
       "          4251, 20155, 20156, 17240, 29007,  6552,  6994, 31917,  9661,\n",
       "         25059, 25058, 13228, 27497, 27276, 19971, 27335, 29044, 34197,\n",
       "          3462, 30643, 18315,  3348, 31619, 23250, 23964,  6615, 24719,\n",
       "         27927, 22525,  8583, 30678, 31453]),\n",
       "  array([  406, 27357, 28805, 32214, 16308, 30115,  5080, 27048, 19580,\n",
       "         25359, 23501,  7381, 18532,  9698, 11398, 22471,  4194, 31633,\n",
       "          6992, 33239, 23924, 30937,  9833,  9073,  3570, 31567, 11584,\n",
       "          2910, 25212,  2962,   169, 20781, 18390, 17091, 29866, 21309,\n",
       "           486,  2117, 30522, 10787,  5671, 20580,  8155,  9279, 18868,\n",
       "          9787, 29107, 23295, 23296, 10574]),\n",
       "  array([  407, 16227, 22835,  2791]),\n",
       "  array([  408, 23427,  5817,  6971, 19231, 21970]),\n",
       "  array([  409, 30837, 30936,  3550,   174,  4676, 10320, 21828, 27478,\n",
       "         29904, 26979, 30418]),\n",
       "  array([  410, 24639, 18545, 21078,  1540, 19209, 31762, 23560,  8013,\n",
       "          8487, 33839, 23098,  1588, 11539, 25517, 28639, 31200, 26430,\n",
       "         22755, 22018]),\n",
       "  array([  411, 32470,  6045, 22091, 17887,  9716, 31306, 25879, 19870,\n",
       "         14184,  9452, 23555, 21269, 23188,  6842,  7719, 15788, 13702,\n",
       "          9518,  1566, 26227, 12785, 31120, 33392, 30106, 19012, 10153,\n",
       "          5212,  5213,   565,  4684, 31458, 26494, 12324, 20790,  6553,\n",
       "           881, 24023, 17672, 25883, 12867, 12868, 12865, 12866, 14428,\n",
       "         23963,  7140, 19185, 16001, 10050]),\n",
       "  array([  412, 23844, 33175,  7215, 25658,  6802]),\n",
       "  array([  413,   414,  1308, 12271, 24577, 18804, 10118]),\n",
       "  array([  413,   414,  1308, 12271, 24577, 18804, 10118]),\n",
       "  array([  415, 31199, 13908, 26917, 26918, 30522, 31930, 20580,  2910,\n",
       "         18868, 28246, 19591, 10574,  8155,  5671, 16827,  4064, 13664,\n",
       "         33543, 17091, 12185, 12103, 14166, 31887,  8301, 15679, 16606,\n",
       "         16604, 16605, 27716, 21964, 23155, 18614, 10203, 33491, 18710,\n",
       "         16743, 23990, 11860,  9477, 14411, 28947, 13616, 16648, 21735,\n",
       "         19878, 19876, 19877, 19879, 19503]),\n",
       "  array([  416,  8919,  8143, 24212, 17158, 24357, 15408,  1069, 30587,\n",
       "          6292,  7919, 26669]),\n",
       "  array([  417, 15471, 11192, 12281, 29267,  9063]),\n",
       "  array([  418, 11307, 30999,  4162, 30063, 33384]),\n",
       "  array([  419, 32137, 33529,  4926,  3049, 21630, 24158,  4785,  5795,\n",
       "         10423, 28304, 24303, 32118, 24822, 32416, 21466, 32521, 13151,\n",
       "         10218, 31457,  4644, 13161,  2959, 26676, 18839,   197, 20581,\n",
       "         17105, 25145,  4229, 27955, 31101, 24236, 28982,  3804, 10416,\n",
       "         22827, 34246, 28898,  5465,  9323, 12252, 31988, 22565, 26135,\n",
       "          9531, 31794, 11476, 17629, 26836]),\n",
       "  array([  420, 18854,  3881]),\n",
       "  array([  421, 11177, 22995, 33549, 14291, 20983]),\n",
       "  array([ 422, 8713]),\n",
       "  array([  423, 27306,  8012, 24358, 29375, 28615,  9757, 32556, 10333,\n",
       "         34164, 12629,  1390,  4335, 11196, 11502, 30376, 10996, 14879]),\n",
       "  array([  424, 32913,  8104, 15325, 31482, 28145, 16970,  5107, 29515,\n",
       "         30249,  7670,  6741,  9577, 12690,  1463,  6397, 19518, 11804,\n",
       "         30750]),\n",
       "  array([  425, 21631, 14479, 11506,  3522]),\n",
       "  array([  426, 26894,  3921]),\n",
       "  array([  427, 23332,  9176, 17945, 18695, 15663, 23611, 11702, 13961,\n",
       "          4123, 34123, 29078, 20074, 24292,  2996, 11316, 22255, 14193,\n",
       "         10651, 29367, 14553, 30381, 17958, 19787, 20475, 18128, 19760,\n",
       "          3841, 30254,  1479, 12689,  9664,  6542,   384,  1706, 23004,\n",
       "         12896, 11720, 27620, 10769,  3570, 21217, 28441, 11544, 13923,\n",
       "         31774,  3974, 30046, 11540, 11541]),\n",
       "  array([  428,  3520,  8482, 19818,  5762, 14160,  2000, 31003, 31002,\n",
       "         20040, 27301,   910,  8176, 21004,  6459, 11057, 25627,  6878,\n",
       "          7482, 30420,  8497, 27422,  6946,  6302, 16603, 20442,  4410,\n",
       "           934, 12098, 25233, 32744, 14601, 21169,  8220,  4605, 14532,\n",
       "         18045, 14884, 30586, 13527, 10967,  3794, 32817]),\n",
       "  array([  429,  1506,  1505,  1504,  1507,  1503, 20870, 28632, 28631,\n",
       "         28197,   867, 14742,  7680, 21064, 19894]),\n",
       "  array([  430,    94, 29811, 13847,  9365, 28679, 30520, 25926,  7158,\n",
       "          2803, 19314, 22374,  5662, 12899, 12900,  3623, 16607, 11924,\n",
       "         27968, 21528, 21527, 33829,  6984, 29978, 25291, 26575,  7449,\n",
       "         10570, 11896, 22799,   259,  4391, 10991, 26567, 11173]),\n",
       "  array([  431, 33386]),\n",
       "  array([432]),\n",
       "  array([  433,  9063, 23178, 29267, 12281, 17918, 20286, 20287, 20288,\n",
       "         24058]),\n",
       "  array([434]),\n",
       "  array([  435, 18995]),\n",
       "  array([436]),\n",
       "  array([  437, 23731, 18077, 13103, 18661]),\n",
       "  array([  438, 28344,  2617,  7976, 19622,  1198,  2436, 27908,  4937,\n",
       "          4352, 19056,  3878, 17514,  4786, 25296,  4498,  1633,  3976,\n",
       "          1896, 12073, 27525, 30962, 27248]),\n",
       "  array([  439, 11893, 25100, 27092, 14960]),\n",
       "  array([  441,   440, 14978,  3084,  6197,  6198,  5648, 23430, 26792,\n",
       "          4349,  1026, 25558, 33331,  6680, 31327,  8434,  7658, 27367,\n",
       "          8289,  5528, 30255, 21953, 32779, 30635, 11749,  4782, 27847]),\n",
       "  array([  441,   440, 14978,  3084,  6197,  6198,  5648, 23430, 26792,\n",
       "          4349,  1026, 25558, 33331,  6680, 31327,  8434,  7658, 27367,\n",
       "          8289,  5528, 30255, 21953, 32779, 30635, 11749,  4782, 27847]),\n",
       "  array([  442,  9357,  9356, 15649, 15769, 22990, 10950, 12289, 24227,\n",
       "          9375]),\n",
       "  array([  443, 22631,  9594, 13817, 32115,  4584, 18149, 18564, 31750,\n",
       "         33615,   518, 19438, 17995,   353, 17400]),\n",
       "  array([  444,  2543, 10346, 11554,  8915,    89, 27429, 27160, 27209,\n",
       "         32012,  3274, 27119, 10499, 31789]),\n",
       "  array([  445, 13325, 20899, 32054, 26006, 19324, 25251,  6767,  9818,\n",
       "         21940,  6033, 16977, 20817, 20815, 20816, 24078, 10347, 10348,\n",
       "         13475, 25647, 31051, 18916]),\n",
       "  array([  446,  2191, 30279, 34142, 12963,  9413, 11885, 21689, 20902,\n",
       "           860, 28959, 20592, 20591, 20590, 26301, 17056,  8258,   491,\n",
       "         33341, 33342, 31981,  1754,  6252, 31377, 32912, 32911, 19350,\n",
       "         19036,  8605,   628, 32493, 10433, 18172,  2601, 28773, 16698,\n",
       "         11210, 17867, 10861, 18531, 21807, 13550,  8518, 22394, 33817,\n",
       "         28340, 23416, 12861,  9695, 27151]),\n",
       "  array([  447, 15844, 33043,  5101,  5100, 18056, 28128,  1592, 13368,\n",
       "         22162,  8620,  8622,  8621,  7926, 14008,  7352, 24131, 19832,\n",
       "         13392, 12552, 22311,  3252,  3763,  4154, 20280, 30390,  1812,\n",
       "          3058, 31207, 26089, 13934, 18451,  8467, 16711, 13777, 15367,\n",
       "         30746, 11849, 31608,  8450, 19710, 14806, 24891, 29730, 25629,\n",
       "         11438, 20736, 20737,  7980,  9672]),\n",
       "  array([  448, 28351, 31881, 24233, 32441, 13340, 25065, 16023, 17264,\n",
       "         23476, 24189, 33932, 29504, 27798, 21974, 10739,  8936, 18038,\n",
       "         10297, 22609, 31025, 12678]),\n",
       "  array([  449, 33330]),\n",
       "  array([  450, 29024, 33744, 17159,  7440, 19914,  5085,  4132,  4746,\n",
       "         27467, 32070, 11698, 19299,  4404, 31663, 28947,  3867, 26487,\n",
       "         28154,  2960,   415,  7285, 31696,  8155, 30522, 13908, 31199,\n",
       "         27181,  5671, 28786, 16743, 26918, 26917, 11754,  3643, 18441,\n",
       "          2639, 31337, 31930, 14166, 31165, 31760, 15679, 31402, 31403,\n",
       "         27342, 17990, 33519, 33520, 21735]),\n",
       "  array([  451, 12792, 28585, 28583, 28584]),\n",
       "  array([  452, 34182, 16772, 29222, 25234,   541,  9086, 15276,  2779,\n",
       "         30745,  9570, 23491,  7439, 19286]),\n",
       "  array([  453, 13704, 27754,  8873, 21584, 19619,  5790,  5408,  9097,\n",
       "         32691, 13953, 22940, 28781, 13218, 22156, 14508, 31050, 16167,\n",
       "         31117,  7192, 15275, 27009, 20828, 23842]),\n",
       "  array([  454, 18440]),\n",
       "  array([  455,  1519,  1518, 33071, 33070, 23765, 23766,  4865, 25030,\n",
       "         11170, 11172, 11171,   279,  6756,  9352, 12063]),\n",
       "  array([  456,  4282,   595, 25697, 30398,  2556, 14598, 25137, 20881,\n",
       "         24216,  4986, 12186, 34042, 15813,  5369, 33496, 15557, 32260,\n",
       "         27370, 22094, 29843, 33660, 30444, 30445,  3057, 14632, 14633,\n",
       "         23059, 11251, 11983,  9984, 26677,  2628, 24775, 10803, 14280,\n",
       "         33598, 25290, 11216, 24884,  4876, 11467, 31653, 12345, 28736,\n",
       "         16017,  5119,  5120, 11686, 21191]),\n",
       "  array([  457, 24540]),\n",
       "  array([  458, 24489]),\n",
       "  array([  459, 30621,  5281,  4031,  4723, 29616, 32740, 31858, 14003,\n",
       "         27326]),\n",
       "  array([  460,  6293, 29049,  2233, 10535,  5933, 26516, 25446,  2132,\n",
       "         22103, 25986, 28108, 21478, 15892, 16457, 27020,  6955,  6952,\n",
       "          6954,  6953, 10483, 10482, 26819, 26820,  5716, 19630,  1963,\n",
       "          1964, 13932,  1453, 10770,  4274, 32727, 29160, 27537,  2724,\n",
       "          2725,  2726, 30391, 25788, 21336,  8753,  6662, 18591, 24858,\n",
       "         10843,  6963,  1712, 26734, 34008]),\n",
       "  array([  461,  4232,  1014, 13891,  1966,  3100, 28119,  9740,  3449,\n",
       "         11903, 22204, 22184, 29757, 32349, 31984, 28185,  6683, 16702,\n",
       "         23084,   198, 21359, 32787,  4571, 28620,  4008, 34171,  6824,\n",
       "          6823, 10537, 11126, 23638, 23639, 12864, 15309, 22578, 15387,\n",
       "         17569, 15652,  1754, 25478, 28673, 16673, 25435, 28385, 20930,\n",
       "          3222, 16676, 32753, 28106, 19261]),\n",
       "  array([ 462, 1803]),\n",
       "  array([  463,  5630,    88, 25662, 16723,  4119,  2685,  2684,  2683,\n",
       "         27023, 31463, 31177, 31176, 13563,   933,  5103,  7739, 14527,\n",
       "         29736,  1363,  6600, 10888, 11592, 24716,  5089, 22349, 28445,\n",
       "         20056,   809, 32229, 26268,  4701,  6637, 29695, 18986, 17872,\n",
       "         27645, 11466, 22765, 12693, 30071, 12980,  1673, 11625]),\n",
       "  array([  464, 34150]),\n",
       "  array([  465, 12804, 13164, 20977, 16165, 19869, 15977, 27385,  3538,\n",
       "          7187, 28655, 25062,  9498, 33856, 28891, 28839, 16971, 26154,\n",
       "          7560, 24392,  4929,  9027, 28260, 26449, 21478, 28108, 14241,\n",
       "         31785, 26742,  5893,  6662, 32639, 21441, 33841,  7002, 15660,\n",
       "          6963, 28425, 12274, 32763, 19919, 13932, 30391, 28832,   186,\n",
       "         14052,  4858, 21336, 12305,  5802]),\n",
       "  array([  466, 16924, 25108,  2179,  2181,  2180, 29704]),\n",
       "  array([  467, 18202, 30028,  2273]),\n",
       "  array([  468, 24369,  6588,  3056, 23035, 17010, 18081, 24505, 18204,\n",
       "         11118, 17928, 11691,  6150, 14926, 27925, 23522, 15192]),\n",
       "  array([  469,   194, 25199, 18683,     1]),\n",
       "  array([  470, 23764]),\n",
       "  array([  471,  7054,  7052,  7053, 19142, 20256]),\n",
       "  array([  472, 24377, 24355, 16679, 34087, 15412, 21288, 20196, 20197]),\n",
       "  array([  473, 24646, 18104,  9308,  4915, 21502, 10506, 30738, 25327,\n",
       "         18527,  9579, 21563, 18528, 25904,  6307,  6140, 25324,  5479,\n",
       "          1449, 34106, 20312, 20490, 25166, 12930, 15787, 29659,  3304,\n",
       "         32250, 10007, 22511,  4688, 23820]),\n",
       "  array([  474, 33223, 12388, 33389]),\n",
       "  array([  475,  2649, 21608, 13469, 25387, 25861, 14645, 33160, 31336,\n",
       "         28695, 29745, 31211,  9682,   897, 14648, 21226,  7057, 24511,\n",
       "          1366,  7461, 34054, 18481, 14228, 33242,  7111,  9003, 18715,\n",
       "           962, 31467,  5269, 17933, 14647,  3539, 17361, 15829, 26274,\n",
       "         33008, 29468, 19309, 20676, 16421, 16422, 25659, 27906,  4240,\n",
       "         27041, 19695, 20199, 17344, 19531]),\n",
       "  array([  476, 28395,  3126, 13027, 23902, 24922, 10923, 10922,  2184,\n",
       "          2183, 11895, 13045, 21800, 28545, 17255, 16456, 21117, 23150,\n",
       "         16496,   825, 20742, 23176,  6605,  8997,  5997, 19943, 30516,\n",
       "         24718, 16649, 17694,  1038, 17620, 17619, 17618,  8018,  7580,\n",
       "         29046, 26712, 21387,  7393, 24398, 30959,  4279, 15208,  8362,\n",
       "          9076, 30386,   191, 32101, 11239]),\n",
       "  array([  477, 27647, 22274, 22903,  9726,  9725, 33117, 20582,  2255,\n",
       "         24121, 19240, 11901, 19571,  2972, 33706, 33582, 22875, 24894,\n",
       "         24895, 16442, 12640, 12641, 16334, 11153, 32204, 31024, 33813,\n",
       "         33943, 17006, 17341,  2093, 13652, 18268, 11232, 34227,  2258,\n",
       "         17530,  2714, 14086, 14085, 12488, 25839, 30287, 22552, 11774,\n",
       "         19853, 11492, 11156]),\n",
       "  array([  478,  2954, 24418,  6042, 29508, 17157]),\n",
       "  array([  479, 22984]),\n",
       "  array([  480,  3721,  2540,  4016, 26908, 26637]),\n",
       "  array([  481, 12921, 29069, 26746, 30125, 10959, 20999, 19075, 18505,\n",
       "         25637,  8822, 31082, 33637, 10812,  2487, 33157,  3601,  4932,\n",
       "         16849,  6094, 30058, 21110, 29208,  6400, 30675, 20166, 20165,\n",
       "         20164, 23151, 13877, 29469, 16798,  8819,  7818, 18769, 26362,\n",
       "         18533,   216,   567, 32380, 19966, 21365, 28717, 22253, 31945,\n",
       "         11060,  9196,  9197,  1430,  1276]),\n",
       "  array([  482,    59,    58, 20656, 20690, 23637, 22138, 10912, 10084,\n",
       "         11507, 27507,   678, 31741, 13148, 33754, 32467, 16826, 13839,\n",
       "         10831, 14305,  2071, 31378, 19706, 30672, 18355, 20469, 19283,\n",
       "         11516, 19650, 11100,  2471]),\n",
       "  array([  483, 10056]),\n",
       "  array([  484, 10241,  5472,   723, 18736, 19813, 25132,  4467, 11310,\n",
       "          4307,  7470, 30202,  7990, 32836, 21000,  6401, 10020, 15908]),\n",
       "  array([  485, 25110,  6487,  6833, 32139,  5670, 11754, 30972, 30653,\n",
       "         28536, 31760,   335, 29729, 17885, 19439, 20092,  9667,  2731,\n",
       "          2732, 12172]),\n",
       "  array([  486,  6527, 23906, 18427,  1895, 19083, 25359, 17062, 17602,\n",
       "         17601, 29866, 28747, 11398,  3987, 23001, 10787, 11584, 11708,\n",
       "         23501, 18807, 11718, 32100, 16308, 20781, 10707, 11933, 21309,\n",
       "          4374,  7381, 19577, 30254,   384,  9833, 29970,  9073,  2520,\n",
       "         30545, 30253, 23004, 18390, 21217, 26811, 24326,  2962, 30115,\n",
       "         14921, 20475,  9279, 27606,  1854]),\n",
       "  array([  487,  4292,  4291, 16328,  5632]),\n",
       "  array([  488,  5178, 22686, 18301, 26671, 34130, 17508, 34183, 10412,\n",
       "           331, 20696, 13269, 16756, 28349, 25307, 20739, 20740, 32857,\n",
       "         32856, 10476, 10475, 32047, 11087, 30013,  2402, 24051,  2852,\n",
       "          3173,  7769, 16409, 33691,  1715, 16644,  6991, 11993, 30241,\n",
       "         16416, 30700, 10992, 33393,  9431,  8382,  3569, 24311,  6395,\n",
       "          9286, 22505,  7700, 31331,  9010]),\n",
       "  array([  489,  5703, 25464, 28674, 26193,   754]),\n",
       "  array([  490, 10401, 18522, 18521, 24066, 26866, 11399, 11667,   248,\n",
       "         29260, 32443,  9211,  7153,   264, 26161,  1961, 27058,  4893,\n",
       "         20833, 34018, 22122, 18127, 25897,  2064, 33606, 16898, 16221,\n",
       "         10336,  4125,  5734,  5694, 27178,  8774,  1173, 23197,  9162,\n",
       "         21644, 21055, 10411, 20622, 21816,  9173, 28761,  9970, 31686,\n",
       "          2642, 31094, 12675, 14146, 22425]),\n",
       "  array([  491,  8258, 23416, 12864, 15309, 16987,  4448,  8707,  2601,\n",
       "          1754,  5907,  6252, 27704, 16676, 14378, 32123, 23084, 20930,\n",
       "          9862, 15448, 21600,  3100, 21816, 32296, 22184, 10981, 10982,\n",
       "          1966, 24729, 16702, 22122,  3931, 10757, 28761, 24095, 31094,\n",
       "         14551, 29759, 29760, 28773, 32493,   461,  3449, 28185, 19881,\n",
       "            64, 11885,  9032, 20902,   860]),\n",
       "  array([  492, 22739]),\n",
       "  array([  493, 10930]),\n",
       "  array([  494, 16090, 14536, 16134]),\n",
       "  array([  495,  5329, 31178, 28177, 27223,  1318, 25124,  1712, 11904,\n",
       "           558, 19679,  1963,  1964, 21462,  4274,  6818,  6953,  6952,\n",
       "          6955,  6954, 10482, 10483, 33477, 20889,  2722,  5434, 19630,\n",
       "         26820, 26819, 18462, 32727, 26734, 26682, 21999, 18837,  5716,\n",
       "         29991, 25992, 20618, 29160, 25788, 27197,  2132, 18296, 10535,\n",
       "          1945,  2725,  2724,  2726, 18591]),\n",
       "  array([  496,  1864, 33634, 15206, 16819, 23650]),\n",
       "  array([  497, 24085,  1759, 28719]),\n",
       "  array([  498, 18767,  6531, 18816, 33777, 19082,  2066, 31847, 11083,\n",
       "          2648,  9911, 10560, 32686, 24806, 15657, 16247, 28263,  9664,\n",
       "         29033,   185, 24982,  1777,  9946,  9942,  9944,  9945,  9943,\n",
       "         33677, 31564, 19784, 15854, 33113, 18671, 30079,  4115,  4114,\n",
       "         28039, 28040,  1909,  1184, 13598, 12948, 19051]),\n",
       "  array([  499, 26297,  1543,  3489, 33194, 17663,  2194,  8419, 15240,\n",
       "          6014,  5505, 13091, 15655, 15750, 27504,  5819, 12725, 34149,\n",
       "          1736, 33228, 24226,  6687, 22021, 14637, 14278, 22663, 11442,\n",
       "         21720, 32848,  6337,  7781,  3447, 27508,  1439]),\n",
       "  array([  500, 16927]),\n",
       "  array([  501,  8531,   789, 23935, 33836, 23512]),\n",
       "  array([  502, 14844, 20201,  2201]),\n",
       "  array([  503,  6446,  6445,  6444, 22067, 30411, 30410, 10098, 17108]),\n",
       "  array([  504, 22202]),\n",
       "  array([  505,  4781, 14954,  3938, 32072, 32392, 10303, 23909, 20872]),\n",
       "  array([  506, 32206, 18189, 32337, 24739, 24323, 26757, 27057,  8947,\n",
       "         25694, 21825, 22332, 30182, 23224,  4982, 11640, 21188,  8895,\n",
       "          8894, 33960,  6118, 31683, 18153, 19482, 30239, 32841,  8964,\n",
       "         13236, 20036,  3318, 32303, 17003, 21690, 14559, 26160]),\n",
       "  array([  507,  7874, 28312, 33273, 17521,  9651, 28327, 20748, 10025,\n",
       "         19766, 17765,  8171,  8170,  1856, 21209, 33403, 20601, 20599,\n",
       "         20600, 17356, 11392,  8202, 19913, 32203,   772, 15369, 14442,\n",
       "         26407,  2108, 27235]),\n",
       "  array([  508,  5450, 12081, 17077, 25657, 32355]),\n",
       "  array([  509, 22567, 25049, 24073, 28020, 29867, 25241, 27371, 24293,\n",
       "         11266, 19271, 11826,  6364, 11133, 14368,  3068, 14466, 14465,\n",
       "         14467,  2387, 15823,  6567, 22733, 25408, 29778, 31693, 31278,\n",
       "          3375,   146,  3655, 16974, 27405, 21904, 15517, 11117,  6232,\n",
       "         23087,  2743]),\n",
       "  array([  510, 28755, 28756, 15473,   367,   368,   597,   811, 22580]),\n",
       "  array([511]),\n",
       "  array([  512,  5383, 33969, 29013, 13546,  6104,  5200, 19088]),\n",
       "  array([  513,  5886, 22886,  6419, 27347,  1905, 27863, 25606, 31728,\n",
       "          6315,  7377,  7376,  7370,  7373,  7378,  7372,  7375,  7371,\n",
       "          7374, 19352, 27515,  1291,  4994, 15589,  9346, 23538,  1947,\n",
       "         24373,  2522,  9342, 21740, 12696,  8361,  4385,  4812, 26172,\n",
       "         19342, 13324, 21095,  4580,  3218, 13492, 18136, 31259, 26075,\n",
       "         12328, 28701, 22186, 11056,  8200]),\n",
       "  array([  514, 27204, 24418,  6042, 29508, 15050,  8761]),\n",
       "  array([  515,   128, 10919,  8439, 26960, 13215]),\n",
       "  array([  516, 17052,  6412, 21919,  1525, 30866]),\n",
       "  array([  517,  7511, 15385, 15384, 17723,   837,  2089,  2090, 13049,\n",
       "         11319,  1814,  1815, 10559,  4525,  5616,  5617, 14437, 29313,\n",
       "         13289, 15699, 23864,  5905, 28054, 19246, 14480, 34053, 23075,\n",
       "         16718, 30659, 22079, 31168,  8490,  6566,  9782, 24258, 15002,\n",
       "         28866,  1631, 13654, 31048, 31254, 22480, 24742, 12746, 13631,\n",
       "         31036, 14177,  1530,  4918, 14730]),\n",
       "  array([  518, 31750, 18149, 17995, 18564, 10369, 11946, 13624, 20064,\n",
       "          2146, 17400,  4584,   443, 22631]),\n",
       "  array([519]),\n",
       "  array([  520, 18840, 10577,   997, 31471, 11565, 11249,  3737, 22261,\n",
       "         14862, 25313,  3053, 27323, 21441, 34141, 32056, 12943, 18376,\n",
       "         19084, 33134, 26969, 15638,  1091, 30345, 22207, 32845, 13946,\n",
       "         10213,  4515, 28425,  3538, 19321, 10227,  5801, 22245, 15966,\n",
       "         32472, 15210, 15211, 33856, 16652, 26332, 24994, 28655, 28891,\n",
       "         24409,  4858, 14052, 21148, 16971]),\n",
       "  array([  521,  4319,  4320, 20937, 13926, 19669, 33102, 14863, 31283,\n",
       "         31373, 31372,  4590, 33884, 26063, 26153, 33299, 31346]),\n",
       "  array([ 522, 4723, 9446,  942]),\n",
       "  array([  523, 31604, 16743, 30789, 12648, 14970, 14968, 14969, 14966,\n",
       "         14967,  6606, 16039, 19503, 33527, 11860,    56,    57,  2849,\n",
       "         14338, 28141, 19528,   117,  5930,  5931, 31930, 13729, 13664,\n",
       "         21964, 27716, 31887, 10203,  8155,  6992,   415,  5671, 28786,\n",
       "         31337, 19018, 19017, 20580, 15679, 30522, 28704, 18868, 24570,\n",
       "         13908,  4149, 16606, 16605, 16604]),\n",
       "  array([  524, 10764, 27703]),\n",
       "  array([  525, 18085, 14522, 26706, 24614, 27964, 25214, 28721,   641,\n",
       "         29666]),\n",
       "  array([  526, 15074, 15967, 32755,  9925, 27236, 30138]),\n",
       "  array([  527,  5390,  5387,  5386,  5391,  5388,  5389, 27736,   690,\n",
       "           689, 17882, 17881, 17880, 31844, 33902,  2266,  8031, 29955,\n",
       "          8293, 14011,  7893, 29945, 22699, 28529, 23227, 16168, 20554,\n",
       "         20553,  9326, 12112, 19836,  3243, 22933, 25622, 20233,  1619]),\n",
       "  array([  528, 30617, 15889, 29807, 33369, 18655, 20021, 30283, 16501,\n",
       "         16979,  8455, 12908, 14985, 33366,  2756,  7386,  6513, 33109,\n",
       "          2148, 32038, 24660, 27338,  7508, 10989, 23587,  5429, 31304,\n",
       "          1321,  4304,  2640, 12304, 33709, 30674,     9, 11390, 15918,\n",
       "         16520, 23551, 15846, 24707, 17316, 26984, 28477, 28478, 28481,\n",
       "         28482, 28480, 28479, 24762, 33843]),\n",
       "  array([  529, 19076, 16948, 25505, 22373]),\n",
       "  array([  530, 26976, 32672, 10512,  5482, 28967, 15841, 32600, 23647,\n",
       "         21786,   768, 22957, 11131,  3609, 23403, 14934, 27917, 17023,\n",
       "         31407, 15995, 23067, 15895, 23303]),\n",
       "  array([  531,  3447, 12725,  5505,  1736, 30055,  5819, 27508, 25825,\n",
       "          4563,  4564,  9127,  6014, 20371, 30666, 22707, 22708,  5640,\n",
       "         11768, 15240, 27454, 16120,  7781, 17681, 33156, 26297, 17663,\n",
       "          2194,  8419]),\n",
       "  array([  532, 22588, 32594,  8766]),\n",
       "  array([  533, 29155, 21799, 24430]),\n",
       "  array([  534, 12077, 30954,  7755, 23199]),\n",
       "  array([  535, 12623, 22595, 14172,  5739, 24348, 32720, 10539, 24204,\n",
       "         21576, 15763, 15759, 15760, 15761, 15762,  1350,  9046, 20792,\n",
       "         32997, 29382, 29669,  1445, 33150, 14032,  9034, 17161, 15879,\n",
       "          1360,  2126,  2382, 33886, 26823, 18304,  3906]),\n",
       "  array([  536,   660, 24547, 16194, 23930, 10566,  9784,  9785,  8191,\n",
       "         20803,  2547, 13581, 20019, 11517,  3414, 16856, 32885, 16581,\n",
       "         13330,   950, 26152, 20159, 20482, 24162]),\n",
       "  array([ 537, 6251, 3852]),\n",
       "  array([  538, 23134, 11368, 31665,  7688]),\n",
       "  array([  539,  8312, 28032, 30954,  1912, 29689, 24269, 17164, 34083,\n",
       "         21335, 21031, 12077,  5062]),\n",
       "  array([  540, 33705, 20319]),\n",
       "  array([  541,  2779, 25234, 29222, 34182,   452, 30745]),\n",
       "  array([  542, 33644]),\n",
       "  array([  543, 23697, 24368, 18342,   323,  8313,  7220, 24406, 28817,\n",
       "          5326, 32336, 33995, 14790, 34232,  3492,  9798, 33475, 27273,\n",
       "         19845, 22827, 21630, 30947, 28898,  4785,  8740, 11207, 10218,\n",
       "         14706, 12252, 22565, 17629, 26504,   841]),\n",
       "  array([  544,   545,   298, 11915, 17533,  6228, 28871, 33339, 11281,\n",
       "         11280, 31000,   980, 33092, 16335,  6365, 19752, 23991, 29662,\n",
       "         11696, 10516]),\n",
       "  array([  544,   545,   298, 11915, 17533,  6228, 28871, 33339, 11281,\n",
       "         11280, 31000,   980, 33092, 16335,  6365, 19752, 23991, 29662,\n",
       "         11696, 10516]),\n",
       "  array([546]),\n",
       "  array([  547, 15774, 19981,  8657, 32769,  7224,  7223, 16533, 16534,\n",
       "         16535, 24735, 18959, 29370, 31231,  6585, 23170, 20959, 14805]),\n",
       "  array([  548, 18245, 18246,  4144, 24957, 16435,  3259, 15208,   825,\n",
       "           191, 16456,  7580, 23150, 12836,  8823, 21117, 10922, 10923,\n",
       "         11895,  3391, 16496, 30516, 13045, 24922, 21800,  5997, 20384,\n",
       "         19943, 23176, 28545,  7393,  1038, 18403, 17255, 16916, 34015,\n",
       "         28870, 13147, 16649,  6050,  6051, 31095, 17694,  2184,  2183,\n",
       "          3126, 25865, 24398,  8997]),\n",
       "  array([549]),\n",
       "  array([  550,  3890,  6346, 20400, 33378, 17897]),\n",
       "  array([  551, 10383, 21077, 21797]),\n",
       "  array([  552, 14125, 25591, 10285, 32911, 32912, 12731, 10861, 32849,\n",
       "          7303, 30227, 21802, 12986, 34151, 27151,  2601, 11836]),\n",
       "  array([  553, 19254,  6535]),\n",
       "  array([  554, 21993, 25284, 19234, 31081,  4802, 33203,  1277, 33122,\n",
       "         33205,  7488,  6496, 26596, 16177, 18716, 10732, 14337, 10957,\n",
       "         10956, 16989, 33121, 28235,  8540, 20674, 29203, 30262,  5227,\n",
       "          2587,  4416,    44,  8338, 24086,  3253, 33751, 15617, 17320,\n",
       "         26915, 18173, 23325, 28641,  6179,  4151, 17346, 30619,   885,\n",
       "         27322, 19347, 21038,  8026,  2422]),\n",
       "  array([555]),\n",
       "  array([  556, 14476,  4352, 32236,  1633,  4498, 25316,  6755, 14306,\n",
       "         30529,  9439,  3998, 12073, 14363, 10360, 19056,  8921, 16775,\n",
       "          9330,  6163, 30962, 29447,  1036,  2003, 25296,  4937, 22983,\n",
       "         19622,  2436, 27971, 27908,  1198,  5631, 24203, 10849,  7976,\n",
       "          3976,  8803, 13992,  1249, 24221, 17514, 32091,  5467,  4463,\n",
       "          1896, 28272, 22818, 30289, 32515]),\n",
       "  array([  557,  9838, 12182, 18112, 15602,  5134, 25005]),\n",
       "  array([  558,  5329, 28177,   495, 26682,  6818,  1318, 33448, 31178,\n",
       "         29991,  2722,  1945, 22774, 25788, 27223, 31548, 11904,  2132,\n",
       "           460, 20889, 33477, 32986, 25124,  5933,  1712, 32935,  4274,\n",
       "          6955,  6953,  6952,  6954, 10482, 10483, 26734,  1964,  1963,\n",
       "         19630, 18462, 10535, 19063, 26819, 26820, 25663, 32727, 18296,\n",
       "          8753, 25992, 21778, 19679, 24683]),\n",
       "  array([  559, 10641, 27154,  1140, 18810, 20480,   765,   274, 19305,\n",
       "         14854,  6643, 18801, 33010, 19928, 32704]),\n",
       "  array([  560,  8040, 13176]),\n",
       "  array([  561, 29141, 14422]),\n",
       "  array([  562, 27105, 32963, 31098, 28124,  7156, 33268,   179,  9001,\n",
       "         11575,  5857,  1996,  1891, 27987, 15906, 19376, 14259, 32281,\n",
       "          3924, 30428, 21641, 14702, 13472, 13116, 23104, 29019,  7864,\n",
       "          5697,  3829, 23220,  2988,  8604,  1405, 15792, 27162, 30214,\n",
       "          5300,  1614,   682, 22302,  1265, 18421,  5698, 26061, 13970,\n",
       "          8043,  2494, 33715,  4289,  3783]),\n",
       "  array([  563, 27545]),\n",
       "  array([  564, 25921, 19921,  2242, 27004, 19842, 33163,   260, 16118,\n",
       "         11125, 31387, 24466, 32854,  5644, 12207, 16498, 19734,  7322,\n",
       "         25102, 12729, 14498, 31522, 10165, 18741,  4120, 13960]),\n",
       "  array([  565, 23963,  8541,  9518,   881, 23458, 22782, 15788, 30106,\n",
       "         14428, 12324, 26227, 20922, 32481, 23767, 14184,  9452, 25879,\n",
       "         19870, 19012,   819, 17887, 31458, 23051,  2404, 32470,  1622,\n",
       "          6842,   364, 27108,   411,  9716,  6553, 21629, 23655, 12970,\n",
       "         31306, 26494,  1566, 22091, 13702, 25563,  4980, 16162]),\n",
       "  array([  566, 25427, 15665, 18719,  4324, 18180, 17109, 18119]),\n",
       "  array([  567,   216,  8819, 19966, 18769, 18533, 21110, 23151, 33637,\n",
       "          8822, 17296, 33675, 33676,  6757, 31082, 30058, 31945, 26127,\n",
       "         33157,  6400, 18505, 29208, 20999, 20960, 24176, 32184,  9197,\n",
       "          9196, 20165, 20166, 20164, 16798, 30675, 29069,  2487, 30125,\n",
       "         15021, 27387, 34023, 13877,  5809,  4455, 19750, 10959, 26746,\n",
       "          6094, 12921, 11060,  3316,  3315]),\n",
       "  array([ 568, 8441]),\n",
       "  array([  569, 24055,  4884, 10700, 30750]),\n",
       "  array([  570, 10436,  6075, 24279,  1593,  1514, 15608, 27689, 18198,\n",
       "         26943,  6085,  8619,  4667, 19369, 16685, 26003,  5373, 31140,\n",
       "          4121, 29047,  4451, 31961, 21694,  4080,  8737, 30623, 20563,\n",
       "          8908,  7076, 23848, 30322, 29016, 12962, 22837, 16710,  1492,\n",
       "          6058, 27589, 32414, 32415, 32413, 29318,  9277, 14840, 31150,\n",
       "         31940,  4688, 30033, 17936,  5687]),\n",
       "  array([  571,  8938, 12756,  4882, 24039, 27496, 13092,  1511, 18343,\n",
       "         33019,  4406,  8852, 30159, 18163, 18374, 25759, 17413,  9131,\n",
       "         17992, 22090,  4806, 15945]),\n",
       "  array([  572,  2074, 14356, 19128,  4511,  1215, 22818,   755, 11932,\n",
       "          8803,  3958,  7296,  9244,  1509, 10360,  5631, 30502, 25316,\n",
       "         26512]),\n",
       "  array([  573, 21791, 21792,  5113,  6707]),\n",
       "  array([  574, 24772, 23928, 16074]),\n",
       "  array([  575, 23712, 14181, 19336, 22136, 12218,  4736,  7722,  7721,\n",
       "          7720,  7723,  7724, 22231, 22229, 22230, 22232, 22233, 10449,\n",
       "         30429, 23259, 23235, 24003, 21624, 12964, 10648, 10694,  1647,\n",
       "         10684, 34022, 20613, 31481,  3616]),\n",
       "  array([  576, 22554, 22553, 18065, 33531, 14715,  7127, 22486,  5492,\n",
       "         21287,  1601, 22431,  3598, 11150, 24913,  9317,  7817, 26801,\n",
       "          1286,  2028, 15281, 11138, 13609, 30964,  9402, 27045, 31159,\n",
       "          2163,  2164,  2165, 20486,  7628,  4167, 28170]),\n",
       "  array([577]),\n",
       "  array([  578, 25323, 25322, 25321, 27163, 16511, 11301, 23204,  7251,\n",
       "          7250, 13273, 14195,  5231, 25393,  2480,  2261, 29782, 32081,\n",
       "         32385, 24796,  1845, 17911, 24728, 32604, 29149, 29406,   636,\n",
       "         13174]),\n",
       "  array([  579,  1979,  1978, 27390, 27389, 26663, 24347, 12248,  5919,\n",
       "         22290, 27709,  8993, 29342, 10768,  3916,  3917, 32375, 17760,\n",
       "         33409, 33410, 33408, 33406, 33407, 30884, 20893, 25860,  7708,\n",
       "         12369,   743,  9822,  5807, 18711, 23282,  1232]),\n",
       "  array([  580, 24542, 10741]),\n",
       "  array([  581, 12534, 13945,  6335, 18269,  8477,  4732, 21172, 29747,\n",
       "         24333, 15773,  1992, 26996,  8044,   111, 12599, 10441, 29104,\n",
       "         29103,  2229,  2228, 28548,  4765, 33786,  8389, 32730, 32731,\n",
       "         10531, 28527, 20886,  8755, 12215, 27143,  3246,  3328,  5702,\n",
       "         30064, 19556, 10155, 10154, 32846, 20855, 23755, 17402, 10513,\n",
       "         29202, 16845, 26595,  6808, 28412]),\n",
       "  array([  582, 13727, 19849, 17661]),\n",
       "  array([  583, 13418,    76, 31467, 16880,  5961, 32669, 27743, 20085,\n",
       "         21956, 27041, 12766,  9327,  9328, 15938]),\n",
       "  array([  584, 21640, 21639,  8063, 10942, 24900,   225, 24597, 24596,\n",
       "          9956, 30844,  1287,  5005,  8254, 30222, 32064, 15361, 10321,\n",
       "         19161, 16789, 29719,  4368, 15243,  8424,  8423, 16851, 16268,\n",
       "          3143, 13738, 18404, 33766,  1451, 16244, 29113, 22146, 27590,\n",
       "         24464,  1202, 18434, 13246,  4392,  5397, 17391, 22055, 30969,\n",
       "          4620, 12003,  4086, 33694,  3993]),\n",
       "  array([  585, 14240]),\n",
       "  array([  586,  2302, 21065, 20434, 25691]),\n",
       "  array([  587, 17222]),\n",
       "  array([  589,   588,  7873,  1677, 25851, 29199,  5360, 13095, 31318,\n",
       "         25010, 16040, 12250, 14454, 26392,  8885, 13393, 28844,  6911,\n",
       "          1370,  5150, 28864, 29501,  8629, 32896,  5354, 25619, 25618,\n",
       "         23785, 30492,  8904, 30583, 19284, 23936, 11230,  7663, 23606,\n",
       "         14588, 29316, 12415, 10688,  4313, 23195,  6084,  4326, 28515,\n",
       "          9159,  7196, 21049, 17260, 10990]),\n",
       "  array([  589,   588,  7873,  1677, 25851, 29199,  5360, 13095, 31318,\n",
       "         25010, 16040, 12250, 14454, 26392,  8885, 13393, 28844,  6911,\n",
       "          1370,  5150, 28864, 29501,  8629, 32896,  5354, 25619, 25618,\n",
       "         23785, 30492,  8904, 30583, 19284, 23936, 11230,  7663, 23606,\n",
       "         14588, 29316, 12415, 10688,  4313, 23195,  6084,  4326, 28515,\n",
       "          9159,  7196, 21049, 17260, 10990]),\n",
       "  array([  590, 14286, 19470, 30221,  6738,  3874]),\n",
       "  array([  591,  1082,  7466, 12316]),\n",
       "  array([  592, 14347,  1336, 25746, 22530, 13886]),\n",
       "  array([593]),\n",
       "  array([  594,  2576,  1716,  7881,  7763, 31933,  6060, 29956, 14101,\n",
       "         11959, 10497, 10496, 27777, 17793, 13739, 20615,  8969, 20845,\n",
       "         16255, 21333, 17513, 12926,   784, 12995, 21423, 17903, 12317,\n",
       "         10781, 12243, 20303,  1630,  3397,  5837, 17074, 29492,  1985,\n",
       "          1984, 18633, 28897, 31992, 11175,  6301, 27741,  8465,  8466,\n",
       "         33093,  2139]),\n",
       "  array([  595, 24775, 15813, 25290, 25137, 11216,  5369, 33598, 23059,\n",
       "         14598,  2556, 32079, 24216,  4876, 10803,  5120,  5119, 26774,\n",
       "         14280, 28303, 24100, 12345, 16017, 17866,  2628,  3057, 18043,\n",
       "          9895, 22094, 26677,  1617, 33660, 28736, 11983, 27370,  9984,\n",
       "         17706,  3727, 20881, 27245, 14065,  3267,  3268,  9897, 15932,\n",
       "         11251, 12186,  3701, 12802, 29810]),\n",
       "  array([  596,  8629, 23401, 29456, 29455, 12175, 12116,  5432,  3603,\n",
       "          4709, 16463,  7873,   588,   589, 25330, 25331, 29551, 24771,\n",
       "         16928,  5174, 13039, 13038]),\n",
       "  array([  597,   368,   367, 15473, 28756, 28755,   510, 19388]),\n",
       "  array([  598, 30339]),\n",
       "  array([  599, 23285]),\n",
       "  array([  600, 14971, 33688, 24784,  1282,  5255]),\n",
       "  array([601]),\n",
       "  array([  602,  4124, 26739, 26740,  9321]),\n",
       "  array([  603, 21010]),\n",
       "  array([  604, 31999,  5452, 20065]),\n",
       "  array([  605, 12717, 24553,  1024, 27739, 10342,  8054, 26118]),\n",
       "  array([  606, 18276, 18277,  3272, 23643, 12795, 26189,  5304,    82,\n",
       "         18290, 27614, 12584, 20339,  6026, 16280,  2305, 23818, 30531,\n",
       "         31092, 31656, 14369, 17800, 28429, 14677, 22322, 19540,  7734,\n",
       "          1763, 23614, 24363, 30043,  2291, 10807, 11309, 32002, 21146,\n",
       "          8355, 15898,  8266, 33779, 20880,  6607, 27022, 12154,  9292,\n",
       "         14554, 26143, 26142]),\n",
       "  array([  607,  8183, 21926, 15673,  4428, 31492, 17927, 27076, 29564,\n",
       "          2863, 10600,  2349,   205,  8011, 21547, 13297, 15391, 17582,\n",
       "          1269, 30448,  5092, 17190, 26548, 25529, 23299, 13828, 17536,\n",
       "          1730, 13663, 10208, 15272, 22944,  4328, 33044,  2654,  5270,\n",
       "          4020, 15855, 23311, 16020,  1339, 13637, 11051, 18566, 27572,\n",
       "         10335,  7175, 30174, 16076,  9588]),\n",
       "  array([  608,  2479,  4610,  5580, 16082, 20425, 23718, 19044,  4028,\n",
       "         23435, 31041, 12010, 15636, 18101, 25281, 12720, 31734,  1860]),\n",
       "  array([  609, 14418]),\n",
       "  array([  610, 12541, 12540,   897, 26170, 17361, 15192, 17033, 18481,\n",
       "         29468, 23522, 13185, 21412, 11118, 10796, 31814, 11132, 20199,\n",
       "         20878, 25387, 11691, 19695, 19180, 14926, 27646, 18715, 27925,\n",
       "         12257, 29999, 19531,  2298, 16975, 28253, 28148, 15188,  8811,\n",
       "          5914, 33049, 27906,  8525, 27420, 24505,  6150,  2649, 25181,\n",
       "         18439, 26941, 16453, 17344, 30383]),\n",
       "  array([611]),\n",
       "  array([  612, 19050,  3579, 20451, 17892, 16357,  8512,  6630, 17149,\n",
       "         21949, 12190, 24583, 23054, 16730, 16729, 16728, 22745,  6817,\n",
       "          4348, 20129,  6280, 11805, 27606, 29804, 14921, 24634, 10402,\n",
       "         15242, 22405, 16782, 23972,  6155, 29372, 29341,  5029, 10457,\n",
       "         10419, 13329,  5469, 24103, 17515, 18588,  5220, 21101,  5869,\n",
       "         25605,  2970,  1854, 19877, 19878]),\n",
       "  array([  613, 15121, 18886, 23197]),\n",
       "  array([  614, 28964, 21499,  1926,  4840, 34117,  2239,  5475, 31736,\n",
       "         32938,  9406,  6156]),\n",
       "  array([  615, 13176, 29348, 30661, 11449, 11726, 10964]),\n",
       "  array([ 616, 3797, 4477, 1606]),\n",
       "  array([  617, 14502, 30565, 15423, 24160, 18199,  7270, 26202, 16701,\n",
       "          2177]),\n",
       "  array([618]),\n",
       "  array([  619, 34007, 19703, 23349, 24033,  4597, 30101, 14388, 29663,\n",
       "         33842, 14638, 31870, 20987, 14633, 14632,  5118,  4986,  7469,\n",
       "         30596, 30595, 22551, 29083, 11686, 30398, 23014, 23786, 31513,\n",
       "         25697,  6772,  6450, 13596, 13595, 15278, 29403, 34061, 31174,\n",
       "          4855, 19778, 15120, 25539, 13298, 29810,  6692, 17360, 20508,\n",
       "          1338, 10164, 15557, 30523, 30487]),\n",
       "  array([  620,  8749, 16572]),\n",
       "  array([  621, 30076,  8277]),\n",
       "  array([  622,   623,  7209,  5829, 31730, 12046,  9074, 30057,  8776,\n",
       "         11335, 14003, 27326,  4191, 29355,  1898, 18247, 24764,  4309,\n",
       "          6731, 10702,  6423, 30926]),\n",
       "  array([  622,   623,  7209,  5829, 31730, 12046,  9074, 30057,  8776,\n",
       "         11335, 14003, 27326,  4191, 29355,  1898, 18247, 24764,  4309,\n",
       "          6731, 10702,  6423, 30926]),\n",
       "  array([  624,  8635,  2141, 20459, 20458, 24359,  3592,  3086,  8691,\n",
       "         11487, 26842, 27257, 31865, 15310, 12976,  9451, 32421,  2987,\n",
       "         27586, 15476, 16407, 16449, 23548,  4243,  3873, 34055, 22522,\n",
       "         11945, 25608, 11381,  5382, 13268, 27921, 32391, 32390, 26880,\n",
       "         26793, 12306,   343, 25238, 26632,  8617, 12167,  6351, 30669,\n",
       "          4439, 17076,   731,   732, 23256]),\n",
       "  array([  625, 11096]),\n",
       "  array([  626, 18052,  3301,  8718, 15704]),\n",
       "  array([  627, 25841, 17460, 29040,  9613, 28186, 30551, 14874, 18899,\n",
       "         11922, 32276,  1949, 30583, 24694, 14937, 30598, 20069, 29129,\n",
       "         11285,  7196,   831,  7663, 15191, 31477, 21229, 22215, 22649,\n",
       "         26137,  5360]),\n",
       "  array([  628, 19036,  9758,  8605, 18531,   860, 34142, 20902, 13867,\n",
       "         18172,  1754, 15727, 14925, 31981, 21526, 32493, 26133, 11885,\n",
       "         22702, 17336,  6924, 21017, 26301, 20591, 20592, 20590, 16018,\n",
       "         33817, 33939, 25435,  3222, 15387,  9695,  4208, 12861, 25824,\n",
       "         10982, 10981, 23320, 29539, 12963,  6207, 10433, 21807, 32453,\n",
       "         32452, 14747, 10861, 27407, 28185]),\n",
       "  array([  629, 16999]),\n",
       "  array([  630, 16492]),\n",
       "  array([  631, 14614]),\n",
       "  array([ 632, 2915]),\n",
       "  array([  633, 26385]),\n",
       "  array([  634, 10738, 28949, 25102, 18754,    35,   260,  4362,  7322,\n",
       "          2242, 19842, 12729, 16118, 18561, 33810, 33809, 24466, 31387,\n",
       "         12207, 14898,  1737, 12142, 24208, 31265, 16498, 10165,  1752,\n",
       "         10902, 19734, 11898, 26298, 31522, 28888, 31603,  4120, 17472,\n",
       "         22379, 20826, 27813, 33163,  5644, 31857, 28048,  9707, 32507,\n",
       "         18741, 17223,  8167, 18529, 19921]),\n",
       "  array([ 635, 8053]),\n",
       "  array([  636, 13174, 29149, 12525, 25393, 24796,  2480,  1845,  2261,\n",
       "         29782, 24766, 18293, 32604,   578, 27163, 16511]),\n",
       "  array([637]),\n",
       "  array([  638,    14, 27180, 27179, 28500,  5741,  2977, 33573, 19631,\n",
       "          6248, 22496, 20117, 13822, 25728, 29437,  9011, 26539, 13793,\n",
       "         26197,  3008,  3761,  1771]),\n",
       "  array([  639,   909,  6277,  2471, 17634, 11100, 32902,  9101, 15314,\n",
       "         21609]),\n",
       "  array([  640,  6057, 12117,  9393, 10573,  8321,   111, 21555, 26364,\n",
       "          5818,  1403, 24232, 26996,  7963, 11029, 17381, 19188,  1747,\n",
       "          2360, 28527,  6808, 12599,  6995, 27303, 17769, 17093, 29747,\n",
       "         20886, 10343, 11596]),\n",
       "  array([  641, 32898, 23734, 23136,  5563,  3230, 15237, 17666,  5211,\n",
       "         11031,  6938,  8597, 12442,  6070,  8249, 16092, 26040, 14800,\n",
       "          2509, 33557, 22113,  6987, 18495,  4422, 19846, 20595, 13949,\n",
       "         17594, 17595,  2507,  2508,  2506,  7201,  6520, 32201, 17598,\n",
       "         19198, 31575, 20711,  8805, 14080, 29123, 24498, 31381, 15862,\n",
       "         12782, 32738, 12251, 30887, 25535]),\n",
       "  array([  642, 28833, 16228, 16229,  7387,   999,  2477,  2560, 11350,\n",
       "         18669,  8792,  9094, 21952,  6575, 26251, 26252, 31061, 21703,\n",
       "         25178, 15764, 32277,  8767, 11179,  3289,  5032,  4093, 17239,\n",
       "         28830, 18382, 19502, 19501, 19500, 10826,  4430, 31301,  3175,\n",
       "         11831]),\n",
       "  array([643]),\n",
       "  array([  644, 30747, 14654, 24820, 18747,  3767, 26098]),\n",
       "  array([ 645, 2123]),\n",
       "  array([  646, 14458, 15503,  1739,  1598,  9761, 30459,   753,  9417,\n",
       "         11559, 33853, 28311,  2478, 28775,  4294, 14566,  2060, 34090,\n",
       "         30235, 16106, 30405,   234]),\n",
       "  array([  647, 33521,  7682, 28718, 30438, 31095,  6051,  6050,  1361,\n",
       "         13147, 16916,  2170, 11522]),\n",
       "  array([  648,  3404, 32834, 16641, 29405, 17442, 33662, 17045, 25272,\n",
       "         28989, 28988, 28987, 28990,   378, 21770, 11498, 19266, 11735,\n",
       "         19566,  5156, 33101, 22266,  5229, 30342, 10076,  9435,  9437,\n",
       "          9436,  8195, 27884, 30824, 32499, 27981,  5957, 23940, 23939,\n",
       "         12441, 10003, 27346,  1788, 21043, 10392, 22555, 16714, 16684,\n",
       "         29378, 11578, 33204, 21262, 28452]),\n",
       "  array([  649,  5048, 17107, 14227, 30906, 23009,  5417, 26656]),\n",
       "  array([650]),\n",
       "  array([  651, 24267, 24268, 17032,   289, 14124, 22769, 22770, 20405]),\n",
       "  array([  652, 11236, 24460, 19317, 20012,  9744, 18831,  8756, 24233]),\n",
       "  array([  653, 22592,  5920, 23769, 16645, 11706,  5043, 14710,  7527,\n",
       "         10187,  3388, 10743, 25239, 15559, 25329, 26428,  5499, 15443,\n",
       "         23029, 31398,  7075,  2376, 21913, 23443]),\n",
       "  array([  654, 22328, 31931,  3461,  3188,  6204,  5884, 19989]),\n",
       "  array([656, 655]),\n",
       "  array([656, 655]),\n",
       "  array([657]),\n",
       "  array([  658, 10276,  5685, 29513, 23353, 11888, 30053, 21318, 13675,\n",
       "         31545, 21854, 29381,  2368,  3889, 26767,  5588, 23561,  7005,\n",
       "         10319, 15653,  3501, 27278, 33192]),\n",
       "  array([  659, 24182, 19304]),\n",
       "  array([  660, 16194, 24547, 23930, 10566,  8191,  9784,  9785, 20803,\n",
       "           536,  2547, 32885, 13581,   950, 16856, 16581, 13330, 20482,\n",
       "         11517, 24162, 20019,  3414, 26152, 20159, 30134]),\n",
       "  array([  661, 11466, 16918, 34017, 29996, 24716, 32382, 10888, 16723,\n",
       "         32905, 14538,  6600, 29736, 15232, 18933,  7739, 14527, 26151,\n",
       "          7191, 10024, 27645,  6998, 11592,  5405, 14482, 20056,  4701,\n",
       "         30555, 31754, 32969,  5560, 17872, 16348,  5324, 27073, 20047,\n",
       "         22349,  5103,  3371, 12980, 13086, 10544, 20007,  2683,  2685,\n",
       "          2684,  1673,  7368, 25662,  4827]),\n",
       "  array([  662,   140, 13515, 26779,  1890, 22139]),\n",
       "  array([  663,  4264, 31119,   984, 25490, 14819, 18043, 32079, 29063,\n",
       "         12345,  6926, 23059, 17866, 26273,  3864, 32802, 26841, 32450,\n",
       "         15932,  9895,  3727, 33648,  3268,  3267,  2628, 22094,  5369,\n",
       "          3701, 12802, 17706, 14280, 15813, 27245, 28303, 25290,  8897,\n",
       "         26875, 26677, 11983,  1617,  9984, 33009, 14065, 33198, 33038,\n",
       "         10803,  9897, 16290,   595, 11216]),\n",
       "  array([  664, 24412, 32014, 21051, 14803, 30150,  2692, 18559]),\n",
       "  array([  665,  3085, 15331, 17402,  3773, 12534, 30064, 33786,  1992,\n",
       "         16845,  9701, 26595, 12215,  4765, 20855, 27143, 24333,  8477,\n",
       "          1319, 23755, 10531, 32846, 10441,  8755, 13945, 32731, 32730,\n",
       "          5775,  4732,  2228,  2229, 22941, 10012, 29202,  8044,  8389,\n",
       "         15773,  6394,  3246, 10513, 28527, 22052,  5929,  2241, 18269,\n",
       "         16383, 10155, 10154, 21172,  6335]),\n",
       "  array([  666,  5812,  3544, 24676,  2832, 29136, 22000, 26569, 22244,\n",
       "         30024, 30023,  6852, 23221,   957,  4102, 17431]),\n",
       "  array([  667, 23701]),\n",
       "  array([  668, 10887,  4034]),\n",
       "  array([  669, 28188, 27097, 18987,  7421,  9501, 23117, 30905, 31830,\n",
       "         30180, 19731, 13265, 26702, 21278,  1302, 22390,  9545,  7840,\n",
       "         22072, 32603,  4230, 28662, 18643,  5374,  5536, 11556,  8706,\n",
       "         11067, 20271, 31571, 12823,  4617, 29758, 10709, 17236, 25317,\n",
       "         12488, 20544, 30641, 20791, 25716,  1913, 22035, 27094, 30287,\n",
       "         19853,  9891, 14085, 14086,  2172]),\n",
       "  array([  670, 31613, 25855, 31445, 24147,  4237, 17668, 22923, 23662,\n",
       "         17083,  2448, 25228, 16572, 22034, 31639,  5332, 20258, 13747,\n",
       "         13920, 22339, 18433, 21871,  1866, 18130, 25745]),\n",
       "  array([  671,  9766, 31838, 13401, 30457, 24120,  7203, 30850, 19007,\n",
       "         26070, 29338,  3640, 21449,  9047,  8978, 30441, 14118, 29209,\n",
       "         29210, 29211, 18148, 18350, 16681, 23602, 23603, 23599, 23600,\n",
       "         23601, 28538, 19610, 29042,  5949, 29980, 12496, 21253, 27246,\n",
       "         26906, 27848,  5451, 19807, 20410,  9534, 27747, 27877,  9255,\n",
       "         19567, 32367, 29012, 25681, 30416]),\n",
       "  array([  672, 25189]),\n",
       "  array([  673,  1556, 33263]),\n",
       "  array([  674,  8059,  9637, 19338, 14288, 18698,  7664, 28770, 28771,\n",
       "         28769, 33235,  8764, 22753,  3676, 32959, 24145, 29112, 29111,\n",
       "         32088, 11496,  1929, 16482, 10608,  9864, 25595,  4714, 27156]),\n",
       "  array([  675, 20666, 18931, 29166]),\n",
       "  array([  676,  6700, 12888,  6535, 32109, 21486,  5078, 27807, 31155,\n",
       "         18906, 23190,  6872, 15354, 12831, 13520]),\n",
       "  array([  677,  1782, 18847]),\n",
       "  array([  678, 11507, 10912, 33754, 31741, 10831,   482,    58,    59,\n",
       "         27507, 19706, 23637, 13148, 20656, 14305, 22138, 18355,  2071,\n",
       "         16826, 13839, 19650, 31378, 15305, 10084, 19283, 28198, 26093,\n",
       "         20690, 27953, 26946, 17634]),\n",
       "  array([  679, 13922,  8548, 24458,  1931]),\n",
       "  array([  680, 29578, 21240, 13378, 22242,  5185, 19616, 29448]),\n",
       "  array([  681, 15535,  2559, 28937, 23762,  6289,  9561,  9612, 14893,\n",
       "          5800]),\n",
       "  array([  682, 13970, 10857, 19614, 24696,  1475,  3975, 22302, 32281,\n",
       "         23562, 21641, 26662,   179,  5857, 12715,  9001,  1405, 27105,\n",
       "         27162, 28124,  4447,    42, 32963,  1614,   291, 23104, 31098,\n",
       "         33364,   562,  5728,  7537, 16822, 27489, 27987, 13116, 13472,\n",
       "          7864,  9160,  7156, 28824, 20913,  2981, 33268, 11833, 19376,\n",
       "          3924, 29440, 22704, 23056, 26540]),\n",
       "  array([  683, 30791]),\n",
       "  array([  684, 25548,  5729, 10333, 33031,  4054, 12374, 30376, 11196,\n",
       "          6608, 23318, 31189, 31174, 31261, 24358,  8012, 19163,  6450,\n",
       "          1840, 30487, 14638, 13468, 13442, 32556, 20987, 14388,   268,\n",
       "         19703,  6530,  7430, 10549, 12629,  9757, 33042, 17425, 23493,\n",
       "         22479, 25767, 28182, 10453,  2414, 30101,  9618, 25697, 33842]),\n",
       "  array([685]),\n",
       "  array([686]),\n",
       "  array([  687, 19114, 16986, 29434, 18742, 18743,  5972,  5970,  5971,\n",
       "         16646, 11603, 10801,  2271, 32202, 10262, 33391,  2951, 20960,\n",
       "         32083, 32082,  5342,  2957, 26127,  4455, 34023, 19750,  4427]),\n",
       "  array([ 688,  780, 3758]),\n",
       "  array([  690,   689, 17881, 17880, 17882,  2266, 29955,  8293, 14011,\n",
       "          8031, 33902, 31844, 25622, 22933, 28529,  5389,  5388,  5390,\n",
       "          5387,  5386,  5391, 27736, 23227, 20554, 20553, 22699,   527,\n",
       "         19836, 16168, 10315,  9326,  9983, 33415, 22891, 25574, 25576,\n",
       "         25573, 25572, 25575, 22258,  7893, 27135,  2636,  2637,  4099,\n",
       "         21529, 29945, 22992, 25015, 16367]),\n",
       "  array([  690,   689, 17881, 17880, 17882,  2266, 29955,  8293, 14011,\n",
       "          8031, 33902, 31844, 25622, 22933, 28529,  5389,  5388,  5390,\n",
       "          5387,  5386,  5391, 27736, 23227, 20554, 20553, 22699,   527,\n",
       "         19836, 16168, 10315,  9326,  9983, 33415, 22891, 25574, 25576,\n",
       "         25573, 25572, 25575, 22258,  7893, 27135,  2636,  2637,  4099,\n",
       "         21529, 29945, 22992, 25015, 16367]),\n",
       "  array([  691, 10109]),\n",
       "  array([692]),\n",
       "  array([  693, 15860, 15861,  1547, 25455, 27331,  8710,  8357, 14508,\n",
       "          6554,  6620, 23613, 28592,  6960,   189,  8508, 16671,  3629,\n",
       "          3628, 29414,    38, 18249, 17421, 17420,  7138,  6288,  8928,\n",
       "         17136,  7478, 11471,  9339, 23293, 12401, 14755, 11382, 19963,\n",
       "         16599, 26679, 19688, 15945, 19157, 26558, 24402, 31561, 14105,\n",
       "         12424, 27185, 29322,  4187,  6266]),\n",
       "  array([  694, 11938, 14517, 23505, 29931,  7826]),\n",
       "  array([  695,  3789, 25273, 32385, 30950, 22155, 13313,  5059, 12535]),\n",
       "  array([  696,   697, 15740,  8023, 14487, 24850]),\n",
       "  array([  696,   697, 15740,  8023, 14487, 24850]),\n",
       "  array([  698, 18865]),\n",
       "  array([  699, 30933, 15997, 12035, 20172, 29260, 18466, 19308, 26161,\n",
       "         10411, 26371]),\n",
       "  array([  700, 29833]),\n",
       "  array([  701, 21871, 16434, 15175, 10330, 18433, 16572, 25228, 31639,\n",
       "         22339,  2448, 30638, 13920, 23190,  5332, 22034, 20258, 12831,\n",
       "         12193, 12194, 14948, 25855, 31613, 22923, 17083, 13897,  5078,\n",
       "         17247, 17668, 18120,  6872]),\n",
       "  array([702]),\n",
       "  array([  703, 22571, 22569, 22570, 31710, 33571, 18327, 19496, 16904,\n",
       "         22863]),\n",
       "  array([  704,  9681, 12755, 17870,  5284, 12160, 11832, 20695, 33052,\n",
       "         20873,  4809, 29794,  4413]),\n",
       "  array([  705, 18497, 24422]),\n",
       "  array([  706, 29748, 29749,  4838,  8161, 30915, 30914, 27063, 14359,\n",
       "         17766, 27450, 20285,  1223,  5471, 12446,  7418, 24763,  3160,\n",
       "         31045, 26931, 29932, 32444, 21448, 20933,  5011,  1314, 18823,\n",
       "         23770,  4577,  2714,  1746,  2258,    34,  4248, 22542, 22541,\n",
       "         17488, 29524, 29912, 31210, 28597, 27833, 15134,  2504, 25656,\n",
       "         25760,  6536, 27010, 14979, 10295]),\n",
       "  array([  707, 32845, 22207,  4515, 10213, 26969,  1091, 30345, 34141,\n",
       "         33134, 32056, 15638,  2800, 25313, 13946,  2013, 25404,  5801,\n",
       "         16652, 19346, 12583, 15152,   923, 11565, 11401,  5589, 21604,\n",
       "          7195, 11104, 21339,  5953,  7001,   520, 10577, 18840,  5901,\n",
       "         25997, 31471,   997,  8814, 12778,  4934, 32160, 20885, 30265,\n",
       "         10458]),\n",
       "  array([  708, 10485, 23536]),\n",
       "  array([  709, 19388,   368,   367]),\n",
       "  array([  710, 33649, 28746, 31496,  1510, 28451, 24098, 12308,  4936,\n",
       "          3017, 26112, 30212]),\n",
       "  array([  711, 14576,  3158,   159, 23236]),\n",
       "  array([  712, 16905, 16907, 16906, 16909, 16908]),\n",
       "  array([  713,   714,   715, 19061, 21735, 12620, 33543, 23155, 17091,\n",
       "         12103, 20305, 31930,  8301, 28947,  8670,  8671,  8669, 13664,\n",
       "          2639,   219, 11525, 15679, 14166,  4149, 31887, 13729, 16827,\n",
       "         29107,  2117,   169, 16604, 16605, 16606, 21070,   415, 12560,\n",
       "          5671, 31337, 10067, 23832, 25786,  2910,  8155, 20580,  3262,\n",
       "         21964, 13600, 14338,  4673, 10203]),\n",
       "  array([  713,   714,   715, 19061, 21735, 12620, 33543, 23155, 17091,\n",
       "         12103, 20305, 31930,  8301, 28947,  8670,  8671,  8669, 13664,\n",
       "          2639,   219, 11525, 15679, 14166,  4149, 31887, 13729, 16827,\n",
       "         29107,  2117,   169, 16604, 16605, 16606, 21070,   415, 12560,\n",
       "          5671, 31337, 10067, 23832, 25786,  2910,  8155, 20580,  3262,\n",
       "         21964, 13600, 14338,  4673, 10203]),\n",
       "  array([  713,   714,   715, 19061, 21735, 12620, 33543, 23155, 17091,\n",
       "         12103, 20305, 31930,  8301, 28947,  8670,  8671,  8669, 13664,\n",
       "          2639,   219, 11525, 15679, 14166,  4149, 31887, 13729, 16827,\n",
       "         29107,  2117,   169, 16604, 16605, 16606, 21070,   415, 12560,\n",
       "          5671, 31337, 10067, 23832, 25786,  2910,  8155, 20580,  3262,\n",
       "         21964, 13600, 14338,  4673, 10203]),\n",
       "  array([716]),\n",
       "  array([  717, 12553]),\n",
       "  array([  718, 29144, 26607, 18479,  9513, 20753,  7369, 24221, 31742,\n",
       "          5467, 19478, 32217,  9330,  6936, 12427, 32515, 10215,  4498,\n",
       "          6270,  1249,   144, 28272, 27971, 22983, 16804,  1310, 25425,\n",
       "         11782, 12968, 12492, 10637, 25296,  2003, 16775, 12073, 29447,\n",
       "          9439, 24839, 32236, 25639,  1828,  4305, 30529,  3998,  2436,\n",
       "         32538, 19622, 27908,  3679, 30962]),\n",
       "  array([  719,  6640, 17069, 26674,  1765,  1764, 10045, 16629,   872,\n",
       "           871, 27473,  4436, 32242]),\n",
       "  array([  720, 27907,  9422, 28334]),\n",
       "  array([  721, 28307]),\n",
       "  array([722]),\n",
       "  array([  723, 19813,  5472, 11310, 25132,  4467,  4307,  7470, 30202,\n",
       "          7990, 18736,   484, 10241,  6401, 32836, 21000, 20568]),\n",
       "  array([  724, 26823, 33886, 17161, 30193,  3517, 24206,  9034,  5705]),\n",
       "  array([  725,  2738, 33098,  9815, 20303, 17519, 28672, 20845, 15356,\n",
       "          2139, 23966, 21347]),\n",
       "  array([  726,  2157,  7463, 19572, 17234,  6157]),\n",
       "  array([  727, 10494, 23750,  8430, 11226, 29097, 20756, 17579, 17580,\n",
       "         32529, 33719,  9723,  2844]),\n",
       "  array([  728,   729, 13565, 14014, 14015,  3893]),\n",
       "  array([  728,   729, 13565, 14014, 14015,  3893]),\n",
       "  array([  730,  3480, 31358,  3718,  3134, 19171, 19407, 20035,  1622,\n",
       "          2200, 13780, 32684, 30798, 31458, 18747,  3478, 21629, 32609]),\n",
       "  array([  731,   732,  6351,  8035, 25608, 13268, 12306,  3873, 16407,\n",
       "         23548,  4243, 32421, 22522, 30669, 11381, 27586,  9451,  5382,\n",
       "           624, 20459, 20458,  2141,  8635, 17076, 24359,  3086,  7122,\n",
       "         12976, 11487,  8691, 34055,  3592,  2987, 15476, 31865, 15310,\n",
       "           343, 26793, 26842, 26880, 27921, 11945, 23256, 26632,  4439,\n",
       "         25238, 27257, 32390, 32391, 16449]),\n",
       "  array([  731,   732,  6351,  8035, 25608, 13268, 12306,  3873, 16407,\n",
       "         23548,  4243, 32421, 22522, 30669, 11381, 27586,  9451,  5382,\n",
       "           624, 20459, 20458,  2141,  8635, 17076, 24359,  3086,  7122,\n",
       "         12976, 11487,  8691, 34055,  3592,  2987, 15476, 31865, 15310,\n",
       "           343, 26793, 26842, 26880, 27921, 11945, 23256, 26632,  4439,\n",
       "         25238, 27257, 32390, 32391, 16449]),\n",
       "  array([  733,  2131, 31768, 14441, 30157, 15591,  8365, 25617,  7239,\n",
       "         32670, 26338, 27385, 33340, 26449, 21713, 31864,  3961, 22521,\n",
       "          4908, 27632, 18693, 31785, 31970, 27109, 31185, 16457, 19221,\n",
       "         22177, 31837, 25062, 11387, 17586, 25144, 27994,  7002, 23383,\n",
       "         26354, 31134, 21905, 23061,  7012, 32273,  6662, 16971, 12274,\n",
       "         23419, 24683,  1809, 28260, 27436]),\n",
       "  array([ 734, 8542]),\n",
       "  array([  735, 18279, 28911,  1898, 15500, 23331, 10702,  6423, 34099,\n",
       "         32345,  8776, 12046, 29355, 26140,  9074,  4191,  4723, 27518,\n",
       "         33498, 26570, 11335, 19779,  6731, 22433, 30057,  5829, 23239,\n",
       "         23238, 24256,  7209]),\n",
       "  array([  736,  9201, 14770, 26143, 26142, 32502, 11309, 10807, 17611,\n",
       "         33240, 20403, 14369,  8678, 33063, 27831, 14830,  6081, 28066]),\n",
       "  array([  737, 33159,  9696,  9393, 17665, 29910, 17093, 17034, 21452,\n",
       "          6995, 26295, 30335, 25854, 12205, 11510, 31170, 31171, 31169,\n",
       "         16031, 14136, 14135, 31072]),\n",
       "  array([  738, 28380, 18714, 10540, 32278]),\n",
       "  array([  739, 15976, 31422,    31, 20367, 32071, 30337,  1067]),\n",
       "  array([ 740, 9038]),\n",
       "  array([  741, 20689,  6275]),\n",
       "  array([742]),\n",
       "  array([  743,   579,  1979,  1978, 12248, 27389, 27390, 26663,  5919,\n",
       "         24347,  7708,  5807, 20893, 27709, 32375, 22290, 29342, 17760,\n",
       "          8993, 10768,  3917,  3916, 30884, 33407, 33410, 33406, 33409,\n",
       "         33408, 12369, 25860,  9822]),\n",
       "  array([  744, 27318, 16927]),\n",
       "  array([  745, 11488, 21205, 34204, 22924,  9639,  9640, 21930]),\n",
       "  array([746]),\n",
       "  array([  747, 31630,    87,  9158, 11485]),\n",
       "  array([  748, 22354, 25930, 12495, 24424, 20744]),\n",
       "  array([  749,  8323, 25585, 19013, 13633, 27126,  4215,  4216,  4214,\n",
       "         23129,   167, 34027,  5854, 12536, 19810, 22802, 16310, 17885]),\n",
       "  array([750]),\n",
       "  array([  751, 33397]),\n",
       "  array([  752,  7855, 24978, 30742]),\n",
       "  array([  753,  2060, 14458, 33853,  1739,   234,  2478, 15503, 22575,\n",
       "           646,  4294, 28775,  9761, 28311, 30459, 16106,  3141,  9417,\n",
       "         28373, 26055, 26056,  1598,  4062, 14566, 11559, 34090, 26383,\n",
       "         32525, 23348,   782,  2647]),\n",
       "  array([  754,  2545, 26193,  5703,   489]),\n",
       "  array([  755, 22818, 14356,  4511,  8803, 22564, 25316, 10360, 26512,\n",
       "          1215,   572,  2074, 30502, 31735,  3958,  1509, 14941, 23678,\n",
       "          7296, 12157,  6935,   556, 14476, 32236, 27463, 32494, 25407,\n",
       "         24267, 24268, 14306,  5631]),\n",
       "  array([  756,  2597, 31036,  3523, 22118, 10559,  1815,  1814,  5595,\n",
       "         24207, 15699, 28054, 14672, 16613, 14586,   858, 13049, 31048,\n",
       "          1631,  7208, 16718,  2097, 30794, 15002, 24258, 13654, 32256,\n",
       "         26821, 11319,   358, 28178, 17723, 22079, 19246,  2090,  2089,\n",
       "         19086, 15384, 15385, 14730, 13274, 34053, 24742,  7897,  4188,\n",
       "         22480, 12385,   517, 21566,  5905]),\n",
       "  array([  757,  4753, 25456, 19974, 19973,  9498, 31134, 11414, 21478,\n",
       "         28108,  6963,  6662, 26742,  1453, 10535,  7187, 31785, 10737,\n",
       "         29215, 26557,  5716,   460, 24858, 20779, 19919, 14017, 26354,\n",
       "         26819, 26820, 27537, 19630,  2233, 10483, 10482,  6955,  6954,\n",
       "          6952,  6953, 25062,  8365, 30391, 27385, 32727, 29160,  4274,\n",
       "          7677,  7678,  1712, 27414, 16457]),\n",
       "  array([  758,  1090, 24028, 22679, 11771, 18713, 33048,  1092, 32685,\n",
       "         28936,  4306, 19236, 23109, 19451, 29517]),\n",
       "  array([  759,  2171, 16694, 25377, 13216]),\n",
       "  array([ 760, 7679, 4668]),\n",
       "  array([  761, 24560,  5990]),\n",
       "  array([  762,  3704, 30255, 21953, 25458,  8289, 28502,  9702, 29958,\n",
       "         27210]),\n",
       "  array([  763, 24561, 10806, 26130, 14106, 30434, 14878, 15825, 18273,\n",
       "         10429,  5796, 23511,  7902,  1068,  4913]),\n",
       "  array([  764,  7888, 28528,  2859, 26525, 26524, 26526, 26527, 26528,\n",
       "         26529, 26523, 12192, 28009, 15223, 33692,  7011,  2310,  4098,\n",
       "         15236, 24933,  9730, 21027, 24059,  3670]),\n",
       "  array([  765,  1140, 10641,   559, 27154, 32704, 18810, 18801, 20480,\n",
       "         19305,   274,  6643,  1530,  9122, 19086, 19928, 14854,  7208,\n",
       "          4525,   837,  5595, 30670, 11913, 26211]),\n",
       "  array([  766, 11361, 22749, 28685, 28684, 26147,  3764, 23810, 30495,\n",
       "         30496, 14020,  6906,  6907, 28265, 28873, 29908,  6298, 30036]),\n",
       "  array([ 767, 1459]),\n",
       "  array([  768,  3609, 32600, 26976, 10512, 32672, 28967,   530, 23647,\n",
       "          5482, 21786, 15841, 22957, 14934, 32610, 23303, 17023, 23403,\n",
       "         15895, 27917, 24001, 18476, 17507, 11131, 22899]),\n",
       "  array([  769, 26023,  5986, 28176, 12501, 12502,  2985, 25090, 25089,\n",
       "         13512, 13514, 13510, 13511, 13513, 13676, 24056, 20072, 32795,\n",
       "         32796, 32792, 32793, 32794,  8212, 21575, 23557, 23011, 27206,\n",
       "          8995, 29763,  6380,  3849,  4363,  2168, 12240, 17343]),\n",
       "  array([770]),\n",
       "  array([  771, 16429, 10335,  2654,  5697, 16020, 21846,  9495,  8604,\n",
       "         33715, 25018, 25342,  7479, 18658, 15391, 25168, 27466, 24960,\n",
       "         15673, 19252, 23220, 10208,  8886, 22944,  4289, 21926,  7924,\n",
       "          5384, 32396, 17927, 24657, 26431,  1702, 24337, 30174,  1891,\n",
       "          5086, 34012,  6391,  8772, 33999, 17190, 10523, 17582, 31722,\n",
       "          2988, 23688, 11575, 30018, 15906]),\n",
       "  array([  772,  1856, 32203, 33403, 17765, 11392,  8202, 21209, 20601,\n",
       "         20600, 20599,  8171,  8170, 17356, 19913, 15369, 14442, 15048,\n",
       "          2108,   507,  7874, 28312, 17521,  9651, 33273, 28327, 27235,\n",
       "         10025, 19766,  8867, 20748, 26407, 12445, 16150]),\n",
       "  array([773]),\n",
       "  array([  774, 22998, 33625, 33018, 13149,  9153, 25369,  4317, 33824,\n",
       "         21121, 19456,  3261, 14723,  1379, 29881, 17575,  8165, 16499,\n",
       "         24494, 17654, 12545,  1499, 28211, 32129, 28498, 10983,  1464,\n",
       "         22999, 31364, 24579, 24808,  5967,  5968, 30776,  1337,  3189,\n",
       "         10929, 24958, 22148, 15164, 20266, 11109, 18653,  9161, 14092,\n",
       "         28616]),\n",
       "  array([  775, 14089, 16475, 28603,  3355, 17910, 10829, 25670, 16252,\n",
       "         16242, 32948,  7232,  7233,  7230,  7231,  9638, 13852]),\n",
       "  array([  776, 18983,  5502,  2584, 19168,   312, 10899,    55, 30052,\n",
       "         19666,  6154]),\n",
       "  array([  777, 11570, 11568, 11569]),\n",
       "  array([  778, 33822, 18812,  4641, 15276, 14047]),\n",
       "  array([  779, 19746, 27762, 27747, 12496, 30850,  2659, 29980, 15696,\n",
       "          5949, 23046,  7186,  8835, 27246, 19567, 25681, 30457,  3071,\n",
       "         11908,  5451, 32799,  2489, 26070, 33940, 21253,  6388, 19007,\n",
       "         31574, 32367, 14119,  1075, 16912,  1565, 20413, 29674, 24120,\n",
       "          7203,  4691,  9766, 13401, 23457, 14118, 16681, 12904,  9110,\n",
       "         19610,   671, 31838,  3346,  3345]),\n",
       "  array([ 780,  688, 3758]),\n",
       "  array([781]),\n",
       "  array([  782,  2478, 12256, 28311,  1739,  9417, 30984,  9761, 23348,\n",
       "         33853, 11559,  1598, 14566, 10049, 16106, 32525,   753]),\n",
       "  array([  783,  8270, 12801, 22917,  5610, 27690, 29959,  1135, 15514,\n",
       "         11976, 16395, 23143,  5487, 16537, 30703, 25744, 24569, 17531,\n",
       "         19134,  9325,   353, 18384, 32115,  3868,  3352, 14826, 32007,\n",
       "          9893,  8782, 33933, 14894, 19438, 11501,  4745, 10369]),\n",
       "  array([  784, 21423, 12317, 17793, 10497, 10496, 12995, 29492, 16255,\n",
       "          1985,  1984, 18633, 31933, 12243,  1630,  5837, 31992, 29956,\n",
       "         12926, 14101, 17513,  2576,   594, 11377,  8969, 22738,  3397,\n",
       "          1716, 21333, 11959,  7763, 11175,  6060, 28897, 10781,  8931,\n",
       "          8932, 19682,  7881, 16086, 17903, 26797,  6285, 30756]),\n",
       "  array([  785,   786, 13592,  8626]),\n",
       "  array([  785,   786, 13592,  8626]),\n",
       "  array([ 787, 8178, 2380]),\n",
       "  array([788]),\n",
       "  array([  789, 23935,  8531, 23512,   501, 33836]),\n",
       "  array([  790, 22847, 15029, 30020, 22221, 31718, 15970, 19719]),\n",
       "  array([  791, 10181, 20383, 29593, 23521]),\n",
       "  array([  792,  7761, 27322]),\n",
       "  array([  793, 25172,  8787, 25638, 14507, 31723, 12875]),\n",
       "  array([  794, 23826, 25191,  4518, 14578,  5247,  3424, 11084, 10477,\n",
       "         33139, 26257, 33292, 20375, 20374, 32129,    86,  5527, 22148,\n",
       "          1337, 33018,  9153,  8034,  1499, 14504, 14723, 16499,  5123,\n",
       "         22951, 29881, 18215, 20965, 25369,  5111, 25250, 12704,  9245,\n",
       "          4711, 32608,  4486, 24958, 24494,  3261, 24579,  6745,  9809,\n",
       "         13464, 13149, 12517,  1111,  7129]),\n",
       "  array([  795, 20714, 12883,  6358, 32180, 13454, 17522, 17568]),\n",
       "  array([  796, 19481, 20779, 19931,  3488,  7678,  7677, 12804,   465,\n",
       "         23671, 12943,  9498, 11414,  5069, 21441,  3591, 13164, 14820,\n",
       "         15371, 13508, 16165, 15757, 32763, 17311, 14447, 32716, 27323,\n",
       "         26154, 19973, 19974, 28655,  4935, 20977,  1187,  7560, 26742,\n",
       "           757,  4753, 21478, 25456, 28108, 27414, 33856, 19869, 27385,\n",
       "         32639, 10227, 19321,  3538, 11104]),\n",
       "  array([  797, 24644]),\n",
       "  array([  798, 11004, 18438, 16000,   911,  7490,  6454, 33197]),\n",
       "  array([  799,   800,  9312, 20783,   135, 19376,  2035, 22417, 34073,\n",
       "         22928, 15532,  6514, 13962, 34016, 23956,  3910, 14304, 25462,\n",
       "          7344,  5842, 30870,  2420,  2388, 27375, 13692, 13693, 17860,\n",
       "         11116,  4967, 13116, 11518, 21088, 32476,  3970,  9999, 20144,\n",
       "         31098,  9005, 21861, 31123, 23998]),\n",
       "  array([  799,   800,  9312, 20783,   135, 19376,  2035, 22417, 34073,\n",
       "         22928, 15532,  6514, 13962, 34016, 23956,  3910, 14304, 25462,\n",
       "          7344,  5842, 30870,  2420,  2388, 27375, 13692, 13693, 17860,\n",
       "         11116,  4967, 13116, 11518, 21088, 32476,  3970,  9999, 20144,\n",
       "         31098,  9005, 21861, 31123, 23998]),\n",
       "  array([ 801, 7150]),\n",
       "  array([  802, 29668, 29667]),\n",
       "  array([  803,  6541,  1974, 14264, 29954,  3700,  3413, 11312, 30322,\n",
       "         13629, 13628, 23159, 31319, 27013,  5161, 16437, 33638, 30103,\n",
       "         16710, 11165,  4688]),\n",
       "  array([  804, 12625, 14394, 32810, 33832]),\n",
       "  array([  805,  9212, 13297, 15272, 22028,  2065,  7175, 28290,  1013,\n",
       "           171, 16013, 32249,  1382, 34044,  5061,  1910, 23311, 28643,\n",
       "         27803, 33511, 10600, 27332, 14827,  3575, 13663, 17915,  2638,\n",
       "         22276, 27539, 30261,  1269, 10938, 27282, 25151, 11393, 21820,\n",
       "         17338, 11651, 25852, 31835, 28895, 14779, 14778, 20177, 30136,\n",
       "         15541, 28350,  2863, 19095, 24456]),\n",
       "  array([  806, 31909]),\n",
       "  array([  807,   868, 11215,  7012,  6068,  3928, 10458,  8416, 19481,\n",
       "         13426, 28325, 10439,  9811, 11104,  7677,  7678, 23233, 19811,\n",
       "          3591, 24390, 19221,    73, 12943, 32273, 17311,  7239,  2541,\n",
       "         22521, 15757, 21470, 33379, 21604, 15081, 31970, 15903, 29756]),\n",
       "  array([ 808, 3726]),\n",
       "  array([  809, 22765, 13563, 31177, 31176, 27023,  1363,  2685,  2684,\n",
       "          2683,  4119,  5630,  1673,    88, 12980, 29695,   463, 30071,\n",
       "          6637, 12857, 12693, 25662,  7739, 12586, 32229]),\n",
       "  array([  810, 15959, 23363, 20087,  5811]),\n",
       "  array([  811, 22580,   510, 28755, 28756]),\n",
       "  array([  812, 33654,  5743]),\n",
       "  array([  813, 29536,  6534, 26723]),\n",
       "  array([  814, 25827]),\n",
       "  array([  815, 24129, 25642, 21974, 26659, 31794,  2240, 11476, 15570,\n",
       "         23687, 20949, 10416, 11364, 27553, 27798, 30652, 27283, 31988,\n",
       "         29504,  4373, 25354, 31391, 32827, 18831, 16023, 32510, 31457,\n",
       "         27115, 20323, 13340, 11236, 24822, 15171, 32416, 20012,  2837,\n",
       "         27955]),\n",
       "  array([  816,  8298,  8407, 26753,  8393]),\n",
       "  array([  817, 16972,  7431]),\n",
       "  array([  818, 20931,  1749,  1748, 12011, 21097, 33377, 11882]),\n",
       "  array([  819, 23051,   364,  2404, 27108, 29191, 30065, 21629, 32726,\n",
       "         32481, 20922,  6881, 10777,  8413, 17775, 16424, 13034, 13626,\n",
       "         19381, 14869, 14428, 18747, 19012, 23541, 24820,   565, 11247,\n",
       "         15788, 30106, 23963,  8541, 12324,   881,  9518, 20762, 31458,\n",
       "          1622, 22109, 14654, 23655, 23767, 23458, 26227, 31120, 32684,\n",
       "         22782, 22955]),\n",
       "  array([  820, 28971]),\n",
       "  array([  821,   822, 17179]),\n",
       "  array([  821,   822, 17179]),\n",
       "  array([  823, 17249, 11713, 19493, 27007, 19915]),\n",
       "  array([  824, 24438,   915, 13710,  4388]),\n",
       "  array([  825, 21117, 16456, 23150, 10923, 10922, 11895, 16496, 13045,\n",
       "          4144,  7580, 16435,   548,  3259, 15208, 18246, 18245, 24957,\n",
       "           191,  2183,  2184, 16649, 24922,  3126, 23176,  9076, 21800,\n",
       "         24398,  5997,   476,  8997, 17694, 28395,  8823,  4279,  6605,\n",
       "          8018, 28545, 12836,  3391, 34015,  7393, 30386, 30516, 17255,\n",
       "          1038, 13027, 19943, 23902, 32101]),\n",
       "  array([  826, 11611, 31130,   164, 18178,  3010, 14387, 16521,  4279,\n",
       "         19021, 23161, 28925, 10379,  8692, 30980, 20742, 16401]),\n",
       "  array([  827, 31424, 13516, 30863,  3333, 26219, 24550, 32500,  3421]),\n",
       "  array([  828, 31689]),\n",
       "  array([  829, 17178, 19399, 14636, 27417,  8791, 13061,  2489,  1097,\n",
       "         27038, 34114,  9110, 14119,  9886, 11332, 23046, 19184, 19588,\n",
       "         25129, 25643, 13343, 24072, 18135,   843,   844,  2659, 25261,\n",
       "         30893, 30894,  8687, 32799, 18373,  4691, 16912,  1565, 27574,\n",
       "         22934, 14145,  3402, 11456,  1075, 16188,  7534, 16077, 22200,\n",
       "          3023,  3024,  3025, 12626, 15779]),\n",
       "  array([830]),\n",
       "  array([  831, 25200,  5825,  7940,  8861, 31477, 29131, 22649, 25680,\n",
       "         20218, 18265, 32276, 24943, 17015, 30005, 26711, 10130, 33771,\n",
       "         26410, 32162,   627,  6720, 23030, 31940, 12394, 34117, 32938,\n",
       "          9221,  2055, 30583, 15716, 14874, 31736, 21634, 18779, 33217,\n",
       "         18899, 25841, 30551, 21229, 13623,  8825,  4719, 29787]),\n",
       "  array([  832, 16301, 10704, 31993, 31659, 24845,  3675, 27189]),\n",
       "  array([  833, 19821,  3136,  5403, 16597,  2550, 26852]),\n",
       "  array([  834,  3007, 20438, 23578, 31508,  2490,  9641, 23132, 19969,\n",
       "         16490, 14225, 29607,  5088, 17022,  9568, 11439, 25539, 17118,\n",
       "         26315, 21796, 19443,  1951, 14333,  7010, 29068,  5271, 29925,\n",
       "         22342,  2682, 32482, 30211, 30916, 14065, 31478,   113, 16600,\n",
       "          7125,  1006, 33021,  2456, 25792, 28736, 31653, 29968, 15278,\n",
       "         18134,  8347,  8346, 24973,  1617]),\n",
       "  array([  835, 18667, 10183, 10184,  9962,  3400, 32749, 26291, 11972,\n",
       "         27441, 25722, 31676, 11793, 30751]),\n",
       "  array([  836, 32642, 33996, 32237, 32238, 23171, 29952,  9855, 10939,\n",
       "         14574, 23919,   306, 29775, 11813,  9565,  9563,  9564, 24215,\n",
       "         32549, 28302, 19667, 19345,  3088,  7757, 11521,  3310,  1901,\n",
       "          5515, 20851, 16934, 16933, 16932, 16936, 16935, 20904, 15360,\n",
       "         31260, 32164, 12061,  4290, 29130, 14097,  6806, 29392, 21331,\n",
       "         19190]),\n",
       "  array([  837,  4525,   517,  9782,  5616,  5617,  7511, 11319, 17723,\n",
       "         15384, 15385, 23864,  2090,  2089, 13049, 22079, 29313,  1530,\n",
       "         31168, 13289, 14437, 14480, 13631, 15699,  1815,  1814, 23075,\n",
       "         10559,  5428, 23496, 29224, 15374,  6566, 31036, 30659, 34053,\n",
       "         13654, 16718, 19246,   223, 28054, 31254,  6915, 24258,  7660,\n",
       "          8490,  7208,  6653, 30855, 32256]),\n",
       "  array([  838,  3933, 33797,  9955, 26420, 21030, 17686, 10855, 22252,\n",
       "         28232,  8591, 24259,  5964,  9780, 30363, 30364,  8526, 25932,\n",
       "         26617, 27062, 28022,  6964, 19155, 33861]),\n",
       "  array([  839, 31807, 29905, 34115, 11954, 28999,  4611, 31540, 31539,\n",
       "          9465, 18764,  2812]),\n",
       "  array([  840, 29134,  1062,  3153,  9648]),\n",
       "  array([  841, 22565,  8740, 11207, 12252,  9323, 28898,  3182, 18509,\n",
       "         20581, 17629, 30275, 22827, 30947,  9798, 33475, 34232, 28304,\n",
       "           197,  9733, 28817,  5465, 24236,  8313, 28497, 14790, 21630,\n",
       "           323, 27897,  3049, 30462, 32137, 10218,   543, 23697, 16911,\n",
       "          4785,  3804]),\n",
       "  array([  842, 16323]),\n",
       "  array([  843,   844,  8986, 32426, 32425, 21436, 14145, 15779, 12283,\n",
       "         13951,  9110, 25147, 16077, 31854, 34114,  1075, 16136,  2489,\n",
       "         14636, 14119,  7534,  8791, 13061, 17869,  4950, 30893, 30894,\n",
       "         27038, 23046,  8334,  1711, 22200, 29768, 33876,  4691, 11908,\n",
       "         23634, 16912, 11456, 19184, 20274,  2659,  9886, 12276,   829,\n",
       "          6388, 19399, 32799, 22934, 27578]),\n",
       "  array([  843,   844,  8986, 32426, 32425, 21436, 14145, 15779, 12283,\n",
       "         13951,  9110, 25147, 16077, 31854, 34114,  1075, 16136,  2489,\n",
       "         14636, 14119,  7534,  8791, 13061, 17869,  4950, 30893, 30894,\n",
       "         27038, 23046,  8334,  1711, 22200, 29768, 33876,  4691, 11908,\n",
       "         23634, 16912, 11456, 19184, 20274,  2659,  9886, 12276,   829,\n",
       "          6388, 19399, 32799, 22934, 27578]),\n",
       "  array([  845, 21833]),\n",
       "  array([846]),\n",
       "  array([  847,   850,   849,   848, 18358,  9292, 33769, 12584, 16280,\n",
       "         12795, 27785, 30145, 16773, 30043, 26189,  7734, 20339, 22399,\n",
       "         23643,    82, 31656, 28429, 24126, 23614, 31092,  2781, 19540,\n",
       "          4707, 27673, 30531, 23142, 17800,  2305, 34060, 22322, 18290,\n",
       "         24363, 28328, 30817, 30277, 13353, 33779, 19945, 15815,  6607]),\n",
       "  array([  847,   850,   849,   848, 18358,  9292, 33769, 12584, 16280,\n",
       "         12795, 27785, 30145, 16773, 30043, 26189,  7734, 20339, 22399,\n",
       "         23643,    82, 31656, 28429, 24126, 23614, 31092,  2781, 19540,\n",
       "          4707, 27673, 30531, 23142, 17800,  2305, 34060, 22322, 18290,\n",
       "         24363, 28328, 30817, 30277, 13353, 33779, 19945, 15815,  6607]),\n",
       "  array([  847,   850,   849,   848, 18358,  9292, 33769, 12584, 16280,\n",
       "         12795, 27785, 30145, 16773, 30043, 26189,  7734, 20339, 22399,\n",
       "         23643,    82, 31656, 28429, 24126, 23614, 31092,  2781, 19540,\n",
       "          4707, 27673, 30531, 23142, 17800,  2305, 34060, 22322, 18290,\n",
       "         24363, 28328, 30817, 30277, 13353, 33779, 19945, 15815,  6607]),\n",
       "  array([  847,   850,   849,   848, 18358,  9292, 33769, 12584, 16280,\n",
       "         12795, 27785, 30145, 16773, 30043, 26189,  7734, 20339, 22399,\n",
       "         23643,    82, 31656, 28429, 24126, 23614, 31092,  2781, 19540,\n",
       "          4707, 27673, 30531, 23142, 17800,  2305, 34060, 22322, 18290,\n",
       "         24363, 28328, 30817, 30277, 13353, 33779, 19945, 15815,  6607]),\n",
       "  array([  851, 24912, 30571, 11139, 16531, 12456,  3062, 12089, 23891,\n",
       "         21197, 18855,  2605]),\n",
       "  array([  852,   853, 31790, 34127, 13088, 10811,  2027, 11130, 10929,\n",
       "         32701,  5968,  5967]),\n",
       "  array([  852,   853, 31790, 34127, 13088, 10811,  2027, 11130, 10929,\n",
       "         32701,  5968,  5967]),\n",
       "  array([  854, 13673,  7446,  7445]),\n",
       "  array([  855, 17060, 17059,  7328, 14911, 20654,  3243, 33961, 32640,\n",
       "         31083, 32878, 32879, 18298,  2374, 18330, 25047, 16168, 31350,\n",
       "          7249, 31904, 20233, 30499,  4826, 16367, 28727,  9517, 22992]),\n",
       "  array([  856, 32973]),\n",
       "  array([  857, 33082, 22202, 17047, 20918]),\n",
       "  array([  858,  7577,  7279,  7511,  1631, 28054, 12385,  8768, 10559,\n",
       "          5985,  5984, 15699, 15384, 15385,  1814,  1815, 17723,  2089,\n",
       "          2090, 14730,  5905, 16718, 24751,   358, 13049, 27570, 24258,\n",
       "         34053,  8498,  4788, 14437, 13289, 31484,  7589, 21566, 16674,\n",
       "          8490, 28866, 24742, 22480,  9742, 11081, 11079, 11080, 23979,\n",
       "         13274, 22747, 22748, 20505, 20504]),\n",
       "  array([  859, 17943,  7431,  3803, 12586, 12857, 30071,  5850, 32490,\n",
       "          6434, 12452, 12851, 26959,  9244]),\n",
       "  array([  860, 32493,  1754,  8605, 19036,   628, 20902, 18531, 14925,\n",
       "         34142, 15727, 31981, 13867, 17336,  6924,  9758, 11885, 20591,\n",
       "         20592, 20590, 26301, 23320, 10981, 10982, 21017, 25435, 12963,\n",
       "          4208, 21526, 16018, 33939, 13550, 26133, 16676,  6252,  6207,\n",
       "         32452, 32453, 15387,  3222, 22702, 27407, 16698, 16689, 12864,\n",
       "         18172,  9456,  9695, 15309, 22578]),\n",
       "  array([  861, 21513, 29587,  3074,  7120,    46, 15994,  8079, 10917,\n",
       "         10918, 10916,  1162,  8624, 28122,  4053,  8909, 25326, 15988,\n",
       "          4079,  8610, 31264,  3835]),\n",
       "  array([ 862, 9280]),\n",
       "  array([ 863, 1900]),\n",
       "  array([  864, 32615,  1458]),\n",
       "  array([  865,  2897,   927, 16173, 32542, 10788, 19164, 28880, 14386,\n",
       "          5732, 15107, 25603, 15508, 29710, 27158, 16474,  2379,  2323,\n",
       "         11689, 31977,  9976, 13346, 16239,  1441, 13517, 19708,  5569,\n",
       "         10140, 15683, 12771, 33025, 34147,  8153,  7681, 24538,  7412,\n",
       "          7882, 18544, 25440, 11468, 26303,  2497,  9617, 28857,  8022,\n",
       "          8733, 26749, 27924, 10765,  6230]),\n",
       "  array([866]),\n",
       "  array([  867,  1506,  1505,  1507,  1503,  1504, 28632, 28631, 28197,\n",
       "         20870,   429, 14742,  7680, 21064, 19894]),\n",
       "  array([  868,  7239, 22521, 25617, 21441, 15903, 32273, 14441,   733,\n",
       "         19084,  7012, 12943, 24994,  4299, 33841, 18693, 23713, 15660,\n",
       "          4858,  5592,  2131, 27385,  4220, 28655,  3053, 26332, 11387,\n",
       "         31837, 30157, 26338, 15591, 20576, 10458, 31970,  7002, 15211,\n",
       "         15210, 31277,  1809, 25062, 32670,  3961, 31768, 21427, 28325,\n",
       "         16971, 28983, 23419, 27077, 20008]),\n",
       "  array([  869, 16552]),\n",
       "  array([  870, 20001, 21284, 24291,  4608, 25406,  7714, 31541, 14354,\n",
       "         31593,  6747, 28226, 26411, 32663]),\n",
       "  array([  871,   872, 10045, 16629, 17069,  1764,  1765, 26674, 27473,\n",
       "           719,  6640,  4436, 32242, 12001]),\n",
       "  array([  871,   872, 10045, 16629, 17069,  1764,  1765, 26674, 27473,\n",
       "           719,  6640,  4436, 32242, 12001]),\n",
       "  array([  873, 18009, 18887, 16818, 14745, 26144, 17669, 30437]),\n",
       "  array([  874, 23949, 23948]),\n",
       "  array([  875, 26020, 28926, 14900,  1457,  4245,  8804]),\n",
       "  array([  876, 22254, 19149]),\n",
       "  array([  877, 15974,  5214, 20201]),\n",
       "  array([  878,  3860,  3861, 25220, 30751,  7552]),\n",
       "  array([  879,  6047, 20812, 24272, 14072, 14071, 19308, 19798, 11529,\n",
       "           220,  1165, 20300, 10411, 30882, 23269, 33391,  3227,  3226,\n",
       "          9662, 14624, 14028,  1783,  1784, 32296,  1430, 17548, 21600,\n",
       "         24748]),\n",
       "  array([  880,  4389, 10015, 15245,  2115, 26487,  3667,   219, 22360,\n",
       "         30937, 24252,  4149, 10011, 32324, 24570, 32093,  2690,  2691,\n",
       "         29030, 31633,  7018,  5411, 17383, 19061,   714,   715,   713,\n",
       "         28704,  6992,  3262, 13254, 20066, 31337, 31079, 10889, 24485,\n",
       "          7069, 21494, 30488, 25738,  2849, 28947, 19810, 16879, 12536,\n",
       "         22802, 31604,  3806, 22062, 16743]),\n",
       "  array([  881, 23458, 22782,  9518,  8541, 30106, 15788, 26227,   565,\n",
       "         23963, 12324, 31458,  1622, 17887, 19012, 14184,  9452, 23767,\n",
       "         14188, 13702, 10777,  6881,  7719,  6553, 23655, 25563, 26494,\n",
       "         14428, 12970, 20922, 32481, 16692, 25879,  6842, 19870, 32470,\n",
       "           819, 16162,   411,  8589, 21629, 27108, 23051,   364,  2404,\n",
       "          9716,  1566, 10050]),\n",
       "  array([  882, 13867, 33939, 15727, 18531,   860, 30427, 25824, 17336,\n",
       "          9456, 13550, 32493, 29539,  4208, 26301,  9758,  8605, 27492,\n",
       "         16018, 22981, 20592, 20590, 20591, 34142, 23900, 21017,  6924,\n",
       "           628, 14747, 19036, 14925, 31778, 26795, 21807,  3222, 25435,\n",
       "         26312, 10982, 10981, 21526, 22578, 10537, 20902,  1754, 16698,\n",
       "         16189, 22702, 11210, 19310, 26133]),\n",
       "  array([  883,  6457, 28103,  6629, 17544, 13029]),\n",
       "  array([  884, 31720, 25415, 31085, 27451, 23914, 19433, 14443,  4146,\n",
       "         24568, 27416]),\n",
       "  array([  885, 25036,  2422, 19347, 24785, 24086,  2335,  2337,  2336,\n",
       "          6021,  8026, 24151, 25587, 25588,  5497, 28235, 30569, 29203,\n",
       "         13135,  4187, 26679, 16757,  7114,  6288, 18173,  7138, 31485,\n",
       "         26915, 14105, 12132, 33435, 28796, 30619,  8508, 17346, 28156,\n",
       "         33205, 12902, 19157, 26596, 11120, 16800, 26558, 24074, 16177,\n",
       "         13770,  5227, 30088,  6496, 30989]),\n",
       "  array([  886,  3651,  3947,  3945,  3946, 13463,  3672, 24146, 29021,\n",
       "         27784, 31983]),\n",
       "  array([  887, 12915,  2629, 14284,  7062, 24722, 24723,  3167,  3096,\n",
       "          3097, 26323, 24882,  9844,  6236,  1563,  1562, 29256, 15877,\n",
       "         10839, 19623, 11228, 18870, 18871,  7828, 25918, 25935, 24154,\n",
       "          8738, 31392, 29390, 28164, 31519, 26782, 24433, 11847,  5765,\n",
       "         29254, 31748,  5311, 32041, 10359, 17144, 19530, 31046, 16733,\n",
       "         24987, 22327, 28183, 23381,  5767]),\n",
       "  array([  888, 19577, 11933,  3624, 29102,  5260,  1854, 28617, 11708,\n",
       "         18588, 23972, 20451,  8512, 17892, 16357, 30253,  4374, 21101,\n",
       "         27606, 14921, 30545, 29970,  5029, 11584,  5869, 30115, 23924,\n",
       "          6155, 31567, 16782, 13329, 30937, 23155, 25359,  6817,  6280,\n",
       "         10011,  9279, 33239,  6992, 27012,   486, 31633, 29341,   169,\n",
       "          2849,  1034, 10787, 17149, 19528]),\n",
       "  array([  889,   890,   891,  5621, 13209, 13207, 13208, 11271, 25739,\n",
       "         25740, 15623, 15619, 15624, 15625, 15620, 15621, 15622, 28858,\n",
       "         29725, 16506, 16505, 22060, 22059, 22061, 22143, 32761, 32757,\n",
       "         32760, 32758, 32759,  4623,  4625,  4624, 22633, 30122, 30124,\n",
       "         30121, 30123, 25306, 23263, 27662,  6885, 18087, 18086, 33417,\n",
       "         10428, 12134, 12133, 15434, 18470]),\n",
       "  array([  889,   890,   891,  5621, 13209, 13207, 13208, 11271, 25739,\n",
       "         25740, 15623, 15619, 15624, 15625, 15620, 15621, 15622, 28858,\n",
       "         29725, 16506, 16505, 22060, 22059, 22061, 22143, 32761, 32757,\n",
       "         32760, 32758, 32759,  4623,  4625,  4624, 22633, 30122, 30124,\n",
       "         30121, 30123, 25306, 23263, 27662,  6885, 18087, 18086, 33417,\n",
       "         10428, 12134, 12133, 15434, 18470]),\n",
       "  array([  889,   890,   891,  5621, 13209, 13207, 13208, 11271, 25739,\n",
       "         25740, 15623, 15619, 15624, 15625, 15620, 15621, 15622, 28858,\n",
       "         29725, 16506, 16505, 22060, 22059, 22061, 22143, 32761, 32757,\n",
       "         32760, 32758, 32759,  4623,  4625,  4624, 22633, 30122, 30124,\n",
       "         30121, 30123, 25306, 23263, 27662,  6885, 18087, 18086, 33417,\n",
       "         10428, 12134, 12133, 15434, 18470]),\n",
       "  array([  892, 28093]),\n",
       "  array([893]),\n",
       "  array([  894,  8384, 18394, 12946, 16347, 15561,  6526, 10833, 22931,\n",
       "         31183, 32122,  5186, 13026, 11748,  9852, 30780, 18923, 14608,\n",
       "         32142, 10634, 23790, 15693, 25295, 29661, 17366, 27374,  3408,\n",
       "          8655, 25818, 11790,  3897, 24371, 30629, 16672, 16169,  4017,\n",
       "         15832, 15833, 26576, 34124, 32488, 12093, 12094, 23760,  4695,\n",
       "         28073, 16349,  3175, 12286,  8683]),\n",
       "  array([895]),\n",
       "  array([  896, 20097, 31653, 24216, 14065, 26315, 11251, 20881,  2682,\n",
       "         28021, 29607,  2628,  5369, 25137, 14507,  9641,  2556, 23059,\n",
       "         15813, 32482, 25539, 24033, 28303, 30211,  4986, 13595, 13596,\n",
       "          1617,   595,  9895, 29083, 11216, 28736,  4876, 34007, 24775,\n",
       "         16017, 29063, 26677,  9899, 14598, 33598, 25180, 27370, 25373,\n",
       "         18766,  5120,  5119, 14333, 33496]),\n",
       "  array([  897, 12541, 12540,   610, 26170, 20199, 25387, 15192, 23522,\n",
       "         11132, 18715, 27646,  2649, 29468, 21608, 20878, 12257, 19531,\n",
       "         17361, 18481,   475, 25181, 27925, 33049, 10796, 31211,  2298,\n",
       "         27906, 19695,  5269, 21412, 31814, 16453,  2410, 29999, 14647,\n",
       "         24505, 24511, 11691, 11118, 27420, 14926, 33242, 18081, 17010,\n",
       "          7072, 23077,  5914, 17033, 19180]),\n",
       "  array([  898, 30010,  8128]),\n",
       "  array([  899, 33716,  6111, 29590,  5974,  3418, 18514, 30859, 28763,\n",
       "         13830,  8306, 21752, 16471,  1501, 13272, 22366, 10633,  3554,\n",
       "          9220, 31263, 24240,  8125, 28499, 20348, 20349, 18179, 24508,\n",
       "         33486, 21271, 33818, 32383, 21623, 13876]),\n",
       "  array([  900, 19740, 11163,  6261,     3,  9821, 18753,  2522, 13324,\n",
       "         13236,  5341, 32290, 25240, 26503]),\n",
       "  array([  901,  7518, 24637, 24636,  1418, 26248]),\n",
       "  array([  902, 25590]),\n",
       "  array([  904,   903, 28112,  6951, 31009]),\n",
       "  array([  904,   903, 28112,  6951, 31009]),\n",
       "  array([  905,  2905, 18853, 18852, 29742, 28710,  4777,  7805,  2405,\n",
       "          7098, 31954,  6611, 19660,  8675,  9812, 30625, 33709,  6513,\n",
       "         26977, 20648, 18435, 12214, 25451,  1638, 10070, 10069, 12183,\n",
       "          9677, 17876,  5493, 32968, 27815, 14177, 12934, 12746, 17423,\n",
       "          7556,  7555, 25625,  6338,  6339, 15239,  2396,  5543, 14560,\n",
       "         33727,  6082,  7508,  1533, 15002]),\n",
       "  array([  906,  4159,   201,   925, 18571, 20910,  5556,    72, 21727,\n",
       "         13303, 23598, 23824,  5476, 21248, 16886, 16079, 16139, 18280,\n",
       "          6323, 26141, 29883,  3812, 11582,   372, 25870, 27221, 12224,\n",
       "         20118, 22470, 18806, 26904, 33530, 19523,  7999, 31307,  5794,\n",
       "         28336, 19605, 12396, 18958, 10594,  5305,  7908, 17798, 23441,\n",
       "         19461, 26738, 25869]),\n",
       "  array([  907, 32862,  5753, 16699, 19700,  7483, 11577, 14808,  2554,\n",
       "         23189, 31679,  1659,  1656,  1652,  1665,  1664,  1663,  1658,\n",
       "          1657,  1662,  1655,  1654,  1653,  1660,  1651,  1661, 20181,\n",
       "         20182, 20180, 28280, 32338,  9029, 17554,  1639,  5641, 25589,\n",
       "          9056,  9057,  9055, 11747, 28819,   909, 14571, 14570, 14572,\n",
       "         14573, 15891, 27890, 13226, 13227]),\n",
       "  array([  908, 30835, 17553,  7937,  8106, 31361]),\n",
       "  array([  909,   907,  5753, 32862, 16699, 17634, 19700,   639,  7483,\n",
       "          2471,  6277, 23189, 14808, 11577,  2554,  9055,  9057,  9056,\n",
       "          9029, 32338, 17554, 11100, 15891, 31679, 14570, 14573, 14571,\n",
       "         14572, 27890, 13227, 13226, 21830,  1639, 11866, 29109, 32902,\n",
       "          4340, 28280,  1652,  1651,  1660,  1656,  1657,  1661,  1663,\n",
       "          1654,  1653,  1665,  1664,  1659]),\n",
       "  array([  910, 14160, 19818, 16603,  6946, 20442,  8482,  8176, 27301,\n",
       "         21004, 11057,  6459, 27422,  6878,  2000,  4410, 20040,  7482,\n",
       "          6302,   934, 21169, 31003, 31002,  8497, 14601,  5762, 25627,\n",
       "         12098,  8220,  3520, 14532,   428, 30420, 32744, 18045,  3794,\n",
       "         15271, 13527, 25233, 12229,  4394, 20932, 32817,  9636, 30586,\n",
       "         14884, 32780, 33095, 27378,  2700]),\n",
       "  array([  911, 11004,   798, 18438, 16000, 22029]),\n",
       "  array([  912, 33451]),\n",
       "  array([  913, 30072]),\n",
       "  array([  914,  2930, 19648, 34229, 24532, 24087, 21644, 21834, 12499,\n",
       "         24316, 32167, 19590, 32495, 12195,  5612,  6690,  5768, 23197,\n",
       "         30309,   248, 31157, 11039,  8606,  2642,  5318]),\n",
       "  array([  915,   824, 24438, 13710]),\n",
       "  array([  916,  7308, 12622, 20212, 11679, 13447,  1561, 26683, 30452,\n",
       "         12468,  7461, 27956,  7484, 29086,  2415, 17788, 27460, 26294,\n",
       "         28027, 31153,  1366, 20676, 16421, 16422]),\n",
       "  array([  917, 19268, 10095, 29301,  8515, 34084, 13981, 12437, 12384,\n",
       "         22064,  3458, 33728, 32696,  1233, 18071,  1376,  2666,  2653]),\n",
       "  array([  918, 10731, 13425, 20070, 32765, 26919,  1360, 10871, 28161,\n",
       "         24204, 29382,  5278, 18543]),\n",
       "  array([919]),\n",
       "  array([  920, 15583, 33642, 16035, 29561, 16584, 19287, 28909]),\n",
       "  array([  921, 31405,  4007,  4006]),\n",
       "  array([ 922, 4787, 9319, 5145, 9519, 6771]),\n",
       "  array([  923, 15152,  7195, 32160, 25404, 14148, 26204,  5953, 21339,\n",
       "          5801,  4515, 13946, 10213, 30345, 33134, 34141, 32056, 26969,\n",
       "          1091, 32845, 22207, 11401, 15638,  5589, 25997, 25313, 18372,\n",
       "          5901, 30265, 20311, 12583,   707,  8814, 16069,    11,    12,\n",
       "         16140, 23881, 15937,   520, 18840, 10577, 21574, 33686, 33685,\n",
       "           997, 27455,  2800, 31471,  8062]),\n",
       "  array([  924, 26466, 15575,  9967, 33332, 26708, 29152,  6543, 33508,\n",
       "         14594, 30293, 30292, 30291, 20295,  6681,  4546, 27419, 27418,\n",
       "          2250, 22344,  4372, 28090, 28089, 28088, 28091,  8227,  5052,\n",
       "          5051,  5053,  5054, 18240, 14077, 29420, 27821, 32483,  3276,\n",
       "         22440,  1955, 21243, 21299, 11759, 18391,  6259, 13287, 28467,\n",
       "         28791, 28683, 14718]),\n",
       "  array([  925,  7999, 23598, 23876,   372, 28336, 10666,  6323,   201,\n",
       "          9762, 25870, 25481, 17593,  5794,  5476,  7908, 11582,   906,\n",
       "         20549, 30912,  5305, 23824, 25869, 22407, 16139,  2235,    72,\n",
       "         16079, 18806,  3812, 24839, 16087, 12368,  6494, 15375, 31307,\n",
       "         16886, 21248, 16838, 12224, 33530, 29514, 24225, 19523, 14651,\n",
       "          7735,  3634]),\n",
       "  array([ 926, 8991]),\n",
       "  array([  927,  2897, 10788, 32542, 16173, 28880,   865, 14386, 15508,\n",
       "         25603,  2323, 16474,  2379, 29710, 16239, 10140, 19708, 31977,\n",
       "         11689, 13346, 33025, 13517,  7882, 12771, 28857, 15683,  7681,\n",
       "          5569, 19164,  9516, 27924, 13954,  2497, 27158,  8733, 19806,\n",
       "          1441, 18142,  9976, 24538, 15107, 20808,  6230,  8153,  5732,\n",
       "         11468, 19688, 16417, 25177, 18544]),\n",
       "  array([  928, 22372, 23343, 27897,  1130, 16911, 29784, 14121, 22304,\n",
       "         26550, 23527, 17105, 10416,  7379,   197, 24236, 31988, 30652,\n",
       "         29311, 24822,  9531,  3443, 19317, 13161, 32416, 26135, 31457,\n",
       "         22101, 28497,  9323, 19587, 13151,  3804,  8442, 23687, 24158,\n",
       "          5465, 20949, 32137, 11476, 20081, 29504, 10423, 14519, 23036,\n",
       "         19783,  5795, 31794,  4644, 12592]),\n",
       "  array([  929,  4125, 33287, 24729, 17569,  1160,   946, 10757, 28673,\n",
       "         22184,  3412, 10450,   461, 10368,  3100, 22253,   491, 21816,\n",
       "          8258,  5907,  8707, 23084, 14378, 29757, 26605, 28845,  3999,\n",
       "         20051, 15309, 12864, 12370, 31607, 11283, 19006, 27782,  9862,\n",
       "         29759, 29760, 25478,  6740,  3931, 14551, 20426,  3449, 24544,\n",
       "            64, 32123, 22204, 16702, 27372]),\n",
       "  array([  930, 29494, 30446,  2156, 29512, 19348]),\n",
       "  array([  931, 15858, 13416, 21173]),\n",
       "  array([  932,  9396, 11734, 29926, 23341, 12665,  4675, 13093, 17966,\n",
       "          6568, 15215, 24379,  2721,  5875, 10877, 16765, 10409,  2622,\n",
       "         27895, 15633, 10269,  1571]),\n",
       "  array([  933, 11625, 28445,  5089,   463, 25662,  5767, 23381, 31463,\n",
       "         31046]),\n",
       "  array([  934, 21004, 11057,  8482,  8176, 27301,   910,  6459,  6946,\n",
       "          4410, 16603, 27422, 19818,  5762,  7482,  6878, 31003, 31002,\n",
       "         14160, 30420, 12098, 20442, 21169, 14601,  2000,  8220, 18045,\n",
       "         20040, 32744,  8497,  3520,   428,  9636, 25627,  6302,  2700,\n",
       "         14884, 30586, 14532, 20932,  3794,  9597,  9596, 27378, 32817,\n",
       "         33095, 32780, 13527, 20653, 15271]),\n",
       "  array([  935, 13414, 13413]),\n",
       "  array([  936, 14109,  6461,  3583, 30045, 27237, 25615, 34064, 32480,\n",
       "         22876,  3244, 14429, 29352,  6795, 24105, 28540]),\n",
       "  array([  937,  8910, 29603, 15371, 13508,  3488,  6273, 11414, 33206,\n",
       "         19919,  4192,  3468, 32299, 10555, 20779, 29218, 14017, 14261,\n",
       "         27602, 33170, 28832, 22885, 23017,  6818,  9498, 21999,  8948,\n",
       "          8652, 18217, 19973, 19974, 25992, 31134]),\n",
       "  array([  938, 26306]),\n",
       "  array([  939, 28094]),\n",
       "  array([  940, 28713]),\n",
       "  array([  941, 27732,  8317, 25771,  1537, 23918, 21018, 23988, 23989,\n",
       "         28698, 33736,  5328, 15678, 21215, 26963, 33906, 30683, 30682,\n",
       "         30684, 14634, 11605,  8781, 17153,  3699, 13146,  2147, 30797,\n",
       "          9856, 18731, 28960, 30139, 12539, 20242, 26772, 26771, 26770,\n",
       "         26769, 10058, 29204,  9927, 25821,  7036, 24334, 24745,  8616,\n",
       "         25747, 11746, 32341, 24396, 23856]),\n",
       "  array([  942,  2043, 25850, 23093, 31188, 29416, 18486, 32922, 22689,\n",
       "         30946, 10034,  2021, 27121, 29616,   522, 31858]),\n",
       "  array([  943, 28144]),\n",
       "  array([  944, 33790,  2845, 18549, 19911, 13575,   187, 12732, 26456,\n",
       "         22963,  7226,  7225, 27832, 20221, 30243,  2079, 12404, 24793,\n",
       "         14680]),\n",
       "  array([ 945, 7766]),\n",
       "  array([  946,  1160, 17569, 28673, 10757, 28119, 28385, 20926, 22184,\n",
       "         26605,  3449, 22204, 24544, 23084, 20051,  3999, 32349, 29757,\n",
       "         15652, 20426, 10450, 12864,  3521,  4125, 25478, 10368, 15309,\n",
       "          9478,   929,   461,  4571, 28620, 13891,  3100, 29759, 29760,\n",
       "         21816,  6972, 13723, 24729, 14551, 20930, 10537,  3931,  4232,\n",
       "         11903, 22578,  9032, 21359, 28845]),\n",
       "  array([  947, 31504, 31505, 12526, 24266, 27980,  4485,  3484, 11538,\n",
       "         15376, 32960, 20017, 10180, 28078, 21431,  7193,  2960, 26500,\n",
       "          8666, 24175, 16151, 13040, 17829, 30440, 14602, 15335, 17990,\n",
       "         27181, 15868,  2639, 11764, 23129, 30974,  2855,  5823, 13600,\n",
       "          4958, 31969, 17780,  2927, 13633, 28994, 28995, 28993, 28991,\n",
       "         28992,  8038,  8039, 32527, 26224]),\n",
       "  array([  948, 33528,  9947, 21890, 10552, 31255, 20205, 13210, 27302,\n",
       "          3110, 33324]),\n",
       "  array([  949, 15971,  9809, 24494, 22951,  4518, 27734, 10175, 25369,\n",
       "         23685, 13610,  1379, 12036, 28498, 18109]),\n",
       "  array([  950,  9784,  9785,   660, 24547, 16194, 20803, 10566,  8191,\n",
       "         23930, 16581,   536,  2547, 13581, 32885]),\n",
       "  array([  951,  6142,    78, 23703, 15899, 10627, 29700,  4655,  9164,\n",
       "         14822, 12177,  8555, 14516, 25821, 24253,  7121, 16433, 14567,\n",
       "         19123, 26872]),\n",
       "  array([  952, 21076, 23504,  5867, 13524]),\n",
       "  array([  953, 17842,  6641,  3280, 11265,  6614, 17189,  7622,    61,\n",
       "         30470, 24904, 30620,  5330, 11127, 31341, 23404, 22576]),\n",
       "  array([ 954, 8981, 7452]),\n",
       "  array([  955, 13369,  6493, 18238, 20167, 26459, 27440, 21920, 22629,\n",
       "         28614, 13235, 10804, 31435, 13678, 15948, 10906, 20229, 25201,\n",
       "          8398, 25258]),\n",
       "  array([  956, 24183, 31141, 19520,  3366, 11714]),\n",
       "  array([  957,  9178,  1918, 10564,  2424,  8920,  7733, 15004, 15005,\n",
       "         15006, 32641,  2273,  4102,   401, 17431,  5812,  1003, 24673,\n",
       "          6224,   666,  3544,  2832,  9553, 30024, 30023, 23221, 25396,\n",
       "          6852, 30637, 12448,  6576, 24676, 22244, 26732, 33681, 26569,\n",
       "         15149, 22000,  1743, 29136]),\n",
       "  array([  958, 23432, 10896, 10897, 27415, 33201]),\n",
       "  array([  959, 25413,  6996,  3936, 24837]),\n",
       "  array([960]),\n",
       "  array([  961, 11205]),\n",
       "  array([  962, 25861, 19062,  1366,  3539, 28695, 31211,  7461, 19531,\n",
       "         31467, 23231, 23077, 21608,  5693, 15938, 33075, 28537, 11435,\n",
       "          2649, 20085,  7951, 19732,   475, 19695, 19309, 32669,  7057,\n",
       "         29999, 28148, 17344,    76, 26822,  7111, 17361, 29522, 24505,\n",
       "         27906, 31814, 21556, 18481, 15829,  7484, 18715,  5269, 17933,\n",
       "         10796,  6150,  8160, 21956, 29468]),\n",
       "  array([  963, 18335, 33362,  6087,  2467]),\n",
       "  array([  964, 21444,  9277,  7886,  7885, 18541, 11296,  6058,  5687,\n",
       "         26372, 18717, 17095,   303, 28729,  4364, 13462, 13461, 26952,\n",
       "          4150, 16448, 15607, 23848, 14840,  7761, 12550, 25764, 23264,\n",
       "         26943, 18198, 19369,  2081,  9938,  9939,  5725,  4080, 15608,\n",
       "          6075,  6582,  1514, 30623, 10436, 10490,  8619,  7076, 20392,\n",
       "          1593, 11327, 16685, 20563, 24279]),\n",
       "  array([  965,  1868, 30818,  5370,  8310,  1397,  3707,  3706,  3705,\n",
       "         28096, 13021, 31716, 24675, 10753, 13635, 30790,  6013,  7178,\n",
       "          7177, 28004, 31448, 33722,  6651, 30004,  9835,  1145, 28671]),\n",
       "  array([  966, 25993, 12843]),\n",
       "  array([  967, 17007, 31698, 20927,  3363,  2939, 12776, 12138, 22243,\n",
       "         33294, 15547, 13530, 19224, 19225, 32752, 33974, 32704, 20552,\n",
       "          9021, 32404, 10885, 21925, 15323, 21933]),\n",
       "  array([  968, 13993, 27875]),\n",
       "  array([  969, 28807,  3686, 28642, 34101, 25999, 18094,  3963,  5555,\n",
       "         12020,  3779]),\n",
       "  array([ 970, 6235, 4880]),\n",
       "  array([  971,   986,  1272, 10682, 33402, 13028, 27945, 12297, 10860,\n",
       "         25981, 27428,  4050,  8146,  7319, 23663]),\n",
       "  array([  972, 13800,  6701]),\n",
       "  array([  973,  1100, 31227]),\n",
       "  array([  974,  8641, 30129]),\n",
       "  array([  975, 13869,  6076]),\n",
       "  array([  976, 28369]),\n",
       "  array([  977, 13720]),\n",
       "  array([  978, 32579, 28887,  6520,  4025,  4578,  7656, 24643,  8243,\n",
       "          8242, 24319, 14635, 28957,  6987, 18309, 23765, 23766, 10509,\n",
       "           380,   379, 25535,  7619,  7620, 13831, 33070, 33071, 22816,\n",
       "          8249,  1518,  1519, 13014,  4865,  9352,   279, 12782, 17938,\n",
       "         17937, 12353, 12063, 18495, 14080,  1025,  2502,  3292, 18725,\n",
       "         22113, 11300]),\n",
       "  array([  979, 34030]),\n",
       "  array([  980, 31000, 23991, 26270, 11013,  9437,  9436,  9435, 33204,\n",
       "         10392, 19752, 10076, 30342, 32936,   378, 28987, 28989, 28990,\n",
       "         28988, 19266, 33092, 33662, 32327, 30533,  7905, 31524, 17442,\n",
       "          3739, 28871,  3154, 26804,  6365, 10003, 11648, 33631, 16714,\n",
       "         32834, 29919, 24148, 11498, 11281, 11280, 13453,   545,   544,\n",
       "         26825, 11915,   298,  9655, 33339]),\n",
       "  array([  981,  8642, 28047]),\n",
       "  array([  982, 27468, 11199]),\n",
       "  array([  983, 31623,  3627, 24955,  9592, 15745, 25511, 21446, 28904,\n",
       "         28442, 31704, 20837, 29633, 14595, 30422, 22935,  3358, 28024,\n",
       "         28023, 18490, 12508, 19089,  2473,  7665, 27343, 16940, 10478,\n",
       "         23889, 21443, 32876, 28903, 25873, 25556, 31726, 24191, 14716,\n",
       "         19071,  1666,  9119, 29547, 11320, 12030, 30438, 12440, 22012,\n",
       "         19775,  7751,  4185, 15119, 33521]),\n",
       "  array([  984, 31119, 18043,  6926, 12345, 17866, 32079, 15932,  3268,\n",
       "          3267, 28303, 26273, 25290, 23059,  3727, 22094,  5369,  3701,\n",
       "         15813,  8897, 27245, 10803,  9895, 29063,  1617,   663, 14280,\n",
       "         33009, 12802,   595, 17706, 25490, 26841,  3864, 24775,  2628,\n",
       "         27106,  9897, 24101, 26775, 11216, 16017, 32802, 14065, 30164,\n",
       "         14042, 17022, 33598, 24973, 33660]),\n",
       "  array([  985, 27604, 28249, 28250, 10118,  2998, 20628, 15816, 25426]),\n",
       "  array([  986,  1272, 33402, 10682,   971, 10860, 13028, 27945, 27428,\n",
       "          8146, 25981, 17646,  4050]),\n",
       "  array([  987, 22326, 17566,  5746, 14639, 34033, 25122]),\n",
       "  array([  988, 15545,  5477, 20485, 18545, 21743]),\n",
       "  array([  989,  7918,  8294, 28070, 19691, 29196, 16666, 26169, 26168,\n",
       "          8043, 18712, 30763, 17190, 27957, 17784,  8131, 17121, 33044,\n",
       "          7601, 16149, 32869, 25105, 27453]),\n",
       "  array([990, 132]),\n",
       "  array([  991,  2724,  2726,  2725, 18591,  7265, 32935,  2132, 10843,\n",
       "         15324, 27584, 18296, 25446, 19029, 31645, 25175, 14464, 11974,\n",
       "          8753, 23801, 14690, 18462, 13932, 26734, 10221, 25508,   354,\n",
       "          2233,  1318,   460, 30997, 29049,  9448, 24901, 21478,  1220,\n",
       "         28108, 25914, 27020, 27116,  3043,  5105, 27414, 27223, 26516,\n",
       "         20995,  1453,  6955,  6953,  6952]),\n",
       "  array([  992,  6637, 29695]),\n",
       "  array([  993, 22754, 23743,  9366, 22792,  1054,  9247, 32384,  2544,\n",
       "         10603,  4207, 25537,  2677, 16980,  7136, 19179, 29551, 16928,\n",
       "         25331, 25330, 13039, 13038, 16463, 29151,  6784, 21334, 12116,\n",
       "         23274]),\n",
       "  array([  994, 21460, 22242,  4941,  8135,  9526, 16926, 32198, 19955,\n",
       "         21125, 12386,  7160, 12266, 29672,  9130, 29304, 19122, 32996,\n",
       "         33514, 20076,  8509,  8510, 23532,  2057, 27516,  5185,   287,\n",
       "          1230, 28961, 33270, 10693, 16025, 11620, 11886, 14657,  6199,\n",
       "         19721, 19616, 22198, 22884, 14797, 25394, 32108, 27239, 13047,\n",
       "         32746,  1762, 28658, 13378, 11890]),\n",
       "  array([  995, 18444, 32313, 22007,  3369, 31824, 34110, 31345, 26289,\n",
       "         30539,  8300, 22731, 22730, 32476, 12105, 25762, 22971,  5291,\n",
       "          3822, 15967,  2388,  8577, 22538, 21319,   346,  8100,  8084,\n",
       "         16708, 22928]),\n",
       "  array([  996, 22584, 22585, 31976, 12718, 14863, 25260, 20937]),\n",
       "  array([  997, 31471, 10577, 18840,   520, 11565, 11249,  3737, 22261,\n",
       "         14862, 25313,  3053, 27323, 21441, 18376, 12943, 19084, 34141,\n",
       "         32056, 33134, 26969, 15638,  1091, 30345, 22207, 32845, 28425,\n",
       "          3538, 22245, 13946, 10227, 19321, 15966, 32472, 10213,  4515,\n",
       "         15211, 15210, 33856,  5801, 26332, 28655, 24994, 28891, 24409,\n",
       "          4858, 16652, 14052, 21148, 16971]),\n",
       "  array([  998, 22535,  5158,  3819, 18009]),\n",
       "  array([  999, 28830,  3289,  5032, 25178,  4430, 18382, 19500, 19501,\n",
       "         19502, 22102,  9089, 15833, 15832,  4093, 11831,  3175,  7504,\n",
       "         22499,  2477,  8767,  1603,  8792,  9094, 31061, 28384, 26252,\n",
       "         26251, 15641, 21703, 10008,   642,  6575,  3499,  7387,  6352,\n",
       "          2560, 11350, 31912, 31910, 16270, 22938, 11179, 18669, 16229,\n",
       "         16228, 26652, 32824,  4017,  4482]),\n",
       "  ...],\n",
       " array([[3.4526695e-04, 4.0852350e-01, 4.1303682e-01, ..., 5.5292356e-01,\n",
       "         5.5459654e-01, 5.5464113e-01],\n",
       "        [0.0000000e+00, 2.6023421e-01, 3.4087336e-01, ..., 8.4067947e-01,\n",
       "         8.4067947e-01, 8.4230345e-01],\n",
       "        [0.0000000e+00, 5.1327902e-01, 5.4598218e-01, ..., 7.0290601e-01,\n",
       "         7.0380270e-01, 7.0806724e-01],\n",
       "        ...,\n",
       "        [6.9053390e-04, 8.3751976e-02, 8.3751976e-02, ..., 3.3292297e-01,\n",
       "         3.3401361e-01, 3.4189957e-01],\n",
       "        [4.8828125e-04, 8.3590269e-02, 2.7101052e-01, ..., 7.2966379e-01,\n",
       "         7.3204207e-01, 7.3461086e-01],\n",
       "        [8.4572798e-04, 4.0213332e-01, 6.3545841e-01, ..., 8.2937562e-01,\n",
       "         8.2987243e-01, 8.3120346e-01]], dtype=float32),\n",
       " array([[    0, 18373, 31779, ..., 10410, 30413, 24623],\n",
       "        [    1, 18683,   194, ...,   622,   623,  6257],\n",
       "        [    2,  4316, 28035, ..., 32383, 10375, 29235],\n",
       "        ...,\n",
       "        [34247, 18379, 18380, ..., 19316, 21880, 16257],\n",
       "        [34248, 13887, 20813, ...,  4303, 10327,  6718],\n",
       "        [34249, 33792, 34026, ...,  7248,  9907, 10810]]))"
      ]
     },
     "execution_count": 37,
     "metadata": {},
     "output_type": "execute_result"
    }
   ],
   "source": [
    "compute_f1(embs, labels, 0.5)"
   ]
  },
  {
   "cell_type": "code",
   "execution_count": 36,
   "metadata": {},
   "outputs": [
    {
     "name": "stdout",
     "output_type": "stream",
     "text": [
      "Computing distances...\n",
      "Making predictions...\n"
     ]
    },
    {
     "data": {
      "application/vnd.jupyter.widget-view+json": {
       "model_id": "51214fda0bb243f3995a2d9cb3238ec8",
       "version_major": 2,
       "version_minor": 0
      },
      "text/plain": [
       "  0%|          | 0/34250 [00:00<?, ?it/s]"
      ]
     },
     "metadata": {},
     "output_type": "display_data"
    },
    {
     "name": "stdout",
     "output_type": "stream",
     "text": [
      "Computing f1 score...\n"
     ]
    },
    {
     "data": {
      "application/vnd.jupyter.widget-view+json": {
       "model_id": "ee19f23e958a4a57818af56abe2cab95",
       "version_major": 2,
       "version_minor": 0
      },
      "text/plain": [
       "  0%|          | 0/34250 [00:00<?, ?it/s]"
      ]
     },
     "metadata": {},
     "output_type": "display_data"
    },
    {
     "name": "stdout",
     "output_type": "stream",
     "text": [
      "f1 score : 0.6166960700298252\n"
     ]
    },
    {
     "data": {
      "text/plain": [
       "0.6166960700298252"
      ]
     },
     "execution_count": 36,
     "metadata": {},
     "output_type": "execute_result"
    }
   ],
   "source": [
    " compute_f1(embs, labels, 0.4)[0]"
   ]
  },
  {
   "cell_type": "code",
   "execution_count": 7,
   "metadata": {},
   "outputs": [
    {
     "name": "stdout",
     "output_type": "stream",
     "text": [
      "Computing distances...\n",
      "Making predictions...\n"
     ]
    },
    {
     "data": {
      "application/vnd.jupyter.widget-view+json": {
       "model_id": "5f6460cb31b145a389c1409f6dbc5d24",
       "version_major": 2,
       "version_minor": 0
      },
      "text/plain": [
       "  0%|          | 0/34250 [00:00<?, ?it/s]"
      ]
     },
     "metadata": {},
     "output_type": "display_data"
    },
    {
     "name": "stdout",
     "output_type": "stream",
     "text": [
      "Computing f1 score...\n"
     ]
    },
    {
     "data": {
      "application/vnd.jupyter.widget-view+json": {
       "model_id": "c179feea7cec4a3f83c517740278ab97",
       "version_major": 2,
       "version_minor": 0
      },
      "text/plain": [
       "  0%|          | 0/34250 [00:00<?, ?it/s]"
      ]
     },
     "metadata": {},
     "output_type": "display_data"
    },
    {
     "name": "stdout",
     "output_type": "stream",
     "text": [
      "f1 score : 0.46538070355687056\n",
      "Computing distances...\n",
      "Making predictions...\n"
     ]
    },
    {
     "data": {
      "application/vnd.jupyter.widget-view+json": {
       "model_id": "95e21219b718431f9c7827c4d2c5357c",
       "version_major": 2,
       "version_minor": 0
      },
      "text/plain": [
       "  0%|          | 0/34250 [00:00<?, ?it/s]"
      ]
     },
     "metadata": {},
     "output_type": "display_data"
    },
    {
     "name": "stdout",
     "output_type": "stream",
     "text": [
      "Computing f1 score...\n"
     ]
    },
    {
     "data": {
      "application/vnd.jupyter.widget-view+json": {
       "model_id": "8e5cd3634b5b44f5b5424797987f31e8",
       "version_major": 2,
       "version_minor": 0
      },
      "text/plain": [
       "  0%|          | 0/34250 [00:00<?, ?it/s]"
      ]
     },
     "metadata": {},
     "output_type": "display_data"
    },
    {
     "name": "stdout",
     "output_type": "stream",
     "text": [
      "f1 score : 0.5933747235420765\n",
      "Computing distances...\n",
      "Making predictions...\n"
     ]
    },
    {
     "data": {
      "application/vnd.jupyter.widget-view+json": {
       "model_id": "c3237b83d32a426ab8487dddd8b7ac30",
       "version_major": 2,
       "version_minor": 0
      },
      "text/plain": [
       "  0%|          | 0/34250 [00:00<?, ?it/s]"
      ]
     },
     "metadata": {},
     "output_type": "display_data"
    },
    {
     "name": "stdout",
     "output_type": "stream",
     "text": [
      "Computing f1 score...\n"
     ]
    },
    {
     "data": {
      "application/vnd.jupyter.widget-view+json": {
       "model_id": "5e9a9a23099f4f25bafa5b3dc5935bef",
       "version_major": 2,
       "version_minor": 0
      },
      "text/plain": [
       "  0%|          | 0/34250 [00:00<?, ?it/s]"
      ]
     },
     "metadata": {},
     "output_type": "display_data"
    },
    {
     "name": "stdout",
     "output_type": "stream",
     "text": [
      "f1 score : 0.6362401276711929\n",
      "Computing distances...\n",
      "Making predictions...\n"
     ]
    },
    {
     "data": {
      "application/vnd.jupyter.widget-view+json": {
       "model_id": "4f3c25afe0a34b98838ce094b17201a2",
       "version_major": 2,
       "version_minor": 0
      },
      "text/plain": [
       "  0%|          | 0/34250 [00:00<?, ?it/s]"
      ]
     },
     "metadata": {},
     "output_type": "display_data"
    },
    {
     "name": "stdout",
     "output_type": "stream",
     "text": [
      "Computing f1 score...\n"
     ]
    },
    {
     "data": {
      "application/vnd.jupyter.widget-view+json": {
       "model_id": "ba825ac061a748d6be981b9d8ab27471",
       "version_major": 2,
       "version_minor": 0
      },
      "text/plain": [
       "  0%|          | 0/34250 [00:00<?, ?it/s]"
      ]
     },
     "metadata": {},
     "output_type": "display_data"
    },
    {
     "name": "stdout",
     "output_type": "stream",
     "text": [
      "f1 score : 0.6392778307639401\n",
      "Computing distances...\n",
      "Making predictions...\n"
     ]
    },
    {
     "data": {
      "application/vnd.jupyter.widget-view+json": {
       "model_id": "cc0bda6e547a4fc5b9d5953517b423dc",
       "version_major": 2,
       "version_minor": 0
      },
      "text/plain": [
       "  0%|          | 0/34250 [00:00<?, ?it/s]"
      ]
     },
     "metadata": {},
     "output_type": "display_data"
    },
    {
     "name": "stdout",
     "output_type": "stream",
     "text": [
      "Computing f1 score...\n"
     ]
    },
    {
     "data": {
      "application/vnd.jupyter.widget-view+json": {
       "model_id": "71e3e5b21b0a4db5be24841d2173404e",
       "version_major": 2,
       "version_minor": 0
      },
      "text/plain": [
       "  0%|          | 0/34250 [00:00<?, ?it/s]"
      ]
     },
     "metadata": {},
     "output_type": "display_data"
    },
    {
     "name": "stdout",
     "output_type": "stream",
     "text": [
      "f1 score : 0.5823442195057277\n",
      "Computing distances...\n",
      "Making predictions...\n"
     ]
    },
    {
     "data": {
      "application/vnd.jupyter.widget-view+json": {
       "model_id": "90ec8323a4144e4b8e21ec81fa116009",
       "version_major": 2,
       "version_minor": 0
      },
      "text/plain": [
       "  0%|          | 0/34250 [00:00<?, ?it/s]"
      ]
     },
     "metadata": {},
     "output_type": "display_data"
    },
    {
     "name": "stdout",
     "output_type": "stream",
     "text": [
      "Computing f1 score...\n"
     ]
    },
    {
     "data": {
      "application/vnd.jupyter.widget-view+json": {
       "model_id": "8f854a84475847afa7f725b6d16299dd",
       "version_major": 2,
       "version_minor": 0
      },
      "text/plain": [
       "  0%|          | 0/34250 [00:00<?, ?it/s]"
      ]
     },
     "metadata": {},
     "output_type": "display_data"
    },
    {
     "name": "stdout",
     "output_type": "stream",
     "text": [
      "f1 score : 0.4321315615341706\n",
      "Computing distances...\n",
      "Making predictions...\n"
     ]
    },
    {
     "data": {
      "application/vnd.jupyter.widget-view+json": {
       "model_id": "6445b83eace4415da066623cbcc07743",
       "version_major": 2,
       "version_minor": 0
      },
      "text/plain": [
       "  0%|          | 0/34250 [00:00<?, ?it/s]"
      ]
     },
     "metadata": {},
     "output_type": "display_data"
    },
    {
     "name": "stdout",
     "output_type": "stream",
     "text": [
      "Computing f1 score...\n"
     ]
    },
    {
     "data": {
      "application/vnd.jupyter.widget-view+json": {
       "model_id": "f519a0795630457594f34da60fe77599",
       "version_major": 2,
       "version_minor": 0
      },
      "text/plain": [
       "  0%|          | 0/34250 [00:00<?, ?it/s]"
      ]
     },
     "metadata": {},
     "output_type": "display_data"
    },
    {
     "name": "stdout",
     "output_type": "stream",
     "text": [
      "f1 score : 0.26195767597674485\n",
      "Computing distances...\n",
      "Making predictions...\n"
     ]
    },
    {
     "data": {
      "application/vnd.jupyter.widget-view+json": {
       "model_id": "bf6f8802009d4ee2945231a216a0375b",
       "version_major": 2,
       "version_minor": 0
      },
      "text/plain": [
       "  0%|          | 0/34250 [00:00<?, ?it/s]"
      ]
     },
     "metadata": {},
     "output_type": "display_data"
    },
    {
     "name": "stdout",
     "output_type": "stream",
     "text": [
      "Computing f1 score...\n"
     ]
    },
    {
     "data": {
      "application/vnd.jupyter.widget-view+json": {
       "model_id": "44aadd76b54a459cabf701955e8e1e54",
       "version_major": 2,
       "version_minor": 0
      },
      "text/plain": [
       "  0%|          | 0/34250 [00:00<?, ?it/s]"
      ]
     },
     "metadata": {},
     "output_type": "display_data"
    },
    {
     "name": "stdout",
     "output_type": "stream",
     "text": [
      "f1 score : 0.1826181293752133\n",
      "Computing distances...\n",
      "Making predictions...\n"
     ]
    },
    {
     "data": {
      "application/vnd.jupyter.widget-view+json": {
       "model_id": "416fa5298bf44a3080af600dfb06ff29",
       "version_major": 2,
       "version_minor": 0
      },
      "text/plain": [
       "  0%|          | 0/34250 [00:00<?, ?it/s]"
      ]
     },
     "metadata": {},
     "output_type": "display_data"
    },
    {
     "name": "stdout",
     "output_type": "stream",
     "text": [
      "Computing f1 score...\n"
     ]
    },
    {
     "data": {
      "application/vnd.jupyter.widget-view+json": {
       "model_id": "54ec5bd240bc48ac83b811f890e801d3",
       "version_major": 2,
       "version_minor": 0
      },
      "text/plain": [
       "  0%|          | 0/34250 [00:00<?, ?it/s]"
      ]
     },
     "metadata": {},
     "output_type": "display_data"
    },
    {
     "name": "stdout",
     "output_type": "stream",
     "text": [
      "f1 score : 0.17162724208669433\n",
      "Computing distances...\n",
      "Making predictions...\n"
     ]
    },
    {
     "data": {
      "application/vnd.jupyter.widget-view+json": {
       "model_id": "2296c4deef2a422cb4a47f5dcb93fec9",
       "version_major": 2,
       "version_minor": 0
      },
      "text/plain": [
       "  0%|          | 0/34250 [00:00<?, ?it/s]"
      ]
     },
     "metadata": {},
     "output_type": "display_data"
    },
    {
     "name": "stdout",
     "output_type": "stream",
     "text": [
      "Computing f1 score...\n"
     ]
    },
    {
     "data": {
      "application/vnd.jupyter.widget-view+json": {
       "model_id": "d2afb548bcf74cf89edd92f8e8fcebc9",
       "version_major": 2,
       "version_minor": 0
      },
      "text/plain": [
       "  0%|          | 0/34250 [00:00<?, ?it/s]"
      ]
     },
     "metadata": {},
     "output_type": "display_data"
    },
    {
     "name": "stdout",
     "output_type": "stream",
     "text": [
      "f1 score : 0.171304056706589\n"
     ]
    }
   ],
   "source": [
    "scores = [(thr, compute_f1_bis(embs, labels, thr)[0]) for thr in np.linspace(0.001, 1, 10)]"
   ]
  },
  {
   "cell_type": "code",
   "execution_count": 8,
   "metadata": {},
   "outputs": [
    {
     "name": "stdout",
     "output_type": "stream",
     "text": [
      "Computing distances...\n",
      "Making predictions...\n"
     ]
    },
    {
     "data": {
      "application/vnd.jupyter.widget-view+json": {
       "model_id": "610f0de53c3f45a0b4befd3d91cad7ff",
       "version_major": 2,
       "version_minor": 0
      },
      "text/plain": [
       "  0%|          | 0/34250 [00:00<?, ?it/s]"
      ]
     },
     "metadata": {},
     "output_type": "display_data"
    },
    {
     "name": "stdout",
     "output_type": "stream",
     "text": [
      "Computing f1 score...\n"
     ]
    },
    {
     "data": {
      "application/vnd.jupyter.widget-view+json": {
       "model_id": "ebd77a5e15c14be0bb0c469e79747bb2",
       "version_major": 2,
       "version_minor": 0
      },
      "text/plain": [
       "  0%|          | 0/34250 [00:00<?, ?it/s]"
      ]
     },
     "metadata": {},
     "output_type": "display_data"
    },
    {
     "name": "stdout",
     "output_type": "stream",
     "text": [
      "f1 score : 0.6423777857936097\n",
      "Computing distances...\n",
      "Making predictions...\n"
     ]
    },
    {
     "data": {
      "application/vnd.jupyter.widget-view+json": {
       "model_id": "9ab500970a264e05a44fcb4ecbd36770",
       "version_major": 2,
       "version_minor": 0
      },
      "text/plain": [
       "  0%|          | 0/34250 [00:00<?, ?it/s]"
      ]
     },
     "metadata": {},
     "output_type": "display_data"
    },
    {
     "name": "stdout",
     "output_type": "stream",
     "text": [
      "Computing f1 score...\n"
     ]
    },
    {
     "data": {
      "application/vnd.jupyter.widget-view+json": {
       "model_id": "a6297e6ee8d74c98904199d1a1dfe3e9",
       "version_major": 2,
       "version_minor": 0
      },
      "text/plain": [
       "  0%|          | 0/34250 [00:00<?, ?it/s]"
      ]
     },
     "metadata": {},
     "output_type": "display_data"
    },
    {
     "name": "stdout",
     "output_type": "stream",
     "text": [
      "f1 score : 0.640985919354567\n",
      "Computing distances...\n",
      "Making predictions...\n"
     ]
    },
    {
     "data": {
      "application/vnd.jupyter.widget-view+json": {
       "model_id": "5ff0bc42b34b4e04a2f99f6404e4e07b",
       "version_major": 2,
       "version_minor": 0
      },
      "text/plain": [
       "  0%|          | 0/34250 [00:00<?, ?it/s]"
      ]
     },
     "metadata": {},
     "output_type": "display_data"
    },
    {
     "name": "stdout",
     "output_type": "stream",
     "text": [
      "Computing f1 score...\n"
     ]
    },
    {
     "data": {
      "application/vnd.jupyter.widget-view+json": {
       "model_id": "3e975db95ae54bd6961c97a365075d91",
       "version_major": 2,
       "version_minor": 0
      },
      "text/plain": [
       "  0%|          | 0/34250 [00:00<?, ?it/s]"
      ]
     },
     "metadata": {},
     "output_type": "display_data"
    },
    {
     "name": "stdout",
     "output_type": "stream",
     "text": [
      "f1 score : 0.63751952083447\n",
      "Computing distances...\n",
      "Making predictions...\n"
     ]
    },
    {
     "data": {
      "application/vnd.jupyter.widget-view+json": {
       "model_id": "6b51baf1741746bb86b59f6fa0cd63d8",
       "version_major": 2,
       "version_minor": 0
      },
      "text/plain": [
       "  0%|          | 0/34250 [00:00<?, ?it/s]"
      ]
     },
     "metadata": {},
     "output_type": "display_data"
    },
    {
     "name": "stdout",
     "output_type": "stream",
     "text": [
      "Computing f1 score...\n"
     ]
    },
    {
     "data": {
      "application/vnd.jupyter.widget-view+json": {
       "model_id": "ad357fc8655544ca8f5eb81218a4932f",
       "version_major": 2,
       "version_minor": 0
      },
      "text/plain": [
       "  0%|          | 0/34250 [00:00<?, ?it/s]"
      ]
     },
     "metadata": {},
     "output_type": "display_data"
    },
    {
     "name": "stdout",
     "output_type": "stream",
     "text": [
      "f1 score : 0.6320617289954834\n",
      "Computing distances...\n",
      "Making predictions...\n"
     ]
    },
    {
     "data": {
      "application/vnd.jupyter.widget-view+json": {
       "model_id": "bc9016395e9d49808b8e6578465d4968",
       "version_major": 2,
       "version_minor": 0
      },
      "text/plain": [
       "  0%|          | 0/34250 [00:00<?, ?it/s]"
      ]
     },
     "metadata": {},
     "output_type": "display_data"
    },
    {
     "name": "stdout",
     "output_type": "stream",
     "text": [
      "Computing f1 score...\n"
     ]
    },
    {
     "data": {
      "application/vnd.jupyter.widget-view+json": {
       "model_id": "4f847357de0f4b7dab43e350205bc23a",
       "version_major": 2,
       "version_minor": 0
      },
      "text/plain": [
       "  0%|          | 0/34250 [00:00<?, ?it/s]"
      ]
     },
     "metadata": {},
     "output_type": "display_data"
    },
    {
     "name": "stdout",
     "output_type": "stream",
     "text": [
      "f1 score : 0.6227545206769898\n",
      "Computing distances...\n",
      "Making predictions...\n"
     ]
    },
    {
     "data": {
      "application/vnd.jupyter.widget-view+json": {
       "model_id": "7470712e1b4445419e1dc2a987716803",
       "version_major": 2,
       "version_minor": 0
      },
      "text/plain": [
       "  0%|          | 0/34250 [00:00<?, ?it/s]"
      ]
     },
     "metadata": {},
     "output_type": "display_data"
    },
    {
     "name": "stdout",
     "output_type": "stream",
     "text": [
      "Computing f1 score...\n"
     ]
    },
    {
     "data": {
      "application/vnd.jupyter.widget-view+json": {
       "model_id": "3dfc7650f6be4415976b57f34ef7f7e0",
       "version_major": 2,
       "version_minor": 0
      },
      "text/plain": [
       "  0%|          | 0/34250 [00:00<?, ?it/s]"
      ]
     },
     "metadata": {},
     "output_type": "display_data"
    },
    {
     "name": "stdout",
     "output_type": "stream",
     "text": [
      "f1 score : 0.608799564984662\n",
      "Computing distances...\n",
      "Making predictions...\n"
     ]
    },
    {
     "data": {
      "application/vnd.jupyter.widget-view+json": {
       "model_id": "4fa893c9138e45388a1dae9369a80914",
       "version_major": 2,
       "version_minor": 0
      },
      "text/plain": [
       "  0%|          | 0/34250 [00:00<?, ?it/s]"
      ]
     },
     "metadata": {},
     "output_type": "display_data"
    },
    {
     "name": "stdout",
     "output_type": "stream",
     "text": [
      "Computing f1 score...\n"
     ]
    },
    {
     "data": {
      "application/vnd.jupyter.widget-view+json": {
       "model_id": "4eeb37afff094c0cbef82204e820f25f",
       "version_major": 2,
       "version_minor": 0
      },
      "text/plain": [
       "  0%|          | 0/34250 [00:00<?, ?it/s]"
      ]
     },
     "metadata": {},
     "output_type": "display_data"
    },
    {
     "name": "stdout",
     "output_type": "stream",
     "text": [
      "f1 score : 0.5930355004111506\n",
      "Computing distances...\n",
      "Making predictions...\n"
     ]
    },
    {
     "data": {
      "application/vnd.jupyter.widget-view+json": {
       "model_id": "61223acd84f54c63bf454a830a45eeb8",
       "version_major": 2,
       "version_minor": 0
      },
      "text/plain": [
       "  0%|          | 0/34250 [00:00<?, ?it/s]"
      ]
     },
     "metadata": {},
     "output_type": "display_data"
    },
    {
     "name": "stdout",
     "output_type": "stream",
     "text": [
      "Computing f1 score...\n"
     ]
    },
    {
     "data": {
      "application/vnd.jupyter.widget-view+json": {
       "model_id": "0ae9dde1be684f93b46a6ab57f41eef9",
       "version_major": 2,
       "version_minor": 0
      },
      "text/plain": [
       "  0%|          | 0/34250 [00:00<?, ?it/s]"
      ]
     },
     "metadata": {},
     "output_type": "display_data"
    },
    {
     "name": "stdout",
     "output_type": "stream",
     "text": [
      "f1 score : 0.5712998110033228\n",
      "Computing distances...\n",
      "Making predictions...\n"
     ]
    },
    {
     "data": {
      "application/vnd.jupyter.widget-view+json": {
       "model_id": "5962f2eaa30a49b2baa61ad3a5fefdbf",
       "version_major": 2,
       "version_minor": 0
      },
      "text/plain": [
       "  0%|          | 0/34250 [00:00<?, ?it/s]"
      ]
     },
     "metadata": {},
     "output_type": "display_data"
    },
    {
     "name": "stdout",
     "output_type": "stream",
     "text": [
      "Computing f1 score...\n"
     ]
    },
    {
     "data": {
      "application/vnd.jupyter.widget-view+json": {
       "model_id": "f16d031729eb46c7923af2fec0574004",
       "version_major": 2,
       "version_minor": 0
      },
      "text/plain": [
       "  0%|          | 0/34250 [00:00<?, ?it/s]"
      ]
     },
     "metadata": {},
     "output_type": "display_data"
    },
    {
     "name": "stdout",
     "output_type": "stream",
     "text": [
      "f1 score : 0.5465404096418383\n",
      "Computing distances...\n",
      "Making predictions...\n"
     ]
    },
    {
     "data": {
      "application/vnd.jupyter.widget-view+json": {
       "model_id": "e1cd8a2d6a164c5495df0a2bae0a2e0a",
       "version_major": 2,
       "version_minor": 0
      },
      "text/plain": [
       "  0%|          | 0/34250 [00:00<?, ?it/s]"
      ]
     },
     "metadata": {},
     "output_type": "display_data"
    },
    {
     "name": "stdout",
     "output_type": "stream",
     "text": [
      "Computing f1 score...\n"
     ]
    },
    {
     "data": {
      "application/vnd.jupyter.widget-view+json": {
       "model_id": "14f1d9f946cb48cb885e5b490691eac0",
       "version_major": 2,
       "version_minor": 0
      },
      "text/plain": [
       "  0%|          | 0/34250 [00:00<?, ?it/s]"
      ]
     },
     "metadata": {},
     "output_type": "display_data"
    },
    {
     "name": "stdout",
     "output_type": "stream",
     "text": [
      "f1 score : 0.5180334303998027\n"
     ]
    }
   ],
   "source": [
    "scores = [(thr, compute_f1(embs, labels, thr)[0]) for thr in np.linspace(0.3, 0.5, 10)]"
   ]
  }
 ],
 "metadata": {
  "kernelspec": {
   "display_name": "Python 3",
   "language": "python",
   "name": "python3"
  },
  "language_info": {
   "codemirror_mode": {
    "name": "ipython",
    "version": 3
   },
   "file_extension": ".py",
   "mimetype": "text/x-python",
   "name": "python",
   "nbconvert_exporter": "python",
   "pygments_lexer": "ipython3",
   "version": "3.7.10"
  },
  "toc": {
   "base_numbering": 1,
   "nav_menu": {},
   "number_sections": true,
   "sideBar": true,
   "skip_h1_title": false,
   "title_cell": "Table of Contents",
   "title_sidebar": "Contents",
   "toc_cell": true,
   "toc_position": {
    "height": "calc(100% - 180px)",
    "left": "10px",
    "top": "150px",
    "width": "268.15px"
   },
   "toc_section_display": true,
   "toc_window_display": false
  },
  "varInspector": {
   "cols": {
    "lenName": 16,
    "lenType": 16,
    "lenVar": 40
   },
   "kernels_config": {
    "python": {
     "delete_cmd_postfix": "",
     "delete_cmd_prefix": "del ",
     "library": "var_list.py",
     "varRefreshCmd": "print(var_dic_list())"
    },
    "r": {
     "delete_cmd_postfix": ") ",
     "delete_cmd_prefix": "rm(",
     "library": "var_list.r",
     "varRefreshCmd": "cat(var_dic_list()) "
    }
   },
   "types_to_exclude": [
    "module",
    "function",
    "builtin_function_or_method",
    "instance",
    "_Feature"
   ],
   "window_display": false
  }
 },
 "nbformat": 4,
 "nbformat_minor": 4
}
