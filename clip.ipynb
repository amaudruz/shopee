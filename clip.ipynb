{
 "cells": [
  {
   "cell_type": "markdown",
   "metadata": {
    "toc": true
   },
   "source": [
    "<h1>Table of Contents<span class=\"tocSkip\"></span></h1>\n",
    "<div class=\"toc\"><ul class=\"toc-item\"><li><span><a href=\"#Only-image\" data-toc-modified-id=\"Only-image-1\"><span class=\"toc-item-num\">1&nbsp;&nbsp;</span>Only image</a></span><ul class=\"toc-item\"><li><span><a href=\"#Train-test-vit\" data-toc-modified-id=\"Train-test-vit-1.1\"><span class=\"toc-item-num\">1.1&nbsp;&nbsp;</span>Train test vit</a></span></li><li><span><a href=\"#Train-test-resnet50\" data-toc-modified-id=\"Train-test-resnet50-1.2\"><span class=\"toc-item-num\">1.2&nbsp;&nbsp;</span>Train test resnet50</a></span></li><li><span><a href=\"#Effnetb0-(noclip)\" data-toc-modified-id=\"Effnetb0-(noclip)-1.3\"><span class=\"toc-item-num\">1.3&nbsp;&nbsp;</span>Effnetb0 (noclip)</a></span></li></ul></li><li><span><a href=\"#Only-text\" data-toc-modified-id=\"Only-text-2\"><span class=\"toc-item-num\">2&nbsp;&nbsp;</span>Only text</a></span><ul class=\"toc-item\"><li><span><a href=\"#Traduction-indonesian-english\" data-toc-modified-id=\"Traduction-indonesian-english-2.1\"><span class=\"toc-item-num\">2.1&nbsp;&nbsp;</span>Traduction indonesian english</a></span></li><li><span><a href=\"#Split\" data-toc-modified-id=\"Split-2.2\"><span class=\"toc-item-num\">2.2&nbsp;&nbsp;</span>Split</a></span></li><li><span><a href=\"#Split-no-translation\" data-toc-modified-id=\"Split-no-translation-2.3\"><span class=\"toc-item-num\">2.3&nbsp;&nbsp;</span>Split no translation</a></span></li></ul></li><li><span><a href=\"#Multimodal-training\" data-toc-modified-id=\"Multimodal-training-3\"><span class=\"toc-item-num\">3&nbsp;&nbsp;</span>Multimodal training</a></span><ul class=\"toc-item\"><li><span><a href=\"#Testing-zero-shot\" data-toc-modified-id=\"Testing-zero-shot-3.1\"><span class=\"toc-item-num\">3.1&nbsp;&nbsp;</span>Testing zero shot</a></span><ul class=\"toc-item\"><li><span><a href=\"#Translated-titles\" data-toc-modified-id=\"Translated-titles-3.1.1\"><span class=\"toc-item-num\">3.1.1&nbsp;&nbsp;</span>Translated titles</a></span></li><li><span><a href=\"#No-translation\" data-toc-modified-id=\"No-translation-3.1.2\"><span class=\"toc-item-num\">3.1.2&nbsp;&nbsp;</span>No translation</a></span></li></ul></li><li><span><a href=\"#Fine-tuning-clip\" data-toc-modified-id=\"Fine-tuning-clip-3.2\"><span class=\"toc-item-num\">3.2&nbsp;&nbsp;</span>Fine tuning clip</a></span><ul class=\"toc-item\"><li><span><a href=\"#Zero-shot-without-fine-tuning-on-split\" data-toc-modified-id=\"Zero-shot-without-fine-tuning-on-split-3.2.1\"><span class=\"toc-item-num\">3.2.1&nbsp;&nbsp;</span>Zero shot without fine tuning on split</a></span></li></ul></li></ul></li></ul></div>"
   ]
  },
  {
   "cell_type": "code",
   "execution_count": 1,
   "metadata": {
    "scrolled": true
   },
   "outputs": [],
   "source": [
    "import torch\n",
    "import clip\n",
    "from PIL import Image"
   ]
  },
  {
   "cell_type": "markdown",
   "metadata": {},
   "source": [
    "## Only image"
   ]
  },
  {
   "cell_type": "code",
   "execution_count": 2,
   "metadata": {
    "scrolled": true
   },
   "outputs": [
    {
     "data": {
      "text/plain": [
       "['RN50', 'RN101', 'RN50x4', 'ViT-B/32']"
      ]
     },
     "execution_count": 2,
     "metadata": {},
     "output_type": "execute_result"
    }
   ],
   "source": [
    "clip.available_models()"
   ]
  },
  {
   "cell_type": "markdown",
   "metadata": {},
   "source": [
    "### Train test vit"
   ]
  },
  {
   "cell_type": "code",
   "execution_count": 1,
   "metadata": {},
   "outputs": [],
   "source": [
    "from imports import *\n",
    "from utils import load_data\n",
    "from image_train.data import create_dl, ImageDS\n",
    "from image_train.model import EMBRes\n",
    "from arcface import ArcMarginProduct, compute_centers\n",
    "from clip_.train_image import *\n",
    "import matplotlib.pyplot as plt\n",
    "import clip\n",
    "np.random.seed(1337)\n",
    "device = torch.device('cuda')"
   ]
  },
  {
   "cell_type": "code",
   "execution_count": 2,
   "metadata": {},
   "outputs": [],
   "source": [
    "df, train_df, val_df, train_labels, val_labels = load_data(train_perc=0.3)"
   ]
  },
  {
   "cell_type": "code",
   "execution_count": 3,
   "metadata": {},
   "outputs": [],
   "source": [
    "# creating dataloaders\n",
    "small_images_dir_train = 'data/small_train_images_250/'\n",
    "small_images_dir_val = 'data/small_train_images_224/'\n",
    "bs = 64\n",
    "\n",
    "tr_dl = create_dl(train_df, small_images_dir_train, batch_size=bs)\n",
    "tr_test_dl = create_dl(train_df, small_images_dir_val, shuffle=False, batch_size=bs)\n",
    "val_dl = create_dl(val_df, small_images_dir_val, shuffle=False, batch_size=bs)\n",
    "#full_dl = create_dl(df, small_images_dir, shuffle=False)"
   ]
  },
  {
   "cell_type": "code",
   "execution_count": 4,
   "metadata": {},
   "outputs": [],
   "source": [
    "class CLIPImg(torch.nn.Module) :\n",
    "    def __init__(self, model_name=\"ViT-B/32\", device='cuda') :\n",
    "        super().__init__()\n",
    "        self.model = clip.load(model_name, device=device, jit=False)[0]\n",
    "    def forward(self, imgs) :\n",
    "        return self.model.encode_image(imgs)"
   ]
  },
  {
   "cell_type": "code",
   "execution_count": 5,
   "metadata": {
    "scrolled": true
   },
   "outputs": [],
   "source": [
    "model = CLIPImg()\n",
    "train_tfms, val_tfms = get_tfms(crop=224)"
   ]
  },
  {
   "cell_type": "code",
   "execution_count": 6,
   "metadata": {},
   "outputs": [
    {
     "data": {
      "application/vnd.jupyter.widget-view+json": {
       "model_id": "6a0aa8035325470bae0cf485619e26c7",
       "version_major": 2,
       "version_minor": 0
      },
      "text/plain": [
       "HBox(children=(FloatProgress(value=0.0, max=164.0), HTML(value='')))"
      ]
     },
     "metadata": {},
     "output_type": "display_data"
    },
    {
     "name": "stdout",
     "output_type": "stream",
     "text": [
      "\n"
     ]
    }
   ],
   "source": [
    "centers = compute_centers(tr_test_dl, model, val_tfms, train_df)\n",
    "torch.save(centers, 'data/clip/centers_im_0.3_vit.pth')"
   ]
  },
  {
   "cell_type": "code",
   "execution_count": 7,
   "metadata": {},
   "outputs": [],
   "source": [
    "centers = torch.load('data/clip/centers_im_0.3_vit.pth')"
   ]
  },
  {
   "cell_type": "code",
   "execution_count": 8,
   "metadata": {
    "scrolled": true
   },
   "outputs": [
    {
     "name": "stdout",
     "output_type": "stream",
     "text": [
      "Using center as wieghts\n"
     ]
    }
   ],
   "source": [
    "metric_fc = ArcMarginProduct(512, train_df['label_group'].nunique(), \n",
    "                             s=30, m=0.5, easy_margin=False, centers=centers, half=True).to(device)"
   ]
  },
  {
   "cell_type": "code",
   "execution_count": 9,
   "metadata": {},
   "outputs": [],
   "source": [
    "n_epochs, lf, params, optimizer, sched = get_hparams(tr_dl, model, metric_fc, lr=1e-5, n_epochs=8)"
   ]
  },
  {
   "cell_type": "markdown",
   "metadata": {},
   "source": [
    "for n, _ in model.named_parameters() :\n",
    "    print(n)"
   ]
  },
  {
   "cell_type": "code",
   "execution_count": 10,
   "metadata": {},
   "outputs": [],
   "source": [
    "mnp = list(model.named_parameters())\n",
    "\n",
    "start = ['model.visual.class_embedding', 'model.visual.positional_embedding', 'model.visual.conv1.weight',\n",
    "        'model.visual.ln_pre.weight', 'model.visual.ln_pre.bias']\n",
    "param_groups = [{'params' : [p for n,p in mnp if n in start]}]\n",
    "params_names = [n for n,p in mnp if n in start]\n",
    "\n",
    "n_blocks = 12\n",
    "for i in range(n_blocks):\n",
    "    ith_block = [p for n, p in mnp if f'resblocks.{i}.' in n]\n",
    "    ith_block_names = [n for n, p in mnp if f'resblocks.{i}.' in n] \n",
    "    param_groups.append({'params' : ith_block})\n",
    "    params_names += ith_block_names\n",
    "    \n",
    "end = ['model.visual.proj', 'model.visual.ln_post.weight', 'model.visual.ln_post.bias']\n",
    "param_groups.append({'params' : [p for n,p in mnp if n in end]})\n",
    "params_names += [n for n,p in mnp if n in end]\n",
    "\n",
    "param_groups.append({'params' : metric_fc.parameters()})"
   ]
  },
  {
   "cell_type": "code",
   "execution_count": 11,
   "metadata": {},
   "outputs": [
    {
     "name": "stdout",
     "output_type": "stream",
     "text": [
      "model.positional_embedding\n",
      "model.text_projection\n",
      "model.logit_scale\n",
      "model.token_embedding.weight\n",
      "model.ln_final.weight\n",
      "model.ln_final.bias\n"
     ]
    }
   ],
   "source": [
    "for n, p in model.named_parameters() :\n",
    "    if n not in params_names :\n",
    "        print(n)"
   ]
  },
  {
   "cell_type": "code",
   "execution_count": 12,
   "metadata": {},
   "outputs": [],
   "source": [
    "lf = nn.CrossEntropyLoss()\n",
    "optimizer = torch.optim.AdamW(param_groups, weight_decay = 1e-5)\n",
    "\n",
    "lr = list(np.linspace(5e-6,3e-4,len(param_groups)))\n",
    "\n",
    "n_epochs = 10\n",
    "sched = torch.optim.lr_scheduler.OneCycleLR(optimizer, max_lr=lr, pct_start=0.3,\n",
    "                                            total_steps=int(n_epochs * len(tr_dl)))"
   ]
  },
  {
   "cell_type": "code",
   "execution_count": 13,
   "metadata": {},
   "outputs": [],
   "source": [
    "loss_hist = []\n",
    "best_thr_score={'val': {'thr': None, 'f1': None}, 'train': {'thr': None, 'f1': None}}\n",
    "thr_score_hist=[]\n",
    "ep_start = 0\n",
    "save_path = 'data/clip/test_20ap_im'"
   ]
  },
  {
   "cell_type": "code",
   "execution_count": 14,
   "metadata": {
    "scrolled": true
   },
   "outputs": [
    {
     "data": {
      "application/vnd.jupyter.widget-view+json": {
       "model_id": "",
       "version_major": 2,
       "version_minor": 0
      },
      "text/plain": [
       "HBox(children=(FloatProgress(value=0.0, max=10.0), HTML(value='')))"
      ]
     },
     "metadata": {},
     "output_type": "display_data"
    },
    {
     "data": {
      "application/vnd.jupyter.widget-view+json": {
       "model_id": "",
       "version_major": 2,
       "version_minor": 0
      },
      "text/plain": [
       "HBox(children=(FloatProgress(value=0.0, max=164.0), HTML(value='')))"
      ]
     },
     "metadata": {},
     "output_type": "display_data"
    },
    {
     "data": {
      "application/vnd.jupyter.widget-view+json": {
       "model_id": "",
       "version_major": 2,
       "version_minor": 0
      },
      "text/plain": [
       "HBox(children=(FloatProgress(value=0.0, description='Thresholds', max=10.0, style=ProgressStyle(description_wi…"
      ]
     },
     "metadata": {},
     "output_type": "display_data"
    },
    {
     "name": "stdout",
     "output_type": "stream",
     "text": [
      "Checkpoint : saved model to data/clip/test_20ap_im_ep_0.pth\n"
     ]
    },
    {
     "data": {
      "application/vnd.jupyter.widget-view+json": {
       "model_id": "",
       "version_major": 2,
       "version_minor": 0
      },
      "text/plain": [
       "HBox(children=(FloatProgress(value=0.0, max=373.0), HTML(value='')))"
      ]
     },
     "metadata": {},
     "output_type": "display_data"
    },
    {
     "data": {
      "application/vnd.jupyter.widget-view+json": {
       "model_id": "",
       "version_major": 2,
       "version_minor": 0
      },
      "text/plain": [
       "HBox(children=(FloatProgress(value=0.0, description='Thresholds', max=10.0, style=ProgressStyle(description_wi…"
      ]
     },
     "metadata": {},
     "output_type": "display_data"
    },
    {
     "name": "stdout",
     "output_type": "stream",
     "text": [
      "Saved best model ep 0 with f score : 0.6560567367188737\n",
      "Ep 0: Train loss 9.6472 | Val f score 0.6561 with thresh 0.47, train f score 0.6313 with thresh 0.64\n"
     ]
    },
    {
     "data": {
      "application/vnd.jupyter.widget-view+json": {
       "model_id": "",
       "version_major": 2,
       "version_minor": 0
      },
      "text/plain": [
       "HBox(children=(FloatProgress(value=0.0, max=164.0), HTML(value='')))"
      ]
     },
     "metadata": {},
     "output_type": "display_data"
    },
    {
     "data": {
      "application/vnd.jupyter.widget-view+json": {
       "model_id": "",
       "version_major": 2,
       "version_minor": 0
      },
      "text/plain": [
       "HBox(children=(FloatProgress(value=0.0, description='Thresholds', max=5.0, style=ProgressStyle(description_wid…"
      ]
     },
     "metadata": {},
     "output_type": "display_data"
    },
    {
     "data": {
      "application/vnd.jupyter.widget-view+json": {
       "model_id": "",
       "version_major": 2,
       "version_minor": 0
      },
      "text/plain": [
       "HBox(children=(FloatProgress(value=0.0, max=373.0), HTML(value='')))"
      ]
     },
     "metadata": {},
     "output_type": "display_data"
    },
    {
     "data": {
      "application/vnd.jupyter.widget-view+json": {
       "model_id": "",
       "version_major": 2,
       "version_minor": 0
      },
      "text/plain": [
       "HBox(children=(FloatProgress(value=0.0, description='Thresholds', max=5.0, style=ProgressStyle(description_wid…"
      ]
     },
     "metadata": {},
     "output_type": "display_data"
    },
    {
     "name": "stdout",
     "output_type": "stream",
     "text": [
      "Saved best model ep 1 with f score : 0.658220134229311\n",
      "Ep 1: Train loss 8.9498 | Val f score 0.6582 with thresh 0.47, train f score 0.6663 with thresh 0.64\n"
     ]
    },
    {
     "data": {
      "application/vnd.jupyter.widget-view+json": {
       "model_id": "",
       "version_major": 2,
       "version_minor": 0
      },
      "text/plain": [
       "HBox(children=(FloatProgress(value=0.0, max=164.0), HTML(value='')))"
      ]
     },
     "metadata": {},
     "output_type": "display_data"
    },
    {
     "data": {
      "application/vnd.jupyter.widget-view+json": {
       "model_id": "",
       "version_major": 2,
       "version_minor": 0
      },
      "text/plain": [
       "HBox(children=(FloatProgress(value=0.0, description='Thresholds', max=5.0, style=ProgressStyle(description_wid…"
      ]
     },
     "metadata": {},
     "output_type": "display_data"
    },
    {
     "name": "stdout",
     "output_type": "stream",
     "text": [
      "Checkpoint : saved model to data/clip/test_20ap_im_ep_2.pth\n"
     ]
    },
    {
     "data": {
      "application/vnd.jupyter.widget-view+json": {
       "model_id": "",
       "version_major": 2,
       "version_minor": 0
      },
      "text/plain": [
       "HBox(children=(FloatProgress(value=0.0, max=373.0), HTML(value='')))"
      ]
     },
     "metadata": {},
     "output_type": "display_data"
    },
    {
     "data": {
      "application/vnd.jupyter.widget-view+json": {
       "model_id": "",
       "version_major": 2,
       "version_minor": 0
      },
      "text/plain": [
       "HBox(children=(FloatProgress(value=0.0, description='Thresholds', max=5.0, style=ProgressStyle(description_wid…"
      ]
     },
     "metadata": {},
     "output_type": "display_data"
    },
    {
     "name": "stdout",
     "output_type": "stream",
     "text": [
      "Saved best model ep 2 with f score : 0.6675442911513282\n",
      "Ep 2: Train loss 8.3158 | Val f score 0.6675 with thresh 0.47, train f score 0.6928 with thresh 0.69\n"
     ]
    },
    {
     "data": {
      "application/vnd.jupyter.widget-view+json": {
       "model_id": "",
       "version_major": 2,
       "version_minor": 0
      },
      "text/plain": [
       "HBox(children=(FloatProgress(value=0.0, max=164.0), HTML(value='')))"
      ]
     },
     "metadata": {},
     "output_type": "display_data"
    },
    {
     "data": {
      "application/vnd.jupyter.widget-view+json": {
       "model_id": "",
       "version_major": 2,
       "version_minor": 0
      },
      "text/plain": [
       "HBox(children=(FloatProgress(value=0.0, description='Thresholds', max=5.0, style=ProgressStyle(description_wid…"
      ]
     },
     "metadata": {},
     "output_type": "display_data"
    },
    {
     "data": {
      "application/vnd.jupyter.widget-view+json": {
       "model_id": "",
       "version_major": 2,
       "version_minor": 0
      },
      "text/plain": [
       "HBox(children=(FloatProgress(value=0.0, max=373.0), HTML(value='')))"
      ]
     },
     "metadata": {},
     "output_type": "display_data"
    },
    {
     "data": {
      "application/vnd.jupyter.widget-view+json": {
       "model_id": "",
       "version_major": 2,
       "version_minor": 0
      },
      "text/plain": [
       "HBox(children=(FloatProgress(value=0.0, description='Thresholds', max=5.0, style=ProgressStyle(description_wid…"
      ]
     },
     "metadata": {},
     "output_type": "display_data"
    },
    {
     "name": "stdout",
     "output_type": "stream",
     "text": [
      "Saved best model ep 3 with f score : 0.6737946209459528\n",
      "Ep 3: Train loss 6.8196 | Val f score 0.6738 with thresh 0.52, train f score 0.7576 with thresh 0.69\n"
     ]
    },
    {
     "data": {
      "application/vnd.jupyter.widget-view+json": {
       "model_id": "",
       "version_major": 2,
       "version_minor": 0
      },
      "text/plain": [
       "HBox(children=(FloatProgress(value=0.0, max=164.0), HTML(value='')))"
      ]
     },
     "metadata": {},
     "output_type": "display_data"
    },
    {
     "data": {
      "application/vnd.jupyter.widget-view+json": {
       "model_id": "",
       "version_major": 2,
       "version_minor": 0
      },
      "text/plain": [
       "HBox(children=(FloatProgress(value=0.0, description='Thresholds', max=5.0, style=ProgressStyle(description_wid…"
      ]
     },
     "metadata": {},
     "output_type": "display_data"
    },
    {
     "name": "stdout",
     "output_type": "stream",
     "text": [
      "Checkpoint : saved model to data/clip/test_20ap_im_ep_4.pth\n"
     ]
    },
    {
     "data": {
      "application/vnd.jupyter.widget-view+json": {
       "model_id": "",
       "version_major": 2,
       "version_minor": 0
      },
      "text/plain": [
       "HBox(children=(FloatProgress(value=0.0, max=373.0), HTML(value='')))"
      ]
     },
     "metadata": {},
     "output_type": "display_data"
    },
    {
     "data": {
      "application/vnd.jupyter.widget-view+json": {
       "model_id": "",
       "version_major": 2,
       "version_minor": 0
      },
      "text/plain": [
       "HBox(children=(FloatProgress(value=0.0, description='Thresholds', max=5.0, style=ProgressStyle(description_wid…"
      ]
     },
     "metadata": {},
     "output_type": "display_data"
    },
    {
     "name": "stdout",
     "output_type": "stream",
     "text": [
      "Ep 4: Train loss 4.8818 | Val f score 0.6716 with thresh 0.57, train f score 0.8440 with thresh 0.74\n"
     ]
    },
    {
     "data": {
      "application/vnd.jupyter.widget-view+json": {
       "model_id": "",
       "version_major": 2,
       "version_minor": 0
      },
      "text/plain": [
       "HBox(children=(FloatProgress(value=0.0, max=164.0), HTML(value='')))"
      ]
     },
     "metadata": {},
     "output_type": "display_data"
    },
    {
     "data": {
      "application/vnd.jupyter.widget-view+json": {
       "model_id": "",
       "version_major": 2,
       "version_minor": 0
      },
      "text/plain": [
       "HBox(children=(FloatProgress(value=0.0, description='Thresholds', max=5.0, style=ProgressStyle(description_wid…"
      ]
     },
     "metadata": {},
     "output_type": "display_data"
    },
    {
     "data": {
      "application/vnd.jupyter.widget-view+json": {
       "model_id": "",
       "version_major": 2,
       "version_minor": 0
      },
      "text/plain": [
       "HBox(children=(FloatProgress(value=0.0, max=373.0), HTML(value='')))"
      ]
     },
     "metadata": {},
     "output_type": "display_data"
    },
    {
     "data": {
      "application/vnd.jupyter.widget-view+json": {
       "model_id": "",
       "version_major": 2,
       "version_minor": 0
      },
      "text/plain": [
       "HBox(children=(FloatProgress(value=0.0, description='Thresholds', max=5.0, style=ProgressStyle(description_wid…"
      ]
     },
     "metadata": {},
     "output_type": "display_data"
    },
    {
     "name": "stdout",
     "output_type": "stream",
     "text": [
      "Saved best model ep 5 with f score : 0.6813593513285545\n",
      "Ep 5: Train loss 3.1572 | Val f score 0.6814 with thresh 0.62, train f score 0.9083 with thresh 0.74\n"
     ]
    },
    {
     "data": {
      "application/vnd.jupyter.widget-view+json": {
       "model_id": "",
       "version_major": 2,
       "version_minor": 0
      },
      "text/plain": [
       "HBox(children=(FloatProgress(value=0.0, max=164.0), HTML(value='')))"
      ]
     },
     "metadata": {},
     "output_type": "display_data"
    },
    {
     "data": {
      "application/vnd.jupyter.widget-view+json": {
       "model_id": "",
       "version_major": 2,
       "version_minor": 0
      },
      "text/plain": [
       "HBox(children=(FloatProgress(value=0.0, description='Thresholds', max=5.0, style=ProgressStyle(description_wid…"
      ]
     },
     "metadata": {},
     "output_type": "display_data"
    },
    {
     "name": "stdout",
     "output_type": "stream",
     "text": [
      "Checkpoint : saved model to data/clip/test_20ap_im_ep_6.pth\n"
     ]
    },
    {
     "data": {
      "application/vnd.jupyter.widget-view+json": {
       "model_id": "",
       "version_major": 2,
       "version_minor": 0
      },
      "text/plain": [
       "HBox(children=(FloatProgress(value=0.0, max=373.0), HTML(value='')))"
      ]
     },
     "metadata": {},
     "output_type": "display_data"
    },
    {
     "data": {
      "application/vnd.jupyter.widget-view+json": {
       "model_id": "",
       "version_major": 2,
       "version_minor": 0
      },
      "text/plain": [
       "HBox(children=(FloatProgress(value=0.0, description='Thresholds', max=5.0, style=ProgressStyle(description_wid…"
      ]
     },
     "metadata": {},
     "output_type": "display_data"
    },
    {
     "name": "stdout",
     "output_type": "stream",
     "text": [
      "Saved best model ep 6 with f score : 0.6935228412147199\n",
      "Ep 6: Train loss 1.8496 | Val f score 0.6935 with thresh 0.62, train f score 0.9537 with thresh 0.74\n"
     ]
    },
    {
     "data": {
      "application/vnd.jupyter.widget-view+json": {
       "model_id": "",
       "version_major": 2,
       "version_minor": 0
      },
      "text/plain": [
       "HBox(children=(FloatProgress(value=0.0, max=164.0), HTML(value='')))"
      ]
     },
     "metadata": {},
     "output_type": "display_data"
    },
    {
     "data": {
      "application/vnd.jupyter.widget-view+json": {
       "model_id": "",
       "version_major": 2,
       "version_minor": 0
      },
      "text/plain": [
       "HBox(children=(FloatProgress(value=0.0, description='Thresholds', max=5.0, style=ProgressStyle(description_wid…"
      ]
     },
     "metadata": {},
     "output_type": "display_data"
    },
    {
     "data": {
      "application/vnd.jupyter.widget-view+json": {
       "model_id": "",
       "version_major": 2,
       "version_minor": 0
      },
      "text/plain": [
       "HBox(children=(FloatProgress(value=0.0, max=373.0), HTML(value='')))"
      ]
     },
     "metadata": {},
     "output_type": "display_data"
    },
    {
     "data": {
      "application/vnd.jupyter.widget-view+json": {
       "model_id": "",
       "version_major": 2,
       "version_minor": 0
      },
      "text/plain": [
       "HBox(children=(FloatProgress(value=0.0, description='Thresholds', max=5.0, style=ProgressStyle(description_wid…"
      ]
     },
     "metadata": {},
     "output_type": "display_data"
    },
    {
     "name": "stdout",
     "output_type": "stream",
     "text": [
      "Ep 7: Train loss 1.0444 | Val f score 0.6927 with thresh 0.62, train f score 0.9763 with thresh 0.74\n"
     ]
    },
    {
     "data": {
      "application/vnd.jupyter.widget-view+json": {
       "model_id": "",
       "version_major": 2,
       "version_minor": 0
      },
      "text/plain": [
       "HBox(children=(FloatProgress(value=0.0, max=164.0), HTML(value='')))"
      ]
     },
     "metadata": {},
     "output_type": "display_data"
    },
    {
     "data": {
      "application/vnd.jupyter.widget-view+json": {
       "model_id": "",
       "version_major": 2,
       "version_minor": 0
      },
      "text/plain": [
       "HBox(children=(FloatProgress(value=0.0, description='Thresholds', max=5.0, style=ProgressStyle(description_wid…"
      ]
     },
     "metadata": {},
     "output_type": "display_data"
    },
    {
     "name": "stdout",
     "output_type": "stream",
     "text": [
      "Checkpoint : saved model to data/clip/test_20ap_im_ep_8.pth\n"
     ]
    },
    {
     "data": {
      "application/vnd.jupyter.widget-view+json": {
       "model_id": "",
       "version_major": 2,
       "version_minor": 0
      },
      "text/plain": [
       "HBox(children=(FloatProgress(value=0.0, max=373.0), HTML(value='')))"
      ]
     },
     "metadata": {},
     "output_type": "display_data"
    },
    {
     "data": {
      "application/vnd.jupyter.widget-view+json": {
       "model_id": "",
       "version_major": 2,
       "version_minor": 0
      },
      "text/plain": [
       "HBox(children=(FloatProgress(value=0.0, description='Thresholds', max=5.0, style=ProgressStyle(description_wid…"
      ]
     },
     "metadata": {},
     "output_type": "display_data"
    },
    {
     "name": "stdout",
     "output_type": "stream",
     "text": [
      "Saved best model ep 8 with f score : 0.6938382306243026\n",
      "Ep 8: Train loss 0.6298 | Val f score 0.6938 with thresh 0.62, train f score 0.9877 with thresh 0.69\n"
     ]
    },
    {
     "data": {
      "application/vnd.jupyter.widget-view+json": {
       "model_id": "",
       "version_major": 2,
       "version_minor": 0
      },
      "text/plain": [
       "HBox(children=(FloatProgress(value=0.0, max=164.0), HTML(value='')))"
      ]
     },
     "metadata": {},
     "output_type": "display_data"
    },
    {
     "data": {
      "application/vnd.jupyter.widget-view+json": {
       "model_id": "",
       "version_major": 2,
       "version_minor": 0
      },
      "text/plain": [
       "HBox(children=(FloatProgress(value=0.0, description='Thresholds', max=5.0, style=ProgressStyle(description_wid…"
      ]
     },
     "metadata": {},
     "output_type": "display_data"
    },
    {
     "data": {
      "application/vnd.jupyter.widget-view+json": {
       "model_id": "",
       "version_major": 2,
       "version_minor": 0
      },
      "text/plain": [
       "HBox(children=(FloatProgress(value=0.0, max=373.0), HTML(value='')))"
      ]
     },
     "metadata": {},
     "output_type": "display_data"
    },
    {
     "data": {
      "application/vnd.jupyter.widget-view+json": {
       "model_id": "",
       "version_major": 2,
       "version_minor": 0
      },
      "text/plain": [
       "HBox(children=(FloatProgress(value=0.0, description='Thresholds', max=5.0, style=ProgressStyle(description_wid…"
      ]
     },
     "metadata": {},
     "output_type": "display_data"
    },
    {
     "name": "stdout",
     "output_type": "stream",
     "text": [
      "Saved best model ep 9 with f score : 0.6943899229626291\n",
      "Ep 9: Train loss 0.5154 | Val f score 0.6944 with thresh 0.62, train f score 0.9899 with thresh 0.69\n",
      "\r"
     ]
    }
   ],
   "source": [
    "best_thr_score, thr_score_hist, losses = train(model, optimizer, lf, sched, metric_fc, tr_dl, val_dl,\n",
    "                                               n_epochs, train_df, val_df, train_tfms, val_tfms, \n",
    "                                               save_path=save_path, \n",
    "                                               prev_best_info=best_thr_score, info_history=thr_score_hist,\n",
    "                                               ep_start=ep_start, half_precision=True)\n",
    "loss_hist.append(losses)\n",
    "ep_start += n_epochs"
   ]
  },
  {
   "cell_type": "code",
   "execution_count": 15,
   "metadata": {},
   "outputs": [
    {
     "data": {
      "image/png": "[encoded data removed]",
      "text/plain": [
       "<Figure size 432x288 with 1 Axes>"
      ]
     },
     "metadata": {
      "needs_background": "light"
     },
     "output_type": "display_data"
    },
    {
     "data": {
      "image/png": "[encoded data removed]",
      "text/plain": [
       "<Figure size 432x288 with 1 Axes>"
      ]
     },
     "metadata": {
      "needs_background": "light"
     },
     "output_type": "display_data"
    }
   ],
   "source": [
    "plot_hist(thr_score_hist)"
   ]
  },
  {
   "cell_type": "markdown",
   "metadata": {},
   "source": [
    "### Train test resnet50"
   ]
  },
  {
   "cell_type": "code",
   "execution_count": 1,
   "metadata": {},
   "outputs": [],
   "source": [
    "from utils import load_data\n",
    "from image_train.data import create_dl, ImageDS\n",
    "from image_train.model import EMBRes\n",
    "from arcface import ArcMarginProduct, compute_centers\n",
    "from clip_.train import *\n",
    "import matplotlib.pyplot as plt\n",
    "import clip\n",
    "np.random.seed(1337)\n",
    "device = torch.device('cuda')"
   ]
  },
  {
   "cell_type": "code",
   "execution_count": 2,
   "metadata": {},
   "outputs": [],
   "source": [
    "df, train_df, val_df, train_labels, val_labels = load_data(train_perc=0.3)"
   ]
  },
  {
   "cell_type": "code",
   "execution_count": 26,
   "metadata": {},
   "outputs": [],
   "source": [
    "# creating dataloaders\n",
    "small_images_dir_train = 'data/small_train_images_250/'\n",
    "small_images_dir_val = 'data/small_train_images_224/'\n",
    "bs = 32\n",
    "\n",
    "tr_dl = create_dl(train_df, small_images_dir_train, batch_size=bs)\n",
    "tr_test_dl = create_dl(train_df, small_images_dir_val, shuffle=False, batch_size=bs)\n",
    "val_dl = create_dl(val_df, small_images_dir_val, shuffle=False, batch_size=bs)\n",
    "#full_dl = create_dl(df, small_images_dir, shuffle=False)"
   ]
  },
  {
   "cell_type": "code",
   "execution_count": 27,
   "metadata": {},
   "outputs": [],
   "source": [
    "class CLIPImg(torch.nn.Module) :\n",
    "    def __init__(self, model_name=\"RN50\", device='cuda') :\n",
    "        super().__init__()\n",
    "        self.model = clip.load(model_name, device=device, jit=False)[0]\n",
    "    def forward(self, imgs) :\n",
    "        return self.model.encode_image(imgs)"
   ]
  },
  {
   "cell_type": "code",
   "execution_count": 28,
   "metadata": {},
   "outputs": [],
   "source": [
    "model = CLIPImg()\n",
    "train_tfms, val_tfms = get_tfms(crop=224)"
   ]
  },
  {
   "cell_type": "markdown",
   "metadata": {
    "scrolled": true
   },
   "source": [
    "centers = compute_centers(tr_test_dl, model, val_tfms, train_df)\n",
    "torch.save(centers, 'data/clip/centers_im_0.3_res50.pth')"
   ]
  },
  {
   "cell_type": "code",
   "execution_count": 6,
   "metadata": {},
   "outputs": [],
   "source": [
    "centers = torch.load('data/clip/centers_im_0.3_res50.pth')"
   ]
  },
  {
   "cell_type": "code",
   "execution_count": 7,
   "metadata": {},
   "outputs": [
    {
     "name": "stdout",
     "output_type": "stream",
     "text": [
      "Using center as wieghts\n"
     ]
    }
   ],
   "source": [
    "metric_fc = ArcMarginProduct(512, train_df['label_group'].nunique(), \n",
    "                             s=30, m=0.5, easy_margin=False, centers=centers, half=True).to(device)"
   ]
  },
  {
   "cell_type": "code",
   "execution_count": 8,
   "metadata": {},
   "outputs": [],
   "source": [
    "n_epochs, lf, params, optimizer, sched = get_hparams(tr_dl, model, metric_fc, lr=1e-5, n_epochs=10)"
   ]
  },
  {
   "cell_type": "markdown",
   "metadata": {},
   "source": [
    "for n, _ in model.named_parameters() :\n",
    "    print(n)"
   ]
  },
  {
   "cell_type": "code",
   "execution_count": 9,
   "metadata": {},
   "outputs": [],
   "source": [
    "mnp = list(model.named_parameters())\n",
    "\n",
    "param_groups = [{'params' : [p for n,p in mnp if 'embeddings' in n]}]\n",
    "\n",
    "params_names = []\n",
    "n_blocks = 5\n",
    "for i in range(n_blocks):\n",
    "    ith_block = [p for n, p in mnp if f'layer{i}.' in n]\n",
    "    ith_block_name = [n for n, p in mnp if f'layer{i}.' in n]\n",
    "    params_names += ith_block_name\n",
    "    param_groups.append({'params' : ith_block})\n",
    "    \n",
    "param_groups.append({'params' : [p for n,p in mnp if 'attnpool'in n]})\n",
    "params_names += [n for n,p in mnp if 'attnpool' in n]\n",
    "\n",
    "param_groups.append({'params' : metric_fc.parameters()})\n"
   ]
  },
  {
   "cell_type": "markdown",
   "metadata": {},
   "source": [
    "for n, p in model.named_parameters() :\n",
    "    if n not in params_names :\n",
    "        print(n)"
   ]
  },
  {
   "cell_type": "code",
   "execution_count": 10,
   "metadata": {},
   "outputs": [],
   "source": [
    "lf = nn.CrossEntropyLoss()\n",
    "optimizer = torch.optim.AdamW(param_groups, weight_decay = 1e-5)\n",
    "\n",
    "lr = list(np.linspace(1e-5,5e-4,len(param_groups)))\n",
    "\n",
    "n_epochs = 10\n",
    "sched = torch.optim.lr_scheduler.OneCycleLR(optimizer, max_lr=lr, pct_start=0.3,\n",
    "                                            total_steps=int(n_epochs * len(tr_dl)))"
   ]
  },
  {
   "cell_type": "code",
   "execution_count": 11,
   "metadata": {},
   "outputs": [],
   "source": [
    "loss_hist = []\n",
    "best_thr_score={'val': {'thr': None, 'f1': None}, 'train': {'thr': None, 'f1': None}}\n",
    "thr_score_hist=[]\n",
    "ep_start = 0\n",
    "save_path = 'data/clip/test_20ap_im_res50'"
   ]
  },
  {
   "cell_type": "code",
   "execution_count": 12,
   "metadata": {
    "scrolled": true
   },
   "outputs": [
    {
     "data": {
      "application/vnd.jupyter.widget-view+json": {
       "model_id": "",
       "version_major": 2,
       "version_minor": 0
      },
      "text/plain": [
       "HBox(children=(FloatProgress(value=0.0, max=10.0), HTML(value='')))"
      ]
     },
     "metadata": {},
     "output_type": "display_data"
    },
    {
     "data": {
      "application/vnd.jupyter.widget-view+json": {
       "model_id": "",
       "version_major": 2,
       "version_minor": 0
      },
      "text/plain": [
       "HBox(children=(FloatProgress(value=0.0, max=327.0), HTML(value='')))"
      ]
     },
     "metadata": {},
     "output_type": "display_data"
    },
    {
     "data": {
      "application/vnd.jupyter.widget-view+json": {
       "model_id": "",
       "version_major": 2,
       "version_minor": 0
      },
      "text/plain": [
       "HBox(children=(FloatProgress(value=0.0, description='Thresholds', max=10.0, style=ProgressStyle(description_wi…"
      ]
     },
     "metadata": {},
     "output_type": "display_data"
    },
    {
     "name": "stdout",
     "output_type": "stream",
     "text": [
      "Checkpoint : saved model to data/clip/test_20ap_im_res50_ep_0.pth\n"
     ]
    },
    {
     "data": {
      "application/vnd.jupyter.widget-view+json": {
       "model_id": "",
       "version_major": 2,
       "version_minor": 0
      },
      "text/plain": [
       "HBox(children=(FloatProgress(value=0.0, max=745.0), HTML(value='')))"
      ]
     },
     "metadata": {},
     "output_type": "display_data"
    },
    {
     "data": {
      "application/vnd.jupyter.widget-view+json": {
       "model_id": "",
       "version_major": 2,
       "version_minor": 0
      },
      "text/plain": [
       "HBox(children=(FloatProgress(value=0.0, description='Thresholds', max=10.0, style=ProgressStyle(description_wi…"
      ]
     },
     "metadata": {},
     "output_type": "display_data"
    },
    {
     "name": "stdout",
     "output_type": "stream",
     "text": [
      "Saved best model ep 0 with f score : 0.5923946402416435\n",
      "Ep 0: Train loss 14.7105 | Val f score 0.5924 with thresh 0.29, train f score 0.4926 with thresh 0.56\n"
     ]
    },
    {
     "data": {
      "application/vnd.jupyter.widget-view+json": {
       "model_id": "",
       "version_major": 2,
       "version_minor": 0
      },
      "text/plain": [
       "HBox(children=(FloatProgress(value=0.0, max=327.0), HTML(value='')))"
      ]
     },
     "metadata": {},
     "output_type": "display_data"
    },
    {
     "data": {
      "application/vnd.jupyter.widget-view+json": {
       "model_id": "",
       "version_major": 2,
       "version_minor": 0
      },
      "text/plain": [
       "HBox(children=(FloatProgress(value=0.0, description='Thresholds', max=5.0, style=ProgressStyle(description_wid…"
      ]
     },
     "metadata": {},
     "output_type": "display_data"
    },
    {
     "data": {
      "application/vnd.jupyter.widget-view+json": {
       "model_id": "",
       "version_major": 2,
       "version_minor": 0
      },
      "text/plain": [
       "HBox(children=(FloatProgress(value=0.0, max=745.0), HTML(value='')))"
      ]
     },
     "metadata": {},
     "output_type": "display_data"
    },
    {
     "data": {
      "application/vnd.jupyter.widget-view+json": {
       "model_id": "",
       "version_major": 2,
       "version_minor": 0
      },
      "text/plain": [
       "HBox(children=(FloatProgress(value=0.0, description='Thresholds', max=5.0, style=ProgressStyle(description_wid…"
      ]
     },
     "metadata": {},
     "output_type": "display_data"
    },
    {
     "name": "stdout",
     "output_type": "stream",
     "text": [
      "Saved best model ep 1 with f score : 0.6219290318389071\n",
      "Ep 1: Train loss 13.0619 | Val f score 0.6219 with thresh 0.34, train f score 0.4755 with thresh 0.56\n"
     ]
    },
    {
     "data": {
      "application/vnd.jupyter.widget-view+json": {
       "model_id": "",
       "version_major": 2,
       "version_minor": 0
      },
      "text/plain": [
       "HBox(children=(FloatProgress(value=0.0, max=327.0), HTML(value='')))"
      ]
     },
     "metadata": {},
     "output_type": "display_data"
    },
    {
     "data": {
      "application/vnd.jupyter.widget-view+json": {
       "model_id": "",
       "version_major": 2,
       "version_minor": 0
      },
      "text/plain": [
       "HBox(children=(FloatProgress(value=0.0, description='Thresholds', max=5.0, style=ProgressStyle(description_wid…"
      ]
     },
     "metadata": {},
     "output_type": "display_data"
    },
    {
     "name": "stdout",
     "output_type": "stream",
     "text": [
      "Checkpoint : saved model to data/clip/test_20ap_im_res50_ep_2.pth\n"
     ]
    },
    {
     "data": {
      "application/vnd.jupyter.widget-view+json": {
       "model_id": "",
       "version_major": 2,
       "version_minor": 0
      },
      "text/plain": [
       "HBox(children=(FloatProgress(value=0.0, max=745.0), HTML(value='')))"
      ]
     },
     "metadata": {},
     "output_type": "display_data"
    },
    {
     "data": {
      "application/vnd.jupyter.widget-view+json": {
       "model_id": "",
       "version_major": 2,
       "version_minor": 0
      },
      "text/plain": [
       "HBox(children=(FloatProgress(value=0.0, description='Thresholds', max=5.0, style=ProgressStyle(description_wid…"
      ]
     },
     "metadata": {},
     "output_type": "display_data"
    },
    {
     "name": "stdout",
     "output_type": "stream",
     "text": [
      "Saved best model ep 2 with f score : 0.6336896602294358\n",
      "Ep 2: Train loss 11.6626 | Val f score 0.6337 with thresh 0.44, train f score 0.5413 with thresh 0.66\n"
     ]
    },
    {
     "data": {
      "application/vnd.jupyter.widget-view+json": {
       "model_id": "",
       "version_major": 2,
       "version_minor": 0
      },
      "text/plain": [
       "HBox(children=(FloatProgress(value=0.0, max=327.0), HTML(value='')))"
      ]
     },
     "metadata": {},
     "output_type": "display_data"
    },
    {
     "data": {
      "application/vnd.jupyter.widget-view+json": {
       "model_id": "",
       "version_major": 2,
       "version_minor": 0
      },
      "text/plain": [
       "HBox(children=(FloatProgress(value=0.0, description='Thresholds', max=5.0, style=ProgressStyle(description_wid…"
      ]
     },
     "metadata": {},
     "output_type": "display_data"
    },
    {
     "data": {
      "application/vnd.jupyter.widget-view+json": {
       "model_id": "",
       "version_major": 2,
       "version_minor": 0
      },
      "text/plain": [
       "HBox(children=(FloatProgress(value=0.0, max=745.0), HTML(value='')))"
      ]
     },
     "metadata": {},
     "output_type": "display_data"
    },
    {
     "data": {
      "application/vnd.jupyter.widget-view+json": {
       "model_id": "",
       "version_major": 2,
       "version_minor": 0
      },
      "text/plain": [
       "HBox(children=(FloatProgress(value=0.0, description='Thresholds', max=5.0, style=ProgressStyle(description_wid…"
      ]
     },
     "metadata": {},
     "output_type": "display_data"
    },
    {
     "name": "stdout",
     "output_type": "stream",
     "text": [
      "Saved best model ep 3 with f score : 0.6588727139419738\n",
      "Ep 3: Train loss 9.4484 | Val f score 0.6589 with thresh 0.49, train f score 0.6547 with thresh 0.76\n"
     ]
    },
    {
     "data": {
      "application/vnd.jupyter.widget-view+json": {
       "model_id": "",
       "version_major": 2,
       "version_minor": 0
      },
      "text/plain": [
       "HBox(children=(FloatProgress(value=0.0, max=327.0), HTML(value='')))"
      ]
     },
     "metadata": {},
     "output_type": "display_data"
    },
    {
     "data": {
      "application/vnd.jupyter.widget-view+json": {
       "model_id": "",
       "version_major": 2,
       "version_minor": 0
      },
      "text/plain": [
       "HBox(children=(FloatProgress(value=0.0, description='Thresholds', max=5.0, style=ProgressStyle(description_wid…"
      ]
     },
     "metadata": {},
     "output_type": "display_data"
    },
    {
     "name": "stdout",
     "output_type": "stream",
     "text": [
      "Checkpoint : saved model to data/clip/test_20ap_im_res50_ep_4.pth\n"
     ]
    },
    {
     "data": {
      "application/vnd.jupyter.widget-view+json": {
       "model_id": "",
       "version_major": 2,
       "version_minor": 0
      },
      "text/plain": [
       "HBox(children=(FloatProgress(value=0.0, max=745.0), HTML(value='')))"
      ]
     },
     "metadata": {},
     "output_type": "display_data"
    },
    {
     "data": {
      "application/vnd.jupyter.widget-view+json": {
       "model_id": "",
       "version_major": 2,
       "version_minor": 0
      },
      "text/plain": [
       "HBox(children=(FloatProgress(value=0.0, description='Thresholds', max=5.0, style=ProgressStyle(description_wid…"
      ]
     },
     "metadata": {},
     "output_type": "display_data"
    },
    {
     "name": "stdout",
     "output_type": "stream",
     "text": [
      "Saved best model ep 4 with f score : 0.6766706201743063\n",
      "Ep 4: Train loss 7.0888 | Val f score 0.6767 with thresh 0.59, train f score 0.7428 with thresh 0.76\n"
     ]
    },
    {
     "data": {
      "application/vnd.jupyter.widget-view+json": {
       "model_id": "",
       "version_major": 2,
       "version_minor": 0
      },
      "text/plain": [
       "HBox(children=(FloatProgress(value=0.0, max=327.0), HTML(value='')))"
      ]
     },
     "metadata": {},
     "output_type": "display_data"
    },
    {
     "data": {
      "application/vnd.jupyter.widget-view+json": {
       "model_id": "",
       "version_major": 2,
       "version_minor": 0
      },
      "text/plain": [
       "HBox(children=(FloatProgress(value=0.0, description='Thresholds', max=5.0, style=ProgressStyle(description_wid…"
      ]
     },
     "metadata": {},
     "output_type": "display_data"
    },
    {
     "data": {
      "application/vnd.jupyter.widget-view+json": {
       "model_id": "",
       "version_major": 2,
       "version_minor": 0
      },
      "text/plain": [
       "HBox(children=(FloatProgress(value=0.0, max=745.0), HTML(value='')))"
      ]
     },
     "metadata": {},
     "output_type": "display_data"
    },
    {
     "data": {
      "application/vnd.jupyter.widget-view+json": {
       "model_id": "",
       "version_major": 2,
       "version_minor": 0
      },
      "text/plain": [
       "HBox(children=(FloatProgress(value=0.0, description='Thresholds', max=5.0, style=ProgressStyle(description_wid…"
      ]
     },
     "metadata": {},
     "output_type": "display_data"
    },
    {
     "name": "stdout",
     "output_type": "stream",
     "text": [
      "Saved best model ep 5 with f score : 0.6884154413996265\n",
      "Ep 5: Train loss 5.1298 | Val f score 0.6884 with thresh 0.59, train f score 0.8078 with thresh 0.81\n"
     ]
    },
    {
     "data": {
      "application/vnd.jupyter.widget-view+json": {
       "model_id": "",
       "version_major": 2,
       "version_minor": 0
      },
      "text/plain": [
       "HBox(children=(FloatProgress(value=0.0, max=327.0), HTML(value='')))"
      ]
     },
     "metadata": {},
     "output_type": "display_data"
    },
    {
     "data": {
      "application/vnd.jupyter.widget-view+json": {
       "model_id": "",
       "version_major": 2,
       "version_minor": 0
      },
      "text/plain": [
       "HBox(children=(FloatProgress(value=0.0, description='Thresholds', max=5.0, style=ProgressStyle(description_wid…"
      ]
     },
     "metadata": {},
     "output_type": "display_data"
    },
    {
     "name": "stdout",
     "output_type": "stream",
     "text": [
      "Checkpoint : saved model to data/clip/test_20ap_im_res50_ep_6.pth\n"
     ]
    },
    {
     "data": {
      "application/vnd.jupyter.widget-view+json": {
       "model_id": "",
       "version_major": 2,
       "version_minor": 0
      },
      "text/plain": [
       "HBox(children=(FloatProgress(value=0.0, max=745.0), HTML(value='')))"
      ]
     },
     "metadata": {},
     "output_type": "display_data"
    },
    {
     "data": {
      "application/vnd.jupyter.widget-view+json": {
       "model_id": "",
       "version_major": 2,
       "version_minor": 0
      },
      "text/plain": [
       "HBox(children=(FloatProgress(value=0.0, description='Thresholds', max=5.0, style=ProgressStyle(description_wid…"
      ]
     },
     "metadata": {},
     "output_type": "display_data"
    },
    {
     "name": "stdout",
     "output_type": "stream",
     "text": [
      "Saved best model ep 6 with f score : 0.6937082190002374\n",
      "Ep 6: Train loss 3.3783 | Val f score 0.6937 with thresh 0.64, train f score 0.8636 with thresh 0.81\n"
     ]
    },
    {
     "data": {
      "application/vnd.jupyter.widget-view+json": {
       "model_id": "",
       "version_major": 2,
       "version_minor": 0
      },
      "text/plain": [
       "HBox(children=(FloatProgress(value=0.0, max=327.0), HTML(value='')))"
      ]
     },
     "metadata": {},
     "output_type": "display_data"
    },
    {
     "data": {
      "application/vnd.jupyter.widget-view+json": {
       "model_id": "",
       "version_major": 2,
       "version_minor": 0
      },
      "text/plain": [
       "HBox(children=(FloatProgress(value=0.0, description='Thresholds', max=5.0, style=ProgressStyle(description_wid…"
      ]
     },
     "metadata": {},
     "output_type": "display_data"
    },
    {
     "data": {
      "application/vnd.jupyter.widget-view+json": {
       "model_id": "",
       "version_major": 2,
       "version_minor": 0
      },
      "text/plain": [
       "HBox(children=(FloatProgress(value=0.0, max=745.0), HTML(value='')))"
      ]
     },
     "metadata": {},
     "output_type": "display_data"
    },
    {
     "data": {
      "application/vnd.jupyter.widget-view+json": {
       "model_id": "",
       "version_major": 2,
       "version_minor": 0
      },
      "text/plain": [
       "HBox(children=(FloatProgress(value=0.0, description='Thresholds', max=5.0, style=ProgressStyle(description_wid…"
      ]
     },
     "metadata": {},
     "output_type": "display_data"
    },
    {
     "name": "stdout",
     "output_type": "stream",
     "text": [
      "Ep 7: Train loss 2.1293 | Val f score 0.6777 with thresh 0.64, train f score 0.9101 with thresh 0.86\n"
     ]
    },
    {
     "data": {
      "application/vnd.jupyter.widget-view+json": {
       "model_id": "",
       "version_major": 2,
       "version_minor": 0
      },
      "text/plain": [
       "HBox(children=(FloatProgress(value=0.0, max=327.0), HTML(value='')))"
      ]
     },
     "metadata": {},
     "output_type": "display_data"
    },
    {
     "data": {
      "application/vnd.jupyter.widget-view+json": {
       "model_id": "",
       "version_major": 2,
       "version_minor": 0
      },
      "text/plain": [
       "HBox(children=(FloatProgress(value=0.0, description='Thresholds', max=5.0, style=ProgressStyle(description_wid…"
      ]
     },
     "metadata": {},
     "output_type": "display_data"
    },
    {
     "name": "stdout",
     "output_type": "stream",
     "text": [
      "Checkpoint : saved model to data/clip/test_20ap_im_res50_ep_8.pth\n"
     ]
    },
    {
     "data": {
      "application/vnd.jupyter.widget-view+json": {
       "model_id": "",
       "version_major": 2,
       "version_minor": 0
      },
      "text/plain": [
       "HBox(children=(FloatProgress(value=0.0, max=745.0), HTML(value='')))"
      ]
     },
     "metadata": {},
     "output_type": "display_data"
    },
    {
     "data": {
      "application/vnd.jupyter.widget-view+json": {
       "model_id": "",
       "version_major": 2,
       "version_minor": 0
      },
      "text/plain": [
       "HBox(children=(FloatProgress(value=0.0, description='Thresholds', max=5.0, style=ProgressStyle(description_wid…"
      ]
     },
     "metadata": {},
     "output_type": "display_data"
    },
    {
     "name": "stdout",
     "output_type": "stream",
     "text": [
      "Saved best model ep 8 with f score : 0.7024859165653851\n",
      "Ep 8: Train loss 1.3773 | Val f score 0.7025 with thresh 0.69, train f score 0.9408 with thresh 0.81\n"
     ]
    },
    {
     "data": {
      "application/vnd.jupyter.widget-view+json": {
       "model_id": "",
       "version_major": 2,
       "version_minor": 0
      },
      "text/plain": [
       "HBox(children=(FloatProgress(value=0.0, max=327.0), HTML(value='')))"
      ]
     },
     "metadata": {},
     "output_type": "display_data"
    },
    {
     "data": {
      "application/vnd.jupyter.widget-view+json": {
       "model_id": "",
       "version_major": 2,
       "version_minor": 0
      },
      "text/plain": [
       "HBox(children=(FloatProgress(value=0.0, description='Thresholds', max=5.0, style=ProgressStyle(description_wid…"
      ]
     },
     "metadata": {},
     "output_type": "display_data"
    },
    {
     "data": {
      "application/vnd.jupyter.widget-view+json": {
       "model_id": "",
       "version_major": 2,
       "version_minor": 0
      },
      "text/plain": [
       "HBox(children=(FloatProgress(value=0.0, max=745.0), HTML(value='')))"
      ]
     },
     "metadata": {},
     "output_type": "display_data"
    },
    {
     "data": {
      "application/vnd.jupyter.widget-view+json": {
       "model_id": "",
       "version_major": 2,
       "version_minor": 0
      },
      "text/plain": [
       "HBox(children=(FloatProgress(value=0.0, description='Thresholds', max=5.0, style=ProgressStyle(description_wid…"
      ]
     },
     "metadata": {},
     "output_type": "display_data"
    },
    {
     "name": "stdout",
     "output_type": "stream",
     "text": [
      "Ep 9: Train loss 1.0794 | Val f score 0.7024 with thresh 0.69, train f score 0.9532 with thresh 0.86\n",
      "\r"
     ]
    }
   ],
   "source": [
    "best_thr_score, thr_score_hist, losses = train(model, optimizer, lf, sched, metric_fc, tr_dl, val_dl,\n",
    "                                               n_epochs, train_df, val_df, train_tfms, val_tfms, \n",
    "                                               save_path=save_path, \n",
    "                                               prev_best_info=best_thr_score, info_history=thr_score_hist,\n",
    "                                               ep_start=ep_start, half_precision=True)\n",
    "loss_hist.append(losses)\n",
    "ep_start += n_epochs"
   ]
  },
  {
   "cell_type": "code",
   "execution_count": 13,
   "metadata": {},
   "outputs": [
    {
     "data": {
      "image/png": "[encoded data removed]",
      "text/plain": [
       "<Figure size 432x288 with 1 Axes>"
      ]
     },
     "metadata": {
      "needs_background": "light"
     },
     "output_type": "display_data"
    },
    {
     "data": {
      "image/png": "[encoded data removed]",
      "text/plain": [
       "<Figure size 432x288 with 1 Axes>"
      ]
     },
     "metadata": {
      "needs_background": "light"
     },
     "output_type": "display_data"
    }
   ],
   "source": [
    "plot_hist(thr_score_hist)"
   ]
  },
  {
   "cell_type": "markdown",
   "metadata": {},
   "source": [
    "### Effnetb0 (noclip)"
   ]
  },
  {
   "cell_type": "code",
   "execution_count": 16,
   "metadata": {},
   "outputs": [],
   "source": [
    "from imports import *\n",
    "from utils import load_data\n",
    "from image_train.data import create_dl, ImageDS\n",
    "from image_train.model import EMBRes\n",
    "from arcface import ArcMarginProduct, compute_centers\n",
    "from image_train.train import *\n",
    "import matplotlib.pyplot as plt\n",
    "np.random.seed(1337)\n",
    "device = torch.device('cuda')"
   ]
  },
  {
   "cell_type": "code",
   "execution_count": 17,
   "metadata": {},
   "outputs": [],
   "source": [
    "df, train_df, val_df, train_labels, val_labels = load_data(train_perc=0.3)"
   ]
  },
  {
   "cell_type": "code",
   "execution_count": 19,
   "metadata": {},
   "outputs": [],
   "source": [
    "# creating dataloaders\n",
    "small_images_dir_train = 'data/small_train_images_250/'\n",
    "small_images_dir_val = 'data/small_train_images_224/'\n",
    "bs = 32\n",
    "\n",
    "tr_dl = create_dl(train_df, small_images_dir_train, batch_size=bs)\n",
    "tr_test_dl = create_dl(train_df, small_images_dir_val, shuffle=False, batch_size=bs)\n",
    "val_dl = create_dl(val_df, small_images_dir_val, shuffle=False, batch_size=bs)\n",
    "#full_dl = create_dl(df, small_images_dir, shuffle=False)"
   ]
  },
  {
   "cell_type": "markdown",
   "metadata": {},
   "source": [
    "***Embeddings normalization is not done in the model but in the arcface metric***"
   ]
  },
  {
   "cell_type": "code",
   "execution_count": 22,
   "metadata": {},
   "outputs": [],
   "source": [
    "vision_model = 'efficientnet_b0'\n",
    "model = timm.create_model(vision_model, pretrained=True, num_classes=0).to('cuda')\n",
    "train_tfms, val_tfms = get_tfms(crop=224)"
   ]
  },
  {
   "cell_type": "code",
   "execution_count": 23,
   "metadata": {},
   "outputs": [
    {
     "data": {
      "application/vnd.jupyter.widget-view+json": {
       "model_id": "2452fba9bf36495ba3057c625a622016",
       "version_major": 2,
       "version_minor": 0
      },
      "text/plain": [
       "HBox(children=(FloatProgress(value=0.0, max=327.0), HTML(value='')))"
      ]
     },
     "metadata": {},
     "output_type": "display_data"
    },
    {
     "name": "stdout",
     "output_type": "stream",
     "text": [
      "\n"
     ]
    }
   ],
   "source": [
    "centers = compute_centers(tr_test_dl, model, val_tfms, train_df)\n",
    "torch.save(centers, 'data/clip/centers_im_0.3_effb0.pth')"
   ]
  },
  {
   "cell_type": "code",
   "execution_count": 24,
   "metadata": {},
   "outputs": [],
   "source": [
    "centers = torch.load('data/clip/centers_im_0.3_effb0.pth')"
   ]
  },
  {
   "cell_type": "code",
   "execution_count": 25,
   "metadata": {},
   "outputs": [
    {
     "name": "stdout",
     "output_type": "stream",
     "text": [
      "Using center as wieghts\n"
     ]
    }
   ],
   "source": [
    "metric_fc = ArcMarginProduct(2048, train_df['label_group'].nunique(), \n",
    "                             s=30, m=0.5, easy_margin=False, centers=centers).to(device)"
   ]
  },
  {
   "cell_type": "code",
   "execution_count": 8,
   "metadata": {},
   "outputs": [],
   "source": [
    "n_epochs, lf, params, optimizer, sched = get_hparams(tr_dl, model, metric_fc, lr=5e-4, n_epochs=15)"
   ]
  },
  {
   "cell_type": "markdown",
   "metadata": {},
   "source": [
    "for n, _ in model.named_parameters() :\n",
    "    print(n)"
   ]
  },
  {
   "cell_type": "code",
   "execution_count": 27,
   "metadata": {},
   "outputs": [],
   "source": [
    "mnp = list(model.named_parameters())\n",
    "\n",
    "start = ['bn1.weight', 'bn1.bias', 'conv_stem.weight']\n",
    "param_groups = [{'params' : [p for n,p in mnp if n in start]}]\n",
    "params_names = [n for n,p in mnp if n in start]\n",
    "\n",
    "n_blocks = 7\n",
    "for i in range(n_blocks):\n",
    "    ith_block = [p for n, p in mnp if f'blocks.{i}.' in n]\n",
    "    ith_block_names = [n for n, p in mnp if f'blocks.{i}.' in n] \n",
    "    param_groups.append({'params' : ith_block})\n",
    "    params_names += ith_block_names\n",
    "    \n",
    "end = ['bn2.weight', 'bn2.bias', 'conv_head.weight']\n",
    "param_groups.append({'params' : [p for n,p in mnp if n in end]})\n",
    "params_names += [n for n,p in mnp if n in end]\n",
    "\n",
    "param_groups.append({'params' : metric_fc.parameters()})\n"
   ]
  },
  {
   "cell_type": "markdown",
   "metadata": {},
   "source": [
    "for n, p in model.named_parameters() :\n",
    "    if n not in params_names :\n",
    "        print(n)"
   ]
  },
  {
   "cell_type": "code",
   "execution_count": 29,
   "metadata": {},
   "outputs": [],
   "source": [
    "lf = nn.CrossEntropyLoss()\n",
    "optimizer = torch.optim.AdamW(param_groups, weight_decay = 1e-5)\n",
    "\n",
    "lr = list(np.linspace(1e-5,5e-4,len(param_groups)))\n",
    "\n",
    "n_epochs = 10\n",
    "sched = torch.optim.lr_scheduler.OneCycleLR(optimizer, max_lr=lr, pct_start=0.3,\n",
    "                                            total_steps=int(n_epochs * len(tr_dl)))"
   ]
  },
  {
   "cell_type": "code",
   "execution_count": 30,
   "metadata": {},
   "outputs": [],
   "source": [
    "loss_hist = []\n",
    "best_thr_score={'val': {'thr': None, 'f1': None}, 'train': {'thr': None, 'f1': None}}\n",
    "thr_score_hist=[]\n",
    "ep_start = 0\n",
    "save_path = 'data/clip/test_20ap_im_effb0'"
   ]
  },
  {
   "cell_type": "code",
   "execution_count": 32,
   "metadata": {
    "scrolled": true
   },
   "outputs": [
    {
     "data": {
      "application/vnd.jupyter.widget-view+json": {
       "model_id": "",
       "version_major": 2,
       "version_minor": 0
      },
      "text/plain": [
       "HBox(children=(FloatProgress(value=0.0, max=10.0), HTML(value='')))"
      ]
     },
     "metadata": {},
     "output_type": "display_data"
    },
    {
     "data": {
      "application/vnd.jupyter.widget-view+json": {
       "model_id": "",
       "version_major": 2,
       "version_minor": 0
      },
      "text/plain": [
       "HBox(children=(FloatProgress(value=0.0, max=327.0), HTML(value='')))"
      ]
     },
     "metadata": {},
     "output_type": "display_data"
    },
    {
     "data": {
      "application/vnd.jupyter.widget-view+json": {
       "model_id": "",
       "version_major": 2,
       "version_minor": 0
      },
      "text/plain": [
       "HBox(children=(FloatProgress(value=0.0, description='Thresholds', max=10.0, style=ProgressStyle(description_wi…"
      ]
     },
     "metadata": {},
     "output_type": "display_data"
    },
    {
     "name": "stdout",
     "output_type": "stream",
     "text": [
      "Checkpoint : saved model to data/clip/test_20ap_im_effb0_ep_0.pth\n"
     ]
    },
    {
     "data": {
      "application/vnd.jupyter.widget-view+json": {
       "model_id": "",
       "version_major": 2,
       "version_minor": 0
      },
      "text/plain": [
       "HBox(children=(FloatProgress(value=0.0, max=745.0), HTML(value='')))"
      ]
     },
     "metadata": {},
     "output_type": "display_data"
    },
    {
     "data": {
      "application/vnd.jupyter.widget-view+json": {
       "model_id": "",
       "version_major": 2,
       "version_minor": 0
      },
      "text/plain": [
       "HBox(children=(FloatProgress(value=0.0, description='Thresholds', max=10.0, style=ProgressStyle(description_wi…"
      ]
     },
     "metadata": {},
     "output_type": "display_data"
    },
    {
     "name": "stdout",
     "output_type": "stream",
     "text": [
      "Saved best model ep 0 with f score : 0.6848369335744343\n",
      "Ep 0: Train loss 9.0092 | Val f score 0.6848 with thresh 0.91, train f score 0.6783 with thresh 1.00\n"
     ]
    },
    {
     "data": {
      "application/vnd.jupyter.widget-view+json": {
       "model_id": "",
       "version_major": 2,
       "version_minor": 0
      },
      "text/plain": [
       "HBox(children=(FloatProgress(value=0.0, max=327.0), HTML(value='')))"
      ]
     },
     "metadata": {},
     "output_type": "display_data"
    },
    {
     "data": {
      "application/vnd.jupyter.widget-view+json": {
       "model_id": "",
       "version_major": 2,
       "version_minor": 0
      },
      "text/plain": [
       "HBox(children=(FloatProgress(value=0.0, description='Thresholds', max=5.0, style=ProgressStyle(description_wid…"
      ]
     },
     "metadata": {},
     "output_type": "display_data"
    },
    {
     "data": {
      "application/vnd.jupyter.widget-view+json": {
       "model_id": "",
       "version_major": 2,
       "version_minor": 0
      },
      "text/plain": [
       "HBox(children=(FloatProgress(value=0.0, max=745.0), HTML(value='')))"
      ]
     },
     "metadata": {},
     "output_type": "display_data"
    },
    {
     "data": {
      "application/vnd.jupyter.widget-view+json": {
       "model_id": "",
       "version_major": 2,
       "version_minor": 0
      },
      "text/plain": [
       "HBox(children=(FloatProgress(value=0.0, description='Thresholds', max=5.0, style=ProgressStyle(description_wid…"
      ]
     },
     "metadata": {},
     "output_type": "display_data"
    },
    {
     "name": "stdout",
     "output_type": "stream",
     "text": [
      "Saved best model ep 1 with f score : 0.6926233519450762\n",
      "Ep 1: Train loss 7.2866 | Val f score 0.6926 with thresh 0.91, train f score 0.7174 with thresh 1.05\n"
     ]
    },
    {
     "data": {
      "application/vnd.jupyter.widget-view+json": {
       "model_id": "",
       "version_major": 2,
       "version_minor": 0
      },
      "text/plain": [
       "HBox(children=(FloatProgress(value=0.0, max=327.0), HTML(value='')))"
      ]
     },
     "metadata": {},
     "output_type": "display_data"
    },
    {
     "data": {
      "application/vnd.jupyter.widget-view+json": {
       "model_id": "",
       "version_major": 2,
       "version_minor": 0
      },
      "text/plain": [
       "HBox(children=(FloatProgress(value=0.0, description='Thresholds', max=5.0, style=ProgressStyle(description_wid…"
      ]
     },
     "metadata": {},
     "output_type": "display_data"
    },
    {
     "name": "stdout",
     "output_type": "stream",
     "text": [
      "Checkpoint : saved model to data/clip/test_20ap_im_effb0_ep_2.pth\n"
     ]
    },
    {
     "data": {
      "application/vnd.jupyter.widget-view+json": {
       "model_id": "",
       "version_major": 2,
       "version_minor": 0
      },
      "text/plain": [
       "HBox(children=(FloatProgress(value=0.0, max=745.0), HTML(value='')))"
      ]
     },
     "metadata": {},
     "output_type": "display_data"
    },
    {
     "data": {
      "application/vnd.jupyter.widget-view+json": {
       "model_id": "",
       "version_major": 2,
       "version_minor": 0
      },
      "text/plain": [
       "HBox(children=(FloatProgress(value=0.0, description='Thresholds', max=5.0, style=ProgressStyle(description_wid…"
      ]
     },
     "metadata": {},
     "output_type": "display_data"
    },
    {
     "name": "stdout",
     "output_type": "stream",
     "text": [
      "Saved best model ep 2 with f score : 0.6998781675319034\n",
      "Ep 2: Train loss 5.7266 | Val f score 0.6999 with thresh 0.96, train f score 0.7700 with thresh 1.05\n"
     ]
    },
    {
     "data": {
      "application/vnd.jupyter.widget-view+json": {
       "model_id": "",
       "version_major": 2,
       "version_minor": 0
      },
      "text/plain": [
       "HBox(children=(FloatProgress(value=0.0, max=327.0), HTML(value='')))"
      ]
     },
     "metadata": {},
     "output_type": "display_data"
    },
    {
     "data": {
      "application/vnd.jupyter.widget-view+json": {
       "model_id": "",
       "version_major": 2,
       "version_minor": 0
      },
      "text/plain": [
       "HBox(children=(FloatProgress(value=0.0, description='Thresholds', max=5.0, style=ProgressStyle(description_wid…"
      ]
     },
     "metadata": {},
     "output_type": "display_data"
    },
    {
     "data": {
      "application/vnd.jupyter.widget-view+json": {
       "model_id": "",
       "version_major": 2,
       "version_minor": 0
      },
      "text/plain": [
       "HBox(children=(FloatProgress(value=0.0, max=745.0), HTML(value='')))"
      ]
     },
     "metadata": {},
     "output_type": "display_data"
    },
    {
     "data": {
      "application/vnd.jupyter.widget-view+json": {
       "model_id": "",
       "version_major": 2,
       "version_minor": 0
      },
      "text/plain": [
       "HBox(children=(FloatProgress(value=0.0, description='Thresholds', max=5.0, style=ProgressStyle(description_wid…"
      ]
     },
     "metadata": {},
     "output_type": "display_data"
    },
    {
     "name": "stdout",
     "output_type": "stream",
     "text": [
      "Saved best model ep 3 with f score : 0.7069573718869007\n",
      "Ep 3: Train loss 4.2515 | Val f score 0.7070 with thresh 0.96, train f score 0.8153 with thresh 1.10\n"
     ]
    },
    {
     "data": {
      "application/vnd.jupyter.widget-view+json": {
       "model_id": "",
       "version_major": 2,
       "version_minor": 0
      },
      "text/plain": [
       "HBox(children=(FloatProgress(value=0.0, max=327.0), HTML(value='')))"
      ]
     },
     "metadata": {},
     "output_type": "display_data"
    },
    {
     "data": {
      "application/vnd.jupyter.widget-view+json": {
       "model_id": "",
       "version_major": 2,
       "version_minor": 0
      },
      "text/plain": [
       "HBox(children=(FloatProgress(value=0.0, description='Thresholds', max=5.0, style=ProgressStyle(description_wid…"
      ]
     },
     "metadata": {},
     "output_type": "display_data"
    },
    {
     "name": "stdout",
     "output_type": "stream",
     "text": [
      "Checkpoint : saved model to data/clip/test_20ap_im_effb0_ep_4.pth\n"
     ]
    },
    {
     "data": {
      "application/vnd.jupyter.widget-view+json": {
       "model_id": "",
       "version_major": 2,
       "version_minor": 0
      },
      "text/plain": [
       "HBox(children=(FloatProgress(value=0.0, max=745.0), HTML(value='')))"
      ]
     },
     "metadata": {},
     "output_type": "display_data"
    },
    {
     "data": {
      "application/vnd.jupyter.widget-view+json": {
       "model_id": "",
       "version_major": 2,
       "version_minor": 0
      },
      "text/plain": [
       "HBox(children=(FloatProgress(value=0.0, description='Thresholds', max=5.0, style=ProgressStyle(description_wid…"
      ]
     },
     "metadata": {},
     "output_type": "display_data"
    },
    {
     "name": "stdout",
     "output_type": "stream",
     "text": [
      "Saved best model ep 4 with f score : 0.7090681065426806\n",
      "Ep 4: Train loss 3.0850 | Val f score 0.7091 with thresh 0.96, train f score 0.8529 with thresh 1.10\n"
     ]
    },
    {
     "data": {
      "application/vnd.jupyter.widget-view+json": {
       "model_id": "",
       "version_major": 2,
       "version_minor": 0
      },
      "text/plain": [
       "HBox(children=(FloatProgress(value=0.0, max=327.0), HTML(value='')))"
      ]
     },
     "metadata": {},
     "output_type": "display_data"
    },
    {
     "data": {
      "application/vnd.jupyter.widget-view+json": {
       "model_id": "",
       "version_major": 2,
       "version_minor": 0
      },
      "text/plain": [
       "HBox(children=(FloatProgress(value=0.0, description='Thresholds', max=5.0, style=ProgressStyle(description_wid…"
      ]
     },
     "metadata": {},
     "output_type": "display_data"
    },
    {
     "data": {
      "application/vnd.jupyter.widget-view+json": {
       "model_id": "",
       "version_major": 2,
       "version_minor": 0
      },
      "text/plain": [
       "HBox(children=(FloatProgress(value=0.0, max=745.0), HTML(value='')))"
      ]
     },
     "metadata": {},
     "output_type": "display_data"
    },
    {
     "data": {
      "application/vnd.jupyter.widget-view+json": {
       "model_id": "",
       "version_major": 2,
       "version_minor": 0
      },
      "text/plain": [
       "HBox(children=(FloatProgress(value=0.0, description='Thresholds', max=5.0, style=ProgressStyle(description_wid…"
      ]
     },
     "metadata": {},
     "output_type": "display_data"
    },
    {
     "name": "stdout",
     "output_type": "stream",
     "text": [
      "Saved best model ep 5 with f score : 0.7098578800574555\n",
      "Ep 5: Train loss 2.1921 | Val f score 0.7099 with thresh 0.96, train f score 0.8826 with thresh 1.10\n"
     ]
    },
    {
     "data": {
      "application/vnd.jupyter.widget-view+json": {
       "model_id": "",
       "version_major": 2,
       "version_minor": 0
      },
      "text/plain": [
       "HBox(children=(FloatProgress(value=0.0, max=327.0), HTML(value='')))"
      ]
     },
     "metadata": {},
     "output_type": "display_data"
    },
    {
     "data": {
      "application/vnd.jupyter.widget-view+json": {
       "model_id": "",
       "version_major": 2,
       "version_minor": 0
      },
      "text/plain": [
       "HBox(children=(FloatProgress(value=0.0, description='Thresholds', max=5.0, style=ProgressStyle(description_wid…"
      ]
     },
     "metadata": {},
     "output_type": "display_data"
    },
    {
     "name": "stdout",
     "output_type": "stream",
     "text": [
      "Checkpoint : saved model to data/clip/test_20ap_im_effb0_ep_6.pth\n"
     ]
    },
    {
     "data": {
      "application/vnd.jupyter.widget-view+json": {
       "model_id": "",
       "version_major": 2,
       "version_minor": 0
      },
      "text/plain": [
       "HBox(children=(FloatProgress(value=0.0, max=745.0), HTML(value='')))"
      ]
     },
     "metadata": {},
     "output_type": "display_data"
    },
    {
     "data": {
      "application/vnd.jupyter.widget-view+json": {
       "model_id": "",
       "version_major": 2,
       "version_minor": 0
      },
      "text/plain": [
       "HBox(children=(FloatProgress(value=0.0, description='Thresholds', max=5.0, style=ProgressStyle(description_wid…"
      ]
     },
     "metadata": {},
     "output_type": "display_data"
    },
    {
     "name": "stdout",
     "output_type": "stream",
     "text": [
      "Saved best model ep 6 with f score : 0.7105623222975299\n",
      "Ep 6: Train loss 1.5107 | Val f score 0.7106 with thresh 0.96, train f score 0.9088 with thresh 1.10\n"
     ]
    },
    {
     "data": {
      "application/vnd.jupyter.widget-view+json": {
       "model_id": "",
       "version_major": 2,
       "version_minor": 0
      },
      "text/plain": [
       "HBox(children=(FloatProgress(value=0.0, max=327.0), HTML(value='')))"
      ]
     },
     "metadata": {},
     "output_type": "display_data"
    },
    {
     "data": {
      "application/vnd.jupyter.widget-view+json": {
       "model_id": "",
       "version_major": 2,
       "version_minor": 0
      },
      "text/plain": [
       "HBox(children=(FloatProgress(value=0.0, description='Thresholds', max=5.0, style=ProgressStyle(description_wid…"
      ]
     },
     "metadata": {},
     "output_type": "display_data"
    },
    {
     "data": {
      "application/vnd.jupyter.widget-view+json": {
       "model_id": "",
       "version_major": 2,
       "version_minor": 0
      },
      "text/plain": [
       "HBox(children=(FloatProgress(value=0.0, max=745.0), HTML(value='')))"
      ]
     },
     "metadata": {},
     "output_type": "display_data"
    },
    {
     "data": {
      "application/vnd.jupyter.widget-view+json": {
       "model_id": "",
       "version_major": 2,
       "version_minor": 0
      },
      "text/plain": [
       "HBox(children=(FloatProgress(value=0.0, description='Thresholds', max=5.0, style=ProgressStyle(description_wid…"
      ]
     },
     "metadata": {},
     "output_type": "display_data"
    },
    {
     "name": "stdout",
     "output_type": "stream",
     "text": [
      "Saved best model ep 7 with f score : 0.7110321206713394\n",
      "Ep 7: Train loss 1.0644 | Val f score 0.7110 with thresh 0.96, train f score 0.9277 with thresh 1.10\n"
     ]
    },
    {
     "data": {
      "application/vnd.jupyter.widget-view+json": {
       "model_id": "",
       "version_major": 2,
       "version_minor": 0
      },
      "text/plain": [
       "HBox(children=(FloatProgress(value=0.0, max=327.0), HTML(value='')))"
      ]
     },
     "metadata": {},
     "output_type": "display_data"
    },
    {
     "data": {
      "application/vnd.jupyter.widget-view+json": {
       "model_id": "",
       "version_major": 2,
       "version_minor": 0
      },
      "text/plain": [
       "HBox(children=(FloatProgress(value=0.0, description='Thresholds', max=5.0, style=ProgressStyle(description_wid…"
      ]
     },
     "metadata": {},
     "output_type": "display_data"
    },
    {
     "name": "stdout",
     "output_type": "stream",
     "text": [
      "Checkpoint : saved model to data/clip/test_20ap_im_effb0_ep_8.pth\n"
     ]
    },
    {
     "data": {
      "application/vnd.jupyter.widget-view+json": {
       "model_id": "",
       "version_major": 2,
       "version_minor": 0
      },
      "text/plain": [
       "HBox(children=(FloatProgress(value=0.0, max=745.0), HTML(value='')))"
      ]
     },
     "metadata": {},
     "output_type": "display_data"
    },
    {
     "data": {
      "application/vnd.jupyter.widget-view+json": {
       "model_id": "",
       "version_major": 2,
       "version_minor": 0
      },
      "text/plain": [
       "HBox(children=(FloatProgress(value=0.0, description='Thresholds', max=5.0, style=ProgressStyle(description_wid…"
      ]
     },
     "metadata": {},
     "output_type": "display_data"
    },
    {
     "name": "stdout",
     "output_type": "stream",
     "text": [
      "Ep 8: Train loss 0.8136 | Val f score 0.7108 with thresh 0.96, train f score 0.9385 with thresh 1.10\n"
     ]
    },
    {
     "data": {
      "application/vnd.jupyter.widget-view+json": {
       "model_id": "",
       "version_major": 2,
       "version_minor": 0
      },
      "text/plain": [
       "HBox(children=(FloatProgress(value=0.0, max=327.0), HTML(value='')))"
      ]
     },
     "metadata": {},
     "output_type": "display_data"
    },
    {
     "data": {
      "application/vnd.jupyter.widget-view+json": {
       "model_id": "",
       "version_major": 2,
       "version_minor": 0
      },
      "text/plain": [
       "HBox(children=(FloatProgress(value=0.0, description='Thresholds', max=5.0, style=ProgressStyle(description_wid…"
      ]
     },
     "metadata": {},
     "output_type": "display_data"
    },
    {
     "data": {
      "application/vnd.jupyter.widget-view+json": {
       "model_id": "",
       "version_major": 2,
       "version_minor": 0
      },
      "text/plain": [
       "HBox(children=(FloatProgress(value=0.0, max=745.0), HTML(value='')))"
      ]
     },
     "metadata": {},
     "output_type": "display_data"
    },
    {
     "data": {
      "application/vnd.jupyter.widget-view+json": {
       "model_id": "",
       "version_major": 2,
       "version_minor": 0
      },
      "text/plain": [
       "HBox(children=(FloatProgress(value=0.0, description='Thresholds', max=5.0, style=ProgressStyle(description_wid…"
      ]
     },
     "metadata": {},
     "output_type": "display_data"
    },
    {
     "name": "stdout",
     "output_type": "stream",
     "text": [
      "Saved best model ep 9 with f score : 0.7112635714411719\n",
      "Ep 9: Train loss 0.7459 | Val f score 0.7113 with thresh 0.96, train f score 0.9450 with thresh 1.10\n",
      "\r"
     ]
    }
   ],
   "source": [
    "best_thr_score, thr_score_hist, losses = train(model, optimizer, lf, sched, metric_fc, tr_dl, val_dl,\n",
    "                                               n_epochs, train_df, val_df, train_tfms, val_tfms, \n",
    "                                               save_path=save_path, \n",
    "                                               prev_best_info=best_thr_score, info_history=thr_score_hist,\n",
    "                                               ep_start=ep_start)\n",
    "loss_hist.append(losses)\n",
    "ep_start += n_epochs"
   ]
  },
  {
   "cell_type": "code",
   "execution_count": 9,
   "metadata": {},
   "outputs": [],
   "source": [
    "for n, _ in model.named_parameters() :\n",
    "    print(n)\n",
    "\n",
    "mnp = list(model.named_parameters())\n",
    "\n",
    "param_groups = [{'params' : [p for n,p in mnp if 'embeddings' in n]}]\n",
    "\n",
    "params_names = []\n",
    "n_blocks = 5\n",
    "for i in range(n_blocks):\n",
    "    ith_block = [p for n, p in mnp if f'layer{i}.' in n]\n",
    "    ith_block_name = [n for n, p in mnp if f'layer{i}.' in n]\n",
    "    params_names += ith_block_name\n",
    "    param_groups.append({'params' : ith_block})\n",
    "    \n",
    "param_groups.append({'params' : [p for n,p in mnp if 'attnpool'in n]})\n",
    "params_names += [n for n,p in mnp if 'attnpool' in n]\n",
    "\n",
    "param_groups.append({'params' : metric_fc.parameters()})\n",
    "\n",
    "\n",
    "for n, p in model.named_parameters() :\n",
    "    if n not in params_names :\n",
    "        print(n)\n",
    "\n",
    "lf = nn.CrossEntropyLoss()\n",
    "optimizer = torch.optim.AdamW(param_groups, weight_decay = 1e-5)\n",
    "\n",
    "lr = list(np.linspace(1e-5,5e-4,len(param_groups)))\n",
    "\n",
    "n_epochs = 10\n",
    "sched = torch.optim.lr_scheduler.OneCycleLR(optimizer, max_lr=lr, pct_start=0.3,\n",
    "                                            total_steps=int(n_epochs * len(tr_dl)))\n",
    "\n",
    "loss_hist = []\n",
    "best_thr_score={'val': {'thr': None, 'f1': None}, 'train': {'thr': None, 'f1': None}}\n",
    "thr_score_hist=[]\n",
    "ep_start = 0\n",
    "save_path = 'data/clip/test_20ap_im_res50'\n",
    "\n",
    "best_thr_score, thr_score_hist, losses = train(model, optimizer, lf, sched, metric_fc, tr_dl, val_dl,\n",
    "                                               n_epochs, train_df, val_df, train_tfms, val_tfms, \n",
    "                                               save_path=save_path, \n",
    "                                               prev_best_info=best_thr_score, info_history=thr_score_hist,\n",
    "                                               ep_start=ep_start, half_precision=True)\n",
    "loss_hist.append(losses)\n",
    "ep_start += n_epochsloss_hist = []\n",
    "best_thr_score={'val': {'thr': None, 'f1': None}, 'train': {'thr': None, 'f1': None}}\n",
    "thr_score_hist=[]\n",
    "ep_start = 0\n",
    "save_path = 'data/test_2ap'"
   ]
  },
  {
   "cell_type": "code",
   "execution_count": 10,
   "metadata": {
    "scrolled": true
   },
   "outputs": [
    {
     "data": {
      "application/vnd.jupyter.widget-view+json": {
       "model_id": "fcc10b7dcf7f4f4fa28338be5366f6ba",
       "version_major": 2,
       "version_minor": 0
      },
      "text/plain": [
       "HBox(children=(HTML(value=''), FloatProgress(value=0.0, max=15.0), HTML(value='')))"
      ]
     },
     "metadata": {},
     "output_type": "display_data"
    },
    {
     "data": {
      "application/vnd.jupyter.widget-view+json": {
       "model_id": "",
       "version_major": 2,
       "version_minor": 0
      },
      "text/plain": [
       "HBox(children=(HTML(value=''), FloatProgress(value=0.0, max=160.0), HTML(value='')))"
      ]
     },
     "metadata": {},
     "output_type": "display_data"
    },
    {
     "data": {
      "application/vnd.jupyter.widget-view+json": {
       "model_id": "",
       "version_major": 2,
       "version_minor": 0
      },
      "text/plain": [
       "HBox(children=(HTML(value='Thresholds'), FloatProgress(value=0.0, max=10.0), HTML(value='')))"
      ]
     },
     "metadata": {},
     "output_type": "display_data"
    },
    {
     "name": "stdout",
     "output_type": "stream",
     "text": [
      "Checkpoint : saved model to data/test_2ap_ep_0.pth\n"
     ]
    },
    {
     "data": {
      "application/vnd.jupyter.widget-view+json": {
       "model_id": "",
       "version_major": 2,
       "version_minor": 0
      },
      "text/plain": [
       "HBox(children=(HTML(value=''), FloatProgress(value=0.0, max=377.0), HTML(value='')))"
      ]
     },
     "metadata": {},
     "output_type": "display_data"
    },
    {
     "data": {
      "application/vnd.jupyter.widget-view+json": {
       "model_id": "",
       "version_major": 2,
       "version_minor": 0
      },
      "text/plain": [
       "HBox(children=(HTML(value='Thresholds'), FloatProgress(value=0.0, max=10.0), HTML(value='')))"
      ]
     },
     "metadata": {},
     "output_type": "display_data"
    },
    {
     "name": "stdout",
     "output_type": "stream",
     "text": [
      "Saved best model ep 0 with f score : 0.6469142561779476\n",
      "Ep 0: Train loss 7.8184 | Val f score 0.6469 with thresh 0.56, train f score 0.6472 with thresh 0.73\n"
     ]
    },
    {
     "data": {
      "application/vnd.jupyter.widget-view+json": {
       "model_id": "",
       "version_major": 2,
       "version_minor": 0
      },
      "text/plain": [
       "HBox(children=(HTML(value=''), FloatProgress(value=0.0, max=160.0), HTML(value='')))"
      ]
     },
     "metadata": {},
     "output_type": "display_data"
    },
    {
     "data": {
      "application/vnd.jupyter.widget-view+json": {
       "model_id": "",
       "version_major": 2,
       "version_minor": 0
      },
      "text/plain": [
       "HBox(children=(HTML(value='Thresholds'), FloatProgress(value=0.0, max=5.0), HTML(value='')))"
      ]
     },
     "metadata": {},
     "output_type": "display_data"
    },
    {
     "data": {
      "application/vnd.jupyter.widget-view+json": {
       "model_id": "",
       "version_major": 2,
       "version_minor": 0
      },
      "text/plain": [
       "HBox(children=(HTML(value=''), FloatProgress(value=0.0, max=377.0), HTML(value='')))"
      ]
     },
     "metadata": {},
     "output_type": "display_data"
    },
    {
     "data": {
      "application/vnd.jupyter.widget-view+json": {
       "model_id": "",
       "version_major": 2,
       "version_minor": 0
      },
      "text/plain": [
       "HBox(children=(HTML(value='Thresholds'), FloatProgress(value=0.0, max=5.0), HTML(value='')))"
      ]
     },
     "metadata": {},
     "output_type": "display_data"
    },
    {
     "name": "stdout",
     "output_type": "stream",
     "text": [
      "Saved best model ep 1 with f score : 0.6575995952749828\n",
      "Ep 1: Train loss 6.7015 | Val f score 0.6576 with thresh 0.61, train f score 0.7029 with thresh 0.78\n"
     ]
    },
    {
     "data": {
      "application/vnd.jupyter.widget-view+json": {
       "model_id": "c91d745e3da24129b650e35d2d4148e2",
       "version_major": 2,
       "version_minor": 0
      },
      "text/plain": [
       "HBox(children=(HTML(value=''), FloatProgress(value=0.0, max=160.0), HTML(value='')))"
      ]
     },
     "metadata": {},
     "output_type": "display_data"
    },
    {
     "ename": "KeyboardInterrupt",
     "evalue": "",
     "output_type": "error",
     "traceback": [
      "\u001b[1;31m---------------------------------------------------------------------------\u001b[0m",
      "\u001b[1;31mKeyboardInterrupt\u001b[0m                         Traceback (most recent call last)",
      "\u001b[1;32m<ipython-input-10-fcde6b83309c>\u001b[0m in \u001b[0;36m<module>\u001b[1;34m\u001b[0m\n\u001b[1;32m----> 1\u001b[1;33m best_thr_score, thr_score_hist, losses = train(model, optimizer, lf, sched, metric_fc, tr_dl, val_dl,\n\u001b[0m\u001b[0;32m      2\u001b[0m                                                \u001b[0mn_epochs\u001b[0m\u001b[1;33m,\u001b[0m \u001b[0mtrain_df\u001b[0m\u001b[1;33m,\u001b[0m \u001b[0mval_df\u001b[0m\u001b[1;33m,\u001b[0m \u001b[0mtrain_tfms\u001b[0m\u001b[1;33m,\u001b[0m \u001b[0mval_tfms\u001b[0m\u001b[1;33m,\u001b[0m\u001b[1;33m\u001b[0m\u001b[1;33m\u001b[0m\u001b[0m\n\u001b[0;32m      3\u001b[0m                                                \u001b[0msave_path\u001b[0m\u001b[1;33m=\u001b[0m\u001b[0msave_path\u001b[0m\u001b[1;33m,\u001b[0m\u001b[1;33m\u001b[0m\u001b[1;33m\u001b[0m\u001b[0m\n\u001b[0;32m      4\u001b[0m                                                \u001b[0mprev_best_info\u001b[0m\u001b[1;33m=\u001b[0m\u001b[0mbest_thr_score\u001b[0m\u001b[1;33m,\u001b[0m \u001b[0minfo_history\u001b[0m\u001b[1;33m=\u001b[0m\u001b[0mthr_score_hist\u001b[0m\u001b[1;33m,\u001b[0m\u001b[1;33m\u001b[0m\u001b[1;33m\u001b[0m\u001b[0m\n\u001b[0;32m      5\u001b[0m                                                ep_start=ep_start)\n",
      "\u001b[1;32m~\\Documents\\shopee\\image_train\\train.py\u001b[0m in \u001b[0;36mtrain\u001b[1;34m(model, optimizer, loss_func, sched, metric_fc, train_dl, val_dl, n_epochs, train_df, val_df, train_transforms, val_transforms, save_path, val_first, prev_best_info, info_history, ep_start, half_precision)\u001b[0m\n\u001b[0;32m    184\u001b[0m             \u001b[0mloss\u001b[0m \u001b[1;33m=\u001b[0m \u001b[0mloss_func\u001b[0m\u001b[1;33m(\u001b[0m\u001b[0mout\u001b[0m\u001b[1;33m,\u001b[0m \u001b[0mlabels\u001b[0m\u001b[1;33m)\u001b[0m\u001b[1;33m\u001b[0m\u001b[1;33m\u001b[0m\u001b[0m\n\u001b[0;32m    185\u001b[0m \u001b[1;33m\u001b[0m\u001b[0m\n\u001b[1;32m--> 186\u001b[1;33m             \u001b[0mloss\u001b[0m\u001b[1;33m.\u001b[0m\u001b[0mbackward\u001b[0m\u001b[1;33m(\u001b[0m\u001b[1;33m)\u001b[0m\u001b[1;33m\u001b[0m\u001b[1;33m\u001b[0m\u001b[0m\n\u001b[0m\u001b[0;32m    187\u001b[0m             \u001b[0moptimizer\u001b[0m\u001b[1;33m.\u001b[0m\u001b[0mstep\u001b[0m\u001b[1;33m(\u001b[0m\u001b[1;33m)\u001b[0m\u001b[1;33m\u001b[0m\u001b[1;33m\u001b[0m\u001b[0m\n\u001b[0;32m    188\u001b[0m             \u001b[1;32mif\u001b[0m \u001b[0msched\u001b[0m \u001b[1;32mis\u001b[0m \u001b[1;32mnot\u001b[0m \u001b[1;32mNone\u001b[0m \u001b[1;33m:\u001b[0m \u001b[0msched\u001b[0m\u001b[1;33m.\u001b[0m\u001b[0mstep\u001b[0m\u001b[1;33m(\u001b[0m\u001b[1;33m)\u001b[0m\u001b[1;33m\u001b[0m\u001b[1;33m\u001b[0m\u001b[0m\n",
      "\u001b[1;32m~\\anaconda3\\lib\\site-packages\\torch\\tensor.py\u001b[0m in \u001b[0;36mbackward\u001b[1;34m(self, gradient, retain_graph, create_graph, inputs)\u001b[0m\n\u001b[0;32m    243\u001b[0m                 \u001b[0mcreate_graph\u001b[0m\u001b[1;33m=\u001b[0m\u001b[0mcreate_graph\u001b[0m\u001b[1;33m,\u001b[0m\u001b[1;33m\u001b[0m\u001b[1;33m\u001b[0m\u001b[0m\n\u001b[0;32m    244\u001b[0m                 inputs=inputs)\n\u001b[1;32m--> 245\u001b[1;33m         \u001b[0mtorch\u001b[0m\u001b[1;33m.\u001b[0m\u001b[0mautograd\u001b[0m\u001b[1;33m.\u001b[0m\u001b[0mbackward\u001b[0m\u001b[1;33m(\u001b[0m\u001b[0mself\u001b[0m\u001b[1;33m,\u001b[0m \u001b[0mgradient\u001b[0m\u001b[1;33m,\u001b[0m \u001b[0mretain_graph\u001b[0m\u001b[1;33m,\u001b[0m \u001b[0mcreate_graph\u001b[0m\u001b[1;33m,\u001b[0m \u001b[0minputs\u001b[0m\u001b[1;33m=\u001b[0m\u001b[0minputs\u001b[0m\u001b[1;33m)\u001b[0m\u001b[1;33m\u001b[0m\u001b[1;33m\u001b[0m\u001b[0m\n\u001b[0m\u001b[0;32m    246\u001b[0m \u001b[1;33m\u001b[0m\u001b[0m\n\u001b[0;32m    247\u001b[0m     \u001b[1;32mdef\u001b[0m \u001b[0mregister_hook\u001b[0m\u001b[1;33m(\u001b[0m\u001b[0mself\u001b[0m\u001b[1;33m,\u001b[0m \u001b[0mhook\u001b[0m\u001b[1;33m)\u001b[0m\u001b[1;33m:\u001b[0m\u001b[1;33m\u001b[0m\u001b[1;33m\u001b[0m\u001b[0m\n",
      "\u001b[1;32m~\\anaconda3\\lib\\site-packages\\torch\\autograd\\__init__.py\u001b[0m in \u001b[0;36mbackward\u001b[1;34m(tensors, grad_tensors, retain_graph, create_graph, grad_variables, inputs)\u001b[0m\n\u001b[0;32m    139\u001b[0m \u001b[1;33m\u001b[0m\u001b[0m\n\u001b[0;32m    140\u001b[0m     \u001b[0mgrad_tensors_\u001b[0m \u001b[1;33m=\u001b[0m \u001b[0m_tensor_or_tensors_to_tuple\u001b[0m\u001b[1;33m(\u001b[0m\u001b[0mgrad_tensors\u001b[0m\u001b[1;33m,\u001b[0m \u001b[0mlen\u001b[0m\u001b[1;33m(\u001b[0m\u001b[0mtensors\u001b[0m\u001b[1;33m)\u001b[0m\u001b[1;33m)\u001b[0m\u001b[1;33m\u001b[0m\u001b[1;33m\u001b[0m\u001b[0m\n\u001b[1;32m--> 141\u001b[1;33m     \u001b[0mgrad_tensors_\u001b[0m \u001b[1;33m=\u001b[0m \u001b[0m_make_grads\u001b[0m\u001b[1;33m(\u001b[0m\u001b[0mtensors\u001b[0m\u001b[1;33m,\u001b[0m \u001b[0mgrad_tensors_\u001b[0m\u001b[1;33m)\u001b[0m\u001b[1;33m\u001b[0m\u001b[1;33m\u001b[0m\u001b[0m\n\u001b[0m\u001b[0;32m    142\u001b[0m     \u001b[1;32mif\u001b[0m \u001b[0mretain_graph\u001b[0m \u001b[1;32mis\u001b[0m \u001b[1;32mNone\u001b[0m\u001b[1;33m:\u001b[0m\u001b[1;33m\u001b[0m\u001b[1;33m\u001b[0m\u001b[0m\n\u001b[0;32m    143\u001b[0m         \u001b[0mretain_graph\u001b[0m \u001b[1;33m=\u001b[0m \u001b[0mcreate_graph\u001b[0m\u001b[1;33m\u001b[0m\u001b[1;33m\u001b[0m\u001b[0m\n",
      "\u001b[1;32m~\\anaconda3\\lib\\site-packages\\torch\\autograd\\__init__.py\u001b[0m in \u001b[0;36m_make_grads\u001b[1;34m(outputs, grads)\u001b[0m\n\u001b[0;32m     49\u001b[0m                 \u001b[1;32mif\u001b[0m \u001b[0mout\u001b[0m\u001b[1;33m.\u001b[0m\u001b[0mnumel\u001b[0m\u001b[1;33m(\u001b[0m\u001b[1;33m)\u001b[0m \u001b[1;33m!=\u001b[0m \u001b[1;36m1\u001b[0m\u001b[1;33m:\u001b[0m\u001b[1;33m\u001b[0m\u001b[1;33m\u001b[0m\u001b[0m\n\u001b[0;32m     50\u001b[0m                     \u001b[1;32mraise\u001b[0m \u001b[0mRuntimeError\u001b[0m\u001b[1;33m(\u001b[0m\u001b[1;34m\"grad can be implicitly created only for scalar outputs\"\u001b[0m\u001b[1;33m)\u001b[0m\u001b[1;33m\u001b[0m\u001b[1;33m\u001b[0m\u001b[0m\n\u001b[1;32m---> 51\u001b[1;33m                 \u001b[0mnew_grads\u001b[0m\u001b[1;33m.\u001b[0m\u001b[0mappend\u001b[0m\u001b[1;33m(\u001b[0m\u001b[0mtorch\u001b[0m\u001b[1;33m.\u001b[0m\u001b[0mones_like\u001b[0m\u001b[1;33m(\u001b[0m\u001b[0mout\u001b[0m\u001b[1;33m,\u001b[0m \u001b[0mmemory_format\u001b[0m\u001b[1;33m=\u001b[0m\u001b[0mtorch\u001b[0m\u001b[1;33m.\u001b[0m\u001b[0mpreserve_format\u001b[0m\u001b[1;33m)\u001b[0m\u001b[1;33m)\u001b[0m\u001b[1;33m\u001b[0m\u001b[1;33m\u001b[0m\u001b[0m\n\u001b[0m\u001b[0;32m     52\u001b[0m             \u001b[1;32melse\u001b[0m\u001b[1;33m:\u001b[0m\u001b[1;33m\u001b[0m\u001b[1;33m\u001b[0m\u001b[0m\n\u001b[0;32m     53\u001b[0m                 \u001b[0mnew_grads\u001b[0m\u001b[1;33m.\u001b[0m\u001b[0mappend\u001b[0m\u001b[1;33m(\u001b[0m\u001b[1;32mNone\u001b[0m\u001b[1;33m)\u001b[0m\u001b[1;33m\u001b[0m\u001b[1;33m\u001b[0m\u001b[0m\n",
      "\u001b[1;31mKeyboardInterrupt\u001b[0m: "
     ]
    }
   ],
   "source": [
    "best_thr_score, thr_score_hist, losses = train(model, optimizer, lf, sched, metric_fc, tr_dl, val_dl,\n",
    "                                               n_epochs, train_df, val_df, train_tfms, val_tfms, \n",
    "                                               save_path=save_path, \n",
    "                                               prev_best_info=best_thr_score, info_history=thr_score_hist,\n",
    "                                               ep_start=ep_start)\n",
    "loss_hist.append(losses)\n",
    "ep_start += n_epochs"
   ]
  },
  {
   "cell_type": "code",
   "execution_count": 11,
   "metadata": {
    "scrolled": false
   },
   "outputs": [
    {
     "data": {
      "image/png": "[encoded data removed]",
      "text/plain": [
       "<Figure size 432x288 with 1 Axes>"
      ]
     },
     "metadata": {
      "needs_background": "light"
     },
     "output_type": "display_data"
    },
    {
     "data": {
      "image/png": "[encoded data removed]",
      "text/plain": [
       "<Figure size 432x288 with 1 Axes>"
      ]
     },
     "metadata": {
      "needs_background": "light"
     },
     "output_type": "display_data"
    }
   ],
   "source": [
    "plot_hist(thr_score_hist)"
   ]
  },
  {
   "cell_type": "code",
   "execution_count": 2,
   "metadata": {},
   "outputs": [],
   "source": [
    "df, train_df, val_df, train_labels, val_labels = load_data(train_perc=0.3)"
   ]
  },
  {
   "cell_type": "code",
   "execution_count": 26,
   "metadata": {},
   "outputs": [],
   "source": [
    "# creating dataloaders\n",
    "small_images_dir_train = 'data/small_train_images_250/'\n",
    "small_images_dir_val = 'data/small_train_images_224/'\n",
    "bs = 32\n",
    "\n",
    "tr_dl = create_dl(train_df, small_images_dir_train, batch_size=bs)\n",
    "tr_test_dl = create_dl(train_df, small_images_dir_val, shuffle=False, batch_size=bs)\n",
    "val_dl = create_dl(val_df, small_images_dir_val, shuffle=False, batch_size=bs)\n",
    "#full_dl = create_dl(df, small_images_dir, shuffle=False)"
   ]
  },
  {
   "cell_type": "code",
   "execution_count": 27,
   "metadata": {},
   "outputs": [],
   "source": [
    "class CLIPImg(torch.nn.Module) :\n",
    "    def __init__(self, model_name=\"RN50\", device='cuda') :\n",
    "        super().__init__()\n",
    "        self.model = clip.load(model_name, device=device, jit=False)[0]\n",
    "    def forward(self, imgs) :\n",
    "        return self.model.encode_image(imgs)"
   ]
  },
  {
   "cell_type": "code",
   "execution_count": 28,
   "metadata": {},
   "outputs": [],
   "source": [
    "model = CLIPImg()\n",
    "train_tfms, val_tfms = get_tfms(crop=224)"
   ]
  },
  {
   "cell_type": "code",
   "execution_count": 29,
   "metadata": {
    "scrolled": true
   },
   "outputs": [
    {
     "data": {
      "application/vnd.jupyter.widget-view+json": {
       "model_id": "d263d651f2c545c9908bd9202244af5d",
       "version_major": 2,
       "version_minor": 0
      },
      "text/plain": [
       "HBox(children=(FloatProgress(value=0.0, max=327.0), HTML(value='')))"
      ]
     },
     "metadata": {},
     "output_type": "display_data"
    },
    {
     "ename": "TypeError",
     "evalue": "unsupported operand type(s) for /: 'JpegImageFile' and 'float'",
     "output_type": "error",
     "traceback": [
      "\u001b[0;31m---------------------------------------------------------------------------\u001b[0m",
      "\u001b[0;31mTypeError\u001b[0m                                 Traceback (most recent call last)",
      "\u001b[0;32m<ipython-input-29-e25b70683e56>\u001b[0m in \u001b[0;36m<module>\u001b[0;34m\u001b[0m\n\u001b[0;32m----> 1\u001b[0;31m \u001b[0mcenters\u001b[0m \u001b[0;34m=\u001b[0m \u001b[0mcompute_centers\u001b[0m\u001b[0;34m(\u001b[0m\u001b[0mtr_test_dl\u001b[0m\u001b[0;34m,\u001b[0m \u001b[0mmodel\u001b[0m\u001b[0;34m,\u001b[0m \u001b[0mval_tfms\u001b[0m\u001b[0;34m,\u001b[0m \u001b[0mtrain_df\u001b[0m\u001b[0;34m)\u001b[0m\u001b[0;34m\u001b[0m\u001b[0;34m\u001b[0m\u001b[0m\n\u001b[0m\u001b[1;32m      2\u001b[0m \u001b[0mtorch\u001b[0m\u001b[0;34m.\u001b[0m\u001b[0msave\u001b[0m\u001b[0;34m(\u001b[0m\u001b[0mcenters\u001b[0m\u001b[0;34m,\u001b[0m \u001b[0;34m'data/clip/centers_im_0.3_res50.pth'\u001b[0m\u001b[0;34m)\u001b[0m\u001b[0;34m\u001b[0m\u001b[0;34m\u001b[0m\u001b[0m\n",
      "\u001b[0;32m~/Documents/kaggle/shopee/arcface.py\u001b[0m in \u001b[0;36mcompute_centers\u001b[0;34m(dataloader, model, val_transforms, dataframe, batch_size)\u001b[0m\n\u001b[1;32m     67\u001b[0m     \u001b[0;32mwith\u001b[0m \u001b[0mtorch\u001b[0m\u001b[0;34m.\u001b[0m\u001b[0mno_grad\u001b[0m\u001b[0;34m(\u001b[0m\u001b[0;34m)\u001b[0m\u001b[0;34m:\u001b[0m\u001b[0;34m\u001b[0m\u001b[0;34m\u001b[0m\u001b[0m\n\u001b[1;32m     68\u001b[0m         \u001b[0membs\u001b[0m \u001b[0;34m=\u001b[0m \u001b[0;34m[\u001b[0m\u001b[0;34m]\u001b[0m\u001b[0;34m\u001b[0m\u001b[0;34m\u001b[0m\u001b[0m\n\u001b[0;32m---> 69\u001b[0;31m         \u001b[0;32mfor\u001b[0m \u001b[0mimgs\u001b[0m\u001b[0;34m,\u001b[0m \u001b[0m_\u001b[0m \u001b[0;32min\u001b[0m \u001b[0mtqdm\u001b[0m\u001b[0;34m(\u001b[0m\u001b[0mdataloader\u001b[0m\u001b[0;34m)\u001b[0m\u001b[0;34m:\u001b[0m\u001b[0;34m\u001b[0m\u001b[0;34m\u001b[0m\u001b[0m\n\u001b[0m\u001b[1;32m     70\u001b[0m             \u001b[0mimgs\u001b[0m \u001b[0;34m=\u001b[0m \u001b[0mval_transforms\u001b[0m\u001b[0;34m(\u001b[0m\u001b[0mimgs\u001b[0m\u001b[0;34m)\u001b[0m\u001b[0;34m.\u001b[0m\u001b[0mto\u001b[0m\u001b[0;34m(\u001b[0m\u001b[0;34m'cuda'\u001b[0m\u001b[0;34m)\u001b[0m\u001b[0;34m\u001b[0m\u001b[0;34m\u001b[0m\u001b[0m\n\u001b[1;32m     71\u001b[0m             \u001b[0mfeatures\u001b[0m \u001b[0;34m=\u001b[0m \u001b[0mmodel\u001b[0m\u001b[0;34m(\u001b[0m\u001b[0mimgs\u001b[0m\u001b[0;34m)\u001b[0m\u001b[0;34m\u001b[0m\u001b[0;34m\u001b[0m\u001b[0m\n",
      "\u001b[0;32m~/anaconda3/lib/python3.7/site-packages/tqdm/notebook.py\u001b[0m in \u001b[0;36m__iter__\u001b[0;34m(self, *args, **kwargs)\u001b[0m\n\u001b[1;32m    215\u001b[0m     \u001b[0;32mdef\u001b[0m \u001b[0m__iter__\u001b[0m\u001b[0;34m(\u001b[0m\u001b[0mself\u001b[0m\u001b[0;34m,\u001b[0m \u001b[0;34m*\u001b[0m\u001b[0margs\u001b[0m\u001b[0;34m,\u001b[0m \u001b[0;34m**\u001b[0m\u001b[0mkwargs\u001b[0m\u001b[0;34m)\u001b[0m\u001b[0;34m:\u001b[0m\u001b[0;34m\u001b[0m\u001b[0;34m\u001b[0m\u001b[0m\n\u001b[1;32m    216\u001b[0m         \u001b[0;32mtry\u001b[0m\u001b[0;34m:\u001b[0m\u001b[0;34m\u001b[0m\u001b[0;34m\u001b[0m\u001b[0m\n\u001b[0;32m--> 217\u001b[0;31m             \u001b[0;32mfor\u001b[0m \u001b[0mobj\u001b[0m \u001b[0;32min\u001b[0m \u001b[0msuper\u001b[0m\u001b[0;34m(\u001b[0m\u001b[0mtqdm_notebook\u001b[0m\u001b[0;34m,\u001b[0m \u001b[0mself\u001b[0m\u001b[0;34m)\u001b[0m\u001b[0;34m.\u001b[0m\u001b[0m__iter__\u001b[0m\u001b[0;34m(\u001b[0m\u001b[0;34m*\u001b[0m\u001b[0margs\u001b[0m\u001b[0;34m,\u001b[0m \u001b[0;34m**\u001b[0m\u001b[0mkwargs\u001b[0m\u001b[0;34m)\u001b[0m\u001b[0;34m:\u001b[0m\u001b[0;34m\u001b[0m\u001b[0;34m\u001b[0m\u001b[0m\n\u001b[0m\u001b[1;32m    218\u001b[0m                 \u001b[0;31m# return super(tqdm...) will not catch exception\u001b[0m\u001b[0;34m\u001b[0m\u001b[0;34m\u001b[0m\u001b[0;34m\u001b[0m\u001b[0m\n\u001b[1;32m    219\u001b[0m                 \u001b[0;32myield\u001b[0m \u001b[0mobj\u001b[0m\u001b[0;34m\u001b[0m\u001b[0;34m\u001b[0m\u001b[0m\n",
      "\u001b[0;32m~/anaconda3/lib/python3.7/site-packages/tqdm/std.py\u001b[0m in \u001b[0;36m__iter__\u001b[0;34m(self)\u001b[0m\n\u001b[1;32m   1105\u001b[0m                 fp_write=getattr(self.fp, 'write', sys.stderr.write))\n\u001b[1;32m   1106\u001b[0m \u001b[0;34m\u001b[0m\u001b[0m\n\u001b[0;32m-> 1107\u001b[0;31m         \u001b[0;32mfor\u001b[0m \u001b[0mobj\u001b[0m \u001b[0;32min\u001b[0m \u001b[0miterable\u001b[0m\u001b[0;34m:\u001b[0m\u001b[0;34m\u001b[0m\u001b[0;34m\u001b[0m\u001b[0m\n\u001b[0m\u001b[1;32m   1108\u001b[0m             \u001b[0;32myield\u001b[0m \u001b[0mobj\u001b[0m\u001b[0;34m\u001b[0m\u001b[0;34m\u001b[0m\u001b[0m\n\u001b[1;32m   1109\u001b[0m             \u001b[0;31m# Update and possibly print the progressbar.\u001b[0m\u001b[0;34m\u001b[0m\u001b[0;34m\u001b[0m\u001b[0;34m\u001b[0m\u001b[0m\n",
      "\u001b[0;32m~/anaconda3/lib/python3.7/site-packages/torch/utils/data/dataloader.py\u001b[0m in \u001b[0;36m__next__\u001b[0;34m(self)\u001b[0m\n\u001b[1;32m    433\u001b[0m         \u001b[0;32mif\u001b[0m \u001b[0mself\u001b[0m\u001b[0;34m.\u001b[0m\u001b[0m_sampler_iter\u001b[0m \u001b[0;32mis\u001b[0m \u001b[0;32mNone\u001b[0m\u001b[0;34m:\u001b[0m\u001b[0;34m\u001b[0m\u001b[0;34m\u001b[0m\u001b[0m\n\u001b[1;32m    434\u001b[0m             \u001b[0mself\u001b[0m\u001b[0;34m.\u001b[0m\u001b[0m_reset\u001b[0m\u001b[0;34m(\u001b[0m\u001b[0;34m)\u001b[0m\u001b[0;34m\u001b[0m\u001b[0;34m\u001b[0m\u001b[0m\n\u001b[0;32m--> 435\u001b[0;31m         \u001b[0mdata\u001b[0m \u001b[0;34m=\u001b[0m \u001b[0mself\u001b[0m\u001b[0;34m.\u001b[0m\u001b[0m_next_data\u001b[0m\u001b[0;34m(\u001b[0m\u001b[0;34m)\u001b[0m\u001b[0;34m\u001b[0m\u001b[0;34m\u001b[0m\u001b[0m\n\u001b[0m\u001b[1;32m    436\u001b[0m         \u001b[0mself\u001b[0m\u001b[0;34m.\u001b[0m\u001b[0m_num_yielded\u001b[0m \u001b[0;34m+=\u001b[0m \u001b[0;36m1\u001b[0m\u001b[0;34m\u001b[0m\u001b[0;34m\u001b[0m\u001b[0m\n\u001b[1;32m    437\u001b[0m         \u001b[0;32mif\u001b[0m \u001b[0mself\u001b[0m\u001b[0;34m.\u001b[0m\u001b[0m_dataset_kind\u001b[0m \u001b[0;34m==\u001b[0m \u001b[0m_DatasetKind\u001b[0m\u001b[0;34m.\u001b[0m\u001b[0mIterable\u001b[0m \u001b[0;32mand\u001b[0m\u001b[0;31m \u001b[0m\u001b[0;31m\\\u001b[0m\u001b[0;34m\u001b[0m\u001b[0;34m\u001b[0m\u001b[0m\n",
      "\u001b[0;32m~/anaconda3/lib/python3.7/site-packages/torch/utils/data/dataloader.py\u001b[0m in \u001b[0;36m_next_data\u001b[0;34m(self)\u001b[0m\n\u001b[1;32m    473\u001b[0m     \u001b[0;32mdef\u001b[0m \u001b[0m_next_data\u001b[0m\u001b[0;34m(\u001b[0m\u001b[0mself\u001b[0m\u001b[0;34m)\u001b[0m\u001b[0;34m:\u001b[0m\u001b[0;34m\u001b[0m\u001b[0;34m\u001b[0m\u001b[0m\n\u001b[1;32m    474\u001b[0m         \u001b[0mindex\u001b[0m \u001b[0;34m=\u001b[0m \u001b[0mself\u001b[0m\u001b[0;34m.\u001b[0m\u001b[0m_next_index\u001b[0m\u001b[0;34m(\u001b[0m\u001b[0;34m)\u001b[0m  \u001b[0;31m# may raise StopIteration\u001b[0m\u001b[0;34m\u001b[0m\u001b[0;34m\u001b[0m\u001b[0m\n\u001b[0;32m--> 475\u001b[0;31m         \u001b[0mdata\u001b[0m \u001b[0;34m=\u001b[0m \u001b[0mself\u001b[0m\u001b[0;34m.\u001b[0m\u001b[0m_dataset_fetcher\u001b[0m\u001b[0;34m.\u001b[0m\u001b[0mfetch\u001b[0m\u001b[0;34m(\u001b[0m\u001b[0mindex\u001b[0m\u001b[0;34m)\u001b[0m  \u001b[0;31m# may raise StopIteration\u001b[0m\u001b[0;34m\u001b[0m\u001b[0;34m\u001b[0m\u001b[0m\n\u001b[0m\u001b[1;32m    476\u001b[0m         \u001b[0;32mif\u001b[0m \u001b[0mself\u001b[0m\u001b[0;34m.\u001b[0m\u001b[0m_pin_memory\u001b[0m\u001b[0;34m:\u001b[0m\u001b[0;34m\u001b[0m\u001b[0;34m\u001b[0m\u001b[0m\n\u001b[1;32m    477\u001b[0m             \u001b[0mdata\u001b[0m \u001b[0;34m=\u001b[0m \u001b[0m_utils\u001b[0m\u001b[0;34m.\u001b[0m\u001b[0mpin_memory\u001b[0m\u001b[0;34m.\u001b[0m\u001b[0mpin_memory\u001b[0m\u001b[0;34m(\u001b[0m\u001b[0mdata\u001b[0m\u001b[0;34m)\u001b[0m\u001b[0;34m\u001b[0m\u001b[0;34m\u001b[0m\u001b[0m\n",
      "\u001b[0;32m~/anaconda3/lib/python3.7/site-packages/torch/utils/data/_utils/fetch.py\u001b[0m in \u001b[0;36mfetch\u001b[0;34m(self, possibly_batched_index)\u001b[0m\n\u001b[1;32m     42\u001b[0m     \u001b[0;32mdef\u001b[0m \u001b[0mfetch\u001b[0m\u001b[0;34m(\u001b[0m\u001b[0mself\u001b[0m\u001b[0;34m,\u001b[0m \u001b[0mpossibly_batched_index\u001b[0m\u001b[0;34m)\u001b[0m\u001b[0;34m:\u001b[0m\u001b[0;34m\u001b[0m\u001b[0;34m\u001b[0m\u001b[0m\n\u001b[1;32m     43\u001b[0m         \u001b[0;32mif\u001b[0m \u001b[0mself\u001b[0m\u001b[0;34m.\u001b[0m\u001b[0mauto_collation\u001b[0m\u001b[0;34m:\u001b[0m\u001b[0;34m\u001b[0m\u001b[0;34m\u001b[0m\u001b[0m\n\u001b[0;32m---> 44\u001b[0;31m             \u001b[0mdata\u001b[0m \u001b[0;34m=\u001b[0m \u001b[0;34m[\u001b[0m\u001b[0mself\u001b[0m\u001b[0;34m.\u001b[0m\u001b[0mdataset\u001b[0m\u001b[0;34m[\u001b[0m\u001b[0midx\u001b[0m\u001b[0;34m]\u001b[0m \u001b[0;32mfor\u001b[0m \u001b[0midx\u001b[0m \u001b[0;32min\u001b[0m \u001b[0mpossibly_batched_index\u001b[0m\u001b[0;34m]\u001b[0m\u001b[0;34m\u001b[0m\u001b[0;34m\u001b[0m\u001b[0m\n\u001b[0m\u001b[1;32m     45\u001b[0m         \u001b[0;32melse\u001b[0m\u001b[0;34m:\u001b[0m\u001b[0;34m\u001b[0m\u001b[0;34m\u001b[0m\u001b[0m\n\u001b[1;32m     46\u001b[0m             \u001b[0mdata\u001b[0m \u001b[0;34m=\u001b[0m \u001b[0mself\u001b[0m\u001b[0;34m.\u001b[0m\u001b[0mdataset\u001b[0m\u001b[0;34m[\u001b[0m\u001b[0mpossibly_batched_index\u001b[0m\u001b[0;34m]\u001b[0m\u001b[0;34m\u001b[0m\u001b[0;34m\u001b[0m\u001b[0m\n",
      "\u001b[0;32m~/anaconda3/lib/python3.7/site-packages/torch/utils/data/_utils/fetch.py\u001b[0m in \u001b[0;36m<listcomp>\u001b[0;34m(.0)\u001b[0m\n\u001b[1;32m     42\u001b[0m     \u001b[0;32mdef\u001b[0m \u001b[0mfetch\u001b[0m\u001b[0;34m(\u001b[0m\u001b[0mself\u001b[0m\u001b[0;34m,\u001b[0m \u001b[0mpossibly_batched_index\u001b[0m\u001b[0;34m)\u001b[0m\u001b[0;34m:\u001b[0m\u001b[0;34m\u001b[0m\u001b[0;34m\u001b[0m\u001b[0m\n\u001b[1;32m     43\u001b[0m         \u001b[0;32mif\u001b[0m \u001b[0mself\u001b[0m\u001b[0;34m.\u001b[0m\u001b[0mauto_collation\u001b[0m\u001b[0;34m:\u001b[0m\u001b[0;34m\u001b[0m\u001b[0;34m\u001b[0m\u001b[0m\n\u001b[0;32m---> 44\u001b[0;31m             \u001b[0mdata\u001b[0m \u001b[0;34m=\u001b[0m \u001b[0;34m[\u001b[0m\u001b[0mself\u001b[0m\u001b[0;34m.\u001b[0m\u001b[0mdataset\u001b[0m\u001b[0;34m[\u001b[0m\u001b[0midx\u001b[0m\u001b[0;34m]\u001b[0m \u001b[0;32mfor\u001b[0m \u001b[0midx\u001b[0m \u001b[0;32min\u001b[0m \u001b[0mpossibly_batched_index\u001b[0m\u001b[0;34m]\u001b[0m\u001b[0;34m\u001b[0m\u001b[0;34m\u001b[0m\u001b[0m\n\u001b[0m\u001b[1;32m     45\u001b[0m         \u001b[0;32melse\u001b[0m\u001b[0;34m:\u001b[0m\u001b[0;34m\u001b[0m\u001b[0;34m\u001b[0m\u001b[0m\n\u001b[1;32m     46\u001b[0m             \u001b[0mdata\u001b[0m \u001b[0;34m=\u001b[0m \u001b[0mself\u001b[0m\u001b[0;34m.\u001b[0m\u001b[0mdataset\u001b[0m\u001b[0;34m[\u001b[0m\u001b[0mpossibly_batched_index\u001b[0m\u001b[0;34m]\u001b[0m\u001b[0;34m\u001b[0m\u001b[0;34m\u001b[0m\u001b[0m\n",
      "\u001b[0;32m~/Documents/kaggle/shopee/image_train/data.py\u001b[0m in \u001b[0;36m__getitem__\u001b[0;34m(self, idx)\u001b[0m\n\u001b[1;32m     13\u001b[0m     \u001b[0;32mdef\u001b[0m \u001b[0m__getitem__\u001b[0m\u001b[0;34m(\u001b[0m\u001b[0mself\u001b[0m\u001b[0;34m,\u001b[0m \u001b[0midx\u001b[0m\u001b[0;34m)\u001b[0m\u001b[0;34m:\u001b[0m\u001b[0;34m\u001b[0m\u001b[0;34m\u001b[0m\u001b[0m\n\u001b[1;32m     14\u001b[0m \u001b[0;34m\u001b[0m\u001b[0m\n\u001b[0;32m---> 15\u001b[0;31m         \u001b[0mimg\u001b[0m \u001b[0;34m=\u001b[0m \u001b[0mself\u001b[0m\u001b[0;34m.\u001b[0m\u001b[0m_get_item\u001b[0m\u001b[0;34m(\u001b[0m\u001b[0midx\u001b[0m\u001b[0;34m)\u001b[0m\u001b[0;34m\u001b[0m\u001b[0;34m\u001b[0m\u001b[0m\n\u001b[0m\u001b[1;32m     16\u001b[0m         \u001b[0mlabel\u001b[0m \u001b[0;34m=\u001b[0m \u001b[0mself\u001b[0m\u001b[0;34m.\u001b[0m\u001b[0mlabel_codes\u001b[0m\u001b[0;34m.\u001b[0m\u001b[0miloc\u001b[0m\u001b[0;34m[\u001b[0m\u001b[0midx\u001b[0m\u001b[0;34m]\u001b[0m\u001b[0;34m\u001b[0m\u001b[0;34m\u001b[0m\u001b[0m\n\u001b[1;32m     17\u001b[0m         \u001b[0;32mreturn\u001b[0m \u001b[0mimg\u001b[0m\u001b[0;34m,\u001b[0m \u001b[0mlabel\u001b[0m\u001b[0;34m\u001b[0m\u001b[0;34m\u001b[0m\u001b[0m\n",
      "\u001b[0;32m~/Documents/kaggle/shopee/image_train/data.py\u001b[0m in \u001b[0;36m_get_item\u001b[0;34m(self, idx)\u001b[0m\n\u001b[1;32m     21\u001b[0m     \u001b[0;32mdef\u001b[0m \u001b[0m_get_item\u001b[0m\u001b[0;34m(\u001b[0m\u001b[0mself\u001b[0m\u001b[0;34m,\u001b[0m \u001b[0midx\u001b[0m\u001b[0;34m)\u001b[0m\u001b[0;34m:\u001b[0m\u001b[0;34m\u001b[0m\u001b[0;34m\u001b[0m\u001b[0m\n\u001b[1;32m     22\u001b[0m         \u001b[0mim\u001b[0m \u001b[0;34m=\u001b[0m \u001b[0mPIL\u001b[0m\u001b[0;34m.\u001b[0m\u001b[0mImage\u001b[0m\u001b[0;34m.\u001b[0m\u001b[0mopen\u001b[0m\u001b[0;34m(\u001b[0m\u001b[0mos\u001b[0m\u001b[0;34m.\u001b[0m\u001b[0mpath\u001b[0m\u001b[0;34m.\u001b[0m\u001b[0mjoin\u001b[0m\u001b[0;34m(\u001b[0m\u001b[0mself\u001b[0m\u001b[0;34m.\u001b[0m\u001b[0mimages_path\u001b[0m\u001b[0;34m,\u001b[0m \u001b[0mself\u001b[0m\u001b[0;34m.\u001b[0m\u001b[0mimgs\u001b[0m\u001b[0;34m[\u001b[0m\u001b[0midx\u001b[0m\u001b[0;34m]\u001b[0m\u001b[0;34m)\u001b[0m\u001b[0;34m)\u001b[0m\u001b[0;34m\u001b[0m\u001b[0;34m\u001b[0m\u001b[0m\n\u001b[0;32m---> 23\u001b[0;31m         \u001b[0mim\u001b[0m \u001b[0;34m=\u001b[0m \u001b[0mtorch\u001b[0m\u001b[0;34m.\u001b[0m\u001b[0mtensor\u001b[0m\u001b[0;34m(\u001b[0m\u001b[0mnp\u001b[0m\u001b[0;34m.\u001b[0m\u001b[0marray\u001b[0m\u001b[0;34m(\u001b[0m\u001b[0mim\u001b[0m\u001b[0;34m)\u001b[0m \u001b[0;34m/\u001b[0m \u001b[0;36m255.0\u001b[0m\u001b[0;34m,\u001b[0m \u001b[0mdtype\u001b[0m \u001b[0;34m=\u001b[0m \u001b[0mtorch\u001b[0m\u001b[0;34m.\u001b[0m\u001b[0mfloat\u001b[0m\u001b[0;34m)\u001b[0m\u001b[0;34m.\u001b[0m\u001b[0mpermute\u001b[0m\u001b[0;34m(\u001b[0m\u001b[0;36m2\u001b[0m\u001b[0;34m,\u001b[0m\u001b[0;36m0\u001b[0m\u001b[0;34m,\u001b[0m\u001b[0;36m1\u001b[0m\u001b[0;34m)\u001b[0m\u001b[0;34m\u001b[0m\u001b[0;34m\u001b[0m\u001b[0m\n\u001b[0m\u001b[1;32m     24\u001b[0m         \u001b[0;32mreturn\u001b[0m \u001b[0mim\u001b[0m\u001b[0;34m\u001b[0m\u001b[0;34m\u001b[0m\u001b[0m\n\u001b[1;32m     25\u001b[0m \u001b[0;34m\u001b[0m\u001b[0m\n",
      "\u001b[0;31mTypeError\u001b[0m: unsupported operand type(s) for /: 'JpegImageFile' and 'float'"
     ]
    }
   ],
   "source": [
    "centers = compute_centers(tr_test_dl, model, val_tfms, train_df)\n",
    "torch.save(centers, 'data/clip/centers_im_0.3_res50.pth')"
   ]
  },
  {
   "cell_type": "code",
   "execution_count": 6,
   "metadata": {},
   "outputs": [],
   "source": [
    "centers = torch.load('data/clip/centers_im_0.3_res50.pth')"
   ]
  },
  {
   "cell_type": "code",
   "execution_count": 7,
   "metadata": {},
   "outputs": [
    {
     "name": "stdout",
     "output_type": "stream",
     "text": [
      "Using center as wieghts\n"
     ]
    }
   ],
   "source": [
    "metric_fc = ArcMarginProduct(512, train_df['label_group'].nunique(), \n",
    "                             s=30, m=0.5, easy_margin=False, centers=centers, half=True).to(device)"
   ]
  },
  {
   "cell_type": "code",
   "execution_count": 8,
   "metadata": {},
   "outputs": [],
   "source": [
    "n_epochs, lf, params, optimizer, sched = get_hparams(tr_dl, model, metric_fc, lr=1e-5, n_epochs=10)"
   ]
  },
  {
   "cell_type": "markdown",
   "metadata": {},
   "source": [
    "for n, _ in model.named_parameters() :\n",
    "    print(n)"
   ]
  },
  {
   "cell_type": "code",
   "execution_count": 9,
   "metadata": {},
   "outputs": [],
   "source": [
    "mnp = list(model.named_parameters())\n",
    "\n",
    "param_groups = [{'params' : [p for n,p in mnp if 'embeddings' in n]}]\n",
    "\n",
    "params_names = []\n",
    "n_blocks = 5\n",
    "for i in range(n_blocks):\n",
    "    ith_block = [p for n, p in mnp if f'layer{i}.' in n]\n",
    "    ith_block_name = [n for n, p in mnp if f'layer{i}.' in n]\n",
    "    params_names += ith_block_name\n",
    "    param_groups.append({'params' : ith_block})\n",
    "    \n",
    "param_groups.append({'params' : [p for n,p in mnp if 'attnpool'in n]})\n",
    "params_names += [n for n,p in mnp if 'attnpool' in n]\n",
    "\n",
    "param_groups.append({'params' : metric_fc.parameters()})\n"
   ]
  },
  {
   "cell_type": "markdown",
   "metadata": {},
   "source": [
    "for n, p in model.named_parameters() :\n",
    "    if n not in params_names :\n",
    "        print(n)"
   ]
  },
  {
   "cell_type": "code",
   "execution_count": 10,
   "metadata": {},
   "outputs": [],
   "source": [
    "lf = nn.CrossEntropyLoss()\n",
    "optimizer = torch.optim.AdamW(param_groups, weight_decay = 1e-5)\n",
    "\n",
    "lr = list(np.linspace(1e-5,5e-4,len(param_groups)))\n",
    "\n",
    "n_epochs = 10\n",
    "sched = torch.optim.lr_scheduler.OneCycleLR(optimizer, max_lr=lr, pct_start=0.3,\n",
    "                                            total_steps=int(n_epochs * len(tr_dl)))"
   ]
  },
  {
   "cell_type": "code",
   "execution_count": 11,
   "metadata": {},
   "outputs": [],
   "source": [
    "loss_hist = []\n",
    "best_thr_score={'val': {'thr': None, 'f1': None}, 'train': {'thr': None, 'f1': None}}\n",
    "thr_score_hist=[]\n",
    "ep_start = 0\n",
    "save_path = 'data/clip/test_20ap_im_res50'"
   ]
  },
  {
   "cell_type": "code",
   "execution_count": 12,
   "metadata": {
    "scrolled": true
   },
   "outputs": [
    {
     "data": {
      "application/vnd.jupyter.widget-view+json": {
       "model_id": "",
       "version_major": 2,
       "version_minor": 0
      },
      "text/plain": [
       "HBox(children=(FloatProgress(value=0.0, max=10.0), HTML(value='')))"
      ]
     },
     "metadata": {},
     "output_type": "display_data"
    },
    {
     "data": {
      "application/vnd.jupyter.widget-view+json": {
       "model_id": "",
       "version_major": 2,
       "version_minor": 0
      },
      "text/plain": [
       "HBox(children=(FloatProgress(value=0.0, max=327.0), HTML(value='')))"
      ]
     },
     "metadata": {},
     "output_type": "display_data"
    },
    {
     "data": {
      "application/vnd.jupyter.widget-view+json": {
       "model_id": "",
       "version_major": 2,
       "version_minor": 0
      },
      "text/plain": [
       "HBox(children=(FloatProgress(value=0.0, description='Thresholds', max=10.0, style=ProgressStyle(description_wi…"
      ]
     },
     "metadata": {},
     "output_type": "display_data"
    },
    {
     "name": "stdout",
     "output_type": "stream",
     "text": [
      "Checkpoint : saved model to data/clip/test_20ap_im_res50_ep_0.pth\n"
     ]
    },
    {
     "data": {
      "application/vnd.jupyter.widget-view+json": {
       "model_id": "",
       "version_major": 2,
       "version_minor": 0
      },
      "text/plain": [
       "HBox(children=(FloatProgress(value=0.0, max=745.0), HTML(value='')))"
      ]
     },
     "metadata": {},
     "output_type": "display_data"
    },
    {
     "data": {
      "application/vnd.jupyter.widget-view+json": {
       "model_id": "",
       "version_major": 2,
       "version_minor": 0
      },
      "text/plain": [
       "HBox(children=(FloatProgress(value=0.0, description='Thresholds', max=10.0, style=ProgressStyle(description_wi…"
      ]
     },
     "metadata": {},
     "output_type": "display_data"
    },
    {
     "name": "stdout",
     "output_type": "stream",
     "text": [
      "Saved best model ep 0 with f score : 0.5923946402416435\n",
      "Ep 0: Train loss 14.7105 | Val f score 0.5924 with thresh 0.29, train f score 0.4926 with thresh 0.56\n"
     ]
    },
    {
     "data": {
      "application/vnd.jupyter.widget-view+json": {
       "model_id": "",
       "version_major": 2,
       "version_minor": 0
      },
      "text/plain": [
       "HBox(children=(FloatProgress(value=0.0, max=327.0), HTML(value='')))"
      ]
     },
     "metadata": {},
     "output_type": "display_data"
    },
    {
     "data": {
      "application/vnd.jupyter.widget-view+json": {
       "model_id": "",
       "version_major": 2,
       "version_minor": 0
      },
      "text/plain": [
       "HBox(children=(FloatProgress(value=0.0, description='Thresholds', max=5.0, style=ProgressStyle(description_wid…"
      ]
     },
     "metadata": {},
     "output_type": "display_data"
    },
    {
     "data": {
      "application/vnd.jupyter.widget-view+json": {
       "model_id": "",
       "version_major": 2,
       "version_minor": 0
      },
      "text/plain": [
       "HBox(children=(FloatProgress(value=0.0, max=745.0), HTML(value='')))"
      ]
     },
     "metadata": {},
     "output_type": "display_data"
    },
    {
     "data": {
      "application/vnd.jupyter.widget-view+json": {
       "model_id": "",
       "version_major": 2,
       "version_minor": 0
      },
      "text/plain": [
       "HBox(children=(FloatProgress(value=0.0, description='Thresholds', max=5.0, style=ProgressStyle(description_wid…"
      ]
     },
     "metadata": {},
     "output_type": "display_data"
    },
    {
     "name": "stdout",
     "output_type": "stream",
     "text": [
      "Saved best model ep 1 with f score : 0.6219290318389071\n",
      "Ep 1: Train loss 13.0619 | Val f score 0.6219 with thresh 0.34, train f score 0.4755 with thresh 0.56\n"
     ]
    },
    {
     "data": {
      "application/vnd.jupyter.widget-view+json": {
       "model_id": "",
       "version_major": 2,
       "version_minor": 0
      },
      "text/plain": [
       "HBox(children=(FloatProgress(value=0.0, max=327.0), HTML(value='')))"
      ]
     },
     "metadata": {},
     "output_type": "display_data"
    },
    {
     "data": {
      "application/vnd.jupyter.widget-view+json": {
       "model_id": "",
       "version_major": 2,
       "version_minor": 0
      },
      "text/plain": [
       "HBox(children=(FloatProgress(value=0.0, description='Thresholds', max=5.0, style=ProgressStyle(description_wid…"
      ]
     },
     "metadata": {},
     "output_type": "display_data"
    },
    {
     "name": "stdout",
     "output_type": "stream",
     "text": [
      "Checkpoint : saved model to data/clip/test_20ap_im_res50_ep_2.pth\n"
     ]
    },
    {
     "data": {
      "application/vnd.jupyter.widget-view+json": {
       "model_id": "",
       "version_major": 2,
       "version_minor": 0
      },
      "text/plain": [
       "HBox(children=(FloatProgress(value=0.0, max=745.0), HTML(value='')))"
      ]
     },
     "metadata": {},
     "output_type": "display_data"
    },
    {
     "data": {
      "application/vnd.jupyter.widget-view+json": {
       "model_id": "",
       "version_major": 2,
       "version_minor": 0
      },
      "text/plain": [
       "HBox(children=(FloatProgress(value=0.0, description='Thresholds', max=5.0, style=ProgressStyle(description_wid…"
      ]
     },
     "metadata": {},
     "output_type": "display_data"
    },
    {
     "name": "stdout",
     "output_type": "stream",
     "text": [
      "Saved best model ep 2 with f score : 0.6336896602294358\n",
      "Ep 2: Train loss 11.6626 | Val f score 0.6337 with thresh 0.44, train f score 0.5413 with thresh 0.66\n"
     ]
    },
    {
     "data": {
      "application/vnd.jupyter.widget-view+json": {
       "model_id": "",
       "version_major": 2,
       "version_minor": 0
      },
      "text/plain": [
       "HBox(children=(FloatProgress(value=0.0, max=327.0), HTML(value='')))"
      ]
     },
     "metadata": {},
     "output_type": "display_data"
    },
    {
     "data": {
      "application/vnd.jupyter.widget-view+json": {
       "model_id": "",
       "version_major": 2,
       "version_minor": 0
      },
      "text/plain": [
       "HBox(children=(FloatProgress(value=0.0, description='Thresholds', max=5.0, style=ProgressStyle(description_wid…"
      ]
     },
     "metadata": {},
     "output_type": "display_data"
    },
    {
     "data": {
      "application/vnd.jupyter.widget-view+json": {
       "model_id": "",
       "version_major": 2,
       "version_minor": 0
      },
      "text/plain": [
       "HBox(children=(FloatProgress(value=0.0, max=745.0), HTML(value='')))"
      ]
     },
     "metadata": {},
     "output_type": "display_data"
    },
    {
     "data": {
      "application/vnd.jupyter.widget-view+json": {
       "model_id": "",
       "version_major": 2,
       "version_minor": 0
      },
      "text/plain": [
       "HBox(children=(FloatProgress(value=0.0, description='Thresholds', max=5.0, style=ProgressStyle(description_wid…"
      ]
     },
     "metadata": {},
     "output_type": "display_data"
    },
    {
     "name": "stdout",
     "output_type": "stream",
     "text": [
      "Saved best model ep 3 with f score : 0.6588727139419738\n",
      "Ep 3: Train loss 9.4484 | Val f score 0.6589 with thresh 0.49, train f score 0.6547 with thresh 0.76\n"
     ]
    },
    {
     "data": {
      "application/vnd.jupyter.widget-view+json": {
       "model_id": "",
       "version_major": 2,
       "version_minor": 0
      },
      "text/plain": [
       "HBox(children=(FloatProgress(value=0.0, max=327.0), HTML(value='')))"
      ]
     },
     "metadata": {},
     "output_type": "display_data"
    },
    {
     "data": {
      "application/vnd.jupyter.widget-view+json": {
       "model_id": "",
       "version_major": 2,
       "version_minor": 0
      },
      "text/plain": [
       "HBox(children=(FloatProgress(value=0.0, description='Thresholds', max=5.0, style=ProgressStyle(description_wid…"
      ]
     },
     "metadata": {},
     "output_type": "display_data"
    },
    {
     "name": "stdout",
     "output_type": "stream",
     "text": [
      "Checkpoint : saved model to data/clip/test_20ap_im_res50_ep_4.pth\n"
     ]
    },
    {
     "data": {
      "application/vnd.jupyter.widget-view+json": {
       "model_id": "",
       "version_major": 2,
       "version_minor": 0
      },
      "text/plain": [
       "HBox(children=(FloatProgress(value=0.0, max=745.0), HTML(value='')))"
      ]
     },
     "metadata": {},
     "output_type": "display_data"
    },
    {
     "data": {
      "application/vnd.jupyter.widget-view+json": {
       "model_id": "",
       "version_major": 2,
       "version_minor": 0
      },
      "text/plain": [
       "HBox(children=(FloatProgress(value=0.0, description='Thresholds', max=5.0, style=ProgressStyle(description_wid…"
      ]
     },
     "metadata": {},
     "output_type": "display_data"
    },
    {
     "name": "stdout",
     "output_type": "stream",
     "text": [
      "Saved best model ep 4 with f score : 0.6766706201743063\n",
      "Ep 4: Train loss 7.0888 | Val f score 0.6767 with thresh 0.59, train f score 0.7428 with thresh 0.76\n"
     ]
    },
    {
     "data": {
      "application/vnd.jupyter.widget-view+json": {
       "model_id": "",
       "version_major": 2,
       "version_minor": 0
      },
      "text/plain": [
       "HBox(children=(FloatProgress(value=0.0, max=327.0), HTML(value='')))"
      ]
     },
     "metadata": {},
     "output_type": "display_data"
    },
    {
     "data": {
      "application/vnd.jupyter.widget-view+json": {
       "model_id": "",
       "version_major": 2,
       "version_minor": 0
      },
      "text/plain": [
       "HBox(children=(FloatProgress(value=0.0, description='Thresholds', max=5.0, style=ProgressStyle(description_wid…"
      ]
     },
     "metadata": {},
     "output_type": "display_data"
    },
    {
     "data": {
      "application/vnd.jupyter.widget-view+json": {
       "model_id": "",
       "version_major": 2,
       "version_minor": 0
      },
      "text/plain": [
       "HBox(children=(FloatProgress(value=0.0, max=745.0), HTML(value='')))"
      ]
     },
     "metadata": {},
     "output_type": "display_data"
    },
    {
     "data": {
      "application/vnd.jupyter.widget-view+json": {
       "model_id": "",
       "version_major": 2,
       "version_minor": 0
      },
      "text/plain": [
       "HBox(children=(FloatProgress(value=0.0, description='Thresholds', max=5.0, style=ProgressStyle(description_wid…"
      ]
     },
     "metadata": {},
     "output_type": "display_data"
    },
    {
     "name": "stdout",
     "output_type": "stream",
     "text": [
      "Saved best model ep 5 with f score : 0.6884154413996265\n",
      "Ep 5: Train loss 5.1298 | Val f score 0.6884 with thresh 0.59, train f score 0.8078 with thresh 0.81\n"
     ]
    },
    {
     "data": {
      "application/vnd.jupyter.widget-view+json": {
       "model_id": "",
       "version_major": 2,
       "version_minor": 0
      },
      "text/plain": [
       "HBox(children=(FloatProgress(value=0.0, max=327.0), HTML(value='')))"
      ]
     },
     "metadata": {},
     "output_type": "display_data"
    },
    {
     "data": {
      "application/vnd.jupyter.widget-view+json": {
       "model_id": "",
       "version_major": 2,
       "version_minor": 0
      },
      "text/plain": [
       "HBox(children=(FloatProgress(value=0.0, description='Thresholds', max=5.0, style=ProgressStyle(description_wid…"
      ]
     },
     "metadata": {},
     "output_type": "display_data"
    },
    {
     "name": "stdout",
     "output_type": "stream",
     "text": [
      "Checkpoint : saved model to data/clip/test_20ap_im_res50_ep_6.pth\n"
     ]
    },
    {
     "data": {
      "application/vnd.jupyter.widget-view+json": {
       "model_id": "",
       "version_major": 2,
       "version_minor": 0
      },
      "text/plain": [
       "HBox(children=(FloatProgress(value=0.0, max=745.0), HTML(value='')))"
      ]
     },
     "metadata": {},
     "output_type": "display_data"
    },
    {
     "data": {
      "application/vnd.jupyter.widget-view+json": {
       "model_id": "",
       "version_major": 2,
       "version_minor": 0
      },
      "text/plain": [
       "HBox(children=(FloatProgress(value=0.0, description='Thresholds', max=5.0, style=ProgressStyle(description_wid…"
      ]
     },
     "metadata": {},
     "output_type": "display_data"
    },
    {
     "name": "stdout",
     "output_type": "stream",
     "text": [
      "Saved best model ep 6 with f score : 0.6937082190002374\n",
      "Ep 6: Train loss 3.3783 | Val f score 0.6937 with thresh 0.64, train f score 0.8636 with thresh 0.81\n"
     ]
    },
    {
     "data": {
      "application/vnd.jupyter.widget-view+json": {
       "model_id": "",
       "version_major": 2,
       "version_minor": 0
      },
      "text/plain": [
       "HBox(children=(FloatProgress(value=0.0, max=327.0), HTML(value='')))"
      ]
     },
     "metadata": {},
     "output_type": "display_data"
    },
    {
     "data": {
      "application/vnd.jupyter.widget-view+json": {
       "model_id": "",
       "version_major": 2,
       "version_minor": 0
      },
      "text/plain": [
       "HBox(children=(FloatProgress(value=0.0, description='Thresholds', max=5.0, style=ProgressStyle(description_wid…"
      ]
     },
     "metadata": {},
     "output_type": "display_data"
    },
    {
     "data": {
      "application/vnd.jupyter.widget-view+json": {
       "model_id": "",
       "version_major": 2,
       "version_minor": 0
      },
      "text/plain": [
       "HBox(children=(FloatProgress(value=0.0, max=745.0), HTML(value='')))"
      ]
     },
     "metadata": {},
     "output_type": "display_data"
    },
    {
     "data": {
      "application/vnd.jupyter.widget-view+json": {
       "model_id": "",
       "version_major": 2,
       "version_minor": 0
      },
      "text/plain": [
       "HBox(children=(FloatProgress(value=0.0, description='Thresholds', max=5.0, style=ProgressStyle(description_wid…"
      ]
     },
     "metadata": {},
     "output_type": "display_data"
    },
    {
     "name": "stdout",
     "output_type": "stream",
     "text": [
      "Ep 7: Train loss 2.1293 | Val f score 0.6777 with thresh 0.64, train f score 0.9101 with thresh 0.86\n"
     ]
    },
    {
     "data": {
      "application/vnd.jupyter.widget-view+json": {
       "model_id": "",
       "version_major": 2,
       "version_minor": 0
      },
      "text/plain": [
       "HBox(children=(FloatProgress(value=0.0, max=327.0), HTML(value='')))"
      ]
     },
     "metadata": {},
     "output_type": "display_data"
    },
    {
     "data": {
      "application/vnd.jupyter.widget-view+json": {
       "model_id": "",
       "version_major": 2,
       "version_minor": 0
      },
      "text/plain": [
       "HBox(children=(FloatProgress(value=0.0, description='Thresholds', max=5.0, style=ProgressStyle(description_wid…"
      ]
     },
     "metadata": {},
     "output_type": "display_data"
    },
    {
     "name": "stdout",
     "output_type": "stream",
     "text": [
      "Checkpoint : saved model to data/clip/test_20ap_im_res50_ep_8.pth\n"
     ]
    },
    {
     "data": {
      "application/vnd.jupyter.widget-view+json": {
       "model_id": "",
       "version_major": 2,
       "version_minor": 0
      },
      "text/plain": [
       "HBox(children=(FloatProgress(value=0.0, max=745.0), HTML(value='')))"
      ]
     },
     "metadata": {},
     "output_type": "display_data"
    },
    {
     "data": {
      "application/vnd.jupyter.widget-view+json": {
       "model_id": "",
       "version_major": 2,
       "version_minor": 0
      },
      "text/plain": [
       "HBox(children=(FloatProgress(value=0.0, description='Thresholds', max=5.0, style=ProgressStyle(description_wid…"
      ]
     },
     "metadata": {},
     "output_type": "display_data"
    },
    {
     "name": "stdout",
     "output_type": "stream",
     "text": [
      "Saved best model ep 8 with f score : 0.7024859165653851\n",
      "Ep 8: Train loss 1.3773 | Val f score 0.7025 with thresh 0.69, train f score 0.9408 with thresh 0.81\n"
     ]
    },
    {
     "data": {
      "application/vnd.jupyter.widget-view+json": {
       "model_id": "",
       "version_major": 2,
       "version_minor": 0
      },
      "text/plain": [
       "HBox(children=(FloatProgress(value=0.0, max=327.0), HTML(value='')))"
      ]
     },
     "metadata": {},
     "output_type": "display_data"
    },
    {
     "data": {
      "application/vnd.jupyter.widget-view+json": {
       "model_id": "",
       "version_major": 2,
       "version_minor": 0
      },
      "text/plain": [
       "HBox(children=(FloatProgress(value=0.0, description='Thresholds', max=5.0, style=ProgressStyle(description_wid…"
      ]
     },
     "metadata": {},
     "output_type": "display_data"
    },
    {
     "data": {
      "application/vnd.jupyter.widget-view+json": {
       "model_id": "",
       "version_major": 2,
       "version_minor": 0
      },
      "text/plain": [
       "HBox(children=(FloatProgress(value=0.0, max=745.0), HTML(value='')))"
      ]
     },
     "metadata": {},
     "output_type": "display_data"
    },
    {
     "data": {
      "application/vnd.jupyter.widget-view+json": {
       "model_id": "",
       "version_major": 2,
       "version_minor": 0
      },
      "text/plain": [
       "HBox(children=(FloatProgress(value=0.0, description='Thresholds', max=5.0, style=ProgressStyle(description_wid…"
      ]
     },
     "metadata": {},
     "output_type": "display_data"
    },
    {
     "name": "stdout",
     "output_type": "stream",
     "text": [
      "Ep 9: Train loss 1.0794 | Val f score 0.7024 with thresh 0.69, train f score 0.9532 with thresh 0.86\n",
      "\r"
     ]
    }
   ],
   "source": [
    "best_thr_score, thr_score_hist, losses = train(model, optimizer, lf, sched, metric_fc, tr_dl, val_dl,\n",
    "                                               n_epochs, train_df, val_df, train_tfms, val_tfms, \n",
    "                                               save_path=save_path, \n",
    "                                               prev_best_info=best_thr_score, info_history=thr_score_hist,\n",
    "                                               ep_start=ep_start, half_precision=True)\n",
    "loss_hist.append(losses)\n",
    "ep_start += n_epochs"
   ]
  },
  {
   "cell_type": "code",
   "execution_count": 13,
   "metadata": {},
   "outputs": [
    {
     "data": {
      "image/png": "[encoded data removed]",
      "text/plain": [
       "<Figure size 432x288 with 1 Axes>"
      ]
     },
     "metadata": {
      "needs_background": "light"
     },
     "output_type": "display_data"
    },
    {
     "data": {
      "image/png": "[encoded data removed]",
      "text/plain": [
       "<Figure size 432x288 with 1 Axes>"
      ]
     },
     "metadata": {
      "needs_background": "light"
     },
     "output_type": "display_data"
    }
   ],
   "source": [
    "plot_hist(thr_score_hist)"
   ]
  },
  {
   "cell_type": "markdown",
   "metadata": {},
   "source": [
    "## Only text"
   ]
  },
  {
   "cell_type": "markdown",
   "metadata": {
    "heading_collapsed": true
   },
   "source": [
    "### Traduction indonesian english"
   ]
  },
  {
   "cell_type": "code",
   "execution_count": 1,
   "metadata": {
    "hidden": true
   },
   "outputs": [],
   "source": [
    "from imports import *"
   ]
  },
  {
   "cell_type": "code",
   "execution_count": 2,
   "metadata": {
    "hidden": true
   },
   "outputs": [],
   "source": [
    "def text_to_device(text, device):\n",
    "    return {'input_ids' : text['input_ids'].to(device),\n",
    "            'attention_mask' : text['attention_mask'].to(device)}"
   ]
  },
  {
   "cell_type": "code",
   "execution_count": 3,
   "metadata": {
    "hidden": true
   },
   "outputs": [],
   "source": [
    "df = pd.read_csv('data/train.csv')"
   ]
  },
  {
   "cell_type": "code",
   "execution_count": 4,
   "metadata": {
    "hidden": true
   },
   "outputs": [
    {
     "data": {
      "text/plain": [
       "MarianMTModel(\n",
       "  (model): MarianModel(\n",
       "    (shared): Embedding(54796, 512, padding_idx=54795)\n",
       "    (encoder): MarianEncoder(\n",
       "      (embed_tokens): Embedding(54796, 512, padding_idx=54795)\n",
       "      (embed_positions): MarianSinusoidalPositionalEmbedding(512, 512)\n",
       "      (layers): ModuleList(\n",
       "        (0): MarianEncoderLayer(\n",
       "          (self_attn): MarianAttention(\n",
       "            (k_proj): Linear(in_features=512, out_features=512, bias=True)\n",
       "            (v_proj): Linear(in_features=512, out_features=512, bias=True)\n",
       "            (q_proj): Linear(in_features=512, out_features=512, bias=True)\n",
       "            (out_proj): Linear(in_features=512, out_features=512, bias=True)\n",
       "          )\n",
       "          (self_attn_layer_norm): LayerNorm((512,), eps=1e-05, elementwise_affine=True)\n",
       "          (fc1): Linear(in_features=512, out_features=2048, bias=True)\n",
       "          (fc2): Linear(in_features=2048, out_features=512, bias=True)\n",
       "          (final_layer_norm): LayerNorm((512,), eps=1e-05, elementwise_affine=True)\n",
       "        )\n",
       "        (1): MarianEncoderLayer(\n",
       "          (self_attn): MarianAttention(\n",
       "            (k_proj): Linear(in_features=512, out_features=512, bias=True)\n",
       "            (v_proj): Linear(in_features=512, out_features=512, bias=True)\n",
       "            (q_proj): Linear(in_features=512, out_features=512, bias=True)\n",
       "            (out_proj): Linear(in_features=512, out_features=512, bias=True)\n",
       "          )\n",
       "          (self_attn_layer_norm): LayerNorm((512,), eps=1e-05, elementwise_affine=True)\n",
       "          (fc1): Linear(in_features=512, out_features=2048, bias=True)\n",
       "          (fc2): Linear(in_features=2048, out_features=512, bias=True)\n",
       "          (final_layer_norm): LayerNorm((512,), eps=1e-05, elementwise_affine=True)\n",
       "        )\n",
       "        (2): MarianEncoderLayer(\n",
       "          (self_attn): MarianAttention(\n",
       "            (k_proj): Linear(in_features=512, out_features=512, bias=True)\n",
       "            (v_proj): Linear(in_features=512, out_features=512, bias=True)\n",
       "            (q_proj): Linear(in_features=512, out_features=512, bias=True)\n",
       "            (out_proj): Linear(in_features=512, out_features=512, bias=True)\n",
       "          )\n",
       "          (self_attn_layer_norm): LayerNorm((512,), eps=1e-05, elementwise_affine=True)\n",
       "          (fc1): Linear(in_features=512, out_features=2048, bias=True)\n",
       "          (fc2): Linear(in_features=2048, out_features=512, bias=True)\n",
       "          (final_layer_norm): LayerNorm((512,), eps=1e-05, elementwise_affine=True)\n",
       "        )\n",
       "        (3): MarianEncoderLayer(\n",
       "          (self_attn): MarianAttention(\n",
       "            (k_proj): Linear(in_features=512, out_features=512, bias=True)\n",
       "            (v_proj): Linear(in_features=512, out_features=512, bias=True)\n",
       "            (q_proj): Linear(in_features=512, out_features=512, bias=True)\n",
       "            (out_proj): Linear(in_features=512, out_features=512, bias=True)\n",
       "          )\n",
       "          (self_attn_layer_norm): LayerNorm((512,), eps=1e-05, elementwise_affine=True)\n",
       "          (fc1): Linear(in_features=512, out_features=2048, bias=True)\n",
       "          (fc2): Linear(in_features=2048, out_features=512, bias=True)\n",
       "          (final_layer_norm): LayerNorm((512,), eps=1e-05, elementwise_affine=True)\n",
       "        )\n",
       "        (4): MarianEncoderLayer(\n",
       "          (self_attn): MarianAttention(\n",
       "            (k_proj): Linear(in_features=512, out_features=512, bias=True)\n",
       "            (v_proj): Linear(in_features=512, out_features=512, bias=True)\n",
       "            (q_proj): Linear(in_features=512, out_features=512, bias=True)\n",
       "            (out_proj): Linear(in_features=512, out_features=512, bias=True)\n",
       "          )\n",
       "          (self_attn_layer_norm): LayerNorm((512,), eps=1e-05, elementwise_affine=True)\n",
       "          (fc1): Linear(in_features=512, out_features=2048, bias=True)\n",
       "          (fc2): Linear(in_features=2048, out_features=512, bias=True)\n",
       "          (final_layer_norm): LayerNorm((512,), eps=1e-05, elementwise_affine=True)\n",
       "        )\n",
       "        (5): MarianEncoderLayer(\n",
       "          (self_attn): MarianAttention(\n",
       "            (k_proj): Linear(in_features=512, out_features=512, bias=True)\n",
       "            (v_proj): Linear(in_features=512, out_features=512, bias=True)\n",
       "            (q_proj): Linear(in_features=512, out_features=512, bias=True)\n",
       "            (out_proj): Linear(in_features=512, out_features=512, bias=True)\n",
       "          )\n",
       "          (self_attn_layer_norm): LayerNorm((512,), eps=1e-05, elementwise_affine=True)\n",
       "          (fc1): Linear(in_features=512, out_features=2048, bias=True)\n",
       "          (fc2): Linear(in_features=2048, out_features=512, bias=True)\n",
       "          (final_layer_norm): LayerNorm((512,), eps=1e-05, elementwise_affine=True)\n",
       "        )\n",
       "      )\n",
       "    )\n",
       "    (decoder): MarianDecoder(\n",
       "      (embed_tokens): Embedding(54796, 512, padding_idx=54795)\n",
       "      (embed_positions): MarianSinusoidalPositionalEmbedding(512, 512)\n",
       "      (layers): ModuleList(\n",
       "        (0): MarianDecoderLayer(\n",
       "          (self_attn): MarianAttention(\n",
       "            (k_proj): Linear(in_features=512, out_features=512, bias=True)\n",
       "            (v_proj): Linear(in_features=512, out_features=512, bias=True)\n",
       "            (q_proj): Linear(in_features=512, out_features=512, bias=True)\n",
       "            (out_proj): Linear(in_features=512, out_features=512, bias=True)\n",
       "          )\n",
       "          (self_attn_layer_norm): LayerNorm((512,), eps=1e-05, elementwise_affine=True)\n",
       "          (encoder_attn): MarianAttention(\n",
       "            (k_proj): Linear(in_features=512, out_features=512, bias=True)\n",
       "            (v_proj): Linear(in_features=512, out_features=512, bias=True)\n",
       "            (q_proj): Linear(in_features=512, out_features=512, bias=True)\n",
       "            (out_proj): Linear(in_features=512, out_features=512, bias=True)\n",
       "          )\n",
       "          (encoder_attn_layer_norm): LayerNorm((512,), eps=1e-05, elementwise_affine=True)\n",
       "          (fc1): Linear(in_features=512, out_features=2048, bias=True)\n",
       "          (fc2): Linear(in_features=2048, out_features=512, bias=True)\n",
       "          (final_layer_norm): LayerNorm((512,), eps=1e-05, elementwise_affine=True)\n",
       "        )\n",
       "        (1): MarianDecoderLayer(\n",
       "          (self_attn): MarianAttention(\n",
       "            (k_proj): Linear(in_features=512, out_features=512, bias=True)\n",
       "            (v_proj): Linear(in_features=512, out_features=512, bias=True)\n",
       "            (q_proj): Linear(in_features=512, out_features=512, bias=True)\n",
       "            (out_proj): Linear(in_features=512, out_features=512, bias=True)\n",
       "          )\n",
       "          (self_attn_layer_norm): LayerNorm((512,), eps=1e-05, elementwise_affine=True)\n",
       "          (encoder_attn): MarianAttention(\n",
       "            (k_proj): Linear(in_features=512, out_features=512, bias=True)\n",
       "            (v_proj): Linear(in_features=512, out_features=512, bias=True)\n",
       "            (q_proj): Linear(in_features=512, out_features=512, bias=True)\n",
       "            (out_proj): Linear(in_features=512, out_features=512, bias=True)\n",
       "          )\n",
       "          (encoder_attn_layer_norm): LayerNorm((512,), eps=1e-05, elementwise_affine=True)\n",
       "          (fc1): Linear(in_features=512, out_features=2048, bias=True)\n",
       "          (fc2): Linear(in_features=2048, out_features=512, bias=True)\n",
       "          (final_layer_norm): LayerNorm((512,), eps=1e-05, elementwise_affine=True)\n",
       "        )\n",
       "        (2): MarianDecoderLayer(\n",
       "          (self_attn): MarianAttention(\n",
       "            (k_proj): Linear(in_features=512, out_features=512, bias=True)\n",
       "            (v_proj): Linear(in_features=512, out_features=512, bias=True)\n",
       "            (q_proj): Linear(in_features=512, out_features=512, bias=True)\n",
       "            (out_proj): Linear(in_features=512, out_features=512, bias=True)\n",
       "          )\n",
       "          (self_attn_layer_norm): LayerNorm((512,), eps=1e-05, elementwise_affine=True)\n",
       "          (encoder_attn): MarianAttention(\n",
       "            (k_proj): Linear(in_features=512, out_features=512, bias=True)\n",
       "            (v_proj): Linear(in_features=512, out_features=512, bias=True)\n",
       "            (q_proj): Linear(in_features=512, out_features=512, bias=True)\n",
       "            (out_proj): Linear(in_features=512, out_features=512, bias=True)\n",
       "          )\n",
       "          (encoder_attn_layer_norm): LayerNorm((512,), eps=1e-05, elementwise_affine=True)\n",
       "          (fc1): Linear(in_features=512, out_features=2048, bias=True)\n",
       "          (fc2): Linear(in_features=2048, out_features=512, bias=True)\n",
       "          (final_layer_norm): LayerNorm((512,), eps=1e-05, elementwise_affine=True)\n",
       "        )\n",
       "        (3): MarianDecoderLayer(\n",
       "          (self_attn): MarianAttention(\n",
       "            (k_proj): Linear(in_features=512, out_features=512, bias=True)\n",
       "            (v_proj): Linear(in_features=512, out_features=512, bias=True)\n",
       "            (q_proj): Linear(in_features=512, out_features=512, bias=True)\n",
       "            (out_proj): Linear(in_features=512, out_features=512, bias=True)\n",
       "          )\n",
       "          (self_attn_layer_norm): LayerNorm((512,), eps=1e-05, elementwise_affine=True)\n",
       "          (encoder_attn): MarianAttention(\n",
       "            (k_proj): Linear(in_features=512, out_features=512, bias=True)\n",
       "            (v_proj): Linear(in_features=512, out_features=512, bias=True)\n",
       "            (q_proj): Linear(in_features=512, out_features=512, bias=True)\n",
       "            (out_proj): Linear(in_features=512, out_features=512, bias=True)\n",
       "          )\n",
       "          (encoder_attn_layer_norm): LayerNorm((512,), eps=1e-05, elementwise_affine=True)\n",
       "          (fc1): Linear(in_features=512, out_features=2048, bias=True)\n",
       "          (fc2): Linear(in_features=2048, out_features=512, bias=True)\n",
       "          (final_layer_norm): LayerNorm((512,), eps=1e-05, elementwise_affine=True)\n",
       "        )\n",
       "        (4): MarianDecoderLayer(\n",
       "          (self_attn): MarianAttention(\n",
       "            (k_proj): Linear(in_features=512, out_features=512, bias=True)\n",
       "            (v_proj): Linear(in_features=512, out_features=512, bias=True)\n",
       "            (q_proj): Linear(in_features=512, out_features=512, bias=True)\n",
       "            (out_proj): Linear(in_features=512, out_features=512, bias=True)\n",
       "          )\n",
       "          (self_attn_layer_norm): LayerNorm((512,), eps=1e-05, elementwise_affine=True)\n",
       "          (encoder_attn): MarianAttention(\n",
       "            (k_proj): Linear(in_features=512, out_features=512, bias=True)\n",
       "            (v_proj): Linear(in_features=512, out_features=512, bias=True)\n",
       "            (q_proj): Linear(in_features=512, out_features=512, bias=True)\n",
       "            (out_proj): Linear(in_features=512, out_features=512, bias=True)\n",
       "          )\n",
       "          (encoder_attn_layer_norm): LayerNorm((512,), eps=1e-05, elementwise_affine=True)\n",
       "          (fc1): Linear(in_features=512, out_features=2048, bias=True)\n",
       "          (fc2): Linear(in_features=2048, out_features=512, bias=True)\n",
       "          (final_layer_norm): LayerNorm((512,), eps=1e-05, elementwise_affine=True)\n",
       "        )\n",
       "        (5): MarianDecoderLayer(\n",
       "          (self_attn): MarianAttention(\n",
       "            (k_proj): Linear(in_features=512, out_features=512, bias=True)\n",
       "            (v_proj): Linear(in_features=512, out_features=512, bias=True)\n",
       "            (q_proj): Linear(in_features=512, out_features=512, bias=True)\n",
       "            (out_proj): Linear(in_features=512, out_features=512, bias=True)\n",
       "          )\n",
       "          (self_attn_layer_norm): LayerNorm((512,), eps=1e-05, elementwise_affine=True)\n",
       "          (encoder_attn): MarianAttention(\n",
       "            (k_proj): Linear(in_features=512, out_features=512, bias=True)\n",
       "            (v_proj): Linear(in_features=512, out_features=512, bias=True)\n",
       "            (q_proj): Linear(in_features=512, out_features=512, bias=True)\n",
       "            (out_proj): Linear(in_features=512, out_features=512, bias=True)\n",
       "          )\n",
       "          (encoder_attn_layer_norm): LayerNorm((512,), eps=1e-05, elementwise_affine=True)\n",
       "          (fc1): Linear(in_features=512, out_features=2048, bias=True)\n",
       "          (fc2): Linear(in_features=2048, out_features=512, bias=True)\n",
       "          (final_layer_norm): LayerNorm((512,), eps=1e-05, elementwise_affine=True)\n",
       "        )\n",
       "      )\n",
       "    )\n",
       "  )\n",
       "  (lm_head): Linear(in_features=512, out_features=54796, bias=False)\n",
       ")"
      ]
     },
     "execution_count": 4,
     "metadata": {},
     "output_type": "execute_result"
    }
   ],
   "source": [
    "from transformers import AutoTokenizer, AutoModelForSeq2SeqLM, pipeline\n",
    "\n",
    "tokenizer = AutoTokenizer.from_pretrained(\"data/translation\")\n",
    "txt_model = AutoModelForSeq2SeqLM.from_pretrained(\"data/translation\")\n",
    "\n",
    "txt_model.cuda()\n",
    "txt_model.eval()"
   ]
  },
  {
   "cell_type": "code",
   "execution_count": 5,
   "metadata": {
    "hidden": true
   },
   "outputs": [
    {
     "name": "stdout",
     "output_type": "stream",
     "text": [
      "translating texts\n"
     ]
    },
    {
     "data": {
      "application/vnd.jupyter.widget-view+json": {
       "model_id": "8e05176723194a809053109c1b6502ed",
       "version_major": 2,
       "version_minor": 0
      },
      "text/plain": [
       "HBox(children=(FloatProgress(value=0.0, max=2141.0), HTML(value='')))"
      ]
     },
     "metadata": {},
     "output_type": "display_data"
    },
    {
     "name": "stdout",
     "output_type": "stream",
     "text": [
      "torch.Size([16, 49])\n",
      "torch.Size([16, 45])\n",
      "torch.Size([16, 40])\n",
      "torch.Size([16, 35])\n",
      "torch.Size([16, 49])\n",
      "torch.Size([16, 59])\n",
      "torch.Size([16, 36])\n",
      "torch.Size([16, 41])\n",
      "torch.Size([16, 34])\n",
      "torch.Size([16, 51])\n",
      "torch.Size([16, 34])\n",
      "torch.Size([16, 30])\n",
      "torch.Size([16, 34])\n",
      "torch.Size([16, 48])\n",
      "torch.Size([16, 34])\n",
      "torch.Size([16, 33])\n",
      "torch.Size([16, 55])\n",
      "torch.Size([16, 78])\n",
      "torch.Size([16, 50])\n",
      "torch.Size([16, 43])\n",
      "torch.Size([16, 37])\n",
      "torch.Size([16, 49])\n",
      "torch.Size([16, 51])\n",
      "torch.Size([16, 55])\n",
      "torch.Size([16, 36])\n",
      "torch.Size([16, 90])\n",
      "torch.Size([16, 47])\n",
      "torch.Size([16, 46])\n",
      "torch.Size([16, 39])\n",
      "torch.Size([16, 40])\n",
      "torch.Size([16, 33])\n",
      "torch.Size([16, 38])\n",
      "torch.Size([16, 42])\n",
      "torch.Size([16, 34])\n",
      "torch.Size([16, 54])\n",
      "torch.Size([16, 48])\n",
      "torch.Size([16, 52])\n",
      "torch.Size([16, 38])\n",
      "torch.Size([16, 95])\n",
      "torch.Size([16, 79])\n",
      "torch.Size([16, 79])\n",
      "torch.Size([16, 54])\n",
      "torch.Size([16, 73])\n",
      "torch.Size([16, 35])\n",
      "torch.Size([16, 46])\n",
      "torch.Size([16, 42])\n",
      "torch.Size([16, 34])\n",
      "torch.Size([16, 45])\n",
      "torch.Size([16, 60])\n",
      "torch.Size([16, 51])\n",
      "torch.Size([16, 38])\n",
      "torch.Size([16, 73])\n",
      "torch.Size([16, 30])\n",
      "torch.Size([16, 67])\n",
      "torch.Size([16, 33])\n",
      "torch.Size([16, 54])\n",
      "torch.Size([16, 80])\n",
      "torch.Size([16, 41])\n",
      "torch.Size([16, 65])\n",
      "torch.Size([16, 27])\n",
      "torch.Size([16, 63])\n",
      "torch.Size([16, 30])\n",
      "torch.Size([16, 37])\n",
      "torch.Size([16, 49])\n",
      "torch.Size([16, 28])\n",
      "torch.Size([16, 50])\n",
      "torch.Size([16, 48])\n",
      "torch.Size([16, 51])\n",
      "torch.Size([16, 27])\n",
      "torch.Size([16, 44])\n",
      "torch.Size([16, 34])\n",
      "torch.Size([16, 30])\n",
      "torch.Size([16, 28])\n",
      "torch.Size([16, 35])\n",
      "torch.Size([16, 49])\n",
      "torch.Size([16, 44])\n",
      "torch.Size([16, 51])\n",
      "torch.Size([16, 53])\n",
      "torch.Size([16, 47])\n",
      "torch.Size([16, 36])\n",
      "torch.Size([16, 45])\n",
      "torch.Size([16, 28])\n",
      "torch.Size([16, 31])\n",
      "torch.Size([16, 31])\n",
      "torch.Size([16, 32])\n",
      "torch.Size([16, 51])\n",
      "torch.Size([16, 36])\n",
      "torch.Size([16, 34])\n",
      "torch.Size([16, 42])\n",
      "torch.Size([16, 54])\n",
      "torch.Size([16, 56])\n",
      "torch.Size([16, 49])\n",
      "torch.Size([16, 42])\n",
      "torch.Size([16, 48])\n",
      "torch.Size([16, 45])\n",
      "torch.Size([16, 41])\n",
      "torch.Size([16, 36])\n",
      "torch.Size([16, 34])\n",
      "torch.Size([16, 43])\n",
      "torch.Size([16, 49])\n",
      "torch.Size([16, 41])\n",
      "torch.Size([16, 35])\n",
      "torch.Size([16, 52])\n",
      "torch.Size([16, 38])\n",
      "torch.Size([16, 47])\n",
      "torch.Size([16, 72])\n",
      "torch.Size([16, 45])\n",
      "torch.Size([16, 38])\n",
      "torch.Size([16, 29])\n",
      "torch.Size([16, 65])\n",
      "torch.Size([16, 66])\n",
      "torch.Size([16, 56])\n",
      "torch.Size([16, 56])\n",
      "torch.Size([16, 46])\n",
      "torch.Size([16, 52])\n",
      "torch.Size([16, 44])\n",
      "torch.Size([16, 42])\n",
      "torch.Size([16, 25])\n",
      "torch.Size([16, 54])\n",
      "torch.Size([16, 38])\n",
      "torch.Size([16, 41])\n",
      "torch.Size([16, 47])\n",
      "torch.Size([16, 36])\n",
      "torch.Size([16, 53])\n",
      "torch.Size([16, 48])\n",
      "torch.Size([16, 45])\n",
      "torch.Size([16, 55])\n",
      "torch.Size([16, 33])\n",
      "torch.Size([16, 44])\n",
      "torch.Size([16, 37])\n",
      "torch.Size([16, 43])\n",
      "torch.Size([16, 42])\n",
      "torch.Size([16, 34])\n",
      "torch.Size([16, 36])\n",
      "torch.Size([16, 34])\n",
      "torch.Size([16, 41])\n",
      "torch.Size([16, 45])\n",
      "torch.Size([16, 35])\n",
      "torch.Size([16, 33])\n",
      "torch.Size([16, 45])\n",
      "torch.Size([16, 33])\n",
      "torch.Size([16, 48])\n",
      "torch.Size([16, 48])\n",
      "torch.Size([16, 41])\n",
      "torch.Size([16, 50])\n",
      "torch.Size([16, 44])\n",
      "torch.Size([16, 43])\n",
      "torch.Size([16, 47])\n",
      "torch.Size([16, 43])\n",
      "torch.Size([16, 45])\n",
      "torch.Size([16, 42])\n",
      "torch.Size([16, 41])\n",
      "torch.Size([16, 45])\n",
      "torch.Size([16, 40])\n",
      "torch.Size([16, 37])\n",
      "torch.Size([16, 114])\n",
      "torch.Size([16, 31])\n",
      "torch.Size([16, 37])\n",
      "torch.Size([16, 37])\n",
      "torch.Size([16, 32])\n",
      "torch.Size([16, 44])\n",
      "torch.Size([16, 47])\n",
      "torch.Size([16, 36])\n",
      "torch.Size([16, 34])\n",
      "torch.Size([16, 36])\n",
      "torch.Size([16, 55])\n",
      "torch.Size([16, 40])\n",
      "torch.Size([16, 44])\n",
      "torch.Size([16, 31])\n",
      "torch.Size([16, 35])\n",
      "torch.Size([16, 41])\n",
      "torch.Size([16, 46])\n",
      "torch.Size([16, 38])\n",
      "torch.Size([16, 38])\n",
      "torch.Size([16, 27])\n",
      "torch.Size([16, 43])\n",
      "torch.Size([16, 76])\n",
      "torch.Size([16, 38])\n",
      "torch.Size([16, 49])\n",
      "torch.Size([16, 53])\n",
      "torch.Size([16, 47])\n",
      "torch.Size([16, 32])\n",
      "torch.Size([16, 56])\n",
      "torch.Size([16, 35])\n",
      "torch.Size([16, 47])\n",
      "torch.Size([16, 78])\n",
      "torch.Size([16, 52])\n",
      "torch.Size([16, 49])\n",
      "torch.Size([16, 45])\n",
      "torch.Size([16, 44])\n",
      "torch.Size([16, 87])\n",
      "torch.Size([16, 52])\n",
      "torch.Size([16, 48])\n",
      "torch.Size([16, 65])\n",
      "torch.Size([16, 41])\n",
      "torch.Size([16, 30])\n",
      "torch.Size([16, 41])\n",
      "torch.Size([16, 55])\n",
      "torch.Size([16, 27])\n",
      "torch.Size([16, 53])\n",
      "torch.Size([16, 29])\n",
      "torch.Size([16, 47])\n",
      "torch.Size([16, 47])\n",
      "torch.Size([16, 57])\n",
      "torch.Size([16, 69])\n",
      "torch.Size([16, 38])\n",
      "torch.Size([16, 49])\n",
      "torch.Size([16, 74])\n",
      "torch.Size([16, 28])\n",
      "torch.Size([16, 49])\n",
      "torch.Size([16, 124])\n",
      "torch.Size([16, 43])\n",
      "torch.Size([16, 39])\n",
      "torch.Size([16, 50])\n",
      "torch.Size([16, 44])\n",
      "torch.Size([16, 30])\n",
      "torch.Size([16, 43])\n",
      "torch.Size([16, 40])\n",
      "torch.Size([16, 42])\n",
      "torch.Size([16, 47])\n",
      "torch.Size([16, 128])\n",
      "torch.Size([16, 74])\n",
      "torch.Size([16, 47])\n",
      "torch.Size([16, 35])\n",
      "torch.Size([16, 41])\n",
      "torch.Size([16, 66])\n",
      "torch.Size([16, 38])\n",
      "torch.Size([16, 37])\n",
      "torch.Size([16, 32])\n",
      "torch.Size([16, 75])\n",
      "torch.Size([16, 45])\n",
      "torch.Size([16, 59])\n",
      "torch.Size([16, 59])\n",
      "torch.Size([16, 47])\n",
      "torch.Size([16, 42])\n",
      "torch.Size([16, 40])\n",
      "torch.Size([16, 27])\n",
      "torch.Size([16, 40])\n",
      "torch.Size([16, 37])\n",
      "torch.Size([16, 91])\n",
      "torch.Size([16, 30])\n",
      "torch.Size([16, 40])\n",
      "torch.Size([16, 33])\n",
      "torch.Size([16, 28])\n",
      "torch.Size([16, 34])\n",
      "torch.Size([16, 42])\n",
      "torch.Size([16, 32])\n",
      "torch.Size([16, 31])\n",
      "torch.Size([16, 53])\n",
      "torch.Size([16, 44])\n",
      "torch.Size([16, 37])\n",
      "torch.Size([16, 45])\n",
      "torch.Size([16, 48])\n",
      "torch.Size([16, 47])\n",
      "torch.Size([16, 48])\n",
      "torch.Size([16, 62])\n",
      "torch.Size([16, 36])\n",
      "torch.Size([16, 43])\n",
      "torch.Size([16, 35])\n",
      "torch.Size([16, 80])\n",
      "torch.Size([16, 51])\n",
      "torch.Size([16, 46])\n",
      "torch.Size([16, 28])\n",
      "torch.Size([16, 47])\n",
      "torch.Size([16, 44])\n",
      "torch.Size([16, 43])\n",
      "torch.Size([16, 42])\n",
      "torch.Size([16, 60])\n",
      "torch.Size([16, 41])\n",
      "torch.Size([16, 41])\n",
      "torch.Size([16, 33])\n",
      "torch.Size([16, 42])\n",
      "torch.Size([16, 47])\n",
      "torch.Size([16, 50])\n",
      "torch.Size([16, 40])\n",
      "torch.Size([16, 87])\n",
      "torch.Size([16, 43])\n",
      "torch.Size([16, 43])\n",
      "torch.Size([16, 42])\n",
      "torch.Size([16, 49])\n",
      "torch.Size([16, 48])\n",
      "torch.Size([16, 37])\n",
      "torch.Size([16, 41])\n",
      "torch.Size([16, 29])\n",
      "torch.Size([16, 32])\n",
      "torch.Size([16, 61])\n",
      "torch.Size([16, 33])\n",
      "torch.Size([16, 29])\n",
      "torch.Size([16, 46])\n",
      "torch.Size([16, 41])\n",
      "torch.Size([16, 34])\n",
      "torch.Size([16, 54])\n",
      "torch.Size([16, 43])\n",
      "torch.Size([16, 54])\n",
      "torch.Size([16, 42])\n",
      "torch.Size([16, 30])\n",
      "torch.Size([16, 30])\n",
      "torch.Size([16, 29])\n",
      "torch.Size([16, 39])\n",
      "torch.Size([16, 39])\n",
      "torch.Size([16, 79])\n",
      "torch.Size([16, 38])\n",
      "torch.Size([16, 38])\n",
      "torch.Size([16, 47])\n",
      "torch.Size([16, 34])\n",
      "torch.Size([16, 29])\n",
      "torch.Size([16, 35])\n",
      "torch.Size([16, 46])\n",
      "torch.Size([16, 69])\n",
      "torch.Size([16, 34])\n",
      "torch.Size([16, 48])\n",
      "torch.Size([16, 32])\n",
      "torch.Size([16, 49])\n",
      "torch.Size([16, 42])\n",
      "torch.Size([16, 39])\n",
      "torch.Size([16, 32])\n",
      "torch.Size([16, 55])\n",
      "torch.Size([16, 45])\n",
      "torch.Size([16, 50])\n",
      "torch.Size([16, 39])\n",
      "torch.Size([16, 48])\n",
      "torch.Size([16, 51])\n",
      "torch.Size([16, 49])\n",
      "torch.Size([16, 45])\n",
      "torch.Size([16, 60])\n",
      "torch.Size([16, 35])\n",
      "torch.Size([16, 33])\n",
      "torch.Size([16, 44])\n",
      "torch.Size([16, 45])\n",
      "torch.Size([16, 73])\n",
      "torch.Size([16, 35])\n",
      "torch.Size([16, 44])\n",
      "torch.Size([16, 57])\n",
      "torch.Size([16, 50])\n",
      "torch.Size([16, 59])\n",
      "torch.Size([16, 32])\n",
      "torch.Size([16, 51])\n",
      "torch.Size([16, 55])\n",
      "torch.Size([16, 33])\n",
      "torch.Size([16, 45])\n",
      "torch.Size([16, 42])\n",
      "torch.Size([16, 54])\n",
      "torch.Size([16, 38])\n",
      "torch.Size([16, 41])\n",
      "torch.Size([16, 39])\n",
      "torch.Size([16, 48])\n",
      "torch.Size([16, 42])\n",
      "torch.Size([16, 51])\n",
      "torch.Size([16, 32])\n",
      "torch.Size([16, 42])\n",
      "torch.Size([16, 31])\n",
      "torch.Size([16, 29])\n",
      "torch.Size([16, 37])\n",
      "torch.Size([16, 59])\n",
      "torch.Size([16, 35])\n",
      "torch.Size([16, 45])\n",
      "torch.Size([16, 27])\n",
      "torch.Size([16, 51])\n",
      "torch.Size([16, 45])\n",
      "torch.Size([16, 30])\n",
      "torch.Size([16, 48])\n",
      "torch.Size([16, 51])\n",
      "torch.Size([16, 51])\n",
      "torch.Size([16, 52])\n",
      "torch.Size([16, 49])\n",
      "torch.Size([16, 49])\n",
      "torch.Size([16, 43])\n",
      "torch.Size([16, 40])\n",
      "torch.Size([16, 36])\n",
      "torch.Size([16, 49])\n",
      "torch.Size([16, 36])\n",
      "torch.Size([16, 44])\n",
      "torch.Size([16, 40])\n",
      "torch.Size([16, 54])\n",
      "torch.Size([16, 42])\n",
      "torch.Size([16, 42])\n",
      "torch.Size([16, 41])\n",
      "torch.Size([16, 80])\n",
      "torch.Size([16, 42])\n",
      "torch.Size([16, 34])\n",
      "torch.Size([16, 49])\n",
      "torch.Size([16, 49])\n",
      "torch.Size([16, 42])\n",
      "torch.Size([16, 38])\n",
      "torch.Size([16, 45])\n",
      "torch.Size([16, 47])\n",
      "torch.Size([16, 31])\n",
      "torch.Size([16, 45])\n",
      "torch.Size([16, 30])\n",
      "torch.Size([16, 29])\n"
     ]
    },
    {
     "name": "stdout",
     "output_type": "stream",
     "text": [
      "torch.Size([16, 41])\n",
      "torch.Size([16, 39])\n",
      "torch.Size([16, 39])\n",
      "torch.Size([16, 59])\n",
      "torch.Size([16, 31])\n",
      "torch.Size([16, 33])\n",
      "torch.Size([16, 52])\n",
      "torch.Size([16, 61])\n",
      "torch.Size([16, 46])\n",
      "torch.Size([16, 43])\n",
      "torch.Size([16, 44])\n",
      "torch.Size([16, 37])\n",
      "torch.Size([16, 51])\n",
      "torch.Size([16, 43])\n",
      "torch.Size([16, 40])\n",
      "torch.Size([16, 45])\n",
      "torch.Size([16, 33])\n",
      "torch.Size([16, 36])\n",
      "torch.Size([16, 52])\n",
      "torch.Size([16, 35])\n",
      "torch.Size([16, 50])\n",
      "torch.Size([16, 54])\n",
      "torch.Size([16, 56])\n",
      "torch.Size([16, 30])\n",
      "torch.Size([16, 52])\n",
      "torch.Size([16, 45])\n",
      "torch.Size([16, 45])\n",
      "torch.Size([16, 56])\n",
      "torch.Size([16, 28])\n",
      "torch.Size([16, 50])\n",
      "torch.Size([16, 55])\n",
      "torch.Size([16, 48])\n",
      "torch.Size([16, 58])\n",
      "torch.Size([16, 51])\n",
      "torch.Size([16, 45])\n",
      "torch.Size([16, 47])\n",
      "torch.Size([16, 53])\n",
      "torch.Size([16, 40])\n",
      "torch.Size([16, 49])\n",
      "torch.Size([16, 50])\n",
      "torch.Size([16, 42])\n",
      "torch.Size([16, 47])\n",
      "torch.Size([16, 43])\n",
      "torch.Size([16, 45])\n",
      "torch.Size([16, 47])\n",
      "torch.Size([16, 51])\n",
      "torch.Size([16, 37])\n",
      "torch.Size([16, 43])\n",
      "torch.Size([16, 32])\n",
      "torch.Size([16, 38])\n",
      "torch.Size([16, 52])\n",
      "torch.Size([16, 32])\n",
      "torch.Size([16, 32])\n",
      "torch.Size([16, 103])\n",
      "torch.Size([16, 26])\n",
      "torch.Size([16, 64])\n",
      "torch.Size([16, 44])\n",
      "torch.Size([16, 35])\n",
      "torch.Size([16, 47])\n",
      "torch.Size([16, 35])\n",
      "torch.Size([16, 37])\n",
      "torch.Size([16, 32])\n",
      "torch.Size([16, 47])\n",
      "torch.Size([16, 39])\n",
      "torch.Size([16, 47])\n",
      "torch.Size([16, 47])\n",
      "torch.Size([16, 44])\n",
      "torch.Size([16, 29])\n",
      "torch.Size([16, 50])\n",
      "torch.Size([16, 39])\n",
      "torch.Size([16, 33])\n",
      "torch.Size([16, 55])\n",
      "torch.Size([16, 38])\n",
      "torch.Size([16, 55])\n",
      "torch.Size([16, 66])\n",
      "torch.Size([16, 65])\n",
      "torch.Size([16, 36])\n",
      "torch.Size([16, 51])\n",
      "torch.Size([16, 62])\n",
      "torch.Size([16, 43])\n",
      "torch.Size([16, 33])\n",
      "torch.Size([16, 50])\n",
      "torch.Size([16, 47])\n",
      "torch.Size([16, 51])\n",
      "torch.Size([16, 29])\n",
      "torch.Size([16, 45])\n",
      "torch.Size([16, 30])\n",
      "torch.Size([16, 47])\n",
      "torch.Size([16, 117])\n",
      "torch.Size([16, 34])\n",
      "torch.Size([16, 47])\n",
      "torch.Size([16, 47])\n",
      "torch.Size([16, 32])\n",
      "torch.Size([16, 33])\n",
      "torch.Size([16, 48])\n",
      "torch.Size([16, 51])\n",
      "torch.Size([16, 31])\n",
      "torch.Size([16, 47])\n",
      "torch.Size([16, 50])\n",
      "torch.Size([16, 34])\n",
      "torch.Size([16, 50])\n",
      "torch.Size([16, 36])\n",
      "torch.Size([16, 33])\n",
      "torch.Size([16, 33])\n",
      "torch.Size([16, 39])\n",
      "torch.Size([16, 39])\n",
      "torch.Size([16, 35])\n",
      "torch.Size([16, 27])\n",
      "torch.Size([16, 58])\n",
      "torch.Size([16, 49])\n",
      "torch.Size([16, 90])\n",
      "torch.Size([16, 37])\n",
      "torch.Size([16, 45])\n",
      "torch.Size([16, 31])\n",
      "torch.Size([16, 40])\n",
      "torch.Size([16, 35])\n",
      "torch.Size([16, 38])\n",
      "torch.Size([16, 43])\n",
      "torch.Size([16, 42])\n",
      "torch.Size([16, 30])\n",
      "torch.Size([16, 59])\n",
      "torch.Size([16, 38])\n",
      "torch.Size([16, 41])\n",
      "torch.Size([16, 33])\n",
      "torch.Size([16, 33])\n",
      "torch.Size([16, 34])\n",
      "torch.Size([16, 55])\n",
      "torch.Size([16, 44])\n",
      "torch.Size([16, 41])\n",
      "torch.Size([16, 34])\n",
      "torch.Size([16, 48])\n",
      "torch.Size([16, 40])\n",
      "torch.Size([16, 32])\n",
      "torch.Size([16, 34])\n",
      "torch.Size([16, 42])\n",
      "torch.Size([16, 47])\n",
      "torch.Size([16, 55])\n",
      "torch.Size([16, 45])\n",
      "torch.Size([16, 39])\n",
      "torch.Size([16, 45])\n",
      "torch.Size([16, 31])\n",
      "torch.Size([16, 61])\n",
      "torch.Size([16, 62])\n",
      "torch.Size([16, 56])\n",
      "torch.Size([16, 39])\n",
      "torch.Size([16, 35])\n",
      "torch.Size([16, 41])\n",
      "torch.Size([16, 55])\n",
      "torch.Size([16, 83])\n",
      "torch.Size([16, 50])\n",
      "torch.Size([16, 41])\n",
      "torch.Size([16, 30])\n",
      "torch.Size([16, 36])\n",
      "torch.Size([16, 40])\n",
      "torch.Size([16, 37])\n",
      "torch.Size([16, 26])\n",
      "torch.Size([16, 79])\n",
      "torch.Size([16, 33])\n",
      "torch.Size([16, 64])\n",
      "torch.Size([16, 32])\n",
      "torch.Size([16, 41])\n",
      "torch.Size([16, 45])\n",
      "torch.Size([16, 39])\n",
      "torch.Size([16, 44])\n",
      "torch.Size([16, 37])\n",
      "torch.Size([16, 32])\n",
      "torch.Size([16, 44])\n",
      "torch.Size([16, 43])\n",
      "torch.Size([16, 54])\n",
      "torch.Size([16, 53])\n",
      "torch.Size([16, 40])\n",
      "torch.Size([16, 51])\n",
      "torch.Size([16, 31])\n",
      "torch.Size([16, 42])\n",
      "torch.Size([16, 49])\n",
      "torch.Size([16, 49])\n",
      "torch.Size([16, 47])\n",
      "torch.Size([16, 47])\n",
      "torch.Size([16, 42])\n",
      "torch.Size([16, 50])\n",
      "torch.Size([16, 47])\n",
      "torch.Size([16, 56])\n",
      "torch.Size([16, 41])\n",
      "torch.Size([16, 53])\n",
      "torch.Size([16, 39])\n",
      "torch.Size([16, 55])\n",
      "torch.Size([16, 31])\n",
      "torch.Size([16, 46])\n",
      "torch.Size([16, 50])\n",
      "torch.Size([16, 38])\n",
      "torch.Size([16, 42])\n",
      "torch.Size([16, 34])\n",
      "torch.Size([16, 36])\n",
      "torch.Size([16, 46])\n",
      "torch.Size([16, 42])\n",
      "torch.Size([16, 35])\n",
      "torch.Size([16, 53])\n",
      "torch.Size([16, 38])\n",
      "torch.Size([16, 86])\n",
      "torch.Size([16, 50])\n",
      "torch.Size([16, 50])\n",
      "torch.Size([16, 64])\n",
      "torch.Size([16, 42])\n",
      "torch.Size([16, 29])\n",
      "torch.Size([16, 50])\n",
      "torch.Size([16, 59])\n",
      "torch.Size([16, 30])\n",
      "torch.Size([16, 34])\n",
      "torch.Size([16, 30])\n",
      "torch.Size([16, 43])\n",
      "torch.Size([16, 47])\n",
      "torch.Size([16, 47])\n",
      "torch.Size([16, 23])\n",
      "torch.Size([16, 45])\n",
      "torch.Size([16, 41])\n",
      "torch.Size([16, 35])\n",
      "torch.Size([16, 57])\n",
      "torch.Size([16, 34])\n",
      "torch.Size([16, 31])\n",
      "torch.Size([16, 49])\n",
      "torch.Size([16, 48])\n",
      "torch.Size([16, 49])\n",
      "torch.Size([16, 43])\n",
      "torch.Size([16, 45])\n",
      "torch.Size([16, 42])\n",
      "torch.Size([16, 39])\n",
      "torch.Size([16, 40])\n",
      "torch.Size([16, 72])\n",
      "torch.Size([16, 45])\n",
      "torch.Size([16, 39])\n",
      "torch.Size([16, 45])\n",
      "torch.Size([16, 31])\n",
      "torch.Size([16, 46])\n",
      "torch.Size([16, 49])\n",
      "torch.Size([16, 32])\n",
      "torch.Size([16, 37])\n",
      "torch.Size([16, 59])\n",
      "torch.Size([16, 28])\n",
      "torch.Size([16, 44])\n",
      "torch.Size([16, 43])\n",
      "torch.Size([16, 37])\n",
      "torch.Size([16, 36])\n",
      "torch.Size([16, 38])\n",
      "torch.Size([16, 45])\n",
      "torch.Size([16, 52])\n",
      "torch.Size([16, 38])\n",
      "torch.Size([16, 46])\n",
      "torch.Size([16, 46])\n",
      "torch.Size([16, 108])\n",
      "torch.Size([16, 48])\n",
      "torch.Size([16, 28])\n",
      "torch.Size([16, 34])\n",
      "torch.Size([16, 48])\n",
      "torch.Size([16, 46])\n",
      "torch.Size([16, 72])\n",
      "torch.Size([16, 71])\n",
      "torch.Size([16, 39])\n",
      "torch.Size([16, 42])\n",
      "torch.Size([16, 46])\n",
      "torch.Size([16, 38])\n",
      "torch.Size([16, 44])\n",
      "torch.Size([16, 40])\n",
      "torch.Size([16, 36])\n",
      "torch.Size([16, 36])\n",
      "torch.Size([16, 50])\n",
      "torch.Size([16, 40])\n",
      "torch.Size([16, 46])\n",
      "torch.Size([16, 52])\n",
      "torch.Size([16, 33])\n",
      "torch.Size([16, 49])\n",
      "torch.Size([16, 33])\n",
      "torch.Size([16, 53])\n",
      "torch.Size([16, 45])\n",
      "torch.Size([16, 30])\n",
      "torch.Size([16, 46])\n",
      "torch.Size([16, 33])\n",
      "torch.Size([16, 45])\n",
      "torch.Size([16, 31])\n",
      "torch.Size([16, 54])\n",
      "torch.Size([16, 51])\n",
      "torch.Size([16, 33])\n",
      "torch.Size([16, 34])\n",
      "torch.Size([16, 37])\n",
      "torch.Size([16, 42])\n",
      "torch.Size([16, 33])\n",
      "torch.Size([16, 55])\n",
      "torch.Size([16, 26])\n",
      "torch.Size([16, 34])\n",
      "torch.Size([16, 28])\n",
      "torch.Size([16, 50])\n",
      "torch.Size([16, 38])\n",
      "torch.Size([16, 31])\n",
      "torch.Size([16, 46])\n",
      "torch.Size([16, 34])\n",
      "torch.Size([16, 39])\n",
      "torch.Size([16, 69])\n",
      "torch.Size([16, 40])\n",
      "torch.Size([16, 50])\n",
      "torch.Size([16, 47])\n",
      "torch.Size([16, 53])\n",
      "torch.Size([16, 43])\n",
      "torch.Size([16, 39])\n",
      "torch.Size([16, 32])\n",
      "torch.Size([16, 43])\n",
      "torch.Size([16, 40])\n",
      "torch.Size([16, 34])\n",
      "torch.Size([16, 37])\n",
      "torch.Size([16, 35])\n",
      "torch.Size([16, 34])\n",
      "torch.Size([16, 32])\n",
      "torch.Size([16, 35])\n",
      "torch.Size([16, 35])\n",
      "torch.Size([16, 35])\n",
      "torch.Size([16, 57])\n",
      "torch.Size([16, 48])\n",
      "torch.Size([16, 32])\n",
      "torch.Size([16, 39])\n",
      "torch.Size([16, 43])\n",
      "torch.Size([16, 49])\n",
      "torch.Size([16, 51])\n",
      "torch.Size([16, 48])\n",
      "torch.Size([16, 39])\n",
      "torch.Size([16, 46])\n",
      "torch.Size([16, 25])\n",
      "torch.Size([16, 38])\n",
      "torch.Size([16, 38])\n",
      "torch.Size([16, 38])\n",
      "torch.Size([16, 34])\n",
      "torch.Size([16, 37])\n",
      "torch.Size([16, 28])\n",
      "torch.Size([16, 48])\n",
      "torch.Size([16, 43])\n",
      "torch.Size([16, 58])\n",
      "torch.Size([16, 50])\n",
      "torch.Size([16, 38])\n",
      "torch.Size([16, 78])\n",
      "torch.Size([16, 49])\n",
      "torch.Size([16, 50])\n",
      "torch.Size([16, 45])\n",
      "torch.Size([16, 57])\n",
      "torch.Size([16, 34])\n",
      "torch.Size([16, 44])\n",
      "torch.Size([16, 36])\n",
      "torch.Size([16, 35])\n",
      "torch.Size([16, 45])\n",
      "torch.Size([16, 37])\n",
      "torch.Size([16, 47])\n",
      "torch.Size([16, 28])\n",
      "torch.Size([16, 31])\n",
      "torch.Size([16, 42])\n",
      "torch.Size([16, 44])\n",
      "torch.Size([16, 51])\n",
      "torch.Size([16, 35])\n",
      "torch.Size([16, 40])\n",
      "torch.Size([16, 31])\n",
      "torch.Size([16, 44])\n",
      "torch.Size([16, 47])\n",
      "torch.Size([16, 38])\n",
      "torch.Size([16, 50])\n",
      "torch.Size([16, 35])\n",
      "torch.Size([16, 38])\n",
      "torch.Size([16, 45])\n",
      "torch.Size([16, 37])\n",
      "torch.Size([16, 45])\n",
      "torch.Size([16, 45])\n",
      "torch.Size([16, 40])\n",
      "torch.Size([16, 48])\n",
      "torch.Size([16, 63])\n",
      "torch.Size([16, 45])\n",
      "torch.Size([16, 48])\n",
      "torch.Size([16, 48])\n",
      "torch.Size([16, 40])\n",
      "torch.Size([16, 42])\n",
      "torch.Size([16, 38])\n",
      "torch.Size([16, 47])\n",
      "torch.Size([16, 28])\n",
      "torch.Size([16, 43])\n",
      "torch.Size([16, 41])\n",
      "torch.Size([16, 38])\n",
      "torch.Size([16, 52])\n",
      "torch.Size([16, 34])\n",
      "torch.Size([16, 56])\n",
      "torch.Size([16, 51])\n",
      "torch.Size([16, 35])\n",
      "torch.Size([16, 38])\n",
      "torch.Size([16, 45])\n",
      "torch.Size([16, 49])\n",
      "torch.Size([16, 58])\n",
      "torch.Size([16, 41])\n",
      "torch.Size([16, 30])\n"
     ]
    },
    {
     "name": "stdout",
     "output_type": "stream",
     "text": [
      "torch.Size([16, 44])\n",
      "torch.Size([16, 34])\n",
      "torch.Size([16, 38])\n",
      "torch.Size([16, 45])\n",
      "torch.Size([16, 38])\n",
      "torch.Size([16, 50])\n",
      "torch.Size([16, 50])\n",
      "torch.Size([16, 37])\n",
      "torch.Size([16, 84])\n",
      "torch.Size([16, 62])\n",
      "torch.Size([16, 37])\n",
      "torch.Size([16, 45])\n",
      "torch.Size([16, 50])\n",
      "torch.Size([16, 53])\n",
      "torch.Size([16, 45])\n",
      "torch.Size([16, 39])\n",
      "torch.Size([16, 43])\n",
      "torch.Size([16, 40])\n",
      "torch.Size([16, 37])\n",
      "torch.Size([16, 41])\n",
      "torch.Size([16, 35])\n",
      "torch.Size([16, 40])\n",
      "torch.Size([16, 37])\n",
      "torch.Size([16, 30])\n",
      "torch.Size([16, 49])\n",
      "torch.Size([16, 30])\n",
      "torch.Size([16, 49])\n",
      "torch.Size([16, 96])\n",
      "torch.Size([16, 37])\n",
      "torch.Size([16, 37])\n",
      "torch.Size([16, 62])\n",
      "torch.Size([16, 28])\n",
      "torch.Size([16, 37])\n",
      "torch.Size([16, 34])\n",
      "torch.Size([16, 43])\n",
      "torch.Size([16, 40])\n",
      "torch.Size([16, 38])\n",
      "torch.Size([16, 73])\n",
      "torch.Size([16, 63])\n",
      "torch.Size([16, 50])\n",
      "torch.Size([16, 45])\n",
      "torch.Size([16, 129])\n",
      "torch.Size([16, 30])\n",
      "torch.Size([16, 48])\n",
      "torch.Size([16, 33])\n",
      "torch.Size([16, 28])\n",
      "torch.Size([16, 42])\n",
      "torch.Size([16, 44])\n",
      "torch.Size([16, 38])\n",
      "torch.Size([16, 35])\n",
      "torch.Size([16, 45])\n",
      "torch.Size([16, 47])\n",
      "torch.Size([16, 49])\n",
      "torch.Size([16, 33])\n",
      "torch.Size([16, 46])\n",
      "torch.Size([16, 46])\n",
      "torch.Size([16, 34])\n",
      "torch.Size([16, 49])\n",
      "torch.Size([16, 38])\n",
      "torch.Size([16, 48])\n",
      "torch.Size([16, 61])\n",
      "torch.Size([16, 33])\n",
      "torch.Size([16, 95])\n",
      "torch.Size([16, 41])\n",
      "torch.Size([16, 37])\n",
      "torch.Size([16, 33])\n",
      "torch.Size([16, 29])\n",
      "torch.Size([16, 34])\n",
      "torch.Size([16, 43])\n",
      "torch.Size([16, 62])\n",
      "torch.Size([16, 62])\n",
      "torch.Size([16, 33])\n",
      "torch.Size([16, 52])\n",
      "torch.Size([16, 38])\n",
      "torch.Size([16, 47])\n",
      "torch.Size([16, 44])\n",
      "torch.Size([16, 49])\n",
      "torch.Size([16, 56])\n",
      "torch.Size([16, 34])\n",
      "torch.Size([16, 35])\n",
      "torch.Size([16, 31])\n",
      "torch.Size([16, 54])\n",
      "torch.Size([16, 41])\n",
      "torch.Size([16, 34])\n",
      "torch.Size([16, 39])\n",
      "torch.Size([16, 51])\n",
      "torch.Size([16, 39])\n",
      "torch.Size([16, 49])\n",
      "torch.Size([16, 35])\n",
      "torch.Size([16, 45])\n",
      "torch.Size([16, 38])\n",
      "torch.Size([16, 49])\n",
      "torch.Size([16, 30])\n",
      "torch.Size([16, 29])\n",
      "torch.Size([16, 70])\n",
      "torch.Size([16, 42])\n",
      "torch.Size([16, 47])\n",
      "torch.Size([16, 30])\n",
      "torch.Size([16, 49])\n",
      "torch.Size([16, 28])\n",
      "torch.Size([16, 46])\n",
      "torch.Size([16, 32])\n",
      "torch.Size([16, 50])\n",
      "torch.Size([16, 31])\n",
      "torch.Size([16, 41])\n",
      "torch.Size([16, 40])\n",
      "torch.Size([16, 58])\n",
      "torch.Size([16, 26])\n",
      "torch.Size([16, 42])\n",
      "torch.Size([16, 28])\n",
      "torch.Size([16, 42])\n",
      "torch.Size([16, 62])\n",
      "torch.Size([16, 38])\n",
      "torch.Size([16, 68])\n",
      "torch.Size([16, 64])\n",
      "torch.Size([16, 48])\n",
      "torch.Size([16, 36])\n",
      "torch.Size([16, 40])\n",
      "torch.Size([16, 53])\n",
      "torch.Size([16, 40])\n",
      "torch.Size([16, 48])\n",
      "torch.Size([16, 50])\n",
      "torch.Size([16, 56])\n",
      "torch.Size([16, 40])\n",
      "torch.Size([16, 29])\n",
      "torch.Size([16, 42])\n",
      "torch.Size([16, 40])\n",
      "torch.Size([16, 52])\n",
      "torch.Size([16, 40])\n",
      "torch.Size([16, 46])\n",
      "torch.Size([16, 35])\n",
      "torch.Size([16, 49])\n",
      "torch.Size([16, 46])\n",
      "torch.Size([16, 38])\n",
      "torch.Size([16, 45])\n",
      "torch.Size([16, 48])\n",
      "torch.Size([16, 106])\n",
      "torch.Size([16, 42])\n",
      "torch.Size([16, 33])\n",
      "torch.Size([16, 75])\n",
      "torch.Size([16, 30])\n",
      "torch.Size([16, 54])\n",
      "torch.Size([16, 44])\n",
      "torch.Size([16, 42])\n",
      "torch.Size([16, 43])\n",
      "torch.Size([16, 66])\n",
      "torch.Size([16, 47])\n",
      "torch.Size([16, 40])\n",
      "torch.Size([16, 39])\n",
      "torch.Size([16, 39])\n",
      "torch.Size([16, 49])\n",
      "torch.Size([16, 45])\n",
      "torch.Size([16, 36])\n",
      "torch.Size([16, 40])\n",
      "torch.Size([16, 39])\n",
      "torch.Size([16, 45])\n",
      "torch.Size([16, 46])\n",
      "torch.Size([16, 33])\n",
      "torch.Size([16, 33])\n",
      "torch.Size([16, 52])\n",
      "torch.Size([16, 42])\n",
      "torch.Size([16, 69])\n",
      "torch.Size([16, 61])\n",
      "torch.Size([16, 41])\n",
      "torch.Size([16, 29])\n",
      "torch.Size([16, 68])\n",
      "torch.Size([16, 39])\n",
      "torch.Size([16, 32])\n",
      "torch.Size([16, 53])\n",
      "torch.Size([16, 41])\n",
      "torch.Size([16, 40])\n",
      "torch.Size([16, 42])\n",
      "torch.Size([16, 49])\n",
      "torch.Size([16, 82])\n",
      "torch.Size([16, 29])\n",
      "torch.Size([16, 45])\n",
      "torch.Size([16, 44])\n",
      "torch.Size([16, 41])\n",
      "torch.Size([16, 50])\n",
      "torch.Size([16, 47])\n",
      "torch.Size([16, 34])\n",
      "torch.Size([16, 46])\n",
      "torch.Size([16, 38])\n",
      "torch.Size([16, 37])\n",
      "torch.Size([16, 45])\n",
      "torch.Size([16, 31])\n",
      "torch.Size([16, 42])\n",
      "torch.Size([16, 50])\n",
      "torch.Size([16, 44])\n",
      "torch.Size([16, 46])\n",
      "torch.Size([16, 31])\n",
      "torch.Size([16, 47])\n",
      "torch.Size([16, 117])\n",
      "torch.Size([16, 38])\n",
      "torch.Size([16, 37])\n",
      "torch.Size([16, 55])\n",
      "torch.Size([16, 36])\n",
      "torch.Size([16, 41])\n",
      "torch.Size([16, 69])\n",
      "torch.Size([16, 42])\n",
      "torch.Size([16, 31])\n",
      "torch.Size([16, 39])\n",
      "torch.Size([16, 45])\n",
      "torch.Size([16, 159])\n",
      "torch.Size([16, 42])\n",
      "torch.Size([16, 35])\n",
      "torch.Size([16, 36])\n",
      "torch.Size([16, 29])\n",
      "torch.Size([16, 47])\n",
      "torch.Size([16, 40])\n",
      "torch.Size([16, 44])\n",
      "torch.Size([16, 39])\n",
      "torch.Size([16, 35])\n",
      "torch.Size([16, 35])\n",
      "torch.Size([16, 49])\n",
      "torch.Size([16, 35])\n",
      "torch.Size([16, 41])\n",
      "torch.Size([16, 59])\n",
      "torch.Size([16, 50])\n",
      "torch.Size([16, 38])\n",
      "torch.Size([16, 52])\n",
      "torch.Size([16, 53])\n",
      "torch.Size([16, 62])\n",
      "torch.Size([16, 50])\n",
      "torch.Size([16, 31])\n",
      "torch.Size([16, 55])\n",
      "torch.Size([16, 50])\n",
      "torch.Size([16, 49])\n",
      "torch.Size([16, 64])\n",
      "torch.Size([16, 28])\n",
      "torch.Size([16, 44])\n",
      "torch.Size([16, 41])\n",
      "torch.Size([16, 38])\n",
      "torch.Size([16, 63])\n",
      "torch.Size([16, 42])\n",
      "torch.Size([16, 35])\n",
      "torch.Size([16, 34])\n",
      "torch.Size([16, 36])\n",
      "torch.Size([16, 50])\n",
      "torch.Size([16, 41])\n",
      "torch.Size([16, 33])\n",
      "torch.Size([16, 66])\n",
      "torch.Size([16, 33])\n",
      "torch.Size([16, 56])\n",
      "torch.Size([16, 55])\n",
      "torch.Size([16, 42])\n",
      "torch.Size([16, 27])\n",
      "torch.Size([16, 44])\n",
      "torch.Size([16, 42])\n",
      "torch.Size([16, 29])\n",
      "torch.Size([16, 81])\n",
      "torch.Size([16, 44])\n",
      "torch.Size([16, 50])\n",
      "torch.Size([16, 29])\n",
      "torch.Size([16, 47])\n",
      "torch.Size([16, 48])\n",
      "torch.Size([16, 46])\n",
      "torch.Size([16, 67])\n",
      "torch.Size([16, 28])\n",
      "torch.Size([16, 46])\n",
      "torch.Size([16, 41])\n",
      "torch.Size([16, 52])\n",
      "torch.Size([16, 43])\n",
      "torch.Size([16, 35])\n",
      "torch.Size([16, 44])\n",
      "torch.Size([16, 36])\n",
      "torch.Size([16, 44])\n",
      "torch.Size([16, 84])\n",
      "torch.Size([16, 46])\n",
      "torch.Size([16, 51])\n",
      "torch.Size([16, 66])\n",
      "torch.Size([16, 44])\n",
      "torch.Size([16, 49])\n",
      "torch.Size([16, 40])\n",
      "torch.Size([16, 43])\n",
      "torch.Size([16, 48])\n",
      "torch.Size([16, 30])\n",
      "torch.Size([16, 54])\n",
      "torch.Size([16, 51])\n",
      "torch.Size([16, 34])\n",
      "torch.Size([16, 52])\n",
      "torch.Size([16, 44])\n",
      "torch.Size([16, 38])\n",
      "torch.Size([16, 45])\n",
      "torch.Size([16, 41])\n",
      "torch.Size([16, 24])\n",
      "torch.Size([16, 44])\n",
      "torch.Size([16, 46])\n",
      "torch.Size([16, 39])\n",
      "torch.Size([16, 38])\n",
      "torch.Size([16, 46])\n",
      "torch.Size([16, 63])\n",
      "torch.Size([16, 90])\n",
      "torch.Size([16, 71])\n",
      "torch.Size([16, 53])\n",
      "torch.Size([16, 50])\n",
      "torch.Size([16, 33])\n",
      "torch.Size([16, 70])\n",
      "torch.Size([16, 28])\n",
      "torch.Size([16, 31])\n",
      "torch.Size([16, 30])\n",
      "torch.Size([16, 40])\n",
      "torch.Size([16, 38])\n",
      "torch.Size([16, 39])\n",
      "torch.Size([16, 42])\n",
      "torch.Size([16, 53])\n",
      "torch.Size([16, 45])\n",
      "torch.Size([16, 43])\n",
      "torch.Size([16, 47])\n",
      "torch.Size([16, 30])\n",
      "torch.Size([16, 46])\n",
      "torch.Size([16, 31])\n",
      "torch.Size([16, 31])\n",
      "torch.Size([16, 56])\n",
      "torch.Size([16, 54])\n",
      "torch.Size([16, 45])\n",
      "torch.Size([16, 46])\n",
      "torch.Size([16, 32])\n",
      "torch.Size([16, 31])\n",
      "torch.Size([16, 47])\n",
      "torch.Size([16, 35])\n",
      "torch.Size([16, 27])\n",
      "torch.Size([16, 47])\n",
      "torch.Size([16, 41])\n",
      "torch.Size([16, 39])\n",
      "torch.Size([16, 40])\n",
      "torch.Size([16, 50])\n",
      "torch.Size([16, 27])\n",
      "torch.Size([16, 32])\n",
      "torch.Size([16, 110])\n",
      "torch.Size([16, 45])\n",
      "torch.Size([16, 41])\n",
      "torch.Size([16, 47])\n",
      "torch.Size([16, 45])\n",
      "torch.Size([16, 50])\n",
      "torch.Size([16, 32])\n",
      "torch.Size([16, 35])\n",
      "torch.Size([16, 51])\n",
      "torch.Size([16, 50])\n",
      "torch.Size([16, 38])\n",
      "torch.Size([16, 35])\n",
      "torch.Size([16, 46])\n",
      "torch.Size([16, 30])\n",
      "torch.Size([16, 46])\n",
      "torch.Size([16, 51])\n",
      "torch.Size([16, 48])\n",
      "torch.Size([16, 38])\n",
      "torch.Size([16, 38])\n",
      "torch.Size([16, 51])\n",
      "torch.Size([16, 50])\n",
      "torch.Size([16, 50])\n",
      "torch.Size([16, 56])\n",
      "torch.Size([16, 51])\n",
      "torch.Size([16, 40])\n",
      "torch.Size([16, 70])\n",
      "torch.Size([16, 45])\n",
      "torch.Size([16, 40])\n",
      "torch.Size([16, 47])\n",
      "torch.Size([16, 47])\n",
      "torch.Size([16, 45])\n",
      "torch.Size([16, 58])\n",
      "torch.Size([16, 42])\n",
      "torch.Size([16, 42])\n",
      "torch.Size([16, 36])\n",
      "torch.Size([16, 46])\n",
      "torch.Size([16, 34])\n",
      "torch.Size([16, 54])\n",
      "torch.Size([16, 35])\n",
      "torch.Size([16, 49])\n",
      "torch.Size([16, 47])\n",
      "torch.Size([16, 34])\n",
      "torch.Size([16, 38])\n",
      "torch.Size([16, 34])\n",
      "torch.Size([16, 41])\n",
      "torch.Size([16, 32])\n",
      "torch.Size([16, 37])\n",
      "torch.Size([16, 40])\n",
      "torch.Size([16, 58])\n",
      "torch.Size([16, 48])\n",
      "torch.Size([16, 45])\n",
      "torch.Size([16, 34])\n",
      "torch.Size([16, 42])\n",
      "torch.Size([16, 30])\n",
      "torch.Size([16, 32])\n",
      "torch.Size([16, 45])\n",
      "torch.Size([16, 42])\n",
      "torch.Size([16, 31])\n",
      "torch.Size([16, 38])\n",
      "torch.Size([16, 47])\n",
      "torch.Size([16, 69])\n"
     ]
    },
    {
     "name": "stdout",
     "output_type": "stream",
     "text": [
      "torch.Size([16, 74])\n",
      "torch.Size([16, 49])\n",
      "torch.Size([16, 40])\n",
      "torch.Size([16, 30])\n",
      "torch.Size([16, 67])\n",
      "torch.Size([16, 36])\n",
      "torch.Size([16, 43])\n",
      "torch.Size([16, 37])\n",
      "torch.Size([16, 32])\n",
      "torch.Size([16, 26])\n",
      "torch.Size([16, 47])\n",
      "torch.Size([16, 37])\n",
      "torch.Size([16, 29])\n",
      "torch.Size([16, 43])\n",
      "torch.Size([16, 40])\n",
      "torch.Size([16, 47])\n",
      "torch.Size([16, 42])\n",
      "torch.Size([16, 44])\n",
      "torch.Size([16, 43])\n",
      "torch.Size([16, 47])\n",
      "torch.Size([16, 52])\n",
      "torch.Size([16, 79])\n",
      "torch.Size([16, 38])\n",
      "torch.Size([16, 48])\n",
      "torch.Size([16, 36])\n",
      "torch.Size([16, 49])\n",
      "torch.Size([16, 45])\n",
      "torch.Size([16, 53])\n",
      "torch.Size([16, 44])\n",
      "torch.Size([16, 46])\n",
      "torch.Size([16, 41])\n",
      "torch.Size([16, 44])\n",
      "torch.Size([16, 34])\n",
      "torch.Size([16, 80])\n",
      "torch.Size([16, 46])\n",
      "torch.Size([16, 39])\n",
      "torch.Size([16, 41])\n",
      "torch.Size([16, 52])\n",
      "torch.Size([16, 41])\n",
      "torch.Size([16, 52])\n",
      "torch.Size([16, 44])\n",
      "torch.Size([16, 48])\n",
      "torch.Size([16, 33])\n",
      "torch.Size([16, 52])\n",
      "torch.Size([16, 38])\n",
      "torch.Size([16, 31])\n",
      "torch.Size([16, 40])\n",
      "torch.Size([16, 51])\n",
      "torch.Size([16, 41])\n",
      "torch.Size([16, 34])\n",
      "torch.Size([16, 68])\n",
      "torch.Size([16, 47])\n",
      "torch.Size([16, 52])\n",
      "torch.Size([16, 51])\n",
      "torch.Size([16, 29])\n",
      "torch.Size([16, 45])\n",
      "torch.Size([16, 38])\n",
      "torch.Size([16, 44])\n",
      "torch.Size([16, 35])\n",
      "torch.Size([16, 32])\n",
      "torch.Size([16, 35])\n",
      "torch.Size([16, 40])\n",
      "torch.Size([16, 37])\n",
      "torch.Size([16, 46])\n",
      "torch.Size([16, 43])\n",
      "torch.Size([16, 56])\n",
      "torch.Size([16, 40])\n",
      "torch.Size([16, 67])\n",
      "torch.Size([16, 47])\n",
      "torch.Size([16, 37])\n",
      "torch.Size([16, 38])\n",
      "torch.Size([16, 49])\n",
      "torch.Size([16, 45])\n",
      "torch.Size([16, 47])\n",
      "torch.Size([16, 50])\n",
      "torch.Size([16, 33])\n",
      "torch.Size([16, 40])\n",
      "torch.Size([16, 61])\n",
      "torch.Size([16, 53])\n",
      "torch.Size([16, 46])\n",
      "torch.Size([16, 38])\n",
      "torch.Size([16, 45])\n",
      "torch.Size([16, 36])\n",
      "torch.Size([16, 47])\n",
      "torch.Size([16, 47])\n",
      "torch.Size([16, 36])\n",
      "torch.Size([16, 52])\n",
      "torch.Size([16, 47])\n",
      "torch.Size([16, 67])\n",
      "torch.Size([16, 31])\n",
      "torch.Size([16, 51])\n",
      "torch.Size([16, 48])\n",
      "torch.Size([16, 81])\n",
      "torch.Size([16, 66])\n",
      "torch.Size([16, 36])\n",
      "torch.Size([16, 53])\n",
      "torch.Size([16, 34])\n",
      "torch.Size([16, 48])\n",
      "torch.Size([16, 42])\n",
      "torch.Size([16, 44])\n",
      "torch.Size([16, 50])\n",
      "torch.Size([16, 41])\n",
      "torch.Size([16, 48])\n",
      "torch.Size([16, 41])\n",
      "torch.Size([16, 24])\n",
      "torch.Size([16, 31])\n",
      "torch.Size([16, 49])\n",
      "torch.Size([16, 53])\n",
      "torch.Size([16, 44])\n",
      "torch.Size([16, 58])\n",
      "torch.Size([16, 39])\n",
      "torch.Size([16, 55])\n",
      "torch.Size([16, 42])\n",
      "torch.Size([16, 45])\n",
      "torch.Size([16, 46])\n",
      "torch.Size([16, 45])\n",
      "torch.Size([16, 61])\n",
      "torch.Size([16, 53])\n",
      "torch.Size([16, 35])\n",
      "torch.Size([16, 28])\n",
      "torch.Size([16, 40])\n",
      "torch.Size([16, 54])\n",
      "torch.Size([16, 46])\n",
      "torch.Size([16, 114])\n",
      "torch.Size([16, 113])\n",
      "torch.Size([16, 44])\n",
      "torch.Size([16, 39])\n",
      "torch.Size([16, 37])\n",
      "torch.Size([16, 27])\n",
      "torch.Size([16, 30])\n",
      "torch.Size([16, 35])\n",
      "torch.Size([16, 37])\n",
      "torch.Size([16, 31])\n",
      "torch.Size([16, 41])\n",
      "torch.Size([16, 36])\n",
      "torch.Size([16, 42])\n",
      "torch.Size([16, 36])\n",
      "torch.Size([16, 30])\n",
      "torch.Size([16, 40])\n",
      "torch.Size([16, 35])\n",
      "torch.Size([16, 31])\n",
      "torch.Size([16, 48])\n",
      "torch.Size([16, 51])\n",
      "torch.Size([16, 69])\n",
      "torch.Size([16, 46])\n",
      "torch.Size([16, 49])\n",
      "torch.Size([16, 38])\n",
      "torch.Size([16, 36])\n",
      "torch.Size([16, 50])\n",
      "torch.Size([16, 41])\n",
      "torch.Size([16, 55])\n",
      "torch.Size([16, 47])\n",
      "torch.Size([16, 37])\n",
      "torch.Size([16, 37])\n",
      "torch.Size([16, 40])\n",
      "torch.Size([16, 55])\n",
      "torch.Size([16, 50])\n",
      "torch.Size([16, 37])\n",
      "torch.Size([16, 49])\n",
      "torch.Size([16, 70])\n",
      "torch.Size([16, 47])\n",
      "torch.Size([16, 46])\n",
      "torch.Size([16, 45])\n",
      "torch.Size([16, 43])\n",
      "torch.Size([16, 52])\n",
      "torch.Size([16, 35])\n",
      "torch.Size([16, 41])\n",
      "torch.Size([16, 33])\n",
      "torch.Size([16, 30])\n",
      "torch.Size([16, 43])\n",
      "torch.Size([16, 28])\n",
      "torch.Size([16, 22])\n",
      "torch.Size([16, 43])\n",
      "torch.Size([16, 45])\n",
      "torch.Size([16, 31])\n",
      "torch.Size([16, 46])\n",
      "torch.Size([16, 53])\n",
      "torch.Size([16, 33])\n",
      "torch.Size([16, 30])\n",
      "torch.Size([16, 49])\n",
      "torch.Size([16, 43])\n",
      "torch.Size([16, 56])\n",
      "torch.Size([16, 49])\n",
      "torch.Size([16, 27])\n",
      "torch.Size([16, 44])\n",
      "torch.Size([16, 36])\n",
      "torch.Size([16, 36])\n",
      "torch.Size([16, 37])\n",
      "torch.Size([16, 46])\n",
      "torch.Size([16, 55])\n",
      "torch.Size([16, 45])\n",
      "torch.Size([16, 42])\n",
      "torch.Size([16, 53])\n",
      "torch.Size([16, 44])\n",
      "torch.Size([16, 36])\n",
      "torch.Size([16, 43])\n",
      "torch.Size([16, 54])\n",
      "torch.Size([16, 46])\n",
      "torch.Size([16, 46])\n",
      "torch.Size([16, 37])\n",
      "torch.Size([16, 41])\n",
      "torch.Size([16, 59])\n",
      "torch.Size([16, 45])\n",
      "torch.Size([16, 41])\n",
      "torch.Size([16, 29])\n",
      "torch.Size([16, 46])\n",
      "torch.Size([16, 36])\n",
      "torch.Size([16, 39])\n",
      "torch.Size([16, 52])\n",
      "torch.Size([16, 38])\n",
      "torch.Size([16, 36])\n",
      "torch.Size([16, 45])\n",
      "torch.Size([16, 51])\n",
      "torch.Size([16, 35])\n",
      "torch.Size([16, 97])\n",
      "torch.Size([16, 43])\n",
      "torch.Size([16, 46])\n",
      "torch.Size([16, 58])\n",
      "torch.Size([16, 43])\n",
      "torch.Size([16, 44])\n",
      "torch.Size([16, 43])\n",
      "torch.Size([16, 25])\n",
      "torch.Size([16, 77])\n",
      "torch.Size([16, 30])\n",
      "torch.Size([16, 41])\n",
      "torch.Size([16, 30])\n",
      "torch.Size([16, 36])\n",
      "torch.Size([16, 38])\n",
      "torch.Size([16, 41])\n",
      "torch.Size([16, 43])\n",
      "torch.Size([16, 34])\n",
      "torch.Size([16, 30])\n",
      "torch.Size([16, 44])\n",
      "torch.Size([16, 46])\n",
      "torch.Size([16, 35])\n",
      "torch.Size([16, 44])\n",
      "torch.Size([16, 40])\n",
      "torch.Size([16, 85])\n",
      "torch.Size([16, 38])\n",
      "torch.Size([16, 45])\n",
      "torch.Size([16, 30])\n",
      "torch.Size([16, 35])\n",
      "torch.Size([16, 39])\n",
      "torch.Size([16, 53])\n",
      "torch.Size([16, 37])\n",
      "torch.Size([16, 51])\n",
      "torch.Size([16, 42])\n",
      "torch.Size([16, 70])\n",
      "torch.Size([16, 34])\n",
      "torch.Size([16, 52])\n",
      "torch.Size([16, 51])\n",
      "torch.Size([16, 39])\n",
      "torch.Size([16, 53])\n",
      "torch.Size([16, 47])\n",
      "torch.Size([16, 41])\n",
      "torch.Size([16, 39])\n",
      "torch.Size([16, 63])\n",
      "torch.Size([16, 49])\n",
      "torch.Size([16, 39])\n",
      "torch.Size([16, 41])\n",
      "torch.Size([16, 43])\n",
      "torch.Size([16, 40])\n",
      "torch.Size([16, 44])\n",
      "torch.Size([16, 34])\n",
      "torch.Size([16, 42])\n",
      "torch.Size([16, 37])\n",
      "torch.Size([16, 44])\n",
      "torch.Size([16, 41])\n",
      "torch.Size([16, 43])\n",
      "torch.Size([16, 34])\n",
      "torch.Size([16, 45])\n",
      "torch.Size([16, 39])\n",
      "torch.Size([16, 40])\n",
      "torch.Size([16, 41])\n",
      "torch.Size([16, 30])\n",
      "torch.Size([16, 43])\n",
      "torch.Size([16, 41])\n",
      "torch.Size([16, 34])\n",
      "torch.Size([16, 62])\n",
      "torch.Size([16, 50])\n",
      "torch.Size([16, 35])\n",
      "torch.Size([16, 48])\n",
      "torch.Size([16, 39])\n",
      "torch.Size([16, 44])\n",
      "torch.Size([16, 32])\n",
      "torch.Size([16, 42])\n",
      "torch.Size([16, 36])\n",
      "torch.Size([16, 31])\n",
      "torch.Size([16, 29])\n",
      "torch.Size([16, 45])\n",
      "torch.Size([16, 77])\n",
      "torch.Size([16, 38])\n",
      "torch.Size([16, 58])\n",
      "torch.Size([16, 38])\n",
      "torch.Size([16, 74])\n",
      "torch.Size([16, 49])\n",
      "torch.Size([16, 36])\n",
      "torch.Size([16, 30])\n",
      "torch.Size([16, 46])\n",
      "torch.Size([16, 51])\n",
      "torch.Size([16, 37])\n",
      "torch.Size([16, 50])\n",
      "torch.Size([16, 51])\n",
      "torch.Size([16, 49])\n",
      "torch.Size([16, 41])\n",
      "torch.Size([16, 47])\n",
      "torch.Size([16, 34])\n",
      "torch.Size([16, 43])\n",
      "torch.Size([16, 35])\n",
      "torch.Size([16, 39])\n",
      "torch.Size([16, 46])\n",
      "torch.Size([16, 44])\n",
      "torch.Size([16, 22])\n",
      "torch.Size([16, 39])\n",
      "torch.Size([16, 39])\n",
      "torch.Size([16, 39])\n",
      "torch.Size([16, 38])\n",
      "torch.Size([16, 62])\n",
      "torch.Size([16, 36])\n",
      "torch.Size([16, 29])\n",
      "torch.Size([16, 37])\n",
      "torch.Size([16, 47])\n",
      "torch.Size([16, 52])\n",
      "torch.Size([16, 33])\n",
      "torch.Size([16, 40])\n",
      "torch.Size([16, 47])\n",
      "torch.Size([16, 52])\n",
      "torch.Size([16, 39])\n",
      "torch.Size([16, 33])\n",
      "torch.Size([16, 36])\n",
      "torch.Size([16, 43])\n",
      "torch.Size([16, 61])\n",
      "torch.Size([16, 38])\n",
      "torch.Size([16, 33])\n",
      "torch.Size([16, 52])\n",
      "torch.Size([16, 41])\n",
      "torch.Size([16, 36])\n",
      "torch.Size([16, 39])\n",
      "torch.Size([16, 39])\n",
      "torch.Size([16, 26])\n",
      "torch.Size([16, 33])\n",
      "torch.Size([16, 36])\n",
      "torch.Size([16, 50])\n",
      "torch.Size([16, 35])\n",
      "torch.Size([16, 38])\n",
      "torch.Size([16, 39])\n",
      "torch.Size([16, 30])\n",
      "torch.Size([16, 44])\n",
      "torch.Size([16, 33])\n",
      "torch.Size([16, 51])\n",
      "torch.Size([16, 42])\n",
      "torch.Size([16, 45])\n",
      "torch.Size([16, 29])\n",
      "torch.Size([16, 26])\n",
      "torch.Size([16, 46])\n",
      "torch.Size([16, 40])\n",
      "torch.Size([16, 40])\n",
      "torch.Size([16, 65])\n",
      "torch.Size([16, 111])\n",
      "torch.Size([16, 32])\n",
      "torch.Size([16, 36])\n",
      "torch.Size([16, 32])\n",
      "torch.Size([16, 55])\n",
      "torch.Size([16, 44])\n",
      "torch.Size([16, 69])\n",
      "torch.Size([16, 79])\n",
      "torch.Size([16, 49])\n",
      "torch.Size([16, 45])\n",
      "torch.Size([16, 31])\n",
      "torch.Size([16, 40])\n",
      "torch.Size([16, 49])\n",
      "torch.Size([16, 70])\n",
      "torch.Size([16, 115])\n",
      "torch.Size([16, 50])\n",
      "torch.Size([16, 36])\n",
      "torch.Size([16, 38])\n",
      "torch.Size([16, 60])\n",
      "torch.Size([16, 37])\n",
      "torch.Size([16, 39])\n",
      "torch.Size([16, 30])\n",
      "torch.Size([16, 47])\n",
      "torch.Size([16, 43])\n",
      "torch.Size([16, 57])\n",
      "torch.Size([16, 55])\n",
      "torch.Size([16, 47])\n",
      "torch.Size([16, 43])\n",
      "torch.Size([16, 24])\n",
      "torch.Size([16, 56])\n",
      "torch.Size([16, 31])\n",
      "torch.Size([16, 41])\n"
     ]
    },
    {
     "name": "stdout",
     "output_type": "stream",
     "text": [
      "torch.Size([16, 29])\n",
      "torch.Size([16, 88])\n",
      "torch.Size([16, 37])\n",
      "torch.Size([16, 38])\n",
      "torch.Size([16, 42])\n",
      "torch.Size([16, 34])\n",
      "torch.Size([16, 28])\n",
      "torch.Size([16, 48])\n",
      "torch.Size([16, 26])\n",
      "torch.Size([16, 45])\n",
      "torch.Size([16, 35])\n",
      "torch.Size([16, 48])\n",
      "torch.Size([16, 35])\n",
      "torch.Size([16, 40])\n",
      "torch.Size([16, 27])\n",
      "torch.Size([16, 48])\n",
      "torch.Size([16, 54])\n",
      "torch.Size([16, 27])\n",
      "torch.Size([16, 50])\n",
      "torch.Size([16, 45])\n",
      "torch.Size([16, 30])\n",
      "torch.Size([16, 55])\n",
      "torch.Size([16, 32])\n",
      "torch.Size([16, 44])\n",
      "torch.Size([16, 45])\n",
      "torch.Size([16, 45])\n",
      "torch.Size([16, 32])\n",
      "torch.Size([16, 29])\n",
      "torch.Size([16, 30])\n",
      "torch.Size([16, 45])\n",
      "torch.Size([16, 46])\n",
      "torch.Size([16, 29])\n",
      "torch.Size([16, 67])\n",
      "torch.Size([16, 45])\n",
      "torch.Size([16, 44])\n",
      "torch.Size([16, 49])\n",
      "torch.Size([16, 49])\n",
      "torch.Size([16, 48])\n",
      "torch.Size([16, 47])\n",
      "torch.Size([16, 39])\n",
      "torch.Size([16, 40])\n",
      "torch.Size([16, 45])\n",
      "torch.Size([16, 42])\n",
      "torch.Size([16, 23])\n",
      "torch.Size([16, 47])\n",
      "torch.Size([16, 72])\n",
      "torch.Size([16, 70])\n",
      "torch.Size([16, 33])\n",
      "torch.Size([16, 46])\n",
      "torch.Size([16, 39])\n",
      "torch.Size([16, 59])\n",
      "torch.Size([16, 79])\n",
      "torch.Size([16, 40])\n",
      "torch.Size([16, 46])\n",
      "torch.Size([16, 49])\n",
      "torch.Size([16, 47])\n",
      "torch.Size([16, 44])\n",
      "torch.Size([16, 29])\n",
      "torch.Size([16, 54])\n",
      "torch.Size([16, 36])\n",
      "torch.Size([16, 45])\n",
      "torch.Size([16, 43])\n",
      "torch.Size([16, 39])\n",
      "torch.Size([16, 31])\n",
      "torch.Size([16, 56])\n",
      "torch.Size([16, 54])\n",
      "torch.Size([16, 43])\n",
      "torch.Size([16, 48])\n",
      "torch.Size([16, 66])\n",
      "torch.Size([16, 47])\n",
      "torch.Size([16, 51])\n",
      "torch.Size([16, 40])\n",
      "torch.Size([16, 32])\n",
      "torch.Size([16, 46])\n",
      "torch.Size([16, 48])\n",
      "torch.Size([16, 76])\n",
      "torch.Size([16, 60])\n",
      "torch.Size([16, 48])\n",
      "torch.Size([16, 38])\n",
      "torch.Size([16, 40])\n",
      "torch.Size([16, 39])\n",
      "torch.Size([16, 43])\n",
      "torch.Size([16, 31])\n",
      "torch.Size([16, 48])\n",
      "torch.Size([16, 47])\n",
      "torch.Size([16, 26])\n",
      "torch.Size([16, 71])\n",
      "torch.Size([16, 43])\n",
      "torch.Size([16, 72])\n",
      "torch.Size([16, 52])\n",
      "torch.Size([16, 44])\n",
      "torch.Size([16, 43])\n",
      "torch.Size([16, 38])\n",
      "torch.Size([16, 38])\n",
      "torch.Size([16, 35])\n",
      "torch.Size([16, 42])\n",
      "torch.Size([16, 47])\n",
      "torch.Size([16, 40])\n",
      "torch.Size([16, 39])\n",
      "torch.Size([16, 47])\n",
      "torch.Size([16, 35])\n",
      "torch.Size([16, 48])\n",
      "torch.Size([16, 44])\n",
      "torch.Size([16, 58])\n",
      "torch.Size([16, 56])\n",
      "torch.Size([16, 35])\n",
      "torch.Size([16, 36])\n",
      "torch.Size([16, 200])\n",
      "torch.Size([16, 33])\n",
      "torch.Size([16, 47])\n",
      "torch.Size([16, 45])\n",
      "torch.Size([16, 71])\n",
      "torch.Size([16, 45])\n",
      "torch.Size([16, 64])\n",
      "torch.Size([16, 34])\n",
      "torch.Size([16, 35])\n",
      "torch.Size([16, 34])\n",
      "torch.Size([16, 40])\n",
      "torch.Size([16, 52])\n",
      "torch.Size([16, 28])\n",
      "torch.Size([16, 27])\n",
      "torch.Size([16, 47])\n",
      "torch.Size([16, 45])\n",
      "torch.Size([16, 54])\n",
      "torch.Size([16, 37])\n",
      "torch.Size([16, 51])\n",
      "torch.Size([16, 45])\n",
      "torch.Size([16, 40])\n",
      "torch.Size([16, 44])\n",
      "torch.Size([16, 41])\n",
      "torch.Size([16, 43])\n",
      "torch.Size([16, 67])\n",
      "torch.Size([16, 51])\n",
      "torch.Size([16, 77])\n",
      "torch.Size([16, 42])\n",
      "torch.Size([16, 33])\n",
      "torch.Size([16, 50])\n",
      "torch.Size([16, 44])\n",
      "torch.Size([16, 74])\n",
      "torch.Size([16, 38])\n",
      "torch.Size([16, 27])\n",
      "torch.Size([16, 43])\n",
      "torch.Size([16, 31])\n",
      "torch.Size([16, 43])\n",
      "torch.Size([16, 37])\n",
      "torch.Size([16, 47])\n",
      "torch.Size([16, 35])\n",
      "torch.Size([16, 33])\n",
      "torch.Size([16, 59])\n",
      "torch.Size([16, 45])\n",
      "torch.Size([16, 69])\n",
      "torch.Size([16, 36])\n",
      "torch.Size([16, 58])\n",
      "torch.Size([16, 31])\n",
      "torch.Size([16, 47])\n",
      "torch.Size([16, 52])\n",
      "torch.Size([16, 34])\n",
      "torch.Size([16, 35])\n",
      "torch.Size([16, 47])\n",
      "torch.Size([16, 44])\n",
      "torch.Size([16, 49])\n",
      "torch.Size([16, 47])\n",
      "torch.Size([16, 31])\n",
      "torch.Size([16, 58])\n",
      "torch.Size([16, 57])\n",
      "torch.Size([16, 47])\n",
      "torch.Size([16, 45])\n",
      "torch.Size([16, 46])\n",
      "torch.Size([16, 32])\n",
      "torch.Size([16, 33])\n",
      "torch.Size([16, 35])\n",
      "torch.Size([16, 43])\n",
      "torch.Size([16, 43])\n",
      "torch.Size([16, 48])\n",
      "torch.Size([16, 50])\n",
      "torch.Size([16, 35])\n",
      "torch.Size([16, 55])\n",
      "torch.Size([16, 48])\n",
      "torch.Size([16, 27])\n",
      "torch.Size([16, 29])\n",
      "torch.Size([16, 46])\n",
      "torch.Size([16, 35])\n",
      "torch.Size([16, 36])\n",
      "torch.Size([16, 44])\n",
      "torch.Size([16, 34])\n",
      "torch.Size([16, 33])\n",
      "torch.Size([16, 49])\n",
      "torch.Size([16, 39])\n",
      "torch.Size([16, 38])\n",
      "torch.Size([16, 35])\n",
      "torch.Size([16, 38])\n",
      "torch.Size([16, 31])\n",
      "torch.Size([16, 40])\n",
      "torch.Size([16, 30])\n",
      "torch.Size([16, 52])\n",
      "torch.Size([16, 26])\n",
      "torch.Size([16, 56])\n",
      "torch.Size([16, 45])\n",
      "torch.Size([16, 45])\n",
      "torch.Size([16, 36])\n",
      "torch.Size([16, 46])\n",
      "torch.Size([16, 42])\n",
      "torch.Size([16, 30])\n",
      "torch.Size([16, 51])\n",
      "torch.Size([16, 43])\n",
      "torch.Size([16, 41])\n",
      "torch.Size([16, 42])\n",
      "torch.Size([16, 51])\n",
      "torch.Size([16, 46])\n",
      "torch.Size([16, 57])\n",
      "torch.Size([16, 47])\n",
      "torch.Size([16, 33])\n",
      "torch.Size([16, 41])\n",
      "torch.Size([16, 47])\n",
      "torch.Size([16, 46])\n",
      "torch.Size([16, 51])\n",
      "torch.Size([16, 35])\n",
      "torch.Size([16, 52])\n",
      "torch.Size([16, 29])\n",
      "torch.Size([16, 45])\n",
      "torch.Size([16, 44])\n",
      "torch.Size([16, 36])\n",
      "torch.Size([16, 44])\n",
      "torch.Size([16, 36])\n",
      "torch.Size([16, 48])\n",
      "torch.Size([16, 44])\n",
      "torch.Size([16, 44])\n",
      "torch.Size([16, 45])\n",
      "torch.Size([16, 61])\n",
      "torch.Size([16, 52])\n",
      "torch.Size([16, 40])\n",
      "torch.Size([16, 43])\n",
      "torch.Size([16, 41])\n",
      "torch.Size([16, 44])\n",
      "torch.Size([16, 40])\n",
      "torch.Size([16, 31])\n",
      "torch.Size([16, 39])\n",
      "torch.Size([16, 34])\n",
      "torch.Size([16, 93])\n",
      "torch.Size([16, 34])\n",
      "torch.Size([16, 51])\n",
      "torch.Size([16, 54])\n",
      "torch.Size([16, 49])\n",
      "torch.Size([16, 37])\n",
      "torch.Size([16, 54])\n",
      "torch.Size([16, 42])\n",
      "torch.Size([16, 73])\n",
      "torch.Size([16, 55])\n",
      "torch.Size([16, 32])\n",
      "torch.Size([16, 35])\n",
      "torch.Size([16, 36])\n",
      "torch.Size([16, 52])\n",
      "torch.Size([16, 31])\n",
      "torch.Size([16, 33])\n",
      "torch.Size([16, 107])\n",
      "torch.Size([16, 40])\n",
      "torch.Size([16, 42])\n",
      "torch.Size([16, 50])\n",
      "torch.Size([16, 47])\n",
      "torch.Size([16, 56])\n",
      "torch.Size([16, 33])\n",
      "torch.Size([16, 119])\n",
      "torch.Size([16, 48])\n",
      "torch.Size([16, 63])\n",
      "torch.Size([16, 48])\n",
      "torch.Size([16, 96])\n",
      "torch.Size([16, 43])\n",
      "torch.Size([16, 50])\n",
      "torch.Size([16, 33])\n",
      "torch.Size([16, 47])\n",
      "torch.Size([16, 51])\n",
      "torch.Size([16, 39])\n",
      "torch.Size([16, 45])\n",
      "torch.Size([16, 46])\n",
      "torch.Size([16, 48])\n",
      "torch.Size([16, 33])\n",
      "torch.Size([16, 36])\n",
      "torch.Size([16, 45])\n",
      "torch.Size([16, 47])\n",
      "torch.Size([16, 116])\n",
      "torch.Size([16, 45])\n",
      "torch.Size([16, 77])\n",
      "torch.Size([16, 41])\n",
      "torch.Size([16, 39])\n",
      "torch.Size([16, 36])\n",
      "torch.Size([16, 24])\n",
      "torch.Size([16, 41])\n",
      "torch.Size([16, 28])\n",
      "torch.Size([16, 36])\n",
      "torch.Size([16, 43])\n",
      "torch.Size([16, 35])\n",
      "torch.Size([16, 44])\n",
      "torch.Size([16, 37])\n",
      "torch.Size([16, 45])\n",
      "torch.Size([16, 49])\n",
      "torch.Size([16, 44])\n",
      "torch.Size([16, 35])\n",
      "torch.Size([16, 35])\n",
      "torch.Size([16, 40])\n",
      "torch.Size([16, 32])\n",
      "torch.Size([16, 36])\n",
      "torch.Size([16, 31])\n",
      "torch.Size([16, 71])\n",
      "torch.Size([16, 40])\n",
      "torch.Size([16, 45])\n",
      "torch.Size([16, 42])\n",
      "torch.Size([16, 51])\n",
      "torch.Size([16, 40])\n",
      "torch.Size([16, 38])\n",
      "torch.Size([16, 28])\n",
      "torch.Size([16, 39])\n",
      "torch.Size([16, 45])\n",
      "torch.Size([16, 34])\n",
      "torch.Size([16, 37])\n",
      "torch.Size([16, 51])\n",
      "torch.Size([16, 40])\n",
      "torch.Size([16, 45])\n",
      "torch.Size([16, 32])\n",
      "torch.Size([16, 45])\n",
      "torch.Size([16, 37])\n",
      "torch.Size([16, 32])\n",
      "torch.Size([16, 46])\n",
      "torch.Size([16, 43])\n",
      "torch.Size([16, 39])\n",
      "torch.Size([16, 39])\n",
      "torch.Size([16, 32])\n",
      "torch.Size([16, 44])\n",
      "torch.Size([16, 36])\n",
      "torch.Size([16, 34])\n",
      "torch.Size([16, 27])\n",
      "torch.Size([16, 43])\n",
      "torch.Size([16, 48])\n",
      "torch.Size([16, 41])\n",
      "torch.Size([16, 41])\n",
      "torch.Size([16, 48])\n",
      "torch.Size([16, 34])\n",
      "torch.Size([16, 44])\n",
      "torch.Size([16, 48])\n",
      "torch.Size([16, 42])\n",
      "torch.Size([16, 47])\n",
      "torch.Size([16, 38])\n",
      "torch.Size([16, 31])\n",
      "torch.Size([16, 56])\n",
      "torch.Size([16, 44])\n",
      "torch.Size([16, 35])\n",
      "torch.Size([16, 29])\n",
      "torch.Size([16, 45])\n",
      "torch.Size([16, 38])\n",
      "torch.Size([16, 50])\n",
      "torch.Size([16, 30])\n",
      "torch.Size([16, 43])\n",
      "torch.Size([16, 30])\n",
      "torch.Size([16, 38])\n",
      "torch.Size([16, 40])\n",
      "torch.Size([16, 35])\n",
      "torch.Size([16, 40])\n",
      "torch.Size([16, 42])\n",
      "torch.Size([16, 46])\n",
      "torch.Size([16, 45])\n",
      "torch.Size([16, 45])\n",
      "torch.Size([16, 50])\n",
      "torch.Size([16, 45])\n",
      "torch.Size([16, 27])\n",
      "torch.Size([16, 48])\n",
      "torch.Size([16, 45])\n",
      "torch.Size([16, 43])\n",
      "torch.Size([16, 51])\n",
      "torch.Size([16, 45])\n",
      "torch.Size([16, 32])\n",
      "torch.Size([16, 41])\n",
      "torch.Size([16, 44])\n",
      "torch.Size([16, 52])\n",
      "torch.Size([16, 54])\n",
      "torch.Size([16, 50])\n",
      "torch.Size([16, 32])\n",
      "torch.Size([16, 55])\n",
      "torch.Size([16, 49])\n",
      "torch.Size([16, 35])\n",
      "torch.Size([16, 39])\n",
      "torch.Size([16, 51])\n",
      "torch.Size([16, 34])\n",
      "torch.Size([16, 45])\n",
      "torch.Size([16, 42])\n",
      "torch.Size([16, 54])\n",
      "torch.Size([16, 31])\n",
      "torch.Size([16, 43])\n",
      "torch.Size([16, 45])\n",
      "torch.Size([16, 47])\n",
      "torch.Size([16, 29])\n",
      "torch.Size([16, 40])\n"
     ]
    },
    {
     "name": "stdout",
     "output_type": "stream",
     "text": [
      "torch.Size([16, 51])\n",
      "torch.Size([16, 42])\n",
      "torch.Size([16, 45])\n",
      "torch.Size([16, 46])\n",
      "torch.Size([16, 36])\n",
      "torch.Size([16, 53])\n",
      "torch.Size([16, 67])\n",
      "torch.Size([16, 61])\n",
      "torch.Size([16, 41])\n",
      "torch.Size([16, 36])\n",
      "torch.Size([16, 48])\n",
      "torch.Size([16, 39])\n",
      "torch.Size([16, 48])\n",
      "torch.Size([16, 60])\n",
      "torch.Size([16, 30])\n",
      "torch.Size([16, 49])\n",
      "torch.Size([16, 44])\n",
      "torch.Size([16, 72])\n",
      "torch.Size([16, 50])\n",
      "torch.Size([16, 42])\n",
      "torch.Size([16, 112])\n",
      "torch.Size([16, 33])\n",
      "torch.Size([16, 36])\n",
      "torch.Size([16, 50])\n",
      "torch.Size([16, 31])\n",
      "torch.Size([16, 73])\n",
      "torch.Size([16, 47])\n",
      "torch.Size([16, 51])\n",
      "torch.Size([16, 26])\n",
      "torch.Size([16, 35])\n",
      "torch.Size([16, 42])\n",
      "torch.Size([16, 45])\n",
      "torch.Size([16, 35])\n",
      "torch.Size([16, 23])\n",
      "torch.Size([16, 68])\n",
      "torch.Size([16, 33])\n",
      "torch.Size([16, 45])\n",
      "torch.Size([16, 25])\n",
      "torch.Size([16, 54])\n",
      "torch.Size([16, 47])\n",
      "torch.Size([16, 39])\n",
      "torch.Size([16, 34])\n",
      "torch.Size([16, 47])\n",
      "torch.Size([16, 31])\n",
      "torch.Size([16, 29])\n",
      "torch.Size([16, 33])\n",
      "torch.Size([16, 73])\n",
      "torch.Size([16, 40])\n",
      "torch.Size([16, 59])\n",
      "torch.Size([16, 40])\n",
      "torch.Size([16, 45])\n",
      "torch.Size([16, 47])\n",
      "torch.Size([16, 56])\n",
      "torch.Size([16, 48])\n",
      "torch.Size([16, 41])\n",
      "torch.Size([16, 65])\n",
      "torch.Size([16, 51])\n",
      "torch.Size([16, 62])\n",
      "torch.Size([16, 33])\n",
      "torch.Size([16, 39])\n",
      "torch.Size([16, 41])\n",
      "torch.Size([16, 54])\n",
      "torch.Size([16, 41])\n",
      "torch.Size([16, 49])\n",
      "torch.Size([16, 44])\n",
      "torch.Size([16, 39])\n",
      "torch.Size([16, 35])\n",
      "torch.Size([16, 38])\n",
      "torch.Size([16, 48])\n",
      "torch.Size([16, 38])\n",
      "torch.Size([16, 32])\n",
      "torch.Size([16, 33])\n",
      "torch.Size([16, 46])\n",
      "torch.Size([16, 50])\n",
      "torch.Size([16, 37])\n",
      "torch.Size([16, 58])\n",
      "torch.Size([16, 57])\n",
      "torch.Size([16, 43])\n",
      "torch.Size([16, 33])\n",
      "torch.Size([16, 48])\n",
      "torch.Size([16, 36])\n",
      "torch.Size([16, 39])\n",
      "torch.Size([16, 28])\n",
      "torch.Size([16, 45])\n",
      "torch.Size([16, 28])\n",
      "torch.Size([16, 43])\n",
      "torch.Size([16, 82])\n",
      "torch.Size([16, 40])\n",
      "torch.Size([16, 40])\n",
      "torch.Size([16, 48])\n",
      "torch.Size([16, 30])\n",
      "torch.Size([16, 43])\n",
      "torch.Size([16, 38])\n",
      "torch.Size([16, 42])\n",
      "torch.Size([16, 40])\n",
      "torch.Size([16, 39])\n",
      "torch.Size([16, 36])\n",
      "torch.Size([16, 42])\n",
      "torch.Size([16, 43])\n",
      "torch.Size([16, 56])\n",
      "torch.Size([16, 28])\n",
      "torch.Size([16, 41])\n",
      "torch.Size([16, 31])\n",
      "torch.Size([16, 50])\n",
      "torch.Size([16, 49])\n",
      "torch.Size([16, 46])\n",
      "torch.Size([16, 37])\n",
      "torch.Size([16, 29])\n",
      "torch.Size([16, 28])\n",
      "torch.Size([16, 33])\n",
      "torch.Size([16, 51])\n",
      "torch.Size([16, 50])\n",
      "torch.Size([16, 42])\n",
      "torch.Size([16, 60])\n",
      "torch.Size([16, 49])\n",
      "torch.Size([16, 45])\n",
      "torch.Size([16, 43])\n",
      "torch.Size([16, 53])\n",
      "torch.Size([16, 33])\n",
      "torch.Size([16, 46])\n",
      "torch.Size([16, 38])\n",
      "torch.Size([16, 47])\n",
      "torch.Size([16, 42])\n",
      "torch.Size([16, 51])\n",
      "torch.Size([16, 39])\n",
      "torch.Size([16, 32])\n",
      "torch.Size([16, 37])\n",
      "torch.Size([16, 40])\n",
      "torch.Size([16, 54])\n",
      "torch.Size([16, 58])\n",
      "torch.Size([16, 53])\n",
      "torch.Size([16, 49])\n",
      "torch.Size([16, 36])\n",
      "torch.Size([16, 74])\n",
      "torch.Size([16, 75])\n",
      "torch.Size([16, 42])\n",
      "torch.Size([16, 65])\n",
      "torch.Size([16, 43])\n",
      "torch.Size([16, 53])\n",
      "torch.Size([16, 55])\n",
      "torch.Size([16, 117])\n",
      "torch.Size([16, 76])\n",
      "torch.Size([16, 32])\n",
      "torch.Size([16, 36])\n",
      "torch.Size([16, 33])\n",
      "torch.Size([16, 52])\n",
      "torch.Size([16, 30])\n",
      "torch.Size([16, 30])\n",
      "torch.Size([16, 39])\n",
      "torch.Size([16, 51])\n",
      "torch.Size([16, 38])\n",
      "torch.Size([16, 33])\n",
      "torch.Size([16, 44])\n",
      "torch.Size([16, 37])\n",
      "torch.Size([16, 41])\n",
      "torch.Size([16, 36])\n",
      "torch.Size([16, 51])\n",
      "torch.Size([16, 34])\n",
      "torch.Size([16, 33])\n",
      "torch.Size([16, 27])\n",
      "torch.Size([16, 39])\n",
      "torch.Size([16, 47])\n",
      "torch.Size([16, 53])\n",
      "torch.Size([16, 53])\n",
      "torch.Size([16, 48])\n",
      "torch.Size([16, 49])\n",
      "torch.Size([16, 39])\n",
      "torch.Size([16, 34])\n",
      "torch.Size([16, 44])\n",
      "torch.Size([16, 50])\n",
      "torch.Size([16, 42])\n",
      "torch.Size([16, 86])\n",
      "torch.Size([16, 52])\n",
      "torch.Size([16, 42])\n",
      "torch.Size([16, 76])\n",
      "torch.Size([16, 47])\n",
      "torch.Size([16, 48])\n",
      "torch.Size([16, 46])\n",
      "torch.Size([16, 45])\n",
      "torch.Size([16, 30])\n",
      "torch.Size([16, 39])\n",
      "torch.Size([16, 32])\n",
      "torch.Size([16, 52])\n",
      "torch.Size([16, 51])\n",
      "torch.Size([16, 38])\n",
      "torch.Size([16, 67])\n",
      "torch.Size([16, 37])\n",
      "torch.Size([16, 39])\n",
      "torch.Size([16, 34])\n",
      "torch.Size([16, 58])\n",
      "torch.Size([10, 32])\n",
      "\n"
     ]
    }
   ],
   "source": [
    "trans_texts = []\n",
    "CHUNK = 16\n",
    "print('translating texts')\n",
    "CTS = len(df)//CHUNK\n",
    "if len(df)%CHUNK!=0: CTS += 1\n",
    "for i,j in tqdm(enumerate(range(CTS)), total=CTS):\n",
    "    a = j*CHUNK\n",
    "    b = (j+1)*CHUNK\n",
    "    b = min(b,len(df))\n",
    "    with torch.no_grad() :\n",
    "        input_ids = tokenizer(list(df.iloc[a:b].title.values), return_tensors=\"pt\", truncation=True, padding=True, max_length=200).input_ids.cuda()\n",
    "        print(input_ids.shape)\n",
    "        outputs = txt_model.generate(input_ids=input_ids, num_return_sequences=1)    \n",
    "        val = tokenizer.batch_decode(outputs, skip_special_tokens=True)\n",
    "    trans_texts.extend(val)"
   ]
  },
  {
   "cell_type": "code",
   "execution_count": 6,
   "metadata": {
    "hidden": true
   },
   "outputs": [],
   "source": [
    "df['translated_titles'] = trans_texts"
   ]
  },
  {
   "cell_type": "code",
   "execution_count": 9,
   "metadata": {
    "hidden": true
   },
   "outputs": [],
   "source": [
    "df.to_csv('data/train.csv')"
   ]
  },
  {
   "cell_type": "code",
   "execution_count": 1,
   "metadata": {
    "hidden": true
   },
   "outputs": [],
   "source": [
    "from imports import *\n",
    "from clip_.train_text import *\n",
    "from clip_.data import TextDS\n",
    "from utils import load_data\n",
    "from arcface import ArcMarginProduct\n",
    "import matplotlib.pyplot as plt\n",
    "import clip\n",
    "np.random.seed(1337)\n",
    "device = torch.device('cuda')"
   ]
  },
  {
   "cell_type": "markdown",
   "metadata": {},
   "source": [
    "### Split"
   ]
  },
  {
   "cell_type": "code",
   "execution_count": 2,
   "metadata": {},
   "outputs": [],
   "source": [
    "df, train_df, val_df, train_labels, val_labels = load_data(train_perc=0.3)"
   ]
  },
  {
   "cell_type": "code",
   "execution_count": 3,
   "metadata": {
    "scrolled": true
   },
   "outputs": [],
   "source": [
    "bs = 32\n",
    "bs_val = 128\n",
    "max_length=200"
   ]
  },
  {
   "cell_type": "markdown",
   "metadata": {},
   "source": [
    "tr_ds = TextDS(train_df, max_length=max_length)\n",
    "val_ds = TextDS(val_df, max_length=max_length)\n",
    "full_ds = TextDS(df, max_length=max_length)"
   ]
  },
  {
   "cell_type": "markdown",
   "metadata": {},
   "source": [
    "torch.save(tr_ds, 'data/text_models/datasets/clip/tr_ds_0.3_{}.pth'.format(max_length))\n",
    "torch.save(val_ds, 'data/text_models/datasets/clip/val_ds_0.3_{}.pth'.format(max_length))\n",
    "torch.save(full_ds, 'data/text_models/datasets/clip/full_ds_0.3_{}.pth'.format(max_length))"
   ]
  },
  {
   "cell_type": "code",
   "execution_count": 4,
   "metadata": {},
   "outputs": [],
   "source": [
    "tr_ds = torch.load('data/text_models/datasets/clip/tr_ds_0.3_{}.pth'.format(max_length))\n",
    "val_ds = torch.load('data/text_models/datasets/clip/val_ds_0.3_{}.pth'.format(max_length))\n",
    "full_ds = torch.load('data/text_models/datasets/clip/full_ds_0.3_{}.pth'.format(max_length))"
   ]
  },
  {
   "cell_type": "code",
   "execution_count": 5,
   "metadata": {},
   "outputs": [],
   "source": [
    "tr_test_dl = DataLoader(tr_ds, batch_size = bs_val, shuffle = False, pin_memory = True)\n",
    "tr_dl = DataLoader(tr_ds, batch_size = bs, shuffle = True, pin_memory = True)\n",
    "val_dl = DataLoader(val_ds, batch_size = bs_val, shuffle = False, pin_memory = True)\n",
    "#full_dl = DataLoader(full_ds, batch_size = bs_val, shuffle = False, pin_memory = True)"
   ]
  },
  {
   "cell_type": "code",
   "execution_count": 6,
   "metadata": {},
   "outputs": [],
   "source": [
    "class CLIPTxt(torch.nn.Module) :\n",
    "    def __init__(self, model_name=\"RN50\", device='cuda') :\n",
    "        super().__init__()\n",
    "        self.model = clip.load(model_name, device=device, jit=False)[0]\n",
    "    def forward(self, imgs) :\n",
    "        return self.model.encode_text(imgs)"
   ]
  },
  {
   "cell_type": "code",
   "execution_count": 7,
   "metadata": {},
   "outputs": [],
   "source": [
    "# model\n",
    "model = CLIPTxt().to(device)"
   ]
  },
  {
   "cell_type": "markdown",
   "metadata": {},
   "source": [
    "centers = compute_centers(tr_test_dl, model, train_df)\n",
    "torch.save(centers, 'data/text_models/clip/centers_0.3_{}.pth'.format(max_length))"
   ]
  },
  {
   "cell_type": "code",
   "execution_count": 8,
   "metadata": {},
   "outputs": [],
   "source": [
    "centers = torch.load('data/text_models/clip/centers_0.3_{}.pth'.format(max_length))"
   ]
  },
  {
   "cell_type": "code",
   "execution_count": 9,
   "metadata": {},
   "outputs": [
    {
     "name": "stdout",
     "output_type": "stream",
     "text": [
      "Using center as wieghts\n"
     ]
    }
   ],
   "source": [
    "metric_fc = ArcMarginProduct(512, train_df['label_group'].nunique(), s=30, m=0.5,\n",
    "                             easy_margin=False, centers=centers, device=device).to(device)"
   ]
  },
  {
   "cell_type": "code",
   "execution_count": 10,
   "metadata": {},
   "outputs": [],
   "source": [
    "n_epochs, lf, params, optimizer, sched = get_hparams(tr_dl, model, metric_fc, lr=5e-4, n_epochs=10)"
   ]
  },
  {
   "cell_type": "code",
   "execution_count": 11,
   "metadata": {},
   "outputs": [
    {
     "name": "stdout",
     "output_type": "stream",
     "text": [
      "model.positional_embedding\n",
      "model.text_projection\n",
      "model.logit_scale\n",
      "model.visual.conv1.weight\n",
      "model.visual.bn1.weight\n",
      "model.visual.bn1.bias\n",
      "model.visual.conv2.weight\n",
      "model.visual.bn2.weight\n",
      "model.visual.bn2.bias\n",
      "model.visual.conv3.weight\n",
      "model.visual.bn3.weight\n",
      "model.visual.bn3.bias\n",
      "model.visual.layer1.0.conv1.weight\n",
      "model.visual.layer1.0.bn1.weight\n",
      "model.visual.layer1.0.bn1.bias\n",
      "model.visual.layer1.0.conv2.weight\n",
      "model.visual.layer1.0.bn2.weight\n",
      "model.visual.layer1.0.bn2.bias\n",
      "model.visual.layer1.0.conv3.weight\n",
      "model.visual.layer1.0.bn3.weight\n",
      "model.visual.layer1.0.bn3.bias\n",
      "model.visual.layer1.0.downsample.0.weight\n",
      "model.visual.layer1.0.downsample.1.weight\n",
      "model.visual.layer1.0.downsample.1.bias\n",
      "model.visual.layer1.1.conv1.weight\n",
      "model.visual.layer1.1.bn1.weight\n",
      "model.visual.layer1.1.bn1.bias\n",
      "model.visual.layer1.1.conv2.weight\n",
      "model.visual.layer1.1.bn2.weight\n",
      "model.visual.layer1.1.bn2.bias\n",
      "model.visual.layer1.1.conv3.weight\n",
      "model.visual.layer1.1.bn3.weight\n",
      "model.visual.layer1.1.bn3.bias\n",
      "model.visual.layer1.2.conv1.weight\n",
      "model.visual.layer1.2.bn1.weight\n",
      "model.visual.layer1.2.bn1.bias\n",
      "model.visual.layer1.2.conv2.weight\n",
      "model.visual.layer1.2.bn2.weight\n",
      "model.visual.layer1.2.bn2.bias\n",
      "model.visual.layer1.2.conv3.weight\n",
      "model.visual.layer1.2.bn3.weight\n",
      "model.visual.layer1.2.bn3.bias\n",
      "model.visual.layer2.0.conv1.weight\n",
      "model.visual.layer2.0.bn1.weight\n",
      "model.visual.layer2.0.bn1.bias\n",
      "model.visual.layer2.0.conv2.weight\n",
      "model.visual.layer2.0.bn2.weight\n",
      "model.visual.layer2.0.bn2.bias\n",
      "model.visual.layer2.0.conv3.weight\n",
      "model.visual.layer2.0.bn3.weight\n",
      "model.visual.layer2.0.bn3.bias\n",
      "model.visual.layer2.0.downsample.0.weight\n",
      "model.visual.layer2.0.downsample.1.weight\n",
      "model.visual.layer2.0.downsample.1.bias\n",
      "model.visual.layer2.1.conv1.weight\n",
      "model.visual.layer2.1.bn1.weight\n",
      "model.visual.layer2.1.bn1.bias\n",
      "model.visual.layer2.1.conv2.weight\n",
      "model.visual.layer2.1.bn2.weight\n",
      "model.visual.layer2.1.bn2.bias\n",
      "model.visual.layer2.1.conv3.weight\n",
      "model.visual.layer2.1.bn3.weight\n",
      "model.visual.layer2.1.bn3.bias\n",
      "model.visual.layer2.2.conv1.weight\n",
      "model.visual.layer2.2.bn1.weight\n",
      "model.visual.layer2.2.bn1.bias\n",
      "model.visual.layer2.2.conv2.weight\n",
      "model.visual.layer2.2.bn2.weight\n",
      "model.visual.layer2.2.bn2.bias\n",
      "model.visual.layer2.2.conv3.weight\n",
      "model.visual.layer2.2.bn3.weight\n",
      "model.visual.layer2.2.bn3.bias\n",
      "model.visual.layer2.3.conv1.weight\n",
      "model.visual.layer2.3.bn1.weight\n",
      "model.visual.layer2.3.bn1.bias\n",
      "model.visual.layer2.3.conv2.weight\n",
      "model.visual.layer2.3.bn2.weight\n",
      "model.visual.layer2.3.bn2.bias\n",
      "model.visual.layer2.3.conv3.weight\n",
      "model.visual.layer2.3.bn3.weight\n",
      "model.visual.layer2.3.bn3.bias\n",
      "model.visual.layer3.0.conv1.weight\n",
      "model.visual.layer3.0.bn1.weight\n",
      "model.visual.layer3.0.bn1.bias\n",
      "model.visual.layer3.0.conv2.weight\n",
      "model.visual.layer3.0.bn2.weight\n",
      "model.visual.layer3.0.bn2.bias\n",
      "model.visual.layer3.0.conv3.weight\n",
      "model.visual.layer3.0.bn3.weight\n",
      "model.visual.layer3.0.bn3.bias\n",
      "model.visual.layer3.0.downsample.0.weight\n",
      "model.visual.layer3.0.downsample.1.weight\n",
      "model.visual.layer3.0.downsample.1.bias\n",
      "model.visual.layer3.1.conv1.weight\n",
      "model.visual.layer3.1.bn1.weight\n",
      "model.visual.layer3.1.bn1.bias\n",
      "model.visual.layer3.1.conv2.weight\n",
      "model.visual.layer3.1.bn2.weight\n",
      "model.visual.layer3.1.bn2.bias\n",
      "model.visual.layer3.1.conv3.weight\n",
      "model.visual.layer3.1.bn3.weight\n",
      "model.visual.layer3.1.bn3.bias\n",
      "model.visual.layer3.2.conv1.weight\n",
      "model.visual.layer3.2.bn1.weight\n",
      "model.visual.layer3.2.bn1.bias\n",
      "model.visual.layer3.2.conv2.weight\n",
      "model.visual.layer3.2.bn2.weight\n",
      "model.visual.layer3.2.bn2.bias\n",
      "model.visual.layer3.2.conv3.weight\n",
      "model.visual.layer3.2.bn3.weight\n",
      "model.visual.layer3.2.bn3.bias\n",
      "model.visual.layer3.3.conv1.weight\n",
      "model.visual.layer3.3.bn1.weight\n",
      "model.visual.layer3.3.bn1.bias\n",
      "model.visual.layer3.3.conv2.weight\n",
      "model.visual.layer3.3.bn2.weight\n",
      "model.visual.layer3.3.bn2.bias\n",
      "model.visual.layer3.3.conv3.weight\n",
      "model.visual.layer3.3.bn3.weight\n",
      "model.visual.layer3.3.bn3.bias\n",
      "model.visual.layer3.4.conv1.weight\n",
      "model.visual.layer3.4.bn1.weight\n",
      "model.visual.layer3.4.bn1.bias\n",
      "model.visual.layer3.4.conv2.weight\n",
      "model.visual.layer3.4.bn2.weight\n",
      "model.visual.layer3.4.bn2.bias\n",
      "model.visual.layer3.4.conv3.weight\n",
      "model.visual.layer3.4.bn3.weight\n",
      "model.visual.layer3.4.bn3.bias\n",
      "model.visual.layer3.5.conv1.weight\n",
      "model.visual.layer3.5.bn1.weight\n",
      "model.visual.layer3.5.bn1.bias\n",
      "model.visual.layer3.5.conv2.weight\n",
      "model.visual.layer3.5.bn2.weight\n",
      "model.visual.layer3.5.bn2.bias\n",
      "model.visual.layer3.5.conv3.weight\n",
      "model.visual.layer3.5.bn3.weight\n",
      "model.visual.layer3.5.bn3.bias\n",
      "model.visual.layer4.0.conv1.weight\n",
      "model.visual.layer4.0.bn1.weight\n",
      "model.visual.layer4.0.bn1.bias\n",
      "model.visual.layer4.0.conv2.weight\n",
      "model.visual.layer4.0.bn2.weight\n",
      "model.visual.layer4.0.bn2.bias\n",
      "model.visual.layer4.0.conv3.weight\n",
      "model.visual.layer4.0.bn3.weight\n",
      "model.visual.layer4.0.bn3.bias\n",
      "model.visual.layer4.0.downsample.0.weight\n",
      "model.visual.layer4.0.downsample.1.weight\n",
      "model.visual.layer4.0.downsample.1.bias\n",
      "model.visual.layer4.1.conv1.weight\n",
      "model.visual.layer4.1.bn1.weight\n",
      "model.visual.layer4.1.bn1.bias\n",
      "model.visual.layer4.1.conv2.weight\n",
      "model.visual.layer4.1.bn2.weight\n",
      "model.visual.layer4.1.bn2.bias\n",
      "model.visual.layer4.1.conv3.weight\n",
      "model.visual.layer4.1.bn3.weight\n",
      "model.visual.layer4.1.bn3.bias\n",
      "model.visual.layer4.2.conv1.weight\n",
      "model.visual.layer4.2.bn1.weight\n",
      "model.visual.layer4.2.bn1.bias\n",
      "model.visual.layer4.2.conv2.weight\n",
      "model.visual.layer4.2.bn2.weight\n",
      "model.visual.layer4.2.bn2.bias\n",
      "model.visual.layer4.2.conv3.weight\n",
      "model.visual.layer4.2.bn3.weight\n",
      "model.visual.layer4.2.bn3.bias\n",
      "model.visual.attnpool.positional_embedding\n",
      "model.visual.attnpool.k_proj.weight\n",
      "model.visual.attnpool.k_proj.bias\n",
      "model.visual.attnpool.q_proj.weight\n",
      "model.visual.attnpool.q_proj.bias\n",
      "model.visual.attnpool.v_proj.weight\n",
      "model.visual.attnpool.v_proj.bias\n",
      "model.visual.attnpool.c_proj.weight\n",
      "model.visual.attnpool.c_proj.bias\n",
      "model.transformer.resblocks.0.attn.in_proj_weight\n",
      "model.transformer.resblocks.0.attn.in_proj_bias\n",
      "model.transformer.resblocks.0.attn.out_proj.weight\n",
      "model.transformer.resblocks.0.attn.out_proj.bias\n",
      "model.transformer.resblocks.0.ln_1.weight\n",
      "model.transformer.resblocks.0.ln_1.bias\n",
      "model.transformer.resblocks.0.mlp.c_fc.weight\n",
      "model.transformer.resblocks.0.mlp.c_fc.bias\n",
      "model.transformer.resblocks.0.mlp.c_proj.weight\n",
      "model.transformer.resblocks.0.mlp.c_proj.bias\n",
      "model.transformer.resblocks.0.ln_2.weight\n",
      "model.transformer.resblocks.0.ln_2.bias\n",
      "model.transformer.resblocks.1.attn.in_proj_weight\n",
      "model.transformer.resblocks.1.attn.in_proj_bias\n",
      "model.transformer.resblocks.1.attn.out_proj.weight\n",
      "model.transformer.resblocks.1.attn.out_proj.bias\n",
      "model.transformer.resblocks.1.ln_1.weight\n",
      "model.transformer.resblocks.1.ln_1.bias\n",
      "model.transformer.resblocks.1.mlp.c_fc.weight\n",
      "model.transformer.resblocks.1.mlp.c_fc.bias\n",
      "model.transformer.resblocks.1.mlp.c_proj.weight\n",
      "model.transformer.resblocks.1.mlp.c_proj.bias\n",
      "model.transformer.resblocks.1.ln_2.weight\n",
      "model.transformer.resblocks.1.ln_2.bias\n",
      "model.transformer.resblocks.2.attn.in_proj_weight\n",
      "model.transformer.resblocks.2.attn.in_proj_bias\n",
      "model.transformer.resblocks.2.attn.out_proj.weight\n",
      "model.transformer.resblocks.2.attn.out_proj.bias\n",
      "model.transformer.resblocks.2.ln_1.weight\n",
      "model.transformer.resblocks.2.ln_1.bias\n",
      "model.transformer.resblocks.2.mlp.c_fc.weight\n",
      "model.transformer.resblocks.2.mlp.c_fc.bias\n",
      "model.transformer.resblocks.2.mlp.c_proj.weight\n",
      "model.transformer.resblocks.2.mlp.c_proj.bias\n",
      "model.transformer.resblocks.2.ln_2.weight\n",
      "model.transformer.resblocks.2.ln_2.bias\n",
      "model.transformer.resblocks.3.attn.in_proj_weight\n",
      "model.transformer.resblocks.3.attn.in_proj_bias\n",
      "model.transformer.resblocks.3.attn.out_proj.weight\n",
      "model.transformer.resblocks.3.attn.out_proj.bias\n",
      "model.transformer.resblocks.3.ln_1.weight\n",
      "model.transformer.resblocks.3.ln_1.bias\n",
      "model.transformer.resblocks.3.mlp.c_fc.weight\n",
      "model.transformer.resblocks.3.mlp.c_fc.bias\n",
      "model.transformer.resblocks.3.mlp.c_proj.weight\n",
      "model.transformer.resblocks.3.mlp.c_proj.bias\n",
      "model.transformer.resblocks.3.ln_2.weight\n",
      "model.transformer.resblocks.3.ln_2.bias\n",
      "model.transformer.resblocks.4.attn.in_proj_weight\n",
      "model.transformer.resblocks.4.attn.in_proj_bias\n",
      "model.transformer.resblocks.4.attn.out_proj.weight\n",
      "model.transformer.resblocks.4.attn.out_proj.bias\n",
      "model.transformer.resblocks.4.ln_1.weight\n",
      "model.transformer.resblocks.4.ln_1.bias\n",
      "model.transformer.resblocks.4.mlp.c_fc.weight\n",
      "model.transformer.resblocks.4.mlp.c_fc.bias\n",
      "model.transformer.resblocks.4.mlp.c_proj.weight\n",
      "model.transformer.resblocks.4.mlp.c_proj.bias\n",
      "model.transformer.resblocks.4.ln_2.weight\n",
      "model.transformer.resblocks.4.ln_2.bias\n",
      "model.transformer.resblocks.5.attn.in_proj_weight\n",
      "model.transformer.resblocks.5.attn.in_proj_bias\n",
      "model.transformer.resblocks.5.attn.out_proj.weight\n",
      "model.transformer.resblocks.5.attn.out_proj.bias\n",
      "model.transformer.resblocks.5.ln_1.weight\n",
      "model.transformer.resblocks.5.ln_1.bias\n",
      "model.transformer.resblocks.5.mlp.c_fc.weight\n",
      "model.transformer.resblocks.5.mlp.c_fc.bias\n",
      "model.transformer.resblocks.5.mlp.c_proj.weight\n",
      "model.transformer.resblocks.5.mlp.c_proj.bias\n",
      "model.transformer.resblocks.5.ln_2.weight\n",
      "model.transformer.resblocks.5.ln_2.bias\n",
      "model.transformer.resblocks.6.attn.in_proj_weight\n",
      "model.transformer.resblocks.6.attn.in_proj_bias\n",
      "model.transformer.resblocks.6.attn.out_proj.weight\n",
      "model.transformer.resblocks.6.attn.out_proj.bias\n",
      "model.transformer.resblocks.6.ln_1.weight\n",
      "model.transformer.resblocks.6.ln_1.bias\n",
      "model.transformer.resblocks.6.mlp.c_fc.weight\n",
      "model.transformer.resblocks.6.mlp.c_fc.bias\n",
      "model.transformer.resblocks.6.mlp.c_proj.weight\n",
      "model.transformer.resblocks.6.mlp.c_proj.bias\n",
      "model.transformer.resblocks.6.ln_2.weight\n",
      "model.transformer.resblocks.6.ln_2.bias\n",
      "model.transformer.resblocks.7.attn.in_proj_weight\n",
      "model.transformer.resblocks.7.attn.in_proj_bias\n",
      "model.transformer.resblocks.7.attn.out_proj.weight\n",
      "model.transformer.resblocks.7.attn.out_proj.bias\n",
      "model.transformer.resblocks.7.ln_1.weight\n",
      "model.transformer.resblocks.7.ln_1.bias\n",
      "model.transformer.resblocks.7.mlp.c_fc.weight\n",
      "model.transformer.resblocks.7.mlp.c_fc.bias\n",
      "model.transformer.resblocks.7.mlp.c_proj.weight\n",
      "model.transformer.resblocks.7.mlp.c_proj.bias\n",
      "model.transformer.resblocks.7.ln_2.weight\n",
      "model.transformer.resblocks.7.ln_2.bias\n",
      "model.transformer.resblocks.8.attn.in_proj_weight\n",
      "model.transformer.resblocks.8.attn.in_proj_bias\n",
      "model.transformer.resblocks.8.attn.out_proj.weight\n",
      "model.transformer.resblocks.8.attn.out_proj.bias\n",
      "model.transformer.resblocks.8.ln_1.weight\n",
      "model.transformer.resblocks.8.ln_1.bias\n",
      "model.transformer.resblocks.8.mlp.c_fc.weight\n",
      "model.transformer.resblocks.8.mlp.c_fc.bias\n",
      "model.transformer.resblocks.8.mlp.c_proj.weight\n",
      "model.transformer.resblocks.8.mlp.c_proj.bias\n",
      "model.transformer.resblocks.8.ln_2.weight\n",
      "model.transformer.resblocks.8.ln_2.bias\n",
      "model.transformer.resblocks.9.attn.in_proj_weight\n",
      "model.transformer.resblocks.9.attn.in_proj_bias\n",
      "model.transformer.resblocks.9.attn.out_proj.weight\n",
      "model.transformer.resblocks.9.attn.out_proj.bias\n",
      "model.transformer.resblocks.9.ln_1.weight\n",
      "model.transformer.resblocks.9.ln_1.bias\n",
      "model.transformer.resblocks.9.mlp.c_fc.weight\n",
      "model.transformer.resblocks.9.mlp.c_fc.bias\n",
      "model.transformer.resblocks.9.mlp.c_proj.weight\n",
      "model.transformer.resblocks.9.mlp.c_proj.bias\n",
      "model.transformer.resblocks.9.ln_2.weight\n",
      "model.transformer.resblocks.9.ln_2.bias\n",
      "model.transformer.resblocks.10.attn.in_proj_weight\n",
      "model.transformer.resblocks.10.attn.in_proj_bias\n",
      "model.transformer.resblocks.10.attn.out_proj.weight\n",
      "model.transformer.resblocks.10.attn.out_proj.bias\n",
      "model.transformer.resblocks.10.ln_1.weight\n",
      "model.transformer.resblocks.10.ln_1.bias\n",
      "model.transformer.resblocks.10.mlp.c_fc.weight\n",
      "model.transformer.resblocks.10.mlp.c_fc.bias\n",
      "model.transformer.resblocks.10.mlp.c_proj.weight\n",
      "model.transformer.resblocks.10.mlp.c_proj.bias\n",
      "model.transformer.resblocks.10.ln_2.weight\n",
      "model.transformer.resblocks.10.ln_2.bias\n",
      "model.transformer.resblocks.11.attn.in_proj_weight\n",
      "model.transformer.resblocks.11.attn.in_proj_bias\n",
      "model.transformer.resblocks.11.attn.out_proj.weight\n",
      "model.transformer.resblocks.11.attn.out_proj.bias\n",
      "model.transformer.resblocks.11.ln_1.weight\n",
      "model.transformer.resblocks.11.ln_1.bias\n",
      "model.transformer.resblocks.11.mlp.c_fc.weight\n",
      "model.transformer.resblocks.11.mlp.c_fc.bias\n",
      "model.transformer.resblocks.11.mlp.c_proj.weight\n",
      "model.transformer.resblocks.11.mlp.c_proj.bias\n",
      "model.transformer.resblocks.11.ln_2.weight\n",
      "model.transformer.resblocks.11.ln_2.bias\n",
      "model.token_embedding.weight\n",
      "model.ln_final.weight\n",
      "model.ln_final.bias\n"
     ]
    }
   ],
   "source": [
    "for n, p in model.named_parameters() :\n",
    "    print(n)"
   ]
  },
  {
   "cell_type": "code",
   "execution_count": 12,
   "metadata": {},
   "outputs": [
    {
     "name": "stdout",
     "output_type": "stream",
     "text": [
      "transformer.resblocks.0\n",
      "transformer.resblocks.1\n",
      "transformer.resblocks.2\n",
      "transformer.resblocks.3\n",
      "transformer.resblocks.4\n",
      "transformer.resblocks.5\n",
      "transformer.resblocks.6\n",
      "transformer.resblocks.7\n",
      "transformer.resblocks.8\n",
      "transformer.resblocks.9\n",
      "transformer.resblocks.10\n"
     ]
    }
   ],
   "source": [
    "mnp = list(model.named_parameters())\n",
    "\n",
    "param_groups = [{'params' : [p for n,p in mnp if n in ['model.token_embedding.weight', 'model.positional_embedding']]}]\n",
    "\n",
    "params_names = [n for n,p in mnp if n in ['model.token_embedding.weight', 'model.positional_embedding']]\n",
    "#print(params_names)\n",
    "n_blocks = 11\n",
    "for i in range(n_blocks):\n",
    "    print(f'transformer.resblocks.{i}')\n",
    "    ith_block = [p for n, p in mnp if f'transformer.resblocks.{i}.' in n]\n",
    "    ith_block_name = [n for n, p in mnp if f'transformer.resblocks.{i}.' in n]\n",
    "    params_names += ith_block_name\n",
    "    #for n in params_names :\n",
    "    #    print(n)\n",
    "    param_groups.append({'params' : ith_block})\n",
    "\n",
    "end = ['logit_scale', 'text_projection', 'final']\n",
    "param_groups.append({'params' : [p for n,p in mnp if any(end_n in n for end_n in end)]})\n",
    "params_names += [n for n,p in mnp if any(end_n in n for end_n in end)]\n",
    "\n",
    "param_groups.append({'params' : metric_fc.parameters()})\n"
   ]
  },
  {
   "cell_type": "code",
   "execution_count": 13,
   "metadata": {},
   "outputs": [],
   "source": [
    "lf = nn.CrossEntropyLoss()\n",
    "optimizer = torch.optim.AdamW(param_groups, weight_decay = 1e-5)\n",
    "\n",
    "lr = list(np.linspace(5e-6,5e-4,len(param_groups)))\n",
    "\n",
    "n_epochs = 10\n",
    "sched = torch.optim.lr_scheduler.OneCycleLR(optimizer, max_lr=lr, pct_start=0.3,\n",
    "                                            total_steps=int(n_epochs * len(tr_dl)))"
   ]
  },
  {
   "cell_type": "code",
   "execution_count": 14,
   "metadata": {},
   "outputs": [],
   "source": [
    "loss_hist = []\n",
    "best_thr_score={'val': {'thr': None, 'f1': None}, 'train': {'thr': None, 'f1': None}}\n",
    "thr_score_hist=[]\n",
    "ep_start = 0\n",
    "save_path = 'data/text_models/clip/test_21ap_epochs'"
   ]
  },
  {
   "cell_type": "code",
   "execution_count": 15,
   "metadata": {
    "scrolled": true
   },
   "outputs": [
    {
     "data": {
      "application/vnd.jupyter.widget-view+json": {
       "model_id": "",
       "version_major": 2,
       "version_minor": 0
      },
      "text/plain": [
       "HBox(children=(FloatProgress(value=0.0, max=10.0), HTML(value='')))"
      ]
     },
     "metadata": {},
     "output_type": "display_data"
    },
    {
     "data": {
      "application/vnd.jupyter.widget-view+json": {
       "model_id": "",
       "version_major": 2,
       "version_minor": 0
      },
      "text/plain": [
       "HBox(children=(FloatProgress(value=0.0, max=327.0), HTML(value='')))"
      ]
     },
     "metadata": {},
     "output_type": "display_data"
    },
    {
     "data": {
      "application/vnd.jupyter.widget-view+json": {
       "model_id": "",
       "version_major": 2,
       "version_minor": 0
      },
      "text/plain": [
       "HBox(children=(FloatProgress(value=0.0, description='Thresholds', max=10.0, style=ProgressStyle(description_wi…"
      ]
     },
     "metadata": {},
     "output_type": "display_data"
    },
    {
     "name": "stdout",
     "output_type": "stream",
     "text": [
      "Checkpoint : saved model to data/text_models/clip/test_21ap_epochs_ep_0.pth\n"
     ]
    },
    {
     "data": {
      "application/vnd.jupyter.widget-view+json": {
       "model_id": "",
       "version_major": 2,
       "version_minor": 0
      },
      "text/plain": [
       "HBox(children=(FloatProgress(value=0.0, max=187.0), HTML(value='')))"
      ]
     },
     "metadata": {},
     "output_type": "display_data"
    },
    {
     "data": {
      "application/vnd.jupyter.widget-view+json": {
       "model_id": "",
       "version_major": 2,
       "version_minor": 0
      },
      "text/plain": [
       "HBox(children=(FloatProgress(value=0.0, description='Thresholds', max=10.0, style=ProgressStyle(description_wi…"
      ]
     },
     "metadata": {},
     "output_type": "display_data"
    },
    {
     "name": "stdout",
     "output_type": "stream",
     "text": [
      "Saved best model ep 0 with f score : 0.6049245574192079\n",
      "Ep 0: Train loss 6.6701 | Val f score 0.6049 with thresh 0.64, train f score 0.6513 with thresh 0.73\n"
     ]
    },
    {
     "data": {
      "application/vnd.jupyter.widget-view+json": {
       "model_id": "",
       "version_major": 2,
       "version_minor": 0
      },
      "text/plain": [
       "HBox(children=(FloatProgress(value=0.0, max=327.0), HTML(value='')))"
      ]
     },
     "metadata": {},
     "output_type": "display_data"
    },
    {
     "data": {
      "application/vnd.jupyter.widget-view+json": {
       "model_id": "",
       "version_major": 2,
       "version_minor": 0
      },
      "text/plain": [
       "HBox(children=(FloatProgress(value=0.0, description='Thresholds', max=5.0, style=ProgressStyle(description_wid…"
      ]
     },
     "metadata": {},
     "output_type": "display_data"
    },
    {
     "data": {
      "application/vnd.jupyter.widget-view+json": {
       "model_id": "",
       "version_major": 2,
       "version_minor": 0
      },
      "text/plain": [
       "HBox(children=(FloatProgress(value=0.0, max=187.0), HTML(value='')))"
      ]
     },
     "metadata": {},
     "output_type": "display_data"
    },
    {
     "data": {
      "application/vnd.jupyter.widget-view+json": {
       "model_id": "",
       "version_major": 2,
       "version_minor": 0
      },
      "text/plain": [
       "HBox(children=(FloatProgress(value=0.0, description='Thresholds', max=5.0, style=ProgressStyle(description_wid…"
      ]
     },
     "metadata": {},
     "output_type": "display_data"
    },
    {
     "name": "stdout",
     "output_type": "stream",
     "text": [
      "Saved best model ep 1 with f score : 0.6132073974722503\n",
      "Ep 1: Train loss 6.6702 | Val f score 0.6132 with thresh 0.59, train f score 0.7104 with thresh 0.78\n"
     ]
    },
    {
     "data": {
      "application/vnd.jupyter.widget-view+json": {
       "model_id": "",
       "version_major": 2,
       "version_minor": 0
      },
      "text/plain": [
       "HBox(children=(FloatProgress(value=0.0, max=327.0), HTML(value='')))"
      ]
     },
     "metadata": {},
     "output_type": "display_data"
    },
    {
     "data": {
      "application/vnd.jupyter.widget-view+json": {
       "model_id": "",
       "version_major": 2,
       "version_minor": 0
      },
      "text/plain": [
       "HBox(children=(FloatProgress(value=0.0, description='Thresholds', max=5.0, style=ProgressStyle(description_wid…"
      ]
     },
     "metadata": {},
     "output_type": "display_data"
    },
    {
     "name": "stdout",
     "output_type": "stream",
     "text": [
      "Checkpoint : saved model to data/text_models/clip/test_21ap_epochs_ep_2.pth\n"
     ]
    },
    {
     "data": {
      "application/vnd.jupyter.widget-view+json": {
       "model_id": "",
       "version_major": 2,
       "version_minor": 0
      },
      "text/plain": [
       "HBox(children=(FloatProgress(value=0.0, max=187.0), HTML(value='')))"
      ]
     },
     "metadata": {},
     "output_type": "display_data"
    },
    {
     "data": {
      "application/vnd.jupyter.widget-view+json": {
       "model_id": "",
       "version_major": 2,
       "version_minor": 0
      },
      "text/plain": [
       "HBox(children=(FloatProgress(value=0.0, description='Thresholds', max=5.0, style=ProgressStyle(description_wid…"
      ]
     },
     "metadata": {},
     "output_type": "display_data"
    },
    {
     "name": "stdout",
     "output_type": "stream",
     "text": [
      "Saved best model ep 2 with f score : 0.6279998728346883\n",
      "Ep 2: Train loss 6.2191 | Val f score 0.6280 with thresh 0.69, train f score 0.7666 with thresh 0.88\n"
     ]
    },
    {
     "data": {
      "application/vnd.jupyter.widget-view+json": {
       "model_id": "",
       "version_major": 2,
       "version_minor": 0
      },
      "text/plain": [
       "HBox(children=(FloatProgress(value=0.0, max=327.0), HTML(value='')))"
      ]
     },
     "metadata": {},
     "output_type": "display_data"
    },
    {
     "data": {
      "application/vnd.jupyter.widget-view+json": {
       "model_id": "",
       "version_major": 2,
       "version_minor": 0
      },
      "text/plain": [
       "HBox(children=(FloatProgress(value=0.0, description='Thresholds', max=5.0, style=ProgressStyle(description_wid…"
      ]
     },
     "metadata": {},
     "output_type": "display_data"
    },
    {
     "data": {
      "application/vnd.jupyter.widget-view+json": {
       "model_id": "",
       "version_major": 2,
       "version_minor": 0
      },
      "text/plain": [
       "HBox(children=(FloatProgress(value=0.0, max=187.0), HTML(value='')))"
      ]
     },
     "metadata": {},
     "output_type": "display_data"
    },
    {
     "data": {
      "application/vnd.jupyter.widget-view+json": {
       "model_id": "",
       "version_major": 2,
       "version_minor": 0
      },
      "text/plain": [
       "HBox(children=(FloatProgress(value=0.0, description='Thresholds', max=5.0, style=ProgressStyle(description_wid…"
      ]
     },
     "metadata": {},
     "output_type": "display_data"
    },
    {
     "name": "stdout",
     "output_type": "stream",
     "text": [
      "Saved best model ep 3 with f score : 0.6333510523520166\n",
      "Ep 3: Train loss 4.4237 | Val f score 0.6334 with thresh 0.74, train f score 0.8473 with thresh 0.93\n"
     ]
    },
    {
     "data": {
      "application/vnd.jupyter.widget-view+json": {
       "model_id": "",
       "version_major": 2,
       "version_minor": 0
      },
      "text/plain": [
       "HBox(children=(FloatProgress(value=0.0, max=327.0), HTML(value='')))"
      ]
     },
     "metadata": {},
     "output_type": "display_data"
    },
    {
     "data": {
      "application/vnd.jupyter.widget-view+json": {
       "model_id": "",
       "version_major": 2,
       "version_minor": 0
      },
      "text/plain": [
       "HBox(children=(FloatProgress(value=0.0, description='Thresholds', max=5.0, style=ProgressStyle(description_wid…"
      ]
     },
     "metadata": {},
     "output_type": "display_data"
    },
    {
     "name": "stdout",
     "output_type": "stream",
     "text": [
      "Checkpoint : saved model to data/text_models/clip/test_21ap_epochs_ep_4.pth\n"
     ]
    },
    {
     "data": {
      "application/vnd.jupyter.widget-view+json": {
       "model_id": "",
       "version_major": 2,
       "version_minor": 0
      },
      "text/plain": [
       "HBox(children=(FloatProgress(value=0.0, max=187.0), HTML(value='')))"
      ]
     },
     "metadata": {},
     "output_type": "display_data"
    },
    {
     "data": {
      "application/vnd.jupyter.widget-view+json": {
       "model_id": "",
       "version_major": 2,
       "version_minor": 0
      },
      "text/plain": [
       "HBox(children=(FloatProgress(value=0.0, description='Thresholds', max=5.0, style=ProgressStyle(description_wid…"
      ]
     },
     "metadata": {},
     "output_type": "display_data"
    },
    {
     "name": "stdout",
     "output_type": "stream",
     "text": [
      "Saved best model ep 4 with f score : 0.6372354247870237\n",
      "Ep 4: Train loss 2.3912 | Val f score 0.6372 with thresh 0.74, train f score 0.9145 with thresh 0.93\n"
     ]
    },
    {
     "data": {
      "application/vnd.jupyter.widget-view+json": {
       "model_id": "",
       "version_major": 2,
       "version_minor": 0
      },
      "text/plain": [
       "HBox(children=(FloatProgress(value=0.0, max=327.0), HTML(value='')))"
      ]
     },
     "metadata": {},
     "output_type": "display_data"
    },
    {
     "data": {
      "application/vnd.jupyter.widget-view+json": {
       "model_id": "",
       "version_major": 2,
       "version_minor": 0
      },
      "text/plain": [
       "HBox(children=(FloatProgress(value=0.0, description='Thresholds', max=5.0, style=ProgressStyle(description_wid…"
      ]
     },
     "metadata": {},
     "output_type": "display_data"
    },
    {
     "data": {
      "application/vnd.jupyter.widget-view+json": {
       "model_id": "",
       "version_major": 2,
       "version_minor": 0
      },
      "text/plain": [
       "HBox(children=(FloatProgress(value=0.0, max=187.0), HTML(value='')))"
      ]
     },
     "metadata": {},
     "output_type": "display_data"
    },
    {
     "data": {
      "application/vnd.jupyter.widget-view+json": {
       "model_id": "",
       "version_major": 2,
       "version_minor": 0
      },
      "text/plain": [
       "HBox(children=(FloatProgress(value=0.0, description='Thresholds', max=5.0, style=ProgressStyle(description_wid…"
      ]
     },
     "metadata": {},
     "output_type": "display_data"
    },
    {
     "name": "stdout",
     "output_type": "stream",
     "text": [
      "Saved best model ep 5 with f score : 0.6447560419127103\n",
      "Ep 5: Train loss 1.0041 | Val f score 0.6448 with thresh 0.79, train f score 0.9624 with thresh 0.93\n"
     ]
    },
    {
     "data": {
      "application/vnd.jupyter.widget-view+json": {
       "model_id": "",
       "version_major": 2,
       "version_minor": 0
      },
      "text/plain": [
       "HBox(children=(FloatProgress(value=0.0, max=327.0), HTML(value='')))"
      ]
     },
     "metadata": {},
     "output_type": "display_data"
    },
    {
     "data": {
      "application/vnd.jupyter.widget-view+json": {
       "model_id": "",
       "version_major": 2,
       "version_minor": 0
      },
      "text/plain": [
       "HBox(children=(FloatProgress(value=0.0, description='Thresholds', max=5.0, style=ProgressStyle(description_wid…"
      ]
     },
     "metadata": {},
     "output_type": "display_data"
    },
    {
     "name": "stdout",
     "output_type": "stream",
     "text": [
      "Checkpoint : saved model to data/text_models/clip/test_21ap_epochs_ep_6.pth\n"
     ]
    },
    {
     "data": {
      "application/vnd.jupyter.widget-view+json": {
       "model_id": "",
       "version_major": 2,
       "version_minor": 0
      },
      "text/plain": [
       "HBox(children=(FloatProgress(value=0.0, max=187.0), HTML(value='')))"
      ]
     },
     "metadata": {},
     "output_type": "display_data"
    },
    {
     "data": {
      "application/vnd.jupyter.widget-view+json": {
       "model_id": "",
       "version_major": 2,
       "version_minor": 0
      },
      "text/plain": [
       "HBox(children=(FloatProgress(value=0.0, description='Thresholds', max=5.0, style=ProgressStyle(description_wid…"
      ]
     },
     "metadata": {},
     "output_type": "display_data"
    },
    {
     "name": "stdout",
     "output_type": "stream",
     "text": [
      "Saved best model ep 6 with f score : 0.6449589980744057\n",
      "Ep 6: Train loss 0.3737 | Val f score 0.6450 with thresh 0.79, train f score 0.9822 with thresh 0.88\n"
     ]
    },
    {
     "data": {
      "application/vnd.jupyter.widget-view+json": {
       "model_id": "",
       "version_major": 2,
       "version_minor": 0
      },
      "text/plain": [
       "HBox(children=(FloatProgress(value=0.0, max=327.0), HTML(value='')))"
      ]
     },
     "metadata": {},
     "output_type": "display_data"
    },
    {
     "data": {
      "application/vnd.jupyter.widget-view+json": {
       "model_id": "",
       "version_major": 2,
       "version_minor": 0
      },
      "text/plain": [
       "HBox(children=(FloatProgress(value=0.0, description='Thresholds', max=5.0, style=ProgressStyle(description_wid…"
      ]
     },
     "metadata": {},
     "output_type": "display_data"
    },
    {
     "data": {
      "application/vnd.jupyter.widget-view+json": {
       "model_id": "",
       "version_major": 2,
       "version_minor": 0
      },
      "text/plain": [
       "HBox(children=(FloatProgress(value=0.0, max=187.0), HTML(value='')))"
      ]
     },
     "metadata": {},
     "output_type": "display_data"
    },
    {
     "data": {
      "application/vnd.jupyter.widget-view+json": {
       "model_id": "",
       "version_major": 2,
       "version_minor": 0
      },
      "text/plain": [
       "HBox(children=(FloatProgress(value=0.0, description='Thresholds', max=5.0, style=ProgressStyle(description_wid…"
      ]
     },
     "metadata": {},
     "output_type": "display_data"
    },
    {
     "name": "stdout",
     "output_type": "stream",
     "text": [
      "Saved best model ep 7 with f score : 0.6450074193692245\n",
      "Ep 7: Train loss 0.1815 | Val f score 0.6450 with thresh 0.79, train f score 0.9877 with thresh 0.83\n"
     ]
    },
    {
     "data": {
      "application/vnd.jupyter.widget-view+json": {
       "model_id": "",
       "version_major": 2,
       "version_minor": 0
      },
      "text/plain": [
       "HBox(children=(FloatProgress(value=0.0, max=327.0), HTML(value='')))"
      ]
     },
     "metadata": {},
     "output_type": "display_data"
    },
    {
     "data": {
      "application/vnd.jupyter.widget-view+json": {
       "model_id": "",
       "version_major": 2,
       "version_minor": 0
      },
      "text/plain": [
       "HBox(children=(FloatProgress(value=0.0, description='Thresholds', max=5.0, style=ProgressStyle(description_wid…"
      ]
     },
     "metadata": {},
     "output_type": "display_data"
    },
    {
     "name": "stdout",
     "output_type": "stream",
     "text": [
      "Checkpoint : saved model to data/text_models/clip/test_21ap_epochs_ep_8.pth\n"
     ]
    },
    {
     "data": {
      "application/vnd.jupyter.widget-view+json": {
       "model_id": "",
       "version_major": 2,
       "version_minor": 0
      },
      "text/plain": [
       "HBox(children=(FloatProgress(value=0.0, max=187.0), HTML(value='')))"
      ]
     },
     "metadata": {},
     "output_type": "display_data"
    },
    {
     "data": {
      "application/vnd.jupyter.widget-view+json": {
       "model_id": "",
       "version_major": 2,
       "version_minor": 0
      },
      "text/plain": [
       "HBox(children=(FloatProgress(value=0.0, description='Thresholds', max=5.0, style=ProgressStyle(description_wid…"
      ]
     },
     "metadata": {},
     "output_type": "display_data"
    },
    {
     "name": "stdout",
     "output_type": "stream",
     "text": [
      "Ep 8: Train loss 0.1411 | Val f score 0.6444 with thresh 0.79, train f score 0.9890 with thresh 0.78\n"
     ]
    },
    {
     "data": {
      "application/vnd.jupyter.widget-view+json": {
       "model_id": "",
       "version_major": 2,
       "version_minor": 0
      },
      "text/plain": [
       "HBox(children=(FloatProgress(value=0.0, max=327.0), HTML(value='')))"
      ]
     },
     "metadata": {},
     "output_type": "display_data"
    },
    {
     "data": {
      "application/vnd.jupyter.widget-view+json": {
       "model_id": "",
       "version_major": 2,
       "version_minor": 0
      },
      "text/plain": [
       "HBox(children=(FloatProgress(value=0.0, description='Thresholds', max=5.0, style=ProgressStyle(description_wid…"
      ]
     },
     "metadata": {},
     "output_type": "display_data"
    },
    {
     "data": {
      "application/vnd.jupyter.widget-view+json": {
       "model_id": "",
       "version_major": 2,
       "version_minor": 0
      },
      "text/plain": [
       "HBox(children=(FloatProgress(value=0.0, max=187.0), HTML(value='')))"
      ]
     },
     "metadata": {},
     "output_type": "display_data"
    },
    {
     "data": {
      "application/vnd.jupyter.widget-view+json": {
       "model_id": "",
       "version_major": 2,
       "version_minor": 0
      },
      "text/plain": [
       "HBox(children=(FloatProgress(value=0.0, description='Thresholds', max=5.0, style=ProgressStyle(description_wid…"
      ]
     },
     "metadata": {},
     "output_type": "display_data"
    },
    {
     "name": "stdout",
     "output_type": "stream",
     "text": [
      "Ep 9: Train loss 0.1267 | Val f score 0.6445 with thresh 0.79, train f score 0.9896 with thresh 0.78\n",
      "\r"
     ]
    }
   ],
   "source": [
    "best_thr_score, thr_score_hist, losses = train(model, optimizer, lf, sched, metric_fc, tr_dl, val_dl,\n",
    "                                               n_epochs, train_df, val_df, \n",
    "                                               save_path=save_path, \n",
    "                                               prev_best_info=best_thr_score, info_history=thr_score_hist,\n",
    "                                               ep_start=ep_start)\n",
    "loss_hist.append(losses)\n",
    "ep_start += n_epochs"
   ]
  },
  {
   "cell_type": "markdown",
   "metadata": {},
   "source": [
    "### Split no translation"
   ]
  },
  {
   "cell_type": "code",
   "execution_count": 1,
   "metadata": {},
   "outputs": [],
   "source": [
    "from imports import *\n",
    "from clip_.train_text import *\n",
    "from clip_.data import TextDS\n",
    "from utils import load_data\n",
    "from arcface import ArcMarginProduct\n",
    "import matplotlib.pyplot as plt\n",
    "import clip\n",
    "np.random.seed(1337)\n",
    "device = torch.device('cuda')"
   ]
  },
  {
   "cell_type": "code",
   "execution_count": 2,
   "metadata": {},
   "outputs": [],
   "source": [
    "df, train_df, val_df, train_labels, val_labels = load_data(train_perc=0.3)"
   ]
  },
  {
   "cell_type": "code",
   "execution_count": 4,
   "metadata": {
    "scrolled": true
   },
   "outputs": [],
   "source": [
    "bs = 32\n",
    "bs_val = 128\n",
    "max_length=300"
   ]
  },
  {
   "cell_type": "code",
   "execution_count": 12,
   "metadata": {},
   "outputs": [],
   "source": [
    "tr_ds = TextDS(train_df, column='title')\n",
    "val_ds = TextDS(val_df, column='title')\n",
    "full_ds = TextDS(df, column='title')"
   ]
  },
  {
   "cell_type": "code",
   "execution_count": 13,
   "metadata": {},
   "outputs": [],
   "source": [
    "torch.save(tr_ds, 'data/text_models/datasets/clip/tr_ds_0.3_{}_no_trans.pth'.format(max_length))\n",
    "torch.save(val_ds, 'data/text_models/datasets/clip/val_ds_0.3_{}_no_trans.pth'.format(max_length))\n",
    "torch.save(full_ds, 'data/text_models/datasets/clip/full_ds_0.3_{}_no_trans.pth'.format(max_length))"
   ]
  },
  {
   "cell_type": "code",
   "execution_count": 14,
   "metadata": {},
   "outputs": [],
   "source": [
    "tr_ds = torch.load('data/text_models/datasets/clip/tr_ds_0.3_{}_no_trans.pth'.format(max_length))\n",
    "val_ds = torch.load('data/text_models/datasets/clip/val_ds_0.3_{}_no_trans.pth'.format(max_length))\n",
    "full_ds = torch.load('data/text_models/datasets/clip/full_ds_0.3_{}_no_trans.pth'.format(max_length))"
   ]
  },
  {
   "cell_type": "code",
   "execution_count": 15,
   "metadata": {},
   "outputs": [],
   "source": [
    "tr_test_dl = DataLoader(tr_ds, batch_size = bs_val, shuffle = False, pin_memory = True)\n",
    "tr_dl = DataLoader(tr_ds, batch_size = bs, shuffle = True, pin_memory = True)\n",
    "val_dl = DataLoader(val_ds, batch_size = bs_val, shuffle = False, pin_memory = True)\n",
    "#full_dl = DataLoader(full_ds, batch_size = bs_val, shuffle = False, pin_memory = True)"
   ]
  },
  {
   "cell_type": "code",
   "execution_count": 16,
   "metadata": {},
   "outputs": [],
   "source": [
    "class CLIPTxt(torch.nn.Module) :\n",
    "    def __init__(self, model_name=\"RN50\", device='cuda') :\n",
    "        super().__init__()\n",
    "        self.model = clip.load(model_name, device=device, jit=False)[0]\n",
    "    def forward(self, imgs) :\n",
    "        return self.model.encode_text(imgs)"
   ]
  },
  {
   "cell_type": "code",
   "execution_count": 17,
   "metadata": {},
   "outputs": [],
   "source": [
    "# model\n",
    "model = CLIPTxt().to(device)"
   ]
  },
  {
   "cell_type": "code",
   "execution_count": 18,
   "metadata": {},
   "outputs": [
    {
     "data": {
      "application/vnd.jupyter.widget-view+json": {
       "model_id": "f67a013721144f0aa2345b505778e0a7",
       "version_major": 2,
       "version_minor": 0
      },
      "text/plain": [
       "HBox(children=(FloatProgress(value=0.0, max=82.0), HTML(value='')))"
      ]
     },
     "metadata": {},
     "output_type": "display_data"
    },
    {
     "name": "stdout",
     "output_type": "stream",
     "text": [
      "\n"
     ]
    }
   ],
   "source": [
    "centers = compute_centers(tr_test_dl, model, train_df)\n",
    "torch.save(centers, 'data/text_models/clip/centers_0.3_{}_no_trans.pth'.format(max_length))"
   ]
  },
  {
   "cell_type": "code",
   "execution_count": 20,
   "metadata": {},
   "outputs": [],
   "source": [
    "centers = torch.load('data/text_models/clip/centers_0.3_{}_no_trans.pth'.format(max_length))"
   ]
  },
  {
   "cell_type": "code",
   "execution_count": 21,
   "metadata": {},
   "outputs": [
    {
     "name": "stdout",
     "output_type": "stream",
     "text": [
      "Using center as wieghts\n"
     ]
    }
   ],
   "source": [
    "metric_fc = ArcMarginProduct(512, train_df['label_group'].nunique(), s=30, m=0.5,\n",
    "                             easy_margin=False, centers=centers, device=device).to(device)"
   ]
  },
  {
   "cell_type": "code",
   "execution_count": 22,
   "metadata": {},
   "outputs": [],
   "source": [
    "n_epochs, lf, params, optimizer, sched = get_hparams(tr_dl, model, metric_fc, lr=5e-4, n_epochs=10)"
   ]
  },
  {
   "cell_type": "code",
   "execution_count": 23,
   "metadata": {},
   "outputs": [
    {
     "name": "stdout",
     "output_type": "stream",
     "text": [
      "model.positional_embedding\n",
      "model.text_projection\n",
      "model.logit_scale\n",
      "model.visual.conv1.weight\n",
      "model.visual.bn1.weight\n",
      "model.visual.bn1.bias\n",
      "model.visual.conv2.weight\n",
      "model.visual.bn2.weight\n",
      "model.visual.bn2.bias\n",
      "model.visual.conv3.weight\n",
      "model.visual.bn3.weight\n",
      "model.visual.bn3.bias\n",
      "model.visual.layer1.0.conv1.weight\n",
      "model.visual.layer1.0.bn1.weight\n",
      "model.visual.layer1.0.bn1.bias\n",
      "model.visual.layer1.0.conv2.weight\n",
      "model.visual.layer1.0.bn2.weight\n",
      "model.visual.layer1.0.bn2.bias\n",
      "model.visual.layer1.0.conv3.weight\n",
      "model.visual.layer1.0.bn3.weight\n",
      "model.visual.layer1.0.bn3.bias\n",
      "model.visual.layer1.0.downsample.0.weight\n",
      "model.visual.layer1.0.downsample.1.weight\n",
      "model.visual.layer1.0.downsample.1.bias\n",
      "model.visual.layer1.1.conv1.weight\n",
      "model.visual.layer1.1.bn1.weight\n",
      "model.visual.layer1.1.bn1.bias\n",
      "model.visual.layer1.1.conv2.weight\n",
      "model.visual.layer1.1.bn2.weight\n",
      "model.visual.layer1.1.bn2.bias\n",
      "model.visual.layer1.1.conv3.weight\n",
      "model.visual.layer1.1.bn3.weight\n",
      "model.visual.layer1.1.bn3.bias\n",
      "model.visual.layer1.2.conv1.weight\n",
      "model.visual.layer1.2.bn1.weight\n",
      "model.visual.layer1.2.bn1.bias\n",
      "model.visual.layer1.2.conv2.weight\n",
      "model.visual.layer1.2.bn2.weight\n",
      "model.visual.layer1.2.bn2.bias\n",
      "model.visual.layer1.2.conv3.weight\n",
      "model.visual.layer1.2.bn3.weight\n",
      "model.visual.layer1.2.bn3.bias\n",
      "model.visual.layer2.0.conv1.weight\n",
      "model.visual.layer2.0.bn1.weight\n",
      "model.visual.layer2.0.bn1.bias\n",
      "model.visual.layer2.0.conv2.weight\n",
      "model.visual.layer2.0.bn2.weight\n",
      "model.visual.layer2.0.bn2.bias\n",
      "model.visual.layer2.0.conv3.weight\n",
      "model.visual.layer2.0.bn3.weight\n",
      "model.visual.layer2.0.bn3.bias\n",
      "model.visual.layer2.0.downsample.0.weight\n",
      "model.visual.layer2.0.downsample.1.weight\n",
      "model.visual.layer2.0.downsample.1.bias\n",
      "model.visual.layer2.1.conv1.weight\n",
      "model.visual.layer2.1.bn1.weight\n",
      "model.visual.layer2.1.bn1.bias\n",
      "model.visual.layer2.1.conv2.weight\n",
      "model.visual.layer2.1.bn2.weight\n",
      "model.visual.layer2.1.bn2.bias\n",
      "model.visual.layer2.1.conv3.weight\n",
      "model.visual.layer2.1.bn3.weight\n",
      "model.visual.layer2.1.bn3.bias\n",
      "model.visual.layer2.2.conv1.weight\n",
      "model.visual.layer2.2.bn1.weight\n",
      "model.visual.layer2.2.bn1.bias\n",
      "model.visual.layer2.2.conv2.weight\n",
      "model.visual.layer2.2.bn2.weight\n",
      "model.visual.layer2.2.bn2.bias\n",
      "model.visual.layer2.2.conv3.weight\n",
      "model.visual.layer2.2.bn3.weight\n",
      "model.visual.layer2.2.bn3.bias\n",
      "model.visual.layer2.3.conv1.weight\n",
      "model.visual.layer2.3.bn1.weight\n",
      "model.visual.layer2.3.bn1.bias\n",
      "model.visual.layer2.3.conv2.weight\n",
      "model.visual.layer2.3.bn2.weight\n",
      "model.visual.layer2.3.bn2.bias\n",
      "model.visual.layer2.3.conv3.weight\n",
      "model.visual.layer2.3.bn3.weight\n",
      "model.visual.layer2.3.bn3.bias\n",
      "model.visual.layer3.0.conv1.weight\n",
      "model.visual.layer3.0.bn1.weight\n",
      "model.visual.layer3.0.bn1.bias\n",
      "model.visual.layer3.0.conv2.weight\n",
      "model.visual.layer3.0.bn2.weight\n",
      "model.visual.layer3.0.bn2.bias\n",
      "model.visual.layer3.0.conv3.weight\n",
      "model.visual.layer3.0.bn3.weight\n",
      "model.visual.layer3.0.bn3.bias\n",
      "model.visual.layer3.0.downsample.0.weight\n",
      "model.visual.layer3.0.downsample.1.weight\n",
      "model.visual.layer3.0.downsample.1.bias\n",
      "model.visual.layer3.1.conv1.weight\n",
      "model.visual.layer3.1.bn1.weight\n",
      "model.visual.layer3.1.bn1.bias\n",
      "model.visual.layer3.1.conv2.weight\n",
      "model.visual.layer3.1.bn2.weight\n",
      "model.visual.layer3.1.bn2.bias\n",
      "model.visual.layer3.1.conv3.weight\n",
      "model.visual.layer3.1.bn3.weight\n",
      "model.visual.layer3.1.bn3.bias\n",
      "model.visual.layer3.2.conv1.weight\n",
      "model.visual.layer3.2.bn1.weight\n",
      "model.visual.layer3.2.bn1.bias\n",
      "model.visual.layer3.2.conv2.weight\n",
      "model.visual.layer3.2.bn2.weight\n",
      "model.visual.layer3.2.bn2.bias\n",
      "model.visual.layer3.2.conv3.weight\n",
      "model.visual.layer3.2.bn3.weight\n",
      "model.visual.layer3.2.bn3.bias\n",
      "model.visual.layer3.3.conv1.weight\n",
      "model.visual.layer3.3.bn1.weight\n",
      "model.visual.layer3.3.bn1.bias\n",
      "model.visual.layer3.3.conv2.weight\n",
      "model.visual.layer3.3.bn2.weight\n",
      "model.visual.layer3.3.bn2.bias\n",
      "model.visual.layer3.3.conv3.weight\n",
      "model.visual.layer3.3.bn3.weight\n",
      "model.visual.layer3.3.bn3.bias\n",
      "model.visual.layer3.4.conv1.weight\n",
      "model.visual.layer3.4.bn1.weight\n",
      "model.visual.layer3.4.bn1.bias\n",
      "model.visual.layer3.4.conv2.weight\n",
      "model.visual.layer3.4.bn2.weight\n",
      "model.visual.layer3.4.bn2.bias\n",
      "model.visual.layer3.4.conv3.weight\n",
      "model.visual.layer3.4.bn3.weight\n",
      "model.visual.layer3.4.bn3.bias\n",
      "model.visual.layer3.5.conv1.weight\n",
      "model.visual.layer3.5.bn1.weight\n",
      "model.visual.layer3.5.bn1.bias\n",
      "model.visual.layer3.5.conv2.weight\n",
      "model.visual.layer3.5.bn2.weight\n",
      "model.visual.layer3.5.bn2.bias\n",
      "model.visual.layer3.5.conv3.weight\n",
      "model.visual.layer3.5.bn3.weight\n",
      "model.visual.layer3.5.bn3.bias\n",
      "model.visual.layer4.0.conv1.weight\n",
      "model.visual.layer4.0.bn1.weight\n",
      "model.visual.layer4.0.bn1.bias\n",
      "model.visual.layer4.0.conv2.weight\n",
      "model.visual.layer4.0.bn2.weight\n",
      "model.visual.layer4.0.bn2.bias\n",
      "model.visual.layer4.0.conv3.weight\n",
      "model.visual.layer4.0.bn3.weight\n",
      "model.visual.layer4.0.bn3.bias\n",
      "model.visual.layer4.0.downsample.0.weight\n",
      "model.visual.layer4.0.downsample.1.weight\n",
      "model.visual.layer4.0.downsample.1.bias\n",
      "model.visual.layer4.1.conv1.weight\n",
      "model.visual.layer4.1.bn1.weight\n",
      "model.visual.layer4.1.bn1.bias\n",
      "model.visual.layer4.1.conv2.weight\n",
      "model.visual.layer4.1.bn2.weight\n",
      "model.visual.layer4.1.bn2.bias\n",
      "model.visual.layer4.1.conv3.weight\n",
      "model.visual.layer4.1.bn3.weight\n",
      "model.visual.layer4.1.bn3.bias\n",
      "model.visual.layer4.2.conv1.weight\n",
      "model.visual.layer4.2.bn1.weight\n",
      "model.visual.layer4.2.bn1.bias\n",
      "model.visual.layer4.2.conv2.weight\n",
      "model.visual.layer4.2.bn2.weight\n",
      "model.visual.layer4.2.bn2.bias\n",
      "model.visual.layer4.2.conv3.weight\n",
      "model.visual.layer4.2.bn3.weight\n",
      "model.visual.layer4.2.bn3.bias\n",
      "model.visual.attnpool.positional_embedding\n",
      "model.visual.attnpool.k_proj.weight\n",
      "model.visual.attnpool.k_proj.bias\n",
      "model.visual.attnpool.q_proj.weight\n",
      "model.visual.attnpool.q_proj.bias\n",
      "model.visual.attnpool.v_proj.weight\n",
      "model.visual.attnpool.v_proj.bias\n",
      "model.visual.attnpool.c_proj.weight\n",
      "model.visual.attnpool.c_proj.bias\n",
      "model.transformer.resblocks.0.attn.in_proj_weight\n",
      "model.transformer.resblocks.0.attn.in_proj_bias\n",
      "model.transformer.resblocks.0.attn.out_proj.weight\n",
      "model.transformer.resblocks.0.attn.out_proj.bias\n",
      "model.transformer.resblocks.0.ln_1.weight\n",
      "model.transformer.resblocks.0.ln_1.bias\n",
      "model.transformer.resblocks.0.mlp.c_fc.weight\n",
      "model.transformer.resblocks.0.mlp.c_fc.bias\n",
      "model.transformer.resblocks.0.mlp.c_proj.weight\n",
      "model.transformer.resblocks.0.mlp.c_proj.bias\n",
      "model.transformer.resblocks.0.ln_2.weight\n",
      "model.transformer.resblocks.0.ln_2.bias\n",
      "model.transformer.resblocks.1.attn.in_proj_weight\n",
      "model.transformer.resblocks.1.attn.in_proj_bias\n",
      "model.transformer.resblocks.1.attn.out_proj.weight\n",
      "model.transformer.resblocks.1.attn.out_proj.bias\n",
      "model.transformer.resblocks.1.ln_1.weight\n",
      "model.transformer.resblocks.1.ln_1.bias\n",
      "model.transformer.resblocks.1.mlp.c_fc.weight\n",
      "model.transformer.resblocks.1.mlp.c_fc.bias\n",
      "model.transformer.resblocks.1.mlp.c_proj.weight\n",
      "model.transformer.resblocks.1.mlp.c_proj.bias\n",
      "model.transformer.resblocks.1.ln_2.weight\n",
      "model.transformer.resblocks.1.ln_2.bias\n",
      "model.transformer.resblocks.2.attn.in_proj_weight\n",
      "model.transformer.resblocks.2.attn.in_proj_bias\n",
      "model.transformer.resblocks.2.attn.out_proj.weight\n",
      "model.transformer.resblocks.2.attn.out_proj.bias\n",
      "model.transformer.resblocks.2.ln_1.weight\n",
      "model.transformer.resblocks.2.ln_1.bias\n",
      "model.transformer.resblocks.2.mlp.c_fc.weight\n",
      "model.transformer.resblocks.2.mlp.c_fc.bias\n",
      "model.transformer.resblocks.2.mlp.c_proj.weight\n",
      "model.transformer.resblocks.2.mlp.c_proj.bias\n",
      "model.transformer.resblocks.2.ln_2.weight\n",
      "model.transformer.resblocks.2.ln_2.bias\n",
      "model.transformer.resblocks.3.attn.in_proj_weight\n",
      "model.transformer.resblocks.3.attn.in_proj_bias\n",
      "model.transformer.resblocks.3.attn.out_proj.weight\n",
      "model.transformer.resblocks.3.attn.out_proj.bias\n",
      "model.transformer.resblocks.3.ln_1.weight\n",
      "model.transformer.resblocks.3.ln_1.bias\n",
      "model.transformer.resblocks.3.mlp.c_fc.weight\n",
      "model.transformer.resblocks.3.mlp.c_fc.bias\n",
      "model.transformer.resblocks.3.mlp.c_proj.weight\n",
      "model.transformer.resblocks.3.mlp.c_proj.bias\n",
      "model.transformer.resblocks.3.ln_2.weight\n",
      "model.transformer.resblocks.3.ln_2.bias\n",
      "model.transformer.resblocks.4.attn.in_proj_weight\n",
      "model.transformer.resblocks.4.attn.in_proj_bias\n",
      "model.transformer.resblocks.4.attn.out_proj.weight\n",
      "model.transformer.resblocks.4.attn.out_proj.bias\n",
      "model.transformer.resblocks.4.ln_1.weight\n",
      "model.transformer.resblocks.4.ln_1.bias\n",
      "model.transformer.resblocks.4.mlp.c_fc.weight\n",
      "model.transformer.resblocks.4.mlp.c_fc.bias\n",
      "model.transformer.resblocks.4.mlp.c_proj.weight\n",
      "model.transformer.resblocks.4.mlp.c_proj.bias\n",
      "model.transformer.resblocks.4.ln_2.weight\n",
      "model.transformer.resblocks.4.ln_2.bias\n",
      "model.transformer.resblocks.5.attn.in_proj_weight\n",
      "model.transformer.resblocks.5.attn.in_proj_bias\n",
      "model.transformer.resblocks.5.attn.out_proj.weight\n",
      "model.transformer.resblocks.5.attn.out_proj.bias\n",
      "model.transformer.resblocks.5.ln_1.weight\n",
      "model.transformer.resblocks.5.ln_1.bias\n",
      "model.transformer.resblocks.5.mlp.c_fc.weight\n",
      "model.transformer.resblocks.5.mlp.c_fc.bias\n",
      "model.transformer.resblocks.5.mlp.c_proj.weight\n",
      "model.transformer.resblocks.5.mlp.c_proj.bias\n",
      "model.transformer.resblocks.5.ln_2.weight\n",
      "model.transformer.resblocks.5.ln_2.bias\n",
      "model.transformer.resblocks.6.attn.in_proj_weight\n",
      "model.transformer.resblocks.6.attn.in_proj_bias\n",
      "model.transformer.resblocks.6.attn.out_proj.weight\n",
      "model.transformer.resblocks.6.attn.out_proj.bias\n",
      "model.transformer.resblocks.6.ln_1.weight\n",
      "model.transformer.resblocks.6.ln_1.bias\n",
      "model.transformer.resblocks.6.mlp.c_fc.weight\n",
      "model.transformer.resblocks.6.mlp.c_fc.bias\n",
      "model.transformer.resblocks.6.mlp.c_proj.weight\n",
      "model.transformer.resblocks.6.mlp.c_proj.bias\n",
      "model.transformer.resblocks.6.ln_2.weight\n",
      "model.transformer.resblocks.6.ln_2.bias\n",
      "model.transformer.resblocks.7.attn.in_proj_weight\n",
      "model.transformer.resblocks.7.attn.in_proj_bias\n",
      "model.transformer.resblocks.7.attn.out_proj.weight\n",
      "model.transformer.resblocks.7.attn.out_proj.bias\n",
      "model.transformer.resblocks.7.ln_1.weight\n",
      "model.transformer.resblocks.7.ln_1.bias\n",
      "model.transformer.resblocks.7.mlp.c_fc.weight\n",
      "model.transformer.resblocks.7.mlp.c_fc.bias\n",
      "model.transformer.resblocks.7.mlp.c_proj.weight\n",
      "model.transformer.resblocks.7.mlp.c_proj.bias\n",
      "model.transformer.resblocks.7.ln_2.weight\n",
      "model.transformer.resblocks.7.ln_2.bias\n",
      "model.transformer.resblocks.8.attn.in_proj_weight\n",
      "model.transformer.resblocks.8.attn.in_proj_bias\n",
      "model.transformer.resblocks.8.attn.out_proj.weight\n",
      "model.transformer.resblocks.8.attn.out_proj.bias\n",
      "model.transformer.resblocks.8.ln_1.weight\n",
      "model.transformer.resblocks.8.ln_1.bias\n",
      "model.transformer.resblocks.8.mlp.c_fc.weight\n",
      "model.transformer.resblocks.8.mlp.c_fc.bias\n",
      "model.transformer.resblocks.8.mlp.c_proj.weight\n",
      "model.transformer.resblocks.8.mlp.c_proj.bias\n",
      "model.transformer.resblocks.8.ln_2.weight\n",
      "model.transformer.resblocks.8.ln_2.bias\n",
      "model.transformer.resblocks.9.attn.in_proj_weight\n",
      "model.transformer.resblocks.9.attn.in_proj_bias\n",
      "model.transformer.resblocks.9.attn.out_proj.weight\n",
      "model.transformer.resblocks.9.attn.out_proj.bias\n",
      "model.transformer.resblocks.9.ln_1.weight\n",
      "model.transformer.resblocks.9.ln_1.bias\n",
      "model.transformer.resblocks.9.mlp.c_fc.weight\n",
      "model.transformer.resblocks.9.mlp.c_fc.bias\n",
      "model.transformer.resblocks.9.mlp.c_proj.weight\n",
      "model.transformer.resblocks.9.mlp.c_proj.bias\n",
      "model.transformer.resblocks.9.ln_2.weight\n",
      "model.transformer.resblocks.9.ln_2.bias\n",
      "model.transformer.resblocks.10.attn.in_proj_weight\n",
      "model.transformer.resblocks.10.attn.in_proj_bias\n",
      "model.transformer.resblocks.10.attn.out_proj.weight\n",
      "model.transformer.resblocks.10.attn.out_proj.bias\n",
      "model.transformer.resblocks.10.ln_1.weight\n",
      "model.transformer.resblocks.10.ln_1.bias\n",
      "model.transformer.resblocks.10.mlp.c_fc.weight\n",
      "model.transformer.resblocks.10.mlp.c_fc.bias\n",
      "model.transformer.resblocks.10.mlp.c_proj.weight\n",
      "model.transformer.resblocks.10.mlp.c_proj.bias\n",
      "model.transformer.resblocks.10.ln_2.weight\n",
      "model.transformer.resblocks.10.ln_2.bias\n",
      "model.transformer.resblocks.11.attn.in_proj_weight\n",
      "model.transformer.resblocks.11.attn.in_proj_bias\n",
      "model.transformer.resblocks.11.attn.out_proj.weight\n",
      "model.transformer.resblocks.11.attn.out_proj.bias\n",
      "model.transformer.resblocks.11.ln_1.weight\n",
      "model.transformer.resblocks.11.ln_1.bias\n",
      "model.transformer.resblocks.11.mlp.c_fc.weight\n",
      "model.transformer.resblocks.11.mlp.c_fc.bias\n",
      "model.transformer.resblocks.11.mlp.c_proj.weight\n",
      "model.transformer.resblocks.11.mlp.c_proj.bias\n",
      "model.transformer.resblocks.11.ln_2.weight\n",
      "model.transformer.resblocks.11.ln_2.bias\n",
      "model.token_embedding.weight\n",
      "model.ln_final.weight\n",
      "model.ln_final.bias\n"
     ]
    }
   ],
   "source": [
    "for n, p in model.named_parameters() :\n",
    "    print(n)"
   ]
  },
  {
   "cell_type": "code",
   "execution_count": 24,
   "metadata": {},
   "outputs": [
    {
     "name": "stdout",
     "output_type": "stream",
     "text": [
      "transformer.resblocks.0\n",
      "transformer.resblocks.1\n",
      "transformer.resblocks.2\n",
      "transformer.resblocks.3\n",
      "transformer.resblocks.4\n",
      "transformer.resblocks.5\n",
      "transformer.resblocks.6\n",
      "transformer.resblocks.7\n",
      "transformer.resblocks.8\n",
      "transformer.resblocks.9\n",
      "transformer.resblocks.10\n"
     ]
    }
   ],
   "source": [
    "mnp = list(model.named_parameters())\n",
    "\n",
    "param_groups = [{'params' : [p for n,p in mnp if n in ['model.token_embedding.weight', 'model.positional_embedding']]}]\n",
    "\n",
    "params_names = [n for n,p in mnp if n in ['model.token_embedding.weight', 'model.positional_embedding']]\n",
    "#print(params_names)\n",
    "n_blocks = 11\n",
    "for i in range(n_blocks):\n",
    "    print(f'transformer.resblocks.{i}')\n",
    "    ith_block = [p for n, p in mnp if f'transformer.resblocks.{i}.' in n]\n",
    "    ith_block_name = [n for n, p in mnp if f'transformer.resblocks.{i}.' in n]\n",
    "    params_names += ith_block_name\n",
    "    #for n in params_names :\n",
    "    #    print(n)\n",
    "    param_groups.append({'params' : ith_block})\n",
    "\n",
    "end = ['logit_scale', 'text_projection', 'final']\n",
    "param_groups.append({'params' : [p for n,p in mnp if any(end_n in n for end_n in end)]})\n",
    "params_names += [n for n,p in mnp if any(end_n in n for end_n in end)]\n",
    "\n",
    "param_groups.append({'params' : metric_fc.parameters()})\n"
   ]
  },
  {
   "cell_type": "code",
   "execution_count": 25,
   "metadata": {},
   "outputs": [],
   "source": [
    "lf = nn.CrossEntropyLoss()\n",
    "optimizer = torch.optim.AdamW(param_groups, weight_decay = 1e-5)\n",
    "\n",
    "lr = list(np.linspace(5e-6,5e-4,len(param_groups)))\n",
    "\n",
    "n_epochs = 10\n",
    "sched = torch.optim.lr_scheduler.OneCycleLR(optimizer, max_lr=lr, pct_start=0.3,\n",
    "                                            total_steps=int(n_epochs * len(tr_dl)))"
   ]
  },
  {
   "cell_type": "code",
   "execution_count": 26,
   "metadata": {},
   "outputs": [],
   "source": [
    "loss_hist = []\n",
    "best_thr_score={'val': {'thr': None, 'f1': None}, 'train': {'thr': None, 'f1': None}}\n",
    "thr_score_hist=[]\n",
    "ep_start = 0\n",
    "save_path = 'data/text_models/clip/test_21ap_epochs'"
   ]
  },
  {
   "cell_type": "code",
   "execution_count": 27,
   "metadata": {
    "scrolled": true
   },
   "outputs": [
    {
     "data": {
      "application/vnd.jupyter.widget-view+json": {
       "model_id": "",
       "version_major": 2,
       "version_minor": 0
      },
      "text/plain": [
       "HBox(children=(FloatProgress(value=0.0, max=10.0), HTML(value='')))"
      ]
     },
     "metadata": {},
     "output_type": "display_data"
    },
    {
     "data": {
      "application/vnd.jupyter.widget-view+json": {
       "model_id": "",
       "version_major": 2,
       "version_minor": 0
      },
      "text/plain": [
       "HBox(children=(FloatProgress(value=0.0, max=327.0), HTML(value='')))"
      ]
     },
     "metadata": {},
     "output_type": "display_data"
    },
    {
     "data": {
      "application/vnd.jupyter.widget-view+json": {
       "model_id": "",
       "version_major": 2,
       "version_minor": 0
      },
      "text/plain": [
       "HBox(children=(FloatProgress(value=0.0, description='Thresholds', max=10.0, style=ProgressStyle(description_wi…"
      ]
     },
     "metadata": {},
     "output_type": "display_data"
    },
    {
     "name": "stdout",
     "output_type": "stream",
     "text": [
      "Checkpoint : saved model to data/text_models/clip/test_21ap_epochs_ep_0.pth\n"
     ]
    },
    {
     "data": {
      "application/vnd.jupyter.widget-view+json": {
       "model_id": "",
       "version_major": 2,
       "version_minor": 0
      },
      "text/plain": [
       "HBox(children=(FloatProgress(value=0.0, max=187.0), HTML(value='')))"
      ]
     },
     "metadata": {},
     "output_type": "display_data"
    },
    {
     "data": {
      "application/vnd.jupyter.widget-view+json": {
       "model_id": "",
       "version_major": 2,
       "version_minor": 0
      },
      "text/plain": [
       "HBox(children=(FloatProgress(value=0.0, description='Thresholds', max=10.0, style=ProgressStyle(description_wi…"
      ]
     },
     "metadata": {},
     "output_type": "display_data"
    },
    {
     "name": "stdout",
     "output_type": "stream",
     "text": [
      "Saved best model ep 0 with f score : 0.6468451045094107\n",
      "Ep 0: Train loss 6.2216 | Val f score 0.6468 with thresh 0.56, train f score 0.6907 with thresh 0.64\n"
     ]
    },
    {
     "data": {
      "application/vnd.jupyter.widget-view+json": {
       "model_id": "",
       "version_major": 2,
       "version_minor": 0
      },
      "text/plain": [
       "HBox(children=(FloatProgress(value=0.0, max=327.0), HTML(value='')))"
      ]
     },
     "metadata": {},
     "output_type": "display_data"
    },
    {
     "data": {
      "application/vnd.jupyter.widget-view+json": {
       "model_id": "",
       "version_major": 2,
       "version_minor": 0
      },
      "text/plain": [
       "HBox(children=(FloatProgress(value=0.0, description='Thresholds', max=5.0, style=ProgressStyle(description_wid…"
      ]
     },
     "metadata": {},
     "output_type": "display_data"
    },
    {
     "data": {
      "application/vnd.jupyter.widget-view+json": {
       "model_id": "",
       "version_major": 2,
       "version_minor": 0
      },
      "text/plain": [
       "HBox(children=(FloatProgress(value=0.0, max=187.0), HTML(value='')))"
      ]
     },
     "metadata": {},
     "output_type": "display_data"
    },
    {
     "data": {
      "application/vnd.jupyter.widget-view+json": {
       "model_id": "",
       "version_major": 2,
       "version_minor": 0
      },
      "text/plain": [
       "HBox(children=(FloatProgress(value=0.0, description='Thresholds', max=5.0, style=ProgressStyle(description_wid…"
      ]
     },
     "metadata": {},
     "output_type": "display_data"
    },
    {
     "name": "stdout",
     "output_type": "stream",
     "text": [
      "Saved best model ep 1 with f score : 0.6520438288120098\n",
      "Ep 1: Train loss 6.2863 | Val f score 0.6520 with thresh 0.56, train f score 0.7341 with thresh 0.74\n"
     ]
    },
    {
     "data": {
      "application/vnd.jupyter.widget-view+json": {
       "model_id": "",
       "version_major": 2,
       "version_minor": 0
      },
      "text/plain": [
       "HBox(children=(FloatProgress(value=0.0, max=327.0), HTML(value='')))"
      ]
     },
     "metadata": {},
     "output_type": "display_data"
    },
    {
     "data": {
      "application/vnd.jupyter.widget-view+json": {
       "model_id": "",
       "version_major": 2,
       "version_minor": 0
      },
      "text/plain": [
       "HBox(children=(FloatProgress(value=0.0, description='Thresholds', max=5.0, style=ProgressStyle(description_wid…"
      ]
     },
     "metadata": {},
     "output_type": "display_data"
    },
    {
     "name": "stdout",
     "output_type": "stream",
     "text": [
      "Checkpoint : saved model to data/text_models/clip/test_21ap_epochs_ep_2.pth\n"
     ]
    },
    {
     "data": {
      "application/vnd.jupyter.widget-view+json": {
       "model_id": "",
       "version_major": 2,
       "version_minor": 0
      },
      "text/plain": [
       "HBox(children=(FloatProgress(value=0.0, max=187.0), HTML(value='')))"
      ]
     },
     "metadata": {},
     "output_type": "display_data"
    },
    {
     "data": {
      "application/vnd.jupyter.widget-view+json": {
       "model_id": "",
       "version_major": 2,
       "version_minor": 0
      },
      "text/plain": [
       "HBox(children=(FloatProgress(value=0.0, description='Thresholds', max=5.0, style=ProgressStyle(description_wid…"
      ]
     },
     "metadata": {},
     "output_type": "display_data"
    },
    {
     "name": "stdout",
     "output_type": "stream",
     "text": [
      "Saved best model ep 2 with f score : 0.6709357070379441\n",
      "Ep 2: Train loss 5.7792 | Val f score 0.6709 with thresh 0.66, train f score 0.7908 with thresh 0.84\n"
     ]
    },
    {
     "data": {
      "application/vnd.jupyter.widget-view+json": {
       "model_id": "",
       "version_major": 2,
       "version_minor": 0
      },
      "text/plain": [
       "HBox(children=(FloatProgress(value=0.0, max=327.0), HTML(value='')))"
      ]
     },
     "metadata": {},
     "output_type": "display_data"
    },
    {
     "data": {
      "application/vnd.jupyter.widget-view+json": {
       "model_id": "",
       "version_major": 2,
       "version_minor": 0
      },
      "text/plain": [
       "HBox(children=(FloatProgress(value=0.0, description='Thresholds', max=5.0, style=ProgressStyle(description_wid…"
      ]
     },
     "metadata": {},
     "output_type": "display_data"
    },
    {
     "data": {
      "application/vnd.jupyter.widget-view+json": {
       "model_id": "",
       "version_major": 2,
       "version_minor": 0
      },
      "text/plain": [
       "HBox(children=(FloatProgress(value=0.0, max=187.0), HTML(value='')))"
      ]
     },
     "metadata": {},
     "output_type": "display_data"
    },
    {
     "data": {
      "application/vnd.jupyter.widget-view+json": {
       "model_id": "",
       "version_major": 2,
       "version_minor": 0
      },
      "text/plain": [
       "HBox(children=(FloatProgress(value=0.0, description='Thresholds', max=5.0, style=ProgressStyle(description_wid…"
      ]
     },
     "metadata": {},
     "output_type": "display_data"
    },
    {
     "name": "stdout",
     "output_type": "stream",
     "text": [
      "Saved best model ep 3 with f score : 0.6795619122663429\n",
      "Ep 3: Train loss 4.0533 | Val f score 0.6796 with thresh 0.71, train f score 0.8647 with thresh 0.89\n"
     ]
    },
    {
     "data": {
      "application/vnd.jupyter.widget-view+json": {
       "model_id": "",
       "version_major": 2,
       "version_minor": 0
      },
      "text/plain": [
       "HBox(children=(FloatProgress(value=0.0, max=327.0), HTML(value='')))"
      ]
     },
     "metadata": {},
     "output_type": "display_data"
    },
    {
     "data": {
      "application/vnd.jupyter.widget-view+json": {
       "model_id": "",
       "version_major": 2,
       "version_minor": 0
      },
      "text/plain": [
       "HBox(children=(FloatProgress(value=0.0, description='Thresholds', max=5.0, style=ProgressStyle(description_wid…"
      ]
     },
     "metadata": {},
     "output_type": "display_data"
    },
    {
     "name": "stdout",
     "output_type": "stream",
     "text": [
      "Checkpoint : saved model to data/text_models/clip/test_21ap_epochs_ep_4.pth\n"
     ]
    },
    {
     "data": {
      "application/vnd.jupyter.widget-view+json": {
       "model_id": "",
       "version_major": 2,
       "version_minor": 0
      },
      "text/plain": [
       "HBox(children=(FloatProgress(value=0.0, max=187.0), HTML(value='')))"
      ]
     },
     "metadata": {},
     "output_type": "display_data"
    },
    {
     "data": {
      "application/vnd.jupyter.widget-view+json": {
       "model_id": "",
       "version_major": 2,
       "version_minor": 0
      },
      "text/plain": [
       "HBox(children=(FloatProgress(value=0.0, description='Thresholds', max=5.0, style=ProgressStyle(description_wid…"
      ]
     },
     "metadata": {},
     "output_type": "display_data"
    },
    {
     "name": "stdout",
     "output_type": "stream",
     "text": [
      "Saved best model ep 4 with f score : 0.6832157171917493\n",
      "Ep 4: Train loss 2.1878 | Val f score 0.6832 with thresh 0.71, train f score 0.9210 with thresh 0.89\n"
     ]
    },
    {
     "data": {
      "application/vnd.jupyter.widget-view+json": {
       "model_id": "",
       "version_major": 2,
       "version_minor": 0
      },
      "text/plain": [
       "HBox(children=(FloatProgress(value=0.0, max=327.0), HTML(value='')))"
      ]
     },
     "metadata": {},
     "output_type": "display_data"
    },
    {
     "data": {
      "application/vnd.jupyter.widget-view+json": {
       "model_id": "",
       "version_major": 2,
       "version_minor": 0
      },
      "text/plain": [
       "HBox(children=(FloatProgress(value=0.0, description='Thresholds', max=5.0, style=ProgressStyle(description_wid…"
      ]
     },
     "metadata": {},
     "output_type": "display_data"
    },
    {
     "data": {
      "application/vnd.jupyter.widget-view+json": {
       "model_id": "",
       "version_major": 2,
       "version_minor": 0
      },
      "text/plain": [
       "HBox(children=(FloatProgress(value=0.0, max=187.0), HTML(value='')))"
      ]
     },
     "metadata": {},
     "output_type": "display_data"
    },
    {
     "data": {
      "application/vnd.jupyter.widget-view+json": {
       "model_id": "",
       "version_major": 2,
       "version_minor": 0
      },
      "text/plain": [
       "HBox(children=(FloatProgress(value=0.0, description='Thresholds', max=5.0, style=ProgressStyle(description_wid…"
      ]
     },
     "metadata": {},
     "output_type": "display_data"
    },
    {
     "name": "stdout",
     "output_type": "stream",
     "text": [
      "Ep 5: Train loss 1.0056 | Val f score 0.6824 with thresh 0.76, train f score 0.9609 with thresh 0.89\n"
     ]
    },
    {
     "data": {
      "application/vnd.jupyter.widget-view+json": {
       "model_id": "",
       "version_major": 2,
       "version_minor": 0
      },
      "text/plain": [
       "HBox(children=(FloatProgress(value=0.0, max=327.0), HTML(value='')))"
      ]
     },
     "metadata": {},
     "output_type": "display_data"
    },
    {
     "data": {
      "application/vnd.jupyter.widget-view+json": {
       "model_id": "",
       "version_major": 2,
       "version_minor": 0
      },
      "text/plain": [
       "HBox(children=(FloatProgress(value=0.0, description='Thresholds', max=5.0, style=ProgressStyle(description_wid…"
      ]
     },
     "metadata": {},
     "output_type": "display_data"
    },
    {
     "name": "stdout",
     "output_type": "stream",
     "text": [
      "Checkpoint : saved model to data/text_models/clip/test_21ap_epochs_ep_6.pth\n"
     ]
    },
    {
     "data": {
      "application/vnd.jupyter.widget-view+json": {
       "model_id": "",
       "version_major": 2,
       "version_minor": 0
      },
      "text/plain": [
       "HBox(children=(FloatProgress(value=0.0, max=187.0), HTML(value='')))"
      ]
     },
     "metadata": {},
     "output_type": "display_data"
    },
    {
     "data": {
      "application/vnd.jupyter.widget-view+json": {
       "model_id": "",
       "version_major": 2,
       "version_minor": 0
      },
      "text/plain": [
       "HBox(children=(FloatProgress(value=0.0, description='Thresholds', max=5.0, style=ProgressStyle(description_wid…"
      ]
     },
     "metadata": {},
     "output_type": "display_data"
    },
    {
     "name": "stdout",
     "output_type": "stream",
     "text": [
      "Saved best model ep 6 with f score : 0.6846521698575314\n",
      "Ep 6: Train loss 0.4063 | Val f score 0.6847 with thresh 0.76, train f score 0.9816 with thresh 0.89\n"
     ]
    },
    {
     "data": {
      "application/vnd.jupyter.widget-view+json": {
       "model_id": "",
       "version_major": 2,
       "version_minor": 0
      },
      "text/plain": [
       "HBox(children=(FloatProgress(value=0.0, max=327.0), HTML(value='')))"
      ]
     },
     "metadata": {},
     "output_type": "display_data"
    },
    {
     "data": {
      "application/vnd.jupyter.widget-view+json": {
       "model_id": "",
       "version_major": 2,
       "version_minor": 0
      },
      "text/plain": [
       "HBox(children=(FloatProgress(value=0.0, description='Thresholds', max=5.0, style=ProgressStyle(description_wid…"
      ]
     },
     "metadata": {},
     "output_type": "display_data"
    },
    {
     "data": {
      "application/vnd.jupyter.widget-view+json": {
       "model_id": "",
       "version_major": 2,
       "version_minor": 0
      },
      "text/plain": [
       "HBox(children=(FloatProgress(value=0.0, max=187.0), HTML(value='')))"
      ]
     },
     "metadata": {},
     "output_type": "display_data"
    },
    {
     "data": {
      "application/vnd.jupyter.widget-view+json": {
       "model_id": "",
       "version_major": 2,
       "version_minor": 0
      },
      "text/plain": [
       "HBox(children=(FloatProgress(value=0.0, description='Thresholds', max=5.0, style=ProgressStyle(description_wid…"
      ]
     },
     "metadata": {},
     "output_type": "display_data"
    },
    {
     "name": "stdout",
     "output_type": "stream",
     "text": [
      "Saved best model ep 7 with f score : 0.6874576656477703\n",
      "Ep 7: Train loss 0.1733 | Val f score 0.6875 with thresh 0.76, train f score 0.9894 with thresh 0.84\n"
     ]
    },
    {
     "data": {
      "application/vnd.jupyter.widget-view+json": {
       "model_id": "",
       "version_major": 2,
       "version_minor": 0
      },
      "text/plain": [
       "HBox(children=(FloatProgress(value=0.0, max=327.0), HTML(value='')))"
      ]
     },
     "metadata": {},
     "output_type": "display_data"
    },
    {
     "data": {
      "application/vnd.jupyter.widget-view+json": {
       "model_id": "",
       "version_major": 2,
       "version_minor": 0
      },
      "text/plain": [
       "HBox(children=(FloatProgress(value=0.0, description='Thresholds', max=5.0, style=ProgressStyle(description_wid…"
      ]
     },
     "metadata": {},
     "output_type": "display_data"
    },
    {
     "name": "stdout",
     "output_type": "stream",
     "text": [
      "Checkpoint : saved model to data/text_models/clip/test_21ap_epochs_ep_8.pth\n"
     ]
    },
    {
     "data": {
      "application/vnd.jupyter.widget-view+json": {
       "model_id": "",
       "version_major": 2,
       "version_minor": 0
      },
      "text/plain": [
       "HBox(children=(FloatProgress(value=0.0, max=187.0), HTML(value='')))"
      ]
     },
     "metadata": {},
     "output_type": "display_data"
    },
    {
     "data": {
      "application/vnd.jupyter.widget-view+json": {
       "model_id": "",
       "version_major": 2,
       "version_minor": 0
      },
      "text/plain": [
       "HBox(children=(FloatProgress(value=0.0, description='Thresholds', max=5.0, style=ProgressStyle(description_wid…"
      ]
     },
     "metadata": {},
     "output_type": "display_data"
    },
    {
     "name": "stdout",
     "output_type": "stream",
     "text": [
      "Ep 8: Train loss 0.1089 | Val f score 0.6869 with thresh 0.76, train f score 0.9919 with thresh 0.84\n"
     ]
    },
    {
     "data": {
      "application/vnd.jupyter.widget-view+json": {
       "model_id": "",
       "version_major": 2,
       "version_minor": 0
      },
      "text/plain": [
       "HBox(children=(FloatProgress(value=0.0, max=327.0), HTML(value='')))"
      ]
     },
     "metadata": {},
     "output_type": "display_data"
    },
    {
     "data": {
      "application/vnd.jupyter.widget-view+json": {
       "model_id": "",
       "version_major": 2,
       "version_minor": 0
      },
      "text/plain": [
       "HBox(children=(FloatProgress(value=0.0, description='Thresholds', max=5.0, style=ProgressStyle(description_wid…"
      ]
     },
     "metadata": {},
     "output_type": "display_data"
    },
    {
     "data": {
      "application/vnd.jupyter.widget-view+json": {
       "model_id": "",
       "version_major": 2,
       "version_minor": 0
      },
      "text/plain": [
       "HBox(children=(FloatProgress(value=0.0, max=187.0), HTML(value='')))"
      ]
     },
     "metadata": {},
     "output_type": "display_data"
    },
    {
     "data": {
      "application/vnd.jupyter.widget-view+json": {
       "model_id": "",
       "version_major": 2,
       "version_minor": 0
      },
      "text/plain": [
       "HBox(children=(FloatProgress(value=0.0, description='Thresholds', max=5.0, style=ProgressStyle(description_wid…"
      ]
     },
     "metadata": {},
     "output_type": "display_data"
    },
    {
     "name": "stdout",
     "output_type": "stream",
     "text": [
      "Ep 9: Train loss 0.0887 | Val f score 0.6870 with thresh 0.76, train f score 0.9931 with thresh 0.79\n"
     ]
    }
   ],
   "source": [
    "best_thr_score, thr_score_hist, losses = train(model, optimizer, lf, sched, metric_fc, tr_dl, val_dl,\n",
    "                                               n_epochs, train_df, val_df, \n",
    "                                               save_path=save_path, \n",
    "                                               prev_best_info=best_thr_score, info_history=thr_score_hist,\n",
    "                                               ep_start=ep_start)\n",
    "loss_hist.append(losses)\n",
    "ep_start += n_epochs"
   ]
  },
  {
   "cell_type": "markdown",
   "metadata": {},
   "source": [
    "## Multimodal training "
   ]
  },
  {
   "cell_type": "markdown",
   "metadata": {},
   "source": [
    "### Testing zero shot "
   ]
  },
  {
   "cell_type": "markdown",
   "metadata": {},
   "source": [
    "#### Translated titles"
   ]
  },
  {
   "cell_type": "code",
   "execution_count": 1,
   "metadata": {},
   "outputs": [],
   "source": [
    "from imports import *\n",
    "from clip_.train_text import *\n",
    "from clip_.data import MultiDS\n",
    "from utils import load_data\n",
    "from arcface import ArcMarginProduct\n",
    "import matplotlib.pyplot as plt\n",
    "import clip\n",
    "np.random.seed(1337)\n",
    "device = torch.device('cuda')"
   ]
  },
  {
   "cell_type": "code",
   "execution_count": 2,
   "metadata": {},
   "outputs": [],
   "source": [
    "df, train_df, val_df, train_labels, val_labels = load_data(train_perc=0.3)"
   ]
  },
  {
   "cell_type": "code",
   "execution_count": 3,
   "metadata": {
    "scrolled": true
   },
   "outputs": [],
   "source": [
    "bs = 32\n",
    "bs_val = 128\n",
    "max_length=200"
   ]
  },
  {
   "cell_type": "code",
   "execution_count": 4,
   "metadata": {},
   "outputs": [],
   "source": [
    "small_images_dir_train = 'data/small_train_images_250/'\n",
    "small_images_dir_val = 'data/small_train_images_224/'"
   ]
  },
  {
   "cell_type": "markdown",
   "metadata": {},
   "source": [
    "tr_ds = MultiDS(train_df, small_images_dir_train)\n",
    "val_ds = MultiDS(val_df, small_images_dir_val)\n",
    "full_ds = MultiDS(df, small_images_dir_val)"
   ]
  },
  {
   "cell_type": "markdown",
   "metadata": {},
   "source": [
    "torch.save(tr_ds, 'data/clip/multimodal/datasets/tr_ds_0.3.pth')\n",
    "torch.save(val_ds, 'data/clip/multimodal/datasets/val_ds_0.3.pth')\n",
    "torch.save(full_ds, 'data/clip/multimodal/datasets/full_ds_0.3.pth')"
   ]
  },
  {
   "cell_type": "code",
   "execution_count": 5,
   "metadata": {},
   "outputs": [],
   "source": [
    "tr_ds = torch.load('data/clip/multimodal/datasets/tr_ds_0.3.pth')\n",
    "val_ds = torch.load('data/clip/multimodal/datasets/val_ds_0.3.pth')\n",
    "full_ds = torch.load('data/clip/multimodal/datasets/full_ds_0.3.pth')"
   ]
  },
  {
   "cell_type": "code",
   "execution_count": 6,
   "metadata": {},
   "outputs": [],
   "source": [
    "tr_test_dl = DataLoader(tr_ds, batch_size = bs_val, shuffle = False, pin_memory = True)\n",
    "tr_dl = DataLoader(tr_ds, batch_size = bs, shuffle = True, pin_memory = True)\n",
    "val_dl = DataLoader(val_ds, batch_size = bs_val, shuffle = False, pin_memory = True)\n",
    "full_dl = DataLoader(full_ds, batch_size = bs_val, shuffle = False, pin_memory = True)"
   ]
  },
  {
   "cell_type": "code",
   "execution_count": 7,
   "metadata": {},
   "outputs": [],
   "source": [
    "model = clip.load('ViT-B/32', device=device, jit=False)[0]\n",
    "train_tfms, val_tfms = get_tfms(crop=224)"
   ]
  },
  {
   "cell_type": "code",
   "execution_count": 8,
   "metadata": {},
   "outputs": [],
   "source": [
    "data_path ='data/clip/multimodal/zero_shot/'"
   ]
  },
  {
   "cell_type": "markdown",
   "metadata": {},
   "source": [
    "model.eval()\n",
    "embs_imgs = []\n",
    "embs_txt = []\n",
    "for imgs, txts, _ in tqdm(full_dl, leave=False) :\n",
    "    with torch.no_grad():\n",
    "        imgs = val_tfms(imgs).to(device)\n",
    "        txts = txts.to(device)\n",
    "        embs_imgs.append(model.encode_image(imgs))\n",
    "        embs_txt.append(model.encode_text(txts))\n",
    "embs_imgs = F.normalize(torch.cat(embs_imgs, 0))\n",
    "embs_txt = F.normalize(torch.cat(embs_txt, 0))"
   ]
  },
  {
   "cell_type": "markdown",
   "metadata": {},
   "source": [
    "torch.save(embs_imgs, data_path + 'embs_imgs')\n",
    "torch.save(embs_txt, data_path + 'embs_txt')"
   ]
  },
  {
   "cell_type": "code",
   "execution_count": 9,
   "metadata": {},
   "outputs": [],
   "source": [
    "embs_imgs = torch.load(data_path + 'embs_imgs')\n",
    "embs_txt = torch.load(data_path + 'embs_txt')"
   ]
  },
  {
   "cell_type": "markdown",
   "metadata": {},
   "source": [
    "#centers per label\n",
    "labels = torch.Tensor(full_ds.label_codes.values).to(device)\n",
    "print(labels.shape, labels.dtype)\n",
    "label_center_img = []\n",
    "label_center_txt = []\n",
    "for i in tqdm(range(int(labels.max().item())), leave=False) :\n",
    "    idxs = (labels == i).unsqueeze(-1)\n",
    "    embs_mean_img = (idxs*embs_imgs).sum(0) / idxs.sum().item()\n",
    "    embs_mean_txt = (idxs*embs_txt).sum(0) / idxs.sum().item()\n",
    "    label_center_img.append(embs_mean_img)\n",
    "    label_center_txt.append(embs_mean_txt)\n",
    "    #if i == 1 :\n",
    "    #    break\n",
    "label_center_img = torch.stack(label_center_img)\n",
    "label_center_txt = torch.stack(label_center_txt)"
   ]
  },
  {
   "cell_type": "markdown",
   "metadata": {},
   "source": [
    "torch.save(label_center_img, data_path + 'label_center_imgs')\n",
    "torch.save(label_center_txt, data_path + 'label_center_txt')"
   ]
  },
  {
   "cell_type": "code",
   "execution_count": 10,
   "metadata": {},
   "outputs": [],
   "source": [
    "label_center_img = torch.load(data_path + 'label_center_imgs')\n",
    "label_center_txt = torch.load(data_path + 'label_center_txt')"
   ]
  },
  {
   "cell_type": "code",
   "execution_count": 11,
   "metadata": {},
   "outputs": [],
   "source": [
    "labels = torch.Tensor(full_ds.label_codes.values).to(device)"
   ]
  },
  {
   "cell_type": "code",
   "execution_count": 12,
   "metadata": {},
   "outputs": [],
   "source": [
    "train_indexes = train_df.index.values\n",
    "val_indexes = val_df.index.values"
   ]
  },
  {
   "cell_type": "code",
   "execution_count": 13,
   "metadata": {},
   "outputs": [
    {
     "name": "stdout",
     "output_type": "stream",
     "text": [
      "Top 1 accuray : 0.18385401368141174\n",
      "Top 5 accuray : 0.3681167960166931\n",
      "Top 10 accuray : 0.4508613348007202\n",
      "Top 20 accuray : 0.5346569418907166\n",
      "Top 50 accuray : 0.6468613147735596\n"
     ]
    }
   ],
   "source": [
    "# image to text\n",
    "dists = embs_imgs @ label_center_txt.t()\n",
    "for top in [1, 5, 10, 20, 50] :\n",
    "    distances, indices = torch.topk(dists, top, dim=1, largest=True)\n",
    "    top_acc = (indices==labels.unsqueeze(-1)).sum() /len(labels)\n",
    "    print('Top {} accuray : {}'.format(top, top_acc))"
   ]
  },
  {
   "cell_type": "code",
   "execution_count": 14,
   "metadata": {
    "scrolled": false
   },
   "outputs": [
    {
     "name": "stdout",
     "output_type": "stream",
     "text": [
      "Top 1 accuray : 0.18940146267414093\n",
      "Top 5 accuray : 0.38382482528686523\n",
      "Top 10 accuray : 0.4717080295085907\n",
      "Top 20 accuray : 0.5606131553649902\n",
      "Top 50 accuray : 0.6751241087913513\n"
     ]
    }
   ],
   "source": [
    "# text to image\n",
    "dists = embs_txt @ label_center_img.t()\n",
    "for top in [1, 5, 10, 20, 50] :\n",
    "    distances, indices = torch.topk(dists, top, dim=1, largest=True)\n",
    "    top_acc = (indices==labels.unsqueeze(-1)).sum() /len(labels)\n",
    "    print('Top {} accuray : {}'.format(top, top_acc))"
   ]
  },
  {
   "cell_type": "code",
   "execution_count": 15,
   "metadata": {
    "scrolled": false
   },
   "outputs": [
    {
     "name": "stdout",
     "output_type": "stream",
     "text": [
      "Top 1 accuray : 0.8256350755691528\n",
      "Top 5 accuray : 0.9231241345405579\n",
      "Top 10 accuray : 0.9444087743759155\n",
      "Top 20 accuray : 0.9600583910942078\n",
      "Top 50 accuray : 0.9758248329162598\n"
     ]
    }
   ],
   "source": [
    "# image to image\n",
    "dists = embs_imgs @ label_center_img.t()\n",
    "for top in [1, 5, 10, 20, 50] :\n",
    "    distances, indices = torch.topk(dists, top, dim=1, largest=True)\n",
    "    top_acc = (indices==labels.unsqueeze(-1)).sum() /len(labels)\n",
    "    print('Top {} accuray : {}'.format(top, top_acc))"
   ]
  },
  {
   "cell_type": "code",
   "execution_count": 16,
   "metadata": {
    "scrolled": false
   },
   "outputs": [
    {
     "name": "stdout",
     "output_type": "stream",
     "text": [
      "Top 1 accuray : 0.7429489493370056\n",
      "Top 5 accuray : 0.882861316204071\n",
      "Top 10 accuray : 0.9119124412536621\n",
      "Top 20 accuray : 0.9325547814369202\n",
      "Top 50 accuray : 0.952496349811554\n"
     ]
    }
   ],
   "source": [
    "# text to text\n",
    "dists = embs_txt @ label_center_txt.t()\n",
    "for top in [1, 5, 10, 20, 50] :\n",
    "    distances, indices = torch.topk(dists, top, dim=1, largest=True)\n",
    "    top_acc = (indices==labels.unsqueeze(-1)).sum() /len(labels)\n",
    "    print('Top {} accuray : {}'.format(top, top_acc))"
   ]
  },
  {
   "cell_type": "markdown",
   "metadata": {},
   "source": [
    "#### No translation"
   ]
  },
  {
   "cell_type": "code",
   "execution_count": 1,
   "metadata": {},
   "outputs": [],
   "source": [
    "from imports import *\n",
    "from clip_.train_text import *\n",
    "from clip_.data import MultiDS\n",
    "from utils import load_data\n",
    "from arcface import ArcMarginProduct\n",
    "import matplotlib.pyplot as plt\n",
    "import clip\n",
    "np.random.seed(1337)\n",
    "device = torch.device('cuda')"
   ]
  },
  {
   "cell_type": "code",
   "execution_count": 2,
   "metadata": {},
   "outputs": [],
   "source": [
    "df, train_df, val_df, train_labels, val_labels = load_data(train_perc=0.3)"
   ]
  },
  {
   "cell_type": "code",
   "execution_count": 3,
   "metadata": {
    "scrolled": true
   },
   "outputs": [],
   "source": [
    "bs = 32\n",
    "bs_val = 128\n",
    "max_length=200"
   ]
  },
  {
   "cell_type": "code",
   "execution_count": 4,
   "metadata": {},
   "outputs": [],
   "source": [
    "small_images_dir_train = 'data/small_train_images_250/'\n",
    "small_images_dir_val = 'data/small_train_images_224/'"
   ]
  },
  {
   "cell_type": "markdown",
   "metadata": {},
   "source": [
    "tr_ds = MultiDS(train_df, small_images_dir_train, column='title')\n",
    "val_ds = MultiDS(val_df, small_images_dir_val, column='title')\n",
    "full_ds = MultiDS(df, small_images_dir_val, column='title')"
   ]
  },
  {
   "cell_type": "markdown",
   "metadata": {},
   "source": [
    "torch.save(tr_ds, 'data/clip/multimodal/datasets/tr_ds_0.3_notrans.pth')\n",
    "torch.save(val_ds, 'data/clip/multimodal/datasets/val_ds_0.3_notrans.pth')\n",
    "torch.save(full_ds, 'data/clip/multimodal/datasets/full_ds_0.3_notrans.pth')"
   ]
  },
  {
   "cell_type": "code",
   "execution_count": 5,
   "metadata": {},
   "outputs": [],
   "source": [
    "tr_ds = torch.load('data/clip/multimodal/datasets/tr_ds_0.3_notrans.pth')\n",
    "val_ds = torch.load('data/clip/multimodal/datasets/val_ds_0.3_notrans.pth')\n",
    "full_ds = torch.load('data/clip/multimodal/datasets/full_ds_0.3_notrans.pth')"
   ]
  },
  {
   "cell_type": "code",
   "execution_count": 6,
   "metadata": {},
   "outputs": [],
   "source": [
    "tr_test_dl = DataLoader(tr_ds, batch_size = bs_val, shuffle = False, pin_memory = True)\n",
    "tr_dl = DataLoader(tr_ds, batch_size = bs, shuffle = True, pin_memory = True)\n",
    "val_dl = DataLoader(val_ds, batch_size = bs_val, shuffle = False, pin_memory = True)\n",
    "full_dl = DataLoader(full_ds, batch_size = bs_val, shuffle = False, pin_memory = True)"
   ]
  },
  {
   "cell_type": "code",
   "execution_count": 7,
   "metadata": {},
   "outputs": [],
   "source": [
    "model = clip.load('ViT-B/32', device=device, jit=False)[0]\n",
    "train_tfms, val_tfms = get_tfms(crop=224)"
   ]
  },
  {
   "cell_type": "code",
   "execution_count": 8,
   "metadata": {},
   "outputs": [],
   "source": [
    "data_path ='data/clip/multimodal/zero_shot/'"
   ]
  },
  {
   "cell_type": "markdown",
   "metadata": {},
   "source": [
    "model.eval()\n",
    "embs_imgs = []\n",
    "embs_txt = []\n",
    "for imgs, txts, _ in tqdm(full_dl, leave=False) :\n",
    "    with torch.no_grad():\n",
    "        imgs = val_tfms(imgs).to(device)\n",
    "        txts = txts.to(device)\n",
    "        embs_imgs.append(model.encode_image(imgs))\n",
    "        embs_txt.append(model.encode_text(txts))\n",
    "embs_imgs = F.normalize(torch.cat(embs_imgs, 0))\n",
    "embs_txt = F.normalize(torch.cat(embs_txt, 0))"
   ]
  },
  {
   "cell_type": "markdown",
   "metadata": {},
   "source": [
    "torch.save(embs_imgs, data_path + 'embs_imgs_notrans')\n",
    "torch.save(embs_txt, data_path + 'embs_txt_notrans')"
   ]
  },
  {
   "cell_type": "code",
   "execution_count": 9,
   "metadata": {},
   "outputs": [],
   "source": [
    "embs_imgs = torch.load(data_path + 'embs_imgs_notrans')\n",
    "embs_txt = torch.load(data_path + 'embs_txt_notrans')"
   ]
  },
  {
   "cell_type": "code",
   "execution_count": 13,
   "metadata": {},
   "outputs": [],
   "source": [
    "labels = df['label_group']"
   ]
  },
  {
   "cell_type": "code",
   "execution_count": 14,
   "metadata": {},
   "outputs": [
    {
     "name": "stdout",
     "output_type": "stream",
     "text": [
      "Computing label centers...\n"
     ]
    },
    {
     "data": {
      "application/vnd.jupyter.widget-view+json": {
       "model_id": "",
       "version_major": 2,
       "version_minor": 0
      },
      "text/plain": [
       "HBox(children=(FloatProgress(value=0.0, max=11014.0), HTML(value='')))"
      ]
     },
     "metadata": {},
     "output_type": "display_data"
    },
    {
     "name": "stdout",
     "output_type": "stream",
     "text": [
      "\r"
     ]
    }
   ],
   "source": [
    "unique_labels = labels.unique()\n",
    "labels = torch.Tensor(labels.values).to('cuda')\n",
    "print('Computing label centers...')\n",
    "label_center_img = []\n",
    "label_center_txt = []\n",
    "for label in tqdm(unique_labels, leave=False) :\n",
    "    idxs = (labels == label).unsqueeze(-1)\n",
    "    embs_mean_img = (idxs*embs_imgs).sum(0) / idxs.sum().item()\n",
    "    embs_mean_txt = (idxs*embs_txt).sum(0) / idxs.sum().item()\n",
    "    label_center_img.append(embs_mean_img)\n",
    "    label_center_txt.append(embs_mean_txt)\n",
    "        #if i == 1 :\n",
    "        #    break\n",
    "label_center_img = torch.stack(label_center_img)\n",
    "label_center_txt = torch.stack(label_center_txt)"
   ]
  },
  {
   "cell_type": "code",
   "execution_count": 15,
   "metadata": {},
   "outputs": [
    {
     "data": {
      "text/plain": [
       "array([ 249114794, 2937985045, 2395904891, ..., 1313560418,  763032672,\n",
       "         53836859])"
      ]
     },
     "execution_count": 15,
     "metadata": {},
     "output_type": "execute_result"
    }
   ],
   "source": [
    "unique_labels"
   ]
  },
  {
   "cell_type": "code",
   "execution_count": 12,
   "metadata": {},
   "outputs": [
    {
     "name": "stdout",
     "output_type": "stream",
     "text": [
      "torch.Size([34250]) torch.float32\n"
     ]
    },
    {
     "data": {
      "application/vnd.jupyter.widget-view+json": {
       "model_id": "",
       "version_major": 2,
       "version_minor": 0
      },
      "text/plain": [
       "HBox(children=(FloatProgress(value=0.0, max=11013.0), HTML(value='')))"
      ]
     },
     "metadata": {},
     "output_type": "display_data"
    },
    {
     "name": "stdout",
     "output_type": "stream",
     "text": [
      "\r"
     ]
    }
   ],
   "source": [
    "#centers per label\n",
    "labels = torch.Tensor(full_ds.label_codes.values).to(device)\n",
    "print(labels.shape, labels.dtype)\n",
    "label_center_img = []\n",
    "label_center_txt = []\n",
    "for i in tqdm(range(int(labels.max().item())), leave=False) :\n",
    "    idxs = (labels == i).unsqueeze(-1)\n",
    "    embs_mean_img = (idxs*embs_imgs).sum(0) / idxs.sum().item()\n",
    "    embs_mean_txt = (idxs*embs_txt).sum(0) / idxs.sum().item()\n",
    "    label_center_img.append(embs_mean_img)\n",
    "    label_center_txt.append(embs_mean_txt)\n",
    "    #if i == 1 :\n",
    "    #    break\n",
    "label_center_img = torch.stack(label_center_img)\n",
    "label_center_txt = torch.stack(label_center_txt)"
   ]
  },
  {
   "cell_type": "code",
   "execution_count": 13,
   "metadata": {},
   "outputs": [],
   "source": [
    "torch.save(label_center_img, data_path + 'label_center_imgs_notrans')\n",
    "torch.save(label_center_txt, data_path + 'label_center_txt_notrans')"
   ]
  },
  {
   "cell_type": "code",
   "execution_count": 14,
   "metadata": {},
   "outputs": [],
   "source": [
    "label_center_img = torch.load(data_path + 'label_center_imgs_notrans')\n",
    "label_center_txt = torch.load(data_path + 'label_center_txt_notrans')"
   ]
  },
  {
   "cell_type": "code",
   "execution_count": 15,
   "metadata": {},
   "outputs": [
    {
     "name": "stdout",
     "output_type": "stream",
     "text": [
      "Top 1 accuray : 0.1938978135585785\n",
      "Top 5 accuray : 0.38487592339515686\n",
      "Top 10 accuray : 0.4625401496887207\n",
      "Top 20 accuray : 0.5428029298782349\n",
      "Top 50 accuray : 0.6489050984382629\n"
     ]
    }
   ],
   "source": [
    "# image to text\n",
    "dists = embs_imgs @ label_center_txt.t()\n",
    "for top in [1, 5, 10, 20, 50] :\n",
    "    distances, indices = torch.topk(dists, top, dim=1, largest=True)\n",
    "    top_acc = (indices==labels.unsqueeze(-1)).sum() /len(labels)\n",
    "    print('Top {} accuray : {}'.format(top, top_acc))"
   ]
  },
  {
   "cell_type": "code",
   "execution_count": 16,
   "metadata": {
    "scrolled": false
   },
   "outputs": [
    {
     "name": "stdout",
     "output_type": "stream",
     "text": [
      "Top 1 accuray : 0.17821897566318512\n",
      "Top 5 accuray : 0.3607591390609741\n",
      "Top 10 accuray : 0.44370803236961365\n",
      "Top 20 accuray : 0.5277372598648071\n",
      "Top 50 accuray : 0.6399416327476501\n"
     ]
    }
   ],
   "source": [
    "# text to image\n",
    "dists = embs_txt @ label_center_img.t()\n",
    "for top in [1, 5, 10, 20, 50] :\n",
    "    distances, indices = torch.topk(dists, top, dim=1, largest=True)\n",
    "    top_acc = (indices==labels.unsqueeze(-1)).sum() /len(labels)\n",
    "    print('Top {} accuray : {}'.format(top, top_acc))"
   ]
  },
  {
   "cell_type": "code",
   "execution_count": 17,
   "metadata": {
    "scrolled": false
   },
   "outputs": [
    {
     "name": "stdout",
     "output_type": "stream",
     "text": [
      "Top 1 accuray : 0.8254890441894531\n",
      "Top 5 accuray : 0.9232116937637329\n",
      "Top 10 accuray : 0.9443503618240356\n",
      "Top 20 accuray : 0.9599708318710327\n",
      "Top 50 accuray : 0.9758832454681396\n"
     ]
    }
   ],
   "source": [
    "# image to image\n",
    "dists = embs_imgs @ label_center_img.t()\n",
    "for top in [1, 5, 10, 20, 50] :\n",
    "    distances, indices = torch.topk(dists, top, dim=1, largest=True)\n",
    "    top_acc = (indices==labels.unsqueeze(-1)).sum() /len(labels)\n",
    "    print('Top {} accuray : {}'.format(top, top_acc))"
   ]
  },
  {
   "cell_type": "code",
   "execution_count": 18,
   "metadata": {
    "scrolled": false
   },
   "outputs": [
    {
     "name": "stdout",
     "output_type": "stream",
     "text": [
      "Top 1 accuray : 0.7583649754524231\n",
      "Top 5 accuray : 0.893868625164032\n",
      "Top 10 accuray : 0.9208175539970398\n",
      "Top 20 accuray : 0.941518247127533\n",
      "Top 50 accuray : 0.9617518186569214\n"
     ]
    }
   ],
   "source": [
    "# text to text\n",
    "dists = embs_txt @ label_center_txt.t()\n",
    "for top in [1, 5, 10, 20, 50] :\n",
    "    distances, indices = torch.topk(dists, top, dim=1, largest=True)\n",
    "    top_acc = (indices==labels.unsqueeze(-1)).sum() /len(labels)\n",
    "    print('Top {} accuray : {}'.format(top, top_acc))"
   ]
  },
  {
   "cell_type": "markdown",
   "metadata": {},
   "source": [
    "### Fine tuning clip"
   ]
  },
  {
   "cell_type": "markdown",
   "metadata": {},
   "source": [
    "#### Zero shot without fine tuning on split"
   ]
  },
  {
   "cell_type": "code",
   "execution_count": 1,
   "metadata": {},
   "outputs": [],
   "source": [
    "from imports import *\n",
    "from clip_.train_text import *\n",
    "from clip_.data import MultiDS\n",
    "from utils import load_data\n",
    "from arcface import ArcMarginProduct\n",
    "import matplotlib.pyplot as plt\n",
    "import clip\n",
    "np.random.seed(1337)\n",
    "device = torch.device('cuda')"
   ]
  },
  {
   "cell_type": "code",
   "execution_count": 2,
   "metadata": {},
   "outputs": [],
   "source": [
    "df, train_df, val_df, train_labels, val_labels = load_data(train_perc=0.3)"
   ]
  },
  {
   "cell_type": "code",
   "execution_count": 3,
   "metadata": {
    "scrolled": true
   },
   "outputs": [],
   "source": [
    "bs = 32\n",
    "bs_val = 32\n",
    "max_length=200"
   ]
  },
  {
   "cell_type": "code",
   "execution_count": 4,
   "metadata": {},
   "outputs": [],
   "source": [
    "small_images_dir_train = 'data/small_train_images_250/'\n",
    "small_images_dir_val = 'data/small_train_images_224/'"
   ]
  },
  {
   "cell_type": "markdown",
   "metadata": {},
   "source": [
    "tr_ds = MultiDS(train_df, small_images_dir_train, column='title')\n",
    "val_ds = MultiDS(val_df, small_images_dir_val, column='title')\n",
    "full_ds = MultiDS(df, small_images_dir_val, column='title')"
   ]
  },
  {
   "cell_type": "markdown",
   "metadata": {},
   "source": [
    "torch.save(tr_ds, 'data/clip/multimodal/datasets/tr_ds_0.3_notrans.pth')\n",
    "torch.save(val_ds, 'data/clip/multimodal/datasets/val_ds_0.3_notrans.pth')\n",
    "torch.save(full_ds, 'data/clip/multimodal/datasets/full_ds_0.3_notrans.pth')"
   ]
  },
  {
   "cell_type": "code",
   "execution_count": 5,
   "metadata": {},
   "outputs": [],
   "source": [
    "tr_ds = torch.load('data/clip/multimodal/datasets/tr_ds_0.3_notrans.pth')\n",
    "val_ds = torch.load('data/clip/multimodal/datasets/val_ds_0.3_notrans.pth')\n",
    "full_ds = torch.load('data/clip/multimodal/datasets/full_ds_0.3_notrans.pth')"
   ]
  },
  {
   "cell_type": "code",
   "execution_count": 6,
   "metadata": {},
   "outputs": [],
   "source": [
    "tr_test_dl = DataLoader(tr_ds, batch_size = bs_val, shuffle = False, pin_memory = True)\n",
    "tr_dl = DataLoader(tr_ds, batch_size = bs, shuffle = True, pin_memory = True)\n",
    "val_dl = DataLoader(val_ds, batch_size = bs_val, shuffle = False, pin_memory = True)\n",
    "full_dl = DataLoader(full_ds, batch_size = bs_val, shuffle = False, pin_memory = True)"
   ]
  },
  {
   "cell_type": "code",
   "execution_count": 7,
   "metadata": {},
   "outputs": [],
   "source": [
    "model = clip.load('ViT-B/32', device=device, jit=False)[0]\n",
    "train_tfms, val_tfms = get_tfms(crop=224)"
   ]
  },
  {
   "cell_type": "code",
   "execution_count": 9,
   "metadata": {},
   "outputs": [],
   "source": [
    "def compute_top_accs(embs_image, embs_texts, labels, tops=[1, 5, 10]) :\n",
    "    print('Computing label centers...')\n",
    "    label_center_img = []\n",
    "    label_center_txt = []\n",
    "    for label in tqdm(range(int(labels.max().item())), leave=False) :\n",
    "        idxs = (labels == label).unsqueeze(-1)\n",
    "        embs_mean_img = (idxs*embs_image).sum(0) / idxs.sum().item()\n",
    "        embs_mean_txt = (idxs*embs_texts).sum(0) / idxs.sum().item()\n",
    "        label_center_img.append(embs_mean_img)\n",
    "        label_center_txt.append(embs_mean_txt)\n",
    "        #if i == 1 :\n",
    "        #    break\n",
    "    label_center_img = torch.stack(label_center_img)\n",
    "    label_center_txt = torch.stack(label_center_txt)\n",
    "    \n",
    "    # image text\n",
    "    dists = embs_image @ label_center_txt.t()\n",
    "    for top in tops :\n",
    "        distances, indices = torch.topk(dists, top, dim=1, largest=True)\n",
    "        top_acc = (indices==labels.unsqueeze(-1)).sum() /len(labels)\n",
    "        print('Top {} accuray image-text : {}'.format(top, top_acc))\n",
    "    \n",
    "    # image text\n",
    "    dists = embs_texts @ label_center_img.t()\n",
    "    for top in [1, 5, 10] :\n",
    "        distances, indices = torch.topk(dists, top, dim=1, largest=True)\n",
    "        top_acc = (indices==labels.unsqueeze(-1)).sum() /len(labels)\n",
    "        print('Top {} accuray text-image : {}'.format(top, top_acc))"
   ]
  },
  {
   "cell_type": "markdown",
   "metadata": {},
   "source": [
    "model.eval()\n",
    "embs_imgs_val = []\n",
    "embs_txt_val = []\n",
    "ys_val = []\n",
    "for imgs, txts, labels in tqdm(val_dl, leave=False) :\n",
    "    with torch.no_grad():\n",
    "        ys_val.append(labels)\n",
    "        imgs = val_tfms(imgs).to(device)\n",
    "        txts = txts.to(device)\n",
    "        embs_imgs_val.append(model.encode_image(imgs))\n",
    "        embs_txt_val.append(model.encode_text(txts))\n",
    "embs_imgs_val = F.normalize(torch.cat(embs_imgs_val, 0))\n",
    "embs_txt_val = F.normalize(torch.cat(embs_txt_val, 0))\n",
    "ys_val = torch.cat(ys_val, 0).to(device)"
   ]
  },
  {
   "cell_type": "markdown",
   "metadata": {},
   "source": [
    "embs_imgs_val = F.normalize(torch.cat(embs_imgs_val, 0))\n",
    "embs_txt_val = F.normalize(torch.cat(embs_txt_val, 0))"
   ]
  },
  {
   "cell_type": "markdown",
   "metadata": {},
   "source": [
    "torch.save(embs_imgs_val, data_path + 'embs_imgs_val')\n",
    "torch.save(embs_txt_val, data_path + 'embs_txt_val')"
   ]
  },
  {
   "cell_type": "code",
   "execution_count": null,
   "metadata": {},
   "outputs": [],
   "source": [
    "model.eval()\n",
    "embs_imgs_train = []\n",
    "embs_txt_train = []\n",
    "ys_val = []\n",
    "for imgs, txts, labels in tqdm(val_dl, leave=False) :\n",
    "    with torch.no_grad():\n",
    "        ys_val.append(labels)\n",
    "        imgs = val_tfms(imgs).to(device)\n",
    "        txts = txts.to(device)\n",
    "        embs_imgs_train.append(model.encode_image(imgs))\n",
    "        embs_txt_train.append(model.encode_text(txts))\n",
    "embs_imgs_train = F.normalize(torch.cat(embs_imgs, 0))\n",
    "embs_txt_train = F.normalize(torch.cat(embs_txt, 0))"
   ]
  },
  {
   "cell_type": "code",
   "execution_count": 14,
   "metadata": {},
   "outputs": [],
   "source": [
    "data_path ='data/clip/multimodal/zero_shot/'"
   ]
  },
  {
   "cell_type": "code",
   "execution_count": null,
   "metadata": {},
   "outputs": [],
   "source": [
    "torch.save(embs_imgs_train, data_path + 'embs_imgs_train')\n",
    "torch.save(embs_txt_train, data_path + 'embs_txt_train')"
   ]
  },
  {
   "cell_type": "code",
   "execution_count": 19,
   "metadata": {},
   "outputs": [
    {
     "name": "stdout",
     "output_type": "stream",
     "text": [
      "Computing label centers...\n"
     ]
    },
    {
     "data": {
      "application/vnd.jupyter.widget-view+json": {
       "model_id": "",
       "version_major": 2,
       "version_minor": 0
      },
      "text/plain": [
       "HBox(children=(FloatProgress(value=0.0, max=7709.0), HTML(value='')))"
      ]
     },
     "metadata": {},
     "output_type": "display_data"
    },
    {
     "name": "stdout",
     "output_type": "stream",
     "text": [
      "Top 1 accuray image-text : 0.22469550371170044\n",
      "Top 5 accuray image-text : 0.4235195219516754\n",
      "Top 10 accuray image-text : 0.5037379264831543\n",
      "Top 1 accuray text-image : 0.20869381725788116\n",
      "Top 5 accuray text-image : 0.40470388531684875\n",
      "Top 10 accuray text-image : 0.4875682294368744\n"
     ]
    }
   ],
   "source": [
    "compute_top_accs(embs_imgs_val, embs_txt_val, ys_val)"
   ]
  },
  {
   "cell_type": "markdown",
   "metadata": {},
   "source": [
    "#### Fine tuning split and monti"
   ]
  },
  {
   "cell_type": "code",
   "execution_count": 1,
   "metadata": {},
   "outputs": [],
   "source": [
    "from imports import *\n",
    "from clip_.train_text import *\n",
    "from clip_.data import MultiDS\n",
    "from utils import load_data\n",
    "from arcface import ArcMarginProduct\n",
    "import matplotlib.pyplot as plt\n",
    "import clip\n",
    "np.random.seed(1337)\n",
    "device = torch.device('cuda')"
   ]
  },
  {
   "cell_type": "code",
   "execution_count": 2,
   "metadata": {},
   "outputs": [],
   "source": [
    "df, train_df, val_df, train_labels, val_labels = load_data(train_perc=0.3)"
   ]
  },
  {
   "cell_type": "code",
   "execution_count": 3,
   "metadata": {
    "scrolled": true
   },
   "outputs": [],
   "source": [
    "bs = 32\n",
    "bs_val = 32\n",
    "max_length=200"
   ]
  },
  {
   "cell_type": "code",
   "execution_count": 4,
   "metadata": {},
   "outputs": [],
   "source": [
    "small_images_dir_train = 'data/small_train_images_250/'\n",
    "small_images_dir_val = 'data/small_train_images_224/'"
   ]
  },
  {
   "cell_type": "markdown",
   "metadata": {},
   "source": [
    "tr_ds = MultiDS(train_df, small_images_dir_train, column='title')\n",
    "val_ds = MultiDS(val_df, small_images_dir_val, column='title')\n",
    "full_ds = MultiDS(df, small_images_dir_val, column='title')"
   ]
  },
  {
   "cell_type": "markdown",
   "metadata": {},
   "source": [
    "torch.save(tr_ds, 'data/clip/multimodal/datasets/tr_ds_0.3_notrans.pth')\n",
    "torch.save(val_ds, 'data/clip/multimodal/datasets/val_ds_0.3_notrans.pth')\n",
    "torch.save(full_ds, 'data/clip/multimodal/datasets/full_ds_0.3_notrans.pth')"
   ]
  },
  {
   "cell_type": "code",
   "execution_count": 5,
   "metadata": {},
   "outputs": [],
   "source": [
    "tr_ds = torch.load('data/clip/multimodal/datasets/tr_ds_0.3_notrans.pth')\n",
    "val_ds = torch.load('data/clip/multimodal/datasets/val_ds_0.3_notrans.pth')\n",
    "full_ds = torch.load('data/clip/multimodal/datasets/full_ds_0.3_notrans.pth')"
   ]
  },
  {
   "cell_type": "code",
   "execution_count": 6,
   "metadata": {},
   "outputs": [],
   "source": [
    "tr_test_dl = DataLoader(tr_ds, batch_size = bs_val, shuffle = False, pin_memory = True)\n",
    "tr_dl = DataLoader(tr_ds, batch_size = bs, shuffle = True, pin_memory = True)\n",
    "val_dl = DataLoader(val_ds, batch_size = bs_val, shuffle = False, pin_memory = True)\n",
    "full_dl = DataLoader(full_ds, batch_size = bs_val, shuffle = False, pin_memory = True)"
   ]
  },
  {
   "cell_type": "code",
   "execution_count": 7,
   "metadata": {},
   "outputs": [],
   "source": [
    "model = clip.load('ViT-B/32', device=device, jit=False)[0]\n",
    "train_tfms, val_tfms = get_tfms(crop=224)"
   ]
  },
  {
   "cell_type": "code",
   "execution_count": 8,
   "metadata": {},
   "outputs": [],
   "source": [
    "data_path ='data/clip/multimodal/zero_shot/'"
   ]
  },
  {
   "cell_type": "code",
   "execution_count": 9,
   "metadata": {},
   "outputs": [],
   "source": [
    "clip_loss = nn.CrossEntropyLoss()"
   ]
  },
  {
   "cell_type": "code",
   "execution_count": 11,
   "metadata": {},
   "outputs": [],
   "source": [
    "def compute_top_accs(embs_image, embs_texts, labels, tops=[1, 5, 10]) :\n",
    "    print('Computing label centers...')\n",
    "    label_center_img = []\n",
    "    label_center_txt = []\n",
    "    for label in tqdm(range(int(labels.max().item())), leave=False) :\n",
    "        idxs = (labels == label).unsqueeze(-1)\n",
    "        embs_mean_img = (idxs*embs_image).sum(0) / idxs.sum().item()\n",
    "        embs_mean_txt = (idxs*embs_texts).sum(0) / idxs.sum().item()\n",
    "        label_center_img.append(embs_mean_img)\n",
    "        label_center_txt.append(embs_mean_txt)\n",
    "        #if i == 1 :\n",
    "        #    break\n",
    "    label_center_img = torch.stack(label_center_img)\n",
    "    label_center_txt = torch.stack(label_center_txt)\n",
    "    \n",
    "    # image text\n",
    "    dists = embs_image @ label_center_txt.t()\n",
    "    for top in tops :\n",
    "        distances, indices = torch.topk(dists, top, dim=1, largest=True)\n",
    "        top_acc = (indices==labels.unsqueeze(-1)).sum() /len(labels)\n",
    "        print('Top {} accuray image-text : {}'.format(top, top_acc))\n",
    "    \n",
    "    # image text\n",
    "    dists = embs_texts @ label_center_img.t()\n",
    "    for top in [1, 5, 10] :\n",
    "        distances, indices = torch.topk(dists, top, dim=1, largest=True)\n",
    "        top_acc = (indices==labels.unsqueeze(-1)).sum() /len(labels)\n",
    "        print('Top {} accuray text-image : {}'.format(top, top_acc))"
   ]
  },
  {
   "cell_type": "code",
   "execution_count": 12,
   "metadata": {},
   "outputs": [],
   "source": [
    "def convert_models_to_fp32_(model):\n",
    "    for p in model.parameters():\n",
    "        p.data = p.data.float()\n",
    "\n",
    "def train_clip(model, optimizer, sched, train_dl, val_dl, n_epochs, train_df, val_df,\n",
    "          train_transforms, val_transforms, save_path, clip_loss = nn.CrossEntropyLoss()) :\n",
    "    tr_losses = []\n",
    "    val_losses = []\n",
    "    \n",
    "    convert_models_to_fp32_(model)\n",
    "    \n",
    "    for ep in tqdm(range(n_epochs), leave=False):\n",
    "        # TRAINING\n",
    "        model.train()\n",
    "        tr_loss = []\n",
    "        embs_imgs = []\n",
    "        embs_txt = []\n",
    "        ys = []\n",
    "        pbar = tqdm(train_dl, leave=False)\n",
    "        for imgs, txts, labels in pbar:\n",
    "            \n",
    "            ys.append(labels)\n",
    "            labels = labels.long().to(device)\n",
    "            clip_tgt = torch.arange(0, labels.size(0)).to(device)\n",
    "            \n",
    "            imgs = imgs.to('cuda')\n",
    "            txts = txts.to('cuda')\n",
    "\n",
    "            optimizer.zero_grad()\n",
    "            \n",
    "            image_features = model.encode_image(train_transforms(imgs))\n",
    "            text_features = model.encode_text(txts)\n",
    "            \n",
    "            logits_per_image, logits_per_text = model.forward_from_features(image_features, text_features)\n",
    "            loss_clip = clip_loss(logits_per_image, clip_tgt) + clip_loss(logits_per_text, clip_tgt)\n",
    "            \n",
    "            loss_clip.backward()\n",
    "            optimizer.step()\n",
    "            sched.step()\n",
    "    \n",
    "            tr_loss.append(loss_clip.item())\n",
    "            pbar.set_description(f\"Train loss: {round(np.mean(tr_loss),3)}\")\n",
    "            embs_imgs.append(image_features.detach().to('cpu'))\n",
    "            embs_txt.append(text_features.detach().to('cpu'))\n",
    "        ys = torch.cat(ys, 0).to(device)\n",
    "        embs_imgs = F.normalize(torch.cat(embs_imgs, 0).to(device))\n",
    "        embs_txt = F.normalize(torch.cat(embs_txt, 0).to(device))\n",
    "        compute_top_accs(embs_imgs, embs_txt, ys)\n",
    "\n",
    "        if ep % 2 == 0:\n",
    "            path =  save_path + '_ep_{}.pth'.format(ep)\n",
    "            print('Checkpoint : saved model to {}'.format(path))\n",
    "            torch.save(model.state_dict(\n",
    "            ),path)\n",
    "\n",
    "        # VALIDATION\n",
    "        model.eval()\n",
    "        ys = []\n",
    "        with torch.no_grad():\n",
    "            pbar = tqdm(val_dl, leave=False)\n",
    "            embs_imgs = []\n",
    "            embs_txt = []\n",
    "            val_loss = []\n",
    "            \n",
    "            for imgs, txts, labels in pbar:\n",
    "                ys.append(labels)\n",
    "                labels = labels.long().to(device)\n",
    "                clip_tgt = torch.arange(0, labels.size(0)).to(device)\n",
    "                \n",
    "                imgs = imgs.to('cuda')\n",
    "                txts = txts.to('cuda')\n",
    "\n",
    "                optimizer.zero_grad()\n",
    "\n",
    "                image_features = model.encode_image(val_transforms(imgs))\n",
    "                text_features = model.encode_text(txts)\n",
    "                \n",
    "                logits_per_image, logits_per_text = model.forward_from_features(image_features, text_features)\n",
    "                loss_clip = clip_loss(logits_per_image, clip_tgt) + clip_loss(logits_per_text, clip_tgt)\n",
    "                \n",
    "                val_loss.append(loss_clip.item())\n",
    "                pbar.set_description(f\"Val loss: {round(np.mean(val_loss),3)}\")\n",
    "                embs_imgs.append(image_features.detach().to('cpu'))\n",
    "                embs_txt.append(text_features.detach().to('cpu'))\n",
    "            ys = torch.cat(ys, 0).to(device)\n",
    "            embs_imgs = F.normalize(torch.cat(embs_imgs, 0).to(device))\n",
    "            embs_txt = F.normalize(torch.cat(embs_txt, 0).to(device))\n",
    "            compute_top_accs(embs_imgs, embs_txt, ys)\n",
    "\n",
    "        \n",
    "\n",
    "        tr_losses.append(tr_loss)\n",
    "        val_losses.append(val_loss)\n",
    "        summary = \"Ep {}: Train loss {:.4f} | Val loss {:.4f}\".format(\n",
    "            ep, np.asarray(tr_loss).mean(), np.asarray(val_loss).mean())\n",
    "        print(summary)"
   ]
  },
  {
   "cell_type": "markdown",
   "metadata": {},
   "source": [
    "for n, _ in model.named_parameters() :\n",
    "    print(n)"
   ]
  },
  {
   "cell_type": "code",
   "execution_count": 13,
   "metadata": {},
   "outputs": [],
   "source": [
    "mnp = list(model.named_parameters())\n",
    "\n",
    "start = ['visual.class_embedding', 'visual.positional_embedding', 'visual.conv1.weight',\n",
    "        'visual.ln_pre.weight', 'visual.ln_pre.bias', 'positional_embedding', 'token_embedding.weight']\n",
    "param_groups = [{'params' : [p for n,p in mnp if n in start]}]\n",
    "params_names = [n for n,p in mnp if n in start]\n",
    "\n",
    "n_blocks = 12\n",
    "for i in range(n_blocks):\n",
    "    ith_block = [p for n, p in mnp if f'resblocks.{i}.' in n]\n",
    "    ith_block_names = [n for n, p in mnp if f'resblocks.{i}.' in n] \n",
    "    param_groups.append({'params' : ith_block})\n",
    "    params_names += ith_block_names\n",
    "    \n",
    "end = ['visual.proj', 'visual.ln_post.weight', 'visual.ln_post.bias', 'ln_final.weight', 'ln_final.bias',\n",
    "      'text_projection', 'logit_scale']\n",
    "param_groups.append({'params' : [p for n,p in mnp if n in end]})\n",
    "params_names += [n for n,p in mnp if n in end]\n"
   ]
  },
  {
   "cell_type": "markdown",
   "metadata": {},
   "source": [
    "for n, p in model.named_parameters() :\n",
    "    if n not in params_names :\n",
    "        print(n)"
   ]
  },
  {
   "cell_type": "code",
   "execution_count": 14,
   "metadata": {},
   "outputs": [],
   "source": [
    "lf = nn.CrossEntropyLoss()\n",
    "optimizer = torch.optim.AdamW(param_groups, weight_decay = 1e-5)\n",
    "\n",
    "lr = list(np.linspace(1e-6,1e-5,len(param_groups)))\n",
    "\n",
    "n_epochs = 2\n",
    "sched = torch.optim.lr_scheduler.OneCycleLR(optimizer, max_lr=lr, pct_start=0.3,\n",
    "                                            total_steps=int(n_epochs * len(tr_dl)))"
   ]
  },
  {
   "cell_type": "code",
   "execution_count": 15,
   "metadata": {},
   "outputs": [],
   "source": [
    "save_path = 'data/clip/multimodal/tests_ft'"
   ]
  },
  {
   "cell_type": "code",
   "execution_count": 16,
   "metadata": {
    "scrolled": false
   },
   "outputs": [
    {
     "data": {
      "application/vnd.jupyter.widget-view+json": {
       "model_id": "",
       "version_major": 2,
       "version_minor": 0
      },
      "text/plain": [
       "HBox(children=(FloatProgress(value=0.0, max=2.0), HTML(value='')))"
      ]
     },
     "metadata": {},
     "output_type": "display_data"
    },
    {
     "data": {
      "application/vnd.jupyter.widget-view+json": {
       "model_id": "",
       "version_major": 2,
       "version_minor": 0
      },
      "text/plain": [
       "HBox(children=(FloatProgress(value=0.0, max=327.0), HTML(value='')))"
      ]
     },
     "metadata": {},
     "output_type": "display_data"
    },
    {
     "name": "stdout",
     "output_type": "stream",
     "text": [
      "Computing label centers...\n"
     ]
    },
    {
     "data": {
      "application/vnd.jupyter.widget-view+json": {
       "model_id": "",
       "version_major": 2,
       "version_minor": 0
      },
      "text/plain": [
       "HBox(children=(FloatProgress(value=0.0, max=3303.0), HTML(value='')))"
      ]
     },
     "metadata": {},
     "output_type": "display_data"
    },
    {
     "name": "stdout",
     "output_type": "stream",
     "text": [
      "Top 1 accuray image-text : 0.24262452125549316\n",
      "Top 5 accuray image-text : 0.493486613035202\n",
      "Top 10 accuray image-text : 0.6063218712806702\n",
      "Top 1 accuray text-image : 0.2616858184337616\n",
      "Top 5 accuray text-image : 0.5310344696044922\n",
      "Top 10 accuray text-image : 0.6477011442184448\n",
      "Checkpoint : saved model to data/clip/multimodal/tests_ft_ep_0.pth\n"
     ]
    },
    {
     "data": {
      "application/vnd.jupyter.widget-view+json": {
       "model_id": "",
       "version_major": 2,
       "version_minor": 0
      },
      "text/plain": [
       "HBox(children=(FloatProgress(value=0.0, max=745.0), HTML(value='')))"
      ]
     },
     "metadata": {},
     "output_type": "display_data"
    },
    {
     "name": "stdout",
     "output_type": "stream",
     "text": [
      "Computing label centers...\n"
     ]
    },
    {
     "data": {
      "application/vnd.jupyter.widget-view+json": {
       "model_id": "",
       "version_major": 2,
       "version_minor": 0
      },
      "text/plain": [
       "HBox(children=(FloatProgress(value=0.0, max=7709.0), HTML(value='')))"
      ]
     },
     "metadata": {},
     "output_type": "display_data"
    },
    {
     "name": "stdout",
     "output_type": "stream",
     "text": [
      "Top 1 accuray image-text : 0.25674086809158325\n",
      "Top 5 accuray image-text : 0.4854682683944702\n",
      "Top 10 accuray image-text : 0.582822322845459\n",
      "Top 1 accuray text-image : 0.2503570020198822\n",
      "Top 5 accuray text-image : 0.4873162508010864\n",
      "Top 10 accuray text-image : 0.5856782793998718\n",
      "Ep 0: Train loss 1.5234 | Val loss 1.2039\n"
     ]
    },
    {
     "data": {
      "application/vnd.jupyter.widget-view+json": {
       "model_id": "",
       "version_major": 2,
       "version_minor": 0
      },
      "text/plain": [
       "HBox(children=(FloatProgress(value=0.0, max=327.0), HTML(value='')))"
      ]
     },
     "metadata": {},
     "output_type": "display_data"
    },
    {
     "name": "stdout",
     "output_type": "stream",
     "text": [
      "Computing label centers...\n"
     ]
    },
    {
     "data": {
      "application/vnd.jupyter.widget-view+json": {
       "model_id": "",
       "version_major": 2,
       "version_minor": 0
      },
      "text/plain": [
       "HBox(children=(FloatProgress(value=0.0, max=3303.0), HTML(value='')))"
      ]
     },
     "metadata": {},
     "output_type": "display_data"
    },
    {
     "name": "stdout",
     "output_type": "stream",
     "text": [
      "Top 1 accuray image-text : 0.3558429181575775\n",
      "Top 5 accuray image-text : 0.6887931227684021\n",
      "Top 10 accuray image-text : 0.8054597973823547\n",
      "Top 1 accuray text-image : 0.3854406177997589\n",
      "Top 5 accuray text-image : 0.7205938696861267\n",
      "Top 10 accuray text-image : 0.8299808502197266\n"
     ]
    },
    {
     "data": {
      "application/vnd.jupyter.widget-view+json": {
       "model_id": "",
       "version_major": 2,
       "version_minor": 0
      },
      "text/plain": [
       "HBox(children=(FloatProgress(value=0.0, max=745.0), HTML(value='')))"
      ]
     },
     "metadata": {},
     "output_type": "display_data"
    },
    {
     "name": "stdout",
     "output_type": "stream",
     "text": [
      "Computing label centers...\n"
     ]
    },
    {
     "data": {
      "application/vnd.jupyter.widget-view+json": {
       "model_id": "",
       "version_major": 2,
       "version_minor": 0
      },
      "text/plain": [
       "HBox(children=(FloatProgress(value=0.0, max=7709.0), HTML(value='')))"
      ]
     },
     "metadata": {},
     "output_type": "display_data"
    },
    {
     "name": "stdout",
     "output_type": "stream",
     "text": [
      "Top 1 accuray image-text : 0.25808483362197876\n",
      "Top 5 accuray image-text : 0.4959260821342468\n",
      "Top 10 accuray image-text : 0.5918521285057068\n",
      "Top 1 accuray text-image : 0.26161277294158936\n",
      "Top 5 accuray text-image : 0.502981960773468\n",
      "Top 10 accuray text-image : 0.6058798432350159\n",
      "Ep 1: Train loss 0.5667 | Val loss 1.1582\n",
      "\r"
     ]
    }
   ],
   "source": [
    "train_clip(model, optimizer, sched, tr_dl, val_dl, n_epochs, train_df, val_df, train_tfms, val_tfms, save_path)"
   ]
  },
  {
   "cell_type": "code",
   "execution_count": null,
   "metadata": {},
   "outputs": [],
   "source": []
  }
 ],
 "metadata": {
  "kernelspec": {
   "display_name": "Python 3",
   "language": "python",
   "name": "python3"
  },
  "language_info": {
   "codemirror_mode": {
    "name": "ipython",
    "version": 3
   },
   "file_extension": ".py",
   "mimetype": "text/x-python",
   "name": "python",
   "nbconvert_exporter": "python",
   "pygments_lexer": "ipython3",
   "version": "3.7.6"
  },
  "toc": {
   "base_numbering": 1,
   "nav_menu": {},
   "number_sections": true,
   "sideBar": true,
   "skip_h1_title": false,
   "title_cell": "Table of Contents",
   "title_sidebar": "Contents",
   "toc_cell": true,
   "toc_position": {
    "height": "calc(100% - 180px)",
    "left": "10px",
    "top": "150px",
    "width": "259.716px"
   },
   "toc_section_display": true,
   "toc_window_display": true
  }
 },
 "nbformat": 4,
 "nbformat_minor": 4
}
