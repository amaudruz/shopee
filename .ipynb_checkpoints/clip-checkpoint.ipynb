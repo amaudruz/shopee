{
 "cells": [
  {
   "cell_type": "markdown",
   "metadata": {
    "toc": true
   },
   "source": [
    "<h1>Table of Contents<span class=\"tocSkip\"></span></h1>\n",
    "<div class=\"toc\"><ul class=\"toc-item\"><li><span><a href=\"#Only-image\" data-toc-modified-id=\"Only-image-1\"><span class=\"toc-item-num\">1&nbsp;&nbsp;</span>Only image</a></span><ul class=\"toc-item\"><li><span><a href=\"#Train-test-vit\" data-toc-modified-id=\"Train-test-vit-1.1\"><span class=\"toc-item-num\">1.1&nbsp;&nbsp;</span>Train test vit</a></span></li><li><span><a href=\"#Train-test-resnet50\" data-toc-modified-id=\"Train-test-resnet50-1.2\"><span class=\"toc-item-num\">1.2&nbsp;&nbsp;</span>Train test resnet50</a></span></li></ul></li><li><span><a href=\"#Traduction-indonesian-english\" data-toc-modified-id=\"Traduction-indonesian-english-2\"><span class=\"toc-item-num\">2&nbsp;&nbsp;</span>Traduction indonesian english</a></span></li><li><span><a href=\"#Only-text\" data-toc-modified-id=\"Only-text-3\"><span class=\"toc-item-num\">3&nbsp;&nbsp;</span>Only text</a></span><ul class=\"toc-item\"><li><span><a href=\"#Split\" data-toc-modified-id=\"Split-3.1\"><span class=\"toc-item-num\">3.1&nbsp;&nbsp;</span>Split</a></span></li></ul></li></ul></div>"
   ]
  },
  {
   "cell_type": "code",
   "execution_count": 1,
   "metadata": {
    "scrolled": true
   },
   "outputs": [],
   "source": [
    "import torch\n",
    "import clip\n",
    "from PIL import Image"
   ]
  },
  {
   "cell_type": "markdown",
   "metadata": {},
   "source": [
    "## Only image"
   ]
  },
  {
   "cell_type": "code",
   "execution_count": 14,
   "metadata": {
    "scrolled": true
   },
   "outputs": [
    {
     "data": {
      "text/plain": [
       "['RN50', 'RN101', 'RN50x4', 'ViT-B/32']"
      ]
     },
     "execution_count": 14,
     "metadata": {},
     "output_type": "execute_result"
    }
   ],
   "source": [
    "clip.available_models()"
   ]
  },
  {
   "cell_type": "markdown",
   "metadata": {},
   "source": [
    "### Train test vit"
   ]
  },
  {
   "cell_type": "code",
   "execution_count": 1,
   "metadata": {},
   "outputs": [],
   "source": [
    "from imports import *\n",
    "from utils import load_data\n",
    "from image_train.data import create_dl, ImageDS\n",
    "from image_train.model import EMBRes\n",
    "from arcface import ArcMarginProduct, compute_centers\n",
    "from clip_.train import *\n",
    "import matplotlib.pyplot as plt\n",
    "import clip\n",
    "np.random.seed(1337)\n",
    "device = torch.device('cuda')"
   ]
  },
  {
   "cell_type": "code",
   "execution_count": 2,
   "metadata": {},
   "outputs": [],
   "source": [
    "df, train_df, val_df, train_labels, val_labels = load_data(train_perc=0.3)"
   ]
  },
  {
   "cell_type": "code",
   "execution_count": 3,
   "metadata": {},
   "outputs": [],
   "source": [
    "# creating dataloaders\n",
    "small_images_dir_train = 'data/small_train_images_300/'\n",
    "small_images_dir_val = 'data/small_train_images_224/'\n",
    "bs = 64\n",
    "\n",
    "tr_dl = create_dl(train_df, small_images_dir_train, batch_size=bs)\n",
    "tr_test_dl = create_dl(train_df, small_images_dir_val, shuffle=False, batch_size=bs)\n",
    "val_dl = create_dl(val_df, small_images_dir_val, shuffle=False, batch_size=bs)\n",
    "#full_dl = create_dl(df, small_images_dir, shuffle=False)"
   ]
  },
  {
   "cell_type": "code",
   "execution_count": 4,
   "metadata": {},
   "outputs": [],
   "source": [
    "class CLIPImg(torch.nn.Module) :\n",
    "    def __init__(self, model_name=\"ViT-B/32\", device='cuda') :\n",
    "        super().__init__()\n",
    "        self.model = clip.load(model_name, device=device, jit=False)[0]\n",
    "    def forward(self, imgs) :\n",
    "        return self.model.encode_image(imgs)"
   ]
  },
  {
   "cell_type": "code",
   "execution_count": 5,
   "metadata": {},
   "outputs": [],
   "source": [
    "model = CLIPImg()\n",
    "train_tfms, val_tfms = get_tfms(crop=224)"
   ]
  },
  {
   "cell_type": "markdown",
   "metadata": {
    "scrolled": true
   },
   "source": [
    "centers = compute_centers(tr_test_dl, model, val_tfms, train_df)\n",
    "torch.save(centers, 'data/clip/centers_im_0.3.pth')"
   ]
  },
  {
   "cell_type": "code",
   "execution_count": 6,
   "metadata": {},
   "outputs": [],
   "source": [
    "centers = torch.load('data/clip/centers_im_0.3.pth')"
   ]
  },
  {
   "cell_type": "code",
   "execution_count": 7,
   "metadata": {},
   "outputs": [
    {
     "name": "stdout",
     "output_type": "stream",
     "text": [
      "Using center as wieghts\n"
     ]
    }
   ],
   "source": [
    "metric_fc = ArcMarginProduct(512, train_df['label_group'].nunique(), \n",
    "                             s=30, m=0.5, easy_margin=False, centers=centers, half=True).to(device)"
   ]
  },
  {
   "cell_type": "code",
   "execution_count": 8,
   "metadata": {},
   "outputs": [],
   "source": [
    "n_epochs, lf, params, optimizer, sched = get_hparams(tr_dl, model, metric_fc, lr=1e-5, n_epochs=8)"
   ]
  },
  {
   "cell_type": "markdown",
   "metadata": {},
   "source": [
    "for n, _ in model.named_parameters() :\n",
    "    print(n)"
   ]
  },
  {
   "cell_type": "code",
   "execution_count": 11,
   "metadata": {},
   "outputs": [],
   "source": [
    "mnp = list(model.named_parameters())\n",
    "\n",
    "param_groups = [{'params' : [p for n,p in mnp if 'embeddings' in n]}]\n",
    "\n",
    "n_blocks = 12\n",
    "params_names = []\n",
    "for i in range(n_blocks):\n",
    "    ith_block = [p for n, p in mnp if f'resblocks.{i}.' in n]\n",
    "    param_groups.append({'params' : ith_block})\n",
    "    \n",
    "param_groups.append({'params' : [p for n,p in mnp if n in ['text_embedor.pooler.dense.weight', \n",
    "                                                     'text_embedor.pooler.dense.bias']]})\n",
    "\n",
    "param_groups.append({'params' : metric_fc.parameters()})"
   ]
  },
  {
   "cell_type": "code",
   "execution_count": 13,
   "metadata": {},
   "outputs": [],
   "source": [
    "lf = nn.CrossEntropyLoss()\n",
    "optimizer = torch.optim.AdamW(param_groups, weight_decay = 1e-5)\n",
    "\n",
    "lr = list(np.linspace(1e-5,3e-4,len(param_groups)))\n",
    "\n",
    "n_epochs = 10\n",
    "sched = torch.optim.lr_scheduler.OneCycleLR(optimizer, max_lr=lr, pct_start=0.3,\n",
    "                                            total_steps=int(n_epochs * len(tr_dl)))"
   ]
  },
  {
   "cell_type": "code",
   "execution_count": 14,
   "metadata": {},
   "outputs": [],
   "source": [
    "loss_hist = []\n",
    "best_thr_score={'val': {'thr': None, 'f1': None}, 'train': {'thr': None, 'f1': None}}\n",
    "thr_score_hist=[]\n",
    "ep_start = 0\n",
    "save_path = 'data/clip/test_20ap_im'"
   ]
  },
  {
   "cell_type": "code",
   "execution_count": 15,
   "metadata": {
    "scrolled": true
   },
   "outputs": [
    {
     "data": {
      "application/vnd.jupyter.widget-view+json": {
       "model_id": "",
       "version_major": 2,
       "version_minor": 0
      },
      "text/plain": [
       "HBox(children=(FloatProgress(value=0.0, max=10.0), HTML(value='')))"
      ]
     },
     "metadata": {},
     "output_type": "display_data"
    },
    {
     "data": {
      "application/vnd.jupyter.widget-view+json": {
       "model_id": "",
       "version_major": 2,
       "version_minor": 0
      },
      "text/plain": [
       "HBox(children=(FloatProgress(value=0.0, max=164.0), HTML(value='')))"
      ]
     },
     "metadata": {},
     "output_type": "display_data"
    },
    {
     "data": {
      "application/vnd.jupyter.widget-view+json": {
       "model_id": "",
       "version_major": 2,
       "version_minor": 0
      },
      "text/plain": [
       "HBox(children=(FloatProgress(value=0.0, description='Thresholds', max=10.0, style=ProgressStyle(description_wi…"
      ]
     },
     "metadata": {},
     "output_type": "display_data"
    },
    {
     "name": "stdout",
     "output_type": "stream",
     "text": [
      "Checkpoint : saved model to data/clip/test_20ap_im_ep_0.pth\n"
     ]
    },
    {
     "data": {
      "application/vnd.jupyter.widget-view+json": {
       "model_id": "",
       "version_major": 2,
       "version_minor": 0
      },
      "text/plain": [
       "HBox(children=(FloatProgress(value=0.0, max=373.0), HTML(value='')))"
      ]
     },
     "metadata": {},
     "output_type": "display_data"
    },
    {
     "data": {
      "application/vnd.jupyter.widget-view+json": {
       "model_id": "",
       "version_major": 2,
       "version_minor": 0
      },
      "text/plain": [
       "HBox(children=(FloatProgress(value=0.0, description='Thresholds', max=10.0, style=ProgressStyle(description_wi…"
      ]
     },
     "metadata": {},
     "output_type": "display_data"
    },
    {
     "name": "stdout",
     "output_type": "stream",
     "text": [
      "Saved best model ep 0 with f score : 0.6597333647068456\n",
      "Ep 0: Train loss 10.2051 | Val f score 0.6597 with thresh 0.47, train f score 0.6170 with thresh 0.56\n"
     ]
    },
    {
     "data": {
      "application/vnd.jupyter.widget-view+json": {
       "model_id": "",
       "version_major": 2,
       "version_minor": 0
      },
      "text/plain": [
       "HBox(children=(FloatProgress(value=0.0, max=164.0), HTML(value='')))"
      ]
     },
     "metadata": {},
     "output_type": "display_data"
    },
    {
     "data": {
      "application/vnd.jupyter.widget-view+json": {
       "model_id": "",
       "version_major": 2,
       "version_minor": 0
      },
      "text/plain": [
       "HBox(children=(FloatProgress(value=0.0, description='Thresholds', max=5.0, style=ProgressStyle(description_wid…"
      ]
     },
     "metadata": {},
     "output_type": "display_data"
    },
    {
     "data": {
      "application/vnd.jupyter.widget-view+json": {
       "model_id": "",
       "version_major": 2,
       "version_minor": 0
      },
      "text/plain": [
       "HBox(children=(FloatProgress(value=0.0, max=373.0), HTML(value='')))"
      ]
     },
     "metadata": {},
     "output_type": "display_data"
    },
    {
     "data": {
      "application/vnd.jupyter.widget-view+json": {
       "model_id": "",
       "version_major": 2,
       "version_minor": 0
      },
      "text/plain": [
       "HBox(children=(FloatProgress(value=0.0, description='Thresholds', max=5.0, style=ProgressStyle(description_wid…"
      ]
     },
     "metadata": {},
     "output_type": "display_data"
    },
    {
     "name": "stdout",
     "output_type": "stream",
     "text": [
      "Ep 1: Train loss 9.6193 | Val f score 0.6519 with thresh 0.42, train f score 0.6495 with thresh 0.61\n"
     ]
    },
    {
     "data": {
      "application/vnd.jupyter.widget-view+json": {
       "model_id": "",
       "version_major": 2,
       "version_minor": 0
      },
      "text/plain": [
       "HBox(children=(FloatProgress(value=0.0, max=164.0), HTML(value='')))"
      ]
     },
     "metadata": {},
     "output_type": "display_data"
    },
    {
     "data": {
      "application/vnd.jupyter.widget-view+json": {
       "model_id": "",
       "version_major": 2,
       "version_minor": 0
      },
      "text/plain": [
       "HBox(children=(FloatProgress(value=0.0, description='Thresholds', max=5.0, style=ProgressStyle(description_wid…"
      ]
     },
     "metadata": {},
     "output_type": "display_data"
    },
    {
     "name": "stdout",
     "output_type": "stream",
     "text": [
      "Checkpoint : saved model to data/clip/test_20ap_im_ep_2.pth\n"
     ]
    },
    {
     "data": {
      "application/vnd.jupyter.widget-view+json": {
       "model_id": "",
       "version_major": 2,
       "version_minor": 0
      },
      "text/plain": [
       "HBox(children=(FloatProgress(value=0.0, max=373.0), HTML(value='')))"
      ]
     },
     "metadata": {},
     "output_type": "display_data"
    },
    {
     "data": {
      "application/vnd.jupyter.widget-view+json": {
       "model_id": "",
       "version_major": 2,
       "version_minor": 0
      },
      "text/plain": [
       "HBox(children=(FloatProgress(value=0.0, description='Thresholds', max=5.0, style=ProgressStyle(description_wid…"
      ]
     },
     "metadata": {},
     "output_type": "display_data"
    },
    {
     "name": "stdout",
     "output_type": "stream",
     "text": [
      "Saved best model ep 2 with f score : 0.6621461545805979\n",
      "Ep 2: Train loss 8.9503 | Val f score 0.6621 with thresh 0.47, train f score 0.6741 with thresh 0.66\n"
     ]
    },
    {
     "data": {
      "application/vnd.jupyter.widget-view+json": {
       "model_id": "",
       "version_major": 2,
       "version_minor": 0
      },
      "text/plain": [
       "HBox(children=(FloatProgress(value=0.0, max=164.0), HTML(value='')))"
      ]
     },
     "metadata": {},
     "output_type": "display_data"
    },
    {
     "data": {
      "application/vnd.jupyter.widget-view+json": {
       "model_id": "",
       "version_major": 2,
       "version_minor": 0
      },
      "text/plain": [
       "HBox(children=(FloatProgress(value=0.0, description='Thresholds', max=5.0, style=ProgressStyle(description_wid…"
      ]
     },
     "metadata": {},
     "output_type": "display_data"
    },
    {
     "data": {
      "application/vnd.jupyter.widget-view+json": {
       "model_id": "",
       "version_major": 2,
       "version_minor": 0
      },
      "text/plain": [
       "HBox(children=(FloatProgress(value=0.0, max=373.0), HTML(value='')))"
      ]
     },
     "metadata": {},
     "output_type": "display_data"
    },
    {
     "data": {
      "application/vnd.jupyter.widget-view+json": {
       "model_id": "",
       "version_major": 2,
       "version_minor": 0
      },
      "text/plain": [
       "HBox(children=(FloatProgress(value=0.0, description='Thresholds', max=5.0, style=ProgressStyle(description_wid…"
      ]
     },
     "metadata": {},
     "output_type": "display_data"
    },
    {
     "name": "stdout",
     "output_type": "stream",
     "text": [
      "Ep 3: Train loss 7.3385 | Val f score 0.6602 with thresh 0.52, train f score 0.7306 with thresh 0.66\n"
     ]
    },
    {
     "data": {
      "application/vnd.jupyter.widget-view+json": {
       "model_id": "",
       "version_major": 2,
       "version_minor": 0
      },
      "text/plain": [
       "HBox(children=(FloatProgress(value=0.0, max=164.0), HTML(value='')))"
      ]
     },
     "metadata": {},
     "output_type": "display_data"
    },
    {
     "data": {
      "application/vnd.jupyter.widget-view+json": {
       "model_id": "",
       "version_major": 2,
       "version_minor": 0
      },
      "text/plain": [
       "HBox(children=(FloatProgress(value=0.0, description='Thresholds', max=5.0, style=ProgressStyle(description_wid…"
      ]
     },
     "metadata": {},
     "output_type": "display_data"
    },
    {
     "name": "stdout",
     "output_type": "stream",
     "text": [
      "Checkpoint : saved model to data/clip/test_20ap_im_ep_4.pth\n"
     ]
    },
    {
     "data": {
      "application/vnd.jupyter.widget-view+json": {
       "model_id": "",
       "version_major": 2,
       "version_minor": 0
      },
      "text/plain": [
       "HBox(children=(FloatProgress(value=0.0, max=373.0), HTML(value='')))"
      ]
     },
     "metadata": {},
     "output_type": "display_data"
    },
    {
     "data": {
      "application/vnd.jupyter.widget-view+json": {
       "model_id": "",
       "version_major": 2,
       "version_minor": 0
      },
      "text/plain": [
       "HBox(children=(FloatProgress(value=0.0, description='Thresholds', max=5.0, style=ProgressStyle(description_wid…"
      ]
     },
     "metadata": {},
     "output_type": "display_data"
    },
    {
     "name": "stdout",
     "output_type": "stream",
     "text": [
      "Saved best model ep 4 with f score : 0.6726259860570083\n",
      "Ep 4: Train loss 5.4420 | Val f score 0.6726 with thresh 0.57, train f score 0.8163 with thresh 0.71\n"
     ]
    },
    {
     "data": {
      "application/vnd.jupyter.widget-view+json": {
       "model_id": "",
       "version_major": 2,
       "version_minor": 0
      },
      "text/plain": [
       "HBox(children=(FloatProgress(value=0.0, max=164.0), HTML(value='')))"
      ]
     },
     "metadata": {},
     "output_type": "display_data"
    },
    {
     "data": {
      "application/vnd.jupyter.widget-view+json": {
       "model_id": "",
       "version_major": 2,
       "version_minor": 0
      },
      "text/plain": [
       "HBox(children=(FloatProgress(value=0.0, description='Thresholds', max=5.0, style=ProgressStyle(description_wid…"
      ]
     },
     "metadata": {},
     "output_type": "display_data"
    },
    {
     "data": {
      "application/vnd.jupyter.widget-view+json": {
       "model_id": "",
       "version_major": 2,
       "version_minor": 0
      },
      "text/plain": [
       "HBox(children=(FloatProgress(value=0.0, max=373.0), HTML(value='')))"
      ]
     },
     "metadata": {},
     "output_type": "display_data"
    },
    {
     "data": {
      "application/vnd.jupyter.widget-view+json": {
       "model_id": "",
       "version_major": 2,
       "version_minor": 0
      },
      "text/plain": [
       "HBox(children=(FloatProgress(value=0.0, description='Thresholds', max=5.0, style=ProgressStyle(description_wid…"
      ]
     },
     "metadata": {},
     "output_type": "display_data"
    },
    {
     "name": "stdout",
     "output_type": "stream",
     "text": [
      "Saved best model ep 5 with f score : 0.685491207599354\n",
      "Ep 5: Train loss 3.8210 | Val f score 0.6855 with thresh 0.57, train f score 0.8775 with thresh 0.71\n"
     ]
    },
    {
     "data": {
      "application/vnd.jupyter.widget-view+json": {
       "model_id": "",
       "version_major": 2,
       "version_minor": 0
      },
      "text/plain": [
       "HBox(children=(FloatProgress(value=0.0, max=164.0), HTML(value='')))"
      ]
     },
     "metadata": {},
     "output_type": "display_data"
    },
    {
     "data": {
      "application/vnd.jupyter.widget-view+json": {
       "model_id": "",
       "version_major": 2,
       "version_minor": 0
      },
      "text/plain": [
       "HBox(children=(FloatProgress(value=0.0, description='Thresholds', max=5.0, style=ProgressStyle(description_wid…"
      ]
     },
     "metadata": {},
     "output_type": "display_data"
    },
    {
     "name": "stdout",
     "output_type": "stream",
     "text": [
      "Checkpoint : saved model to data/clip/test_20ap_im_ep_6.pth\n"
     ]
    },
    {
     "data": {
      "application/vnd.jupyter.widget-view+json": {
       "model_id": "",
       "version_major": 2,
       "version_minor": 0
      },
      "text/plain": [
       "HBox(children=(FloatProgress(value=0.0, max=373.0), HTML(value='')))"
      ]
     },
     "metadata": {},
     "output_type": "display_data"
    },
    {
     "data": {
      "application/vnd.jupyter.widget-view+json": {
       "model_id": "",
       "version_major": 2,
       "version_minor": 0
      },
      "text/plain": [
       "HBox(children=(FloatProgress(value=0.0, description='Thresholds', max=5.0, style=ProgressStyle(description_wid…"
      ]
     },
     "metadata": {},
     "output_type": "display_data"
    },
    {
     "name": "stdout",
     "output_type": "stream",
     "text": [
      "Saved best model ep 6 with f score : 0.6902548302302336\n",
      "Ep 6: Train loss 2.5360 | Val f score 0.6903 with thresh 0.57, train f score 0.9254 with thresh 0.71\n"
     ]
    },
    {
     "data": {
      "application/vnd.jupyter.widget-view+json": {
       "model_id": "",
       "version_major": 2,
       "version_minor": 0
      },
      "text/plain": [
       "HBox(children=(FloatProgress(value=0.0, max=164.0), HTML(value='')))"
      ]
     },
     "metadata": {},
     "output_type": "display_data"
    },
    {
     "data": {
      "application/vnd.jupyter.widget-view+json": {
       "model_id": "",
       "version_major": 2,
       "version_minor": 0
      },
      "text/plain": [
       "HBox(children=(FloatProgress(value=0.0, description='Thresholds', max=5.0, style=ProgressStyle(description_wid…"
      ]
     },
     "metadata": {},
     "output_type": "display_data"
    },
    {
     "data": {
      "application/vnd.jupyter.widget-view+json": {
       "model_id": "",
       "version_major": 2,
       "version_minor": 0
      },
      "text/plain": [
       "HBox(children=(FloatProgress(value=0.0, max=373.0), HTML(value='')))"
      ]
     },
     "metadata": {},
     "output_type": "display_data"
    },
    {
     "data": {
      "application/vnd.jupyter.widget-view+json": {
       "model_id": "",
       "version_major": 2,
       "version_minor": 0
      },
      "text/plain": [
       "HBox(children=(FloatProgress(value=0.0, description='Thresholds', max=5.0, style=ProgressStyle(description_wid…"
      ]
     },
     "metadata": {},
     "output_type": "display_data"
    },
    {
     "name": "stdout",
     "output_type": "stream",
     "text": [
      "Saved best model ep 7 with f score : 0.6917311333923095\n",
      "Ep 7: Train loss 1.5939 | Val f score 0.6917 with thresh 0.62, train f score 0.9578 with thresh 0.71\n"
     ]
    },
    {
     "data": {
      "application/vnd.jupyter.widget-view+json": {
       "model_id": "",
       "version_major": 2,
       "version_minor": 0
      },
      "text/plain": [
       "HBox(children=(FloatProgress(value=0.0, max=164.0), HTML(value='')))"
      ]
     },
     "metadata": {},
     "output_type": "display_data"
    },
    {
     "data": {
      "application/vnd.jupyter.widget-view+json": {
       "model_id": "",
       "version_major": 2,
       "version_minor": 0
      },
      "text/plain": [
       "HBox(children=(FloatProgress(value=0.0, description='Thresholds', max=5.0, style=ProgressStyle(description_wid…"
      ]
     },
     "metadata": {},
     "output_type": "display_data"
    },
    {
     "name": "stdout",
     "output_type": "stream",
     "text": [
      "Checkpoint : saved model to data/clip/test_20ap_im_ep_8.pth\n"
     ]
    },
    {
     "data": {
      "application/vnd.jupyter.widget-view+json": {
       "model_id": "",
       "version_major": 2,
       "version_minor": 0
      },
      "text/plain": [
       "HBox(children=(FloatProgress(value=0.0, max=373.0), HTML(value='')))"
      ]
     },
     "metadata": {},
     "output_type": "display_data"
    },
    {
     "data": {
      "application/vnd.jupyter.widget-view+json": {
       "model_id": "",
       "version_major": 2,
       "version_minor": 0
      },
      "text/plain": [
       "HBox(children=(FloatProgress(value=0.0, description='Thresholds', max=5.0, style=ProgressStyle(description_wid…"
      ]
     },
     "metadata": {},
     "output_type": "display_data"
    },
    {
     "name": "stdout",
     "output_type": "stream",
     "text": [
      "Saved best model ep 8 with f score : 0.6949778787713828\n",
      "Ep 8: Train loss 1.0687 | Val f score 0.6950 with thresh 0.62, train f score 0.9756 with thresh 0.71\n"
     ]
    },
    {
     "data": {
      "application/vnd.jupyter.widget-view+json": {
       "model_id": "",
       "version_major": 2,
       "version_minor": 0
      },
      "text/plain": [
       "HBox(children=(FloatProgress(value=0.0, max=164.0), HTML(value='')))"
      ]
     },
     "metadata": {},
     "output_type": "display_data"
    },
    {
     "data": {
      "application/vnd.jupyter.widget-view+json": {
       "model_id": "",
       "version_major": 2,
       "version_minor": 0
      },
      "text/plain": [
       "HBox(children=(FloatProgress(value=0.0, description='Thresholds', max=5.0, style=ProgressStyle(description_wid…"
      ]
     },
     "metadata": {},
     "output_type": "display_data"
    },
    {
     "data": {
      "application/vnd.jupyter.widget-view+json": {
       "model_id": "",
       "version_major": 2,
       "version_minor": 0
      },
      "text/plain": [
       "HBox(children=(FloatProgress(value=0.0, max=373.0), HTML(value='')))"
      ]
     },
     "metadata": {},
     "output_type": "display_data"
    },
    {
     "data": {
      "application/vnd.jupyter.widget-view+json": {
       "model_id": "",
       "version_major": 2,
       "version_minor": 0
      },
      "text/plain": [
       "HBox(children=(FloatProgress(value=0.0, description='Thresholds', max=5.0, style=ProgressStyle(description_wid…"
      ]
     },
     "metadata": {},
     "output_type": "display_data"
    },
    {
     "name": "stdout",
     "output_type": "stream",
     "text": [
      "Ep 9: Train loss 0.9042 | Val f score 0.6937 with thresh 0.62, train f score 0.9799 with thresh 0.71\n",
      "\r"
     ]
    }
   ],
   "source": [
    "best_thr_score, thr_score_hist, losses = train(model, optimizer, lf, sched, metric_fc, tr_dl, val_dl,\n",
    "                                               n_epochs, train_df, val_df, train_tfms, val_tfms, \n",
    "                                               save_path=save_path, \n",
    "                                               prev_best_info=best_thr_score, info_history=thr_score_hist,\n",
    "                                               ep_start=ep_start, half_precision=True)\n",
    "loss_hist.append(losses)\n",
    "ep_start += n_epochs"
   ]
  },
  {
   "cell_type": "code",
   "execution_count": 18,
   "metadata": {},
   "outputs": [
    {
     "data": {
      "image/png": "[encoded data removed]",
      "text/plain": [
       "<Figure size 432x288 with 1 Axes>"
      ]
     },
     "metadata": {
      "needs_background": "light"
     },
     "output_type": "display_data"
    },
    {
     "data": {
      "image/png": "[encoded data removed]",
      "text/plain": [
       "<Figure size 432x288 with 1 Axes>"
      ]
     },
     "metadata": {
      "needs_background": "light"
     },
     "output_type": "display_data"
    }
   ],
   "source": [
    "plot_hist(thr_score_hist)"
   ]
  },
  {
   "cell_type": "markdown",
   "metadata": {},
   "source": [
    "### Train test resnet50"
   ]
  },
  {
   "cell_type": "code",
   "execution_count": 1,
   "metadata": {},
   "outputs": [],
   "source": [
    "from imports import *\n",
    "from utils import load_data\n",
    "from image_train.data import create_dl, ImageDS\n",
    "from image_train.model import EMBRes\n",
    "from arcface import ArcMarginProduct, compute_centers\n",
    "from clip_.train import *\n",
    "import matplotlib.pyplot as plt\n",
    "import clip\n",
    "np.random.seed(1337)\n",
    "device = torch.device('cuda')"
   ]
  },
  {
   "cell_type": "code",
   "execution_count": 2,
   "metadata": {},
   "outputs": [],
   "source": [
    "df, train_df, val_df, train_labels, val_labels = load_data(train_perc=0.3)"
   ]
  },
  {
   "cell_type": "code",
   "execution_count": 3,
   "metadata": {},
   "outputs": [],
   "source": [
    "# creating dataloaders\n",
    "small_images_dir_train = 'data/small_train_images_300/'\n",
    "small_images_dir_val = 'data/small_train_images_224/'\n",
    "bs = 32\n",
    "\n",
    "tr_dl = create_dl(train_df, small_images_dir_train, batch_size=bs)\n",
    "tr_test_dl = create_dl(train_df, small_images_dir_val, shuffle=False, batch_size=bs)\n",
    "val_dl = create_dl(val_df, small_images_dir_val, shuffle=False, batch_size=bs)\n",
    "#full_dl = create_dl(df, small_images_dir, shuffle=False)"
   ]
  },
  {
   "cell_type": "code",
   "execution_count": 4,
   "metadata": {},
   "outputs": [],
   "source": [
    "class CLIPImg(torch.nn.Module) :\n",
    "    def __init__(self, model_name=\"RN50\", device='cuda') :\n",
    "        super().__init__()\n",
    "        self.model = clip.load(model_name, device=device, jit=False)[0]\n",
    "    def forward(self, imgs) :\n",
    "        return self.model.encode_image(imgs)"
   ]
  },
  {
   "cell_type": "code",
   "execution_count": 5,
   "metadata": {},
   "outputs": [],
   "source": [
    "model = CLIPImg()\n",
    "train_tfms, val_tfms = get_tfms(crop=224)"
   ]
  },
  {
   "cell_type": "markdown",
   "metadata": {
    "scrolled": true
   },
   "source": [
    "centers = compute_centers(tr_test_dl, model, val_tfms, train_df)\n",
    "torch.save(centers, 'data/clip/centers_im_0.3_res50.pth')"
   ]
  },
  {
   "cell_type": "code",
   "execution_count": 6,
   "metadata": {},
   "outputs": [],
   "source": [
    "centers = torch.load('data/clip/centers_im_0.3_res50.pth')"
   ]
  },
  {
   "cell_type": "code",
   "execution_count": 7,
   "metadata": {},
   "outputs": [
    {
     "name": "stdout",
     "output_type": "stream",
     "text": [
      "Using center as wieghts\n"
     ]
    }
   ],
   "source": [
    "metric_fc = ArcMarginProduct(512, train_df['label_group'].nunique(), \n",
    "                             s=30, m=0.5, easy_margin=False, centers=centers, half=True).to(device)"
   ]
  },
  {
   "cell_type": "code",
   "execution_count": 8,
   "metadata": {},
   "outputs": [],
   "source": [
    "n_epochs, lf, params, optimizer, sched = get_hparams(tr_dl, model, metric_fc, lr=1e-5, n_epochs=10)"
   ]
  },
  {
   "cell_type": "markdown",
   "metadata": {},
   "source": [
    "for n, _ in model.named_parameters() :\n",
    "    print(n)"
   ]
  },
  {
   "cell_type": "code",
   "execution_count": 9,
   "metadata": {},
   "outputs": [],
   "source": [
    "mnp = list(model.named_parameters())\n",
    "\n",
    "param_groups = [{'params' : [p for n,p in mnp if 'embeddings' in n]}]\n",
    "\n",
    "params_names = []\n",
    "n_blocks = 5\n",
    "for i in range(n_blocks):\n",
    "    ith_block = [p for n, p in mnp if f'layer{i}.' in n]\n",
    "    ith_block_name = [n for n, p in mnp if f'layer{i}.' in n]\n",
    "    params_names += ith_block_name\n",
    "    param_groups.append({'params' : ith_block})\n",
    "    \n",
    "param_groups.append({'params' : [p for n,p in mnp if 'attnpool'in n]})\n",
    "params_names += [n for n,p in mnp if 'attnpool' in n]\n",
    "\n",
    "param_groups.append({'params' : metric_fc.parameters()})\n"
   ]
  },
  {
   "cell_type": "markdown",
   "metadata": {},
   "source": [
    "for n, p in model.named_parameters() :\n",
    "    if n not in params_names :\n",
    "        print(n)"
   ]
  },
  {
   "cell_type": "code",
   "execution_count": 10,
   "metadata": {},
   "outputs": [],
   "source": [
    "lf = nn.CrossEntropyLoss()\n",
    "optimizer = torch.optim.AdamW(param_groups, weight_decay = 1e-5)\n",
    "\n",
    "lr = list(np.linspace(1e-5,5e-4,len(param_groups)))\n",
    "\n",
    "n_epochs = 10\n",
    "sched = torch.optim.lr_scheduler.OneCycleLR(optimizer, max_lr=lr, pct_start=0.3,\n",
    "                                            total_steps=int(n_epochs * len(tr_dl)))"
   ]
  },
  {
   "cell_type": "code",
   "execution_count": 11,
   "metadata": {},
   "outputs": [],
   "source": [
    "loss_hist = []\n",
    "best_thr_score={'val': {'thr': None, 'f1': None}, 'train': {'thr': None, 'f1': None}}\n",
    "thr_score_hist=[]\n",
    "ep_start = 0\n",
    "save_path = 'data/clip/test_20ap_im_res50'"
   ]
  },
  {
   "cell_type": "code",
   "execution_count": 12,
   "metadata": {
    "scrolled": true
   },
   "outputs": [
    {
     "data": {
      "application/vnd.jupyter.widget-view+json": {
       "model_id": "",
       "version_major": 2,
       "version_minor": 0
      },
      "text/plain": [
       "HBox(children=(FloatProgress(value=0.0, max=10.0), HTML(value='')))"
      ]
     },
     "metadata": {},
     "output_type": "display_data"
    },
    {
     "data": {
      "application/vnd.jupyter.widget-view+json": {
       "model_id": "",
       "version_major": 2,
       "version_minor": 0
      },
      "text/plain": [
       "HBox(children=(FloatProgress(value=0.0, max=327.0), HTML(value='')))"
      ]
     },
     "metadata": {},
     "output_type": "display_data"
    },
    {
     "data": {
      "application/vnd.jupyter.widget-view+json": {
       "model_id": "",
       "version_major": 2,
       "version_minor": 0
      },
      "text/plain": [
       "HBox(children=(FloatProgress(value=0.0, description='Thresholds', max=10.0, style=ProgressStyle(description_wi…"
      ]
     },
     "metadata": {},
     "output_type": "display_data"
    },
    {
     "name": "stdout",
     "output_type": "stream",
     "text": [
      "Checkpoint : saved model to data/clip/test_20ap_im_res50_ep_0.pth\n"
     ]
    },
    {
     "data": {
      "application/vnd.jupyter.widget-view+json": {
       "model_id": "",
       "version_major": 2,
       "version_minor": 0
      },
      "text/plain": [
       "HBox(children=(FloatProgress(value=0.0, max=745.0), HTML(value='')))"
      ]
     },
     "metadata": {},
     "output_type": "display_data"
    },
    {
     "data": {
      "application/vnd.jupyter.widget-view+json": {
       "model_id": "",
       "version_major": 2,
       "version_minor": 0
      },
      "text/plain": [
       "HBox(children=(FloatProgress(value=0.0, description='Thresholds', max=10.0, style=ProgressStyle(description_wi…"
      ]
     },
     "metadata": {},
     "output_type": "display_data"
    },
    {
     "name": "stdout",
     "output_type": "stream",
     "text": [
      "Saved best model ep 0 with f score : 0.5923946402416435\n",
      "Ep 0: Train loss 14.7105 | Val f score 0.5924 with thresh 0.29, train f score 0.4926 with thresh 0.56\n"
     ]
    },
    {
     "data": {
      "application/vnd.jupyter.widget-view+json": {
       "model_id": "",
       "version_major": 2,
       "version_minor": 0
      },
      "text/plain": [
       "HBox(children=(FloatProgress(value=0.0, max=327.0), HTML(value='')))"
      ]
     },
     "metadata": {},
     "output_type": "display_data"
    },
    {
     "data": {
      "application/vnd.jupyter.widget-view+json": {
       "model_id": "",
       "version_major": 2,
       "version_minor": 0
      },
      "text/plain": [
       "HBox(children=(FloatProgress(value=0.0, description='Thresholds', max=5.0, style=ProgressStyle(description_wid…"
      ]
     },
     "metadata": {},
     "output_type": "display_data"
    },
    {
     "data": {
      "application/vnd.jupyter.widget-view+json": {
       "model_id": "",
       "version_major": 2,
       "version_minor": 0
      },
      "text/plain": [
       "HBox(children=(FloatProgress(value=0.0, max=745.0), HTML(value='')))"
      ]
     },
     "metadata": {},
     "output_type": "display_data"
    },
    {
     "data": {
      "application/vnd.jupyter.widget-view+json": {
       "model_id": "",
       "version_major": 2,
       "version_minor": 0
      },
      "text/plain": [
       "HBox(children=(FloatProgress(value=0.0, description='Thresholds', max=5.0, style=ProgressStyle(description_wid…"
      ]
     },
     "metadata": {},
     "output_type": "display_data"
    },
    {
     "name": "stdout",
     "output_type": "stream",
     "text": [
      "Saved best model ep 1 with f score : 0.6219290318389071\n",
      "Ep 1: Train loss 13.0619 | Val f score 0.6219 with thresh 0.34, train f score 0.4755 with thresh 0.56\n"
     ]
    },
    {
     "data": {
      "application/vnd.jupyter.widget-view+json": {
       "model_id": "",
       "version_major": 2,
       "version_minor": 0
      },
      "text/plain": [
       "HBox(children=(FloatProgress(value=0.0, max=327.0), HTML(value='')))"
      ]
     },
     "metadata": {},
     "output_type": "display_data"
    },
    {
     "data": {
      "application/vnd.jupyter.widget-view+json": {
       "model_id": "",
       "version_major": 2,
       "version_minor": 0
      },
      "text/plain": [
       "HBox(children=(FloatProgress(value=0.0, description='Thresholds', max=5.0, style=ProgressStyle(description_wid…"
      ]
     },
     "metadata": {},
     "output_type": "display_data"
    },
    {
     "name": "stdout",
     "output_type": "stream",
     "text": [
      "Checkpoint : saved model to data/clip/test_20ap_im_res50_ep_2.pth\n"
     ]
    },
    {
     "data": {
      "application/vnd.jupyter.widget-view+json": {
       "model_id": "",
       "version_major": 2,
       "version_minor": 0
      },
      "text/plain": [
       "HBox(children=(FloatProgress(value=0.0, max=745.0), HTML(value='')))"
      ]
     },
     "metadata": {},
     "output_type": "display_data"
    },
    {
     "data": {
      "application/vnd.jupyter.widget-view+json": {
       "model_id": "",
       "version_major": 2,
       "version_minor": 0
      },
      "text/plain": [
       "HBox(children=(FloatProgress(value=0.0, description='Thresholds', max=5.0, style=ProgressStyle(description_wid…"
      ]
     },
     "metadata": {},
     "output_type": "display_data"
    },
    {
     "name": "stdout",
     "output_type": "stream",
     "text": [
      "Saved best model ep 2 with f score : 0.6336896602294358\n",
      "Ep 2: Train loss 11.6626 | Val f score 0.6337 with thresh 0.44, train f score 0.5413 with thresh 0.66\n"
     ]
    },
    {
     "data": {
      "application/vnd.jupyter.widget-view+json": {
       "model_id": "",
       "version_major": 2,
       "version_minor": 0
      },
      "text/plain": [
       "HBox(children=(FloatProgress(value=0.0, max=327.0), HTML(value='')))"
      ]
     },
     "metadata": {},
     "output_type": "display_data"
    },
    {
     "data": {
      "application/vnd.jupyter.widget-view+json": {
       "model_id": "",
       "version_major": 2,
       "version_minor": 0
      },
      "text/plain": [
       "HBox(children=(FloatProgress(value=0.0, description='Thresholds', max=5.0, style=ProgressStyle(description_wid…"
      ]
     },
     "metadata": {},
     "output_type": "display_data"
    },
    {
     "data": {
      "application/vnd.jupyter.widget-view+json": {
       "model_id": "",
       "version_major": 2,
       "version_minor": 0
      },
      "text/plain": [
       "HBox(children=(FloatProgress(value=0.0, max=745.0), HTML(value='')))"
      ]
     },
     "metadata": {},
     "output_type": "display_data"
    },
    {
     "data": {
      "application/vnd.jupyter.widget-view+json": {
       "model_id": "",
       "version_major": 2,
       "version_minor": 0
      },
      "text/plain": [
       "HBox(children=(FloatProgress(value=0.0, description='Thresholds', max=5.0, style=ProgressStyle(description_wid…"
      ]
     },
     "metadata": {},
     "output_type": "display_data"
    },
    {
     "name": "stdout",
     "output_type": "stream",
     "text": [
      "Saved best model ep 3 with f score : 0.6588727139419738\n",
      "Ep 3: Train loss 9.4484 | Val f score 0.6589 with thresh 0.49, train f score 0.6547 with thresh 0.76\n"
     ]
    },
    {
     "data": {
      "application/vnd.jupyter.widget-view+json": {
       "model_id": "",
       "version_major": 2,
       "version_minor": 0
      },
      "text/plain": [
       "HBox(children=(FloatProgress(value=0.0, max=327.0), HTML(value='')))"
      ]
     },
     "metadata": {},
     "output_type": "display_data"
    },
    {
     "data": {
      "application/vnd.jupyter.widget-view+json": {
       "model_id": "",
       "version_major": 2,
       "version_minor": 0
      },
      "text/plain": [
       "HBox(children=(FloatProgress(value=0.0, description='Thresholds', max=5.0, style=ProgressStyle(description_wid…"
      ]
     },
     "metadata": {},
     "output_type": "display_data"
    },
    {
     "name": "stdout",
     "output_type": "stream",
     "text": [
      "Checkpoint : saved model to data/clip/test_20ap_im_res50_ep_4.pth\n"
     ]
    },
    {
     "data": {
      "application/vnd.jupyter.widget-view+json": {
       "model_id": "",
       "version_major": 2,
       "version_minor": 0
      },
      "text/plain": [
       "HBox(children=(FloatProgress(value=0.0, max=745.0), HTML(value='')))"
      ]
     },
     "metadata": {},
     "output_type": "display_data"
    },
    {
     "data": {
      "application/vnd.jupyter.widget-view+json": {
       "model_id": "",
       "version_major": 2,
       "version_minor": 0
      },
      "text/plain": [
       "HBox(children=(FloatProgress(value=0.0, description='Thresholds', max=5.0, style=ProgressStyle(description_wid…"
      ]
     },
     "metadata": {},
     "output_type": "display_data"
    },
    {
     "name": "stdout",
     "output_type": "stream",
     "text": [
      "Saved best model ep 4 with f score : 0.6766706201743063\n",
      "Ep 4: Train loss 7.0888 | Val f score 0.6767 with thresh 0.59, train f score 0.7428 with thresh 0.76\n"
     ]
    },
    {
     "data": {
      "application/vnd.jupyter.widget-view+json": {
       "model_id": "",
       "version_major": 2,
       "version_minor": 0
      },
      "text/plain": [
       "HBox(children=(FloatProgress(value=0.0, max=327.0), HTML(value='')))"
      ]
     },
     "metadata": {},
     "output_type": "display_data"
    },
    {
     "data": {
      "application/vnd.jupyter.widget-view+json": {
       "model_id": "",
       "version_major": 2,
       "version_minor": 0
      },
      "text/plain": [
       "HBox(children=(FloatProgress(value=0.0, description='Thresholds', max=5.0, style=ProgressStyle(description_wid…"
      ]
     },
     "metadata": {},
     "output_type": "display_data"
    },
    {
     "data": {
      "application/vnd.jupyter.widget-view+json": {
       "model_id": "",
       "version_major": 2,
       "version_minor": 0
      },
      "text/plain": [
       "HBox(children=(FloatProgress(value=0.0, max=745.0), HTML(value='')))"
      ]
     },
     "metadata": {},
     "output_type": "display_data"
    },
    {
     "data": {
      "application/vnd.jupyter.widget-view+json": {
       "model_id": "",
       "version_major": 2,
       "version_minor": 0
      },
      "text/plain": [
       "HBox(children=(FloatProgress(value=0.0, description='Thresholds', max=5.0, style=ProgressStyle(description_wid…"
      ]
     },
     "metadata": {},
     "output_type": "display_data"
    },
    {
     "name": "stdout",
     "output_type": "stream",
     "text": [
      "Saved best model ep 5 with f score : 0.6884154413996265\n",
      "Ep 5: Train loss 5.1298 | Val f score 0.6884 with thresh 0.59, train f score 0.8078 with thresh 0.81\n"
     ]
    },
    {
     "data": {
      "application/vnd.jupyter.widget-view+json": {
       "model_id": "",
       "version_major": 2,
       "version_minor": 0
      },
      "text/plain": [
       "HBox(children=(FloatProgress(value=0.0, max=327.0), HTML(value='')))"
      ]
     },
     "metadata": {},
     "output_type": "display_data"
    },
    {
     "data": {
      "application/vnd.jupyter.widget-view+json": {
       "model_id": "",
       "version_major": 2,
       "version_minor": 0
      },
      "text/plain": [
       "HBox(children=(FloatProgress(value=0.0, description='Thresholds', max=5.0, style=ProgressStyle(description_wid…"
      ]
     },
     "metadata": {},
     "output_type": "display_data"
    },
    {
     "name": "stdout",
     "output_type": "stream",
     "text": [
      "Checkpoint : saved model to data/clip/test_20ap_im_res50_ep_6.pth\n"
     ]
    },
    {
     "data": {
      "application/vnd.jupyter.widget-view+json": {
       "model_id": "",
       "version_major": 2,
       "version_minor": 0
      },
      "text/plain": [
       "HBox(children=(FloatProgress(value=0.0, max=745.0), HTML(value='')))"
      ]
     },
     "metadata": {},
     "output_type": "display_data"
    },
    {
     "data": {
      "application/vnd.jupyter.widget-view+json": {
       "model_id": "",
       "version_major": 2,
       "version_minor": 0
      },
      "text/plain": [
       "HBox(children=(FloatProgress(value=0.0, description='Thresholds', max=5.0, style=ProgressStyle(description_wid…"
      ]
     },
     "metadata": {},
     "output_type": "display_data"
    },
    {
     "name": "stdout",
     "output_type": "stream",
     "text": [
      "Saved best model ep 6 with f score : 0.6937082190002374\n",
      "Ep 6: Train loss 3.3783 | Val f score 0.6937 with thresh 0.64, train f score 0.8636 with thresh 0.81\n"
     ]
    },
    {
     "data": {
      "application/vnd.jupyter.widget-view+json": {
       "model_id": "",
       "version_major": 2,
       "version_minor": 0
      },
      "text/plain": [
       "HBox(children=(FloatProgress(value=0.0, max=327.0), HTML(value='')))"
      ]
     },
     "metadata": {},
     "output_type": "display_data"
    },
    {
     "data": {
      "application/vnd.jupyter.widget-view+json": {
       "model_id": "",
       "version_major": 2,
       "version_minor": 0
      },
      "text/plain": [
       "HBox(children=(FloatProgress(value=0.0, description='Thresholds', max=5.0, style=ProgressStyle(description_wid…"
      ]
     },
     "metadata": {},
     "output_type": "display_data"
    },
    {
     "data": {
      "application/vnd.jupyter.widget-view+json": {
       "model_id": "",
       "version_major": 2,
       "version_minor": 0
      },
      "text/plain": [
       "HBox(children=(FloatProgress(value=0.0, max=745.0), HTML(value='')))"
      ]
     },
     "metadata": {},
     "output_type": "display_data"
    },
    {
     "data": {
      "application/vnd.jupyter.widget-view+json": {
       "model_id": "",
       "version_major": 2,
       "version_minor": 0
      },
      "text/plain": [
       "HBox(children=(FloatProgress(value=0.0, description='Thresholds', max=5.0, style=ProgressStyle(description_wid…"
      ]
     },
     "metadata": {},
     "output_type": "display_data"
    },
    {
     "name": "stdout",
     "output_type": "stream",
     "text": [
      "Ep 7: Train loss 2.1293 | Val f score 0.6777 with thresh 0.64, train f score 0.9101 with thresh 0.86\n"
     ]
    },
    {
     "data": {
      "application/vnd.jupyter.widget-view+json": {
       "model_id": "",
       "version_major": 2,
       "version_minor": 0
      },
      "text/plain": [
       "HBox(children=(FloatProgress(value=0.0, max=327.0), HTML(value='')))"
      ]
     },
     "metadata": {},
     "output_type": "display_data"
    },
    {
     "data": {
      "application/vnd.jupyter.widget-view+json": {
       "model_id": "",
       "version_major": 2,
       "version_minor": 0
      },
      "text/plain": [
       "HBox(children=(FloatProgress(value=0.0, description='Thresholds', max=5.0, style=ProgressStyle(description_wid…"
      ]
     },
     "metadata": {},
     "output_type": "display_data"
    },
    {
     "name": "stdout",
     "output_type": "stream",
     "text": [
      "Checkpoint : saved model to data/clip/test_20ap_im_res50_ep_8.pth\n"
     ]
    },
    {
     "data": {
      "application/vnd.jupyter.widget-view+json": {
       "model_id": "",
       "version_major": 2,
       "version_minor": 0
      },
      "text/plain": [
       "HBox(children=(FloatProgress(value=0.0, max=745.0), HTML(value='')))"
      ]
     },
     "metadata": {},
     "output_type": "display_data"
    },
    {
     "data": {
      "application/vnd.jupyter.widget-view+json": {
       "model_id": "",
       "version_major": 2,
       "version_minor": 0
      },
      "text/plain": [
       "HBox(children=(FloatProgress(value=0.0, description='Thresholds', max=5.0, style=ProgressStyle(description_wid…"
      ]
     },
     "metadata": {},
     "output_type": "display_data"
    },
    {
     "name": "stdout",
     "output_type": "stream",
     "text": [
      "Saved best model ep 8 with f score : 0.7024859165653851\n",
      "Ep 8: Train loss 1.3773 | Val f score 0.7025 with thresh 0.69, train f score 0.9408 with thresh 0.81\n"
     ]
    },
    {
     "data": {
      "application/vnd.jupyter.widget-view+json": {
       "model_id": "",
       "version_major": 2,
       "version_minor": 0
      },
      "text/plain": [
       "HBox(children=(FloatProgress(value=0.0, max=327.0), HTML(value='')))"
      ]
     },
     "metadata": {},
     "output_type": "display_data"
    },
    {
     "data": {
      "application/vnd.jupyter.widget-view+json": {
       "model_id": "",
       "version_major": 2,
       "version_minor": 0
      },
      "text/plain": [
       "HBox(children=(FloatProgress(value=0.0, description='Thresholds', max=5.0, style=ProgressStyle(description_wid…"
      ]
     },
     "metadata": {},
     "output_type": "display_data"
    },
    {
     "data": {
      "application/vnd.jupyter.widget-view+json": {
       "model_id": "",
       "version_major": 2,
       "version_minor": 0
      },
      "text/plain": [
       "HBox(children=(FloatProgress(value=0.0, max=745.0), HTML(value='')))"
      ]
     },
     "metadata": {},
     "output_type": "display_data"
    },
    {
     "data": {
      "application/vnd.jupyter.widget-view+json": {
       "model_id": "",
       "version_major": 2,
       "version_minor": 0
      },
      "text/plain": [
       "HBox(children=(FloatProgress(value=0.0, description='Thresholds', max=5.0, style=ProgressStyle(description_wid…"
      ]
     },
     "metadata": {},
     "output_type": "display_data"
    },
    {
     "name": "stdout",
     "output_type": "stream",
     "text": [
      "Ep 9: Train loss 1.0794 | Val f score 0.7024 with thresh 0.69, train f score 0.9532 with thresh 0.86\n",
      "\r"
     ]
    }
   ],
   "source": [
    "best_thr_score, thr_score_hist, losses = train(model, optimizer, lf, sched, metric_fc, tr_dl, val_dl,\n",
    "                                               n_epochs, train_df, val_df, train_tfms, val_tfms, \n",
    "                                               save_path=save_path, \n",
    "                                               prev_best_info=best_thr_score, info_history=thr_score_hist,\n",
    "                                               ep_start=ep_start, half_precision=True)\n",
    "loss_hist.append(losses)\n",
    "ep_start += n_epochs"
   ]
  },
  {
   "cell_type": "code",
   "execution_count": 13,
   "metadata": {},
   "outputs": [
    {
     "data": {
      "image/png": "[encoded data removed]",
      "text/plain": [
       "<Figure size 432x288 with 1 Axes>"
      ]
     },
     "metadata": {
      "needs_background": "light"
     },
     "output_type": "display_data"
    },
    {
     "data": {
      "image/png": "[encoded data removed]",
      "text/plain": [
       "<Figure size 432x288 with 1 Axes>"
      ]
     },
     "metadata": {
      "needs_background": "light"
     },
     "output_type": "display_data"
    }
   ],
   "source": [
    "plot_hist(thr_score_hist)"
   ]
  },
  {
   "cell_type": "code",
   "execution_count": 13,
   "metadata": {},
   "outputs": [],
   "source": [
    "torch.save(metric_fc, 'data/image_models/arcmarg_14ep_0.3.pth')"
   ]
  },
  {
   "cell_type": "code",
   "execution_count": 10,
   "metadata": {},
   "outputs": [],
   "source": [
    "def plot_hist(history) : \n",
    "    train_scores = [info['train']['f1'] for info in history]\n",
    "    train_thr = [info['train']['thr'] for info in history]\n",
    "    val_scores = [info['val']['f1'] for info in history]\n",
    "    val_thr = [info['val']['thr'] for info in history]\n",
    "    x = range(len(train_scores))\n",
    "    plt.plot(x, val_scores, label='val_score')\n",
    "    plt.plot(x, train_scores, label='train_score')\n",
    "    plt.legend()\n",
    "    plt.show()\n",
    "    plt.plot(x, val_thr, label='val_thr')\n",
    "    plt.plot(x, train_thr, label='train_thr')\n",
    "    plt.legend()\n",
    "    plt.show()"
   ]
  },
  {
   "cell_type": "code",
   "execution_count": 11,
   "metadata": {},
   "outputs": [
    {
     "data": {
      "image/png": "[encoded data removed]",
      "text/plain": [
       "<Figure size 432x288 with 1 Axes>"
      ]
     },
     "metadata": {
      "needs_background": "light"
     },
     "output_type": "display_data"
    },
    {
     "data": {
      "image/png": "[encoded data removed]",
      "text/plain": [
       "<Figure size 432x288 with 1 Axes>"
      ]
     },
     "metadata": {
      "needs_background": "light"
     },
     "output_type": "display_data"
    }
   ],
   "source": [
    "plot_hist(thr_score_hist)"
   ]
  },
  {
   "cell_type": "markdown",
   "metadata": {},
   "source": [
    "## Traduction indonesian english"
   ]
  },
  {
   "cell_type": "code",
   "execution_count": 1,
   "metadata": {},
   "outputs": [],
   "source": [
    "from imports import *"
   ]
  },
  {
   "cell_type": "code",
   "execution_count": 2,
   "metadata": {},
   "outputs": [],
   "source": [
    "def text_to_device(text, device):\n",
    "    return {'input_ids' : text['input_ids'].to(device),\n",
    "            'attention_mask' : text['attention_mask'].to(device)}"
   ]
  },
  {
   "cell_type": "code",
   "execution_count": 3,
   "metadata": {},
   "outputs": [],
   "source": [
    "df = pd.read_csv('data/train.csv')"
   ]
  },
  {
   "cell_type": "code",
   "execution_count": 4,
   "metadata": {},
   "outputs": [
    {
     "data": {
      "text/plain": [
       "MarianMTModel(\n",
       "  (model): MarianModel(\n",
       "    (shared): Embedding(54796, 512, padding_idx=54795)\n",
       "    (encoder): MarianEncoder(\n",
       "      (embed_tokens): Embedding(54796, 512, padding_idx=54795)\n",
       "      (embed_positions): MarianSinusoidalPositionalEmbedding(512, 512)\n",
       "      (layers): ModuleList(\n",
       "        (0): MarianEncoderLayer(\n",
       "          (self_attn): MarianAttention(\n",
       "            (k_proj): Linear(in_features=512, out_features=512, bias=True)\n",
       "            (v_proj): Linear(in_features=512, out_features=512, bias=True)\n",
       "            (q_proj): Linear(in_features=512, out_features=512, bias=True)\n",
       "            (out_proj): Linear(in_features=512, out_features=512, bias=True)\n",
       "          )\n",
       "          (self_attn_layer_norm): LayerNorm((512,), eps=1e-05, elementwise_affine=True)\n",
       "          (fc1): Linear(in_features=512, out_features=2048, bias=True)\n",
       "          (fc2): Linear(in_features=2048, out_features=512, bias=True)\n",
       "          (final_layer_norm): LayerNorm((512,), eps=1e-05, elementwise_affine=True)\n",
       "        )\n",
       "        (1): MarianEncoderLayer(\n",
       "          (self_attn): MarianAttention(\n",
       "            (k_proj): Linear(in_features=512, out_features=512, bias=True)\n",
       "            (v_proj): Linear(in_features=512, out_features=512, bias=True)\n",
       "            (q_proj): Linear(in_features=512, out_features=512, bias=True)\n",
       "            (out_proj): Linear(in_features=512, out_features=512, bias=True)\n",
       "          )\n",
       "          (self_attn_layer_norm): LayerNorm((512,), eps=1e-05, elementwise_affine=True)\n",
       "          (fc1): Linear(in_features=512, out_features=2048, bias=True)\n",
       "          (fc2): Linear(in_features=2048, out_features=512, bias=True)\n",
       "          (final_layer_norm): LayerNorm((512,), eps=1e-05, elementwise_affine=True)\n",
       "        )\n",
       "        (2): MarianEncoderLayer(\n",
       "          (self_attn): MarianAttention(\n",
       "            (k_proj): Linear(in_features=512, out_features=512, bias=True)\n",
       "            (v_proj): Linear(in_features=512, out_features=512, bias=True)\n",
       "            (q_proj): Linear(in_features=512, out_features=512, bias=True)\n",
       "            (out_proj): Linear(in_features=512, out_features=512, bias=True)\n",
       "          )\n",
       "          (self_attn_layer_norm): LayerNorm((512,), eps=1e-05, elementwise_affine=True)\n",
       "          (fc1): Linear(in_features=512, out_features=2048, bias=True)\n",
       "          (fc2): Linear(in_features=2048, out_features=512, bias=True)\n",
       "          (final_layer_norm): LayerNorm((512,), eps=1e-05, elementwise_affine=True)\n",
       "        )\n",
       "        (3): MarianEncoderLayer(\n",
       "          (self_attn): MarianAttention(\n",
       "            (k_proj): Linear(in_features=512, out_features=512, bias=True)\n",
       "            (v_proj): Linear(in_features=512, out_features=512, bias=True)\n",
       "            (q_proj): Linear(in_features=512, out_features=512, bias=True)\n",
       "            (out_proj): Linear(in_features=512, out_features=512, bias=True)\n",
       "          )\n",
       "          (self_attn_layer_norm): LayerNorm((512,), eps=1e-05, elementwise_affine=True)\n",
       "          (fc1): Linear(in_features=512, out_features=2048, bias=True)\n",
       "          (fc2): Linear(in_features=2048, out_features=512, bias=True)\n",
       "          (final_layer_norm): LayerNorm((512,), eps=1e-05, elementwise_affine=True)\n",
       "        )\n",
       "        (4): MarianEncoderLayer(\n",
       "          (self_attn): MarianAttention(\n",
       "            (k_proj): Linear(in_features=512, out_features=512, bias=True)\n",
       "            (v_proj): Linear(in_features=512, out_features=512, bias=True)\n",
       "            (q_proj): Linear(in_features=512, out_features=512, bias=True)\n",
       "            (out_proj): Linear(in_features=512, out_features=512, bias=True)\n",
       "          )\n",
       "          (self_attn_layer_norm): LayerNorm((512,), eps=1e-05, elementwise_affine=True)\n",
       "          (fc1): Linear(in_features=512, out_features=2048, bias=True)\n",
       "          (fc2): Linear(in_features=2048, out_features=512, bias=True)\n",
       "          (final_layer_norm): LayerNorm((512,), eps=1e-05, elementwise_affine=True)\n",
       "        )\n",
       "        (5): MarianEncoderLayer(\n",
       "          (self_attn): MarianAttention(\n",
       "            (k_proj): Linear(in_features=512, out_features=512, bias=True)\n",
       "            (v_proj): Linear(in_features=512, out_features=512, bias=True)\n",
       "            (q_proj): Linear(in_features=512, out_features=512, bias=True)\n",
       "            (out_proj): Linear(in_features=512, out_features=512, bias=True)\n",
       "          )\n",
       "          (self_attn_layer_norm): LayerNorm((512,), eps=1e-05, elementwise_affine=True)\n",
       "          (fc1): Linear(in_features=512, out_features=2048, bias=True)\n",
       "          (fc2): Linear(in_features=2048, out_features=512, bias=True)\n",
       "          (final_layer_norm): LayerNorm((512,), eps=1e-05, elementwise_affine=True)\n",
       "        )\n",
       "      )\n",
       "    )\n",
       "    (decoder): MarianDecoder(\n",
       "      (embed_tokens): Embedding(54796, 512, padding_idx=54795)\n",
       "      (embed_positions): MarianSinusoidalPositionalEmbedding(512, 512)\n",
       "      (layers): ModuleList(\n",
       "        (0): MarianDecoderLayer(\n",
       "          (self_attn): MarianAttention(\n",
       "            (k_proj): Linear(in_features=512, out_features=512, bias=True)\n",
       "            (v_proj): Linear(in_features=512, out_features=512, bias=True)\n",
       "            (q_proj): Linear(in_features=512, out_features=512, bias=True)\n",
       "            (out_proj): Linear(in_features=512, out_features=512, bias=True)\n",
       "          )\n",
       "          (self_attn_layer_norm): LayerNorm((512,), eps=1e-05, elementwise_affine=True)\n",
       "          (encoder_attn): MarianAttention(\n",
       "            (k_proj): Linear(in_features=512, out_features=512, bias=True)\n",
       "            (v_proj): Linear(in_features=512, out_features=512, bias=True)\n",
       "            (q_proj): Linear(in_features=512, out_features=512, bias=True)\n",
       "            (out_proj): Linear(in_features=512, out_features=512, bias=True)\n",
       "          )\n",
       "          (encoder_attn_layer_norm): LayerNorm((512,), eps=1e-05, elementwise_affine=True)\n",
       "          (fc1): Linear(in_features=512, out_features=2048, bias=True)\n",
       "          (fc2): Linear(in_features=2048, out_features=512, bias=True)\n",
       "          (final_layer_norm): LayerNorm((512,), eps=1e-05, elementwise_affine=True)\n",
       "        )\n",
       "        (1): MarianDecoderLayer(\n",
       "          (self_attn): MarianAttention(\n",
       "            (k_proj): Linear(in_features=512, out_features=512, bias=True)\n",
       "            (v_proj): Linear(in_features=512, out_features=512, bias=True)\n",
       "            (q_proj): Linear(in_features=512, out_features=512, bias=True)\n",
       "            (out_proj): Linear(in_features=512, out_features=512, bias=True)\n",
       "          )\n",
       "          (self_attn_layer_norm): LayerNorm((512,), eps=1e-05, elementwise_affine=True)\n",
       "          (encoder_attn): MarianAttention(\n",
       "            (k_proj): Linear(in_features=512, out_features=512, bias=True)\n",
       "            (v_proj): Linear(in_features=512, out_features=512, bias=True)\n",
       "            (q_proj): Linear(in_features=512, out_features=512, bias=True)\n",
       "            (out_proj): Linear(in_features=512, out_features=512, bias=True)\n",
       "          )\n",
       "          (encoder_attn_layer_norm): LayerNorm((512,), eps=1e-05, elementwise_affine=True)\n",
       "          (fc1): Linear(in_features=512, out_features=2048, bias=True)\n",
       "          (fc2): Linear(in_features=2048, out_features=512, bias=True)\n",
       "          (final_layer_norm): LayerNorm((512,), eps=1e-05, elementwise_affine=True)\n",
       "        )\n",
       "        (2): MarianDecoderLayer(\n",
       "          (self_attn): MarianAttention(\n",
       "            (k_proj): Linear(in_features=512, out_features=512, bias=True)\n",
       "            (v_proj): Linear(in_features=512, out_features=512, bias=True)\n",
       "            (q_proj): Linear(in_features=512, out_features=512, bias=True)\n",
       "            (out_proj): Linear(in_features=512, out_features=512, bias=True)\n",
       "          )\n",
       "          (self_attn_layer_norm): LayerNorm((512,), eps=1e-05, elementwise_affine=True)\n",
       "          (encoder_attn): MarianAttention(\n",
       "            (k_proj): Linear(in_features=512, out_features=512, bias=True)\n",
       "            (v_proj): Linear(in_features=512, out_features=512, bias=True)\n",
       "            (q_proj): Linear(in_features=512, out_features=512, bias=True)\n",
       "            (out_proj): Linear(in_features=512, out_features=512, bias=True)\n",
       "          )\n",
       "          (encoder_attn_layer_norm): LayerNorm((512,), eps=1e-05, elementwise_affine=True)\n",
       "          (fc1): Linear(in_features=512, out_features=2048, bias=True)\n",
       "          (fc2): Linear(in_features=2048, out_features=512, bias=True)\n",
       "          (final_layer_norm): LayerNorm((512,), eps=1e-05, elementwise_affine=True)\n",
       "        )\n",
       "        (3): MarianDecoderLayer(\n",
       "          (self_attn): MarianAttention(\n",
       "            (k_proj): Linear(in_features=512, out_features=512, bias=True)\n",
       "            (v_proj): Linear(in_features=512, out_features=512, bias=True)\n",
       "            (q_proj): Linear(in_features=512, out_features=512, bias=True)\n",
       "            (out_proj): Linear(in_features=512, out_features=512, bias=True)\n",
       "          )\n",
       "          (self_attn_layer_norm): LayerNorm((512,), eps=1e-05, elementwise_affine=True)\n",
       "          (encoder_attn): MarianAttention(\n",
       "            (k_proj): Linear(in_features=512, out_features=512, bias=True)\n",
       "            (v_proj): Linear(in_features=512, out_features=512, bias=True)\n",
       "            (q_proj): Linear(in_features=512, out_features=512, bias=True)\n",
       "            (out_proj): Linear(in_features=512, out_features=512, bias=True)\n",
       "          )\n",
       "          (encoder_attn_layer_norm): LayerNorm((512,), eps=1e-05, elementwise_affine=True)\n",
       "          (fc1): Linear(in_features=512, out_features=2048, bias=True)\n",
       "          (fc2): Linear(in_features=2048, out_features=512, bias=True)\n",
       "          (final_layer_norm): LayerNorm((512,), eps=1e-05, elementwise_affine=True)\n",
       "        )\n",
       "        (4): MarianDecoderLayer(\n",
       "          (self_attn): MarianAttention(\n",
       "            (k_proj): Linear(in_features=512, out_features=512, bias=True)\n",
       "            (v_proj): Linear(in_features=512, out_features=512, bias=True)\n",
       "            (q_proj): Linear(in_features=512, out_features=512, bias=True)\n",
       "            (out_proj): Linear(in_features=512, out_features=512, bias=True)\n",
       "          )\n",
       "          (self_attn_layer_norm): LayerNorm((512,), eps=1e-05, elementwise_affine=True)\n",
       "          (encoder_attn): MarianAttention(\n",
       "            (k_proj): Linear(in_features=512, out_features=512, bias=True)\n",
       "            (v_proj): Linear(in_features=512, out_features=512, bias=True)\n",
       "            (q_proj): Linear(in_features=512, out_features=512, bias=True)\n",
       "            (out_proj): Linear(in_features=512, out_features=512, bias=True)\n",
       "          )\n",
       "          (encoder_attn_layer_norm): LayerNorm((512,), eps=1e-05, elementwise_affine=True)\n",
       "          (fc1): Linear(in_features=512, out_features=2048, bias=True)\n",
       "          (fc2): Linear(in_features=2048, out_features=512, bias=True)\n",
       "          (final_layer_norm): LayerNorm((512,), eps=1e-05, elementwise_affine=True)\n",
       "        )\n",
       "        (5): MarianDecoderLayer(\n",
       "          (self_attn): MarianAttention(\n",
       "            (k_proj): Linear(in_features=512, out_features=512, bias=True)\n",
       "            (v_proj): Linear(in_features=512, out_features=512, bias=True)\n",
       "            (q_proj): Linear(in_features=512, out_features=512, bias=True)\n",
       "            (out_proj): Linear(in_features=512, out_features=512, bias=True)\n",
       "          )\n",
       "          (self_attn_layer_norm): LayerNorm((512,), eps=1e-05, elementwise_affine=True)\n",
       "          (encoder_attn): MarianAttention(\n",
       "            (k_proj): Linear(in_features=512, out_features=512, bias=True)\n",
       "            (v_proj): Linear(in_features=512, out_features=512, bias=True)\n",
       "            (q_proj): Linear(in_features=512, out_features=512, bias=True)\n",
       "            (out_proj): Linear(in_features=512, out_features=512, bias=True)\n",
       "          )\n",
       "          (encoder_attn_layer_norm): LayerNorm((512,), eps=1e-05, elementwise_affine=True)\n",
       "          (fc1): Linear(in_features=512, out_features=2048, bias=True)\n",
       "          (fc2): Linear(in_features=2048, out_features=512, bias=True)\n",
       "          (final_layer_norm): LayerNorm((512,), eps=1e-05, elementwise_affine=True)\n",
       "        )\n",
       "      )\n",
       "    )\n",
       "  )\n",
       "  (lm_head): Linear(in_features=512, out_features=54796, bias=False)\n",
       ")"
      ]
     },
     "execution_count": 4,
     "metadata": {},
     "output_type": "execute_result"
    }
   ],
   "source": [
    "from transformers import AutoTokenizer, AutoModelForSeq2SeqLM, pipeline\n",
    "\n",
    "tokenizer = AutoTokenizer.from_pretrained(\"data/translation\")\n",
    "txt_model = AutoModelForSeq2SeqLM.from_pretrained(\"data/translation\")\n",
    "\n",
    "txt_model.cuda()\n",
    "txt_model.eval()"
   ]
  },
  {
   "cell_type": "code",
   "execution_count": 5,
   "metadata": {},
   "outputs": [
    {
     "name": "stdout",
     "output_type": "stream",
     "text": [
      "translating texts\n"
     ]
    },
    {
     "data": {
      "application/vnd.jupyter.widget-view+json": {
       "model_id": "8e05176723194a809053109c1b6502ed",
       "version_major": 2,
       "version_minor": 0
      },
      "text/plain": [
       "HBox(children=(FloatProgress(value=0.0, max=2141.0), HTML(value='')))"
      ]
     },
     "metadata": {},
     "output_type": "display_data"
    },
    {
     "name": "stdout",
     "output_type": "stream",
     "text": [
      "torch.Size([16, 49])\n",
      "torch.Size([16, 45])\n",
      "torch.Size([16, 40])\n",
      "torch.Size([16, 35])\n",
      "torch.Size([16, 49])\n",
      "torch.Size([16, 59])\n",
      "torch.Size([16, 36])\n",
      "torch.Size([16, 41])\n",
      "torch.Size([16, 34])\n",
      "torch.Size([16, 51])\n",
      "torch.Size([16, 34])\n",
      "torch.Size([16, 30])\n",
      "torch.Size([16, 34])\n",
      "torch.Size([16, 48])\n",
      "torch.Size([16, 34])\n",
      "torch.Size([16, 33])\n",
      "torch.Size([16, 55])\n",
      "torch.Size([16, 78])\n",
      "torch.Size([16, 50])\n",
      "torch.Size([16, 43])\n",
      "torch.Size([16, 37])\n",
      "torch.Size([16, 49])\n",
      "torch.Size([16, 51])\n",
      "torch.Size([16, 55])\n",
      "torch.Size([16, 36])\n",
      "torch.Size([16, 90])\n",
      "torch.Size([16, 47])\n",
      "torch.Size([16, 46])\n",
      "torch.Size([16, 39])\n",
      "torch.Size([16, 40])\n",
      "torch.Size([16, 33])\n",
      "torch.Size([16, 38])\n",
      "torch.Size([16, 42])\n",
      "torch.Size([16, 34])\n",
      "torch.Size([16, 54])\n",
      "torch.Size([16, 48])\n",
      "torch.Size([16, 52])\n",
      "torch.Size([16, 38])\n",
      "torch.Size([16, 95])\n",
      "torch.Size([16, 79])\n",
      "torch.Size([16, 79])\n",
      "torch.Size([16, 54])\n",
      "torch.Size([16, 73])\n",
      "torch.Size([16, 35])\n",
      "torch.Size([16, 46])\n",
      "torch.Size([16, 42])\n",
      "torch.Size([16, 34])\n",
      "torch.Size([16, 45])\n",
      "torch.Size([16, 60])\n",
      "torch.Size([16, 51])\n",
      "torch.Size([16, 38])\n",
      "torch.Size([16, 73])\n",
      "torch.Size([16, 30])\n",
      "torch.Size([16, 67])\n",
      "torch.Size([16, 33])\n",
      "torch.Size([16, 54])\n",
      "torch.Size([16, 80])\n",
      "torch.Size([16, 41])\n",
      "torch.Size([16, 65])\n",
      "torch.Size([16, 27])\n",
      "torch.Size([16, 63])\n",
      "torch.Size([16, 30])\n",
      "torch.Size([16, 37])\n",
      "torch.Size([16, 49])\n",
      "torch.Size([16, 28])\n",
      "torch.Size([16, 50])\n",
      "torch.Size([16, 48])\n",
      "torch.Size([16, 51])\n",
      "torch.Size([16, 27])\n",
      "torch.Size([16, 44])\n",
      "torch.Size([16, 34])\n",
      "torch.Size([16, 30])\n",
      "torch.Size([16, 28])\n",
      "torch.Size([16, 35])\n",
      "torch.Size([16, 49])\n",
      "torch.Size([16, 44])\n",
      "torch.Size([16, 51])\n",
      "torch.Size([16, 53])\n",
      "torch.Size([16, 47])\n",
      "torch.Size([16, 36])\n",
      "torch.Size([16, 45])\n",
      "torch.Size([16, 28])\n",
      "torch.Size([16, 31])\n",
      "torch.Size([16, 31])\n",
      "torch.Size([16, 32])\n",
      "torch.Size([16, 51])\n",
      "torch.Size([16, 36])\n",
      "torch.Size([16, 34])\n",
      "torch.Size([16, 42])\n",
      "torch.Size([16, 54])\n",
      "torch.Size([16, 56])\n",
      "torch.Size([16, 49])\n",
      "torch.Size([16, 42])\n",
      "torch.Size([16, 48])\n",
      "torch.Size([16, 45])\n",
      "torch.Size([16, 41])\n",
      "torch.Size([16, 36])\n",
      "torch.Size([16, 34])\n",
      "torch.Size([16, 43])\n",
      "torch.Size([16, 49])\n",
      "torch.Size([16, 41])\n",
      "torch.Size([16, 35])\n",
      "torch.Size([16, 52])\n",
      "torch.Size([16, 38])\n",
      "torch.Size([16, 47])\n",
      "torch.Size([16, 72])\n",
      "torch.Size([16, 45])\n",
      "torch.Size([16, 38])\n",
      "torch.Size([16, 29])\n",
      "torch.Size([16, 65])\n",
      "torch.Size([16, 66])\n",
      "torch.Size([16, 56])\n",
      "torch.Size([16, 56])\n",
      "torch.Size([16, 46])\n",
      "torch.Size([16, 52])\n",
      "torch.Size([16, 44])\n",
      "torch.Size([16, 42])\n",
      "torch.Size([16, 25])\n",
      "torch.Size([16, 54])\n",
      "torch.Size([16, 38])\n",
      "torch.Size([16, 41])\n",
      "torch.Size([16, 47])\n",
      "torch.Size([16, 36])\n",
      "torch.Size([16, 53])\n",
      "torch.Size([16, 48])\n",
      "torch.Size([16, 45])\n",
      "torch.Size([16, 55])\n",
      "torch.Size([16, 33])\n",
      "torch.Size([16, 44])\n",
      "torch.Size([16, 37])\n",
      "torch.Size([16, 43])\n",
      "torch.Size([16, 42])\n",
      "torch.Size([16, 34])\n",
      "torch.Size([16, 36])\n",
      "torch.Size([16, 34])\n",
      "torch.Size([16, 41])\n",
      "torch.Size([16, 45])\n",
      "torch.Size([16, 35])\n",
      "torch.Size([16, 33])\n",
      "torch.Size([16, 45])\n",
      "torch.Size([16, 33])\n",
      "torch.Size([16, 48])\n",
      "torch.Size([16, 48])\n",
      "torch.Size([16, 41])\n",
      "torch.Size([16, 50])\n",
      "torch.Size([16, 44])\n",
      "torch.Size([16, 43])\n",
      "torch.Size([16, 47])\n",
      "torch.Size([16, 43])\n",
      "torch.Size([16, 45])\n",
      "torch.Size([16, 42])\n",
      "torch.Size([16, 41])\n",
      "torch.Size([16, 45])\n",
      "torch.Size([16, 40])\n",
      "torch.Size([16, 37])\n",
      "torch.Size([16, 114])\n",
      "torch.Size([16, 31])\n",
      "torch.Size([16, 37])\n",
      "torch.Size([16, 37])\n",
      "torch.Size([16, 32])\n",
      "torch.Size([16, 44])\n",
      "torch.Size([16, 47])\n",
      "torch.Size([16, 36])\n",
      "torch.Size([16, 34])\n",
      "torch.Size([16, 36])\n",
      "torch.Size([16, 55])\n",
      "torch.Size([16, 40])\n",
      "torch.Size([16, 44])\n",
      "torch.Size([16, 31])\n",
      "torch.Size([16, 35])\n",
      "torch.Size([16, 41])\n",
      "torch.Size([16, 46])\n",
      "torch.Size([16, 38])\n",
      "torch.Size([16, 38])\n",
      "torch.Size([16, 27])\n",
      "torch.Size([16, 43])\n",
      "torch.Size([16, 76])\n",
      "torch.Size([16, 38])\n",
      "torch.Size([16, 49])\n",
      "torch.Size([16, 53])\n",
      "torch.Size([16, 47])\n",
      "torch.Size([16, 32])\n",
      "torch.Size([16, 56])\n",
      "torch.Size([16, 35])\n",
      "torch.Size([16, 47])\n",
      "torch.Size([16, 78])\n",
      "torch.Size([16, 52])\n",
      "torch.Size([16, 49])\n",
      "torch.Size([16, 45])\n",
      "torch.Size([16, 44])\n",
      "torch.Size([16, 87])\n",
      "torch.Size([16, 52])\n",
      "torch.Size([16, 48])\n",
      "torch.Size([16, 65])\n",
      "torch.Size([16, 41])\n",
      "torch.Size([16, 30])\n",
      "torch.Size([16, 41])\n",
      "torch.Size([16, 55])\n",
      "torch.Size([16, 27])\n",
      "torch.Size([16, 53])\n",
      "torch.Size([16, 29])\n",
      "torch.Size([16, 47])\n",
      "torch.Size([16, 47])\n",
      "torch.Size([16, 57])\n",
      "torch.Size([16, 69])\n",
      "torch.Size([16, 38])\n",
      "torch.Size([16, 49])\n",
      "torch.Size([16, 74])\n",
      "torch.Size([16, 28])\n",
      "torch.Size([16, 49])\n",
      "torch.Size([16, 124])\n",
      "torch.Size([16, 43])\n",
      "torch.Size([16, 39])\n",
      "torch.Size([16, 50])\n",
      "torch.Size([16, 44])\n",
      "torch.Size([16, 30])\n",
      "torch.Size([16, 43])\n",
      "torch.Size([16, 40])\n",
      "torch.Size([16, 42])\n",
      "torch.Size([16, 47])\n",
      "torch.Size([16, 128])\n",
      "torch.Size([16, 74])\n",
      "torch.Size([16, 47])\n",
      "torch.Size([16, 35])\n",
      "torch.Size([16, 41])\n",
      "torch.Size([16, 66])\n",
      "torch.Size([16, 38])\n",
      "torch.Size([16, 37])\n",
      "torch.Size([16, 32])\n",
      "torch.Size([16, 75])\n",
      "torch.Size([16, 45])\n",
      "torch.Size([16, 59])\n",
      "torch.Size([16, 59])\n",
      "torch.Size([16, 47])\n",
      "torch.Size([16, 42])\n",
      "torch.Size([16, 40])\n",
      "torch.Size([16, 27])\n",
      "torch.Size([16, 40])\n",
      "torch.Size([16, 37])\n",
      "torch.Size([16, 91])\n",
      "torch.Size([16, 30])\n",
      "torch.Size([16, 40])\n",
      "torch.Size([16, 33])\n",
      "torch.Size([16, 28])\n",
      "torch.Size([16, 34])\n",
      "torch.Size([16, 42])\n",
      "torch.Size([16, 32])\n",
      "torch.Size([16, 31])\n",
      "torch.Size([16, 53])\n",
      "torch.Size([16, 44])\n",
      "torch.Size([16, 37])\n",
      "torch.Size([16, 45])\n",
      "torch.Size([16, 48])\n",
      "torch.Size([16, 47])\n",
      "torch.Size([16, 48])\n",
      "torch.Size([16, 62])\n",
      "torch.Size([16, 36])\n",
      "torch.Size([16, 43])\n",
      "torch.Size([16, 35])\n",
      "torch.Size([16, 80])\n",
      "torch.Size([16, 51])\n",
      "torch.Size([16, 46])\n",
      "torch.Size([16, 28])\n",
      "torch.Size([16, 47])\n",
      "torch.Size([16, 44])\n",
      "torch.Size([16, 43])\n",
      "torch.Size([16, 42])\n",
      "torch.Size([16, 60])\n",
      "torch.Size([16, 41])\n",
      "torch.Size([16, 41])\n",
      "torch.Size([16, 33])\n",
      "torch.Size([16, 42])\n",
      "torch.Size([16, 47])\n",
      "torch.Size([16, 50])\n",
      "torch.Size([16, 40])\n",
      "torch.Size([16, 87])\n",
      "torch.Size([16, 43])\n",
      "torch.Size([16, 43])\n",
      "torch.Size([16, 42])\n",
      "torch.Size([16, 49])\n",
      "torch.Size([16, 48])\n",
      "torch.Size([16, 37])\n",
      "torch.Size([16, 41])\n",
      "torch.Size([16, 29])\n",
      "torch.Size([16, 32])\n",
      "torch.Size([16, 61])\n",
      "torch.Size([16, 33])\n",
      "torch.Size([16, 29])\n",
      "torch.Size([16, 46])\n",
      "torch.Size([16, 41])\n",
      "torch.Size([16, 34])\n",
      "torch.Size([16, 54])\n",
      "torch.Size([16, 43])\n",
      "torch.Size([16, 54])\n",
      "torch.Size([16, 42])\n",
      "torch.Size([16, 30])\n",
      "torch.Size([16, 30])\n",
      "torch.Size([16, 29])\n",
      "torch.Size([16, 39])\n",
      "torch.Size([16, 39])\n",
      "torch.Size([16, 79])\n",
      "torch.Size([16, 38])\n",
      "torch.Size([16, 38])\n",
      "torch.Size([16, 47])\n",
      "torch.Size([16, 34])\n",
      "torch.Size([16, 29])\n",
      "torch.Size([16, 35])\n",
      "torch.Size([16, 46])\n",
      "torch.Size([16, 69])\n",
      "torch.Size([16, 34])\n",
      "torch.Size([16, 48])\n",
      "torch.Size([16, 32])\n",
      "torch.Size([16, 49])\n",
      "torch.Size([16, 42])\n",
      "torch.Size([16, 39])\n",
      "torch.Size([16, 32])\n",
      "torch.Size([16, 55])\n",
      "torch.Size([16, 45])\n",
      "torch.Size([16, 50])\n",
      "torch.Size([16, 39])\n",
      "torch.Size([16, 48])\n",
      "torch.Size([16, 51])\n",
      "torch.Size([16, 49])\n",
      "torch.Size([16, 45])\n",
      "torch.Size([16, 60])\n",
      "torch.Size([16, 35])\n",
      "torch.Size([16, 33])\n",
      "torch.Size([16, 44])\n",
      "torch.Size([16, 45])\n",
      "torch.Size([16, 73])\n",
      "torch.Size([16, 35])\n",
      "torch.Size([16, 44])\n",
      "torch.Size([16, 57])\n",
      "torch.Size([16, 50])\n",
      "torch.Size([16, 59])\n",
      "torch.Size([16, 32])\n",
      "torch.Size([16, 51])\n",
      "torch.Size([16, 55])\n",
      "torch.Size([16, 33])\n",
      "torch.Size([16, 45])\n",
      "torch.Size([16, 42])\n",
      "torch.Size([16, 54])\n",
      "torch.Size([16, 38])\n",
      "torch.Size([16, 41])\n",
      "torch.Size([16, 39])\n",
      "torch.Size([16, 48])\n",
      "torch.Size([16, 42])\n",
      "torch.Size([16, 51])\n",
      "torch.Size([16, 32])\n",
      "torch.Size([16, 42])\n",
      "torch.Size([16, 31])\n",
      "torch.Size([16, 29])\n",
      "torch.Size([16, 37])\n",
      "torch.Size([16, 59])\n",
      "torch.Size([16, 35])\n",
      "torch.Size([16, 45])\n",
      "torch.Size([16, 27])\n",
      "torch.Size([16, 51])\n",
      "torch.Size([16, 45])\n",
      "torch.Size([16, 30])\n",
      "torch.Size([16, 48])\n",
      "torch.Size([16, 51])\n",
      "torch.Size([16, 51])\n",
      "torch.Size([16, 52])\n",
      "torch.Size([16, 49])\n",
      "torch.Size([16, 49])\n",
      "torch.Size([16, 43])\n",
      "torch.Size([16, 40])\n",
      "torch.Size([16, 36])\n",
      "torch.Size([16, 49])\n",
      "torch.Size([16, 36])\n",
      "torch.Size([16, 44])\n",
      "torch.Size([16, 40])\n",
      "torch.Size([16, 54])\n",
      "torch.Size([16, 42])\n",
      "torch.Size([16, 42])\n",
      "torch.Size([16, 41])\n",
      "torch.Size([16, 80])\n",
      "torch.Size([16, 42])\n",
      "torch.Size([16, 34])\n",
      "torch.Size([16, 49])\n",
      "torch.Size([16, 49])\n",
      "torch.Size([16, 42])\n",
      "torch.Size([16, 38])\n",
      "torch.Size([16, 45])\n",
      "torch.Size([16, 47])\n",
      "torch.Size([16, 31])\n",
      "torch.Size([16, 45])\n",
      "torch.Size([16, 30])\n",
      "torch.Size([16, 29])\n"
     ]
    },
    {
     "name": "stdout",
     "output_type": "stream",
     "text": [
      "torch.Size([16, 41])\n",
      "torch.Size([16, 39])\n",
      "torch.Size([16, 39])\n",
      "torch.Size([16, 59])\n",
      "torch.Size([16, 31])\n",
      "torch.Size([16, 33])\n",
      "torch.Size([16, 52])\n",
      "torch.Size([16, 61])\n",
      "torch.Size([16, 46])\n",
      "torch.Size([16, 43])\n",
      "torch.Size([16, 44])\n",
      "torch.Size([16, 37])\n",
      "torch.Size([16, 51])\n",
      "torch.Size([16, 43])\n",
      "torch.Size([16, 40])\n",
      "torch.Size([16, 45])\n",
      "torch.Size([16, 33])\n",
      "torch.Size([16, 36])\n",
      "torch.Size([16, 52])\n",
      "torch.Size([16, 35])\n",
      "torch.Size([16, 50])\n",
      "torch.Size([16, 54])\n",
      "torch.Size([16, 56])\n",
      "torch.Size([16, 30])\n",
      "torch.Size([16, 52])\n",
      "torch.Size([16, 45])\n",
      "torch.Size([16, 45])\n",
      "torch.Size([16, 56])\n",
      "torch.Size([16, 28])\n",
      "torch.Size([16, 50])\n",
      "torch.Size([16, 55])\n",
      "torch.Size([16, 48])\n",
      "torch.Size([16, 58])\n",
      "torch.Size([16, 51])\n",
      "torch.Size([16, 45])\n",
      "torch.Size([16, 47])\n",
      "torch.Size([16, 53])\n",
      "torch.Size([16, 40])\n",
      "torch.Size([16, 49])\n",
      "torch.Size([16, 50])\n",
      "torch.Size([16, 42])\n",
      "torch.Size([16, 47])\n",
      "torch.Size([16, 43])\n",
      "torch.Size([16, 45])\n",
      "torch.Size([16, 47])\n",
      "torch.Size([16, 51])\n",
      "torch.Size([16, 37])\n",
      "torch.Size([16, 43])\n",
      "torch.Size([16, 32])\n",
      "torch.Size([16, 38])\n",
      "torch.Size([16, 52])\n",
      "torch.Size([16, 32])\n",
      "torch.Size([16, 32])\n",
      "torch.Size([16, 103])\n",
      "torch.Size([16, 26])\n",
      "torch.Size([16, 64])\n",
      "torch.Size([16, 44])\n",
      "torch.Size([16, 35])\n",
      "torch.Size([16, 47])\n",
      "torch.Size([16, 35])\n",
      "torch.Size([16, 37])\n",
      "torch.Size([16, 32])\n",
      "torch.Size([16, 47])\n",
      "torch.Size([16, 39])\n",
      "torch.Size([16, 47])\n",
      "torch.Size([16, 47])\n",
      "torch.Size([16, 44])\n",
      "torch.Size([16, 29])\n",
      "torch.Size([16, 50])\n",
      "torch.Size([16, 39])\n",
      "torch.Size([16, 33])\n",
      "torch.Size([16, 55])\n",
      "torch.Size([16, 38])\n",
      "torch.Size([16, 55])\n",
      "torch.Size([16, 66])\n",
      "torch.Size([16, 65])\n",
      "torch.Size([16, 36])\n",
      "torch.Size([16, 51])\n",
      "torch.Size([16, 62])\n",
      "torch.Size([16, 43])\n",
      "torch.Size([16, 33])\n",
      "torch.Size([16, 50])\n",
      "torch.Size([16, 47])\n",
      "torch.Size([16, 51])\n",
      "torch.Size([16, 29])\n",
      "torch.Size([16, 45])\n",
      "torch.Size([16, 30])\n",
      "torch.Size([16, 47])\n",
      "torch.Size([16, 117])\n",
      "torch.Size([16, 34])\n",
      "torch.Size([16, 47])\n",
      "torch.Size([16, 47])\n",
      "torch.Size([16, 32])\n",
      "torch.Size([16, 33])\n",
      "torch.Size([16, 48])\n",
      "torch.Size([16, 51])\n",
      "torch.Size([16, 31])\n",
      "torch.Size([16, 47])\n",
      "torch.Size([16, 50])\n",
      "torch.Size([16, 34])\n",
      "torch.Size([16, 50])\n",
      "torch.Size([16, 36])\n",
      "torch.Size([16, 33])\n",
      "torch.Size([16, 33])\n",
      "torch.Size([16, 39])\n",
      "torch.Size([16, 39])\n",
      "torch.Size([16, 35])\n",
      "torch.Size([16, 27])\n",
      "torch.Size([16, 58])\n",
      "torch.Size([16, 49])\n",
      "torch.Size([16, 90])\n",
      "torch.Size([16, 37])\n",
      "torch.Size([16, 45])\n",
      "torch.Size([16, 31])\n",
      "torch.Size([16, 40])\n",
      "torch.Size([16, 35])\n",
      "torch.Size([16, 38])\n",
      "torch.Size([16, 43])\n",
      "torch.Size([16, 42])\n",
      "torch.Size([16, 30])\n",
      "torch.Size([16, 59])\n",
      "torch.Size([16, 38])\n",
      "torch.Size([16, 41])\n",
      "torch.Size([16, 33])\n",
      "torch.Size([16, 33])\n",
      "torch.Size([16, 34])\n",
      "torch.Size([16, 55])\n",
      "torch.Size([16, 44])\n",
      "torch.Size([16, 41])\n",
      "torch.Size([16, 34])\n",
      "torch.Size([16, 48])\n",
      "torch.Size([16, 40])\n",
      "torch.Size([16, 32])\n",
      "torch.Size([16, 34])\n",
      "torch.Size([16, 42])\n",
      "torch.Size([16, 47])\n",
      "torch.Size([16, 55])\n",
      "torch.Size([16, 45])\n",
      "torch.Size([16, 39])\n",
      "torch.Size([16, 45])\n",
      "torch.Size([16, 31])\n",
      "torch.Size([16, 61])\n",
      "torch.Size([16, 62])\n",
      "torch.Size([16, 56])\n",
      "torch.Size([16, 39])\n",
      "torch.Size([16, 35])\n",
      "torch.Size([16, 41])\n",
      "torch.Size([16, 55])\n",
      "torch.Size([16, 83])\n",
      "torch.Size([16, 50])\n",
      "torch.Size([16, 41])\n",
      "torch.Size([16, 30])\n",
      "torch.Size([16, 36])\n",
      "torch.Size([16, 40])\n",
      "torch.Size([16, 37])\n",
      "torch.Size([16, 26])\n",
      "torch.Size([16, 79])\n",
      "torch.Size([16, 33])\n",
      "torch.Size([16, 64])\n",
      "torch.Size([16, 32])\n",
      "torch.Size([16, 41])\n",
      "torch.Size([16, 45])\n",
      "torch.Size([16, 39])\n",
      "torch.Size([16, 44])\n",
      "torch.Size([16, 37])\n",
      "torch.Size([16, 32])\n",
      "torch.Size([16, 44])\n",
      "torch.Size([16, 43])\n",
      "torch.Size([16, 54])\n",
      "torch.Size([16, 53])\n",
      "torch.Size([16, 40])\n",
      "torch.Size([16, 51])\n",
      "torch.Size([16, 31])\n",
      "torch.Size([16, 42])\n",
      "torch.Size([16, 49])\n",
      "torch.Size([16, 49])\n",
      "torch.Size([16, 47])\n",
      "torch.Size([16, 47])\n",
      "torch.Size([16, 42])\n",
      "torch.Size([16, 50])\n",
      "torch.Size([16, 47])\n",
      "torch.Size([16, 56])\n",
      "torch.Size([16, 41])\n",
      "torch.Size([16, 53])\n",
      "torch.Size([16, 39])\n",
      "torch.Size([16, 55])\n",
      "torch.Size([16, 31])\n",
      "torch.Size([16, 46])\n",
      "torch.Size([16, 50])\n",
      "torch.Size([16, 38])\n",
      "torch.Size([16, 42])\n",
      "torch.Size([16, 34])\n",
      "torch.Size([16, 36])\n",
      "torch.Size([16, 46])\n",
      "torch.Size([16, 42])\n",
      "torch.Size([16, 35])\n",
      "torch.Size([16, 53])\n",
      "torch.Size([16, 38])\n",
      "torch.Size([16, 86])\n",
      "torch.Size([16, 50])\n",
      "torch.Size([16, 50])\n",
      "torch.Size([16, 64])\n",
      "torch.Size([16, 42])\n",
      "torch.Size([16, 29])\n",
      "torch.Size([16, 50])\n",
      "torch.Size([16, 59])\n",
      "torch.Size([16, 30])\n",
      "torch.Size([16, 34])\n",
      "torch.Size([16, 30])\n",
      "torch.Size([16, 43])\n",
      "torch.Size([16, 47])\n",
      "torch.Size([16, 47])\n",
      "torch.Size([16, 23])\n",
      "torch.Size([16, 45])\n",
      "torch.Size([16, 41])\n",
      "torch.Size([16, 35])\n",
      "torch.Size([16, 57])\n",
      "torch.Size([16, 34])\n",
      "torch.Size([16, 31])\n",
      "torch.Size([16, 49])\n",
      "torch.Size([16, 48])\n",
      "torch.Size([16, 49])\n",
      "torch.Size([16, 43])\n",
      "torch.Size([16, 45])\n",
      "torch.Size([16, 42])\n",
      "torch.Size([16, 39])\n",
      "torch.Size([16, 40])\n",
      "torch.Size([16, 72])\n",
      "torch.Size([16, 45])\n",
      "torch.Size([16, 39])\n",
      "torch.Size([16, 45])\n",
      "torch.Size([16, 31])\n",
      "torch.Size([16, 46])\n",
      "torch.Size([16, 49])\n",
      "torch.Size([16, 32])\n",
      "torch.Size([16, 37])\n",
      "torch.Size([16, 59])\n",
      "torch.Size([16, 28])\n",
      "torch.Size([16, 44])\n",
      "torch.Size([16, 43])\n",
      "torch.Size([16, 37])\n",
      "torch.Size([16, 36])\n",
      "torch.Size([16, 38])\n",
      "torch.Size([16, 45])\n",
      "torch.Size([16, 52])\n",
      "torch.Size([16, 38])\n",
      "torch.Size([16, 46])\n",
      "torch.Size([16, 46])\n",
      "torch.Size([16, 108])\n",
      "torch.Size([16, 48])\n",
      "torch.Size([16, 28])\n",
      "torch.Size([16, 34])\n",
      "torch.Size([16, 48])\n",
      "torch.Size([16, 46])\n",
      "torch.Size([16, 72])\n",
      "torch.Size([16, 71])\n",
      "torch.Size([16, 39])\n",
      "torch.Size([16, 42])\n",
      "torch.Size([16, 46])\n",
      "torch.Size([16, 38])\n",
      "torch.Size([16, 44])\n",
      "torch.Size([16, 40])\n",
      "torch.Size([16, 36])\n",
      "torch.Size([16, 36])\n",
      "torch.Size([16, 50])\n",
      "torch.Size([16, 40])\n",
      "torch.Size([16, 46])\n",
      "torch.Size([16, 52])\n",
      "torch.Size([16, 33])\n",
      "torch.Size([16, 49])\n",
      "torch.Size([16, 33])\n",
      "torch.Size([16, 53])\n",
      "torch.Size([16, 45])\n",
      "torch.Size([16, 30])\n",
      "torch.Size([16, 46])\n",
      "torch.Size([16, 33])\n",
      "torch.Size([16, 45])\n",
      "torch.Size([16, 31])\n",
      "torch.Size([16, 54])\n",
      "torch.Size([16, 51])\n",
      "torch.Size([16, 33])\n",
      "torch.Size([16, 34])\n",
      "torch.Size([16, 37])\n",
      "torch.Size([16, 42])\n",
      "torch.Size([16, 33])\n",
      "torch.Size([16, 55])\n",
      "torch.Size([16, 26])\n",
      "torch.Size([16, 34])\n",
      "torch.Size([16, 28])\n",
      "torch.Size([16, 50])\n",
      "torch.Size([16, 38])\n",
      "torch.Size([16, 31])\n",
      "torch.Size([16, 46])\n",
      "torch.Size([16, 34])\n",
      "torch.Size([16, 39])\n",
      "torch.Size([16, 69])\n",
      "torch.Size([16, 40])\n",
      "torch.Size([16, 50])\n",
      "torch.Size([16, 47])\n",
      "torch.Size([16, 53])\n",
      "torch.Size([16, 43])\n",
      "torch.Size([16, 39])\n",
      "torch.Size([16, 32])\n",
      "torch.Size([16, 43])\n",
      "torch.Size([16, 40])\n",
      "torch.Size([16, 34])\n",
      "torch.Size([16, 37])\n",
      "torch.Size([16, 35])\n",
      "torch.Size([16, 34])\n",
      "torch.Size([16, 32])\n",
      "torch.Size([16, 35])\n",
      "torch.Size([16, 35])\n",
      "torch.Size([16, 35])\n",
      "torch.Size([16, 57])\n",
      "torch.Size([16, 48])\n",
      "torch.Size([16, 32])\n",
      "torch.Size([16, 39])\n",
      "torch.Size([16, 43])\n",
      "torch.Size([16, 49])\n",
      "torch.Size([16, 51])\n",
      "torch.Size([16, 48])\n",
      "torch.Size([16, 39])\n",
      "torch.Size([16, 46])\n",
      "torch.Size([16, 25])\n",
      "torch.Size([16, 38])\n",
      "torch.Size([16, 38])\n",
      "torch.Size([16, 38])\n",
      "torch.Size([16, 34])\n",
      "torch.Size([16, 37])\n",
      "torch.Size([16, 28])\n",
      "torch.Size([16, 48])\n",
      "torch.Size([16, 43])\n",
      "torch.Size([16, 58])\n",
      "torch.Size([16, 50])\n",
      "torch.Size([16, 38])\n",
      "torch.Size([16, 78])\n",
      "torch.Size([16, 49])\n",
      "torch.Size([16, 50])\n",
      "torch.Size([16, 45])\n",
      "torch.Size([16, 57])\n",
      "torch.Size([16, 34])\n",
      "torch.Size([16, 44])\n",
      "torch.Size([16, 36])\n",
      "torch.Size([16, 35])\n",
      "torch.Size([16, 45])\n",
      "torch.Size([16, 37])\n",
      "torch.Size([16, 47])\n",
      "torch.Size([16, 28])\n",
      "torch.Size([16, 31])\n",
      "torch.Size([16, 42])\n",
      "torch.Size([16, 44])\n",
      "torch.Size([16, 51])\n",
      "torch.Size([16, 35])\n",
      "torch.Size([16, 40])\n",
      "torch.Size([16, 31])\n",
      "torch.Size([16, 44])\n",
      "torch.Size([16, 47])\n",
      "torch.Size([16, 38])\n",
      "torch.Size([16, 50])\n",
      "torch.Size([16, 35])\n",
      "torch.Size([16, 38])\n",
      "torch.Size([16, 45])\n",
      "torch.Size([16, 37])\n",
      "torch.Size([16, 45])\n",
      "torch.Size([16, 45])\n",
      "torch.Size([16, 40])\n",
      "torch.Size([16, 48])\n",
      "torch.Size([16, 63])\n",
      "torch.Size([16, 45])\n",
      "torch.Size([16, 48])\n",
      "torch.Size([16, 48])\n",
      "torch.Size([16, 40])\n",
      "torch.Size([16, 42])\n",
      "torch.Size([16, 38])\n",
      "torch.Size([16, 47])\n",
      "torch.Size([16, 28])\n",
      "torch.Size([16, 43])\n",
      "torch.Size([16, 41])\n",
      "torch.Size([16, 38])\n",
      "torch.Size([16, 52])\n",
      "torch.Size([16, 34])\n",
      "torch.Size([16, 56])\n",
      "torch.Size([16, 51])\n",
      "torch.Size([16, 35])\n",
      "torch.Size([16, 38])\n",
      "torch.Size([16, 45])\n",
      "torch.Size([16, 49])\n",
      "torch.Size([16, 58])\n",
      "torch.Size([16, 41])\n",
      "torch.Size([16, 30])\n"
     ]
    },
    {
     "name": "stdout",
     "output_type": "stream",
     "text": [
      "torch.Size([16, 44])\n",
      "torch.Size([16, 34])\n",
      "torch.Size([16, 38])\n",
      "torch.Size([16, 45])\n",
      "torch.Size([16, 38])\n",
      "torch.Size([16, 50])\n",
      "torch.Size([16, 50])\n",
      "torch.Size([16, 37])\n",
      "torch.Size([16, 84])\n",
      "torch.Size([16, 62])\n",
      "torch.Size([16, 37])\n",
      "torch.Size([16, 45])\n",
      "torch.Size([16, 50])\n",
      "torch.Size([16, 53])\n",
      "torch.Size([16, 45])\n",
      "torch.Size([16, 39])\n",
      "torch.Size([16, 43])\n",
      "torch.Size([16, 40])\n",
      "torch.Size([16, 37])\n",
      "torch.Size([16, 41])\n",
      "torch.Size([16, 35])\n",
      "torch.Size([16, 40])\n",
      "torch.Size([16, 37])\n",
      "torch.Size([16, 30])\n",
      "torch.Size([16, 49])\n",
      "torch.Size([16, 30])\n",
      "torch.Size([16, 49])\n",
      "torch.Size([16, 96])\n",
      "torch.Size([16, 37])\n",
      "torch.Size([16, 37])\n",
      "torch.Size([16, 62])\n",
      "torch.Size([16, 28])\n",
      "torch.Size([16, 37])\n",
      "torch.Size([16, 34])\n",
      "torch.Size([16, 43])\n",
      "torch.Size([16, 40])\n",
      "torch.Size([16, 38])\n",
      "torch.Size([16, 73])\n",
      "torch.Size([16, 63])\n",
      "torch.Size([16, 50])\n",
      "torch.Size([16, 45])\n",
      "torch.Size([16, 129])\n",
      "torch.Size([16, 30])\n",
      "torch.Size([16, 48])\n",
      "torch.Size([16, 33])\n",
      "torch.Size([16, 28])\n",
      "torch.Size([16, 42])\n",
      "torch.Size([16, 44])\n",
      "torch.Size([16, 38])\n",
      "torch.Size([16, 35])\n",
      "torch.Size([16, 45])\n",
      "torch.Size([16, 47])\n",
      "torch.Size([16, 49])\n",
      "torch.Size([16, 33])\n",
      "torch.Size([16, 46])\n",
      "torch.Size([16, 46])\n",
      "torch.Size([16, 34])\n",
      "torch.Size([16, 49])\n",
      "torch.Size([16, 38])\n",
      "torch.Size([16, 48])\n",
      "torch.Size([16, 61])\n",
      "torch.Size([16, 33])\n",
      "torch.Size([16, 95])\n",
      "torch.Size([16, 41])\n",
      "torch.Size([16, 37])\n",
      "torch.Size([16, 33])\n",
      "torch.Size([16, 29])\n",
      "torch.Size([16, 34])\n",
      "torch.Size([16, 43])\n",
      "torch.Size([16, 62])\n",
      "torch.Size([16, 62])\n",
      "torch.Size([16, 33])\n",
      "torch.Size([16, 52])\n",
      "torch.Size([16, 38])\n",
      "torch.Size([16, 47])\n",
      "torch.Size([16, 44])\n",
      "torch.Size([16, 49])\n",
      "torch.Size([16, 56])\n",
      "torch.Size([16, 34])\n",
      "torch.Size([16, 35])\n",
      "torch.Size([16, 31])\n",
      "torch.Size([16, 54])\n",
      "torch.Size([16, 41])\n",
      "torch.Size([16, 34])\n",
      "torch.Size([16, 39])\n",
      "torch.Size([16, 51])\n",
      "torch.Size([16, 39])\n",
      "torch.Size([16, 49])\n",
      "torch.Size([16, 35])\n",
      "torch.Size([16, 45])\n",
      "torch.Size([16, 38])\n",
      "torch.Size([16, 49])\n",
      "torch.Size([16, 30])\n",
      "torch.Size([16, 29])\n",
      "torch.Size([16, 70])\n",
      "torch.Size([16, 42])\n",
      "torch.Size([16, 47])\n",
      "torch.Size([16, 30])\n",
      "torch.Size([16, 49])\n",
      "torch.Size([16, 28])\n",
      "torch.Size([16, 46])\n",
      "torch.Size([16, 32])\n",
      "torch.Size([16, 50])\n",
      "torch.Size([16, 31])\n",
      "torch.Size([16, 41])\n",
      "torch.Size([16, 40])\n",
      "torch.Size([16, 58])\n",
      "torch.Size([16, 26])\n",
      "torch.Size([16, 42])\n",
      "torch.Size([16, 28])\n",
      "torch.Size([16, 42])\n",
      "torch.Size([16, 62])\n",
      "torch.Size([16, 38])\n",
      "torch.Size([16, 68])\n",
      "torch.Size([16, 64])\n",
      "torch.Size([16, 48])\n",
      "torch.Size([16, 36])\n",
      "torch.Size([16, 40])\n",
      "torch.Size([16, 53])\n",
      "torch.Size([16, 40])\n",
      "torch.Size([16, 48])\n",
      "torch.Size([16, 50])\n",
      "torch.Size([16, 56])\n",
      "torch.Size([16, 40])\n",
      "torch.Size([16, 29])\n",
      "torch.Size([16, 42])\n",
      "torch.Size([16, 40])\n",
      "torch.Size([16, 52])\n",
      "torch.Size([16, 40])\n",
      "torch.Size([16, 46])\n",
      "torch.Size([16, 35])\n",
      "torch.Size([16, 49])\n",
      "torch.Size([16, 46])\n",
      "torch.Size([16, 38])\n",
      "torch.Size([16, 45])\n",
      "torch.Size([16, 48])\n",
      "torch.Size([16, 106])\n",
      "torch.Size([16, 42])\n",
      "torch.Size([16, 33])\n",
      "torch.Size([16, 75])\n",
      "torch.Size([16, 30])\n",
      "torch.Size([16, 54])\n",
      "torch.Size([16, 44])\n",
      "torch.Size([16, 42])\n",
      "torch.Size([16, 43])\n",
      "torch.Size([16, 66])\n",
      "torch.Size([16, 47])\n",
      "torch.Size([16, 40])\n",
      "torch.Size([16, 39])\n",
      "torch.Size([16, 39])\n",
      "torch.Size([16, 49])\n",
      "torch.Size([16, 45])\n",
      "torch.Size([16, 36])\n",
      "torch.Size([16, 40])\n",
      "torch.Size([16, 39])\n",
      "torch.Size([16, 45])\n",
      "torch.Size([16, 46])\n",
      "torch.Size([16, 33])\n",
      "torch.Size([16, 33])\n",
      "torch.Size([16, 52])\n",
      "torch.Size([16, 42])\n",
      "torch.Size([16, 69])\n",
      "torch.Size([16, 61])\n",
      "torch.Size([16, 41])\n",
      "torch.Size([16, 29])\n",
      "torch.Size([16, 68])\n",
      "torch.Size([16, 39])\n",
      "torch.Size([16, 32])\n",
      "torch.Size([16, 53])\n",
      "torch.Size([16, 41])\n",
      "torch.Size([16, 40])\n",
      "torch.Size([16, 42])\n",
      "torch.Size([16, 49])\n",
      "torch.Size([16, 82])\n",
      "torch.Size([16, 29])\n",
      "torch.Size([16, 45])\n",
      "torch.Size([16, 44])\n",
      "torch.Size([16, 41])\n",
      "torch.Size([16, 50])\n",
      "torch.Size([16, 47])\n",
      "torch.Size([16, 34])\n",
      "torch.Size([16, 46])\n",
      "torch.Size([16, 38])\n",
      "torch.Size([16, 37])\n",
      "torch.Size([16, 45])\n",
      "torch.Size([16, 31])\n",
      "torch.Size([16, 42])\n",
      "torch.Size([16, 50])\n",
      "torch.Size([16, 44])\n",
      "torch.Size([16, 46])\n",
      "torch.Size([16, 31])\n",
      "torch.Size([16, 47])\n",
      "torch.Size([16, 117])\n",
      "torch.Size([16, 38])\n",
      "torch.Size([16, 37])\n",
      "torch.Size([16, 55])\n",
      "torch.Size([16, 36])\n",
      "torch.Size([16, 41])\n",
      "torch.Size([16, 69])\n",
      "torch.Size([16, 42])\n",
      "torch.Size([16, 31])\n",
      "torch.Size([16, 39])\n",
      "torch.Size([16, 45])\n",
      "torch.Size([16, 159])\n",
      "torch.Size([16, 42])\n",
      "torch.Size([16, 35])\n",
      "torch.Size([16, 36])\n",
      "torch.Size([16, 29])\n",
      "torch.Size([16, 47])\n",
      "torch.Size([16, 40])\n",
      "torch.Size([16, 44])\n",
      "torch.Size([16, 39])\n",
      "torch.Size([16, 35])\n",
      "torch.Size([16, 35])\n",
      "torch.Size([16, 49])\n",
      "torch.Size([16, 35])\n",
      "torch.Size([16, 41])\n",
      "torch.Size([16, 59])\n",
      "torch.Size([16, 50])\n",
      "torch.Size([16, 38])\n",
      "torch.Size([16, 52])\n",
      "torch.Size([16, 53])\n",
      "torch.Size([16, 62])\n",
      "torch.Size([16, 50])\n",
      "torch.Size([16, 31])\n",
      "torch.Size([16, 55])\n",
      "torch.Size([16, 50])\n",
      "torch.Size([16, 49])\n",
      "torch.Size([16, 64])\n",
      "torch.Size([16, 28])\n",
      "torch.Size([16, 44])\n",
      "torch.Size([16, 41])\n",
      "torch.Size([16, 38])\n",
      "torch.Size([16, 63])\n",
      "torch.Size([16, 42])\n",
      "torch.Size([16, 35])\n",
      "torch.Size([16, 34])\n",
      "torch.Size([16, 36])\n",
      "torch.Size([16, 50])\n",
      "torch.Size([16, 41])\n",
      "torch.Size([16, 33])\n",
      "torch.Size([16, 66])\n",
      "torch.Size([16, 33])\n",
      "torch.Size([16, 56])\n",
      "torch.Size([16, 55])\n",
      "torch.Size([16, 42])\n",
      "torch.Size([16, 27])\n",
      "torch.Size([16, 44])\n",
      "torch.Size([16, 42])\n",
      "torch.Size([16, 29])\n",
      "torch.Size([16, 81])\n",
      "torch.Size([16, 44])\n",
      "torch.Size([16, 50])\n",
      "torch.Size([16, 29])\n",
      "torch.Size([16, 47])\n",
      "torch.Size([16, 48])\n",
      "torch.Size([16, 46])\n",
      "torch.Size([16, 67])\n",
      "torch.Size([16, 28])\n",
      "torch.Size([16, 46])\n",
      "torch.Size([16, 41])\n",
      "torch.Size([16, 52])\n",
      "torch.Size([16, 43])\n",
      "torch.Size([16, 35])\n",
      "torch.Size([16, 44])\n",
      "torch.Size([16, 36])\n",
      "torch.Size([16, 44])\n",
      "torch.Size([16, 84])\n",
      "torch.Size([16, 46])\n",
      "torch.Size([16, 51])\n",
      "torch.Size([16, 66])\n",
      "torch.Size([16, 44])\n",
      "torch.Size([16, 49])\n",
      "torch.Size([16, 40])\n",
      "torch.Size([16, 43])\n",
      "torch.Size([16, 48])\n",
      "torch.Size([16, 30])\n",
      "torch.Size([16, 54])\n",
      "torch.Size([16, 51])\n",
      "torch.Size([16, 34])\n",
      "torch.Size([16, 52])\n",
      "torch.Size([16, 44])\n",
      "torch.Size([16, 38])\n",
      "torch.Size([16, 45])\n",
      "torch.Size([16, 41])\n",
      "torch.Size([16, 24])\n",
      "torch.Size([16, 44])\n",
      "torch.Size([16, 46])\n",
      "torch.Size([16, 39])\n",
      "torch.Size([16, 38])\n",
      "torch.Size([16, 46])\n",
      "torch.Size([16, 63])\n",
      "torch.Size([16, 90])\n",
      "torch.Size([16, 71])\n",
      "torch.Size([16, 53])\n",
      "torch.Size([16, 50])\n",
      "torch.Size([16, 33])\n",
      "torch.Size([16, 70])\n",
      "torch.Size([16, 28])\n",
      "torch.Size([16, 31])\n",
      "torch.Size([16, 30])\n",
      "torch.Size([16, 40])\n",
      "torch.Size([16, 38])\n",
      "torch.Size([16, 39])\n",
      "torch.Size([16, 42])\n",
      "torch.Size([16, 53])\n",
      "torch.Size([16, 45])\n",
      "torch.Size([16, 43])\n",
      "torch.Size([16, 47])\n",
      "torch.Size([16, 30])\n",
      "torch.Size([16, 46])\n",
      "torch.Size([16, 31])\n",
      "torch.Size([16, 31])\n",
      "torch.Size([16, 56])\n",
      "torch.Size([16, 54])\n",
      "torch.Size([16, 45])\n",
      "torch.Size([16, 46])\n",
      "torch.Size([16, 32])\n",
      "torch.Size([16, 31])\n",
      "torch.Size([16, 47])\n",
      "torch.Size([16, 35])\n",
      "torch.Size([16, 27])\n",
      "torch.Size([16, 47])\n",
      "torch.Size([16, 41])\n",
      "torch.Size([16, 39])\n",
      "torch.Size([16, 40])\n",
      "torch.Size([16, 50])\n",
      "torch.Size([16, 27])\n",
      "torch.Size([16, 32])\n",
      "torch.Size([16, 110])\n",
      "torch.Size([16, 45])\n",
      "torch.Size([16, 41])\n",
      "torch.Size([16, 47])\n",
      "torch.Size([16, 45])\n",
      "torch.Size([16, 50])\n",
      "torch.Size([16, 32])\n",
      "torch.Size([16, 35])\n",
      "torch.Size([16, 51])\n",
      "torch.Size([16, 50])\n",
      "torch.Size([16, 38])\n",
      "torch.Size([16, 35])\n",
      "torch.Size([16, 46])\n",
      "torch.Size([16, 30])\n",
      "torch.Size([16, 46])\n",
      "torch.Size([16, 51])\n",
      "torch.Size([16, 48])\n",
      "torch.Size([16, 38])\n",
      "torch.Size([16, 38])\n",
      "torch.Size([16, 51])\n",
      "torch.Size([16, 50])\n",
      "torch.Size([16, 50])\n",
      "torch.Size([16, 56])\n",
      "torch.Size([16, 51])\n",
      "torch.Size([16, 40])\n",
      "torch.Size([16, 70])\n",
      "torch.Size([16, 45])\n",
      "torch.Size([16, 40])\n",
      "torch.Size([16, 47])\n",
      "torch.Size([16, 47])\n",
      "torch.Size([16, 45])\n",
      "torch.Size([16, 58])\n",
      "torch.Size([16, 42])\n",
      "torch.Size([16, 42])\n",
      "torch.Size([16, 36])\n",
      "torch.Size([16, 46])\n",
      "torch.Size([16, 34])\n",
      "torch.Size([16, 54])\n",
      "torch.Size([16, 35])\n",
      "torch.Size([16, 49])\n",
      "torch.Size([16, 47])\n",
      "torch.Size([16, 34])\n",
      "torch.Size([16, 38])\n",
      "torch.Size([16, 34])\n",
      "torch.Size([16, 41])\n",
      "torch.Size([16, 32])\n",
      "torch.Size([16, 37])\n",
      "torch.Size([16, 40])\n",
      "torch.Size([16, 58])\n",
      "torch.Size([16, 48])\n",
      "torch.Size([16, 45])\n",
      "torch.Size([16, 34])\n",
      "torch.Size([16, 42])\n",
      "torch.Size([16, 30])\n",
      "torch.Size([16, 32])\n",
      "torch.Size([16, 45])\n",
      "torch.Size([16, 42])\n",
      "torch.Size([16, 31])\n",
      "torch.Size([16, 38])\n",
      "torch.Size([16, 47])\n",
      "torch.Size([16, 69])\n"
     ]
    },
    {
     "name": "stdout",
     "output_type": "stream",
     "text": [
      "torch.Size([16, 74])\n",
      "torch.Size([16, 49])\n",
      "torch.Size([16, 40])\n",
      "torch.Size([16, 30])\n",
      "torch.Size([16, 67])\n",
      "torch.Size([16, 36])\n",
      "torch.Size([16, 43])\n",
      "torch.Size([16, 37])\n",
      "torch.Size([16, 32])\n",
      "torch.Size([16, 26])\n",
      "torch.Size([16, 47])\n",
      "torch.Size([16, 37])\n",
      "torch.Size([16, 29])\n",
      "torch.Size([16, 43])\n",
      "torch.Size([16, 40])\n",
      "torch.Size([16, 47])\n",
      "torch.Size([16, 42])\n",
      "torch.Size([16, 44])\n",
      "torch.Size([16, 43])\n",
      "torch.Size([16, 47])\n",
      "torch.Size([16, 52])\n",
      "torch.Size([16, 79])\n",
      "torch.Size([16, 38])\n",
      "torch.Size([16, 48])\n",
      "torch.Size([16, 36])\n",
      "torch.Size([16, 49])\n",
      "torch.Size([16, 45])\n",
      "torch.Size([16, 53])\n",
      "torch.Size([16, 44])\n",
      "torch.Size([16, 46])\n",
      "torch.Size([16, 41])\n",
      "torch.Size([16, 44])\n",
      "torch.Size([16, 34])\n",
      "torch.Size([16, 80])\n",
      "torch.Size([16, 46])\n",
      "torch.Size([16, 39])\n",
      "torch.Size([16, 41])\n",
      "torch.Size([16, 52])\n",
      "torch.Size([16, 41])\n",
      "torch.Size([16, 52])\n",
      "torch.Size([16, 44])\n",
      "torch.Size([16, 48])\n",
      "torch.Size([16, 33])\n",
      "torch.Size([16, 52])\n",
      "torch.Size([16, 38])\n",
      "torch.Size([16, 31])\n",
      "torch.Size([16, 40])\n",
      "torch.Size([16, 51])\n",
      "torch.Size([16, 41])\n",
      "torch.Size([16, 34])\n",
      "torch.Size([16, 68])\n",
      "torch.Size([16, 47])\n",
      "torch.Size([16, 52])\n",
      "torch.Size([16, 51])\n",
      "torch.Size([16, 29])\n",
      "torch.Size([16, 45])\n",
      "torch.Size([16, 38])\n",
      "torch.Size([16, 44])\n",
      "torch.Size([16, 35])\n",
      "torch.Size([16, 32])\n",
      "torch.Size([16, 35])\n",
      "torch.Size([16, 40])\n",
      "torch.Size([16, 37])\n",
      "torch.Size([16, 46])\n",
      "torch.Size([16, 43])\n",
      "torch.Size([16, 56])\n",
      "torch.Size([16, 40])\n",
      "torch.Size([16, 67])\n",
      "torch.Size([16, 47])\n",
      "torch.Size([16, 37])\n",
      "torch.Size([16, 38])\n",
      "torch.Size([16, 49])\n",
      "torch.Size([16, 45])\n",
      "torch.Size([16, 47])\n",
      "torch.Size([16, 50])\n",
      "torch.Size([16, 33])\n",
      "torch.Size([16, 40])\n",
      "torch.Size([16, 61])\n",
      "torch.Size([16, 53])\n",
      "torch.Size([16, 46])\n",
      "torch.Size([16, 38])\n",
      "torch.Size([16, 45])\n",
      "torch.Size([16, 36])\n",
      "torch.Size([16, 47])\n",
      "torch.Size([16, 47])\n",
      "torch.Size([16, 36])\n",
      "torch.Size([16, 52])\n",
      "torch.Size([16, 47])\n",
      "torch.Size([16, 67])\n",
      "torch.Size([16, 31])\n",
      "torch.Size([16, 51])\n",
      "torch.Size([16, 48])\n",
      "torch.Size([16, 81])\n",
      "torch.Size([16, 66])\n",
      "torch.Size([16, 36])\n",
      "torch.Size([16, 53])\n",
      "torch.Size([16, 34])\n",
      "torch.Size([16, 48])\n",
      "torch.Size([16, 42])\n",
      "torch.Size([16, 44])\n",
      "torch.Size([16, 50])\n",
      "torch.Size([16, 41])\n",
      "torch.Size([16, 48])\n",
      "torch.Size([16, 41])\n",
      "torch.Size([16, 24])\n",
      "torch.Size([16, 31])\n",
      "torch.Size([16, 49])\n",
      "torch.Size([16, 53])\n",
      "torch.Size([16, 44])\n",
      "torch.Size([16, 58])\n",
      "torch.Size([16, 39])\n",
      "torch.Size([16, 55])\n",
      "torch.Size([16, 42])\n",
      "torch.Size([16, 45])\n",
      "torch.Size([16, 46])\n",
      "torch.Size([16, 45])\n",
      "torch.Size([16, 61])\n",
      "torch.Size([16, 53])\n",
      "torch.Size([16, 35])\n",
      "torch.Size([16, 28])\n",
      "torch.Size([16, 40])\n",
      "torch.Size([16, 54])\n",
      "torch.Size([16, 46])\n",
      "torch.Size([16, 114])\n",
      "torch.Size([16, 113])\n",
      "torch.Size([16, 44])\n",
      "torch.Size([16, 39])\n",
      "torch.Size([16, 37])\n",
      "torch.Size([16, 27])\n",
      "torch.Size([16, 30])\n",
      "torch.Size([16, 35])\n",
      "torch.Size([16, 37])\n",
      "torch.Size([16, 31])\n",
      "torch.Size([16, 41])\n",
      "torch.Size([16, 36])\n",
      "torch.Size([16, 42])\n",
      "torch.Size([16, 36])\n",
      "torch.Size([16, 30])\n",
      "torch.Size([16, 40])\n",
      "torch.Size([16, 35])\n",
      "torch.Size([16, 31])\n",
      "torch.Size([16, 48])\n",
      "torch.Size([16, 51])\n",
      "torch.Size([16, 69])\n",
      "torch.Size([16, 46])\n",
      "torch.Size([16, 49])\n",
      "torch.Size([16, 38])\n",
      "torch.Size([16, 36])\n",
      "torch.Size([16, 50])\n",
      "torch.Size([16, 41])\n",
      "torch.Size([16, 55])\n",
      "torch.Size([16, 47])\n",
      "torch.Size([16, 37])\n",
      "torch.Size([16, 37])\n",
      "torch.Size([16, 40])\n",
      "torch.Size([16, 55])\n",
      "torch.Size([16, 50])\n",
      "torch.Size([16, 37])\n",
      "torch.Size([16, 49])\n",
      "torch.Size([16, 70])\n",
      "torch.Size([16, 47])\n",
      "torch.Size([16, 46])\n",
      "torch.Size([16, 45])\n",
      "torch.Size([16, 43])\n",
      "torch.Size([16, 52])\n",
      "torch.Size([16, 35])\n",
      "torch.Size([16, 41])\n",
      "torch.Size([16, 33])\n",
      "torch.Size([16, 30])\n",
      "torch.Size([16, 43])\n",
      "torch.Size([16, 28])\n",
      "torch.Size([16, 22])\n",
      "torch.Size([16, 43])\n",
      "torch.Size([16, 45])\n",
      "torch.Size([16, 31])\n",
      "torch.Size([16, 46])\n",
      "torch.Size([16, 53])\n",
      "torch.Size([16, 33])\n",
      "torch.Size([16, 30])\n",
      "torch.Size([16, 49])\n",
      "torch.Size([16, 43])\n",
      "torch.Size([16, 56])\n",
      "torch.Size([16, 49])\n",
      "torch.Size([16, 27])\n",
      "torch.Size([16, 44])\n",
      "torch.Size([16, 36])\n",
      "torch.Size([16, 36])\n",
      "torch.Size([16, 37])\n",
      "torch.Size([16, 46])\n",
      "torch.Size([16, 55])\n",
      "torch.Size([16, 45])\n",
      "torch.Size([16, 42])\n",
      "torch.Size([16, 53])\n",
      "torch.Size([16, 44])\n",
      "torch.Size([16, 36])\n",
      "torch.Size([16, 43])\n",
      "torch.Size([16, 54])\n",
      "torch.Size([16, 46])\n",
      "torch.Size([16, 46])\n",
      "torch.Size([16, 37])\n",
      "torch.Size([16, 41])\n",
      "torch.Size([16, 59])\n",
      "torch.Size([16, 45])\n",
      "torch.Size([16, 41])\n",
      "torch.Size([16, 29])\n",
      "torch.Size([16, 46])\n",
      "torch.Size([16, 36])\n",
      "torch.Size([16, 39])\n",
      "torch.Size([16, 52])\n",
      "torch.Size([16, 38])\n",
      "torch.Size([16, 36])\n",
      "torch.Size([16, 45])\n",
      "torch.Size([16, 51])\n",
      "torch.Size([16, 35])\n",
      "torch.Size([16, 97])\n",
      "torch.Size([16, 43])\n",
      "torch.Size([16, 46])\n",
      "torch.Size([16, 58])\n",
      "torch.Size([16, 43])\n",
      "torch.Size([16, 44])\n",
      "torch.Size([16, 43])\n",
      "torch.Size([16, 25])\n",
      "torch.Size([16, 77])\n",
      "torch.Size([16, 30])\n",
      "torch.Size([16, 41])\n",
      "torch.Size([16, 30])\n",
      "torch.Size([16, 36])\n",
      "torch.Size([16, 38])\n",
      "torch.Size([16, 41])\n",
      "torch.Size([16, 43])\n",
      "torch.Size([16, 34])\n",
      "torch.Size([16, 30])\n",
      "torch.Size([16, 44])\n",
      "torch.Size([16, 46])\n",
      "torch.Size([16, 35])\n",
      "torch.Size([16, 44])\n",
      "torch.Size([16, 40])\n",
      "torch.Size([16, 85])\n",
      "torch.Size([16, 38])\n",
      "torch.Size([16, 45])\n",
      "torch.Size([16, 30])\n",
      "torch.Size([16, 35])\n",
      "torch.Size([16, 39])\n",
      "torch.Size([16, 53])\n",
      "torch.Size([16, 37])\n",
      "torch.Size([16, 51])\n",
      "torch.Size([16, 42])\n",
      "torch.Size([16, 70])\n",
      "torch.Size([16, 34])\n",
      "torch.Size([16, 52])\n",
      "torch.Size([16, 51])\n",
      "torch.Size([16, 39])\n",
      "torch.Size([16, 53])\n",
      "torch.Size([16, 47])\n",
      "torch.Size([16, 41])\n",
      "torch.Size([16, 39])\n",
      "torch.Size([16, 63])\n",
      "torch.Size([16, 49])\n",
      "torch.Size([16, 39])\n",
      "torch.Size([16, 41])\n",
      "torch.Size([16, 43])\n",
      "torch.Size([16, 40])\n",
      "torch.Size([16, 44])\n",
      "torch.Size([16, 34])\n",
      "torch.Size([16, 42])\n",
      "torch.Size([16, 37])\n",
      "torch.Size([16, 44])\n",
      "torch.Size([16, 41])\n",
      "torch.Size([16, 43])\n",
      "torch.Size([16, 34])\n",
      "torch.Size([16, 45])\n",
      "torch.Size([16, 39])\n",
      "torch.Size([16, 40])\n",
      "torch.Size([16, 41])\n",
      "torch.Size([16, 30])\n",
      "torch.Size([16, 43])\n",
      "torch.Size([16, 41])\n",
      "torch.Size([16, 34])\n",
      "torch.Size([16, 62])\n",
      "torch.Size([16, 50])\n",
      "torch.Size([16, 35])\n",
      "torch.Size([16, 48])\n",
      "torch.Size([16, 39])\n",
      "torch.Size([16, 44])\n",
      "torch.Size([16, 32])\n",
      "torch.Size([16, 42])\n",
      "torch.Size([16, 36])\n",
      "torch.Size([16, 31])\n",
      "torch.Size([16, 29])\n",
      "torch.Size([16, 45])\n",
      "torch.Size([16, 77])\n",
      "torch.Size([16, 38])\n",
      "torch.Size([16, 58])\n",
      "torch.Size([16, 38])\n",
      "torch.Size([16, 74])\n",
      "torch.Size([16, 49])\n",
      "torch.Size([16, 36])\n",
      "torch.Size([16, 30])\n",
      "torch.Size([16, 46])\n",
      "torch.Size([16, 51])\n",
      "torch.Size([16, 37])\n",
      "torch.Size([16, 50])\n",
      "torch.Size([16, 51])\n",
      "torch.Size([16, 49])\n",
      "torch.Size([16, 41])\n",
      "torch.Size([16, 47])\n",
      "torch.Size([16, 34])\n",
      "torch.Size([16, 43])\n",
      "torch.Size([16, 35])\n",
      "torch.Size([16, 39])\n",
      "torch.Size([16, 46])\n",
      "torch.Size([16, 44])\n",
      "torch.Size([16, 22])\n",
      "torch.Size([16, 39])\n",
      "torch.Size([16, 39])\n",
      "torch.Size([16, 39])\n",
      "torch.Size([16, 38])\n",
      "torch.Size([16, 62])\n",
      "torch.Size([16, 36])\n",
      "torch.Size([16, 29])\n",
      "torch.Size([16, 37])\n",
      "torch.Size([16, 47])\n",
      "torch.Size([16, 52])\n",
      "torch.Size([16, 33])\n",
      "torch.Size([16, 40])\n",
      "torch.Size([16, 47])\n",
      "torch.Size([16, 52])\n",
      "torch.Size([16, 39])\n",
      "torch.Size([16, 33])\n",
      "torch.Size([16, 36])\n",
      "torch.Size([16, 43])\n",
      "torch.Size([16, 61])\n",
      "torch.Size([16, 38])\n",
      "torch.Size([16, 33])\n",
      "torch.Size([16, 52])\n",
      "torch.Size([16, 41])\n",
      "torch.Size([16, 36])\n",
      "torch.Size([16, 39])\n",
      "torch.Size([16, 39])\n",
      "torch.Size([16, 26])\n",
      "torch.Size([16, 33])\n",
      "torch.Size([16, 36])\n",
      "torch.Size([16, 50])\n",
      "torch.Size([16, 35])\n",
      "torch.Size([16, 38])\n",
      "torch.Size([16, 39])\n",
      "torch.Size([16, 30])\n",
      "torch.Size([16, 44])\n",
      "torch.Size([16, 33])\n",
      "torch.Size([16, 51])\n",
      "torch.Size([16, 42])\n",
      "torch.Size([16, 45])\n",
      "torch.Size([16, 29])\n",
      "torch.Size([16, 26])\n",
      "torch.Size([16, 46])\n",
      "torch.Size([16, 40])\n",
      "torch.Size([16, 40])\n",
      "torch.Size([16, 65])\n",
      "torch.Size([16, 111])\n",
      "torch.Size([16, 32])\n",
      "torch.Size([16, 36])\n",
      "torch.Size([16, 32])\n",
      "torch.Size([16, 55])\n",
      "torch.Size([16, 44])\n",
      "torch.Size([16, 69])\n",
      "torch.Size([16, 79])\n",
      "torch.Size([16, 49])\n",
      "torch.Size([16, 45])\n",
      "torch.Size([16, 31])\n",
      "torch.Size([16, 40])\n",
      "torch.Size([16, 49])\n",
      "torch.Size([16, 70])\n",
      "torch.Size([16, 115])\n",
      "torch.Size([16, 50])\n",
      "torch.Size([16, 36])\n",
      "torch.Size([16, 38])\n",
      "torch.Size([16, 60])\n",
      "torch.Size([16, 37])\n",
      "torch.Size([16, 39])\n",
      "torch.Size([16, 30])\n",
      "torch.Size([16, 47])\n",
      "torch.Size([16, 43])\n",
      "torch.Size([16, 57])\n",
      "torch.Size([16, 55])\n",
      "torch.Size([16, 47])\n",
      "torch.Size([16, 43])\n",
      "torch.Size([16, 24])\n",
      "torch.Size([16, 56])\n",
      "torch.Size([16, 31])\n",
      "torch.Size([16, 41])\n"
     ]
    },
    {
     "name": "stdout",
     "output_type": "stream",
     "text": [
      "torch.Size([16, 29])\n",
      "torch.Size([16, 88])\n",
      "torch.Size([16, 37])\n",
      "torch.Size([16, 38])\n",
      "torch.Size([16, 42])\n",
      "torch.Size([16, 34])\n",
      "torch.Size([16, 28])\n",
      "torch.Size([16, 48])\n",
      "torch.Size([16, 26])\n",
      "torch.Size([16, 45])\n",
      "torch.Size([16, 35])\n",
      "torch.Size([16, 48])\n",
      "torch.Size([16, 35])\n",
      "torch.Size([16, 40])\n",
      "torch.Size([16, 27])\n",
      "torch.Size([16, 48])\n",
      "torch.Size([16, 54])\n",
      "torch.Size([16, 27])\n",
      "torch.Size([16, 50])\n",
      "torch.Size([16, 45])\n",
      "torch.Size([16, 30])\n",
      "torch.Size([16, 55])\n",
      "torch.Size([16, 32])\n",
      "torch.Size([16, 44])\n",
      "torch.Size([16, 45])\n",
      "torch.Size([16, 45])\n",
      "torch.Size([16, 32])\n",
      "torch.Size([16, 29])\n",
      "torch.Size([16, 30])\n",
      "torch.Size([16, 45])\n",
      "torch.Size([16, 46])\n",
      "torch.Size([16, 29])\n",
      "torch.Size([16, 67])\n",
      "torch.Size([16, 45])\n",
      "torch.Size([16, 44])\n",
      "torch.Size([16, 49])\n",
      "torch.Size([16, 49])\n",
      "torch.Size([16, 48])\n",
      "torch.Size([16, 47])\n",
      "torch.Size([16, 39])\n",
      "torch.Size([16, 40])\n",
      "torch.Size([16, 45])\n",
      "torch.Size([16, 42])\n",
      "torch.Size([16, 23])\n",
      "torch.Size([16, 47])\n",
      "torch.Size([16, 72])\n",
      "torch.Size([16, 70])\n",
      "torch.Size([16, 33])\n",
      "torch.Size([16, 46])\n",
      "torch.Size([16, 39])\n",
      "torch.Size([16, 59])\n",
      "torch.Size([16, 79])\n",
      "torch.Size([16, 40])\n",
      "torch.Size([16, 46])\n",
      "torch.Size([16, 49])\n",
      "torch.Size([16, 47])\n",
      "torch.Size([16, 44])\n",
      "torch.Size([16, 29])\n",
      "torch.Size([16, 54])\n",
      "torch.Size([16, 36])\n",
      "torch.Size([16, 45])\n",
      "torch.Size([16, 43])\n",
      "torch.Size([16, 39])\n",
      "torch.Size([16, 31])\n",
      "torch.Size([16, 56])\n",
      "torch.Size([16, 54])\n",
      "torch.Size([16, 43])\n",
      "torch.Size([16, 48])\n",
      "torch.Size([16, 66])\n",
      "torch.Size([16, 47])\n",
      "torch.Size([16, 51])\n",
      "torch.Size([16, 40])\n",
      "torch.Size([16, 32])\n",
      "torch.Size([16, 46])\n",
      "torch.Size([16, 48])\n",
      "torch.Size([16, 76])\n",
      "torch.Size([16, 60])\n",
      "torch.Size([16, 48])\n",
      "torch.Size([16, 38])\n",
      "torch.Size([16, 40])\n",
      "torch.Size([16, 39])\n",
      "torch.Size([16, 43])\n",
      "torch.Size([16, 31])\n",
      "torch.Size([16, 48])\n",
      "torch.Size([16, 47])\n",
      "torch.Size([16, 26])\n",
      "torch.Size([16, 71])\n",
      "torch.Size([16, 43])\n",
      "torch.Size([16, 72])\n",
      "torch.Size([16, 52])\n",
      "torch.Size([16, 44])\n",
      "torch.Size([16, 43])\n",
      "torch.Size([16, 38])\n",
      "torch.Size([16, 38])\n",
      "torch.Size([16, 35])\n",
      "torch.Size([16, 42])\n",
      "torch.Size([16, 47])\n",
      "torch.Size([16, 40])\n",
      "torch.Size([16, 39])\n",
      "torch.Size([16, 47])\n",
      "torch.Size([16, 35])\n",
      "torch.Size([16, 48])\n",
      "torch.Size([16, 44])\n",
      "torch.Size([16, 58])\n",
      "torch.Size([16, 56])\n",
      "torch.Size([16, 35])\n",
      "torch.Size([16, 36])\n",
      "torch.Size([16, 200])\n",
      "torch.Size([16, 33])\n",
      "torch.Size([16, 47])\n",
      "torch.Size([16, 45])\n",
      "torch.Size([16, 71])\n",
      "torch.Size([16, 45])\n",
      "torch.Size([16, 64])\n",
      "torch.Size([16, 34])\n",
      "torch.Size([16, 35])\n",
      "torch.Size([16, 34])\n",
      "torch.Size([16, 40])\n",
      "torch.Size([16, 52])\n",
      "torch.Size([16, 28])\n",
      "torch.Size([16, 27])\n",
      "torch.Size([16, 47])\n",
      "torch.Size([16, 45])\n",
      "torch.Size([16, 54])\n",
      "torch.Size([16, 37])\n",
      "torch.Size([16, 51])\n",
      "torch.Size([16, 45])\n",
      "torch.Size([16, 40])\n",
      "torch.Size([16, 44])\n",
      "torch.Size([16, 41])\n",
      "torch.Size([16, 43])\n",
      "torch.Size([16, 67])\n",
      "torch.Size([16, 51])\n",
      "torch.Size([16, 77])\n",
      "torch.Size([16, 42])\n",
      "torch.Size([16, 33])\n",
      "torch.Size([16, 50])\n",
      "torch.Size([16, 44])\n",
      "torch.Size([16, 74])\n",
      "torch.Size([16, 38])\n",
      "torch.Size([16, 27])\n",
      "torch.Size([16, 43])\n",
      "torch.Size([16, 31])\n",
      "torch.Size([16, 43])\n",
      "torch.Size([16, 37])\n",
      "torch.Size([16, 47])\n",
      "torch.Size([16, 35])\n",
      "torch.Size([16, 33])\n",
      "torch.Size([16, 59])\n",
      "torch.Size([16, 45])\n",
      "torch.Size([16, 69])\n",
      "torch.Size([16, 36])\n",
      "torch.Size([16, 58])\n",
      "torch.Size([16, 31])\n",
      "torch.Size([16, 47])\n",
      "torch.Size([16, 52])\n",
      "torch.Size([16, 34])\n",
      "torch.Size([16, 35])\n",
      "torch.Size([16, 47])\n",
      "torch.Size([16, 44])\n",
      "torch.Size([16, 49])\n",
      "torch.Size([16, 47])\n",
      "torch.Size([16, 31])\n",
      "torch.Size([16, 58])\n",
      "torch.Size([16, 57])\n",
      "torch.Size([16, 47])\n",
      "torch.Size([16, 45])\n",
      "torch.Size([16, 46])\n",
      "torch.Size([16, 32])\n",
      "torch.Size([16, 33])\n",
      "torch.Size([16, 35])\n",
      "torch.Size([16, 43])\n",
      "torch.Size([16, 43])\n",
      "torch.Size([16, 48])\n",
      "torch.Size([16, 50])\n",
      "torch.Size([16, 35])\n",
      "torch.Size([16, 55])\n",
      "torch.Size([16, 48])\n",
      "torch.Size([16, 27])\n",
      "torch.Size([16, 29])\n",
      "torch.Size([16, 46])\n",
      "torch.Size([16, 35])\n",
      "torch.Size([16, 36])\n",
      "torch.Size([16, 44])\n",
      "torch.Size([16, 34])\n",
      "torch.Size([16, 33])\n",
      "torch.Size([16, 49])\n",
      "torch.Size([16, 39])\n",
      "torch.Size([16, 38])\n",
      "torch.Size([16, 35])\n",
      "torch.Size([16, 38])\n",
      "torch.Size([16, 31])\n",
      "torch.Size([16, 40])\n",
      "torch.Size([16, 30])\n",
      "torch.Size([16, 52])\n",
      "torch.Size([16, 26])\n",
      "torch.Size([16, 56])\n",
      "torch.Size([16, 45])\n",
      "torch.Size([16, 45])\n",
      "torch.Size([16, 36])\n",
      "torch.Size([16, 46])\n",
      "torch.Size([16, 42])\n",
      "torch.Size([16, 30])\n",
      "torch.Size([16, 51])\n",
      "torch.Size([16, 43])\n",
      "torch.Size([16, 41])\n",
      "torch.Size([16, 42])\n",
      "torch.Size([16, 51])\n",
      "torch.Size([16, 46])\n",
      "torch.Size([16, 57])\n",
      "torch.Size([16, 47])\n",
      "torch.Size([16, 33])\n",
      "torch.Size([16, 41])\n",
      "torch.Size([16, 47])\n",
      "torch.Size([16, 46])\n",
      "torch.Size([16, 51])\n",
      "torch.Size([16, 35])\n",
      "torch.Size([16, 52])\n",
      "torch.Size([16, 29])\n",
      "torch.Size([16, 45])\n",
      "torch.Size([16, 44])\n",
      "torch.Size([16, 36])\n",
      "torch.Size([16, 44])\n",
      "torch.Size([16, 36])\n",
      "torch.Size([16, 48])\n",
      "torch.Size([16, 44])\n",
      "torch.Size([16, 44])\n",
      "torch.Size([16, 45])\n",
      "torch.Size([16, 61])\n",
      "torch.Size([16, 52])\n",
      "torch.Size([16, 40])\n",
      "torch.Size([16, 43])\n",
      "torch.Size([16, 41])\n",
      "torch.Size([16, 44])\n",
      "torch.Size([16, 40])\n",
      "torch.Size([16, 31])\n",
      "torch.Size([16, 39])\n",
      "torch.Size([16, 34])\n",
      "torch.Size([16, 93])\n",
      "torch.Size([16, 34])\n",
      "torch.Size([16, 51])\n",
      "torch.Size([16, 54])\n",
      "torch.Size([16, 49])\n",
      "torch.Size([16, 37])\n",
      "torch.Size([16, 54])\n",
      "torch.Size([16, 42])\n",
      "torch.Size([16, 73])\n",
      "torch.Size([16, 55])\n",
      "torch.Size([16, 32])\n",
      "torch.Size([16, 35])\n",
      "torch.Size([16, 36])\n",
      "torch.Size([16, 52])\n",
      "torch.Size([16, 31])\n",
      "torch.Size([16, 33])\n",
      "torch.Size([16, 107])\n",
      "torch.Size([16, 40])\n",
      "torch.Size([16, 42])\n",
      "torch.Size([16, 50])\n",
      "torch.Size([16, 47])\n",
      "torch.Size([16, 56])\n",
      "torch.Size([16, 33])\n",
      "torch.Size([16, 119])\n",
      "torch.Size([16, 48])\n",
      "torch.Size([16, 63])\n",
      "torch.Size([16, 48])\n",
      "torch.Size([16, 96])\n",
      "torch.Size([16, 43])\n",
      "torch.Size([16, 50])\n",
      "torch.Size([16, 33])\n",
      "torch.Size([16, 47])\n",
      "torch.Size([16, 51])\n",
      "torch.Size([16, 39])\n",
      "torch.Size([16, 45])\n",
      "torch.Size([16, 46])\n",
      "torch.Size([16, 48])\n",
      "torch.Size([16, 33])\n",
      "torch.Size([16, 36])\n",
      "torch.Size([16, 45])\n",
      "torch.Size([16, 47])\n",
      "torch.Size([16, 116])\n",
      "torch.Size([16, 45])\n",
      "torch.Size([16, 77])\n",
      "torch.Size([16, 41])\n",
      "torch.Size([16, 39])\n",
      "torch.Size([16, 36])\n",
      "torch.Size([16, 24])\n",
      "torch.Size([16, 41])\n",
      "torch.Size([16, 28])\n",
      "torch.Size([16, 36])\n",
      "torch.Size([16, 43])\n",
      "torch.Size([16, 35])\n",
      "torch.Size([16, 44])\n",
      "torch.Size([16, 37])\n",
      "torch.Size([16, 45])\n",
      "torch.Size([16, 49])\n",
      "torch.Size([16, 44])\n",
      "torch.Size([16, 35])\n",
      "torch.Size([16, 35])\n",
      "torch.Size([16, 40])\n",
      "torch.Size([16, 32])\n",
      "torch.Size([16, 36])\n",
      "torch.Size([16, 31])\n",
      "torch.Size([16, 71])\n",
      "torch.Size([16, 40])\n",
      "torch.Size([16, 45])\n",
      "torch.Size([16, 42])\n",
      "torch.Size([16, 51])\n",
      "torch.Size([16, 40])\n",
      "torch.Size([16, 38])\n",
      "torch.Size([16, 28])\n",
      "torch.Size([16, 39])\n",
      "torch.Size([16, 45])\n",
      "torch.Size([16, 34])\n",
      "torch.Size([16, 37])\n",
      "torch.Size([16, 51])\n",
      "torch.Size([16, 40])\n",
      "torch.Size([16, 45])\n",
      "torch.Size([16, 32])\n",
      "torch.Size([16, 45])\n",
      "torch.Size([16, 37])\n",
      "torch.Size([16, 32])\n",
      "torch.Size([16, 46])\n",
      "torch.Size([16, 43])\n",
      "torch.Size([16, 39])\n",
      "torch.Size([16, 39])\n",
      "torch.Size([16, 32])\n",
      "torch.Size([16, 44])\n",
      "torch.Size([16, 36])\n",
      "torch.Size([16, 34])\n",
      "torch.Size([16, 27])\n",
      "torch.Size([16, 43])\n",
      "torch.Size([16, 48])\n",
      "torch.Size([16, 41])\n",
      "torch.Size([16, 41])\n",
      "torch.Size([16, 48])\n",
      "torch.Size([16, 34])\n",
      "torch.Size([16, 44])\n",
      "torch.Size([16, 48])\n",
      "torch.Size([16, 42])\n",
      "torch.Size([16, 47])\n",
      "torch.Size([16, 38])\n",
      "torch.Size([16, 31])\n",
      "torch.Size([16, 56])\n",
      "torch.Size([16, 44])\n",
      "torch.Size([16, 35])\n",
      "torch.Size([16, 29])\n",
      "torch.Size([16, 45])\n",
      "torch.Size([16, 38])\n",
      "torch.Size([16, 50])\n",
      "torch.Size([16, 30])\n",
      "torch.Size([16, 43])\n",
      "torch.Size([16, 30])\n",
      "torch.Size([16, 38])\n",
      "torch.Size([16, 40])\n",
      "torch.Size([16, 35])\n",
      "torch.Size([16, 40])\n",
      "torch.Size([16, 42])\n",
      "torch.Size([16, 46])\n",
      "torch.Size([16, 45])\n",
      "torch.Size([16, 45])\n",
      "torch.Size([16, 50])\n",
      "torch.Size([16, 45])\n",
      "torch.Size([16, 27])\n",
      "torch.Size([16, 48])\n",
      "torch.Size([16, 45])\n",
      "torch.Size([16, 43])\n",
      "torch.Size([16, 51])\n",
      "torch.Size([16, 45])\n",
      "torch.Size([16, 32])\n",
      "torch.Size([16, 41])\n",
      "torch.Size([16, 44])\n",
      "torch.Size([16, 52])\n",
      "torch.Size([16, 54])\n",
      "torch.Size([16, 50])\n",
      "torch.Size([16, 32])\n",
      "torch.Size([16, 55])\n",
      "torch.Size([16, 49])\n",
      "torch.Size([16, 35])\n",
      "torch.Size([16, 39])\n",
      "torch.Size([16, 51])\n",
      "torch.Size([16, 34])\n",
      "torch.Size([16, 45])\n",
      "torch.Size([16, 42])\n",
      "torch.Size([16, 54])\n",
      "torch.Size([16, 31])\n",
      "torch.Size([16, 43])\n",
      "torch.Size([16, 45])\n",
      "torch.Size([16, 47])\n",
      "torch.Size([16, 29])\n",
      "torch.Size([16, 40])\n"
     ]
    },
    {
     "name": "stdout",
     "output_type": "stream",
     "text": [
      "torch.Size([16, 51])\n",
      "torch.Size([16, 42])\n",
      "torch.Size([16, 45])\n",
      "torch.Size([16, 46])\n",
      "torch.Size([16, 36])\n",
      "torch.Size([16, 53])\n",
      "torch.Size([16, 67])\n",
      "torch.Size([16, 61])\n",
      "torch.Size([16, 41])\n",
      "torch.Size([16, 36])\n",
      "torch.Size([16, 48])\n",
      "torch.Size([16, 39])\n",
      "torch.Size([16, 48])\n",
      "torch.Size([16, 60])\n",
      "torch.Size([16, 30])\n",
      "torch.Size([16, 49])\n",
      "torch.Size([16, 44])\n",
      "torch.Size([16, 72])\n",
      "torch.Size([16, 50])\n",
      "torch.Size([16, 42])\n",
      "torch.Size([16, 112])\n",
      "torch.Size([16, 33])\n",
      "torch.Size([16, 36])\n",
      "torch.Size([16, 50])\n",
      "torch.Size([16, 31])\n",
      "torch.Size([16, 73])\n",
      "torch.Size([16, 47])\n",
      "torch.Size([16, 51])\n",
      "torch.Size([16, 26])\n",
      "torch.Size([16, 35])\n",
      "torch.Size([16, 42])\n",
      "torch.Size([16, 45])\n",
      "torch.Size([16, 35])\n",
      "torch.Size([16, 23])\n",
      "torch.Size([16, 68])\n",
      "torch.Size([16, 33])\n",
      "torch.Size([16, 45])\n",
      "torch.Size([16, 25])\n",
      "torch.Size([16, 54])\n",
      "torch.Size([16, 47])\n",
      "torch.Size([16, 39])\n",
      "torch.Size([16, 34])\n",
      "torch.Size([16, 47])\n",
      "torch.Size([16, 31])\n",
      "torch.Size([16, 29])\n",
      "torch.Size([16, 33])\n",
      "torch.Size([16, 73])\n",
      "torch.Size([16, 40])\n",
      "torch.Size([16, 59])\n",
      "torch.Size([16, 40])\n",
      "torch.Size([16, 45])\n",
      "torch.Size([16, 47])\n",
      "torch.Size([16, 56])\n",
      "torch.Size([16, 48])\n",
      "torch.Size([16, 41])\n",
      "torch.Size([16, 65])\n",
      "torch.Size([16, 51])\n",
      "torch.Size([16, 62])\n",
      "torch.Size([16, 33])\n",
      "torch.Size([16, 39])\n",
      "torch.Size([16, 41])\n",
      "torch.Size([16, 54])\n",
      "torch.Size([16, 41])\n",
      "torch.Size([16, 49])\n",
      "torch.Size([16, 44])\n",
      "torch.Size([16, 39])\n",
      "torch.Size([16, 35])\n",
      "torch.Size([16, 38])\n",
      "torch.Size([16, 48])\n",
      "torch.Size([16, 38])\n",
      "torch.Size([16, 32])\n",
      "torch.Size([16, 33])\n",
      "torch.Size([16, 46])\n",
      "torch.Size([16, 50])\n",
      "torch.Size([16, 37])\n",
      "torch.Size([16, 58])\n",
      "torch.Size([16, 57])\n",
      "torch.Size([16, 43])\n",
      "torch.Size([16, 33])\n",
      "torch.Size([16, 48])\n",
      "torch.Size([16, 36])\n",
      "torch.Size([16, 39])\n",
      "torch.Size([16, 28])\n",
      "torch.Size([16, 45])\n",
      "torch.Size([16, 28])\n",
      "torch.Size([16, 43])\n",
      "torch.Size([16, 82])\n",
      "torch.Size([16, 40])\n",
      "torch.Size([16, 40])\n",
      "torch.Size([16, 48])\n",
      "torch.Size([16, 30])\n",
      "torch.Size([16, 43])\n",
      "torch.Size([16, 38])\n",
      "torch.Size([16, 42])\n",
      "torch.Size([16, 40])\n",
      "torch.Size([16, 39])\n",
      "torch.Size([16, 36])\n",
      "torch.Size([16, 42])\n",
      "torch.Size([16, 43])\n",
      "torch.Size([16, 56])\n",
      "torch.Size([16, 28])\n",
      "torch.Size([16, 41])\n",
      "torch.Size([16, 31])\n",
      "torch.Size([16, 50])\n",
      "torch.Size([16, 49])\n",
      "torch.Size([16, 46])\n",
      "torch.Size([16, 37])\n",
      "torch.Size([16, 29])\n",
      "torch.Size([16, 28])\n",
      "torch.Size([16, 33])\n",
      "torch.Size([16, 51])\n",
      "torch.Size([16, 50])\n",
      "torch.Size([16, 42])\n",
      "torch.Size([16, 60])\n",
      "torch.Size([16, 49])\n",
      "torch.Size([16, 45])\n",
      "torch.Size([16, 43])\n",
      "torch.Size([16, 53])\n",
      "torch.Size([16, 33])\n",
      "torch.Size([16, 46])\n",
      "torch.Size([16, 38])\n",
      "torch.Size([16, 47])\n",
      "torch.Size([16, 42])\n",
      "torch.Size([16, 51])\n",
      "torch.Size([16, 39])\n",
      "torch.Size([16, 32])\n",
      "torch.Size([16, 37])\n",
      "torch.Size([16, 40])\n",
      "torch.Size([16, 54])\n",
      "torch.Size([16, 58])\n",
      "torch.Size([16, 53])\n",
      "torch.Size([16, 49])\n",
      "torch.Size([16, 36])\n",
      "torch.Size([16, 74])\n",
      "torch.Size([16, 75])\n",
      "torch.Size([16, 42])\n",
      "torch.Size([16, 65])\n",
      "torch.Size([16, 43])\n",
      "torch.Size([16, 53])\n",
      "torch.Size([16, 55])\n",
      "torch.Size([16, 117])\n",
      "torch.Size([16, 76])\n",
      "torch.Size([16, 32])\n",
      "torch.Size([16, 36])\n",
      "torch.Size([16, 33])\n",
      "torch.Size([16, 52])\n",
      "torch.Size([16, 30])\n",
      "torch.Size([16, 30])\n",
      "torch.Size([16, 39])\n",
      "torch.Size([16, 51])\n",
      "torch.Size([16, 38])\n",
      "torch.Size([16, 33])\n",
      "torch.Size([16, 44])\n",
      "torch.Size([16, 37])\n",
      "torch.Size([16, 41])\n",
      "torch.Size([16, 36])\n",
      "torch.Size([16, 51])\n",
      "torch.Size([16, 34])\n",
      "torch.Size([16, 33])\n",
      "torch.Size([16, 27])\n",
      "torch.Size([16, 39])\n",
      "torch.Size([16, 47])\n",
      "torch.Size([16, 53])\n",
      "torch.Size([16, 53])\n",
      "torch.Size([16, 48])\n",
      "torch.Size([16, 49])\n",
      "torch.Size([16, 39])\n",
      "torch.Size([16, 34])\n",
      "torch.Size([16, 44])\n",
      "torch.Size([16, 50])\n",
      "torch.Size([16, 42])\n",
      "torch.Size([16, 86])\n",
      "torch.Size([16, 52])\n",
      "torch.Size([16, 42])\n",
      "torch.Size([16, 76])\n",
      "torch.Size([16, 47])\n",
      "torch.Size([16, 48])\n",
      "torch.Size([16, 46])\n",
      "torch.Size([16, 45])\n",
      "torch.Size([16, 30])\n",
      "torch.Size([16, 39])\n",
      "torch.Size([16, 32])\n",
      "torch.Size([16, 52])\n",
      "torch.Size([16, 51])\n",
      "torch.Size([16, 38])\n",
      "torch.Size([16, 67])\n",
      "torch.Size([16, 37])\n",
      "torch.Size([16, 39])\n",
      "torch.Size([16, 34])\n",
      "torch.Size([16, 58])\n",
      "torch.Size([10, 32])\n",
      "\n"
     ]
    }
   ],
   "source": [
    "trans_texts = []\n",
    "CHUNK = 16\n",
    "print('translating texts')\n",
    "CTS = len(df)//CHUNK\n",
    "if len(df)%CHUNK!=0: CTS += 1\n",
    "for i,j in tqdm(enumerate(range(CTS)), total=CTS):\n",
    "    a = j*CHUNK\n",
    "    b = (j+1)*CHUNK\n",
    "    b = min(b,len(df))\n",
    "    with torch.no_grad() :\n",
    "        input_ids = tokenizer(list(df.iloc[a:b].title.values), return_tensors=\"pt\", truncation=True, padding=True, max_length=200).input_ids.cuda()\n",
    "        print(input_ids.shape)\n",
    "        outputs = txt_model.generate(input_ids=input_ids, num_return_sequences=1)    \n",
    "        val = tokenizer.batch_decode(outputs, skip_special_tokens=True)\n",
    "    trans_texts.extend(val)"
   ]
  },
  {
   "cell_type": "code",
   "execution_count": 6,
   "metadata": {},
   "outputs": [],
   "source": [
    "df['translated_titles'] = trans_texts"
   ]
  },
  {
   "cell_type": "code",
   "execution_count": 9,
   "metadata": {},
   "outputs": [],
   "source": [
    "df.to_csv('data/train.csv')"
   ]
  },
  {
   "cell_type": "markdown",
   "metadata": {},
   "source": [
    "## Only text"
   ]
  },
  {
   "cell_type": "code",
   "execution_count": 1,
   "metadata": {},
   "outputs": [],
   "source": [
    "from imports import *\n",
    "from clip_.train_text import *\n",
    "from clip_.data import TextDS\n",
    "from utils import load_data\n",
    "from arcface import ArcMarginProduct\n",
    "import matplotlib.pyplot as plt\n",
    "import clip\n",
    "np.random.seed(1337)\n",
    "device = torch.device('cuda')"
   ]
  },
  {
   "cell_type": "markdown",
   "metadata": {},
   "source": [
    "### Split"
   ]
  },
  {
   "cell_type": "code",
   "execution_count": 2,
   "metadata": {},
   "outputs": [],
   "source": [
    "df, train_df, val_df, train_labels, val_labels = load_data(train_perc=0.3)"
   ]
  },
  {
   "cell_type": "code",
   "execution_count": 3,
   "metadata": {
    "scrolled": true
   },
   "outputs": [],
   "source": [
    "bs = 32\n",
    "bs_val = 128\n",
    "max_length=200"
   ]
  },
  {
   "cell_type": "markdown",
   "metadata": {},
   "source": [
    "tr_ds = TextDS(train_df, max_length=max_length)\n",
    "val_ds = TextDS(val_df, max_length=max_length)\n",
    "full_ds = TextDS(df, max_length=max_length)"
   ]
  },
  {
   "cell_type": "markdown",
   "metadata": {},
   "source": [
    "torch.save(tr_ds, 'data/text_models/datasets/clip/tr_ds_0.3_{}.pth'.format(max_length))\n",
    "torch.save(val_ds, 'data/text_models/datasets/clip/val_ds_0.3_{}.pth'.format(max_length))\n",
    "torch.save(full_ds, 'data/text_models/datasets/clip/full_ds_0.3_{}.pth'.format(max_length))"
   ]
  },
  {
   "cell_type": "code",
   "execution_count": 4,
   "metadata": {},
   "outputs": [],
   "source": [
    "tr_ds = torch.load('data/text_models/datasets/clip/tr_ds_0.3_{}.pth'.format(max_length))\n",
    "val_ds = torch.load('data/text_models/datasets/clip/val_ds_0.3_{}.pth'.format(max_length))\n",
    "full_ds = torch.load('data/text_models/datasets/clip/full_ds_0.3_{}.pth'.format(max_length))"
   ]
  },
  {
   "cell_type": "code",
   "execution_count": 5,
   "metadata": {},
   "outputs": [],
   "source": [
    "tr_test_dl = DataLoader(tr_ds, batch_size = bs_val, shuffle = False, pin_memory = True)\n",
    "tr_dl = DataLoader(tr_ds, batch_size = bs, shuffle = True, pin_memory = True)\n",
    "val_dl = DataLoader(val_ds, batch_size = bs_val, shuffle = False, pin_memory = True)\n",
    "#full_dl = DataLoader(full_ds, batch_size = bs_val, shuffle = False, pin_memory = True)"
   ]
  },
  {
   "cell_type": "code",
   "execution_count": 6,
   "metadata": {},
   "outputs": [],
   "source": [
    "class CLIPTxt(torch.nn.Module) :\n",
    "    def __init__(self, model_name=\"RN50\", device='cuda') :\n",
    "        super().__init__()\n",
    "        self.model = clip.load(model_name, device=device, jit=False)[0]\n",
    "    def forward(self, imgs) :\n",
    "        return self.model.encode_text(imgs)"
   ]
  },
  {
   "cell_type": "code",
   "execution_count": 7,
   "metadata": {},
   "outputs": [],
   "source": [
    "# model\n",
    "model = CLIPTxt().to(device)"
   ]
  },
  {
   "cell_type": "code",
   "execution_count": 9,
   "metadata": {},
   "outputs": [
    {
     "data": {
      "application/vnd.jupyter.widget-view+json": {
       "model_id": "8c51b2f4e4c740d6bd30784c8f997542",
       "version_major": 2,
       "version_minor": 0
      },
      "text/plain": [
       "HBox(children=(FloatProgress(value=0.0, max=82.0), HTML(value='')))"
      ]
     },
     "metadata": {},
     "output_type": "display_data"
    },
    {
     "name": "stdout",
     "output_type": "stream",
     "text": [
      "\n"
     ]
    },
    {
     "ename": "NameError",
     "evalue": "name 'agg' is not defined",
     "output_type": "error",
     "traceback": [
      "\u001b[0;31m---------------------------------------------------------------------------\u001b[0m",
      "\u001b[0;31mNameError\u001b[0m                                 Traceback (most recent call last)",
      "\u001b[0;32m<ipython-input-9-4cfd57d625af>\u001b[0m in \u001b[0;36m<module>\u001b[0;34m\u001b[0m\n\u001b[1;32m      1\u001b[0m \u001b[0mcenters\u001b[0m \u001b[0;34m=\u001b[0m \u001b[0mcompute_centers\u001b[0m\u001b[0;34m(\u001b[0m\u001b[0mtr_test_dl\u001b[0m\u001b[0;34m,\u001b[0m \u001b[0mmodel\u001b[0m\u001b[0;34m,\u001b[0m \u001b[0mtrain_df\u001b[0m\u001b[0;34m)\u001b[0m\u001b[0;34m\u001b[0m\u001b[0;34m\u001b[0m\u001b[0m\n\u001b[0;32m----> 2\u001b[0;31m \u001b[0mtorch\u001b[0m\u001b[0;34m.\u001b[0m\u001b[0msave\u001b[0m\u001b[0;34m(\u001b[0m\u001b[0mcenters\u001b[0m\u001b[0;34m,\u001b[0m \u001b[0;34m'data/text_models/clip/centers_0.3_{}_{}_{}.pth'\u001b[0m\u001b[0;34m.\u001b[0m\u001b[0mformat\u001b[0m\u001b[0;34m(\u001b[0m\u001b[0magg\u001b[0m\u001b[0;34m,\u001b[0m \u001b[0mmax_length\u001b[0m\u001b[0;34m,\u001b[0m \u001b[0mlanguage_model\u001b[0m\u001b[0;34m)\u001b[0m\u001b[0;34m)\u001b[0m\u001b[0;34m\u001b[0m\u001b[0;34m\u001b[0m\u001b[0m\n\u001b[0m",
      "\u001b[0;31mNameError\u001b[0m: name 'agg' is not defined"
     ]
    }
   ],
   "source": [
    "centers = compute_centers(tr_test_dl, model, train_df)\n",
    "torch.save(centers, 'data/text_models/clip/centers_0.3_{}_{}_{}.pth'.format(agg, max_length, language_model))"
   ]
  },
  {
   "cell_type": "code",
   "execution_count": 8,
   "metadata": {},
   "outputs": [],
   "source": [
    "centers = torch.load('data/text_models/clip/centers_0.3_{}_{}.pth'.format(max_length, language_model))"
   ]
  },
  {
   "cell_type": "code",
   "execution_count": 9,
   "metadata": {},
   "outputs": [
    {
     "name": "stdout",
     "output_type": "stream",
     "text": [
      "Using center as wieghts\n"
     ]
    }
   ],
   "source": [
    "metric_fc = ArcMarginProduct(512, train_df['label_group'].nunique(), s=30, m=0.5,\n",
    "                             easy_margin=False, centers=centers, device=device).to(device)"
   ]
  },
  {
   "cell_type": "code",
   "execution_count": 10,
   "metadata": {},
   "outputs": [
    {
     "name": "stdout",
     "output_type": "stream",
     "text": [
      "Unfroze 5 parameters\n"
     ]
    }
   ],
   "source": [
    "n_epochs, lf, params, optimizer, sched = get_hparams(tr_dl, model, metric_fc, lr=5e-4, n_epochs=5)\n",
    "freeze_bert_embeddings(model)\n",
    "freeze(model)"
   ]
  },
  {
   "cell_type": "code",
   "execution_count": 11,
   "metadata": {},
   "outputs": [
    {
     "name": "stdout",
     "output_type": "stream",
     "text": [
      "Unfroze 32 parameters\n"
     ]
    }
   ],
   "source": [
    "unfreeze_bert_to(model, 10)"
   ]
  },
  {
   "cell_type": "code",
   "execution_count": 12,
   "metadata": {},
   "outputs": [],
   "source": [
    "loss_hist = []\n",
    "best_thr_score={'val': {'thr': None, 'f1': None}, 'train': {'thr': None, 'f1': None}}\n",
    "thr_score_hist=[]\n",
    "ep_start = 0\n",
    "save_path = 'data/text_models/test_12ap_epochs'"
   ]
  },
  {
   "cell_type": "code",
   "execution_count": 13,
   "metadata": {
    "scrolled": true
   },
   "outputs": [
    {
     "data": {
      "application/vnd.jupyter.widget-view+json": {
       "model_id": "",
       "version_major": 2,
       "version_minor": 0
      },
      "text/plain": [
       "HBox(children=(FloatProgress(value=0.0, max=5.0), HTML(value='')))"
      ]
     },
     "metadata": {},
     "output_type": "display_data"
    },
    {
     "data": {
      "application/vnd.jupyter.widget-view+json": {
       "model_id": "",
       "version_major": 2,
       "version_minor": 0
      },
      "text/plain": [
       "HBox(children=(FloatProgress(value=0.0, max=327.0), HTML(value='')))"
      ]
     },
     "metadata": {},
     "output_type": "display_data"
    },
    {
     "data": {
      "application/vnd.jupyter.widget-view+json": {
       "model_id": "",
       "version_major": 2,
       "version_minor": 0
      },
      "text/plain": [
       "HBox(children=(FloatProgress(value=0.0, description='Thresholds', max=10.0, style=ProgressStyle(description_wi…"
      ]
     },
     "metadata": {},
     "output_type": "display_data"
    },
    {
     "name": "stdout",
     "output_type": "stream",
     "text": [
      "Checkpoint : saved model to data/text_models/test_12ap_epochs_ep_0.pth\n"
     ]
    },
    {
     "data": {
      "application/vnd.jupyter.widget-view+json": {
       "model_id": "",
       "version_major": 2,
       "version_minor": 0
      },
      "text/plain": [
       "HBox(children=(FloatProgress(value=0.0, max=187.0), HTML(value='')))"
      ]
     },
     "metadata": {},
     "output_type": "display_data"
    },
    {
     "data": {
      "application/vnd.jupyter.widget-view+json": {
       "model_id": "",
       "version_major": 2,
       "version_minor": 0
      },
      "text/plain": [
       "HBox(children=(FloatProgress(value=0.0, description='Thresholds', max=10.0, style=ProgressStyle(description_wi…"
      ]
     },
     "metadata": {},
     "output_type": "display_data"
    },
    {
     "name": "stdout",
     "output_type": "stream",
     "text": [
      "Saved best model ep 0 with f score : 0.6134224358446186\n",
      "Ep 0: Train loss 9.9623 | Val f score 0.6134 with thresh 0.73, train f score 0.5879 with thresh 0.73\n"
     ]
    },
    {
     "data": {
      "application/vnd.jupyter.widget-view+json": {
       "model_id": "",
       "version_major": 2,
       "version_minor": 0
      },
      "text/plain": [
       "HBox(children=(FloatProgress(value=0.0, max=327.0), HTML(value='')))"
      ]
     },
     "metadata": {},
     "output_type": "display_data"
    },
    {
     "data": {
      "application/vnd.jupyter.widget-view+json": {
       "model_id": "",
       "version_major": 2,
       "version_minor": 0
      },
      "text/plain": [
       "HBox(children=(FloatProgress(value=0.0, description='Thresholds', max=5.0, style=ProgressStyle(description_wid…"
      ]
     },
     "metadata": {},
     "output_type": "display_data"
    },
    {
     "data": {
      "application/vnd.jupyter.widget-view+json": {
       "model_id": "",
       "version_major": 2,
       "version_minor": 0
      },
      "text/plain": [
       "HBox(children=(FloatProgress(value=0.0, max=187.0), HTML(value='')))"
      ]
     },
     "metadata": {},
     "output_type": "display_data"
    },
    {
     "data": {
      "application/vnd.jupyter.widget-view+json": {
       "model_id": "",
       "version_major": 2,
       "version_minor": 0
      },
      "text/plain": [
       "HBox(children=(FloatProgress(value=0.0, description='Thresholds', max=5.0, style=ProgressStyle(description_wid…"
      ]
     },
     "metadata": {},
     "output_type": "display_data"
    },
    {
     "name": "stdout",
     "output_type": "stream",
     "text": [
      "Saved best model ep 1 with f score : 0.6403566809792569\n",
      "Ep 1: Train loss 8.4241 | Val f score 0.6404 with thresh 0.73, train f score 0.6738 with thresh 0.83\n"
     ]
    },
    {
     "data": {
      "application/vnd.jupyter.widget-view+json": {
       "model_id": "",
       "version_major": 2,
       "version_minor": 0
      },
      "text/plain": [
       "HBox(children=(FloatProgress(value=0.0, max=327.0), HTML(value='')))"
      ]
     },
     "metadata": {},
     "output_type": "display_data"
    },
    {
     "data": {
      "application/vnd.jupyter.widget-view+json": {
       "model_id": "",
       "version_major": 2,
       "version_minor": 0
      },
      "text/plain": [
       "HBox(children=(FloatProgress(value=0.0, description='Thresholds', max=5.0, style=ProgressStyle(description_wid…"
      ]
     },
     "metadata": {},
     "output_type": "display_data"
    },
    {
     "name": "stdout",
     "output_type": "stream",
     "text": [
      "Checkpoint : saved model to data/text_models/test_12ap_epochs_ep_2.pth\n"
     ]
    },
    {
     "data": {
      "application/vnd.jupyter.widget-view+json": {
       "model_id": "",
       "version_major": 2,
       "version_minor": 0
      },
      "text/plain": [
       "HBox(children=(FloatProgress(value=0.0, max=187.0), HTML(value='')))"
      ]
     },
     "metadata": {},
     "output_type": "display_data"
    },
    {
     "data": {
      "application/vnd.jupyter.widget-view+json": {
       "model_id": "",
       "version_major": 2,
       "version_minor": 0
      },
      "text/plain": [
       "HBox(children=(FloatProgress(value=0.0, description='Thresholds', max=5.0, style=ProgressStyle(description_wid…"
      ]
     },
     "metadata": {},
     "output_type": "display_data"
    },
    {
     "name": "stdout",
     "output_type": "stream",
     "text": [
      "Saved best model ep 2 with f score : 0.655571273586006\n",
      "Ep 2: Train loss 5.8388 | Val f score 0.6556 with thresh 0.78, train f score 0.7725 with thresh 0.93\n"
     ]
    },
    {
     "data": {
      "application/vnd.jupyter.widget-view+json": {
       "model_id": "",
       "version_major": 2,
       "version_minor": 0
      },
      "text/plain": [
       "HBox(children=(FloatProgress(value=0.0, max=327.0), HTML(value='')))"
      ]
     },
     "metadata": {},
     "output_type": "display_data"
    },
    {
     "data": {
      "application/vnd.jupyter.widget-view+json": {
       "model_id": "",
       "version_major": 2,
       "version_minor": 0
      },
      "text/plain": [
       "HBox(children=(FloatProgress(value=0.0, description='Thresholds', max=5.0, style=ProgressStyle(description_wid…"
      ]
     },
     "metadata": {},
     "output_type": "display_data"
    },
    {
     "data": {
      "application/vnd.jupyter.widget-view+json": {
       "model_id": "",
       "version_major": 2,
       "version_minor": 0
      },
      "text/plain": [
       "HBox(children=(FloatProgress(value=0.0, max=187.0), HTML(value='')))"
      ]
     },
     "metadata": {},
     "output_type": "display_data"
    },
    {
     "data": {
      "application/vnd.jupyter.widget-view+json": {
       "model_id": "",
       "version_major": 2,
       "version_minor": 0
      },
      "text/plain": [
       "HBox(children=(FloatProgress(value=0.0, description='Thresholds', max=5.0, style=ProgressStyle(description_wid…"
      ]
     },
     "metadata": {},
     "output_type": "display_data"
    },
    {
     "name": "stdout",
     "output_type": "stream",
     "text": [
      "Saved best model ep 3 with f score : 0.6628752112823555\n",
      "Ep 3: Train loss 3.6691 | Val f score 0.6629 with thresh 0.83, train f score 0.8363 with thresh 0.93\n"
     ]
    },
    {
     "data": {
      "application/vnd.jupyter.widget-view+json": {
       "model_id": "",
       "version_major": 2,
       "version_minor": 0
      },
      "text/plain": [
       "HBox(children=(FloatProgress(value=0.0, max=327.0), HTML(value='')))"
      ]
     },
     "metadata": {},
     "output_type": "display_data"
    },
    {
     "data": {
      "application/vnd.jupyter.widget-view+json": {
       "model_id": "",
       "version_major": 2,
       "version_minor": 0
      },
      "text/plain": [
       "HBox(children=(FloatProgress(value=0.0, description='Thresholds', max=5.0, style=ProgressStyle(description_wid…"
      ]
     },
     "metadata": {},
     "output_type": "display_data"
    },
    {
     "name": "stdout",
     "output_type": "stream",
     "text": [
      "Checkpoint : saved model to data/text_models/test_12ap_epochs_ep_4.pth\n"
     ]
    },
    {
     "data": {
      "application/vnd.jupyter.widget-view+json": {
       "model_id": "",
       "version_major": 2,
       "version_minor": 0
      },
      "text/plain": [
       "HBox(children=(FloatProgress(value=0.0, max=187.0), HTML(value='')))"
      ]
     },
     "metadata": {},
     "output_type": "display_data"
    },
    {
     "data": {
      "application/vnd.jupyter.widget-view+json": {
       "model_id": "",
       "version_major": 2,
       "version_minor": 0
      },
      "text/plain": [
       "HBox(children=(FloatProgress(value=0.0, description='Thresholds', max=5.0, style=ProgressStyle(description_wid…"
      ]
     },
     "metadata": {},
     "output_type": "display_data"
    },
    {
     "name": "stdout",
     "output_type": "stream",
     "text": [
      "Saved best model ep 4 with f score : 0.66618577123748\n",
      "Ep 4: Train loss 2.5325 | Val f score 0.6662 with thresh 0.83, train f score 0.8756 with thresh 0.93\n",
      "\r"
     ]
    }
   ],
   "source": [
    "best_thr_score, thr_score_hist, losses = train(model, optimizer, lf, sched, metric_fc, tr_dl, val_dl,\n",
    "                                               n_epochs, train_df, val_df, \n",
    "                                               save_path=save_path, \n",
    "                                               prev_best_info=best_thr_score, info_history=thr_score_hist,\n",
    "                                               ep_start=ep_start, device=device)\n",
    "loss_hist.append(losses)\n",
    "ep_start += n_epochs"
   ]
  },
  {
   "cell_type": "code",
   "execution_count": null,
   "metadata": {},
   "outputs": [],
   "source": [
    "### Split\n",
    "\n",
    "df, train_df, val_df, train_labels, val_labels = load_data(train_perc=0.3)\n",
    "\n",
    "bs = 32\n",
    "bs_val = 128\n",
    "max_length=200\n",
    "agg = 'mean'\n",
    "language_model = 'bert-base-multilingual-uncased'\n",
    "tokenizer = BertTokenizer.from_pretrained(language_model)\n",
    "\n",
    "tr_ds = TextDS(train_df, tokenizer, max_length=max_length)\n",
    "val_ds = TextDS(val_df, tokenizer, max_length=max_length)\n",
    "full_ds = TextDS(df, tokenizer, max_length=max_length)\n",
    "\n",
    "torch.save(tr_ds, 'data/text_models/datasets/tr_ds_0.3_{}.pth'.format(max_length))\n",
    "torch.save(val_ds, 'data/text_models/datasets/val_ds_0.3_{}.pth'.format(max_length))\n",
    "torch.save(full_ds, 'data/text_models/datasets/full_ds_0.3_{}.pth'.format(max_length))\n",
    "\n",
    "tr_ds = torch.load('data/text_models/datasets/tr_ds_0.3_{}.pth'.format(max_length))\n",
    "val_ds = torch.load('data/text_models/datasets/val_ds_0.3_{}.pth'.format(max_length))\n",
    "full_ds = torch.load('data/text_models/datasets/full_ds_0.3_{}.pth'.format(max_length))\n",
    "\n",
    "tr_test_dl = DataLoader(tr_ds, batch_size = bs_val, shuffle = False, pin_memory = True)\n",
    "tr_dl = DataLoader(tr_ds, batch_size = bs, shuffle = True, pin_memory = True)\n",
    "val_dl = DataLoader(val_ds, batch_size = bs_val, shuffle = False, pin_memory = True)\n",
    "#full_dl = DataLoader(full_ds, batch_size = bs_val, shuffle = False, pin_memory = True)\n",
    "\n",
    "# model\n",
    "model = EMBBert(language_model, agg=agg).to(device)\n",
    "\n",
    "centers = compute_centers(tr_test_dl, model, train_df)\n",
    "torch.save(centers, 'data/text_models/centers_0.3_{}_{}_{}.pth'.format(agg, max_length, language_model))\n",
    "\n",
    "%debug\n",
    "\n",
    "centers = torch.load('data/text_models/centers_0.3_{}_{}_{}.pth'.format(agg, max_length, language_model))\n",
    "\n",
    "metric_fc = ArcMarginProduct(512, train_df['label_group'].nunique(), s=30, m=0.5,\n",
    "                             easy_margin=False, centers=centers, device=device).to(device)\n",
    "\n",
    "n_epochs, lf, params, optimizer, sched = get_hparams(tr_dl, model, metric_fc, lr=5e-4, n_epochs=5)\n",
    "freeze_bert_embeddings(model)\n",
    "freeze(model)\n",
    "\n",
    "unfreeze_bert_to(model, 10)\n",
    "\n",
    "loss_hist = []\n",
    "best_thr_score={'val': {'thr': None, 'f1': None}, 'train': {'thr': None, 'f1': None}}\n",
    "thr_score_hist=[]\n",
    "ep_start = 0\n",
    "save_path = 'data/text_models/test_12ap_epochs'\n",
    "\n",
    "best_thr_score, thr_score_hist, losses = train(model, optimizer, lf, sched, metric_fc, tr_dl, val_dl,\n",
    "                                               n_epochs, train_df, val_df, \n",
    "                                               save_path=save_path, \n",
    "                                               prev_best_info=best_thr_score, info_history=thr_score_hist,\n",
    "                                               ep_start=ep_start, device=device)\n",
    "loss_hist.append(losses)\n",
    "ep_start += n_epochs"
   ]
  }
 ],
 "metadata": {
  "kernelspec": {
   "display_name": "Python 3",
   "language": "python",
   "name": "python3"
  },
  "language_info": {
   "codemirror_mode": {
    "name": "ipython",
    "version": 3
   },
   "file_extension": ".py",
   "mimetype": "text/x-python",
   "name": "python",
   "nbconvert_exporter": "python",
   "pygments_lexer": "ipython3",
   "version": "3.7.6"
  },
  "toc": {
   "base_numbering": 1,
   "nav_menu": {},
   "number_sections": true,
   "sideBar": true,
   "skip_h1_title": false,
   "title_cell": "Table of Contents",
   "title_sidebar": "Contents",
   "toc_cell": true,
   "toc_position": {
    "height": "calc(100% - 180px)",
    "left": "10px",
    "top": "150px",
    "width": "304.716px"
   },
   "toc_section_display": true,
   "toc_window_display": true
  }
 },
 "nbformat": 4,
 "nbformat_minor": 4
}
