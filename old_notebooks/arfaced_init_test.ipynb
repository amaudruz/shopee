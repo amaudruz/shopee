{
 "cells": [
  {
   "cell_type": "code",
   "execution_count": 1,
   "metadata": {},
   "outputs": [],
   "source": [
    "from imports import *\n",
    "from utils import load_data\n",
    "from image_train.data import create_dl, ImageDS\n",
    "from image_train.model import EMBRes\n",
    "from image_train.arcface import ArcMarginProduct\n",
    "from image_train.train import get_hparams, train\n",
    "np.random.seed(1337)\n",
    "device = torch.device('cuda')"
   ]
  },
  {
   "cell_type": "code",
   "execution_count": 2,
   "metadata": {},
   "outputs": [],
   "source": [
    "import warnings\n",
    "warnings.filterwarnings('ignore')"
   ]
  },
  {
   "cell_type": "code",
   "execution_count": 3,
   "metadata": {},
   "outputs": [],
   "source": [
    "df, train_df, val_df, train_labels, val_labels = load_data(train_perc=0.3)"
   ]
  },
  {
   "cell_type": "markdown",
   "metadata": {},
   "source": [
    "df = pd.read_csv('data/train.csv')\n",
    "df['label_group'] = df['label_group'].astype('category').cat.codes\n",
    "df['image_phash'] = df['image_phash'].astype('category').cat.codes\n",
    "np.random.seed(1337)\n",
    "\n",
    "train val split\n",
    "ph = np.random.permutation(df['image_phash'].unique())\n",
    "\n",
    "train_perc = 0.3\n",
    "train_idx = int(train_perc * len(ph))\n",
    "\n",
    "train_labels = ph[:train_idx]\n",
    "val_labels = ph[train_idx:]\n",
    "\n",
    "train_df = df[df['image_phash'].isin(train_labels)]\n",
    "val_df = df[df['image_phash'].isin(val_labels)]"
   ]
  },
  {
   "cell_type": "code",
   "execution_count": 4,
   "metadata": {},
   "outputs": [],
   "source": [
    "# creating dataloaders\n",
    "small_images_dir = 'data/small_train_images/'\n",
    "\n",
    "tr_dl = create_dl(train_df, small_images_dir, batch_size=64)\n",
    "tr_test_dl = create_dl(train_df, small_images_dir, shuffle=False)\n",
    "val_dl = create_dl(val_df, small_images_dir, shuffle=False)\n",
    "full_dl = create_dl(val_df, small_images_dir, shuffle=False)"
   ]
  },
  {
   "cell_type": "markdown",
   "metadata": {},
   "source": [
    "***Embeddings normalization is not done in the model but in the arcface metric***"
   ]
  },
  {
   "cell_type": "code",
   "execution_count": 5,
   "metadata": {},
   "outputs": [],
   "source": [
    "vision_model = 'resnet50'\n",
    "model = timm.create_model('resnet50', pretrained=True, num_classes=0).to('cuda')\n",
    "metric_fc = ArcMarginProduct(512, df['label_group'].nunique(), s=30, m=0.5, easy_margin=False).to(device)"
   ]
  },
  {
   "cell_type": "code",
   "execution_count": 6,
   "metadata": {},
   "outputs": [],
   "source": [
    "n_epochs, lf, params, optimizer, sched, train_transforms, val_transforms = get_hparams(tr_dl, model, metric_fc, n_epochs=5, lr=1e-4)"
   ]
  },
  {
   "cell_type": "code",
   "execution_count": 8,
   "metadata": {},
   "outputs": [],
   "source": [
    "def compute_centers(dataloader, model, val_transforms, dataframe) :\n",
    "    dataframe['label_group'] = dataframe['label_group'].astype('category').cat.codes\n",
    "    dataframe['indx'] = range(len(dataframe))\n",
    "    label_indxs = dataframe.groupby('label_group').agg({'indx':'unique'})\n",
    "    with torch.no_grad() :\n",
    "        embs = []\n",
    "        for imgs, _ in tqdm(dataloader) :\n",
    "            imgs = val_transforms(imgs).to('cuda')\n",
    "            features = model(imgs)\n",
    "            embs.append(features.cpu())\n",
    "    embs = F.normalize(torch.cat(embs, 0))\n",
    "    centers = torch.zeros(len(label_indexes), embs.shape[1]).to('cuda')\n",
    "    for i in range(len(label_indexes)) :\n",
    "        centers[i] = embs[label_indxs.iloc[i].values[0]].mean(dim=0)\n",
    "    return centers\n"
   ]
  },
  {
   "cell_type": "code",
   "execution_count": 9,
   "metadata": {},
   "outputs": [
    {
     "data": {
      "application/vnd.jupyter.widget-view+json": {
       "model_id": "b51ddaefeaf641e3b2637a99de26c8eb",
       "version_major": 2,
       "version_minor": 0
      },
      "text/plain": [
       "HBox(children=(FloatProgress(value=0.0, max=164.0), HTML(value='')))"
      ]
     },
     "metadata": {},
     "output_type": "display_data"
    },
    {
     "name": "stdout",
     "output_type": "stream",
     "text": [
      "\n"
     ]
    }
   ],
   "source": [
    "centers = compute_centers(tr_test_dl, model, val_transforms, label_indxs)"
   ]
  },
  {
   "cell_type": "code",
   "execution_count": 7,
   "metadata": {},
   "outputs": [],
   "source": [
    "train_df['label_group'] = train_df['label_group'].astype('category').cat.codes\n",
    "train_df['indx'] = range(len(train_df))\n",
    "label_indxs = train_df.groupby('label_group').agg({'indx':'unique'})"
   ]
  },
  {
   "cell_type": "code",
   "execution_count": 10,
   "metadata": {},
   "outputs": [],
   "source": [
    "# https://github.com/ronghuaiyang/arcface-pytorch\n",
    "\n",
    "class ArcMarginProduct(nn.Module):\n",
    "    r\"\"\"Implement of large margin arc distance: :\n",
    "        Args:\n",
    "            in_features: size of each input sample\n",
    "            out_features: size of each output sample\n",
    "            s: norm of input feature\n",
    "            m: margin\n",
    "            cos(theta + m)\n",
    "        \"\"\"\n",
    "    def __init__(self, in_features, out_features, s=30.0, m=0.50, easy_margin=False, centers=None):\n",
    "        super(ArcMarginProduct, self).__init__()\n",
    "        self.in_features = in_features\n",
    "        self.out_features = out_features\n",
    "        self.s = s\n",
    "        self.m = m\n",
    "        if centers is None :\n",
    "            print('Using random weights')\n",
    "            self.weight = Parameter(torch.FloatTensor(out_features, in_features))\n",
    "            nn.init.xavier_uniform_(self.weight)\n",
    "        else :\n",
    "            print('Using center as wieghts')\n",
    "            self.weight = Parameter(centers.to('cuda'))\n",
    "        \n",
    "\n",
    "        self.easy_margin = easy_margin\n",
    "        self.cos_m = math.cos(m)\n",
    "        self.sin_m = math.sin(m)\n",
    "        self.th = math.cos(math.pi - m)\n",
    "        self.mm = math.sin(math.pi - m) * m\n",
    "\n",
    "    def forward(self, input, label):\n",
    "        # --------------------------- cos(theta) & phi(theta) ---------------------------\n",
    "        cosine = F.linear(F.normalize(input), F.normalize(self.weight))\n",
    "        sine = torch.sqrt((1.0 - torch.pow(cosine, 2)).clamp(0, 1))\n",
    "        phi = cosine * self.cos_m - sine * self.sin_m\n",
    "        if self.easy_margin:\n",
    "            phi = torch.where(cosine > 0, phi, cosine)\n",
    "        else:\n",
    "            phi = torch.where(cosine > self.th, phi, cosine - self.mm)\n",
    "        # --------------------------- convert label to one-hot ---------------------------\n",
    "        # one_hot = torch.zeros(cosine.size(), requires_grad=True, device='cuda')\n",
    "        one_hot = torch.zeros(cosine.size(), device='cuda')\n",
    "        one_hot.scatter_(1, label.view(-1, 1).long(), 1)\n",
    "        # -------------torch.where(out_i = {x_i if condition_i else y_i) -------------\n",
    "        output = (one_hot * phi) + ((1.0 - one_hot) * cosine)  # you can use torch.where if your torch.__version__ is 0.4\n",
    "        output *= self.s\n",
    "        # print(output)\n",
    "\n",
    "        return output"
   ]
  },
  {
   "cell_type": "code",
   "execution_count": 11,
   "metadata": {},
   "outputs": [],
   "source": [
    "def test_loss(model, optimizer, loss_func, sched, metric_fc, train_dl, val_dl, n_epochs, train_df, val_df,\n",
    "          train_transforms, val_transforms, save_path, val_first=False):\n",
    "    \n",
    "    tr_losses = []\n",
    "    tr_scores = []\n",
    "    val_scores = []\n",
    "    prev_best_f_val = -10\n",
    "    prev_best_f_train = -10\n",
    "\n",
    "    with torch.no_grad() :\n",
    "\n",
    "        # TRAINING\n",
    "        model.train()\n",
    "        tr_loss = []\n",
    "        embs = []\n",
    "        pbar = tqdm(train_dl)\n",
    "        for imgs, labels in pbar:\n",
    "\n",
    "            imgs = train_transforms(imgs).to('cuda')\n",
    "\n",
    "            optimizer.zero_grad()\n",
    "            feature = model(imgs)\n",
    "            labels = labels.long().to('cuda')\n",
    "            out = metric_fc(feature, labels)\n",
    "            loss = loss_func(out, labels)\n",
    "\n",
    "            tr_loss.append(loss.item())\n",
    "            pbar.set_description(f\"Train loss: {round(np.mean(tr_loss),3)}\")\n",
    "       \n",
    "        tr_losses.append(tr_loss)\n",
    "        summary = f\"Train loss {np.asarray(tr_loss).mean()} \"\n",
    "        print(summary)\n",
    "    return (tr_losses, val_scores)"
   ]
  },
  {
   "cell_type": "markdown",
   "metadata": {},
   "source": [
    "## With init centers"
   ]
  },
  {
   "cell_type": "code",
   "execution_count": 21,
   "metadata": {},
   "outputs": [
    {
     "data": {
      "text/plain": [
       "posting_id                                      train_1382500866\n",
       "image                       5d075d7eaa258052ab125c75c06293d6.jpg\n",
       "image_phash                                     838436c07dff19e4\n",
       "title          RELIZA WALL STICKER PENGUKUR TINGGI BADAN JERA...\n",
       "label_group                                                    0\n",
       "indx                                                        3767\n",
       "Name: 12367, dtype: object"
      ]
     },
     "execution_count": 21,
     "metadata": {},
     "output_type": "execute_result"
    }
   ],
   "source": [
    "train_df.iloc[3767]"
   ]
  },
  {
   "cell_type": "code",
   "execution_count": 12,
   "metadata": {
    "scrolled": true
   },
   "outputs": [
    {
     "name": "stdout",
     "output_type": "stream",
     "text": [
      "Using center as wieghts\n"
     ]
    }
   ],
   "source": [
    "metric_fc = ArcMarginProduct(2048, train_df['label_group'].nunique(), s=30, m=0.5, easy_margin=False, centers=centers).to(device)"
   ]
  },
  {
   "cell_type": "code",
   "execution_count": 13,
   "metadata": {
    "scrolled": true
   },
   "outputs": [
    {
     "data": {
      "application/vnd.jupyter.widget-view+json": {
       "model_id": "20726d94f027437188533ea6c2191779",
       "version_major": 2,
       "version_minor": 0
      },
      "text/plain": [
       "HBox(children=(FloatProgress(value=0.0, max=164.0), HTML(value='')))"
      ]
     },
     "metadata": {},
     "output_type": "display_data"
    },
    {
     "name": "stdout",
     "output_type": "stream",
     "text": [
      "\n",
      "Train loss 9.41272031679386 \n"
     ]
    },
    {
     "data": {
      "text/plain": [
       "([[8.603670120239258,\n",
       "   7.848506927490234,\n",
       "   9.831758499145508,\n",
       "   8.707134246826172,\n",
       "   8.61577033996582,\n",
       "   9.819419860839844,\n",
       "   9.868816375732422,\n",
       "   9.03233528137207,\n",
       "   7.903177738189697,\n",
       "   9.413893699645996,\n",
       "   9.949143409729004,\n",
       "   9.39145565032959,\n",
       "   8.838394165039062,\n",
       "   9.662611961364746,\n",
       "   9.31142807006836,\n",
       "   8.920430183410645,\n",
       "   8.428309440612793,\n",
       "   9.946556091308594,\n",
       "   9.603825569152832,\n",
       "   8.85608196258545,\n",
       "   10.691878318786621,\n",
       "   9.186503410339355,\n",
       "   8.94955062866211,\n",
       "   10.741680145263672,\n",
       "   9.83850383758545,\n",
       "   8.157082557678223,\n",
       "   8.15455436706543,\n",
       "   10.405105590820312,\n",
       "   8.705581665039062,\n",
       "   9.325439453125,\n",
       "   9.830687522888184,\n",
       "   10.278044700622559,\n",
       "   8.848200798034668,\n",
       "   9.725737571716309,\n",
       "   8.430460929870605,\n",
       "   9.535745620727539,\n",
       "   9.94510555267334,\n",
       "   8.894384384155273,\n",
       "   9.122233390808105,\n",
       "   10.573990821838379,\n",
       "   8.85316276550293,\n",
       "   9.455981254577637,\n",
       "   9.150248527526855,\n",
       "   9.93157958984375,\n",
       "   11.295001029968262,\n",
       "   9.885087966918945,\n",
       "   9.050657272338867,\n",
       "   9.958192825317383,\n",
       "   9.03524112701416,\n",
       "   8.737476348876953,\n",
       "   9.606645584106445,\n",
       "   8.349833488464355,\n",
       "   10.170437812805176,\n",
       "   10.15685749053955,\n",
       "   8.645671844482422,\n",
       "   9.970511436462402,\n",
       "   8.325215339660645,\n",
       "   10.674840927124023,\n",
       "   8.395879745483398,\n",
       "   9.779726028442383,\n",
       "   8.169395446777344,\n",
       "   10.4087553024292,\n",
       "   8.720932960510254,\n",
       "   8.786944389343262,\n",
       "   9.395147323608398,\n",
       "   8.62700366973877,\n",
       "   8.727319717407227,\n",
       "   9.990081787109375,\n",
       "   11.067595481872559,\n",
       "   10.309353828430176,\n",
       "   9.703973770141602,\n",
       "   10.775237083435059,\n",
       "   9.088772773742676,\n",
       "   9.027848243713379,\n",
       "   9.86676025390625,\n",
       "   9.706503868103027,\n",
       "   9.541330337524414,\n",
       "   11.385514259338379,\n",
       "   9.082074165344238,\n",
       "   8.734095573425293,\n",
       "   9.194332122802734,\n",
       "   9.08426284790039,\n",
       "   10.903900146484375,\n",
       "   9.392834663391113,\n",
       "   9.027702331542969,\n",
       "   8.887133598327637,\n",
       "   9.659369468688965,\n",
       "   9.267459869384766,\n",
       "   9.653109550476074,\n",
       "   8.992971420288086,\n",
       "   9.034480094909668,\n",
       "   9.647674560546875,\n",
       "   9.17513656616211,\n",
       "   10.308808326721191,\n",
       "   9.017667770385742,\n",
       "   10.972004890441895,\n",
       "   9.5001802444458,\n",
       "   8.697210311889648,\n",
       "   9.210016250610352,\n",
       "   9.683566093444824,\n",
       "   8.590112686157227,\n",
       "   9.971120834350586,\n",
       "   9.34183406829834,\n",
       "   9.339258193969727,\n",
       "   9.268827438354492,\n",
       "   9.574869155883789,\n",
       "   10.794146537780762,\n",
       "   9.871639251708984,\n",
       "   9.309255599975586,\n",
       "   8.80701732635498,\n",
       "   8.697507858276367,\n",
       "   9.550057411193848,\n",
       "   8.577327728271484,\n",
       "   8.861934661865234,\n",
       "   9.986190795898438,\n",
       "   11.126629829406738,\n",
       "   8.087721824645996,\n",
       "   9.510163307189941,\n",
       "   9.495380401611328,\n",
       "   8.932211875915527,\n",
       "   8.514861106872559,\n",
       "   9.602925300598145,\n",
       "   8.415801048278809,\n",
       "   8.891140937805176,\n",
       "   9.855557441711426,\n",
       "   10.715171813964844,\n",
       "   10.190152168273926,\n",
       "   8.95530891418457,\n",
       "   10.026490211486816,\n",
       "   9.575995445251465,\n",
       "   7.7051591873168945,\n",
       "   10.159939765930176,\n",
       "   9.627962112426758,\n",
       "   11.720909118652344,\n",
       "   10.381305694580078,\n",
       "   10.643023490905762,\n",
       "   8.595108032226562,\n",
       "   8.799837112426758,\n",
       "   9.79432487487793,\n",
       "   9.669285774230957,\n",
       "   9.658097267150879,\n",
       "   7.796698570251465,\n",
       "   9.551619529724121,\n",
       "   8.154866218566895,\n",
       "   8.98723030090332,\n",
       "   8.838746070861816,\n",
       "   10.034924507141113,\n",
       "   9.156062126159668,\n",
       "   9.027841567993164,\n",
       "   10.4724760055542,\n",
       "   9.678417205810547,\n",
       "   7.796765327453613,\n",
       "   9.38652515411377,\n",
       "   9.630563735961914,\n",
       "   9.323248863220215,\n",
       "   8.268258094787598,\n",
       "   10.09241008758545,\n",
       "   8.812676429748535,\n",
       "   9.013654708862305,\n",
       "   9.605790138244629,\n",
       "   8.319554328918457,\n",
       "   9.207230567932129,\n",
       "   10.292749404907227,\n",
       "   11.300358772277832]],\n",
       " [])"
      ]
     },
     "execution_count": 13,
     "metadata": {},
     "output_type": "execute_result"
    }
   ],
   "source": [
    "test_loss(model, optimizer, lf, sched, metric_fc, tr_dl, val_dl, n_epochs, train_df, val_df, \n",
    "      train_transforms, val_transforms, save_path='data/tests_model_image/test', val_first=False)"
   ]
  },
  {
   "cell_type": "code",
   "execution_count": 14,
   "metadata": {
    "scrolled": true
   },
   "outputs": [
    {
     "name": "stdout",
     "output_type": "stream",
     "text": [
      "Using random weights\n"
     ]
    }
   ],
   "source": [
    "metric_fc = ArcMarginProduct(2048, train_df['label_group'].nunique(), s=30, m=0.5, easy_margin=False, centers=None).to(device)"
   ]
  },
  {
   "cell_type": "code",
   "execution_count": 15,
   "metadata": {},
   "outputs": [
    {
     "data": {
      "application/vnd.jupyter.widget-view+json": {
       "model_id": "5f91cba23f214c75840e6ccd4e7f56fd",
       "version_major": 2,
       "version_minor": 0
      },
      "text/plain": [
       "HBox(children=(FloatProgress(value=0.0, max=164.0), HTML(value='')))"
      ]
     },
     "metadata": {},
     "output_type": "display_data"
    },
    {
     "ename": "KeyboardInterrupt",
     "evalue": "",
     "output_type": "error",
     "traceback": [
      "\u001b[0;31m---------------------------------------------------------------------------\u001b[0m",
      "\u001b[0;31mKeyboardInterrupt\u001b[0m                         Traceback (most recent call last)",
      "\u001b[0;32m<ipython-input-15-7c8f435936c5>\u001b[0m in \u001b[0;36m<module>\u001b[0;34m\u001b[0m\n\u001b[1;32m      1\u001b[0m test_loss(model, optimizer, lf, sched, metric_fc, tr_dl, val_dl, n_epochs, train_df, val_df, \n\u001b[0;32m----> 2\u001b[0;31m       train_transforms, val_transforms, save_path='data/tests_model_image/test', val_first=False)\n\u001b[0m",
      "\u001b[0;32m<ipython-input-11-857924071f18>\u001b[0m in \u001b[0;36mtest_loss\u001b[0;34m(model, optimizer, loss_func, sched, metric_fc, train_dl, val_dl, n_epochs, train_df, val_df, train_transforms, val_transforms, save_path, val_first)\u001b[0m\n\u001b[1;32m     21\u001b[0m             \u001b[0moptimizer\u001b[0m\u001b[0;34m.\u001b[0m\u001b[0mzero_grad\u001b[0m\u001b[0;34m(\u001b[0m\u001b[0;34m)\u001b[0m\u001b[0;34m\u001b[0m\u001b[0;34m\u001b[0m\u001b[0m\n\u001b[1;32m     22\u001b[0m             \u001b[0mfeature\u001b[0m \u001b[0;34m=\u001b[0m \u001b[0mmodel\u001b[0m\u001b[0;34m(\u001b[0m\u001b[0mimgs\u001b[0m\u001b[0;34m)\u001b[0m\u001b[0;34m\u001b[0m\u001b[0;34m\u001b[0m\u001b[0m\n\u001b[0;32m---> 23\u001b[0;31m             \u001b[0mlabels\u001b[0m \u001b[0;34m=\u001b[0m \u001b[0mlabels\u001b[0m\u001b[0;34m.\u001b[0m\u001b[0mlong\u001b[0m\u001b[0;34m(\u001b[0m\u001b[0;34m)\u001b[0m\u001b[0;34m.\u001b[0m\u001b[0mto\u001b[0m\u001b[0;34m(\u001b[0m\u001b[0;34m'cuda'\u001b[0m\u001b[0;34m)\u001b[0m\u001b[0;34m\u001b[0m\u001b[0;34m\u001b[0m\u001b[0m\n\u001b[0m\u001b[1;32m     24\u001b[0m             \u001b[0mout\u001b[0m \u001b[0;34m=\u001b[0m \u001b[0mmetric_fc\u001b[0m\u001b[0;34m(\u001b[0m\u001b[0mfeature\u001b[0m\u001b[0;34m,\u001b[0m \u001b[0mlabels\u001b[0m\u001b[0;34m)\u001b[0m\u001b[0;34m\u001b[0m\u001b[0;34m\u001b[0m\u001b[0m\n\u001b[1;32m     25\u001b[0m             \u001b[0mloss\u001b[0m \u001b[0;34m=\u001b[0m \u001b[0mloss_func\u001b[0m\u001b[0;34m(\u001b[0m\u001b[0mout\u001b[0m\u001b[0;34m,\u001b[0m \u001b[0mlabels\u001b[0m\u001b[0;34m)\u001b[0m\u001b[0;34m\u001b[0m\u001b[0;34m\u001b[0m\u001b[0m\n",
      "\u001b[0;31mKeyboardInterrupt\u001b[0m: "
     ]
    }
   ],
   "source": [
    "\n",
    "test_loss(model, optimizer, lf, sched, metric_fc, tr_dl, val_dl, n_epochs, train_df, val_df, \n",
    "      train_transforms, val_transforms, save_path='data/tests_model_image/test', val_first=False)"
   ]
  },
  {
   "cell_type": "markdown",
   "metadata": {},
   "source": [
    "### "
   ]
  },
  {
   "cell_type": "code",
   "execution_count": null,
   "metadata": {},
   "outputs": [],
   "source": []
  }
 ],
 "metadata": {
  "kernelspec": {
   "display_name": "Python 3",
   "language": "python",
   "name": "python3"
  },
  "language_info": {
   "codemirror_mode": {
    "name": "ipython",
    "version": 3
   },
   "file_extension": ".py",
   "mimetype": "text/x-python",
   "name": "python",
   "nbconvert_exporter": "python",
   "pygments_lexer": "ipython3",
   "version": "3.7.6"
  },
  "toc": {
   "base_numbering": 1,
   "nav_menu": {},
   "number_sections": true,
   "sideBar": true,
   "skip_h1_title": false,
   "title_cell": "Table of Contents",
   "title_sidebar": "Contents",
   "toc_cell": false,
   "toc_position": {},
   "toc_section_display": true,
   "toc_window_display": false
  }
 },
 "nbformat": 4,
 "nbformat_minor": 4
}
