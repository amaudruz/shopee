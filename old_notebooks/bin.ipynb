{
 "cells": [
  {
   "cell_type": "code",
   "execution_count": null,
   "metadata": {},
   "outputs": [],
   "source": [
    "scores = []\n",
    "best_embs = None\n",
    "best_ep = None\n",
    "prev_best_score = -10\n",
    "for i in range(0, 29, 2) :\n",
    "    print('-----------------------------')\n",
    "    print('Epoch {}'.format(i))\n",
    "    \n",
    "    model.load_state_dict(torch.load('data/tests_model_image/model_arcf_split_res50_ep_{}.pth'.format(i)))\n",
    "    with torch.no_grad():\n",
    "        pbar = tqdm(val_dl, leave=False)\n",
    "        embs = []\n",
    "        for imgs, _ in pbar:\n",
    "            imgs = val_transforms(imgs.to(device))\n",
    "            feature = model(imgs)\n",
    "            embs.append(feature)\n",
    "        embs = F.normalize(torch.cat(embs, 0))\n",
    "    scs = [compute_f1(embs, val_df['label_group'], thr) for thr in np.linspace(0.1, 1.3, 22)]\n",
    "    scores.append((i, scs))\n",
    "    best = sorted(scs, key=lambda x : x[0], reverse=True)[0][0]\n",
    "    if best > prev_best_score :\n",
    "        prev_best_score = best\n",
    "        best_embs = embs\n",
    "        best_ep = i"
   ]
  }
 ],
 "metadata": {
  "kernelspec": {
   "display_name": "Python 3",
   "language": "python",
   "name": "python3"
  },
  "language_info": {
   "codemirror_mode": {
    "name": "ipython",
    "version": 3
   },
   "file_extension": ".py",
   "mimetype": "text/x-python",
   "name": "python",
   "nbconvert_exporter": "python",
   "pygments_lexer": "ipython3",
   "version": "3.7.6"
  },
  "toc": {
   "base_numbering": 1,
   "nav_menu": {},
   "number_sections": true,
   "sideBar": true,
   "skip_h1_title": false,
   "title_cell": "Table of Contents",
   "title_sidebar": "Contents",
   "toc_cell": false,
   "toc_position": {},
   "toc_section_display": true,
   "toc_window_display": false
  }
 },
 "nbformat": 4,
 "nbformat_minor": 4
}
