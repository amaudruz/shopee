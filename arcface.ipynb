{
 "cells": [
  {
   "cell_type": "markdown",
   "metadata": {
    "toc": true
   },
   "source": [
    "<h1>Table of Contents<span class=\"tocSkip\"></span></h1>\n",
    "<div class=\"toc\"><ul class=\"toc-item\"><li><ul class=\"toc-item\"><li><span><a href=\"#Images\" data-toc-modified-id=\"Images-0.1\"><span class=\"toc-item-num\">0.1&nbsp;&nbsp;</span>Images</a></span></li></ul></li><li><span><a href=\"#train-val-split\" data-toc-modified-id=\"train-val-split-1\"><span class=\"toc-item-num\">1&nbsp;&nbsp;</span>train val split</a></span><ul class=\"toc-item\"><li><span><a href=\"#Texts\" data-toc-modified-id=\"Texts-1.1\"><span class=\"toc-item-num\">1.1&nbsp;&nbsp;</span>Texts</a></span><ul class=\"toc-item\"><li><span><a href=\"#No-train\" data-toc-modified-id=\"No-train-1.1.1\"><span class=\"toc-item-num\">1.1.1&nbsp;&nbsp;</span>No train</a></span></li></ul></li><li><span><a href=\"#Effnet-image\" data-toc-modified-id=\"Effnet-image-1.2\"><span class=\"toc-item-num\">1.2&nbsp;&nbsp;</span>Effnet image</a></span><ul class=\"toc-item\"><li><span><a href=\"#b0\" data-toc-modified-id=\"b0-1.2.1\"><span class=\"toc-item-num\">1.2.1&nbsp;&nbsp;</span>b0</a></span></li><li><span><a href=\"#TF-b3\" data-toc-modified-id=\"TF-b3-1.2.2\"><span class=\"toc-item-num\">1.2.2&nbsp;&nbsp;</span>TF b3</a></span></li><li><span><a href=\"#TF-b0\" data-toc-modified-id=\"TF-b0-1.2.3\"><span class=\"toc-item-num\">1.2.3&nbsp;&nbsp;</span>TF b0</a></span></li><li><span><a href=\"#b2\" data-toc-modified-id=\"b2-1.2.4\"><span class=\"toc-item-num\">1.2.4&nbsp;&nbsp;</span>b2</a></span></li><li><span><a href=\"#b3\" data-toc-modified-id=\"b3-1.2.5\"><span class=\"toc-item-num\">1.2.5&nbsp;&nbsp;</span>b3</a></span></li></ul></li></ul></li></ul></div>"
   ]
  },
  {
   "cell_type": "markdown",
   "metadata": {},
   "source": [
    "## Images"
   ]
  },
  {
   "cell_type": "code",
   "execution_count": 1,
   "metadata": {},
   "outputs": [],
   "source": [
    "from imports import *\n",
    "from utils import load_data\n",
    "from image_train.data import create_dl, ImageDS\n",
    "from image_train.model import EMBRes\n",
    "from image_train.arcface import ArcMarginProduct\n",
    "from image_train.train import get_hparams, train\n",
    "np.random.seed(1337)\n",
    "device = torch.device('cuda')"
   ]
  },
  {
   "cell_type": "code",
   "execution_count": 2,
   "metadata": {},
   "outputs": [],
   "source": [
    "df, train_df, val_df, train_labels, val_labels = load_data()"
   ]
  },
  {
   "cell_type": "code",
   "execution_count": 2,
   "metadata": {},
   "outputs": [],
   "source": [
    "df = pd.read_csv('data/train.csv')\n",
    "df['label_group'] = df['label_group'].astype('category').cat.codes\n",
    "df['image_phash'] = df['image_phash'].astype('category').cat.codes\n",
    "np.random.seed(1337)\n",
    "\n",
    "# train val split\n",
    "ph = np.random.permutation(df['image_phash'].unique())\n",
    "\n",
    "train_perc = 0.3\n",
    "train_idx = int(train_perc * len(ph))\n",
    "\n",
    "train_labels = ph[:train_idx]\n",
    "val_labels = ph[train_idx:]\n",
    "\n",
    "train_df = df[df['image_phash'].isin(train_labels)]\n",
    "val_df = df[df['image_phash'].isin(val_labels)]"
   ]
  },
  {
   "cell_type": "code",
   "execution_count": 3,
   "metadata": {},
   "outputs": [],
   "source": [
    "# creating dataloaders\n",
    "small_images_dir = 'data/small_train_images/'\n",
    "\n",
    "tr_dl = create_dl(train_df, small_images_dir)\n",
    "tr_test_dl = create_dl(train_df, small_images_dir, shuffle=False)\n",
    "val_dl = create_dl(val_df, small_images_dir, shuffle=False)\n",
    "full_dl = create_dl(val_df, small_images_dir, shuffle=False)"
   ]
  },
  {
   "cell_type": "markdown",
   "metadata": {},
   "source": [
    "***Embeddings normalization is not done in the model but in the arcface metric***"
   ]
  },
  {
   "cell_type": "code",
   "execution_count": 4,
   "metadata": {},
   "outputs": [],
   "source": [
    "vision_model = 'resnet50'\n",
    "model = EMBRes(vision_model).to(device)\n",
    "metric_fc = ArcMarginProduct(512, df['label_group'].nunique(), s=30, m=0.5, easy_margin=False).to(device)"
   ]
  },
  {
   "cell_type": "code",
   "execution_count": 5,
   "metadata": {},
   "outputs": [],
   "source": [
    "n_epochs, lf, params, optimizer, sched, train_transforms, val_transforms = get_hparams(tr_dl, model, metric_fc, n_epochs=5, lr=1e-4)"
   ]
  },
  {
   "cell_type": "code",
   "execution_count": 6,
   "metadata": {},
   "outputs": [
    {
     "data": {
      "application/vnd.jupyter.widget-view+json": {
       "model_id": "da70a2c3cd534a31ac7965a759d2d1b4",
       "version_major": 2,
       "version_minor": 0
      },
      "text/plain": [
       "HBox(children=(FloatProgress(value=0.0, max=5.0), HTML(value='')))"
      ]
     },
     "metadata": {},
     "output_type": "display_data"
    },
    {
     "data": {
      "application/vnd.jupyter.widget-view+json": {
       "model_id": "a05751f938ad4c60ba1820dfac270a30",
       "version_major": 2,
       "version_minor": 0
      },
      "text/plain": [
       "HBox(children=(FloatProgress(value=0.0, max=160.0), HTML(value='')))"
      ]
     },
     "metadata": {},
     "output_type": "display_data"
    },
    {
     "name": "stdout",
     "output_type": "stream",
     "text": [
      "\n"
     ]
    },
    {
     "data": {
      "application/vnd.jupyter.widget-view+json": {
       "model_id": "5f4b20414cf241b4bc47dc7be48f34ec",
       "version_major": 2,
       "version_minor": 0
      },
      "text/plain": [
       "HBox(children=(FloatProgress(value=0.0, max=376.0), HTML(value='')))"
      ]
     },
     "metadata": {},
     "output_type": "display_data"
    },
    {
     "name": "stdout",
     "output_type": "stream",
     "text": [
      "\n"
     ]
    },
    {
     "data": {
      "application/vnd.jupyter.widget-view+json": {
       "model_id": "",
       "version_major": 2,
       "version_minor": 0
      },
      "text/plain": [
       "HBox(children=(FloatProgress(value=0.0, max=24010.0), HTML(value='')))"
      ]
     },
     "metadata": {},
     "output_type": "display_data"
    },
    {
     "data": {
      "application/vnd.jupyter.widget-view+json": {
       "model_id": "",
       "version_major": 2,
       "version_minor": 0
      },
      "text/plain": [
       "HBox(children=(FloatProgress(value=0.0, max=24010.0), HTML(value='')))"
      ]
     },
     "metadata": {},
     "output_type": "display_data"
    },
    {
     "name": "stdout",
     "output_type": "stream",
     "text": [
      "f1 score : 0.6415408431740804 | precision : 0.9948976052261963 | recall : 0.5302041878051954\n"
     ]
    },
    {
     "data": {
      "application/vnd.jupyter.widget-view+json": {
       "model_id": "",
       "version_major": 2,
       "version_minor": 0
      },
      "text/plain": [
       "HBox(children=(FloatProgress(value=0.0, max=24010.0), HTML(value='')))"
      ]
     },
     "metadata": {},
     "output_type": "display_data"
    },
    {
     "data": {
      "application/vnd.jupyter.widget-view+json": {
       "model_id": "",
       "version_major": 2,
       "version_minor": 0
      },
      "text/plain": [
       "HBox(children=(FloatProgress(value=0.0, max=24010.0), HTML(value='')))"
      ]
     },
     "metadata": {},
     "output_type": "display_data"
    },
    {
     "name": "stdout",
     "output_type": "stream",
     "text": [
      "f1 score : 0.6592646124322654 | precision : 0.9928683064355703 | recall : 0.5532492114553005\n"
     ]
    },
    {
     "data": {
      "application/vnd.jupyter.widget-view+json": {
       "model_id": "",
       "version_major": 2,
       "version_minor": 0
      },
      "text/plain": [
       "HBox(children=(FloatProgress(value=0.0, max=24010.0), HTML(value='')))"
      ]
     },
     "metadata": {},
     "output_type": "display_data"
    },
    {
     "data": {
      "application/vnd.jupyter.widget-view+json": {
       "model_id": "",
       "version_major": 2,
       "version_minor": 0
      },
      "text/plain": [
       "HBox(children=(FloatProgress(value=0.0, max=24010.0), HTML(value='')))"
      ]
     },
     "metadata": {},
     "output_type": "display_data"
    },
    {
     "name": "stdout",
     "output_type": "stream",
     "text": [
      "f1 score : 0.6734069451839727 | precision : 0.9896338779349546 | recall : 0.5720793159076134\n"
     ]
    },
    {
     "data": {
      "application/vnd.jupyter.widget-view+json": {
       "model_id": "",
       "version_major": 2,
       "version_minor": 0
      },
      "text/plain": [
       "HBox(children=(FloatProgress(value=0.0, max=24010.0), HTML(value='')))"
      ]
     },
     "metadata": {},
     "output_type": "display_data"
    },
    {
     "data": {
      "application/vnd.jupyter.widget-view+json": {
       "model_id": "",
       "version_major": 2,
       "version_minor": 0
      },
      "text/plain": [
       "HBox(children=(FloatProgress(value=0.0, max=24010.0), HTML(value='')))"
      ]
     },
     "metadata": {},
     "output_type": "display_data"
    },
    {
     "name": "stdout",
     "output_type": "stream",
     "text": [
      "f1 score : 0.6844808519268232 | precision : 0.9806071326428477 | recall : 0.590947941113439\n"
     ]
    },
    {
     "data": {
      "application/vnd.jupyter.widget-view+json": {
       "model_id": "",
       "version_major": 2,
       "version_minor": 0
      },
      "text/plain": [
       "HBox(children=(FloatProgress(value=0.0, max=24010.0), HTML(value='')))"
      ]
     },
     "metadata": {},
     "output_type": "display_data"
    },
    {
     "data": {
      "application/vnd.jupyter.widget-view+json": {
       "model_id": "",
       "version_major": 2,
       "version_minor": 0
      },
      "text/plain": [
       "HBox(children=(FloatProgress(value=0.0, max=24010.0), HTML(value='')))"
      ]
     },
     "metadata": {},
     "output_type": "display_data"
    },
    {
     "name": "stdout",
     "output_type": "stream",
     "text": [
      "f1 score : 0.6921901527146699 | precision : 0.9646927470743845 | recall : 0.6115212998768145\n"
     ]
    },
    {
     "data": {
      "application/vnd.jupyter.widget-view+json": {
       "model_id": "",
       "version_major": 2,
       "version_minor": 0
      },
      "text/plain": [
       "HBox(children=(FloatProgress(value=0.0, max=24010.0), HTML(value='')))"
      ]
     },
     "metadata": {},
     "output_type": "display_data"
    },
    {
     "data": {
      "application/vnd.jupyter.widget-view+json": {
       "model_id": "",
       "version_major": 2,
       "version_minor": 0
      },
      "text/plain": [
       "HBox(children=(FloatProgress(value=0.0, max=24010.0), HTML(value='')))"
      ]
     },
     "metadata": {},
     "output_type": "display_data"
    },
    {
     "name": "stdout",
     "output_type": "stream",
     "text": [
      "f1 score : 0.6882104994892725 | precision : 0.9307980982162215 | recall : 0.6326854344334736\n"
     ]
    },
    {
     "data": {
      "application/vnd.jupyter.widget-view+json": {
       "model_id": "",
       "version_major": 2,
       "version_minor": 0
      },
      "text/plain": [
       "HBox(children=(FloatProgress(value=0.0, max=24010.0), HTML(value='')))"
      ]
     },
     "metadata": {},
     "output_type": "display_data"
    },
    {
     "data": {
      "application/vnd.jupyter.widget-view+json": {
       "model_id": "",
       "version_major": 2,
       "version_minor": 0
      },
      "text/plain": [
       "HBox(children=(FloatProgress(value=0.0, max=24010.0), HTML(value='')))"
      ]
     },
     "metadata": {},
     "output_type": "display_data"
    },
    {
     "name": "stdout",
     "output_type": "stream",
     "text": [
      "f1 score : 0.6727297117840033 | precision : 0.8763414380748463 | recall : 0.6577308683141792\n"
     ]
    },
    {
     "data": {
      "application/vnd.jupyter.widget-view+json": {
       "model_id": "",
       "version_major": 2,
       "version_minor": 0
      },
      "text/plain": [
       "HBox(children=(FloatProgress(value=0.0, max=24010.0), HTML(value='')))"
      ]
     },
     "metadata": {},
     "output_type": "display_data"
    },
    {
     "data": {
      "application/vnd.jupyter.widget-view+json": {
       "model_id": "",
       "version_major": 2,
       "version_minor": 0
      },
      "text/plain": [
       "HBox(children=(FloatProgress(value=0.0, max=24010.0), HTML(value='')))"
      ]
     },
     "metadata": {},
     "output_type": "display_data"
    },
    {
     "name": "stdout",
     "output_type": "stream",
     "text": [
      "f1 score : 0.6279544857403415 | precision : 0.7768038032109599 | recall : 0.6865052358291729\n"
     ]
    },
    {
     "data": {
      "application/vnd.jupyter.widget-view+json": {
       "model_id": "",
       "version_major": 2,
       "version_minor": 0
      },
      "text/plain": [
       "HBox(children=(FloatProgress(value=0.0, max=24010.0), HTML(value='')))"
      ]
     },
     "metadata": {},
     "output_type": "display_data"
    },
    {
     "data": {
      "application/vnd.jupyter.widget-view+json": {
       "model_id": "",
       "version_major": 2,
       "version_minor": 0
      },
      "text/plain": [
       "HBox(children=(FloatProgress(value=0.0, max=24010.0), HTML(value='')))"
      ]
     },
     "metadata": {},
     "output_type": "display_data"
    },
    {
     "name": "stdout",
     "output_type": "stream",
     "text": [
      "f1 score : 0.5348809750843183 | precision : 0.6145604958039327 | recall : 0.7196928839609666\n"
     ]
    },
    {
     "data": {
      "application/vnd.jupyter.widget-view+json": {
       "model_id": "",
       "version_major": 2,
       "version_minor": 0
      },
      "text/plain": [
       "HBox(children=(FloatProgress(value=0.0, max=24010.0), HTML(value='')))"
      ]
     },
     "metadata": {},
     "output_type": "display_data"
    },
    {
     "data": {
      "application/vnd.jupyter.widget-view+json": {
       "model_id": "",
       "version_major": 2,
       "version_minor": 0
      },
      "text/plain": [
       "HBox(children=(FloatProgress(value=0.0, max=24010.0), HTML(value='')))"
      ]
     },
     "metadata": {},
     "output_type": "display_data"
    },
    {
     "name": "stdout",
     "output_type": "stream",
     "text": [
      "f1 score : 0.4030325291005304 | precision : 0.41855023208465375 | recall : 0.7539900652094109\n"
     ]
    },
    {
     "data": {
      "application/vnd.jupyter.widget-view+json": {
       "model_id": "",
       "version_major": 2,
       "version_minor": 0
      },
      "text/plain": [
       "HBox(children=(FloatProgress(value=0.0, max=24010.0), HTML(value='')))"
      ]
     },
     "metadata": {},
     "output_type": "display_data"
    },
    {
     "data": {
      "application/vnd.jupyter.widget-view+json": {
       "model_id": "",
       "version_major": 2,
       "version_minor": 0
      },
      "text/plain": [
       "HBox(children=(FloatProgress(value=0.0, max=24010.0), HTML(value='')))"
      ]
     },
     "metadata": {},
     "output_type": "display_data"
    },
    {
     "name": "stdout",
     "output_type": "stream",
     "text": [
      "f1 score : 0.2668994354599007 | precision : 0.23717663014191848 | recall : 0.7829678489983581\n"
     ]
    },
    {
     "data": {
      "application/vnd.jupyter.widget-view+json": {
       "model_id": "",
       "version_major": 2,
       "version_minor": 0
      },
      "text/plain": [
       "HBox(children=(FloatProgress(value=0.0, max=24010.0), HTML(value='')))"
      ]
     },
     "metadata": {},
     "output_type": "display_data"
    },
    {
     "data": {
      "application/vnd.jupyter.widget-view+json": {
       "model_id": "8daa4325361d419ea181f182e6af49ad",
       "version_major": 2,
       "version_minor": 0
      },
      "text/plain": [
       "HBox(children=(FloatProgress(value=0.0, max=24010.0), HTML(value='')))"
      ]
     },
     "metadata": {},
     "output_type": "display_data"
    },
    {
     "ename": "KeyboardInterrupt",
     "evalue": "",
     "output_type": "error",
     "traceback": [
      "\u001b[0;31m---------------------------------------------------------------------------\u001b[0m",
      "\u001b[0;31mKeyboardInterrupt\u001b[0m                         Traceback (most recent call last)",
      "\u001b[0;32m<ipython-input-6-a3467932ccbc>\u001b[0m in \u001b[0;36m<module>\u001b[0;34m\u001b[0m\n\u001b[1;32m      1\u001b[0m train(model, optimizer, lf, sched, metric_fc, tr_dl, val_dl, n_epochs, val_df, \n\u001b[0;32m----> 2\u001b[0;31m       train_transforms, val_transforms, save_path='data/tests_model_image/test', val_first=False)\n\u001b[0m",
      "\u001b[0;32m~/Documents/kaggle/shopee/image_train/train.py\u001b[0m in \u001b[0;36mtrain\u001b[0;34m(model, optimizer, loss_func, sched, metric_fc, train_dl, val_dl, n_epochs, val_df, train_transforms, val_transforms, save_path, val_first)\u001b[0m\n\u001b[1;32m    143\u001b[0m \u001b[0;34m\u001b[0m\u001b[0m\n\u001b[1;32m    144\u001b[0m             f_scores = [compute_f1(embs, val_df['label_group'], thr)\n\u001b[0;32m--> 145\u001b[0;31m                         for thr in np.linspace(0.2, 1.2, 15)]\n\u001b[0m\u001b[1;32m    146\u001b[0m             \u001b[0mbest_f\u001b[0m \u001b[0;34m=\u001b[0m \u001b[0mmax\u001b[0m\u001b[0;34m(\u001b[0m\u001b[0mf_scores\u001b[0m\u001b[0;34m,\u001b[0m \u001b[0mkey\u001b[0m\u001b[0;34m=\u001b[0m\u001b[0;32mlambda\u001b[0m \u001b[0mx\u001b[0m\u001b[0;34m:\u001b[0m \u001b[0mx\u001b[0m\u001b[0;34m[\u001b[0m\u001b[0;36m0\u001b[0m\u001b[0;34m]\u001b[0m\u001b[0;34m)\u001b[0m\u001b[0;34m[\u001b[0m\u001b[0;36m0\u001b[0m\u001b[0;34m]\u001b[0m\u001b[0;34m\u001b[0m\u001b[0;34m\u001b[0m\u001b[0m\n\u001b[1;32m    147\u001b[0m             \u001b[0;32mif\u001b[0m \u001b[0mbest_f\u001b[0m \u001b[0;34m>\u001b[0m \u001b[0mprev_best_f_score\u001b[0m\u001b[0;34m:\u001b[0m\u001b[0;34m\u001b[0m\u001b[0;34m\u001b[0m\u001b[0m\n",
      "\u001b[0;32m~/Documents/kaggle/shopee/image_train/train.py\u001b[0m in \u001b[0;36m<listcomp>\u001b[0;34m(.0)\u001b[0m\n\u001b[1;32m    143\u001b[0m \u001b[0;34m\u001b[0m\u001b[0m\n\u001b[1;32m    144\u001b[0m             f_scores = [compute_f1(embs, val_df['label_group'], thr)\n\u001b[0;32m--> 145\u001b[0;31m                         for thr in np.linspace(0.2, 1.2, 15)]\n\u001b[0m\u001b[1;32m    146\u001b[0m             \u001b[0mbest_f\u001b[0m \u001b[0;34m=\u001b[0m \u001b[0mmax\u001b[0m\u001b[0;34m(\u001b[0m\u001b[0mf_scores\u001b[0m\u001b[0;34m,\u001b[0m \u001b[0mkey\u001b[0m\u001b[0;34m=\u001b[0m\u001b[0;32mlambda\u001b[0m \u001b[0mx\u001b[0m\u001b[0;34m:\u001b[0m \u001b[0mx\u001b[0m\u001b[0;34m[\u001b[0m\u001b[0;36m0\u001b[0m\u001b[0;34m]\u001b[0m\u001b[0;34m)\u001b[0m\u001b[0;34m[\u001b[0m\u001b[0;36m0\u001b[0m\u001b[0;34m]\u001b[0m\u001b[0;34m\u001b[0m\u001b[0;34m\u001b[0m\u001b[0m\n\u001b[1;32m    147\u001b[0m             \u001b[0;32mif\u001b[0m \u001b[0mbest_f\u001b[0m \u001b[0;34m>\u001b[0m \u001b[0mprev_best_f_score\u001b[0m\u001b[0;34m:\u001b[0m\u001b[0;34m\u001b[0m\u001b[0;34m\u001b[0m\u001b[0m\n",
      "\u001b[0;32m~/Documents/kaggle/shopee/image_train/train.py\u001b[0m in \u001b[0;36mcompute_f1\u001b[0;34m(embeddings, ls, threshold)\u001b[0m\n\u001b[1;32m     63\u001b[0m         \u001b[0mtrue_label\u001b[0m \u001b[0;34m=\u001b[0m \u001b[0mls\u001b[0m\u001b[0;34m.\u001b[0m\u001b[0miloc\u001b[0m\u001b[0;34m[\u001b[0m\u001b[0mi\u001b[0m\u001b[0;34m]\u001b[0m\u001b[0;34m\u001b[0m\u001b[0;34m\u001b[0m\u001b[0m\n\u001b[1;32m     64\u001b[0m         \u001b[0;32mfor\u001b[0m \u001b[0mindex\u001b[0m \u001b[0;32min\u001b[0m \u001b[0mpreds\u001b[0m\u001b[0;34m[\u001b[0m\u001b[0mi\u001b[0m\u001b[0;34m]\u001b[0m\u001b[0;34m:\u001b[0m\u001b[0;34m\u001b[0m\u001b[0;34m\u001b[0m\u001b[0m\n\u001b[0;32m---> 65\u001b[0;31m             \u001b[0;32mif\u001b[0m \u001b[0mls\u001b[0m\u001b[0;34m.\u001b[0m\u001b[0miloc\u001b[0m\u001b[0;34m[\u001b[0m\u001b[0mindex\u001b[0m\u001b[0;34m]\u001b[0m \u001b[0;34m==\u001b[0m \u001b[0mtrue_label\u001b[0m\u001b[0;34m:\u001b[0m\u001b[0;34m\u001b[0m\u001b[0;34m\u001b[0m\u001b[0m\n\u001b[0m\u001b[1;32m     66\u001b[0m                 \u001b[0mtp\u001b[0m \u001b[0;34m+=\u001b[0m \u001b[0;36m1\u001b[0m\u001b[0;34m\u001b[0m\u001b[0;34m\u001b[0m\u001b[0m\n\u001b[1;32m     67\u001b[0m             \u001b[0;32melse\u001b[0m\u001b[0;34m:\u001b[0m\u001b[0;34m\u001b[0m\u001b[0;34m\u001b[0m\u001b[0m\n",
      "\u001b[0;31mKeyboardInterrupt\u001b[0m: "
     ]
    }
   ],
   "source": [
    "train(model, optimizer, lf, sched, metric_fc, tr_dl, val_dl, n_epochs, val_df, \n",
    "      train_transforms, val_transforms, save_path='data/tests_model_image/test', val_first=False)"
   ]
  },
  {
   "cell_type": "markdown",
   "metadata": {},
   "source": [
    "## Texts"
   ]
  },
  {
   "cell_type": "code",
   "execution_count": 1,
   "metadata": {},
   "outputs": [],
   "source": [
    "from utils import compute_f1, load_data\n",
    "from text_train.imports import *\n",
    "from text_train.data import TextDS, text_to_device\n",
    "from text_train.arcface import ArcMarginProduct\n",
    "from text_train.model import EMBBert\n",
    "from text_train.train import train, get_hparams\n",
    "np.random.seed(1337)\n",
    "device = torch.device('cuda')"
   ]
  },
  {
   "cell_type": "code",
   "execution_count": 2,
   "metadata": {},
   "outputs": [],
   "source": [
    "df, train_df, val_df, train_labels, val_labels = load_data()"
   ]
  },
  {
   "cell_type": "code",
   "execution_count": 3,
   "metadata": {},
   "outputs": [],
   "source": [
    "bs = 64"
   ]
  },
  {
   "cell_type": "code",
   "execution_count": 4,
   "metadata": {},
   "outputs": [],
   "source": [
    "# creating dataloaders\n",
    "\n",
    "language_model = 'bert-base-uncased'\n",
    "tokenizer = BertTokenizer.from_pretrained(language_model)\n",
    "\n",
    "tr_ds = TextDS(df, tokenizer)\n",
    "tr_dl = DataLoader(tr_ds, batch_size = bs, shuffle = True, pin_memory = True)\n",
    "\n",
    "val_ds = TextDS(val_df, tokenizer)\n",
    "val_dl = DataLoader(val_ds, batch_size = bs, shuffle = False, pin_memory = True)"
   ]
  },
  {
   "cell_type": "code",
   "execution_count": 14,
   "metadata": {},
   "outputs": [],
   "source": [
    "full_ds = TextDS(df, tokenizer)\n",
    "full_dl = DataLoader(full_ds, batch_size = bs, shuffle = False, pin_memory = True)"
   ]
  },
  {
   "cell_type": "code",
   "execution_count": 5,
   "metadata": {},
   "outputs": [],
   "source": [
    "# model\n",
    "model = EMBBert().to(device)\n",
    "metric_fc = ArcMarginProduct(512, df['label_group'].nunique(), s=30, m=0.5, easy_margin=False).to(device)"
   ]
  },
  {
   "cell_type": "code",
   "execution_count": 6,
   "metadata": {},
   "outputs": [],
   "source": [
    "n_epochs, lf, params, optimizer, sched = get_hparams(tr_dl, model, metric_fc, lr=1e-4, n_epochs=10)"
   ]
  },
  {
   "cell_type": "code",
   "execution_count": 7,
   "metadata": {
    "scrolled": true
   },
   "outputs": [
    {
     "data": {
      "application/vnd.jupyter.widget-view+json": {
       "model_id": "d4831f61829b4f7b9cd3858782cd131a",
       "version_major": 2,
       "version_minor": 0
      },
      "text/plain": [
       "HBox(children=(FloatProgress(value=0.0, max=10.0), HTML(value='')))"
      ]
     },
     "metadata": {},
     "output_type": "display_data"
    },
    {
     "data": {
      "application/vnd.jupyter.widget-view+json": {
       "model_id": "b2836ac038254987a3853de8f13a2c18",
       "version_major": 2,
       "version_minor": 0
      },
      "text/plain": [
       "HBox(children=(FloatProgress(value=0.0, max=536.0), HTML(value='')))"
      ]
     },
     "metadata": {},
     "output_type": "display_data"
    },
    {
     "name": "stdout",
     "output_type": "stream",
     "text": [
      "\n"
     ]
    },
    {
     "data": {
      "application/vnd.jupyter.widget-view+json": {
       "model_id": "158c7e72af424651a41ebf7dfd6050f4",
       "version_major": 2,
       "version_minor": 0
      },
      "text/plain": [
       "HBox(children=(FloatProgress(value=0.0, max=161.0), HTML(value='')))"
      ]
     },
     "metadata": {},
     "output_type": "display_data"
    },
    {
     "name": "stdout",
     "output_type": "stream",
     "text": [
      "\n"
     ]
    },
    {
     "data": {
      "application/vnd.jupyter.widget-view+json": {
       "model_id": "",
       "version_major": 2,
       "version_minor": 0
      },
      "text/plain": [
       "HBox(children=(FloatProgress(value=0.0, max=10296.0), HTML(value='')))"
      ]
     },
     "metadata": {},
     "output_type": "display_data"
    },
    {
     "data": {
      "application/vnd.jupyter.widget-view+json": {
       "model_id": "",
       "version_major": 2,
       "version_minor": 0
      },
      "text/plain": [
       "HBox(children=(FloatProgress(value=0.0, max=10296.0), HTML(value='')))"
      ]
     },
     "metadata": {},
     "output_type": "display_data"
    },
    {
     "name": "stdout",
     "output_type": "stream",
     "text": [
      "f1 score : 0.5393978641241446 | precision : 0.9857564428169381 | recall : 0.41386682242254036\n"
     ]
    },
    {
     "data": {
      "application/vnd.jupyter.widget-view+json": {
       "model_id": "",
       "version_major": 2,
       "version_minor": 0
      },
      "text/plain": [
       "HBox(children=(FloatProgress(value=0.0, max=10296.0), HTML(value='')))"
      ]
     },
     "metadata": {},
     "output_type": "display_data"
    },
    {
     "data": {
      "application/vnd.jupyter.widget-view+json": {
       "model_id": "",
       "version_major": 2,
       "version_minor": 0
      },
      "text/plain": [
       "HBox(children=(FloatProgress(value=0.0, max=10296.0), HTML(value='')))"
      ]
     },
     "metadata": {},
     "output_type": "display_data"
    },
    {
     "name": "stdout",
     "output_type": "stream",
     "text": [
      "f1 score : 0.5856510054626642 | precision : 0.920408225449109 | recall : 0.495706869016028\n"
     ]
    },
    {
     "data": {
      "application/vnd.jupyter.widget-view+json": {
       "model_id": "",
       "version_major": 2,
       "version_minor": 0
      },
      "text/plain": [
       "HBox(children=(FloatProgress(value=0.0, max=10296.0), HTML(value='')))"
      ]
     },
     "metadata": {},
     "output_type": "display_data"
    },
    {
     "data": {
      "application/vnd.jupyter.widget-view+json": {
       "model_id": "",
       "version_major": 2,
       "version_minor": 0
      },
      "text/plain": [
       "HBox(children=(FloatProgress(value=0.0, max=10296.0), HTML(value='')))"
      ]
     },
     "metadata": {},
     "output_type": "display_data"
    },
    {
     "name": "stdout",
     "output_type": "stream",
     "text": [
      "f1 score : 0.4729467528359827 | precision : 0.5668552154900484 | recall : 0.6158096204246976\n"
     ]
    },
    {
     "data": {
      "application/vnd.jupyter.widget-view+json": {
       "model_id": "",
       "version_major": 2,
       "version_minor": 0
      },
      "text/plain": [
       "HBox(children=(FloatProgress(value=0.0, max=10296.0), HTML(value='')))"
      ]
     },
     "metadata": {},
     "output_type": "display_data"
    },
    {
     "data": {
      "application/vnd.jupyter.widget-view+json": {
       "model_id": "",
       "version_major": 2,
       "version_minor": 0
      },
      "text/plain": [
       "HBox(children=(FloatProgress(value=0.0, max=10296.0), HTML(value='')))"
      ]
     },
     "metadata": {},
     "output_type": "display_data"
    },
    {
     "name": "stdout",
     "output_type": "stream",
     "text": [
      "f1 score : 0.2231655320077384 | precision : 0.1947180422016007 | recall : 0.7040833473677098\n"
     ]
    },
    {
     "data": {
      "application/vnd.jupyter.widget-view+json": {
       "model_id": "",
       "version_major": 2,
       "version_minor": 0
      },
      "text/plain": [
       "HBox(children=(FloatProgress(value=0.0, max=10296.0), HTML(value='')))"
      ]
     },
     "metadata": {},
     "output_type": "display_data"
    },
    {
     "data": {
      "application/vnd.jupyter.widget-view+json": {
       "model_id": "",
       "version_major": 2,
       "version_minor": 0
      },
      "text/plain": [
       "HBox(children=(FloatProgress(value=0.0, max=10296.0), HTML(value='')))"
      ]
     },
     "metadata": {},
     "output_type": "display_data"
    },
    {
     "name": "stdout",
     "output_type": "stream",
     "text": [
      "f1 score : 0.1388632290461438 | precision : 0.09458227186598418 | recall : 0.728945658078682\n"
     ]
    },
    {
     "data": {
      "application/vnd.jupyter.widget-view+json": {
       "model_id": "",
       "version_major": 2,
       "version_minor": 0
      },
      "text/plain": [
       "HBox(children=(FloatProgress(value=0.0, max=10296.0), HTML(value='')))"
      ]
     },
     "metadata": {},
     "output_type": "display_data"
    },
    {
     "data": {
      "application/vnd.jupyter.widget-view+json": {
       "model_id": "",
       "version_major": 2,
       "version_minor": 0
      },
      "text/plain": [
       "HBox(children=(FloatProgress(value=0.0, max=10296.0), HTML(value='')))"
      ]
     },
     "metadata": {},
     "output_type": "display_data"
    },
    {
     "name": "stdout",
     "output_type": "stream",
     "text": [
      "f1 score : 0.12345467162577596 | precision : 0.07633051829943249 | recall : 0.7341836525038111\n"
     ]
    },
    {
     "data": {
      "application/vnd.jupyter.widget-view+json": {
       "model_id": "",
       "version_major": 2,
       "version_minor": 0
      },
      "text/plain": [
       "HBox(children=(FloatProgress(value=0.0, max=10296.0), HTML(value='')))"
      ]
     },
     "metadata": {},
     "output_type": "display_data"
    },
    {
     "data": {
      "application/vnd.jupyter.widget-view+json": {
       "model_id": "",
       "version_major": 2,
       "version_minor": 0
      },
      "text/plain": [
       "HBox(children=(FloatProgress(value=0.0, max=10296.0), HTML(value='')))"
      ]
     },
     "metadata": {},
     "output_type": "display_data"
    },
    {
     "name": "stdout",
     "output_type": "stream",
     "text": [
      "f1 score : 0.12115235340895485 | precision : 0.07347690970322215 | recall : 0.7349750681875247\n"
     ]
    },
    {
     "data": {
      "application/vnd.jupyter.widget-view+json": {
       "model_id": "",
       "version_major": 2,
       "version_minor": 0
      },
      "text/plain": [
       "HBox(children=(FloatProgress(value=0.0, max=10296.0), HTML(value='')))"
      ]
     },
     "metadata": {},
     "output_type": "display_data"
    },
    {
     "data": {
      "application/vnd.jupyter.widget-view+json": {
       "model_id": "",
       "version_major": 2,
       "version_minor": 0
      },
      "text/plain": [
       "HBox(children=(FloatProgress(value=0.0, max=10296.0), HTML(value='')))"
      ]
     },
     "metadata": {},
     "output_type": "display_data"
    },
    {
     "name": "stdout",
     "output_type": "stream",
     "text": [
      "f1 score : 0.1205559175601722 | precision : 0.07287619787619268 | recall : 0.7350412898446554\n"
     ]
    },
    {
     "data": {
      "application/vnd.jupyter.widget-view+json": {
       "model_id": "",
       "version_major": 2,
       "version_minor": 0
      },
      "text/plain": [
       "HBox(children=(FloatProgress(value=0.0, max=10296.0), HTML(value='')))"
      ]
     },
     "metadata": {},
     "output_type": "display_data"
    },
    {
     "data": {
      "application/vnd.jupyter.widget-view+json": {
       "model_id": "",
       "version_major": 2,
       "version_minor": 0
      },
      "text/plain": [
       "HBox(children=(FloatProgress(value=0.0, max=10296.0), HTML(value='')))"
      ]
     },
     "metadata": {},
     "output_type": "display_data"
    },
    {
     "name": "stdout",
     "output_type": "stream",
     "text": [
      "f1 score : 0.12051482617292697 | precision : 0.07284770784770264 | recall : 0.7350412898446554\n"
     ]
    },
    {
     "data": {
      "application/vnd.jupyter.widget-view+json": {
       "model_id": "",
       "version_major": 2,
       "version_minor": 0
      },
      "text/plain": [
       "HBox(children=(FloatProgress(value=0.0, max=10296.0), HTML(value='')))"
      ]
     },
     "metadata": {},
     "output_type": "display_data"
    },
    {
     "data": {
      "application/vnd.jupyter.widget-view+json": {
       "model_id": "",
       "version_major": 2,
       "version_minor": 0
      },
      "text/plain": [
       "HBox(children=(FloatProgress(value=0.0, max=10296.0), HTML(value='')))"
      ]
     },
     "metadata": {},
     "output_type": "display_data"
    },
    {
     "name": "stdout",
     "output_type": "stream",
     "text": [
      "f1 score : 0.12051482617292697 | precision : 0.07284770784770264 | recall : 0.7350412898446554\n"
     ]
    },
    {
     "data": {
      "application/vnd.jupyter.widget-view+json": {
       "model_id": "",
       "version_major": 2,
       "version_minor": 0
      },
      "text/plain": [
       "HBox(children=(FloatProgress(value=0.0, max=10296.0), HTML(value='')))"
      ]
     },
     "metadata": {},
     "output_type": "display_data"
    },
    {
     "data": {
      "application/vnd.jupyter.widget-view+json": {
       "model_id": "",
       "version_major": 2,
       "version_minor": 0
      },
      "text/plain": [
       "HBox(children=(FloatProgress(value=0.0, max=10296.0), HTML(value='')))"
      ]
     },
     "metadata": {},
     "output_type": "display_data"
    },
    {
     "name": "stdout",
     "output_type": "stream",
     "text": [
      "f1 score : 0.12051482617292697 | precision : 0.07284770784770264 | recall : 0.7350412898446554\n"
     ]
    },
    {
     "data": {
      "application/vnd.jupyter.widget-view+json": {
       "model_id": "",
       "version_major": 2,
       "version_minor": 0
      },
      "text/plain": [
       "HBox(children=(FloatProgress(value=0.0, max=10296.0), HTML(value='')))"
      ]
     },
     "metadata": {},
     "output_type": "display_data"
    },
    {
     "data": {
      "application/vnd.jupyter.widget-view+json": {
       "model_id": "",
       "version_major": 2,
       "version_minor": 0
      },
      "text/plain": [
       "HBox(children=(FloatProgress(value=0.0, max=10296.0), HTML(value='')))"
      ]
     },
     "metadata": {},
     "output_type": "display_data"
    },
    {
     "name": "stdout",
     "output_type": "stream",
     "text": [
      "f1 score : 0.12051482617292697 | precision : 0.07284770784770264 | recall : 0.7350412898446554\n"
     ]
    },
    {
     "data": {
      "application/vnd.jupyter.widget-view+json": {
       "model_id": "",
       "version_major": 2,
       "version_minor": 0
      },
      "text/plain": [
       "HBox(children=(FloatProgress(value=0.0, max=10296.0), HTML(value='')))"
      ]
     },
     "metadata": {},
     "output_type": "display_data"
    },
    {
     "data": {
      "application/vnd.jupyter.widget-view+json": {
       "model_id": "",
       "version_major": 2,
       "version_minor": 0
      },
      "text/plain": [
       "HBox(children=(FloatProgress(value=0.0, max=10296.0), HTML(value='')))"
      ]
     },
     "metadata": {},
     "output_type": "display_data"
    },
    {
     "name": "stdout",
     "output_type": "stream",
     "text": [
      "f1 score : 0.12051482617292697 | precision : 0.07284770784770264 | recall : 0.7350412898446554\n"
     ]
    },
    {
     "data": {
      "application/vnd.jupyter.widget-view+json": {
       "model_id": "",
       "version_major": 2,
       "version_minor": 0
      },
      "text/plain": [
       "HBox(children=(FloatProgress(value=0.0, max=10296.0), HTML(value='')))"
      ]
     },
     "metadata": {},
     "output_type": "display_data"
    },
    {
     "data": {
      "application/vnd.jupyter.widget-view+json": {
       "model_id": "",
       "version_major": 2,
       "version_minor": 0
      },
      "text/plain": [
       "HBox(children=(FloatProgress(value=0.0, max=10296.0), HTML(value='')))"
      ]
     },
     "metadata": {},
     "output_type": "display_data"
    },
    {
     "name": "stdout",
     "output_type": "stream",
     "text": [
      "f1 score : 0.12051482617292697 | precision : 0.07284770784770264 | recall : 0.7350412898446554\n"
     ]
    },
    {
     "data": {
      "application/vnd.jupyter.widget-view+json": {
       "model_id": "",
       "version_major": 2,
       "version_minor": 0
      },
      "text/plain": [
       "HBox(children=(FloatProgress(value=0.0, max=10296.0), HTML(value='')))"
      ]
     },
     "metadata": {},
     "output_type": "display_data"
    },
    {
     "data": {
      "application/vnd.jupyter.widget-view+json": {
       "model_id": "",
       "version_major": 2,
       "version_minor": 0
      },
      "text/plain": [
       "HBox(children=(FloatProgress(value=0.0, max=10296.0), HTML(value='')))"
      ]
     },
     "metadata": {},
     "output_type": "display_data"
    },
    {
     "name": "stdout",
     "output_type": "stream",
     "text": [
      "f1 score : 0.12051482617292697 | precision : 0.07284770784770264 | recall : 0.7350412898446554\n",
      "Saved best model ep 0 with f score : 0.5856510054626642\n",
      "Ep 0: Train loss 24.21394616098546 | Val f score 0.5856510054626642\n"
     ]
    },
    {
     "data": {
      "application/vnd.jupyter.widget-view+json": {
       "model_id": "15b54f0213424a7f8284d290dd3f05e4",
       "version_major": 2,
       "version_minor": 0
      },
      "text/plain": [
       "HBox(children=(FloatProgress(value=0.0, max=536.0), HTML(value='')))"
      ]
     },
     "metadata": {},
     "output_type": "display_data"
    },
    {
     "name": "stdout",
     "output_type": "stream",
     "text": [
      "\n"
     ]
    },
    {
     "data": {
      "application/vnd.jupyter.widget-view+json": {
       "model_id": "e8029204125c4622b6c7771cb1d64703",
       "version_major": 2,
       "version_minor": 0
      },
      "text/plain": [
       "HBox(children=(FloatProgress(value=0.0, max=161.0), HTML(value='')))"
      ]
     },
     "metadata": {},
     "output_type": "display_data"
    },
    {
     "name": "stdout",
     "output_type": "stream",
     "text": [
      "\n"
     ]
    },
    {
     "data": {
      "application/vnd.jupyter.widget-view+json": {
       "model_id": "",
       "version_major": 2,
       "version_minor": 0
      },
      "text/plain": [
       "HBox(children=(FloatProgress(value=0.0, max=10296.0), HTML(value='')))"
      ]
     },
     "metadata": {},
     "output_type": "display_data"
    },
    {
     "data": {
      "application/vnd.jupyter.widget-view+json": {
       "model_id": "",
       "version_major": 2,
       "version_minor": 0
      },
      "text/plain": [
       "HBox(children=(FloatProgress(value=0.0, max=10296.0), HTML(value='')))"
      ]
     },
     "metadata": {},
     "output_type": "display_data"
    },
    {
     "name": "stdout",
     "output_type": "stream",
     "text": [
      "f1 score : 0.5162467493728051 | precision : 0.9921087014837017 | recall : 0.38359584474369224\n"
     ]
    },
    {
     "data": {
      "application/vnd.jupyter.widget-view+json": {
       "model_id": "",
       "version_major": 2,
       "version_minor": 0
      },
      "text/plain": [
       "HBox(children=(FloatProgress(value=0.0, max=10296.0), HTML(value='')))"
      ]
     },
     "metadata": {},
     "output_type": "display_data"
    },
    {
     "data": {
      "application/vnd.jupyter.widget-view+json": {
       "model_id": "",
       "version_major": 2,
       "version_minor": 0
      },
      "text/plain": [
       "HBox(children=(FloatProgress(value=0.0, max=10296.0), HTML(value='')))"
      ]
     },
     "metadata": {},
     "output_type": "display_data"
    },
    {
     "name": "stdout",
     "output_type": "stream",
     "text": [
      "f1 score : 0.5449766353134019 | precision : 0.9866166114230012 | recall : 0.4164796677920042\n"
     ]
    },
    {
     "data": {
      "application/vnd.jupyter.widget-view+json": {
       "model_id": "",
       "version_major": 2,
       "version_minor": 0
      },
      "text/plain": [
       "HBox(children=(FloatProgress(value=0.0, max=10296.0), HTML(value='')))"
      ]
     },
     "metadata": {},
     "output_type": "display_data"
    },
    {
     "data": {
      "application/vnd.jupyter.widget-view+json": {
       "model_id": "",
       "version_major": 2,
       "version_minor": 0
      },
      "text/plain": [
       "HBox(children=(FloatProgress(value=0.0, max=10296.0), HTML(value='')))"
      ]
     },
     "metadata": {},
     "output_type": "display_data"
    },
    {
     "name": "stdout",
     "output_type": "stream",
     "text": [
      "f1 score : 0.57960209116418 | precision : 0.974528555612705 | recall : 0.4595108927497017\n"
     ]
    },
    {
     "data": {
      "application/vnd.jupyter.widget-view+json": {
       "model_id": "",
       "version_major": 2,
       "version_minor": 0
      },
      "text/plain": [
       "HBox(children=(FloatProgress(value=0.0, max=10296.0), HTML(value='')))"
      ]
     },
     "metadata": {},
     "output_type": "display_data"
    },
    {
     "data": {
      "application/vnd.jupyter.widget-view+json": {
       "model_id": "",
       "version_major": 2,
       "version_minor": 0
      },
      "text/plain": [
       "HBox(children=(FloatProgress(value=0.0, max=10296.0), HTML(value='')))"
      ]
     },
     "metadata": {},
     "output_type": "display_data"
    },
    {
     "name": "stdout",
     "output_type": "stream",
     "text": [
      "f1 score : 0.6171523820899651 | precision : 0.9536691672272303 | recall : 0.5141108183455707\n"
     ]
    },
    {
     "data": {
      "application/vnd.jupyter.widget-view+json": {
       "model_id": "",
       "version_major": 2,
       "version_minor": 0
      },
      "text/plain": [
       "HBox(children=(FloatProgress(value=0.0, max=10296.0), HTML(value='')))"
      ]
     },
     "metadata": {},
     "output_type": "display_data"
    },
    {
     "data": {
      "application/vnd.jupyter.widget-view+json": {
       "model_id": "",
       "version_major": 2,
       "version_minor": 0
      },
      "text/plain": [
       "HBox(children=(FloatProgress(value=0.0, max=10296.0), HTML(value='')))"
      ]
     },
     "metadata": {},
     "output_type": "display_data"
    },
    {
     "name": "stdout",
     "output_type": "stream",
     "text": [
      "f1 score : 0.6462344532221339 | precision : 0.9200531516216296 | recall : 0.5704465578258253\n"
     ]
    },
    {
     "data": {
      "application/vnd.jupyter.widget-view+json": {
       "model_id": "",
       "version_major": 2,
       "version_minor": 0
      },
      "text/plain": [
       "HBox(children=(FloatProgress(value=0.0, max=10296.0), HTML(value='')))"
      ]
     },
     "metadata": {},
     "output_type": "display_data"
    },
    {
     "data": {
      "application/vnd.jupyter.widget-view+json": {
       "model_id": "",
       "version_major": 2,
       "version_minor": 0
      },
      "text/plain": [
       "HBox(children=(FloatProgress(value=0.0, max=10296.0), HTML(value='')))"
      ]
     },
     "metadata": {},
     "output_type": "display_data"
    },
    {
     "name": "stdout",
     "output_type": "stream",
     "text": [
      "f1 score : 0.6689485704135544 | precision : 0.8783935931108898 | recall : 0.6318899439381377\n"
     ]
    },
    {
     "data": {
      "application/vnd.jupyter.widget-view+json": {
       "model_id": "",
       "version_major": 2,
       "version_minor": 0
      },
      "text/plain": [
       "HBox(children=(FloatProgress(value=0.0, max=10296.0), HTML(value='')))"
      ]
     },
     "metadata": {},
     "output_type": "display_data"
    },
    {
     "data": {
      "application/vnd.jupyter.widget-view+json": {
       "model_id": "",
       "version_major": 2,
       "version_minor": 0
      },
      "text/plain": [
       "HBox(children=(FloatProgress(value=0.0, max=10296.0), HTML(value='')))"
      ]
     },
     "metadata": {},
     "output_type": "display_data"
    },
    {
     "name": "stdout",
     "output_type": "stream",
     "text": [
      "f1 score : 0.6742060399622521 | precision : 0.8179942221907883 | recall : 0.6919807300273505\n"
     ]
    },
    {
     "data": {
      "application/vnd.jupyter.widget-view+json": {
       "model_id": "",
       "version_major": 2,
       "version_minor": 0
      },
      "text/plain": [
       "HBox(children=(FloatProgress(value=0.0, max=10296.0), HTML(value='')))"
      ]
     },
     "metadata": {},
     "output_type": "display_data"
    },
    {
     "data": {
      "application/vnd.jupyter.widget-view+json": {
       "model_id": "",
       "version_major": 2,
       "version_minor": 0
      },
      "text/plain": [
       "HBox(children=(FloatProgress(value=0.0, max=10296.0), HTML(value='')))"
      ]
     },
     "metadata": {},
     "output_type": "display_data"
    },
    {
     "name": "stdout",
     "output_type": "stream",
     "text": [
      "f1 score : 0.6593267289303012 | precision : 0.7416902726991292 | recall : 0.7453810624195718\n"
     ]
    },
    {
     "data": {
      "application/vnd.jupyter.widget-view+json": {
       "model_id": "",
       "version_major": 2,
       "version_minor": 0
      },
      "text/plain": [
       "HBox(children=(FloatProgress(value=0.0, max=10296.0), HTML(value='')))"
      ]
     },
     "metadata": {},
     "output_type": "display_data"
    },
    {
     "data": {
      "application/vnd.jupyter.widget-view+json": {
       "model_id": "",
       "version_major": 2,
       "version_minor": 0
      },
      "text/plain": [
       "HBox(children=(FloatProgress(value=0.0, max=10296.0), HTML(value='')))"
      ]
     },
     "metadata": {},
     "output_type": "display_data"
    },
    {
     "name": "stdout",
     "output_type": "stream",
     "text": [
      "f1 score : 0.6174226606332669 | precision : 0.6399469294486716 | recall : 0.7950866449303859\n"
     ]
    },
    {
     "data": {
      "application/vnd.jupyter.widget-view+json": {
       "model_id": "",
       "version_major": 2,
       "version_minor": 0
      },
      "text/plain": [
       "HBox(children=(FloatProgress(value=0.0, max=10296.0), HTML(value='')))"
      ]
     },
     "metadata": {},
     "output_type": "display_data"
    },
    {
     "data": {
      "application/vnd.jupyter.widget-view+json": {
       "model_id": "",
       "version_major": 2,
       "version_minor": 0
      },
      "text/plain": [
       "HBox(children=(FloatProgress(value=0.0, max=10296.0), HTML(value='')))"
      ]
     },
     "metadata": {},
     "output_type": "display_data"
    },
    {
     "name": "stdout",
     "output_type": "stream",
     "text": [
      "f1 score : 0.542896370733394 | precision : 0.5157831419577376 | recall : 0.8380793555796356\n"
     ]
    },
    {
     "data": {
      "application/vnd.jupyter.widget-view+json": {
       "model_id": "",
       "version_major": 2,
       "version_minor": 0
      },
      "text/plain": [
       "HBox(children=(FloatProgress(value=0.0, max=10296.0), HTML(value='')))"
      ]
     },
     "metadata": {},
     "output_type": "display_data"
    },
    {
     "data": {
      "application/vnd.jupyter.widget-view+json": {
       "model_id": "",
       "version_major": 2,
       "version_minor": 0
      },
      "text/plain": [
       "HBox(children=(FloatProgress(value=0.0, max=10296.0), HTML(value='')))"
      ]
     },
     "metadata": {},
     "output_type": "display_data"
    },
    {
     "name": "stdout",
     "output_type": "stream",
     "text": [
      "f1 score : 0.4331115980275315 | precision : 0.3697266037758318 | recall : 0.8724662328279065\n"
     ]
    },
    {
     "data": {
      "application/vnd.jupyter.widget-view+json": {
       "model_id": "",
       "version_major": 2,
       "version_minor": 0
      },
      "text/plain": [
       "HBox(children=(FloatProgress(value=0.0, max=10296.0), HTML(value='')))"
      ]
     },
     "metadata": {},
     "output_type": "display_data"
    },
    {
     "data": {
      "application/vnd.jupyter.widget-view+json": {
       "model_id": "",
       "version_major": 2,
       "version_minor": 0
      },
      "text/plain": [
       "HBox(children=(FloatProgress(value=0.0, max=10296.0), HTML(value='')))"
      ]
     },
     "metadata": {},
     "output_type": "display_data"
    },
    {
     "name": "stdout",
     "output_type": "stream",
     "text": [
      "f1 score : 0.304913072831942 | precision : 0.22831393938217628 | recall : 0.897182868215218\n"
     ]
    },
    {
     "data": {
      "application/vnd.jupyter.widget-view+json": {
       "model_id": "",
       "version_major": 2,
       "version_minor": 0
      },
      "text/plain": [
       "HBox(children=(FloatProgress(value=0.0, max=10296.0), HTML(value='')))"
      ]
     },
     "metadata": {},
     "output_type": "display_data"
    },
    {
     "data": {
      "application/vnd.jupyter.widget-view+json": {
       "model_id": "",
       "version_major": 2,
       "version_minor": 0
      },
      "text/plain": [
       "HBox(children=(FloatProgress(value=0.0, max=10296.0), HTML(value='')))"
      ]
     },
     "metadata": {},
     "output_type": "display_data"
    },
    {
     "name": "stdout",
     "output_type": "stream",
     "text": [
      "f1 score : 0.2048351531918121 | precision : 0.13652152419588984 | recall : 0.9082467132318957\n"
     ]
    },
    {
     "data": {
      "application/vnd.jupyter.widget-view+json": {
       "model_id": "",
       "version_major": 2,
       "version_minor": 0
      },
      "text/plain": [
       "HBox(children=(FloatProgress(value=0.0, max=10296.0), HTML(value='')))"
      ]
     },
     "metadata": {},
     "output_type": "display_data"
    },
    {
     "data": {
      "application/vnd.jupyter.widget-view+json": {
       "model_id": "",
       "version_major": 2,
       "version_minor": 0
      },
      "text/plain": [
       "HBox(children=(FloatProgress(value=0.0, max=10296.0), HTML(value='')))"
      ]
     },
     "metadata": {},
     "output_type": "display_data"
    },
    {
     "name": "stdout",
     "output_type": "stream",
     "text": [
      "f1 score : 0.1701387602469263 | precision : 0.107675980894912 | recall : 0.9105767520202679\n"
     ]
    },
    {
     "data": {
      "application/vnd.jupyter.widget-view+json": {
       "model_id": "",
       "version_major": 2,
       "version_minor": 0
      },
      "text/plain": [
       "HBox(children=(FloatProgress(value=0.0, max=10296.0), HTML(value='')))"
      ]
     },
     "metadata": {},
     "output_type": "display_data"
    },
    {
     "data": {
      "application/vnd.jupyter.widget-view+json": {
       "model_id": "",
       "version_major": 2,
       "version_minor": 0
      },
      "text/plain": [
       "HBox(children=(FloatProgress(value=0.0, max=10296.0), HTML(value='')))"
      ]
     },
     "metadata": {},
     "output_type": "display_data"
    },
    {
     "name": "stdout",
     "output_type": "stream",
     "text": [
      "f1 score : 0.16587541023706812 | precision : 0.10397677511249427 | recall : 0.9108500897936056\n",
      "Saved best model ep 1 with f score : 0.6742060399622521\n",
      "Ep 1: Train loss 22.40576715255851 | Val f score 0.6742060399622521\n"
     ]
    },
    {
     "data": {
      "application/vnd.jupyter.widget-view+json": {
       "model_id": "73910356743644e6ac8a38851e6c481d",
       "version_major": 2,
       "version_minor": 0
      },
      "text/plain": [
       "HBox(children=(FloatProgress(value=0.0, max=536.0), HTML(value='')))"
      ]
     },
     "metadata": {},
     "output_type": "display_data"
    },
    {
     "name": "stdout",
     "output_type": "stream",
     "text": [
      "\n"
     ]
    },
    {
     "data": {
      "application/vnd.jupyter.widget-view+json": {
       "model_id": "df98c402713a4990867e9e76dbf0b77d",
       "version_major": 2,
       "version_minor": 0
      },
      "text/plain": [
       "HBox(children=(FloatProgress(value=0.0, max=161.0), HTML(value='')))"
      ]
     },
     "metadata": {},
     "output_type": "display_data"
    },
    {
     "name": "stdout",
     "output_type": "stream",
     "text": [
      "\n"
     ]
    },
    {
     "data": {
      "application/vnd.jupyter.widget-view+json": {
       "model_id": "",
       "version_major": 2,
       "version_minor": 0
      },
      "text/plain": [
       "HBox(children=(FloatProgress(value=0.0, max=10296.0), HTML(value='')))"
      ]
     },
     "metadata": {},
     "output_type": "display_data"
    },
    {
     "data": {
      "application/vnd.jupyter.widget-view+json": {
       "model_id": "",
       "version_major": 2,
       "version_minor": 0
      },
      "text/plain": [
       "HBox(children=(FloatProgress(value=0.0, max=10296.0), HTML(value='')))"
      ]
     },
     "metadata": {},
     "output_type": "display_data"
    },
    {
     "name": "stdout",
     "output_type": "stream",
     "text": [
      "f1 score : 0.5207304349380225 | precision : 0.995041763791764 | recall : 0.3861302311144538\n"
     ]
    },
    {
     "data": {
      "application/vnd.jupyter.widget-view+json": {
       "model_id": "",
       "version_major": 2,
       "version_minor": 0
      },
      "text/plain": [
       "HBox(children=(FloatProgress(value=0.0, max=10296.0), HTML(value='')))"
      ]
     },
     "metadata": {},
     "output_type": "display_data"
    },
    {
     "data": {
      "application/vnd.jupyter.widget-view+json": {
       "model_id": "",
       "version_major": 2,
       "version_minor": 0
      },
      "text/plain": [
       "HBox(children=(FloatProgress(value=0.0, max=10296.0), HTML(value='')))"
      ]
     },
     "metadata": {},
     "output_type": "display_data"
    },
    {
     "name": "stdout",
     "output_type": "stream",
     "text": [
      "f1 score : 0.5575745616746289 | precision : 0.9919753647026378 | recall : 0.4263864270919485\n"
     ]
    },
    {
     "data": {
      "application/vnd.jupyter.widget-view+json": {
       "model_id": "",
       "version_major": 2,
       "version_minor": 0
      },
      "text/plain": [
       "HBox(children=(FloatProgress(value=0.0, max=10296.0), HTML(value='')))"
      ]
     },
     "metadata": {},
     "output_type": "display_data"
    },
    {
     "data": {
      "application/vnd.jupyter.widget-view+json": {
       "model_id": "",
       "version_major": 2,
       "version_minor": 0
      },
      "text/plain": [
       "HBox(children=(FloatProgress(value=0.0, max=10296.0), HTML(value='')))"
      ]
     },
     "metadata": {},
     "output_type": "display_data"
    },
    {
     "name": "stdout",
     "output_type": "stream",
     "text": [
      "f1 score : 0.5984004712087144 | precision : 0.9865836736440352 | recall : 0.4743612928952185\n"
     ]
    },
    {
     "data": {
      "application/vnd.jupyter.widget-view+json": {
       "model_id": "",
       "version_major": 2,
       "version_minor": 0
      },
      "text/plain": [
       "HBox(children=(FloatProgress(value=0.0, max=10296.0), HTML(value='')))"
      ]
     },
     "metadata": {},
     "output_type": "display_data"
    },
    {
     "data": {
      "application/vnd.jupyter.widget-view+json": {
       "model_id": "",
       "version_major": 2,
       "version_minor": 0
      },
      "text/plain": [
       "HBox(children=(FloatProgress(value=0.0, max=10296.0), HTML(value='')))"
      ]
     },
     "metadata": {},
     "output_type": "display_data"
    },
    {
     "name": "stdout",
     "output_type": "stream",
     "text": [
      "f1 score : 0.6397187605968364 | precision : 0.9766977066202537 | recall : 0.527303849662878\n"
     ]
    },
    {
     "data": {
      "application/vnd.jupyter.widget-view+json": {
       "model_id": "",
       "version_major": 2,
       "version_minor": 0
      },
      "text/plain": [
       "HBox(children=(FloatProgress(value=0.0, max=10296.0), HTML(value='')))"
      ]
     },
     "metadata": {},
     "output_type": "display_data"
    },
    {
     "data": {
      "application/vnd.jupyter.widget-view+json": {
       "model_id": "",
       "version_major": 2,
       "version_minor": 0
      },
      "text/plain": [
       "HBox(children=(FloatProgress(value=0.0, max=10296.0), HTML(value='')))"
      ]
     },
     "metadata": {},
     "output_type": "display_data"
    },
    {
     "name": "stdout",
     "output_type": "stream",
     "text": [
      "f1 score : 0.6847453765376519 | precision : 0.9638285613050859 | recall : 0.590215487261084\n"
     ]
    },
    {
     "data": {
      "application/vnd.jupyter.widget-view+json": {
       "model_id": "",
       "version_major": 2,
       "version_minor": 0
      },
      "text/plain": [
       "HBox(children=(FloatProgress(value=0.0, max=10296.0), HTML(value='')))"
      ]
     },
     "metadata": {},
     "output_type": "display_data"
    },
    {
     "data": {
      "application/vnd.jupyter.widget-view+json": {
       "model_id": "",
       "version_major": 2,
       "version_minor": 0
      },
      "text/plain": [
       "HBox(children=(FloatProgress(value=0.0, max=10296.0), HTML(value='')))"
      ]
     },
     "metadata": {},
     "output_type": "display_data"
    },
    {
     "name": "stdout",
     "output_type": "stream",
     "text": [
      "f1 score : 0.7246621083848047 | precision : 0.9436476055620312 | recall : 0.6541250704238984\n"
     ]
    },
    {
     "data": {
      "application/vnd.jupyter.widget-view+json": {
       "model_id": "",
       "version_major": 2,
       "version_minor": 0
      },
      "text/plain": [
       "HBox(children=(FloatProgress(value=0.0, max=10296.0), HTML(value='')))"
      ]
     },
     "metadata": {},
     "output_type": "display_data"
    },
    {
     "data": {
      "application/vnd.jupyter.widget-view+json": {
       "model_id": "",
       "version_major": 2,
       "version_minor": 0
      },
      "text/plain": [
       "HBox(children=(FloatProgress(value=0.0, max=10296.0), HTML(value='')))"
      ]
     },
     "metadata": {},
     "output_type": "display_data"
    },
    {
     "name": "stdout",
     "output_type": "stream",
     "text": [
      "f1 score : 0.7528775884656619 | precision : 0.9131048097925736 | recall : 0.714946612596529\n"
     ]
    },
    {
     "data": {
      "application/vnd.jupyter.widget-view+json": {
       "model_id": "",
       "version_major": 2,
       "version_minor": 0
      },
      "text/plain": [
       "HBox(children=(FloatProgress(value=0.0, max=10296.0), HTML(value='')))"
      ]
     },
     "metadata": {},
     "output_type": "display_data"
    },
    {
     "data": {
      "application/vnd.jupyter.widget-view+json": {
       "model_id": "",
       "version_major": 2,
       "version_minor": 0
      },
      "text/plain": [
       "HBox(children=(FloatProgress(value=0.0, max=10296.0), HTML(value='')))"
      ]
     },
     "metadata": {},
     "output_type": "display_data"
    },
    {
     "name": "stdout",
     "output_type": "stream",
     "text": [
      "f1 score : 0.7670006675437421 | precision : 0.8715020097712629 | recall : 0.7694727395298495\n"
     ]
    },
    {
     "data": {
      "application/vnd.jupyter.widget-view+json": {
       "model_id": "",
       "version_major": 2,
       "version_minor": 0
      },
      "text/plain": [
       "HBox(children=(FloatProgress(value=0.0, max=10296.0), HTML(value='')))"
      ]
     },
     "metadata": {},
     "output_type": "display_data"
    },
    {
     "data": {
      "application/vnd.jupyter.widget-view+json": {
       "model_id": "",
       "version_major": 2,
       "version_minor": 0
      },
      "text/plain": [
       "HBox(children=(FloatProgress(value=0.0, max=10296.0), HTML(value='')))"
      ]
     },
     "metadata": {},
     "output_type": "display_data"
    },
    {
     "name": "stdout",
     "output_type": "stream",
     "text": [
      "f1 score : 0.7661934264262917 | precision : 0.8193791681757923 | recall : 0.8207420488970913\n"
     ]
    },
    {
     "data": {
      "application/vnd.jupyter.widget-view+json": {
       "model_id": "",
       "version_major": 2,
       "version_minor": 0
      },
      "text/plain": [
       "HBox(children=(FloatProgress(value=0.0, max=10296.0), HTML(value='')))"
      ]
     },
     "metadata": {},
     "output_type": "display_data"
    },
    {
     "data": {
      "application/vnd.jupyter.widget-view+json": {
       "model_id": "",
       "version_major": 2,
       "version_minor": 0
      },
      "text/plain": [
       "HBox(children=(FloatProgress(value=0.0, max=10296.0), HTML(value='')))"
      ]
     },
     "metadata": {},
     "output_type": "display_data"
    },
    {
     "name": "stdout",
     "output_type": "stream",
     "text": [
      "f1 score : 0.7409650659298073 | precision : 0.7474198268134878 | recall : 0.8632876248927224\n"
     ]
    },
    {
     "data": {
      "application/vnd.jupyter.widget-view+json": {
       "model_id": "",
       "version_major": 2,
       "version_minor": 0
      },
      "text/plain": [
       "HBox(children=(FloatProgress(value=0.0, max=10296.0), HTML(value='')))"
      ]
     },
     "metadata": {},
     "output_type": "display_data"
    },
    {
     "data": {
      "application/vnd.jupyter.widget-view+json": {
       "model_id": "",
       "version_major": 2,
       "version_minor": 0
      },
      "text/plain": [
       "HBox(children=(FloatProgress(value=0.0, max=10296.0), HTML(value='')))"
      ]
     },
     "metadata": {},
     "output_type": "display_data"
    },
    {
     "name": "stdout",
     "output_type": "stream",
     "text": [
      "f1 score : 0.6861106890008649 | precision : 0.6511528622817015 | recall : 0.8986323187728691\n"
     ]
    },
    {
     "data": {
      "application/vnd.jupyter.widget-view+json": {
       "model_id": "",
       "version_major": 2,
       "version_minor": 0
      },
      "text/plain": [
       "HBox(children=(FloatProgress(value=0.0, max=10296.0), HTML(value='')))"
      ]
     },
     "metadata": {},
     "output_type": "display_data"
    },
    {
     "data": {
      "application/vnd.jupyter.widget-view+json": {
       "model_id": "",
       "version_major": 2,
       "version_minor": 0
      },
      "text/plain": [
       "HBox(children=(FloatProgress(value=0.0, max=10296.0), HTML(value='')))"
      ]
     },
     "metadata": {},
     "output_type": "display_data"
    },
    {
     "name": "stdout",
     "output_type": "stream",
     "text": [
      "f1 score : 0.5853330299980377 | precision : 0.5119900146430265 | recall : 0.928344990367696\n"
     ]
    },
    {
     "data": {
      "application/vnd.jupyter.widget-view+json": {
       "model_id": "",
       "version_major": 2,
       "version_minor": 0
      },
      "text/plain": [
       "HBox(children=(FloatProgress(value=0.0, max=10296.0), HTML(value='')))"
      ]
     },
     "metadata": {},
     "output_type": "display_data"
    },
    {
     "data": {
      "application/vnd.jupyter.widget-view+json": {
       "model_id": "",
       "version_major": 2,
       "version_minor": 0
      },
      "text/plain": [
       "HBox(children=(FloatProgress(value=0.0, max=10296.0), HTML(value='')))"
      ]
     },
     "metadata": {},
     "output_type": "display_data"
    },
    {
     "name": "stdout",
     "output_type": "stream",
     "text": [
      "f1 score : 0.4223336253453956 | precision : 0.328683427962197 | recall : 0.9516591975754057\n"
     ]
    },
    {
     "data": {
      "application/vnd.jupyter.widget-view+json": {
       "model_id": "",
       "version_major": 2,
       "version_minor": 0
      },
      "text/plain": [
       "HBox(children=(FloatProgress(value=0.0, max=10296.0), HTML(value='')))"
      ]
     },
     "metadata": {},
     "output_type": "display_data"
    },
    {
     "data": {
      "application/vnd.jupyter.widget-view+json": {
       "model_id": "",
       "version_major": 2,
       "version_minor": 0
      },
      "text/plain": [
       "HBox(children=(FloatProgress(value=0.0, max=10296.0), HTML(value='')))"
      ]
     },
     "metadata": {},
     "output_type": "display_data"
    },
    {
     "name": "stdout",
     "output_type": "stream",
     "text": [
      "f1 score : 0.24911776927035068 | precision : 0.17113179739569898 | recall : 0.963177960299305\n"
     ]
    },
    {
     "data": {
      "application/vnd.jupyter.widget-view+json": {
       "model_id": "",
       "version_major": 2,
       "version_minor": 0
      },
      "text/plain": [
       "HBox(children=(FloatProgress(value=0.0, max=10296.0), HTML(value='')))"
      ]
     },
     "metadata": {},
     "output_type": "display_data"
    },
    {
     "data": {
      "application/vnd.jupyter.widget-view+json": {
       "model_id": "",
       "version_major": 2,
       "version_minor": 0
      },
      "text/plain": [
       "HBox(children=(FloatProgress(value=0.0, max=10296.0), HTML(value='')))"
      ]
     },
     "metadata": {},
     "output_type": "display_data"
    },
    {
     "name": "stdout",
     "output_type": "stream",
     "text": [
      "f1 score : 0.1808449747924013 | precision : 0.11432705623032208 | recall : 0.9653138788349394\n",
      "Saved best model ep 2 with f score : 0.7670006675437421\n",
      "Ep 2: Train loss 18.633291641278053 | Val f score 0.7670006675437421\n"
     ]
    },
    {
     "data": {
      "application/vnd.jupyter.widget-view+json": {
       "model_id": "fa76b2f673704842bd7014d454c11371",
       "version_major": 2,
       "version_minor": 0
      },
      "text/plain": [
       "HBox(children=(FloatProgress(value=0.0, max=536.0), HTML(value='')))"
      ]
     },
     "metadata": {},
     "output_type": "display_data"
    },
    {
     "name": "stdout",
     "output_type": "stream",
     "text": [
      "\n"
     ]
    },
    {
     "data": {
      "application/vnd.jupyter.widget-view+json": {
       "model_id": "f929ae2e9be340fc93893c23eff0ce0e",
       "version_major": 2,
       "version_minor": 0
      },
      "text/plain": [
       "HBox(children=(FloatProgress(value=0.0, max=161.0), HTML(value='')))"
      ]
     },
     "metadata": {},
     "output_type": "display_data"
    },
    {
     "name": "stdout",
     "output_type": "stream",
     "text": [
      "\n"
     ]
    },
    {
     "data": {
      "application/vnd.jupyter.widget-view+json": {
       "model_id": "",
       "version_major": 2,
       "version_minor": 0
      },
      "text/plain": [
       "HBox(children=(FloatProgress(value=0.0, max=10296.0), HTML(value='')))"
      ]
     },
     "metadata": {},
     "output_type": "display_data"
    },
    {
     "data": {
      "application/vnd.jupyter.widget-view+json": {
       "model_id": "",
       "version_major": 2,
       "version_minor": 0
      },
      "text/plain": [
       "HBox(children=(FloatProgress(value=0.0, max=10296.0), HTML(value='')))"
      ]
     },
     "metadata": {},
     "output_type": "display_data"
    },
    {
     "name": "stdout",
     "output_type": "stream",
     "text": [
      "f1 score : 0.5228946173014701 | precision : 0.9966588966588965 | recall : 0.38705278079001454\n"
     ]
    },
    {
     "data": {
      "application/vnd.jupyter.widget-view+json": {
       "model_id": "",
       "version_major": 2,
       "version_minor": 0
      },
      "text/plain": [
       "HBox(children=(FloatProgress(value=0.0, max=10296.0), HTML(value='')))"
      ]
     },
     "metadata": {},
     "output_type": "display_data"
    },
    {
     "data": {
      "application/vnd.jupyter.widget-view+json": {
       "model_id": "",
       "version_major": 2,
       "version_minor": 0
      },
      "text/plain": [
       "HBox(children=(FloatProgress(value=0.0, max=10296.0), HTML(value='')))"
      ]
     },
     "metadata": {},
     "output_type": "display_data"
    },
    {
     "name": "stdout",
     "output_type": "stream",
     "text": [
      "f1 score : 0.5649910387519714 | precision : 0.9940402190402193 | recall : 0.43288236238620537\n"
     ]
    },
    {
     "data": {
      "application/vnd.jupyter.widget-view+json": {
       "model_id": "",
       "version_major": 2,
       "version_minor": 0
      },
      "text/plain": [
       "HBox(children=(FloatProgress(value=0.0, max=10296.0), HTML(value='')))"
      ]
     },
     "metadata": {},
     "output_type": "display_data"
    },
    {
     "data": {
      "application/vnd.jupyter.widget-view+json": {
       "model_id": "",
       "version_major": 2,
       "version_minor": 0
      },
      "text/plain": [
       "HBox(children=(FloatProgress(value=0.0, max=10296.0), HTML(value='')))"
      ]
     },
     "metadata": {},
     "output_type": "display_data"
    },
    {
     "name": "stdout",
     "output_type": "stream",
     "text": [
      "f1 score : 0.6151452864348694 | precision : 0.9909622889736528 | recall : 0.4911570363090791\n"
     ]
    },
    {
     "data": {
      "application/vnd.jupyter.widget-view+json": {
       "model_id": "",
       "version_major": 2,
       "version_minor": 0
      },
      "text/plain": [
       "HBox(children=(FloatProgress(value=0.0, max=10296.0), HTML(value='')))"
      ]
     },
     "metadata": {},
     "output_type": "display_data"
    },
    {
     "data": {
      "application/vnd.jupyter.widget-view+json": {
       "model_id": "",
       "version_major": 2,
       "version_minor": 0
      },
      "text/plain": [
       "HBox(children=(FloatProgress(value=0.0, max=10296.0), HTML(value='')))"
      ]
     },
     "metadata": {},
     "output_type": "display_data"
    },
    {
     "name": "stdout",
     "output_type": "stream",
     "text": [
      "f1 score : 0.6603537627860901 | precision : 0.9862283192478102 | recall : 0.5478619593445271\n"
     ]
    },
    {
     "data": {
      "application/vnd.jupyter.widget-view+json": {
       "model_id": "",
       "version_major": 2,
       "version_minor": 0
      },
      "text/plain": [
       "HBox(children=(FloatProgress(value=0.0, max=10296.0), HTML(value='')))"
      ]
     },
     "metadata": {},
     "output_type": "display_data"
    },
    {
     "data": {
      "application/vnd.jupyter.widget-view+json": {
       "model_id": "",
       "version_major": 2,
       "version_minor": 0
      },
      "text/plain": [
       "HBox(children=(FloatProgress(value=0.0, max=10296.0), HTML(value='')))"
      ]
     },
     "metadata": {},
     "output_type": "display_data"
    },
    {
     "name": "stdout",
     "output_type": "stream",
     "text": [
      "f1 score : 0.7065557767616839 | precision : 0.9798487564069422 | recall : 0.6087991327603013\n"
     ]
    },
    {
     "data": {
      "application/vnd.jupyter.widget-view+json": {
       "model_id": "",
       "version_major": 2,
       "version_minor": 0
      },
      "text/plain": [
       "HBox(children=(FloatProgress(value=0.0, max=10296.0), HTML(value='')))"
      ]
     },
     "metadata": {},
     "output_type": "display_data"
    },
    {
     "data": {
      "application/vnd.jupyter.widget-view+json": {
       "model_id": "",
       "version_major": 2,
       "version_minor": 0
      },
      "text/plain": [
       "HBox(children=(FloatProgress(value=0.0, max=10296.0), HTML(value='')))"
      ]
     },
     "metadata": {},
     "output_type": "display_data"
    },
    {
     "name": "stdout",
     "output_type": "stream",
     "text": [
      "f1 score : 0.7498825350694821 | precision : 0.9683441381518457 | recall : 0.6728870810237279\n"
     ]
    },
    {
     "data": {
      "application/vnd.jupyter.widget-view+json": {
       "model_id": "",
       "version_major": 2,
       "version_minor": 0
      },
      "text/plain": [
       "HBox(children=(FloatProgress(value=0.0, max=10296.0), HTML(value='')))"
      ]
     },
     "metadata": {},
     "output_type": "display_data"
    },
    {
     "data": {
      "application/vnd.jupyter.widget-view+json": {
       "model_id": "",
       "version_major": 2,
       "version_minor": 0
      },
      "text/plain": [
       "HBox(children=(FloatProgress(value=0.0, max=10296.0), HTML(value='')))"
      ]
     },
     "metadata": {},
     "output_type": "display_data"
    },
    {
     "name": "stdout",
     "output_type": "stream",
     "text": [
      "f1 score : 0.7864044792795255 | precision : 0.9505656446221548 | recall : 0.7336365154553319\n"
     ]
    },
    {
     "data": {
      "application/vnd.jupyter.widget-view+json": {
       "model_id": "",
       "version_major": 2,
       "version_minor": 0
      },
      "text/plain": [
       "HBox(children=(FloatProgress(value=0.0, max=10296.0), HTML(value='')))"
      ]
     },
     "metadata": {},
     "output_type": "display_data"
    },
    {
     "data": {
      "application/vnd.jupyter.widget-view+json": {
       "model_id": "",
       "version_major": 2,
       "version_minor": 0
      },
      "text/plain": [
       "HBox(children=(FloatProgress(value=0.0, max=10296.0), HTML(value='')))"
      ]
     },
     "metadata": {},
     "output_type": "display_data"
    },
    {
     "name": "stdout",
     "output_type": "stream",
     "text": [
      "f1 score : 0.8152898704974441 | precision : 0.9282674937458613 | recall : 0.7908741011708393\n"
     ]
    },
    {
     "data": {
      "application/vnd.jupyter.widget-view+json": {
       "model_id": "",
       "version_major": 2,
       "version_minor": 0
      },
      "text/plain": [
       "HBox(children=(FloatProgress(value=0.0, max=10296.0), HTML(value='')))"
      ]
     },
     "metadata": {},
     "output_type": "display_data"
    },
    {
     "data": {
      "application/vnd.jupyter.widget-view+json": {
       "model_id": "",
       "version_major": 2,
       "version_minor": 0
      },
      "text/plain": [
       "HBox(children=(FloatProgress(value=0.0, max=10296.0), HTML(value='')))"
      ]
     },
     "metadata": {},
     "output_type": "display_data"
    },
    {
     "name": "stdout",
     "output_type": "stream",
     "text": [
      "f1 score : 0.8283554565935822 | precision : 0.897161380293943 | recall : 0.8376104608737411\n"
     ]
    },
    {
     "data": {
      "application/vnd.jupyter.widget-view+json": {
       "model_id": "",
       "version_major": 2,
       "version_minor": 0
      },
      "text/plain": [
       "HBox(children=(FloatProgress(value=0.0, max=10296.0), HTML(value='')))"
      ]
     },
     "metadata": {},
     "output_type": "display_data"
    },
    {
     "data": {
      "application/vnd.jupyter.widget-view+json": {
       "model_id": "",
       "version_major": 2,
       "version_minor": 0
      },
      "text/plain": [
       "HBox(children=(FloatProgress(value=0.0, max=10296.0), HTML(value='')))"
      ]
     },
     "metadata": {},
     "output_type": "display_data"
    },
    {
     "name": "stdout",
     "output_type": "stream",
     "text": [
      "f1 score : 0.8266158846836155 | precision : 0.8542303031152612 | recall : 0.8791302455708007\n"
     ]
    },
    {
     "data": {
      "application/vnd.jupyter.widget-view+json": {
       "model_id": "",
       "version_major": 2,
       "version_minor": 0
      },
      "text/plain": [
       "HBox(children=(FloatProgress(value=0.0, max=10296.0), HTML(value='')))"
      ]
     },
     "metadata": {},
     "output_type": "display_data"
    },
    {
     "data": {
      "application/vnd.jupyter.widget-view+json": {
       "model_id": "",
       "version_major": 2,
       "version_minor": 0
      },
      "text/plain": [
       "HBox(children=(FloatProgress(value=0.0, max=10296.0), HTML(value='')))"
      ]
     },
     "metadata": {},
     "output_type": "display_data"
    },
    {
     "name": "stdout",
     "output_type": "stream",
     "text": [
      "f1 score : 0.8041017493433087 | precision : 0.7915974866776088 | recall : 0.9153866228991825\n"
     ]
    },
    {
     "data": {
      "application/vnd.jupyter.widget-view+json": {
       "model_id": "",
       "version_major": 2,
       "version_minor": 0
      },
      "text/plain": [
       "HBox(children=(FloatProgress(value=0.0, max=10296.0), HTML(value='')))"
      ]
     },
     "metadata": {},
     "output_type": "display_data"
    },
    {
     "data": {
      "application/vnd.jupyter.widget-view+json": {
       "model_id": "",
       "version_major": 2,
       "version_minor": 0
      },
      "text/plain": [
       "HBox(children=(FloatProgress(value=0.0, max=10296.0), HTML(value='')))"
      ]
     },
     "metadata": {},
     "output_type": "display_data"
    },
    {
     "name": "stdout",
     "output_type": "stream",
     "text": [
      "f1 score : 0.7439700036283095 | precision : 0.6939669135473546 | recall : 0.9424882731214621\n"
     ]
    },
    {
     "data": {
      "application/vnd.jupyter.widget-view+json": {
       "model_id": "",
       "version_major": 2,
       "version_minor": 0
      },
      "text/plain": [
       "HBox(children=(FloatProgress(value=0.0, max=10296.0), HTML(value='')))"
      ]
     },
     "metadata": {},
     "output_type": "display_data"
    },
    {
     "data": {
      "application/vnd.jupyter.widget-view+json": {
       "model_id": "",
       "version_major": 2,
       "version_minor": 0
      },
      "text/plain": [
       "HBox(children=(FloatProgress(value=0.0, max=10296.0), HTML(value='')))"
      ]
     },
     "metadata": {},
     "output_type": "display_data"
    },
    {
     "name": "stdout",
     "output_type": "stream",
     "text": [
      "f1 score : 0.6271191269229489 | precision : 0.54239233348164 | recall : 0.9632040075455476\n"
     ]
    },
    {
     "data": {
      "application/vnd.jupyter.widget-view+json": {
       "model_id": "",
       "version_major": 2,
       "version_minor": 0
      },
      "text/plain": [
       "HBox(children=(FloatProgress(value=0.0, max=10296.0), HTML(value='')))"
      ]
     },
     "metadata": {},
     "output_type": "display_data"
    },
    {
     "data": {
      "application/vnd.jupyter.widget-view+json": {
       "model_id": "",
       "version_major": 2,
       "version_minor": 0
      },
      "text/plain": [
       "HBox(children=(FloatProgress(value=0.0, max=10296.0), HTML(value='')))"
      ]
     },
     "metadata": {},
     "output_type": "display_data"
    },
    {
     "name": "stdout",
     "output_type": "stream",
     "text": [
      "f1 score : 0.4208488438868822 | precision : 0.3213642907292257 | recall : 0.9764303267891947\n"
     ]
    },
    {
     "data": {
      "application/vnd.jupyter.widget-view+json": {
       "model_id": "",
       "version_major": 2,
       "version_minor": 0
      },
      "text/plain": [
       "HBox(children=(FloatProgress(value=0.0, max=10296.0), HTML(value='')))"
      ]
     },
     "metadata": {},
     "output_type": "display_data"
    },
    {
     "data": {
      "application/vnd.jupyter.widget-view+json": {
       "model_id": "",
       "version_major": 2,
       "version_minor": 0
      },
      "text/plain": [
       "HBox(children=(FloatProgress(value=0.0, max=10296.0), HTML(value='')))"
      ]
     },
     "metadata": {},
     "output_type": "display_data"
    },
    {
     "name": "stdout",
     "output_type": "stream",
     "text": [
      "f1 score : 0.21538030438435754 | precision : 0.14270103783848576 | recall : 0.9817855724002306\n",
      "Saved best model ep 3 with f score : 0.8283554565935822\n",
      "Ep 3: Train loss 14.631155916114352 | Val f score 0.8283554565935822\n"
     ]
    },
    {
     "data": {
      "application/vnd.jupyter.widget-view+json": {
       "model_id": "c52fe11e46dd468a89a13a4bb9683f5f",
       "version_major": 2,
       "version_minor": 0
      },
      "text/plain": [
       "HBox(children=(FloatProgress(value=0.0, max=536.0), HTML(value='')))"
      ]
     },
     "metadata": {},
     "output_type": "display_data"
    },
    {
     "name": "stdout",
     "output_type": "stream",
     "text": [
      "\n"
     ]
    },
    {
     "data": {
      "application/vnd.jupyter.widget-view+json": {
       "model_id": "420122f3fbb74548a1a3f9a7b32ea138",
       "version_major": 2,
       "version_minor": 0
      },
      "text/plain": [
       "HBox(children=(FloatProgress(value=0.0, max=161.0), HTML(value='')))"
      ]
     },
     "metadata": {},
     "output_type": "display_data"
    },
    {
     "name": "stdout",
     "output_type": "stream",
     "text": [
      "\n"
     ]
    },
    {
     "data": {
      "application/vnd.jupyter.widget-view+json": {
       "model_id": "",
       "version_major": 2,
       "version_minor": 0
      },
      "text/plain": [
       "HBox(children=(FloatProgress(value=0.0, max=10296.0), HTML(value='')))"
      ]
     },
     "metadata": {},
     "output_type": "display_data"
    },
    {
     "data": {
      "application/vnd.jupyter.widget-view+json": {
       "model_id": "",
       "version_major": 2,
       "version_minor": 0
      },
      "text/plain": [
       "HBox(children=(FloatProgress(value=0.0, max=10296.0), HTML(value='')))"
      ]
     },
     "metadata": {},
     "output_type": "display_data"
    },
    {
     "name": "stdout",
     "output_type": "stream",
     "text": [
      "f1 score : 0.5242543188184301 | precision : 0.9973031598031596 | recall : 0.3888021148793925\n"
     ]
    },
    {
     "data": {
      "application/vnd.jupyter.widget-view+json": {
       "model_id": "",
       "version_major": 2,
       "version_minor": 0
      },
      "text/plain": [
       "HBox(children=(FloatProgress(value=0.0, max=10296.0), HTML(value='')))"
      ]
     },
     "metadata": {},
     "output_type": "display_data"
    },
    {
     "data": {
      "application/vnd.jupyter.widget-view+json": {
       "model_id": "",
       "version_major": 2,
       "version_minor": 0
      },
      "text/plain": [
       "HBox(children=(FloatProgress(value=0.0, max=10296.0), HTML(value='')))"
      ]
     },
     "metadata": {},
     "output_type": "display_data"
    },
    {
     "name": "stdout",
     "output_type": "stream",
     "text": [
      "f1 score : 0.5672911919584719 | precision : 0.9957491582491584 | recall : 0.4353927528586765\n"
     ]
    },
    {
     "data": {
      "application/vnd.jupyter.widget-view+json": {
       "model_id": "",
       "version_major": 2,
       "version_minor": 0
      },
      "text/plain": [
       "HBox(children=(FloatProgress(value=0.0, max=10296.0), HTML(value='')))"
      ]
     },
     "metadata": {},
     "output_type": "display_data"
    },
    {
     "data": {
      "application/vnd.jupyter.widget-view+json": {
       "model_id": "",
       "version_major": 2,
       "version_minor": 0
      },
      "text/plain": [
       "HBox(children=(FloatProgress(value=0.0, max=10296.0), HTML(value='')))"
      ]
     },
     "metadata": {},
     "output_type": "display_data"
    },
    {
     "name": "stdout",
     "output_type": "stream",
     "text": [
      "f1 score : 0.6195956242189454 | precision : 0.9934624017957358 | recall : 0.49605734723037653\n"
     ]
    },
    {
     "data": {
      "application/vnd.jupyter.widget-view+json": {
       "model_id": "",
       "version_major": 2,
       "version_minor": 0
      },
      "text/plain": [
       "HBox(children=(FloatProgress(value=0.0, max=10296.0), HTML(value='')))"
      ]
     },
     "metadata": {},
     "output_type": "display_data"
    },
    {
     "data": {
      "application/vnd.jupyter.widget-view+json": {
       "model_id": "",
       "version_major": 2,
       "version_minor": 0
      },
      "text/plain": [
       "HBox(children=(FloatProgress(value=0.0, max=10296.0), HTML(value='')))"
      ]
     },
     "metadata": {},
     "output_type": "display_data"
    },
    {
     "name": "stdout",
     "output_type": "stream",
     "text": [
      "f1 score : 0.6736718775059236 | precision : 0.9909853242458139 | recall : 0.5616558133629446\n"
     ]
    },
    {
     "data": {
      "application/vnd.jupyter.widget-view+json": {
       "model_id": "",
       "version_major": 2,
       "version_minor": 0
      },
      "text/plain": [
       "HBox(children=(FloatProgress(value=0.0, max=10296.0), HTML(value='')))"
      ]
     },
     "metadata": {},
     "output_type": "display_data"
    },
    {
     "data": {
      "application/vnd.jupyter.widget-view+json": {
       "model_id": "",
       "version_major": 2,
       "version_minor": 0
      },
      "text/plain": [
       "HBox(children=(FloatProgress(value=0.0, max=10296.0), HTML(value='')))"
      ]
     },
     "metadata": {},
     "output_type": "display_data"
    },
    {
     "name": "stdout",
     "output_type": "stream",
     "text": [
      "f1 score : 0.7234499484209942 | precision : 0.9872156056577086 | recall : 0.6270441112701616\n"
     ]
    },
    {
     "data": {
      "application/vnd.jupyter.widget-view+json": {
       "model_id": "",
       "version_major": 2,
       "version_minor": 0
      },
      "text/plain": [
       "HBox(children=(FloatProgress(value=0.0, max=10296.0), HTML(value='')))"
      ]
     },
     "metadata": {},
     "output_type": "display_data"
    },
    {
     "data": {
      "application/vnd.jupyter.widget-view+json": {
       "model_id": "",
       "version_major": 2,
       "version_minor": 0
      },
      "text/plain": [
       "HBox(children=(FloatProgress(value=0.0, max=10296.0), HTML(value='')))"
      ]
     },
     "metadata": {},
     "output_type": "display_data"
    },
    {
     "name": "stdout",
     "output_type": "stream",
     "text": [
      "f1 score : 0.7711774908925156 | precision : 0.9821505433376702 | recall : 0.6925856972151322\n"
     ]
    },
    {
     "data": {
      "application/vnd.jupyter.widget-view+json": {
       "model_id": "",
       "version_major": 2,
       "version_minor": 0
      },
      "text/plain": [
       "HBox(children=(FloatProgress(value=0.0, max=10296.0), HTML(value='')))"
      ]
     },
     "metadata": {},
     "output_type": "display_data"
    },
    {
     "data": {
      "application/vnd.jupyter.widget-view+json": {
       "model_id": "",
       "version_major": 2,
       "version_minor": 0
      },
      "text/plain": [
       "HBox(children=(FloatProgress(value=0.0, max=10296.0), HTML(value='')))"
      ]
     },
     "metadata": {},
     "output_type": "display_data"
    },
    {
     "name": "stdout",
     "output_type": "stream",
     "text": [
      "f1 score : 0.8118846129589042 | precision : 0.9749082597321739 | recall : 0.7513509357028241\n"
     ]
    },
    {
     "data": {
      "application/vnd.jupyter.widget-view+json": {
       "model_id": "",
       "version_major": 2,
       "version_minor": 0
      },
      "text/plain": [
       "HBox(children=(FloatProgress(value=0.0, max=10296.0), HTML(value='')))"
      ]
     },
     "metadata": {},
     "output_type": "display_data"
    },
    {
     "data": {
      "application/vnd.jupyter.widget-view+json": {
       "model_id": "",
       "version_major": 2,
       "version_minor": 0
      },
      "text/plain": [
       "HBox(children=(FloatProgress(value=0.0, max=10296.0), HTML(value='')))"
      ]
     },
     "metadata": {},
     "output_type": "display_data"
    },
    {
     "name": "stdout",
     "output_type": "stream",
     "text": [
      "f1 score : 0.8428682784682712 | precision : 0.9614246272100996 | recall : 0.8027367699424317\n"
     ]
    },
    {
     "data": {
      "application/vnd.jupyter.widget-view+json": {
       "model_id": "",
       "version_major": 2,
       "version_minor": 0
      },
      "text/plain": [
       "HBox(children=(FloatProgress(value=0.0, max=10296.0), HTML(value='')))"
      ]
     },
     "metadata": {},
     "output_type": "display_data"
    },
    {
     "data": {
      "application/vnd.jupyter.widget-view+json": {
       "model_id": "",
       "version_major": 2,
       "version_minor": 0
      },
      "text/plain": [
       "HBox(children=(FloatProgress(value=0.0, max=10296.0), HTML(value='')))"
      ]
     },
     "metadata": {},
     "output_type": "display_data"
    },
    {
     "name": "stdout",
     "output_type": "stream",
     "text": [
      "f1 score : 0.8669335901270587 | precision : 0.943036993820302 | recall : 0.8519427227269118\n"
     ]
    },
    {
     "data": {
      "application/vnd.jupyter.widget-view+json": {
       "model_id": "",
       "version_major": 2,
       "version_minor": 0
      },
      "text/plain": [
       "HBox(children=(FloatProgress(value=0.0, max=10296.0), HTML(value='')))"
      ]
     },
     "metadata": {},
     "output_type": "display_data"
    },
    {
     "data": {
      "application/vnd.jupyter.widget-view+json": {
       "model_id": "",
       "version_major": 2,
       "version_minor": 0
      },
      "text/plain": [
       "HBox(children=(FloatProgress(value=0.0, max=10296.0), HTML(value='')))"
      ]
     },
     "metadata": {},
     "output_type": "display_data"
    },
    {
     "name": "stdout",
     "output_type": "stream",
     "text": [
      "f1 score : 0.8748842960072456 | precision : 0.9151530423589068 | recall : 0.8895972145523552\n"
     ]
    },
    {
     "data": {
      "application/vnd.jupyter.widget-view+json": {
       "model_id": "",
       "version_major": 2,
       "version_minor": 0
      },
      "text/plain": [
       "HBox(children=(FloatProgress(value=0.0, max=10296.0), HTML(value='')))"
      ]
     },
     "metadata": {},
     "output_type": "display_data"
    },
    {
     "data": {
      "application/vnd.jupyter.widget-view+json": {
       "model_id": "",
       "version_major": 2,
       "version_minor": 0
      },
      "text/plain": [
       "HBox(children=(FloatProgress(value=0.0, max=10296.0), HTML(value='')))"
      ]
     },
     "metadata": {},
     "output_type": "display_data"
    },
    {
     "name": "stdout",
     "output_type": "stream",
     "text": [
      "f1 score : 0.869344866176049 | precision : 0.8732767946189705 | recall : 0.9238893850114835\n"
     ]
    },
    {
     "data": {
      "application/vnd.jupyter.widget-view+json": {
       "model_id": "",
       "version_major": 2,
       "version_minor": 0
      },
      "text/plain": [
       "HBox(children=(FloatProgress(value=0.0, max=10296.0), HTML(value='')))"
      ]
     },
     "metadata": {},
     "output_type": "display_data"
    },
    {
     "data": {
      "application/vnd.jupyter.widget-view+json": {
       "model_id": "",
       "version_major": 2,
       "version_minor": 0
      },
      "text/plain": [
       "HBox(children=(FloatProgress(value=0.0, max=10296.0), HTML(value='')))"
      ]
     },
     "metadata": {},
     "output_type": "display_data"
    },
    {
     "name": "stdout",
     "output_type": "stream",
     "text": [
      "f1 score : 0.8353763495451706 | precision : 0.8037901295797419 | recall : 0.9507916044434411\n"
     ]
    },
    {
     "data": {
      "application/vnd.jupyter.widget-view+json": {
       "model_id": "",
       "version_major": 2,
       "version_minor": 0
      },
      "text/plain": [
       "HBox(children=(FloatProgress(value=0.0, max=10296.0), HTML(value='')))"
      ]
     },
     "metadata": {},
     "output_type": "display_data"
    },
    {
     "data": {
      "application/vnd.jupyter.widget-view+json": {
       "model_id": "",
       "version_major": 2,
       "version_minor": 0
      },
      "text/plain": [
       "HBox(children=(FloatProgress(value=0.0, max=10296.0), HTML(value='')))"
      ]
     },
     "metadata": {},
     "output_type": "display_data"
    },
    {
     "name": "stdout",
     "output_type": "stream",
     "text": [
      "f1 score : 0.7599396743307544 | precision : 0.6932041197293617 | recall : 0.9722842699091382\n"
     ]
    },
    {
     "data": {
      "application/vnd.jupyter.widget-view+json": {
       "model_id": "",
       "version_major": 2,
       "version_minor": 0
      },
      "text/plain": [
       "HBox(children=(FloatProgress(value=0.0, max=10296.0), HTML(value='')))"
      ]
     },
     "metadata": {},
     "output_type": "display_data"
    },
    {
     "data": {
      "application/vnd.jupyter.widget-view+json": {
       "model_id": "",
       "version_major": 2,
       "version_minor": 0
      },
      "text/plain": [
       "HBox(children=(FloatProgress(value=0.0, max=10296.0), HTML(value='')))"
      ]
     },
     "metadata": {},
     "output_type": "display_data"
    },
    {
     "name": "stdout",
     "output_type": "stream",
     "text": [
      "f1 score : 0.5923225233808225 | precision : 0.490901231457495 | recall : 0.9843964609576592\n"
     ]
    },
    {
     "data": {
      "application/vnd.jupyter.widget-view+json": {
       "model_id": "",
       "version_major": 2,
       "version_minor": 0
      },
      "text/plain": [
       "HBox(children=(FloatProgress(value=0.0, max=10296.0), HTML(value='')))"
      ]
     },
     "metadata": {},
     "output_type": "display_data"
    },
    {
     "data": {
      "application/vnd.jupyter.widget-view+json": {
       "model_id": "",
       "version_major": 2,
       "version_minor": 0
      },
      "text/plain": [
       "HBox(children=(FloatProgress(value=0.0, max=10296.0), HTML(value='')))"
      ]
     },
     "metadata": {},
     "output_type": "display_data"
    },
    {
     "name": "stdout",
     "output_type": "stream",
     "text": [
      "f1 score : 0.30096638535066367 | precision : 0.20923051951482852 | recall : 0.9903717549110582\n",
      "Saved best model ep 4 with f score : 0.8748842960072456\n",
      "Ep 4: Train loss 11.300523738362896 | Val f score 0.8748842960072456\n"
     ]
    },
    {
     "data": {
      "application/vnd.jupyter.widget-view+json": {
       "model_id": "200d00ad9f274decb466716440ae1af8",
       "version_major": 2,
       "version_minor": 0
      },
      "text/plain": [
       "HBox(children=(FloatProgress(value=0.0, max=536.0), HTML(value='')))"
      ]
     },
     "metadata": {},
     "output_type": "display_data"
    },
    {
     "name": "stdout",
     "output_type": "stream",
     "text": [
      "\n"
     ]
    },
    {
     "data": {
      "application/vnd.jupyter.widget-view+json": {
       "model_id": "ecb29c3852db46d4b72dbe644360b885",
       "version_major": 2,
       "version_minor": 0
      },
      "text/plain": [
       "HBox(children=(FloatProgress(value=0.0, max=161.0), HTML(value='')))"
      ]
     },
     "metadata": {},
     "output_type": "display_data"
    },
    {
     "name": "stdout",
     "output_type": "stream",
     "text": [
      "\n"
     ]
    },
    {
     "data": {
      "application/vnd.jupyter.widget-view+json": {
       "model_id": "",
       "version_major": 2,
       "version_minor": 0
      },
      "text/plain": [
       "HBox(children=(FloatProgress(value=0.0, max=10296.0), HTML(value='')))"
      ]
     },
     "metadata": {},
     "output_type": "display_data"
    },
    {
     "data": {
      "application/vnd.jupyter.widget-view+json": {
       "model_id": "",
       "version_major": 2,
       "version_minor": 0
      },
      "text/plain": [
       "HBox(children=(FloatProgress(value=0.0, max=10296.0), HTML(value='')))"
      ]
     },
     "metadata": {},
     "output_type": "display_data"
    },
    {
     "name": "stdout",
     "output_type": "stream",
     "text": [
      "f1 score : 0.5225942000573893 | precision : 0.9976398601398601 | recall : 0.3867774798106311\n"
     ]
    },
    {
     "data": {
      "application/vnd.jupyter.widget-view+json": {
       "model_id": "",
       "version_major": 2,
       "version_minor": 0
      },
      "text/plain": [
       "HBox(children=(FloatProgress(value=0.0, max=10296.0), HTML(value='')))"
      ]
     },
     "metadata": {},
     "output_type": "display_data"
    },
    {
     "data": {
      "application/vnd.jupyter.widget-view+json": {
       "model_id": "",
       "version_major": 2,
       "version_minor": 0
      },
      "text/plain": [
       "HBox(children=(FloatProgress(value=0.0, max=10296.0), HTML(value='')))"
      ]
     },
     "metadata": {},
     "output_type": "display_data"
    },
    {
     "name": "stdout",
     "output_type": "stream",
     "text": [
      "f1 score : 0.5705753584408482 | precision : 0.9968628593628592 | recall : 0.43863091335653975\n"
     ]
    },
    {
     "data": {
      "application/vnd.jupyter.widget-view+json": {
       "model_id": "",
       "version_major": 2,
       "version_minor": 0
      },
      "text/plain": [
       "HBox(children=(FloatProgress(value=0.0, max=10296.0), HTML(value='')))"
      ]
     },
     "metadata": {},
     "output_type": "display_data"
    },
    {
     "data": {
      "application/vnd.jupyter.widget-view+json": {
       "model_id": "",
       "version_major": 2,
       "version_minor": 0
      },
      "text/plain": [
       "HBox(children=(FloatProgress(value=0.0, max=10296.0), HTML(value='')))"
      ]
     },
     "metadata": {},
     "output_type": "display_data"
    },
    {
     "name": "stdout",
     "output_type": "stream",
     "text": [
      "f1 score : 0.6289066180358779 | precision : 0.9951883764383769 | recall : 0.5063892978040716\n"
     ]
    },
    {
     "data": {
      "application/vnd.jupyter.widget-view+json": {
       "model_id": "",
       "version_major": 2,
       "version_minor": 0
      },
      "text/plain": [
       "HBox(children=(FloatProgress(value=0.0, max=10296.0), HTML(value='')))"
      ]
     },
     "metadata": {},
     "output_type": "display_data"
    },
    {
     "data": {
      "application/vnd.jupyter.widget-view+json": {
       "model_id": "",
       "version_major": 2,
       "version_minor": 0
      },
      "text/plain": [
       "HBox(children=(FloatProgress(value=0.0, max=10296.0), HTML(value='')))"
      ]
     },
     "metadata": {},
     "output_type": "display_data"
    },
    {
     "name": "stdout",
     "output_type": "stream",
     "text": [
      "f1 score : 0.6879866906181178 | precision : 0.9941971608638279 | recall : 0.579007081816065\n"
     ]
    },
    {
     "data": {
      "application/vnd.jupyter.widget-view+json": {
       "model_id": "",
       "version_major": 2,
       "version_minor": 0
      },
      "text/plain": [
       "HBox(children=(FloatProgress(value=0.0, max=10296.0), HTML(value='')))"
      ]
     },
     "metadata": {},
     "output_type": "display_data"
    },
    {
     "data": {
      "application/vnd.jupyter.widget-view+json": {
       "model_id": "",
       "version_major": 2,
       "version_minor": 0
      },
      "text/plain": [
       "HBox(children=(FloatProgress(value=0.0, max=10296.0), HTML(value='')))"
      ]
     },
     "metadata": {},
     "output_type": "display_data"
    },
    {
     "name": "stdout",
     "output_type": "stream",
     "text": [
      "f1 score : 0.7432941037953116 | precision : 0.9916738683055702 | recall : 0.6511373592569731\n"
     ]
    },
    {
     "data": {
      "application/vnd.jupyter.widget-view+json": {
       "model_id": "",
       "version_major": 2,
       "version_minor": 0
      },
      "text/plain": [
       "HBox(children=(FloatProgress(value=0.0, max=10296.0), HTML(value='')))"
      ]
     },
     "metadata": {},
     "output_type": "display_data"
    },
    {
     "data": {
      "application/vnd.jupyter.widget-view+json": {
       "model_id": "",
       "version_major": 2,
       "version_minor": 0
      },
      "text/plain": [
       "HBox(children=(FloatProgress(value=0.0, max=10296.0), HTML(value='')))"
      ]
     },
     "metadata": {},
     "output_type": "display_data"
    },
    {
     "name": "stdout",
     "output_type": "stream",
     "text": [
      "f1 score : 0.7881871285824404 | precision : 0.9891762205354862 | recall : 0.7113452722341348\n"
     ]
    },
    {
     "data": {
      "application/vnd.jupyter.widget-view+json": {
       "model_id": "",
       "version_major": 2,
       "version_minor": 0
      },
      "text/plain": [
       "HBox(children=(FloatProgress(value=0.0, max=10296.0), HTML(value='')))"
      ]
     },
     "metadata": {},
     "output_type": "display_data"
    },
    {
     "data": {
      "application/vnd.jupyter.widget-view+json": {
       "model_id": "",
       "version_major": 2,
       "version_minor": 0
      },
      "text/plain": [
       "HBox(children=(FloatProgress(value=0.0, max=10296.0), HTML(value='')))"
      ]
     },
     "metadata": {},
     "output_type": "display_data"
    },
    {
     "name": "stdout",
     "output_type": "stream",
     "text": [
      "f1 score : 0.8300181331122622 | precision : 0.9858594006248438 | recall : 0.7693506747277784\n"
     ]
    },
    {
     "data": {
      "application/vnd.jupyter.widget-view+json": {
       "model_id": "",
       "version_major": 2,
       "version_minor": 0
      },
      "text/plain": [
       "HBox(children=(FloatProgress(value=0.0, max=10296.0), HTML(value='')))"
      ]
     },
     "metadata": {},
     "output_type": "display_data"
    },
    {
     "data": {
      "application/vnd.jupyter.widget-view+json": {
       "model_id": "",
       "version_major": 2,
       "version_minor": 0
      },
      "text/plain": [
       "HBox(children=(FloatProgress(value=0.0, max=10296.0), HTML(value='')))"
      ]
     },
     "metadata": {},
     "output_type": "display_data"
    },
    {
     "name": "stdout",
     "output_type": "stream",
     "text": [
      "f1 score : 0.8638954572237676 | precision : 0.9803957845551664 | recall : 0.8198656276859304\n"
     ]
    },
    {
     "data": {
      "application/vnd.jupyter.widget-view+json": {
       "model_id": "",
       "version_major": 2,
       "version_minor": 0
      },
      "text/plain": [
       "HBox(children=(FloatProgress(value=0.0, max=10296.0), HTML(value='')))"
      ]
     },
     "metadata": {},
     "output_type": "display_data"
    },
    {
     "data": {
      "application/vnd.jupyter.widget-view+json": {
       "model_id": "",
       "version_major": 2,
       "version_minor": 0
      },
      "text/plain": [
       "HBox(children=(FloatProgress(value=0.0, max=10296.0), HTML(value='')))"
      ]
     },
     "metadata": {},
     "output_type": "display_data"
    },
    {
     "name": "stdout",
     "output_type": "stream",
     "text": [
      "f1 score : 0.8893045591373231 | precision : 0.9701120277949074 | recall : 0.8627874338137217\n"
     ]
    },
    {
     "data": {
      "application/vnd.jupyter.widget-view+json": {
       "model_id": "",
       "version_major": 2,
       "version_minor": 0
      },
      "text/plain": [
       "HBox(children=(FloatProgress(value=0.0, max=10296.0), HTML(value='')))"
      ]
     },
     "metadata": {},
     "output_type": "display_data"
    },
    {
     "data": {
      "application/vnd.jupyter.widget-view+json": {
       "model_id": "",
       "version_major": 2,
       "version_minor": 0
      },
      "text/plain": [
       "HBox(children=(FloatProgress(value=0.0, max=10296.0), HTML(value='')))"
      ]
     },
     "metadata": {},
     "output_type": "display_data"
    },
    {
     "name": "stdout",
     "output_type": "stream",
     "text": [
      "f1 score : 0.9052712259595121 | precision : 0.9531453240912043 | recall : 0.8993514661451851\n"
     ]
    },
    {
     "data": {
      "application/vnd.jupyter.widget-view+json": {
       "model_id": "",
       "version_major": 2,
       "version_minor": 0
      },
      "text/plain": [
       "HBox(children=(FloatProgress(value=0.0, max=10296.0), HTML(value='')))"
      ]
     },
     "metadata": {},
     "output_type": "display_data"
    },
    {
     "data": {
      "application/vnd.jupyter.widget-view+json": {
       "model_id": "",
       "version_major": 2,
       "version_minor": 0
      },
      "text/plain": [
       "HBox(children=(FloatProgress(value=0.0, max=10296.0), HTML(value='')))"
      ]
     },
     "metadata": {},
     "output_type": "display_data"
    },
    {
     "name": "stdout",
     "output_type": "stream",
     "text": [
      "f1 score : 0.9101988281825657 | precision : 0.9260903885425016 | recall : 0.9321433519909411\n"
     ]
    },
    {
     "data": {
      "application/vnd.jupyter.widget-view+json": {
       "model_id": "",
       "version_major": 2,
       "version_minor": 0
      },
      "text/plain": [
       "HBox(children=(FloatProgress(value=0.0, max=10296.0), HTML(value='')))"
      ]
     },
     "metadata": {},
     "output_type": "display_data"
    },
    {
     "data": {
      "application/vnd.jupyter.widget-view+json": {
       "model_id": "",
       "version_major": 2,
       "version_minor": 0
      },
      "text/plain": [
       "HBox(children=(FloatProgress(value=0.0, max=10296.0), HTML(value='')))"
      ]
     },
     "metadata": {},
     "output_type": "display_data"
    },
    {
     "name": "stdout",
     "output_type": "stream",
     "text": [
      "f1 score : 0.8967796186243221 | precision : 0.8807013641122151 | recall : 0.9611990624659051\n"
     ]
    },
    {
     "data": {
      "application/vnd.jupyter.widget-view+json": {
       "model_id": "",
       "version_major": 2,
       "version_minor": 0
      },
      "text/plain": [
       "HBox(children=(FloatProgress(value=0.0, max=10296.0), HTML(value='')))"
      ]
     },
     "metadata": {},
     "output_type": "display_data"
    },
    {
     "data": {
      "application/vnd.jupyter.widget-view+json": {
       "model_id": "",
       "version_major": 2,
       "version_minor": 0
      },
      "text/plain": [
       "HBox(children=(FloatProgress(value=0.0, max=10296.0), HTML(value='')))"
      ]
     },
     "metadata": {},
     "output_type": "display_data"
    },
    {
     "name": "stdout",
     "output_type": "stream",
     "text": [
      "f1 score : 0.8430434534146719 | precision : 0.7943122965496366 | recall : 0.9786375357828756\n"
     ]
    },
    {
     "data": {
      "application/vnd.jupyter.widget-view+json": {
       "model_id": "",
       "version_major": 2,
       "version_minor": 0
      },
      "text/plain": [
       "HBox(children=(FloatProgress(value=0.0, max=10296.0), HTML(value='')))"
      ]
     },
     "metadata": {},
     "output_type": "display_data"
    },
    {
     "data": {
      "application/vnd.jupyter.widget-view+json": {
       "model_id": "",
       "version_major": 2,
       "version_minor": 0
      },
      "text/plain": [
       "HBox(children=(FloatProgress(value=0.0, max=10296.0), HTML(value='')))"
      ]
     },
     "metadata": {},
     "output_type": "display_data"
    },
    {
     "name": "stdout",
     "output_type": "stream",
     "text": [
      "f1 score : 0.7092771533340121 | precision : 0.6210129723861495 | recall : 0.9890886459850163\n"
     ]
    },
    {
     "data": {
      "application/vnd.jupyter.widget-view+json": {
       "model_id": "",
       "version_major": 2,
       "version_minor": 0
      },
      "text/plain": [
       "HBox(children=(FloatProgress(value=0.0, max=10296.0), HTML(value='')))"
      ]
     },
     "metadata": {},
     "output_type": "display_data"
    },
    {
     "data": {
      "application/vnd.jupyter.widget-view+json": {
       "model_id": "",
       "version_major": 2,
       "version_minor": 0
      },
      "text/plain": [
       "HBox(children=(FloatProgress(value=0.0, max=10296.0), HTML(value='')))"
      ]
     },
     "metadata": {},
     "output_type": "display_data"
    },
    {
     "name": "stdout",
     "output_type": "stream",
     "text": [
      "f1 score : 0.40801820657239 | precision : 0.2997911230164134 | recall : 0.9939513407344286\n",
      "Saved best model ep 5 with f score : 0.9101988281825657\n",
      "Ep 5: Train loss 8.593632664253462 | Val f score 0.9101988281825657\n"
     ]
    },
    {
     "data": {
      "application/vnd.jupyter.widget-view+json": {
       "model_id": "06f356e63a514135a0e681d9d6858305",
       "version_major": 2,
       "version_minor": 0
      },
      "text/plain": [
       "HBox(children=(FloatProgress(value=0.0, max=536.0), HTML(value='')))"
      ]
     },
     "metadata": {},
     "output_type": "display_data"
    },
    {
     "name": "stdout",
     "output_type": "stream",
     "text": [
      "\n"
     ]
    },
    {
     "data": {
      "application/vnd.jupyter.widget-view+json": {
       "model_id": "06c24c8496c14e0fa8e21ecf49cff337",
       "version_major": 2,
       "version_minor": 0
      },
      "text/plain": [
       "HBox(children=(FloatProgress(value=0.0, max=161.0), HTML(value='')))"
      ]
     },
     "metadata": {},
     "output_type": "display_data"
    },
    {
     "name": "stdout",
     "output_type": "stream",
     "text": [
      "\n"
     ]
    },
    {
     "data": {
      "application/vnd.jupyter.widget-view+json": {
       "model_id": "",
       "version_major": 2,
       "version_minor": 0
      },
      "text/plain": [
       "HBox(children=(FloatProgress(value=0.0, max=10296.0), HTML(value='')))"
      ]
     },
     "metadata": {},
     "output_type": "display_data"
    },
    {
     "data": {
      "application/vnd.jupyter.widget-view+json": {
       "model_id": "",
       "version_major": 2,
       "version_minor": 0
      },
      "text/plain": [
       "HBox(children=(FloatProgress(value=0.0, max=10296.0), HTML(value='')))"
      ]
     },
     "metadata": {},
     "output_type": "display_data"
    },
    {
     "name": "stdout",
     "output_type": "stream",
     "text": [
      "f1 score : 0.520358376212473 | precision : 0.9979733229733231 | recall : 0.3845984117018788\n"
     ]
    },
    {
     "data": {
      "application/vnd.jupyter.widget-view+json": {
       "model_id": "",
       "version_major": 2,
       "version_minor": 0
      },
      "text/plain": [
       "HBox(children=(FloatProgress(value=0.0, max=10296.0), HTML(value='')))"
      ]
     },
     "metadata": {},
     "output_type": "display_data"
    },
    {
     "data": {
      "application/vnd.jupyter.widget-view+json": {
       "model_id": "",
       "version_major": 2,
       "version_minor": 0
      },
      "text/plain": [
       "HBox(children=(FloatProgress(value=0.0, max=10296.0), HTML(value='')))"
      ]
     },
     "metadata": {},
     "output_type": "display_data"
    },
    {
     "name": "stdout",
     "output_type": "stream",
     "text": [
      "f1 score : 0.5684931309710791 | precision : 0.9973161098161099 | recall : 0.43664830101162133\n"
     ]
    },
    {
     "data": {
      "application/vnd.jupyter.widget-view+json": {
       "model_id": "",
       "version_major": 2,
       "version_minor": 0
      },
      "text/plain": [
       "HBox(children=(FloatProgress(value=0.0, max=10296.0), HTML(value='')))"
      ]
     },
     "metadata": {},
     "output_type": "display_data"
    },
    {
     "data": {
      "application/vnd.jupyter.widget-view+json": {
       "model_id": "",
       "version_major": 2,
       "version_minor": 0
      },
      "text/plain": [
       "HBox(children=(FloatProgress(value=0.0, max=10296.0), HTML(value='')))"
      ]
     },
     "metadata": {},
     "output_type": "display_data"
    },
    {
     "name": "stdout",
     "output_type": "stream",
     "text": [
      "f1 score : 0.6309345801858652 | precision : 0.9961778961778965 | recall : 0.5081447367139111\n"
     ]
    },
    {
     "data": {
      "application/vnd.jupyter.widget-view+json": {
       "model_id": "",
       "version_major": 2,
       "version_minor": 0
      },
      "text/plain": [
       "HBox(children=(FloatProgress(value=0.0, max=10296.0), HTML(value='')))"
      ]
     },
     "metadata": {},
     "output_type": "display_data"
    },
    {
     "data": {
      "application/vnd.jupyter.widget-view+json": {
       "model_id": "",
       "version_major": 2,
       "version_minor": 0
      },
      "text/plain": [
       "HBox(children=(FloatProgress(value=0.0, max=10296.0), HTML(value='')))"
      ]
     },
     "metadata": {},
     "output_type": "display_data"
    },
    {
     "name": "stdout",
     "output_type": "stream",
     "text": [
      "f1 score : 0.697937890006993 | precision : 0.9953849321273561 | recall : 0.5902366488647376\n"
     ]
    },
    {
     "data": {
      "application/vnd.jupyter.widget-view+json": {
       "model_id": "",
       "version_major": 2,
       "version_minor": 0
      },
      "text/plain": [
       "HBox(children=(FloatProgress(value=0.0, max=10296.0), HTML(value='')))"
      ]
     },
     "metadata": {},
     "output_type": "display_data"
    },
    {
     "data": {
      "application/vnd.jupyter.widget-view+json": {
       "model_id": "",
       "version_major": 2,
       "version_minor": 0
      },
      "text/plain": [
       "HBox(children=(FloatProgress(value=0.0, max=10296.0), HTML(value='')))"
      ]
     },
     "metadata": {},
     "output_type": "display_data"
    },
    {
     "name": "stdout",
     "output_type": "stream",
     "text": [
      "f1 score : 0.757034166295096 | precision : 0.9938888431239827 | recall : 0.6678229761596639\n"
     ]
    },
    {
     "data": {
      "application/vnd.jupyter.widget-view+json": {
       "model_id": "",
       "version_major": 2,
       "version_minor": 0
      },
      "text/plain": [
       "HBox(children=(FloatProgress(value=0.0, max=10296.0), HTML(value='')))"
      ]
     },
     "metadata": {},
     "output_type": "display_data"
    },
    {
     "data": {
      "application/vnd.jupyter.widget-view+json": {
       "model_id": "",
       "version_major": 2,
       "version_minor": 0
      },
      "text/plain": [
       "HBox(children=(FloatProgress(value=0.0, max=10296.0), HTML(value='')))"
      ]
     },
     "metadata": {},
     "output_type": "display_data"
    },
    {
     "name": "stdout",
     "output_type": "stream",
     "text": [
      "f1 score : 0.8050220123331234 | precision : 0.9922479763825917 | recall : 0.7325492909919673\n"
     ]
    },
    {
     "data": {
      "application/vnd.jupyter.widget-view+json": {
       "model_id": "",
       "version_major": 2,
       "version_minor": 0
      },
      "text/plain": [
       "HBox(children=(FloatProgress(value=0.0, max=10296.0), HTML(value='')))"
      ]
     },
     "metadata": {},
     "output_type": "display_data"
    },
    {
     "data": {
      "application/vnd.jupyter.widget-view+json": {
       "model_id": "",
       "version_major": 2,
       "version_minor": 0
      },
      "text/plain": [
       "HBox(children=(FloatProgress(value=0.0, max=10296.0), HTML(value='')))"
      ]
     },
     "metadata": {},
     "output_type": "display_data"
    },
    {
     "name": "stdout",
     "output_type": "stream",
     "text": [
      "f1 score : 0.844899166608889 | precision : 0.989515562191844 | recall : 0.7879132289399449\n"
     ]
    },
    {
     "data": {
      "application/vnd.jupyter.widget-view+json": {
       "model_id": "",
       "version_major": 2,
       "version_minor": 0
      },
      "text/plain": [
       "HBox(children=(FloatProgress(value=0.0, max=10296.0), HTML(value='')))"
      ]
     },
     "metadata": {},
     "output_type": "display_data"
    },
    {
     "data": {
      "application/vnd.jupyter.widget-view+json": {
       "model_id": "",
       "version_major": 2,
       "version_minor": 0
      },
      "text/plain": [
       "HBox(children=(FloatProgress(value=0.0, max=10296.0), HTML(value='')))"
      ]
     },
     "metadata": {},
     "output_type": "display_data"
    },
    {
     "name": "stdout",
     "output_type": "stream",
     "text": [
      "f1 score : 0.8758062776234233 | precision : 0.9864354869963843 | recall : 0.8322061132362567\n"
     ]
    },
    {
     "data": {
      "application/vnd.jupyter.widget-view+json": {
       "model_id": "",
       "version_major": 2,
       "version_minor": 0
      },
      "text/plain": [
       "HBox(children=(FloatProgress(value=0.0, max=10296.0), HTML(value='')))"
      ]
     },
     "metadata": {},
     "output_type": "display_data"
    },
    {
     "data": {
      "application/vnd.jupyter.widget-view+json": {
       "model_id": "",
       "version_major": 2,
       "version_minor": 0
      },
      "text/plain": [
       "HBox(children=(FloatProgress(value=0.0, max=10296.0), HTML(value='')))"
      ]
     },
     "metadata": {},
     "output_type": "display_data"
    },
    {
     "name": "stdout",
     "output_type": "stream",
     "text": [
      "f1 score : 0.9034644377302085 | precision : 0.9816556673491399 | recall : 0.8739684034900796\n"
     ]
    },
    {
     "data": {
      "application/vnd.jupyter.widget-view+json": {
       "model_id": "",
       "version_major": 2,
       "version_minor": 0
      },
      "text/plain": [
       "HBox(children=(FloatProgress(value=0.0, max=10296.0), HTML(value='')))"
      ]
     },
     "metadata": {},
     "output_type": "display_data"
    },
    {
     "data": {
      "application/vnd.jupyter.widget-view+json": {
       "model_id": "",
       "version_major": 2,
       "version_minor": 0
      },
      "text/plain": [
       "HBox(children=(FloatProgress(value=0.0, max=10296.0), HTML(value='')))"
      ]
     },
     "metadata": {},
     "output_type": "display_data"
    },
    {
     "name": "stdout",
     "output_type": "stream",
     "text": [
      "f1 score : 0.9225339816040313 | precision : 0.9711975540142209 | recall : 0.9088288415329362\n"
     ]
    },
    {
     "data": {
      "application/vnd.jupyter.widget-view+json": {
       "model_id": "",
       "version_major": 2,
       "version_minor": 0
      },
      "text/plain": [
       "HBox(children=(FloatProgress(value=0.0, max=10296.0), HTML(value='')))"
      ]
     },
     "metadata": {},
     "output_type": "display_data"
    },
    {
     "data": {
      "application/vnd.jupyter.widget-view+json": {
       "model_id": "",
       "version_major": 2,
       "version_minor": 0
      },
      "text/plain": [
       "HBox(children=(FloatProgress(value=0.0, max=10296.0), HTML(value='')))"
      ]
     },
     "metadata": {},
     "output_type": "display_data"
    },
    {
     "name": "stdout",
     "output_type": "stream",
     "text": [
      "f1 score : 0.9340441041837967 | precision : 0.955516183962428 | recall : 0.9406742695317833\n"
     ]
    },
    {
     "data": {
      "application/vnd.jupyter.widget-view+json": {
       "model_id": "",
       "version_major": 2,
       "version_minor": 0
      },
      "text/plain": [
       "HBox(children=(FloatProgress(value=0.0, max=10296.0), HTML(value='')))"
      ]
     },
     "metadata": {},
     "output_type": "display_data"
    },
    {
     "data": {
      "application/vnd.jupyter.widget-view+json": {
       "model_id": "",
       "version_major": 2,
       "version_minor": 0
      },
      "text/plain": [
       "HBox(children=(FloatProgress(value=0.0, max=10296.0), HTML(value='')))"
      ]
     },
     "metadata": {},
     "output_type": "display_data"
    },
    {
     "name": "stdout",
     "output_type": "stream",
     "text": [
      "f1 score : 0.9294337325991681 | precision : 0.9241081177915667 | recall : 0.9661427281750319\n"
     ]
    },
    {
     "data": {
      "application/vnd.jupyter.widget-view+json": {
       "model_id": "",
       "version_major": 2,
       "version_minor": 0
      },
      "text/plain": [
       "HBox(children=(FloatProgress(value=0.0, max=10296.0), HTML(value='')))"
      ]
     },
     "metadata": {},
     "output_type": "display_data"
    },
    {
     "data": {
      "application/vnd.jupyter.widget-view+json": {
       "model_id": "",
       "version_major": 2,
       "version_minor": 0
      },
      "text/plain": [
       "HBox(children=(FloatProgress(value=0.0, max=10296.0), HTML(value='')))"
      ]
     },
     "metadata": {},
     "output_type": "display_data"
    },
    {
     "name": "stdout",
     "output_type": "stream",
     "text": [
      "f1 score : 0.8949289412756748 | precision : 0.8607521494224133 | recall : 0.9827872707958593\n"
     ]
    },
    {
     "data": {
      "application/vnd.jupyter.widget-view+json": {
       "model_id": "",
       "version_major": 2,
       "version_minor": 0
      },
      "text/plain": [
       "HBox(children=(FloatProgress(value=0.0, max=10296.0), HTML(value='')))"
      ]
     },
     "metadata": {},
     "output_type": "display_data"
    },
    {
     "data": {
      "application/vnd.jupyter.widget-view+json": {
       "model_id": "",
       "version_major": 2,
       "version_minor": 0
      },
      "text/plain": [
       "HBox(children=(FloatProgress(value=0.0, max=10296.0), HTML(value='')))"
      ]
     },
     "metadata": {},
     "output_type": "display_data"
    },
    {
     "name": "stdout",
     "output_type": "stream",
     "text": [
      "f1 score : 0.7922284301093522 | precision : 0.7186946500599724 | recall : 0.9916919590939187\n"
     ]
    },
    {
     "data": {
      "application/vnd.jupyter.widget-view+json": {
       "model_id": "",
       "version_major": 2,
       "version_minor": 0
      },
      "text/plain": [
       "HBox(children=(FloatProgress(value=0.0, max=10296.0), HTML(value='')))"
      ]
     },
     "metadata": {},
     "output_type": "display_data"
    },
    {
     "data": {
      "application/vnd.jupyter.widget-view+json": {
       "model_id": "",
       "version_major": 2,
       "version_minor": 0
      },
      "text/plain": [
       "HBox(children=(FloatProgress(value=0.0, max=10296.0), HTML(value='')))"
      ]
     },
     "metadata": {},
     "output_type": "display_data"
    },
    {
     "name": "stdout",
     "output_type": "stream",
     "text": [
      "f1 score : 0.5056981249773848 | precision : 0.38870682923366134 | recall : 0.9962427800050334\n",
      "Saved best model ep 6 with f score : 0.9340441041837967\n",
      "Ep 6: Train loss 6.49963041561753 | Val f score 0.9340441041837967\n"
     ]
    },
    {
     "data": {
      "application/vnd.jupyter.widget-view+json": {
       "model_id": "9c65a55542114c068777f87039c64e14",
       "version_major": 2,
       "version_minor": 0
      },
      "text/plain": [
       "HBox(children=(FloatProgress(value=0.0, max=536.0), HTML(value='')))"
      ]
     },
     "metadata": {},
     "output_type": "display_data"
    },
    {
     "name": "stdout",
     "output_type": "stream",
     "text": [
      "\n"
     ]
    },
    {
     "data": {
      "application/vnd.jupyter.widget-view+json": {
       "model_id": "2f637bf12a4f42678f26907dda3c4f16",
       "version_major": 2,
       "version_minor": 0
      },
      "text/plain": [
       "HBox(children=(FloatProgress(value=0.0, max=161.0), HTML(value='')))"
      ]
     },
     "metadata": {},
     "output_type": "display_data"
    },
    {
     "name": "stdout",
     "output_type": "stream",
     "text": [
      "\n"
     ]
    },
    {
     "data": {
      "application/vnd.jupyter.widget-view+json": {
       "model_id": "",
       "version_major": 2,
       "version_minor": 0
      },
      "text/plain": [
       "HBox(children=(FloatProgress(value=0.0, max=10296.0), HTML(value='')))"
      ]
     },
     "metadata": {},
     "output_type": "display_data"
    },
    {
     "data": {
      "application/vnd.jupyter.widget-view+json": {
       "model_id": "",
       "version_major": 2,
       "version_minor": 0
      },
      "text/plain": [
       "HBox(children=(FloatProgress(value=0.0, max=10296.0), HTML(value='')))"
      ]
     },
     "metadata": {},
     "output_type": "display_data"
    },
    {
     "name": "stdout",
     "output_type": "stream",
     "text": [
      "f1 score : 0.5224695050239722 | precision : 0.9978761978761976 | recall : 0.3869163524385494\n"
     ]
    },
    {
     "data": {
      "application/vnd.jupyter.widget-view+json": {
       "model_id": "",
       "version_major": 2,
       "version_minor": 0
      },
      "text/plain": [
       "HBox(children=(FloatProgress(value=0.0, max=10296.0), HTML(value='')))"
      ]
     },
     "metadata": {},
     "output_type": "display_data"
    },
    {
     "data": {
      "application/vnd.jupyter.widget-view+json": {
       "model_id": "",
       "version_major": 2,
       "version_minor": 0
      },
      "text/plain": [
       "HBox(children=(FloatProgress(value=0.0, max=10296.0), HTML(value='')))"
      ]
     },
     "metadata": {},
     "output_type": "display_data"
    },
    {
     "name": "stdout",
     "output_type": "stream",
     "text": [
      "f1 score : 0.5732928504138056 | precision : 0.9973371535871535 | recall : 0.44210502914704775\n"
     ]
    },
    {
     "data": {
      "application/vnd.jupyter.widget-view+json": {
       "model_id": "",
       "version_major": 2,
       "version_minor": 0
      },
      "text/plain": [
       "HBox(children=(FloatProgress(value=0.0, max=10296.0), HTML(value='')))"
      ]
     },
     "metadata": {},
     "output_type": "display_data"
    },
    {
     "data": {
      "application/vnd.jupyter.widget-view+json": {
       "model_id": "",
       "version_major": 2,
       "version_minor": 0
      },
      "text/plain": [
       "HBox(children=(FloatProgress(value=0.0, max=10296.0), HTML(value='')))"
      ]
     },
     "metadata": {},
     "output_type": "display_data"
    },
    {
     "name": "stdout",
     "output_type": "stream",
     "text": [
      "f1 score : 0.637141395439231 | precision : 0.9965852434602437 | recall : 0.5157737799418396\n"
     ]
    },
    {
     "data": {
      "application/vnd.jupyter.widget-view+json": {
       "model_id": "",
       "version_major": 2,
       "version_minor": 0
      },
      "text/plain": [
       "HBox(children=(FloatProgress(value=0.0, max=10296.0), HTML(value='')))"
      ]
     },
     "metadata": {},
     "output_type": "display_data"
    },
    {
     "data": {
      "application/vnd.jupyter.widget-view+json": {
       "model_id": "",
       "version_major": 2,
       "version_minor": 0
      },
      "text/plain": [
       "HBox(children=(FloatProgress(value=0.0, max=10296.0), HTML(value='')))"
      ]
     },
     "metadata": {},
     "output_type": "display_data"
    },
    {
     "name": "stdout",
     "output_type": "stream",
     "text": [
      "f1 score : 0.7086048085449507 | precision : 0.9958320474418957 | recall : 0.6038276931641962\n"
     ]
    },
    {
     "data": {
      "application/vnd.jupyter.widget-view+json": {
       "model_id": "",
       "version_major": 2,
       "version_minor": 0
      },
      "text/plain": [
       "HBox(children=(FloatProgress(value=0.0, max=10296.0), HTML(value='')))"
      ]
     },
     "metadata": {},
     "output_type": "display_data"
    },
    {
     "data": {
      "application/vnd.jupyter.widget-view+json": {
       "model_id": "",
       "version_major": 2,
       "version_minor": 0
      },
      "text/plain": [
       "HBox(children=(FloatProgress(value=0.0, max=10296.0), HTML(value='')))"
      ]
     },
     "metadata": {},
     "output_type": "display_data"
    },
    {
     "name": "stdout",
     "output_type": "stream",
     "text": [
      "f1 score : 0.7700625786454259 | precision : 0.9948977514974019 | recall : 0.6841727664798342\n"
     ]
    },
    {
     "data": {
      "application/vnd.jupyter.widget-view+json": {
       "model_id": "",
       "version_major": 2,
       "version_minor": 0
      },
      "text/plain": [
       "HBox(children=(FloatProgress(value=0.0, max=10296.0), HTML(value='')))"
      ]
     },
     "metadata": {},
     "output_type": "display_data"
    },
    {
     "data": {
      "application/vnd.jupyter.widget-view+json": {
       "model_id": "",
       "version_major": 2,
       "version_minor": 0
      },
      "text/plain": [
       "HBox(children=(FloatProgress(value=0.0, max=10296.0), HTML(value='')))"
      ]
     },
     "metadata": {},
     "output_type": "display_data"
    },
    {
     "name": "stdout",
     "output_type": "stream",
     "text": [
      "f1 score : 0.818228524952037 | precision : 0.993235029452978 | recall : 0.7497848045668264\n"
     ]
    },
    {
     "data": {
      "application/vnd.jupyter.widget-view+json": {
       "model_id": "",
       "version_major": 2,
       "version_minor": 0
      },
      "text/plain": [
       "HBox(children=(FloatProgress(value=0.0, max=10296.0), HTML(value='')))"
      ]
     },
     "metadata": {},
     "output_type": "display_data"
    },
    {
     "data": {
      "application/vnd.jupyter.widget-view+json": {
       "model_id": "",
       "version_major": 2,
       "version_minor": 0
      },
      "text/plain": [
       "HBox(children=(FloatProgress(value=0.0, max=10296.0), HTML(value='')))"
      ]
     },
     "metadata": {},
     "output_type": "display_data"
    },
    {
     "name": "stdout",
     "output_type": "stream",
     "text": [
      "f1 score : 0.8586651908447391 | precision : 0.9913924809758136 | recall : 0.8058616725778086\n"
     ]
    },
    {
     "data": {
      "application/vnd.jupyter.widget-view+json": {
       "model_id": "",
       "version_major": 2,
       "version_minor": 0
      },
      "text/plain": [
       "HBox(children=(FloatProgress(value=0.0, max=10296.0), HTML(value='')))"
      ]
     },
     "metadata": {},
     "output_type": "display_data"
    },
    {
     "data": {
      "application/vnd.jupyter.widget-view+json": {
       "model_id": "",
       "version_major": 2,
       "version_minor": 0
      },
      "text/plain": [
       "HBox(children=(FloatProgress(value=0.0, max=10296.0), HTML(value='')))"
      ]
     },
     "metadata": {},
     "output_type": "display_data"
    },
    {
     "name": "stdout",
     "output_type": "stream",
     "text": [
      "f1 score : 0.8889778959874156 | precision : 0.9889171399588063 | recall : 0.8485919747915432\n"
     ]
    },
    {
     "data": {
      "application/vnd.jupyter.widget-view+json": {
       "model_id": "",
       "version_major": 2,
       "version_minor": 0
      },
      "text/plain": [
       "HBox(children=(FloatProgress(value=0.0, max=10296.0), HTML(value='')))"
      ]
     },
     "metadata": {},
     "output_type": "display_data"
    },
    {
     "data": {
      "application/vnd.jupyter.widget-view+json": {
       "model_id": "",
       "version_major": 2,
       "version_minor": 0
      },
      "text/plain": [
       "HBox(children=(FloatProgress(value=0.0, max=10296.0), HTML(value='')))"
      ]
     },
     "metadata": {},
     "output_type": "display_data"
    },
    {
     "name": "stdout",
     "output_type": "stream",
     "text": [
      "f1 score : 0.9148634089721654 | precision : 0.9854693351196842 | recall : 0.8867861466104249\n"
     ]
    },
    {
     "data": {
      "application/vnd.jupyter.widget-view+json": {
       "model_id": "",
       "version_major": 2,
       "version_minor": 0
      },
      "text/plain": [
       "HBox(children=(FloatProgress(value=0.0, max=10296.0), HTML(value='')))"
      ]
     },
     "metadata": {},
     "output_type": "display_data"
    },
    {
     "data": {
      "application/vnd.jupyter.widget-view+json": {
       "model_id": "",
       "version_major": 2,
       "version_minor": 0
      },
      "text/plain": [
       "HBox(children=(FloatProgress(value=0.0, max=10296.0), HTML(value='')))"
      ]
     },
     "metadata": {},
     "output_type": "display_data"
    },
    {
     "name": "stdout",
     "output_type": "stream",
     "text": [
      "f1 score : 0.9352593671535661 | precision : 0.9788614728732822 | recall : 0.9209111192762078\n"
     ]
    },
    {
     "data": {
      "application/vnd.jupyter.widget-view+json": {
       "model_id": "",
       "version_major": 2,
       "version_minor": 0
      },
      "text/plain": [
       "HBox(children=(FloatProgress(value=0.0, max=10296.0), HTML(value='')))"
      ]
     },
     "metadata": {},
     "output_type": "display_data"
    },
    {
     "data": {
      "application/vnd.jupyter.widget-view+json": {
       "model_id": "",
       "version_major": 2,
       "version_minor": 0
      },
      "text/plain": [
       "HBox(children=(FloatProgress(value=0.0, max=10296.0), HTML(value='')))"
      ]
     },
     "metadata": {},
     "output_type": "display_data"
    },
    {
     "name": "stdout",
     "output_type": "stream",
     "text": [
      "f1 score : 0.9478170434756339 | precision : 0.9664792435072647 | recall : 0.9507761388719639\n"
     ]
    },
    {
     "data": {
      "application/vnd.jupyter.widget-view+json": {
       "model_id": "",
       "version_major": 2,
       "version_minor": 0
      },
      "text/plain": [
       "HBox(children=(FloatProgress(value=0.0, max=10296.0), HTML(value='')))"
      ]
     },
     "metadata": {},
     "output_type": "display_data"
    },
    {
     "data": {
      "application/vnd.jupyter.widget-view+json": {
       "model_id": "",
       "version_major": 2,
       "version_minor": 0
      },
      "text/plain": [
       "HBox(children=(FloatProgress(value=0.0, max=10296.0), HTML(value='')))"
      ]
     },
     "metadata": {},
     "output_type": "display_data"
    },
    {
     "name": "stdout",
     "output_type": "stream",
     "text": [
      "f1 score : 0.9462657655751343 | precision : 0.9423577234954935 | recall : 0.9731560825649423\n"
     ]
    },
    {
     "data": {
      "application/vnd.jupyter.widget-view+json": {
       "model_id": "",
       "version_major": 2,
       "version_minor": 0
      },
      "text/plain": [
       "HBox(children=(FloatProgress(value=0.0, max=10296.0), HTML(value='')))"
      ]
     },
     "metadata": {},
     "output_type": "display_data"
    },
    {
     "data": {
      "application/vnd.jupyter.widget-view+json": {
       "model_id": "",
       "version_major": 2,
       "version_minor": 0
      },
      "text/plain": [
       "HBox(children=(FloatProgress(value=0.0, max=10296.0), HTML(value='')))"
      ]
     },
     "metadata": {},
     "output_type": "display_data"
    },
    {
     "name": "stdout",
     "output_type": "stream",
     "text": [
      "f1 score : 0.9158777794126639 | precision : 0.8863082094389015 | recall : 0.9867520035129372\n"
     ]
    },
    {
     "data": {
      "application/vnd.jupyter.widget-view+json": {
       "model_id": "",
       "version_major": 2,
       "version_minor": 0
      },
      "text/plain": [
       "HBox(children=(FloatProgress(value=0.0, max=10296.0), HTML(value='')))"
      ]
     },
     "metadata": {},
     "output_type": "display_data"
    },
    {
     "data": {
      "application/vnd.jupyter.widget-view+json": {
       "model_id": "",
       "version_major": 2,
       "version_minor": 0
      },
      "text/plain": [
       "HBox(children=(FloatProgress(value=0.0, max=10296.0), HTML(value='')))"
      ]
     },
     "metadata": {},
     "output_type": "display_data"
    },
    {
     "name": "stdout",
     "output_type": "stream",
     "text": [
      "f1 score : 0.8262290881488392 | precision : 0.7607767529488167 | recall : 0.9938300987320589\n"
     ]
    },
    {
     "data": {
      "application/vnd.jupyter.widget-view+json": {
       "model_id": "",
       "version_major": 2,
       "version_minor": 0
      },
      "text/plain": [
       "HBox(children=(FloatProgress(value=0.0, max=10296.0), HTML(value='')))"
      ]
     },
     "metadata": {},
     "output_type": "display_data"
    },
    {
     "data": {
      "application/vnd.jupyter.widget-view+json": {
       "model_id": "",
       "version_major": 2,
       "version_minor": 0
      },
      "text/plain": [
       "HBox(children=(FloatProgress(value=0.0, max=10296.0), HTML(value='')))"
      ]
     },
     "metadata": {},
     "output_type": "display_data"
    },
    {
     "name": "stdout",
     "output_type": "stream",
     "text": [
      "f1 score : 0.558826746013752 | precision : 0.4415469661344048 | recall : 0.9967009637965502\n",
      "Saved best model ep 7 with f score : 0.9478170434756339\n",
      "Ep 7: Train loss 5.053617872853778 | Val f score 0.9478170434756339\n"
     ]
    },
    {
     "data": {
      "application/vnd.jupyter.widget-view+json": {
       "model_id": "5e4e0135c2894ac9ba861a92c6d00ecb",
       "version_major": 2,
       "version_minor": 0
      },
      "text/plain": [
       "HBox(children=(FloatProgress(value=0.0, max=536.0), HTML(value='')))"
      ]
     },
     "metadata": {},
     "output_type": "display_data"
    },
    {
     "name": "stdout",
     "output_type": "stream",
     "text": [
      "\n"
     ]
    },
    {
     "data": {
      "application/vnd.jupyter.widget-view+json": {
       "model_id": "dfd23a455e1246f2928463abf53ddb5d",
       "version_major": 2,
       "version_minor": 0
      },
      "text/plain": [
       "HBox(children=(FloatProgress(value=0.0, max=161.0), HTML(value='')))"
      ]
     },
     "metadata": {},
     "output_type": "display_data"
    },
    {
     "name": "stdout",
     "output_type": "stream",
     "text": [
      "\n"
     ]
    },
    {
     "data": {
      "application/vnd.jupyter.widget-view+json": {
       "model_id": "",
       "version_major": 2,
       "version_minor": 0
      },
      "text/plain": [
       "HBox(children=(FloatProgress(value=0.0, max=10296.0), HTML(value='')))"
      ]
     },
     "metadata": {},
     "output_type": "display_data"
    },
    {
     "data": {
      "application/vnd.jupyter.widget-view+json": {
       "model_id": "",
       "version_major": 2,
       "version_minor": 0
      },
      "text/plain": [
       "HBox(children=(FloatProgress(value=0.0, max=10296.0), HTML(value='')))"
      ]
     },
     "metadata": {},
     "output_type": "display_data"
    },
    {
     "name": "stdout",
     "output_type": "stream",
     "text": [
      "f1 score : 0.5217990561094619 | precision : 0.9980154105154104 | recall : 0.3859922258594938\n"
     ]
    },
    {
     "data": {
      "application/vnd.jupyter.widget-view+json": {
       "model_id": "",
       "version_major": 2,
       "version_minor": 0
      },
      "text/plain": [
       "HBox(children=(FloatProgress(value=0.0, max=10296.0), HTML(value='')))"
      ]
     },
     "metadata": {},
     "output_type": "display_data"
    },
    {
     "data": {
      "application/vnd.jupyter.widget-view+json": {
       "model_id": "",
       "version_major": 2,
       "version_minor": 0
      },
      "text/plain": [
       "HBox(children=(FloatProgress(value=0.0, max=10296.0), HTML(value='')))"
      ]
     },
     "metadata": {},
     "output_type": "display_data"
    },
    {
     "name": "stdout",
     "output_type": "stream",
     "text": [
      "f1 score : 0.5725934476962005 | precision : 0.997589678839679 | recall : 0.44119238797402677\n"
     ]
    },
    {
     "data": {
      "application/vnd.jupyter.widget-view+json": {
       "model_id": "",
       "version_major": 2,
       "version_minor": 0
      },
      "text/plain": [
       "HBox(children=(FloatProgress(value=0.0, max=10296.0), HTML(value='')))"
      ]
     },
     "metadata": {},
     "output_type": "display_data"
    },
    {
     "data": {
      "application/vnd.jupyter.widget-view+json": {
       "model_id": "",
       "version_major": 2,
       "version_minor": 0
      },
      "text/plain": [
       "HBox(children=(FloatProgress(value=0.0, max=10296.0), HTML(value='')))"
      ]
     },
     "metadata": {},
     "output_type": "display_data"
    },
    {
     "name": "stdout",
     "output_type": "stream",
     "text": [
      "f1 score : 0.6384093313565647 | precision : 0.9966329966329969 | recall : 0.5177012730520678\n"
     ]
    },
    {
     "data": {
      "application/vnd.jupyter.widget-view+json": {
       "model_id": "",
       "version_major": 2,
       "version_minor": 0
      },
      "text/plain": [
       "HBox(children=(FloatProgress(value=0.0, max=10296.0), HTML(value='')))"
      ]
     },
     "metadata": {},
     "output_type": "display_data"
    },
    {
     "data": {
      "application/vnd.jupyter.widget-view+json": {
       "model_id": "",
       "version_major": 2,
       "version_minor": 0
      },
      "text/plain": [
       "HBox(children=(FloatProgress(value=0.0, max=10296.0), HTML(value='')))"
      ]
     },
     "metadata": {},
     "output_type": "display_data"
    },
    {
     "name": "stdout",
     "output_type": "stream",
     "text": [
      "f1 score : 0.7096370383305207 | precision : 0.9961998649498648 | recall : 0.6049229367096974\n"
     ]
    },
    {
     "data": {
      "application/vnd.jupyter.widget-view+json": {
       "model_id": "",
       "version_major": 2,
       "version_minor": 0
      },
      "text/plain": [
       "HBox(children=(FloatProgress(value=0.0, max=10296.0), HTML(value='')))"
      ]
     },
     "metadata": {},
     "output_type": "display_data"
    },
    {
     "data": {
      "application/vnd.jupyter.widget-view+json": {
       "model_id": "",
       "version_major": 2,
       "version_minor": 0
      },
      "text/plain": [
       "HBox(children=(FloatProgress(value=0.0, max=10296.0), HTML(value='')))"
      ]
     },
     "metadata": {},
     "output_type": "display_data"
    },
    {
     "name": "stdout",
     "output_type": "stream",
     "text": [
      "f1 score : 0.7748873078308622 | precision : 0.9950067242608034 | recall : 0.6904098387480188\n"
     ]
    },
    {
     "data": {
      "application/vnd.jupyter.widget-view+json": {
       "model_id": "",
       "version_major": 2,
       "version_minor": 0
      },
      "text/plain": [
       "HBox(children=(FloatProgress(value=0.0, max=10296.0), HTML(value='')))"
      ]
     },
     "metadata": {},
     "output_type": "display_data"
    },
    {
     "data": {
      "application/vnd.jupyter.widget-view+json": {
       "model_id": "",
       "version_major": 2,
       "version_minor": 0
      },
      "text/plain": [
       "HBox(children=(FloatProgress(value=0.0, max=10296.0), HTML(value='')))"
      ]
     },
     "metadata": {},
     "output_type": "display_data"
    },
    {
     "name": "stdout",
     "output_type": "stream",
     "text": [
      "f1 score : 0.824653109510912 | precision : 0.9936709124209123 | recall : 0.7583174287660022\n"
     ]
    },
    {
     "data": {
      "application/vnd.jupyter.widget-view+json": {
       "model_id": "",
       "version_major": 2,
       "version_minor": 0
      },
      "text/plain": [
       "HBox(children=(FloatProgress(value=0.0, max=10296.0), HTML(value='')))"
      ]
     },
     "metadata": {},
     "output_type": "display_data"
    },
    {
     "data": {
      "application/vnd.jupyter.widget-view+json": {
       "model_id": "",
       "version_major": 2,
       "version_minor": 0
      },
      "text/plain": [
       "HBox(children=(FloatProgress(value=0.0, max=10296.0), HTML(value='')))"
      ]
     },
     "metadata": {},
     "output_type": "display_data"
    },
    {
     "name": "stdout",
     "output_type": "stream",
     "text": [
      "f1 score : 0.8627656417040477 | precision : 0.9925379404546067 | recall : 0.8107340397399263\n"
     ]
    },
    {
     "data": {
      "application/vnd.jupyter.widget-view+json": {
       "model_id": "",
       "version_major": 2,
       "version_minor": 0
      },
      "text/plain": [
       "HBox(children=(FloatProgress(value=0.0, max=10296.0), HTML(value='')))"
      ]
     },
     "metadata": {},
     "output_type": "display_data"
    },
    {
     "data": {
      "application/vnd.jupyter.widget-view+json": {
       "model_id": "",
       "version_major": 2,
       "version_minor": 0
      },
      "text/plain": [
       "HBox(children=(FloatProgress(value=0.0, max=10296.0), HTML(value='')))"
      ]
     },
     "metadata": {},
     "output_type": "display_data"
    },
    {
     "name": "stdout",
     "output_type": "stream",
     "text": [
      "f1 score : 0.892747380350603 | precision : 0.989721351179684 | recall : 0.8531141753605417\n"
     ]
    },
    {
     "data": {
      "application/vnd.jupyter.widget-view+json": {
       "model_id": "",
       "version_major": 2,
       "version_minor": 0
      },
      "text/plain": [
       "HBox(children=(FloatProgress(value=0.0, max=10296.0), HTML(value='')))"
      ]
     },
     "metadata": {},
     "output_type": "display_data"
    },
    {
     "data": {
      "application/vnd.jupyter.widget-view+json": {
       "model_id": "",
       "version_major": 2,
       "version_minor": 0
      },
      "text/plain": [
       "HBox(children=(FloatProgress(value=0.0, max=10296.0), HTML(value='')))"
      ]
     },
     "metadata": {},
     "output_type": "display_data"
    },
    {
     "name": "stdout",
     "output_type": "stream",
     "text": [
      "f1 score : 0.9196534040811624 | precision : 0.9870225230073706 | recall : 0.8923984457756167\n"
     ]
    },
    {
     "data": {
      "application/vnd.jupyter.widget-view+json": {
       "model_id": "",
       "version_major": 2,
       "version_minor": 0
      },
      "text/plain": [
       "HBox(children=(FloatProgress(value=0.0, max=10296.0), HTML(value='')))"
      ]
     },
     "metadata": {},
     "output_type": "display_data"
    },
    {
     "data": {
      "application/vnd.jupyter.widget-view+json": {
       "model_id": "",
       "version_major": 2,
       "version_minor": 0
      },
      "text/plain": [
       "HBox(children=(FloatProgress(value=0.0, max=10296.0), HTML(value='')))"
      ]
     },
     "metadata": {},
     "output_type": "display_data"
    },
    {
     "name": "stdout",
     "output_type": "stream",
     "text": [
      "f1 score : 0.9397394375813036 | precision : 0.9815321651350205 | recall : 0.9253004916417223\n"
     ]
    },
    {
     "data": {
      "application/vnd.jupyter.widget-view+json": {
       "model_id": "",
       "version_major": 2,
       "version_minor": 0
      },
      "text/plain": [
       "HBox(children=(FloatProgress(value=0.0, max=10296.0), HTML(value='')))"
      ]
     },
     "metadata": {},
     "output_type": "display_data"
    },
    {
     "data": {
      "application/vnd.jupyter.widget-view+json": {
       "model_id": "",
       "version_major": 2,
       "version_minor": 0
      },
      "text/plain": [
       "HBox(children=(FloatProgress(value=0.0, max=10296.0), HTML(value='')))"
      ]
     },
     "metadata": {},
     "output_type": "display_data"
    },
    {
     "name": "stdout",
     "output_type": "stream",
     "text": [
      "f1 score : 0.9527268915380349 | precision : 0.9713824810122764 | recall : 0.953484676997168\n"
     ]
    },
    {
     "data": {
      "application/vnd.jupyter.widget-view+json": {
       "model_id": "",
       "version_major": 2,
       "version_minor": 0
      },
      "text/plain": [
       "HBox(children=(FloatProgress(value=0.0, max=10296.0), HTML(value='')))"
      ]
     },
     "metadata": {},
     "output_type": "display_data"
    },
    {
     "data": {
      "application/vnd.jupyter.widget-view+json": {
       "model_id": "",
       "version_major": 2,
       "version_minor": 0
      },
      "text/plain": [
       "HBox(children=(FloatProgress(value=0.0, max=10296.0), HTML(value='')))"
      ]
     },
     "metadata": {},
     "output_type": "display_data"
    },
    {
     "name": "stdout",
     "output_type": "stream",
     "text": [
      "f1 score : 0.9517508201424376 | precision : 0.9485894888556314 | recall : 0.9751337975429697\n"
     ]
    },
    {
     "data": {
      "application/vnd.jupyter.widget-view+json": {
       "model_id": "",
       "version_major": 2,
       "version_minor": 0
      },
      "text/plain": [
       "HBox(children=(FloatProgress(value=0.0, max=10296.0), HTML(value='')))"
      ]
     },
     "metadata": {},
     "output_type": "display_data"
    },
    {
     "data": {
      "application/vnd.jupyter.widget-view+json": {
       "model_id": "",
       "version_major": 2,
       "version_minor": 0
      },
      "text/plain": [
       "HBox(children=(FloatProgress(value=0.0, max=10296.0), HTML(value='')))"
      ]
     },
     "metadata": {},
     "output_type": "display_data"
    },
    {
     "name": "stdout",
     "output_type": "stream",
     "text": [
      "f1 score : 0.9250315991618203 | precision : 0.8984442888181332 | recall : 0.9877378113897717\n"
     ]
    },
    {
     "data": {
      "application/vnd.jupyter.widget-view+json": {
       "model_id": "",
       "version_major": 2,
       "version_minor": 0
      },
      "text/plain": [
       "HBox(children=(FloatProgress(value=0.0, max=10296.0), HTML(value='')))"
      ]
     },
     "metadata": {},
     "output_type": "display_data"
    },
    {
     "data": {
      "application/vnd.jupyter.widget-view+json": {
       "model_id": "",
       "version_major": 2,
       "version_minor": 0
      },
      "text/plain": [
       "HBox(children=(FloatProgress(value=0.0, max=10296.0), HTML(value='')))"
      ]
     },
     "metadata": {},
     "output_type": "display_data"
    },
    {
     "name": "stdout",
     "output_type": "stream",
     "text": [
      "f1 score : 0.8407752301767903 | precision : 0.7788530660921307 | recall : 0.9942579887432821\n"
     ]
    },
    {
     "data": {
      "application/vnd.jupyter.widget-view+json": {
       "model_id": "",
       "version_major": 2,
       "version_minor": 0
      },
      "text/plain": [
       "HBox(children=(FloatProgress(value=0.0, max=10296.0), HTML(value='')))"
      ]
     },
     "metadata": {},
     "output_type": "display_data"
    },
    {
     "data": {
      "application/vnd.jupyter.widget-view+json": {
       "model_id": "",
       "version_major": 2,
       "version_minor": 0
      },
      "text/plain": [
       "HBox(children=(FloatProgress(value=0.0, max=10296.0), HTML(value='')))"
      ]
     },
     "metadata": {},
     "output_type": "display_data"
    },
    {
     "name": "stdout",
     "output_type": "stream",
     "text": [
      "f1 score : 0.5793660391740058 | precision : 0.46193027066109865 | recall : 0.9971366006905206\n",
      "Saved best model ep 8 with f score : 0.9527268915380349\n",
      "Ep 8: Train loss 4.235239312275132 | Val f score 0.9527268915380349\n"
     ]
    },
    {
     "data": {
      "application/vnd.jupyter.widget-view+json": {
       "model_id": "3fd549dd5001491d94022206dd5ee0ca",
       "version_major": 2,
       "version_minor": 0
      },
      "text/plain": [
       "HBox(children=(FloatProgress(value=0.0, max=536.0), HTML(value='')))"
      ]
     },
     "metadata": {},
     "output_type": "display_data"
    },
    {
     "name": "stdout",
     "output_type": "stream",
     "text": [
      "\n"
     ]
    },
    {
     "data": {
      "application/vnd.jupyter.widget-view+json": {
       "model_id": "102b8f98f84d4b5a925cd4a1a09b7801",
       "version_major": 2,
       "version_minor": 0
      },
      "text/plain": [
       "HBox(children=(FloatProgress(value=0.0, max=161.0), HTML(value='')))"
      ]
     },
     "metadata": {},
     "output_type": "display_data"
    },
    {
     "name": "stdout",
     "output_type": "stream",
     "text": [
      "\n"
     ]
    },
    {
     "data": {
      "application/vnd.jupyter.widget-view+json": {
       "model_id": "",
       "version_major": 2,
       "version_minor": 0
      },
      "text/plain": [
       "HBox(children=(FloatProgress(value=0.0, max=10296.0), HTML(value='')))"
      ]
     },
     "metadata": {},
     "output_type": "display_data"
    },
    {
     "data": {
      "application/vnd.jupyter.widget-view+json": {
       "model_id": "",
       "version_major": 2,
       "version_minor": 0
      },
      "text/plain": [
       "HBox(children=(FloatProgress(value=0.0, max=10296.0), HTML(value='')))"
      ]
     },
     "metadata": {},
     "output_type": "display_data"
    },
    {
     "name": "stdout",
     "output_type": "stream",
     "text": [
      "f1 score : 0.5222046242940585 | precision : 0.9980154105154104 | recall : 0.38642365909357684\n"
     ]
    },
    {
     "data": {
      "application/vnd.jupyter.widget-view+json": {
       "model_id": "",
       "version_major": 2,
       "version_minor": 0
      },
      "text/plain": [
       "HBox(children=(FloatProgress(value=0.0, max=10296.0), HTML(value='')))"
      ]
     },
     "metadata": {},
     "output_type": "display_data"
    },
    {
     "data": {
      "application/vnd.jupyter.widget-view+json": {
       "model_id": "",
       "version_major": 2,
       "version_minor": 0
      },
      "text/plain": [
       "HBox(children=(FloatProgress(value=0.0, max=10296.0), HTML(value='')))"
      ]
     },
     "metadata": {},
     "output_type": "display_data"
    },
    {
     "name": "stdout",
     "output_type": "stream",
     "text": [
      "f1 score : 0.5729757799093051 | precision : 0.997589678839679 | recall : 0.4415145634716233\n"
     ]
    },
    {
     "data": {
      "application/vnd.jupyter.widget-view+json": {
       "model_id": "",
       "version_major": 2,
       "version_minor": 0
      },
      "text/plain": [
       "HBox(children=(FloatProgress(value=0.0, max=10296.0), HTML(value='')))"
      ]
     },
     "metadata": {},
     "output_type": "display_data"
    },
    {
     "data": {
      "application/vnd.jupyter.widget-view+json": {
       "model_id": "",
       "version_major": 2,
       "version_minor": 0
      },
      "text/plain": [
       "HBox(children=(FloatProgress(value=0.0, max=10296.0), HTML(value='')))"
      ]
     },
     "metadata": {},
     "output_type": "display_data"
    },
    {
     "name": "stdout",
     "output_type": "stream",
     "text": [
      "f1 score : 0.6389194674811035 | precision : 0.9966329966329969 | recall : 0.5181554580284031\n"
     ]
    },
    {
     "data": {
      "application/vnd.jupyter.widget-view+json": {
       "model_id": "",
       "version_major": 2,
       "version_minor": 0
      },
      "text/plain": [
       "HBox(children=(FloatProgress(value=0.0, max=10296.0), HTML(value='')))"
      ]
     },
     "metadata": {},
     "output_type": "display_data"
    },
    {
     "data": {
      "application/vnd.jupyter.widget-view+json": {
       "model_id": "",
       "version_major": 2,
       "version_minor": 0
      },
      "text/plain": [
       "HBox(children=(FloatProgress(value=0.0, max=10296.0), HTML(value='')))"
      ]
     },
     "metadata": {},
     "output_type": "display_data"
    },
    {
     "name": "stdout",
     "output_type": "stream",
     "text": [
      "f1 score : 0.7117569275630401 | precision : 0.9962816854862308 | recall : 0.6075743752672726\n"
     ]
    },
    {
     "data": {
      "application/vnd.jupyter.widget-view+json": {
       "model_id": "",
       "version_major": 2,
       "version_minor": 0
      },
      "text/plain": [
       "HBox(children=(FloatProgress(value=0.0, max=10296.0), HTML(value='')))"
      ]
     },
     "metadata": {},
     "output_type": "display_data"
    },
    {
     "data": {
      "application/vnd.jupyter.widget-view+json": {
       "model_id": "",
       "version_major": 2,
       "version_minor": 0
      },
      "text/plain": [
       "HBox(children=(FloatProgress(value=0.0, max=10296.0), HTML(value='')))"
      ]
     },
     "metadata": {},
     "output_type": "display_data"
    },
    {
     "name": "stdout",
     "output_type": "stream",
     "text": [
      "f1 score : 0.7763525514420201 | precision : 0.9949139039756754 | recall : 0.6923221001802489\n"
     ]
    },
    {
     "data": {
      "application/vnd.jupyter.widget-view+json": {
       "model_id": "",
       "version_major": 2,
       "version_minor": 0
      },
      "text/plain": [
       "HBox(children=(FloatProgress(value=0.0, max=10296.0), HTML(value='')))"
      ]
     },
     "metadata": {},
     "output_type": "display_data"
    },
    {
     "data": {
      "application/vnd.jupyter.widget-view+json": {
       "model_id": "",
       "version_major": 2,
       "version_minor": 0
      },
      "text/plain": [
       "HBox(children=(FloatProgress(value=0.0, max=10296.0), HTML(value='')))"
      ]
     },
     "metadata": {},
     "output_type": "display_data"
    },
    {
     "name": "stdout",
     "output_type": "stream",
     "text": [
      "f1 score : 0.8262567625980594 | precision : 0.9937844177427511 | recall : 0.7603076890312541\n"
     ]
    },
    {
     "data": {
      "application/vnd.jupyter.widget-view+json": {
       "model_id": "",
       "version_major": 2,
       "version_minor": 0
      },
      "text/plain": [
       "HBox(children=(FloatProgress(value=0.0, max=10296.0), HTML(value='')))"
      ]
     },
     "metadata": {},
     "output_type": "display_data"
    },
    {
     "data": {
      "application/vnd.jupyter.widget-view+json": {
       "model_id": "",
       "version_major": 2,
       "version_minor": 0
      },
      "text/plain": [
       "HBox(children=(FloatProgress(value=0.0, max=10296.0), HTML(value='')))"
      ]
     },
     "metadata": {},
     "output_type": "display_data"
    },
    {
     "name": "stdout",
     "output_type": "stream",
     "text": [
      "f1 score : 0.8638270549993696 | precision : 0.9926157176157173 | recall : 0.8121909328962232\n"
     ]
    },
    {
     "data": {
      "application/vnd.jupyter.widget-view+json": {
       "model_id": "",
       "version_major": 2,
       "version_minor": 0
      },
      "text/plain": [
       "HBox(children=(FloatProgress(value=0.0, max=10296.0), HTML(value='')))"
      ]
     },
     "metadata": {},
     "output_type": "display_data"
    },
    {
     "data": {
      "application/vnd.jupyter.widget-view+json": {
       "model_id": "",
       "version_major": 2,
       "version_minor": 0
      },
      "text/plain": [
       "HBox(children=(FloatProgress(value=0.0, max=10296.0), HTML(value='')))"
      ]
     },
     "metadata": {},
     "output_type": "display_data"
    },
    {
     "name": "stdout",
     "output_type": "stream",
     "text": [
      "f1 score : 0.8943102758633495 | precision : 0.9899437368187364 | recall : 0.8551917541208122\n"
     ]
    },
    {
     "data": {
      "application/vnd.jupyter.widget-view+json": {
       "model_id": "",
       "version_major": 2,
       "version_minor": 0
      },
      "text/plain": [
       "HBox(children=(FloatProgress(value=0.0, max=10296.0), HTML(value='')))"
      ]
     },
     "metadata": {},
     "output_type": "display_data"
    },
    {
     "data": {
      "application/vnd.jupyter.widget-view+json": {
       "model_id": "",
       "version_major": 2,
       "version_minor": 0
      },
      "text/plain": [
       "HBox(children=(FloatProgress(value=0.0, max=10296.0), HTML(value='')))"
      ]
     },
     "metadata": {},
     "output_type": "display_data"
    },
    {
     "name": "stdout",
     "output_type": "stream",
     "text": [
      "f1 score : 0.9204149124912588 | precision : 0.9870207150510173 | recall : 0.893427434625119\n"
     ]
    },
    {
     "data": {
      "application/vnd.jupyter.widget-view+json": {
       "model_id": "",
       "version_major": 2,
       "version_minor": 0
      },
      "text/plain": [
       "HBox(children=(FloatProgress(value=0.0, max=10296.0), HTML(value='')))"
      ]
     },
     "metadata": {},
     "output_type": "display_data"
    },
    {
     "data": {
      "application/vnd.jupyter.widget-view+json": {
       "model_id": "",
       "version_major": 2,
       "version_minor": 0
      },
      "text/plain": [
       "HBox(children=(FloatProgress(value=0.0, max=10296.0), HTML(value='')))"
      ]
     },
     "metadata": {},
     "output_type": "display_data"
    },
    {
     "name": "stdout",
     "output_type": "stream",
     "text": [
      "f1 score : 0.9400291580519801 | precision : 0.9815672556530017 | recall : 0.9258113814072908\n"
     ]
    },
    {
     "data": {
      "application/vnd.jupyter.widget-view+json": {
       "model_id": "",
       "version_major": 2,
       "version_minor": 0
      },
      "text/plain": [
       "HBox(children=(FloatProgress(value=0.0, max=10296.0), HTML(value='')))"
      ]
     },
     "metadata": {},
     "output_type": "display_data"
    },
    {
     "data": {
      "application/vnd.jupyter.widget-view+json": {
       "model_id": "",
       "version_major": 2,
       "version_minor": 0
      },
      "text/plain": [
       "HBox(children=(FloatProgress(value=0.0, max=10296.0), HTML(value='')))"
      ]
     },
     "metadata": {},
     "output_type": "display_data"
    },
    {
     "name": "stdout",
     "output_type": "stream",
     "text": [
      "f1 score : 0.9535306686362947 | precision : 0.9714606193191799 | recall : 0.9546137439916195\n"
     ]
    },
    {
     "data": {
      "application/vnd.jupyter.widget-view+json": {
       "model_id": "",
       "version_major": 2,
       "version_minor": 0
      },
      "text/plain": [
       "HBox(children=(FloatProgress(value=0.0, max=10296.0), HTML(value='')))"
      ]
     },
     "metadata": {},
     "output_type": "display_data"
    },
    {
     "data": {
      "application/vnd.jupyter.widget-view+json": {
       "model_id": "",
       "version_major": 2,
       "version_minor": 0
      },
      "text/plain": [
       "HBox(children=(FloatProgress(value=0.0, max=10296.0), HTML(value='')))"
      ]
     },
     "metadata": {},
     "output_type": "display_data"
    },
    {
     "name": "stdout",
     "output_type": "stream",
     "text": [
      "f1 score : 0.9525562376704738 | precision : 0.9491205861934432 | recall : 0.9759714671514266\n"
     ]
    },
    {
     "data": {
      "application/vnd.jupyter.widget-view+json": {
       "model_id": "",
       "version_major": 2,
       "version_minor": 0
      },
      "text/plain": [
       "HBox(children=(FloatProgress(value=0.0, max=10296.0), HTML(value='')))"
      ]
     },
     "metadata": {},
     "output_type": "display_data"
    },
    {
     "data": {
      "application/vnd.jupyter.widget-view+json": {
       "model_id": "",
       "version_major": 2,
       "version_minor": 0
      },
      "text/plain": [
       "HBox(children=(FloatProgress(value=0.0, max=10296.0), HTML(value='')))"
      ]
     },
     "metadata": {},
     "output_type": "display_data"
    },
    {
     "name": "stdout",
     "output_type": "stream",
     "text": [
      "f1 score : 0.9251674046018573 | precision : 0.8984145201598348 | recall : 0.9880296491816091\n"
     ]
    },
    {
     "data": {
      "application/vnd.jupyter.widget-view+json": {
       "model_id": "",
       "version_major": 2,
       "version_minor": 0
      },
      "text/plain": [
       "HBox(children=(FloatProgress(value=0.0, max=10296.0), HTML(value='')))"
      ]
     },
     "metadata": {},
     "output_type": "display_data"
    },
    {
     "data": {
      "application/vnd.jupyter.widget-view+json": {
       "model_id": "",
       "version_major": 2,
       "version_minor": 0
      },
      "text/plain": [
       "HBox(children=(FloatProgress(value=0.0, max=10296.0), HTML(value='')))"
      ]
     },
     "metadata": {},
     "output_type": "display_data"
    },
    {
     "name": "stdout",
     "output_type": "stream",
     "text": [
      "f1 score : 0.8412485536104918 | precision : 0.779403601600667 | recall : 0.9944305399575002\n"
     ]
    },
    {
     "data": {
      "application/vnd.jupyter.widget-view+json": {
       "model_id": "",
       "version_major": 2,
       "version_minor": 0
      },
      "text/plain": [
       "HBox(children=(FloatProgress(value=0.0, max=10296.0), HTML(value='')))"
      ]
     },
     "metadata": {},
     "output_type": "display_data"
    },
    {
     "data": {
      "application/vnd.jupyter.widget-view+json": {
       "model_id": "",
       "version_major": 2,
       "version_minor": 0
      },
      "text/plain": [
       "HBox(children=(FloatProgress(value=0.0, max=10296.0), HTML(value='')))"
      ]
     },
     "metadata": {},
     "output_type": "display_data"
    },
    {
     "name": "stdout",
     "output_type": "stream",
     "text": [
      "f1 score : 0.5832083876584692 | precision : 0.4662026253369048 | recall : 0.9972661008200207\n",
      "Saved best model ep 9 with f score : 0.9535306686362947\n",
      "Ep 9: Train loss 3.900527693442444 | Val f score 0.9535306686362947\n",
      "\n"
     ]
    },
    {
     "data": {
      "text/plain": [
       "([],\n",
       " ([[24.57255744934082,\n",
       "    24.56796646118164,\n",
       "    24.540767669677734,\n",
       "    24.28423309326172,\n",
       "    24.556447982788086,\n",
       "    24.274240493774414,\n",
       "    24.831405639648438,\n",
       "    24.775949478149414,\n",
       "    24.633424758911133,\n",
       "    24.360225677490234,\n",
       "    24.2344970703125,\n",
       "    24.421627044677734,\n",
       "    24.5714168548584,\n",
       "    24.737096786499023,\n",
       "    24.879196166992188,\n",
       "    24.400041580200195,\n",
       "    24.54337501525879,\n",
       "    24.735254287719727,\n",
       "    24.394906997680664,\n",
       "    24.59442710876465,\n",
       "    24.50320816040039,\n",
       "    24.51884651184082,\n",
       "    24.67342758178711,\n",
       "    24.676912307739258,\n",
       "    24.443143844604492,\n",
       "    24.526514053344727,\n",
       "    24.5673770904541,\n",
       "    24.59941291809082,\n",
       "    24.614107131958008,\n",
       "    24.20348358154297,\n",
       "    24.39006996154785,\n",
       "    24.552316665649414,\n",
       "    24.651517868041992,\n",
       "    24.339414596557617,\n",
       "    24.634601593017578,\n",
       "    24.592662811279297,\n",
       "    24.400575637817383,\n",
       "    24.446582794189453,\n",
       "    24.449268341064453,\n",
       "    24.454723358154297,\n",
       "    24.583044052124023,\n",
       "    24.60056495666504,\n",
       "    24.425079345703125,\n",
       "    24.387887954711914,\n",
       "    24.552146911621094,\n",
       "    24.341352462768555,\n",
       "    24.605445861816406,\n",
       "    24.597625732421875,\n",
       "    24.44236946105957,\n",
       "    24.554866790771484,\n",
       "    24.48999786376953,\n",
       "    24.659658432006836,\n",
       "    24.352231979370117,\n",
       "    24.442028045654297,\n",
       "    24.258447647094727,\n",
       "    24.30014419555664,\n",
       "    24.44816017150879,\n",
       "    24.76032829284668,\n",
       "    24.168838500976562,\n",
       "    24.594799041748047,\n",
       "    24.233694076538086,\n",
       "    24.50945472717285,\n",
       "    24.365468978881836,\n",
       "    24.707212448120117,\n",
       "    24.55709457397461,\n",
       "    24.532211303710938,\n",
       "    24.596202850341797,\n",
       "    24.692441940307617,\n",
       "    24.536230087280273,\n",
       "    24.376325607299805,\n",
       "    24.48359489440918,\n",
       "    24.436386108398438,\n",
       "    24.396995544433594,\n",
       "    24.294069290161133,\n",
       "    24.61210060119629,\n",
       "    24.551475524902344,\n",
       "    24.493526458740234,\n",
       "    24.471893310546875,\n",
       "    24.507217407226562,\n",
       "    24.042680740356445,\n",
       "    24.478858947753906,\n",
       "    24.737651824951172,\n",
       "    24.411836624145508,\n",
       "    24.367277145385742,\n",
       "    24.53909683227539,\n",
       "    24.389217376708984,\n",
       "    24.535659790039062,\n",
       "    24.407011032104492,\n",
       "    24.575416564941406,\n",
       "    24.358407974243164,\n",
       "    24.784223556518555,\n",
       "    24.3811092376709,\n",
       "    24.757034301757812,\n",
       "    24.46027374267578,\n",
       "    24.448564529418945,\n",
       "    24.699413299560547,\n",
       "    24.3369083404541,\n",
       "    24.4620361328125,\n",
       "    24.249462127685547,\n",
       "    24.179595947265625,\n",
       "    24.375648498535156,\n",
       "    24.485597610473633,\n",
       "    24.670377731323242,\n",
       "    24.387054443359375,\n",
       "    24.429487228393555,\n",
       "    24.41643524169922,\n",
       "    24.345909118652344,\n",
       "    24.44438362121582,\n",
       "    24.479644775390625,\n",
       "    24.343482971191406,\n",
       "    24.250940322875977,\n",
       "    24.447607040405273,\n",
       "    24.38981056213379,\n",
       "    24.55257225036621,\n",
       "    24.331188201904297,\n",
       "    24.629756927490234,\n",
       "    24.275218963623047,\n",
       "    24.35100555419922,\n",
       "    24.376934051513672,\n",
       "    24.41377830505371,\n",
       "    24.376134872436523,\n",
       "    24.322114944458008,\n",
       "    24.7152156829834,\n",
       "    24.364608764648438,\n",
       "    24.269990921020508,\n",
       "    24.584835052490234,\n",
       "    24.25727653503418,\n",
       "    24.456802368164062,\n",
       "    24.352277755737305,\n",
       "    24.576602935791016,\n",
       "    24.604787826538086,\n",
       "    24.45450782775879,\n",
       "    24.23486328125,\n",
       "    24.45217514038086,\n",
       "    24.330856323242188,\n",
       "    24.240917205810547,\n",
       "    24.484506607055664,\n",
       "    24.36254119873047,\n",
       "    24.288835525512695,\n",
       "    24.615890502929688,\n",
       "    24.434362411499023,\n",
       "    24.356067657470703,\n",
       "    24.428213119506836,\n",
       "    24.203805923461914,\n",
       "    24.480419158935547,\n",
       "    24.596561431884766,\n",
       "    24.151386260986328,\n",
       "    24.456668853759766,\n",
       "    24.266435623168945,\n",
       "    24.32671546936035,\n",
       "    24.236156463623047,\n",
       "    24.23287010192871,\n",
       "    24.491058349609375,\n",
       "    24.41910743713379,\n",
       "    24.42263412475586,\n",
       "    24.061494827270508,\n",
       "    24.239351272583008,\n",
       "    24.324161529541016,\n",
       "    24.274337768554688,\n",
       "    24.120861053466797,\n",
       "    24.278335571289062,\n",
       "    24.29358673095703,\n",
       "    24.488967895507812,\n",
       "    24.28082847595215,\n",
       "    24.32403564453125,\n",
       "    24.339017868041992,\n",
       "    24.19215965270996,\n",
       "    24.498584747314453,\n",
       "    24.4871768951416,\n",
       "    24.287813186645508,\n",
       "    24.465333938598633,\n",
       "    24.366634368896484,\n",
       "    24.484956741333008,\n",
       "    24.336610794067383,\n",
       "    24.200218200683594,\n",
       "    24.200342178344727,\n",
       "    24.089128494262695,\n",
       "    24.31075668334961,\n",
       "    24.3992977142334,\n",
       "    24.08184814453125,\n",
       "    23.743711471557617,\n",
       "    24.473873138427734,\n",
       "    24.278087615966797,\n",
       "    24.289918899536133,\n",
       "    24.30048370361328,\n",
       "    24.454151153564453,\n",
       "    24.338651657104492,\n",
       "    24.209033966064453,\n",
       "    24.378154754638672,\n",
       "    24.111806869506836,\n",
       "    24.324234008789062,\n",
       "    24.41338539123535,\n",
       "    24.415456771850586,\n",
       "    24.288042068481445,\n",
       "    24.16669273376465,\n",
       "    24.041980743408203,\n",
       "    24.12192726135254,\n",
       "    24.49644660949707,\n",
       "    24.178604125976562,\n",
       "    24.32853889465332,\n",
       "    24.308687210083008,\n",
       "    24.20732879638672,\n",
       "    24.55157470703125,\n",
       "    24.601560592651367,\n",
       "    24.55806541442871,\n",
       "    24.372711181640625,\n",
       "    24.081253051757812,\n",
       "    24.448209762573242,\n",
       "    24.28895378112793,\n",
       "    24.075389862060547,\n",
       "    24.376258850097656,\n",
       "    24.053346633911133,\n",
       "    24.076066970825195,\n",
       "    24.2590389251709,\n",
       "    23.896650314331055,\n",
       "    24.069808959960938,\n",
       "    24.04572296142578,\n",
       "    24.402063369750977,\n",
       "    24.158958435058594,\n",
       "    24.514419555664062,\n",
       "    24.426332473754883,\n",
       "    24.362335205078125,\n",
       "    24.05405044555664,\n",
       "    24.487342834472656,\n",
       "    24.05259895324707,\n",
       "    24.242420196533203,\n",
       "    24.274215698242188,\n",
       "    24.228710174560547,\n",
       "    24.127151489257812,\n",
       "    24.38186264038086,\n",
       "    24.414552688598633,\n",
       "    24.31040382385254,\n",
       "    24.012693405151367,\n",
       "    24.224159240722656,\n",
       "    24.091026306152344,\n",
       "    24.420881271362305,\n",
       "    24.293058395385742,\n",
       "    24.177745819091797,\n",
       "    24.43370819091797,\n",
       "    23.932540893554688,\n",
       "    24.361652374267578,\n",
       "    24.44524574279785,\n",
       "    24.353912353515625,\n",
       "    24.209564208984375,\n",
       "    24.135974884033203,\n",
       "    24.34880256652832,\n",
       "    24.481576919555664,\n",
       "    24.302751541137695,\n",
       "    24.439373016357422,\n",
       "    24.21415138244629,\n",
       "    24.3819580078125,\n",
       "    24.100744247436523,\n",
       "    24.288219451904297,\n",
       "    24.242406845092773,\n",
       "    24.092144012451172,\n",
       "    24.49881935119629,\n",
       "    24.20602035522461,\n",
       "    24.336681365966797,\n",
       "    24.340835571289062,\n",
       "    24.351646423339844,\n",
       "    24.328046798706055,\n",
       "    23.93427085876465,\n",
       "    24.19785499572754,\n",
       "    24.340682983398438,\n",
       "    24.264577865600586,\n",
       "    24.2345027923584,\n",
       "    24.19927978515625,\n",
       "    24.358997344970703,\n",
       "    24.12967872619629,\n",
       "    24.595518112182617,\n",
       "    24.4035701751709,\n",
       "    24.285974502563477,\n",
       "    24.12757682800293,\n",
       "    24.43180274963379,\n",
       "    24.24703025817871,\n",
       "    24.397747039794922,\n",
       "    24.30064582824707,\n",
       "    24.308589935302734,\n",
       "    24.24887466430664,\n",
       "    24.173933029174805,\n",
       "    24.263652801513672,\n",
       "    24.31883430480957,\n",
       "    23.690845489501953,\n",
       "    24.165090560913086,\n",
       "    24.068706512451172,\n",
       "    24.141950607299805,\n",
       "    24.225378036499023,\n",
       "    24.249711990356445,\n",
       "    24.131242752075195,\n",
       "    24.10334587097168,\n",
       "    24.37702751159668,\n",
       "    24.241943359375,\n",
       "    24.069652557373047,\n",
       "    24.3399715423584,\n",
       "    24.026161193847656,\n",
       "    24.021862030029297,\n",
       "    24.12472915649414,\n",
       "    24.063190460205078,\n",
       "    24.190689086914062,\n",
       "    24.30426788330078,\n",
       "    24.228853225708008,\n",
       "    24.16865348815918,\n",
       "    24.337602615356445,\n",
       "    24.01581573486328,\n",
       "    24.496225357055664,\n",
       "    24.158676147460938,\n",
       "    24.261287689208984,\n",
       "    23.97914695739746,\n",
       "    24.325532913208008,\n",
       "    24.157135009765625,\n",
       "    24.2896785736084,\n",
       "    24.542964935302734,\n",
       "    24.33428192138672,\n",
       "    24.161277770996094,\n",
       "    24.307416915893555,\n",
       "    24.187673568725586,\n",
       "    24.388893127441406,\n",
       "    23.888465881347656,\n",
       "    24.09490394592285,\n",
       "    23.998260498046875,\n",
       "    24.174400329589844,\n",
       "    24.286619186401367,\n",
       "    24.283552169799805,\n",
       "    24.14562225341797,\n",
       "    24.118051528930664,\n",
       "    24.50090789794922,\n",
       "    23.95184326171875,\n",
       "    23.980146408081055,\n",
       "    24.14813232421875,\n",
       "    24.217679977416992,\n",
       "    24.215415954589844,\n",
       "    24.255632400512695,\n",
       "    24.3668212890625,\n",
       "    23.90913963317871,\n",
       "    24.290639877319336,\n",
       "    24.173803329467773,\n",
       "    23.902734756469727,\n",
       "    23.821849822998047,\n",
       "    23.94976806640625,\n",
       "    24.107845306396484,\n",
       "    24.263866424560547,\n",
       "    24.219532012939453,\n",
       "    24.066532135009766,\n",
       "    23.87212371826172,\n",
       "    24.46141815185547,\n",
       "    24.19011878967285,\n",
       "    23.95247459411621,\n",
       "    24.21888542175293,\n",
       "    23.970172882080078,\n",
       "    23.84734535217285,\n",
       "    23.93056869506836,\n",
       "    23.99237060546875,\n",
       "    24.297502517700195,\n",
       "    24.14236831665039,\n",
       "    24.141197204589844,\n",
       "    24.476770401000977,\n",
       "    24.256633758544922,\n",
       "    24.090299606323242,\n",
       "    24.106815338134766,\n",
       "    24.15547752380371,\n",
       "    24.320079803466797,\n",
       "    24.139341354370117,\n",
       "    23.781208038330078,\n",
       "    24.23053550720215,\n",
       "    24.265581130981445,\n",
       "    24.15648651123047,\n",
       "    24.11248779296875,\n",
       "    24.322656631469727,\n",
       "    23.892711639404297,\n",
       "    24.06808090209961,\n",
       "    24.092458724975586,\n",
       "    24.3863582611084,\n",
       "    23.927499771118164,\n",
       "    24.110477447509766,\n",
       "    23.82737159729004,\n",
       "    23.916664123535156,\n",
       "    24.114442825317383,\n",
       "    24.197505950927734,\n",
       "    24.34779167175293,\n",
       "    23.947343826293945,\n",
       "    23.675289154052734,\n",
       "    24.26319694519043,\n",
       "    24.088308334350586,\n",
       "    24.000520706176758,\n",
       "    23.837860107421875,\n",
       "    24.558034896850586,\n",
       "    24.382997512817383,\n",
       "    24.096677780151367,\n",
       "    24.342281341552734,\n",
       "    23.841005325317383,\n",
       "    24.22703742980957,\n",
       "    24.014162063598633,\n",
       "    23.901676177978516,\n",
       "    23.868614196777344,\n",
       "    23.94343376159668,\n",
       "    23.875965118408203,\n",
       "    24.042692184448242,\n",
       "    23.906557083129883,\n",
       "    24.11210060119629,\n",
       "    24.199888229370117,\n",
       "    24.00046730041504,\n",
       "    24.279077529907227,\n",
       "    24.189559936523438,\n",
       "    24.473163604736328,\n",
       "    24.02071189880371,\n",
       "    24.182485580444336,\n",
       "    23.834793090820312,\n",
       "    23.81296157836914,\n",
       "    23.958772659301758,\n",
       "    23.966564178466797,\n",
       "    24.222673416137695,\n",
       "    24.188230514526367,\n",
       "    24.04456329345703,\n",
       "    23.9124755859375,\n",
       "    23.84012794494629,\n",
       "    23.7897891998291,\n",
       "    24.07651138305664,\n",
       "    24.034385681152344,\n",
       "    24.06157112121582,\n",
       "    24.207740783691406,\n",
       "    23.605159759521484,\n",
       "    24.12931251525879,\n",
       "    23.8505916595459,\n",
       "    23.966434478759766,\n",
       "    23.90974998474121,\n",
       "    24.0821533203125,\n",
       "    23.88599395751953,\n",
       "    24.021263122558594,\n",
       "    23.860401153564453,\n",
       "    24.072582244873047,\n",
       "    24.055896759033203,\n",
       "    24.125934600830078,\n",
       "    23.834705352783203,\n",
       "    23.843963623046875,\n",
       "    24.048370361328125,\n",
       "    24.008195877075195,\n",
       "    23.557693481445312,\n",
       "    23.69858169555664,\n",
       "    24.160444259643555,\n",
       "    23.86480712890625,\n",
       "    24.049888610839844,\n",
       "    24.1695556640625,\n",
       "    23.562580108642578,\n",
       "    24.072906494140625,\n",
       "    23.93204689025879,\n",
       "    23.625703811645508,\n",
       "    23.797313690185547,\n",
       "    24.108726501464844,\n",
       "    24.276107788085938,\n",
       "    23.92549705505371,\n",
       "    23.940933227539062,\n",
       "    23.956266403198242,\n",
       "    24.254770278930664,\n",
       "    23.594932556152344,\n",
       "    23.73797035217285,\n",
       "    24.156997680664062,\n",
       "    24.084383010864258,\n",
       "    24.14283561706543,\n",
       "    24.121400833129883,\n",
       "    23.844358444213867,\n",
       "    23.751893997192383,\n",
       "    23.748205184936523,\n",
       "    24.284353256225586,\n",
       "    24.0564022064209,\n",
       "    23.890382766723633,\n",
       "    23.961496353149414,\n",
       "    24.313312530517578,\n",
       "    23.373104095458984,\n",
       "    23.65850830078125,\n",
       "    24.106006622314453,\n",
       "    24.129533767700195,\n",
       "    23.94685935974121,\n",
       "    24.07149887084961,\n",
       "    24.124099731445312,\n",
       "    23.96597671508789,\n",
       "    23.75444793701172,\n",
       "    24.17129898071289,\n",
       "    24.015073776245117,\n",
       "    24.116806030273438,\n",
       "    23.961681365966797,\n",
       "    23.896242141723633,\n",
       "    23.984508514404297,\n",
       "    24.131179809570312,\n",
       "    23.981840133666992,\n",
       "    23.6182804107666,\n",
       "    23.856843948364258,\n",
       "    23.655038833618164,\n",
       "    23.93801498413086,\n",
       "    24.00193214416504,\n",
       "    23.8343505859375,\n",
       "    23.932100296020508,\n",
       "    23.935972213745117,\n",
       "    23.849040985107422,\n",
       "    23.875566482543945,\n",
       "    24.093488693237305,\n",
       "    23.672189712524414,\n",
       "    24.185884475708008,\n",
       "    24.11186408996582,\n",
       "    23.840801239013672,\n",
       "    24.021358489990234,\n",
       "    23.90983772277832,\n",
       "    23.828506469726562,\n",
       "    23.87067413330078,\n",
       "    23.902359008789062,\n",
       "    23.947105407714844,\n",
       "    23.74807357788086,\n",
       "    23.666730880737305,\n",
       "    24.24787712097168,\n",
       "    24.096052169799805,\n",
       "    23.77549934387207,\n",
       "    23.864788055419922,\n",
       "    23.833385467529297,\n",
       "    23.63532066345215,\n",
       "    23.839492797851562,\n",
       "    23.871145248413086,\n",
       "    24.061195373535156,\n",
       "    23.97412109375,\n",
       "    23.749303817749023,\n",
       "    24.080839157104492,\n",
       "    23.914751052856445,\n",
       "    23.775146484375,\n",
       "    23.866764068603516,\n",
       "    23.943246841430664,\n",
       "    24.191253662109375,\n",
       "    23.985990524291992,\n",
       "    23.664430618286133,\n",
       "    24.213939666748047,\n",
       "    23.815631866455078,\n",
       "    23.80927848815918,\n",
       "    23.760522842407227,\n",
       "    23.636350631713867,\n",
       "    23.836257934570312,\n",
       "    23.690908432006836,\n",
       "    23.811214447021484,\n",
       "    23.91804313659668,\n",
       "    23.231037139892578],\n",
       "   [23.52082633972168,\n",
       "    22.9804744720459,\n",
       "    23.088605880737305,\n",
       "    23.118881225585938,\n",
       "    23.02277946472168,\n",
       "    23.278430938720703,\n",
       "    23.39295196533203,\n",
       "    23.2288818359375,\n",
       "    23.14935302734375,\n",
       "    23.105785369873047,\n",
       "    23.643938064575195,\n",
       "    23.339618682861328,\n",
       "    23.412439346313477,\n",
       "    23.255449295043945,\n",
       "    23.051462173461914,\n",
       "    23.206134796142578,\n",
       "    23.03609848022461,\n",
       "    23.247404098510742,\n",
       "    23.241281509399414,\n",
       "    23.32883644104004,\n",
       "    22.822978973388672,\n",
       "    23.142576217651367,\n",
       "    23.295265197753906,\n",
       "    23.080793380737305,\n",
       "    22.99382209777832,\n",
       "    23.16524887084961,\n",
       "    23.19879722595215,\n",
       "    23.483020782470703,\n",
       "    22.89708137512207,\n",
       "    23.323944091796875,\n",
       "    23.35326385498047,\n",
       "    23.069202423095703,\n",
       "    22.957382202148438,\n",
       "    23.059295654296875,\n",
       "    22.93321418762207,\n",
       "    23.086849212646484,\n",
       "    23.047191619873047,\n",
       "    23.37612533569336,\n",
       "    23.523681640625,\n",
       "    23.314308166503906,\n",
       "    23.095653533935547,\n",
       "    23.18169403076172,\n",
       "    23.374500274658203,\n",
       "    23.45548439025879,\n",
       "    23.395959854125977,\n",
       "    23.375045776367188,\n",
       "    22.901107788085938,\n",
       "    23.149616241455078,\n",
       "    23.10706901550293,\n",
       "    22.772594451904297,\n",
       "    23.230703353881836,\n",
       "    23.065797805786133,\n",
       "    23.09534454345703,\n",
       "    23.299724578857422,\n",
       "    23.068233489990234,\n",
       "    22.99549102783203,\n",
       "    23.09707260131836,\n",
       "    23.419132232666016,\n",
       "    23.640676498413086,\n",
       "    23.594432830810547,\n",
       "    23.044952392578125,\n",
       "    23.254501342773438,\n",
       "    23.216917037963867,\n",
       "    23.132400512695312,\n",
       "    23.281517028808594,\n",
       "    23.26323699951172,\n",
       "    23.108440399169922,\n",
       "    23.119548797607422,\n",
       "    23.32289695739746,\n",
       "    23.083099365234375,\n",
       "    23.14925765991211,\n",
       "    22.792743682861328,\n",
       "    23.19925880432129,\n",
       "    23.326717376708984,\n",
       "    23.35811424255371,\n",
       "    23.17900848388672,\n",
       "    23.14764404296875,\n",
       "    22.89113426208496,\n",
       "    23.22989273071289,\n",
       "    23.12152862548828,\n",
       "    22.927499771118164,\n",
       "    23.080684661865234,\n",
       "    22.92821502685547,\n",
       "    23.348215103149414,\n",
       "    22.94329261779785,\n",
       "    23.14601707458496,\n",
       "    23.295774459838867,\n",
       "    23.099773406982422,\n",
       "    23.364486694335938,\n",
       "    22.815176010131836,\n",
       "    23.263999938964844,\n",
       "    23.29829216003418,\n",
       "    23.290515899658203,\n",
       "    23.26983070373535,\n",
       "    22.83995246887207,\n",
       "    22.773855209350586,\n",
       "    23.18965721130371,\n",
       "    23.294925689697266,\n",
       "    22.784873962402344,\n",
       "    23.042200088500977,\n",
       "    23.09149169921875,\n",
       "    22.899734497070312,\n",
       "    23.178607940673828,\n",
       "    23.42780113220215,\n",
       "    23.22486686706543,\n",
       "    23.049070358276367,\n",
       "    22.608556747436523,\n",
       "    22.808618545532227,\n",
       "    23.23113441467285,\n",
       "    23.008785247802734,\n",
       "    23.044340133666992,\n",
       "    22.846925735473633,\n",
       "    23.165376663208008,\n",
       "    22.802196502685547,\n",
       "    23.13039779663086,\n",
       "    23.24284553527832,\n",
       "    23.109384536743164,\n",
       "    23.11631965637207,\n",
       "    22.685964584350586,\n",
       "    23.06096649169922,\n",
       "    23.084945678710938,\n",
       "    23.284887313842773,\n",
       "    23.048099517822266,\n",
       "    23.150489807128906,\n",
       "    23.201915740966797,\n",
       "    23.211681365966797,\n",
       "    23.301984786987305,\n",
       "    23.158315658569336,\n",
       "    23.103864669799805,\n",
       "    22.841556549072266,\n",
       "    23.216691970825195,\n",
       "    22.891014099121094,\n",
       "    23.04958152770996,\n",
       "    23.078977584838867,\n",
       "    23.325584411621094,\n",
       "    23.235986709594727,\n",
       "    23.17369842529297,\n",
       "    23.20594024658203,\n",
       "    22.365243911743164,\n",
       "    23.10068130493164,\n",
       "    23.050235748291016,\n",
       "    23.039920806884766,\n",
       "    23.35821533203125,\n",
       "    23.25349235534668,\n",
       "    23.04405403137207,\n",
       "    22.9685115814209,\n",
       "    23.446460723876953,\n",
       "    22.691064834594727,\n",
       "    23.043392181396484,\n",
       "    22.964527130126953,\n",
       "    22.992544174194336,\n",
       "    22.87301254272461,\n",
       "    22.867650985717773,\n",
       "    22.90178871154785,\n",
       "    22.739408493041992,\n",
       "    22.63185691833496,\n",
       "    22.698244094848633,\n",
       "    23.02994728088379,\n",
       "    22.62205696105957,\n",
       "    22.817829132080078,\n",
       "    22.745162963867188,\n",
       "    22.89210319519043,\n",
       "    23.533815383911133,\n",
       "    22.687284469604492,\n",
       "    23.086429595947266,\n",
       "    23.026569366455078,\n",
       "    22.408275604248047,\n",
       "    22.650291442871094,\n",
       "    22.92789077758789,\n",
       "    22.964981079101562,\n",
       "    23.1848087310791,\n",
       "    23.049222946166992,\n",
       "    23.071147918701172,\n",
       "    22.528980255126953,\n",
       "    22.978473663330078,\n",
       "    22.87984848022461,\n",
       "    22.49471664428711,\n",
       "    23.131898880004883,\n",
       "    22.8989315032959,\n",
       "    22.92119598388672,\n",
       "    22.631437301635742,\n",
       "    23.01494598388672,\n",
       "    22.62438201904297,\n",
       "    23.431289672851562,\n",
       "    22.806543350219727,\n",
       "    22.795734405517578,\n",
       "    22.71738624572754,\n",
       "    22.172889709472656,\n",
       "    22.957515716552734,\n",
       "    22.975191116333008,\n",
       "    22.872671127319336,\n",
       "    22.53472137451172,\n",
       "    22.54397964477539,\n",
       "    22.817848205566406,\n",
       "    22.588336944580078,\n",
       "    23.15785789489746,\n",
       "    22.654571533203125,\n",
       "    21.982227325439453,\n",
       "    22.749311447143555,\n",
       "    22.759174346923828,\n",
       "    23.053186416625977,\n",
       "    22.829118728637695,\n",
       "    22.739477157592773,\n",
       "    22.96126937866211,\n",
       "    23.01353645324707,\n",
       "    22.493131637573242,\n",
       "    23.059255599975586,\n",
       "    23.14972496032715,\n",
       "    22.696842193603516,\n",
       "    22.69370460510254,\n",
       "    22.352237701416016,\n",
       "    23.06340789794922,\n",
       "    22.714574813842773,\n",
       "    22.63955307006836,\n",
       "    22.98080825805664,\n",
       "    22.744462966918945,\n",
       "    23.049100875854492,\n",
       "    22.76082992553711,\n",
       "    22.733909606933594,\n",
       "    22.852367401123047,\n",
       "    22.9486083984375,\n",
       "    22.754573822021484,\n",
       "    23.015316009521484,\n",
       "    23.036420822143555,\n",
       "    22.64358901977539,\n",
       "    22.972515106201172,\n",
       "    22.805627822875977,\n",
       "    22.97138214111328,\n",
       "    23.29443359375,\n",
       "    22.954326629638672,\n",
       "    22.442974090576172,\n",
       "    22.457956314086914,\n",
       "    22.958730697631836,\n",
       "    22.422903060913086,\n",
       "    22.605426788330078,\n",
       "    22.891082763671875,\n",
       "    22.5316219329834,\n",
       "    21.918245315551758,\n",
       "    21.908044815063477,\n",
       "    23.024362564086914,\n",
       "    21.920202255249023,\n",
       "    22.337890625,\n",
       "    22.912052154541016,\n",
       "    22.67013168334961,\n",
       "    22.607297897338867,\n",
       "    22.350114822387695,\n",
       "    22.26671600341797,\n",
       "    22.796340942382812,\n",
       "    22.840438842773438,\n",
       "    22.589778900146484,\n",
       "    22.667978286743164,\n",
       "    23.103288650512695,\n",
       "    22.374330520629883,\n",
       "    22.38507080078125,\n",
       "    22.643625259399414,\n",
       "    22.247804641723633,\n",
       "    22.04939842224121,\n",
       "    22.756595611572266,\n",
       "    21.86130714416504,\n",
       "    22.451934814453125,\n",
       "    22.374162673950195,\n",
       "    22.790090560913086,\n",
       "    22.19693946838379,\n",
       "    22.795093536376953,\n",
       "    22.986539840698242,\n",
       "    22.735706329345703,\n",
       "    22.412933349609375,\n",
       "    22.78322410583496,\n",
       "    22.25606346130371,\n",
       "    22.069656372070312,\n",
       "    22.559072494506836,\n",
       "    22.426044464111328,\n",
       "    22.412263870239258,\n",
       "    22.56622314453125,\n",
       "    23.119157791137695,\n",
       "    22.605703353881836,\n",
       "    22.88201141357422,\n",
       "    22.38020133972168,\n",
       "    22.096940994262695,\n",
       "    22.5156307220459,\n",
       "    23.150245666503906,\n",
       "    22.661218643188477,\n",
       "    22.601261138916016,\n",
       "    22.363595962524414,\n",
       "    22.29486083984375,\n",
       "    23.079505920410156,\n",
       "    21.858779907226562,\n",
       "    22.611948013305664,\n",
       "    21.905933380126953,\n",
       "    22.6748104095459,\n",
       "    22.231182098388672,\n",
       "    22.45687484741211,\n",
       "    22.50319480895996,\n",
       "    22.491535186767578,\n",
       "    22.381258010864258,\n",
       "    22.22646141052246,\n",
       "    22.081192016601562,\n",
       "    21.864439010620117,\n",
       "    21.566404342651367,\n",
       "    21.81171417236328,\n",
       "    23.23849868774414,\n",
       "    22.47863006591797,\n",
       "    22.354215621948242,\n",
       "    21.940046310424805,\n",
       "    22.133554458618164,\n",
       "    23.091346740722656,\n",
       "    22.640932083129883,\n",
       "    22.367706298828125,\n",
       "    22.306594848632812,\n",
       "    22.1615047454834,\n",
       "    22.355701446533203,\n",
       "    21.893335342407227,\n",
       "    22.921062469482422,\n",
       "    21.88140869140625,\n",
       "    22.491657257080078,\n",
       "    21.668006896972656,\n",
       "    22.708784103393555,\n",
       "    22.247224807739258,\n",
       "    21.894407272338867,\n",
       "    22.502832412719727,\n",
       "    22.06517791748047,\n",
       "    22.470441818237305,\n",
       "    22.21891975402832,\n",
       "    22.320016860961914,\n",
       "    22.53058624267578,\n",
       "    22.04390525817871,\n",
       "    21.75007438659668,\n",
       "    22.309019088745117,\n",
       "    22.164695739746094,\n",
       "    22.00502586364746,\n",
       "    22.03081703186035,\n",
       "    22.133432388305664,\n",
       "    21.40036964416504,\n",
       "    22.643516540527344,\n",
       "    21.34617805480957,\n",
       "    22.762020111083984,\n",
       "    21.974037170410156,\n",
       "    22.32870101928711,\n",
       "    22.908084869384766,\n",
       "    22.200681686401367,\n",
       "    22.2907772064209,\n",
       "    21.524919509887695,\n",
       "    22.577192306518555,\n",
       "    22.474130630493164,\n",
       "    21.09523582458496,\n",
       "    21.457313537597656,\n",
       "    22.039106369018555,\n",
       "    21.71613311767578,\n",
       "    22.458810806274414,\n",
       "    21.289228439331055,\n",
       "    22.281696319580078,\n",
       "    23.036165237426758,\n",
       "    21.765914916992188,\n",
       "    21.74417495727539,\n",
       "    21.905065536499023,\n",
       "    21.921186447143555,\n",
       "    22.234825134277344,\n",
       "    22.26230239868164,\n",
       "    21.80633544921875,\n",
       "    22.241230010986328,\n",
       "    22.750307083129883,\n",
       "    21.13582420349121,\n",
       "    21.432186126708984,\n",
       "    21.994741439819336,\n",
       "    21.973051071166992,\n",
       "    21.53696060180664,\n",
       "    22.259729385375977,\n",
       "    22.166719436645508,\n",
       "    22.14469337463379,\n",
       "    22.68023109436035,\n",
       "    22.29712677001953,\n",
       "    22.091020584106445,\n",
       "    21.86544418334961,\n",
       "    22.699234008789062,\n",
       "    22.017406463623047,\n",
       "    21.726327896118164,\n",
       "    21.919279098510742,\n",
       "    22.156949996948242,\n",
       "    21.545331954956055,\n",
       "    21.798032760620117,\n",
       "    22.45941925048828,\n",
       "    21.716976165771484,\n",
       "    22.51632308959961,\n",
       "    22.206539154052734,\n",
       "    20.8896541595459,\n",
       "    22.5271053314209,\n",
       "    22.046409606933594,\n",
       "    22.27182960510254,\n",
       "    21.267135620117188,\n",
       "    21.88562774658203,\n",
       "    22.0372314453125,\n",
       "    22.467824935913086,\n",
       "    22.01102638244629,\n",
       "    22.220821380615234,\n",
       "    21.97836685180664,\n",
       "    22.55117416381836,\n",
       "    22.135719299316406,\n",
       "    22.0306396484375,\n",
       "    21.889623641967773,\n",
       "    21.76124382019043,\n",
       "    22.190811157226562,\n",
       "    21.45540428161621,\n",
       "    20.839216232299805,\n",
       "    22.29578399658203,\n",
       "    21.840328216552734,\n",
       "    21.790550231933594,\n",
       "    22.24373435974121,\n",
       "    21.970172882080078,\n",
       "    21.367319107055664,\n",
       "    22.32651710510254,\n",
       "    22.19655418395996,\n",
       "    22.331022262573242,\n",
       "    22.30707550048828,\n",
       "    21.280729293823242,\n",
       "    22.147544860839844,\n",
       "    21.067611694335938,\n",
       "    20.995080947875977,\n",
       "    22.209035873413086,\n",
       "    21.362329483032227,\n",
       "    21.907855987548828,\n",
       "    21.41393280029297,\n",
       "    21.110109329223633,\n",
       "    21.904632568359375,\n",
       "    21.395233154296875,\n",
       "    22.154495239257812,\n",
       "    21.930429458618164,\n",
       "    21.427045822143555,\n",
       "    21.928054809570312,\n",
       "    22.133668899536133,\n",
       "    22.13038444519043,\n",
       "    20.300203323364258,\n",
       "    20.68522071838379,\n",
       "    21.673240661621094,\n",
       "    21.67808723449707,\n",
       "    22.0734920501709,\n",
       "    21.398866653442383,\n",
       "    21.021574020385742,\n",
       "    21.778579711914062,\n",
       "    22.35926628112793,\n",
       "    21.638315200805664,\n",
       "    20.545013427734375,\n",
       "    21.9676456451416,\n",
       "    21.70870018005371,\n",
       "    21.43364715576172,\n",
       "    21.720136642456055,\n",
       "    21.674606323242188,\n",
       "    21.46665382385254,\n",
       "    22.245635986328125,\n",
       "    22.31548309326172,\n",
       "    22.36646270751953,\n",
       "    21.899600982666016,\n",
       "    22.210214614868164,\n",
       "    22.192644119262695,\n",
       "    22.56342315673828,\n",
       "    21.79438018798828,\n",
       "    20.45237922668457,\n",
       "    21.1690673828125,\n",
       "    21.086355209350586,\n",
       "    21.37990379333496,\n",
       "    21.690635681152344,\n",
       "    21.825185775756836,\n",
       "    22.025630950927734,\n",
       "    21.89181900024414,\n",
       "    21.17271614074707,\n",
       "    21.36443519592285,\n",
       "    22.073198318481445,\n",
       "    21.87818145751953,\n",
       "    21.840028762817383,\n",
       "    21.644149780273438,\n",
       "    21.048730850219727,\n",
       "    21.37218475341797,\n",
       "    21.24806022644043,\n",
       "    21.263242721557617,\n",
       "    21.484638214111328,\n",
       "    22.429227828979492,\n",
       "    21.91484832763672,\n",
       "    19.997251510620117,\n",
       "    21.74350929260254,\n",
       "    21.26676368713379,\n",
       "    21.7313175201416,\n",
       "    21.099102020263672,\n",
       "    21.48284912109375,\n",
       "    20.759469985961914,\n",
       "    20.975976943969727,\n",
       "    21.28788948059082,\n",
       "    22.12782859802246,\n",
       "    21.54976463317871,\n",
       "    21.95943260192871,\n",
       "    21.174570083618164,\n",
       "    22.025470733642578,\n",
       "    21.071430206298828,\n",
       "    21.867944717407227,\n",
       "    21.206398010253906,\n",
       "    21.15756607055664,\n",
       "    20.81051254272461,\n",
       "    20.69692611694336,\n",
       "    20.666545867919922,\n",
       "    21.38551139831543,\n",
       "    20.314409255981445,\n",
       "    21.794849395751953,\n",
       "    20.2930850982666,\n",
       "    21.50458526611328,\n",
       "    21.19672203063965,\n",
       "    21.244855880737305,\n",
       "    21.343414306640625,\n",
       "    21.740690231323242,\n",
       "    20.929950714111328,\n",
       "    21.614456176757812,\n",
       "    21.22730827331543,\n",
       "    21.680728912353516,\n",
       "    21.185712814331055,\n",
       "    21.095172882080078,\n",
       "    20.78165054321289,\n",
       "    22.633670806884766,\n",
       "    21.265079498291016,\n",
       "    21.153785705566406,\n",
       "    19.797006607055664,\n",
       "    21.504379272460938,\n",
       "    21.321271896362305,\n",
       "    20.155221939086914,\n",
       "    20.673439025878906,\n",
       "    21.274118423461914,\n",
       "    21.268762588500977,\n",
       "    20.49564552307129,\n",
       "    22.411449432373047,\n",
       "    21.257102966308594,\n",
       "    20.981098175048828,\n",
       "    20.92203140258789,\n",
       "    21.809297561645508,\n",
       "    22.291017532348633,\n",
       "    21.916601181030273,\n",
       "    20.859163284301758,\n",
       "    21.66323471069336,\n",
       "    22.260093688964844,\n",
       "    21.2728271484375,\n",
       "    22.919851303100586],\n",
       "   [20.875150680541992,\n",
       "    20.17705726623535,\n",
       "    21.323360443115234,\n",
       "    20.51897430419922,\n",
       "    18.810256958007812,\n",
       "    19.562162399291992,\n",
       "    20.583160400390625,\n",
       "    20.041200637817383,\n",
       "    19.20676040649414,\n",
       "    19.759416580200195,\n",
       "    20.171873092651367,\n",
       "    19.628019332885742,\n",
       "    19.101970672607422,\n",
       "    20.494426727294922,\n",
       "    20.344873428344727,\n",
       "    19.441131591796875,\n",
       "    19.94662857055664,\n",
       "    20.037145614624023,\n",
       "    19.58650779724121,\n",
       "    19.83344268798828,\n",
       "    20.240753173828125,\n",
       "    21.029756546020508,\n",
       "    19.620756149291992,\n",
       "    19.716487884521484,\n",
       "    19.653461456298828,\n",
       "    17.98476791381836,\n",
       "    19.98868179321289,\n",
       "    18.2930908203125,\n",
       "    19.228450775146484,\n",
       "    19.878662109375,\n",
       "    18.89742088317871,\n",
       "    19.88751792907715,\n",
       "    18.365020751953125,\n",
       "    20.109949111938477,\n",
       "    18.831377029418945,\n",
       "    20.31294059753418,\n",
       "    19.444547653198242,\n",
       "    19.51026153564453,\n",
       "    19.533905029296875,\n",
       "    19.74859046936035,\n",
       "    19.96937370300293,\n",
       "    19.42249870300293,\n",
       "    19.64788246154785,\n",
       "    19.845544815063477,\n",
       "    18.776138305664062,\n",
       "    20.231355667114258,\n",
       "    18.930479049682617,\n",
       "    19.118986129760742,\n",
       "    19.682313919067383,\n",
       "    19.372779846191406,\n",
       "    19.140871047973633,\n",
       "    18.503948211669922,\n",
       "    19.34578514099121,\n",
       "    19.594297409057617,\n",
       "    18.950397491455078,\n",
       "    19.36608123779297,\n",
       "    18.92456817626953,\n",
       "    20.31075668334961,\n",
       "    19.25261116027832,\n",
       "    18.73049545288086,\n",
       "    19.286951065063477,\n",
       "    19.15407943725586,\n",
       "    18.899681091308594,\n",
       "    19.611064910888672,\n",
       "    20.445676803588867,\n",
       "    20.12359046936035,\n",
       "    19.277538299560547,\n",
       "    19.04435920715332,\n",
       "    19.06270408630371,\n",
       "    18.701047897338867,\n",
       "    18.640539169311523,\n",
       "    19.64664077758789,\n",
       "    19.356386184692383,\n",
       "    19.2396297454834,\n",
       "    19.04884910583496,\n",
       "    20.645244598388672,\n",
       "    19.506317138671875,\n",
       "    19.97882843017578,\n",
       "    19.785663604736328,\n",
       "    18.939430236816406,\n",
       "    19.698307037353516,\n",
       "    19.546123504638672,\n",
       "    18.474231719970703,\n",
       "    20.429723739624023,\n",
       "    19.941221237182617,\n",
       "    19.685949325561523,\n",
       "    19.427820205688477,\n",
       "    19.271881103515625,\n",
       "    18.747880935668945,\n",
       "    19.094785690307617,\n",
       "    19.413087844848633,\n",
       "    19.149438858032227,\n",
       "    20.143281936645508,\n",
       "    19.268470764160156,\n",
       "    19.772140502929688,\n",
       "    19.406478881835938,\n",
       "    19.83095359802246,\n",
       "    18.669775009155273,\n",
       "    19.483919143676758,\n",
       "    20.087247848510742,\n",
       "    18.333932876586914,\n",
       "    19.901609420776367,\n",
       "    19.98124885559082,\n",
       "    18.351560592651367,\n",
       "    19.31165313720703,\n",
       "    19.900606155395508,\n",
       "    20.289676666259766,\n",
       "    18.940217971801758,\n",
       "    19.275238037109375,\n",
       "    19.02553367614746,\n",
       "    19.601852416992188,\n",
       "    20.037643432617188,\n",
       "    19.224872589111328,\n",
       "    19.790607452392578,\n",
       "    18.451248168945312,\n",
       "    18.807174682617188,\n",
       "    20.118864059448242,\n",
       "    19.443994522094727,\n",
       "    19.661623001098633,\n",
       "    17.4454288482666,\n",
       "    19.6636962890625,\n",
       "    19.318498611450195,\n",
       "    19.172744750976562,\n",
       "    19.529863357543945,\n",
       "    18.93362045288086,\n",
       "    20.165071487426758,\n",
       "    19.11797523498535,\n",
       "    20.006282806396484,\n",
       "    19.465221405029297,\n",
       "    19.256412506103516,\n",
       "    18.18791389465332,\n",
       "    19.676620483398438,\n",
       "    19.98860740661621,\n",
       "    19.691194534301758,\n",
       "    19.58420753479004,\n",
       "    18.659912109375,\n",
       "    19.61433982849121,\n",
       "    18.599027633666992,\n",
       "    19.359050750732422,\n",
       "    18.239126205444336,\n",
       "    20.233173370361328,\n",
       "    18.55472183227539,\n",
       "    18.821609497070312,\n",
       "    19.120071411132812,\n",
       "    18.52578353881836,\n",
       "    18.548128128051758,\n",
       "    19.91630744934082,\n",
       "    19.076627731323242,\n",
       "    19.729677200317383,\n",
       "    18.810691833496094,\n",
       "    19.46377944946289,\n",
       "    19.059022903442383,\n",
       "    20.02837562561035,\n",
       "    19.031641006469727,\n",
       "    19.268524169921875,\n",
       "    18.898664474487305,\n",
       "    19.10734748840332,\n",
       "    19.44309425354004,\n",
       "    18.511653900146484,\n",
       "    19.611600875854492,\n",
       "    19.497417449951172,\n",
       "    17.81842613220215,\n",
       "    19.045434951782227,\n",
       "    19.217041015625,\n",
       "    18.980052947998047,\n",
       "    18.67479133605957,\n",
       "    19.611515045166016,\n",
       "    18.942157745361328,\n",
       "    18.005796432495117,\n",
       "    18.947254180908203,\n",
       "    19.258708953857422,\n",
       "    19.485870361328125,\n",
       "    19.30453872680664,\n",
       "    19.4461669921875,\n",
       "    19.119035720825195,\n",
       "    18.39486312866211,\n",
       "    17.993797302246094,\n",
       "    18.76389503479004,\n",
       "    18.355205535888672,\n",
       "    19.200334548950195,\n",
       "    19.55712890625,\n",
       "    19.350948333740234,\n",
       "    19.15513038635254,\n",
       "    19.28573226928711,\n",
       "    18.320547103881836,\n",
       "    18.997743606567383,\n",
       "    18.843381881713867,\n",
       "    18.20633888244629,\n",
       "    19.494001388549805,\n",
       "    18.071420669555664,\n",
       "    18.015954971313477,\n",
       "    18.94961166381836,\n",
       "    18.75307846069336,\n",
       "    18.6862850189209,\n",
       "    19.460773468017578,\n",
       "    19.305601119995117,\n",
       "    19.021169662475586,\n",
       "    18.628829956054688,\n",
       "    18.81574821472168,\n",
       "    19.49881362915039,\n",
       "    18.327360153198242,\n",
       "    18.601943969726562,\n",
       "    19.260723114013672,\n",
       "    20.037349700927734,\n",
       "    19.383214950561523,\n",
       "    18.482894897460938,\n",
       "    18.799510955810547,\n",
       "    18.194894790649414,\n",
       "    18.63089370727539,\n",
       "    19.50094985961914,\n",
       "    18.86087417602539,\n",
       "    19.659160614013672,\n",
       "    18.90938377380371,\n",
       "    19.129831314086914,\n",
       "    18.323041915893555,\n",
       "    18.55160903930664,\n",
       "    18.977800369262695,\n",
       "    18.52863883972168,\n",
       "    18.094341278076172,\n",
       "    18.88739776611328,\n",
       "    19.698699951171875,\n",
       "    19.3410587310791,\n",
       "    18.7911434173584,\n",
       "    18.45245933532715,\n",
       "    17.41583251953125,\n",
       "    18.22064208984375,\n",
       "    20.06839942932129,\n",
       "    18.47504997253418,\n",
       "    19.074569702148438,\n",
       "    19.730457305908203,\n",
       "    18.37397575378418,\n",
       "    18.907590866088867,\n",
       "    18.643415451049805,\n",
       "    20.038421630859375,\n",
       "    19.20047950744629,\n",
       "    19.042715072631836,\n",
       "    18.523427963256836,\n",
       "    18.531984329223633,\n",
       "    18.598613739013672,\n",
       "    18.853191375732422,\n",
       "    18.3253116607666,\n",
       "    19.647592544555664,\n",
       "    18.185760498046875,\n",
       "    19.139554977416992,\n",
       "    17.51956558227539,\n",
       "    17.61969757080078,\n",
       "    19.29092025756836,\n",
       "    18.06307601928711,\n",
       "    19.21283721923828,\n",
       "    19.44695281982422,\n",
       "    18.33871078491211,\n",
       "    18.133644104003906,\n",
       "    18.510234832763672,\n",
       "    18.22183609008789,\n",
       "    18.849496841430664,\n",
       "    19.013164520263672,\n",
       "    19.295866012573242,\n",
       "    18.333654403686523,\n",
       "    19.384740829467773,\n",
       "    19.40494155883789,\n",
       "    19.004165649414062,\n",
       "    18.90903091430664,\n",
       "    18.486650466918945,\n",
       "    17.773544311523438,\n",
       "    20.497745513916016,\n",
       "    17.720687866210938,\n",
       "    18.536733627319336,\n",
       "    18.018529891967773,\n",
       "    18.489761352539062,\n",
       "    19.018972396850586,\n",
       "    18.54985809326172,\n",
       "    19.580904006958008,\n",
       "    17.50333023071289,\n",
       "    18.858299255371094,\n",
       "    19.767906188964844,\n",
       "    19.792638778686523,\n",
       "    18.19078254699707,\n",
       "    17.92789077758789,\n",
       "    18.226713180541992,\n",
       "    17.421611785888672,\n",
       "    17.508691787719727,\n",
       "    18.83169174194336,\n",
       "    16.672195434570312,\n",
       "    19.11587905883789,\n",
       "    18.492422103881836,\n",
       "    18.973779678344727,\n",
       "    16.675065994262695,\n",
       "    19.158586502075195,\n",
       "    19.3072452545166,\n",
       "    18.539840698242188,\n",
       "    18.928993225097656,\n",
       "    19.30496597290039,\n",
       "    19.401958465576172,\n",
       "    19.340944290161133,\n",
       "    19.239770889282227,\n",
       "    18.67041778564453,\n",
       "    19.97287368774414,\n",
       "    18.362003326416016,\n",
       "    18.10063934326172,\n",
       "    18.138015747070312,\n",
       "    17.429574966430664,\n",
       "    18.543054580688477,\n",
       "    18.41684913635254,\n",
       "    18.810766220092773,\n",
       "    18.766620635986328,\n",
       "    18.725933074951172,\n",
       "    19.157304763793945,\n",
       "    16.558141708374023,\n",
       "    19.59646987915039,\n",
       "    19.108352661132812,\n",
       "    18.777023315429688,\n",
       "    18.697511672973633,\n",
       "    17.797508239746094,\n",
       "    18.11910629272461,\n",
       "    17.98673439025879,\n",
       "    18.071237564086914,\n",
       "    16.83175277709961,\n",
       "    18.214929580688477,\n",
       "    18.016996383666992,\n",
       "    18.165552139282227,\n",
       "    19.159774780273438,\n",
       "    18.095500946044922,\n",
       "    18.738323211669922,\n",
       "    19.110532760620117,\n",
       "    18.555709838867188,\n",
       "    17.17687225341797,\n",
       "    18.19097137451172,\n",
       "    17.72389030456543,\n",
       "    17.223878860473633,\n",
       "    19.51409339904785,\n",
       "    19.032987594604492,\n",
       "    17.719511032104492,\n",
       "    19.04706573486328,\n",
       "    18.463363647460938,\n",
       "    18.60814094543457,\n",
       "    19.488115310668945,\n",
       "    17.702796936035156,\n",
       "    17.581663131713867,\n",
       "    18.753829956054688,\n",
       "    19.162792205810547,\n",
       "    18.293052673339844,\n",
       "    17.323087692260742,\n",
       "    18.073970794677734,\n",
       "    19.00889778137207,\n",
       "    17.962615966796875,\n",
       "    18.240875244140625,\n",
       "    17.692699432373047,\n",
       "    16.02920913696289,\n",
       "    18.21331787109375,\n",
       "    18.062522888183594,\n",
       "    19.177597045898438,\n",
       "    18.569896697998047,\n",
       "    17.26861000061035,\n",
       "    18.98196029663086,\n",
       "    17.94794273376465,\n",
       "    18.740459442138672,\n",
       "    18.59992027282715,\n",
       "    19.05277442932129,\n",
       "    18.12483024597168,\n",
       "    18.024620056152344,\n",
       "    18.527265548706055,\n",
       "    18.345407485961914,\n",
       "    18.8222599029541,\n",
       "    19.069307327270508,\n",
       "    17.674177169799805,\n",
       "    18.753040313720703,\n",
       "    18.364646911621094,\n",
       "    19.03142738342285,\n",
       "    19.337547302246094,\n",
       "    18.417522430419922,\n",
       "    17.89776611328125,\n",
       "    19.557619094848633,\n",
       "    18.131284713745117,\n",
       "    19.451745986938477,\n",
       "    18.273744583129883,\n",
       "    17.652406692504883,\n",
       "    19.309410095214844,\n",
       "    18.60450553894043,\n",
       "    17.891008377075195,\n",
       "    19.804941177368164,\n",
       "    18.0301456451416,\n",
       "    18.50926971435547,\n",
       "    18.086973190307617,\n",
       "    18.018537521362305,\n",
       "    18.073976516723633,\n",
       "    16.77018928527832,\n",
       "    18.811647415161133,\n",
       "    17.923255920410156,\n",
       "    18.05565071105957,\n",
       "    17.583415985107422,\n",
       "    18.31302833557129,\n",
       "    17.774669647216797,\n",
       "    17.88100242614746,\n",
       "    18.49304962158203,\n",
       "    17.111797332763672,\n",
       "    18.04035758972168,\n",
       "    17.968799591064453,\n",
       "    18.38589859008789,\n",
       "    18.333271026611328,\n",
       "    18.361190795898438,\n",
       "    17.32985496520996,\n",
       "    17.73236846923828,\n",
       "    17.87177085876465,\n",
       "    17.686214447021484,\n",
       "    18.560596466064453,\n",
       "    18.812280654907227,\n",
       "    18.488182067871094,\n",
       "    17.041297912597656,\n",
       "    18.111127853393555,\n",
       "    17.379079818725586,\n",
       "    18.105167388916016,\n",
       "    18.522937774658203,\n",
       "    19.278345108032227,\n",
       "    17.64020347595215,\n",
       "    17.526365280151367,\n",
       "    19.032180786132812,\n",
       "    17.913311004638672,\n",
       "    17.527292251586914,\n",
       "    16.291093826293945,\n",
       "    17.669214248657227,\n",
       "    16.553951263427734,\n",
       "    18.34782600402832,\n",
       "    18.667356491088867,\n",
       "    18.604434967041016,\n",
       "    17.08052635192871,\n",
       "    17.722660064697266,\n",
       "    18.028654098510742,\n",
       "    17.797334671020508,\n",
       "    17.7315731048584,\n",
       "    18.306671142578125,\n",
       "    17.626798629760742,\n",
       "    17.113136291503906,\n",
       "    17.583885192871094,\n",
       "    17.37112045288086,\n",
       "    18.26286506652832,\n",
       "    18.45133399963379,\n",
       "    17.555492401123047,\n",
       "    18.676692962646484,\n",
       "    18.06629753112793,\n",
       "    17.888362884521484,\n",
       "    18.394119262695312,\n",
       "    18.782676696777344,\n",
       "    17.216718673706055,\n",
       "    18.383769989013672,\n",
       "    17.576570510864258,\n",
       "    18.125106811523438,\n",
       "    17.634443283081055,\n",
       "    18.73154067993164,\n",
       "    17.326955795288086,\n",
       "    17.802818298339844,\n",
       "    18.525203704833984,\n",
       "    16.267114639282227,\n",
       "    18.40048599243164,\n",
       "    17.54018783569336,\n",
       "    17.28444480895996,\n",
       "    18.275278091430664,\n",
       "    17.89521598815918,\n",
       "    17.603473663330078,\n",
       "    17.757282257080078,\n",
       "    17.196495056152344,\n",
       "    18.005573272705078,\n",
       "    18.303848266601562,\n",
       "    18.470077514648438,\n",
       "    17.694488525390625,\n",
       "    18.181299209594727,\n",
       "    18.65960121154785,\n",
       "    17.580535888671875,\n",
       "    18.260990142822266,\n",
       "    17.787267684936523,\n",
       "    18.05991554260254,\n",
       "    17.460065841674805,\n",
       "    18.420608520507812,\n",
       "    17.090633392333984,\n",
       "    17.684040069580078,\n",
       "    18.4269962310791,\n",
       "    16.691593170166016,\n",
       "    18.576522827148438,\n",
       "    17.326202392578125,\n",
       "    17.383939743041992,\n",
       "    18.876192092895508,\n",
       "    17.927846908569336,\n",
       "    17.693134307861328,\n",
       "    15.775931358337402,\n",
       "    18.593313217163086,\n",
       "    16.949857711791992,\n",
       "    17.40462303161621,\n",
       "    18.372379302978516,\n",
       "    17.2109317779541,\n",
       "    16.62921905517578,\n",
       "    17.142070770263672,\n",
       "    16.904747009277344,\n",
       "    17.67359161376953,\n",
       "    17.398345947265625,\n",
       "    16.83583641052246,\n",
       "    18.240386962890625,\n",
       "    17.52151870727539,\n",
       "    17.53915023803711,\n",
       "    16.482933044433594,\n",
       "    17.2995548248291,\n",
       "    17.590017318725586,\n",
       "    17.304489135742188,\n",
       "    17.798463821411133,\n",
       "    18.609933853149414,\n",
       "    17.819141387939453,\n",
       "    18.553508758544922,\n",
       "    18.18559455871582,\n",
       "    18.13646697998047,\n",
       "    18.206157684326172,\n",
       "    18.023361206054688,\n",
       "    16.708251953125,\n",
       "    17.981658935546875,\n",
       "    17.775245666503906,\n",
       "    17.314477920532227,\n",
       "    17.463796615600586,\n",
       "    17.735624313354492,\n",
       "    17.389888763427734,\n",
       "    18.08494758605957,\n",
       "    18.5052490234375,\n",
       "    17.999439239501953,\n",
       "    18.18568229675293,\n",
       "    16.865827560424805,\n",
       "    17.671876907348633,\n",
       "    18.409393310546875,\n",
       "    15.720375061035156,\n",
       "    16.624740600585938,\n",
       "    17.858196258544922,\n",
       "    17.34839630126953,\n",
       "    17.910579681396484,\n",
       "    18.242549896240234,\n",
       "    16.974416732788086,\n",
       "    16.613309860229492,\n",
       "    17.499176025390625,\n",
       "    16.7990665435791,\n",
       "    18.05516815185547,\n",
       "    18.198591232299805,\n",
       "    17.184200286865234],\n",
       "   [14.719271659851074,\n",
       "    15.91611099243164,\n",
       "    14.46221923828125,\n",
       "    14.318860054016113,\n",
       "    15.002911567687988,\n",
       "    15.533098220825195,\n",
       "    15.109254837036133,\n",
       "    14.70363998413086,\n",
       "    15.437113761901855,\n",
       "    14.830164909362793,\n",
       "    14.51945686340332,\n",
       "    14.591382026672363,\n",
       "    15.651725769042969,\n",
       "    15.87549877166748,\n",
       "    15.096233367919922,\n",
       "    14.346968650817871,\n",
       "    15.665531158447266,\n",
       "    15.043981552124023,\n",
       "    14.094803810119629,\n",
       "    14.751398086547852,\n",
       "    14.908376693725586,\n",
       "    15.270111083984375,\n",
       "    16.22809600830078,\n",
       "    15.091343879699707,\n",
       "    14.885360717773438,\n",
       "    14.011622428894043,\n",
       "    15.534626007080078,\n",
       "    14.588240623474121,\n",
       "    15.45351791381836,\n",
       "    16.377145767211914,\n",
       "    15.54932975769043,\n",
       "    14.405344009399414,\n",
       "    15.448578834533691,\n",
       "    16.206544876098633,\n",
       "    14.39702320098877,\n",
       "    13.812324523925781,\n",
       "    15.700461387634277,\n",
       "    15.171279907226562,\n",
       "    14.847247123718262,\n",
       "    15.52060317993164,\n",
       "    13.770679473876953,\n",
       "    15.299338340759277,\n",
       "    16.38630485534668,\n",
       "    15.322972297668457,\n",
       "    15.018402099609375,\n",
       "    14.202513694763184,\n",
       "    15.576367378234863,\n",
       "    13.364001274108887,\n",
       "    15.018098831176758,\n",
       "    15.801861763000488,\n",
       "    15.609302520751953,\n",
       "    13.1019287109375,\n",
       "    16.551254272460938,\n",
       "    13.795619010925293,\n",
       "    15.465975761413574,\n",
       "    14.470235824584961,\n",
       "    15.314624786376953,\n",
       "    14.828527450561523,\n",
       "    15.553855895996094,\n",
       "    16.77823829650879,\n",
       "    13.98206901550293,\n",
       "    16.236591339111328,\n",
       "    15.013202667236328,\n",
       "    14.012734413146973,\n",
       "    15.566038131713867,\n",
       "    14.853105545043945,\n",
       "    14.587362289428711,\n",
       "    14.191919326782227,\n",
       "    16.01933479309082,\n",
       "    15.801004409790039,\n",
       "    13.703495979309082,\n",
       "    14.340192794799805,\n",
       "    14.541728973388672,\n",
       "    15.098081588745117,\n",
       "    14.438817977905273,\n",
       "    15.548075675964355,\n",
       "    15.152462005615234,\n",
       "    15.882091522216797,\n",
       "    14.677083969116211,\n",
       "    15.229654312133789,\n",
       "    15.646990776062012,\n",
       "    17.224773406982422,\n",
       "    15.41698169708252,\n",
       "    14.537633895874023,\n",
       "    13.91953182220459,\n",
       "    14.022133827209473,\n",
       "    15.080440521240234,\n",
       "    15.913129806518555,\n",
       "    15.06839370727539,\n",
       "    14.762715339660645,\n",
       "    15.949563980102539,\n",
       "    15.063724517822266,\n",
       "    15.461943626403809,\n",
       "    14.262473106384277,\n",
       "    15.611109733581543,\n",
       "    14.261950492858887,\n",
       "    15.66324234008789,\n",
       "    15.950124740600586,\n",
       "    15.419766426086426,\n",
       "    14.520936965942383,\n",
       "    13.200238227844238,\n",
       "    14.545884132385254,\n",
       "    14.86966323852539,\n",
       "    15.658538818359375,\n",
       "    15.544329643249512,\n",
       "    15.370068550109863,\n",
       "    14.703797340393066,\n",
       "    15.562975883483887,\n",
       "    16.137897491455078,\n",
       "    15.83868408203125,\n",
       "    14.359556198120117,\n",
       "    15.105036735534668,\n",
       "    14.066620826721191,\n",
       "    14.192248344421387,\n",
       "    15.761882781982422,\n",
       "    14.726222038269043,\n",
       "    14.464488983154297,\n",
       "    14.916620254516602,\n",
       "    15.829343795776367,\n",
       "    14.703099250793457,\n",
       "    16.064634323120117,\n",
       "    15.111530303955078,\n",
       "    15.521270751953125,\n",
       "    13.834948539733887,\n",
       "    15.02125072479248,\n",
       "    15.418041229248047,\n",
       "    14.628803253173828,\n",
       "    14.340642929077148,\n",
       "    14.951319694519043,\n",
       "    14.508587837219238,\n",
       "    15.903696060180664,\n",
       "    15.194262504577637,\n",
       "    14.8145112991333,\n",
       "    14.44398021697998,\n",
       "    13.782903671264648,\n",
       "    15.963109970092773,\n",
       "    14.759958267211914,\n",
       "    15.56058120727539,\n",
       "    13.3164644241333,\n",
       "    15.854608535766602,\n",
       "    15.59103012084961,\n",
       "    14.640002250671387,\n",
       "    14.549553871154785,\n",
       "    14.458953857421875,\n",
       "    14.86672592163086,\n",
       "    14.298796653747559,\n",
       "    16.274805068969727,\n",
       "    15.069182395935059,\n",
       "    15.582891464233398,\n",
       "    15.035572052001953,\n",
       "    15.439396858215332,\n",
       "    15.511651992797852,\n",
       "    15.487916946411133,\n",
       "    15.162734985351562,\n",
       "    14.814114570617676,\n",
       "    17.059646606445312,\n",
       "    14.39506721496582,\n",
       "    15.49526309967041,\n",
       "    15.986288070678711,\n",
       "    14.414226531982422,\n",
       "    14.196333885192871,\n",
       "    15.513978004455566,\n",
       "    14.560513496398926,\n",
       "    13.598931312561035,\n",
       "    14.710396766662598,\n",
       "    15.77749252319336,\n",
       "    14.411089897155762,\n",
       "    14.616692543029785,\n",
       "    15.81711196899414,\n",
       "    15.560627937316895,\n",
       "    15.794483184814453,\n",
       "    15.004020690917969,\n",
       "    15.712959289550781,\n",
       "    13.5773344039917,\n",
       "    14.867697715759277,\n",
       "    13.866846084594727,\n",
       "    15.13051700592041,\n",
       "    13.721329689025879,\n",
       "    15.785343170166016,\n",
       "    14.009632110595703,\n",
       "    15.410035133361816,\n",
       "    15.321677207946777,\n",
       "    13.351652145385742,\n",
       "    16.089345932006836,\n",
       "    14.795969009399414,\n",
       "    15.538222312927246,\n",
       "    16.077972412109375,\n",
       "    15.435500144958496,\n",
       "    14.303409576416016,\n",
       "    15.560346603393555,\n",
       "    16.164323806762695,\n",
       "    15.300383567810059,\n",
       "    13.471479415893555,\n",
       "    16.341785430908203,\n",
       "    15.369563102722168,\n",
       "    14.518982887268066,\n",
       "    14.543349266052246,\n",
       "    15.333069801330566,\n",
       "    14.6784086227417,\n",
       "    15.220588684082031,\n",
       "    14.165909767150879,\n",
       "    14.03445816040039,\n",
       "    15.338078498840332,\n",
       "    15.401694297790527,\n",
       "    15.7035493850708,\n",
       "    14.4628267288208,\n",
       "    15.611359596252441,\n",
       "    14.81295394897461,\n",
       "    13.056753158569336,\n",
       "    14.913938522338867,\n",
       "    14.050882339477539,\n",
       "    15.390491485595703,\n",
       "    15.0422945022583,\n",
       "    13.553348541259766,\n",
       "    13.568729400634766,\n",
       "    14.539849281311035,\n",
       "    14.715812683105469,\n",
       "    13.976249694824219,\n",
       "    14.488081932067871,\n",
       "    14.838041305541992,\n",
       "    15.37137222290039,\n",
       "    14.420963287353516,\n",
       "    14.147698402404785,\n",
       "    14.915486335754395,\n",
       "    14.770332336425781,\n",
       "    14.329999923706055,\n",
       "    13.932951927185059,\n",
       "    13.1177396774292,\n",
       "    14.7142333984375,\n",
       "    16.08359718322754,\n",
       "    14.284868240356445,\n",
       "    13.97333812713623,\n",
       "    14.740152359008789,\n",
       "    13.475565910339355,\n",
       "    14.343437194824219,\n",
       "    14.361977577209473,\n",
       "    14.920843124389648,\n",
       "    15.06134033203125,\n",
       "    14.595407485961914,\n",
       "    15.03331184387207,\n",
       "    15.961706161499023,\n",
       "    14.36829662322998,\n",
       "    13.889062881469727,\n",
       "    14.581136703491211,\n",
       "    15.193684577941895,\n",
       "    15.212541580200195,\n",
       "    16.026214599609375,\n",
       "    14.012735366821289,\n",
       "    14.50544261932373,\n",
       "    14.788717269897461,\n",
       "    15.982008934020996,\n",
       "    12.672097206115723,\n",
       "    15.546483039855957,\n",
       "    14.644953727722168,\n",
       "    13.877116203308105,\n",
       "    15.012181282043457,\n",
       "    13.429447174072266,\n",
       "    15.76620101928711,\n",
       "    14.63392162322998,\n",
       "    15.122804641723633,\n",
       "    14.034136772155762,\n",
       "    14.318991661071777,\n",
       "    14.29765510559082,\n",
       "    15.50346565246582,\n",
       "    14.443979263305664,\n",
       "    14.941390991210938,\n",
       "    14.229119300842285,\n",
       "    15.378691673278809,\n",
       "    15.449581146240234,\n",
       "    14.9912748336792,\n",
       "    14.442911148071289,\n",
       "    16.17019271850586,\n",
       "    15.137601852416992,\n",
       "    16.35399627685547,\n",
       "    14.526975631713867,\n",
       "    13.114322662353516,\n",
       "    15.470979690551758,\n",
       "    14.956254959106445,\n",
       "    14.937703132629395,\n",
       "    15.490203857421875,\n",
       "    13.74273681640625,\n",
       "    15.379050254821777,\n",
       "    14.260115623474121,\n",
       "    14.348054885864258,\n",
       "    14.643546104431152,\n",
       "    14.962215423583984,\n",
       "    13.979541778564453,\n",
       "    15.18234634399414,\n",
       "    14.416608810424805,\n",
       "    14.882977485656738,\n",
       "    15.556344985961914,\n",
       "    13.83249282836914,\n",
       "    14.550898551940918,\n",
       "    14.677850723266602,\n",
       "    14.161158561706543,\n",
       "    14.125258445739746,\n",
       "    14.03235912322998,\n",
       "    14.390571594238281,\n",
       "    15.083446502685547,\n",
       "    14.807453155517578,\n",
       "    14.410460472106934,\n",
       "    15.049237251281738,\n",
       "    15.519538879394531,\n",
       "    15.287900924682617,\n",
       "    14.240816116333008,\n",
       "    14.932209014892578,\n",
       "    13.976251602172852,\n",
       "    14.009121894836426,\n",
       "    15.24561882019043,\n",
       "    13.694168090820312,\n",
       "    15.149194717407227,\n",
       "    14.400517463684082,\n",
       "    13.299734115600586,\n",
       "    15.887625694274902,\n",
       "    14.889002799987793,\n",
       "    13.29127025604248,\n",
       "    14.257251739501953,\n",
       "    15.279950141906738,\n",
       "    14.503092765808105,\n",
       "    14.60818862915039,\n",
       "    14.791889190673828,\n",
       "    13.767940521240234,\n",
       "    14.388328552246094,\n",
       "    14.976088523864746,\n",
       "    14.187674522399902,\n",
       "    14.872377395629883,\n",
       "    14.058233261108398,\n",
       "    14.699374198913574,\n",
       "    14.453726768493652,\n",
       "    15.779340744018555,\n",
       "    14.100678443908691,\n",
       "    15.998674392700195,\n",
       "    14.579562187194824,\n",
       "    14.40951156616211,\n",
       "    14.379547119140625,\n",
       "    14.428176879882812,\n",
       "    15.063355445861816,\n",
       "    13.44736099243164,\n",
       "    15.085916519165039,\n",
       "    14.505358695983887,\n",
       "    14.17158317565918,\n",
       "    12.274654388427734,\n",
       "    14.443998336791992,\n",
       "    14.07066535949707,\n",
       "    14.633143424987793,\n",
       "    14.365740776062012,\n",
       "    13.663875579833984,\n",
       "    13.51479434967041,\n",
       "    15.068184852600098,\n",
       "    15.376206398010254,\n",
       "    14.774374008178711,\n",
       "    13.174701690673828,\n",
       "    15.368345260620117,\n",
       "    14.077004432678223,\n",
       "    14.599740982055664,\n",
       "    14.299509048461914,\n",
       "    13.427262306213379,\n",
       "    14.746888160705566,\n",
       "    14.018899917602539,\n",
       "    14.490823745727539,\n",
       "    14.052385330200195,\n",
       "    14.146920204162598,\n",
       "    14.3350248336792,\n",
       "    15.256909370422363,\n",
       "    13.960041999816895,\n",
       "    13.79178237915039,\n",
       "    14.590651512145996,\n",
       "    15.238941192626953,\n",
       "    14.394755363464355,\n",
       "    14.333824157714844,\n",
       "    13.49295711517334,\n",
       "    13.589746475219727,\n",
       "    12.422201156616211,\n",
       "    15.156556129455566,\n",
       "    13.868369102478027,\n",
       "    15.015275955200195,\n",
       "    15.492827415466309,\n",
       "    16.14081382751465,\n",
       "    14.862555503845215,\n",
       "    14.093816757202148,\n",
       "    13.456089973449707,\n",
       "    14.338892936706543,\n",
       "    13.553182601928711,\n",
       "    14.947338104248047,\n",
       "    13.655075073242188,\n",
       "    12.870866775512695,\n",
       "    13.85342025756836,\n",
       "    15.734647750854492,\n",
       "    15.523426055908203,\n",
       "    13.65949535369873,\n",
       "    14.785660743713379,\n",
       "    14.620941162109375,\n",
       "    14.315415382385254,\n",
       "    13.381539344787598,\n",
       "    13.895069122314453,\n",
       "    14.277536392211914,\n",
       "    14.737116813659668,\n",
       "    14.179471015930176,\n",
       "    14.334425926208496,\n",
       "    15.02085018157959,\n",
       "    14.554441452026367,\n",
       "    13.19819164276123,\n",
       "    13.610084533691406,\n",
       "    14.869711875915527,\n",
       "    13.9065580368042,\n",
       "    15.0664644241333,\n",
       "    14.672636032104492,\n",
       "    14.031566619873047,\n",
       "    13.528450012207031,\n",
       "    13.8705415725708,\n",
       "    13.178691864013672,\n",
       "    15.404701232910156,\n",
       "    15.851442337036133,\n",
       "    13.997467041015625,\n",
       "    14.79885196685791,\n",
       "    15.609731674194336,\n",
       "    13.538212776184082,\n",
       "    13.825729370117188,\n",
       "    15.116739273071289,\n",
       "    15.575454711914062,\n",
       "    13.642359733581543,\n",
       "    15.236434936523438,\n",
       "    15.502594947814941,\n",
       "    15.003530502319336,\n",
       "    14.599671363830566,\n",
       "    14.300163269042969,\n",
       "    13.63999080657959,\n",
       "    14.52615737915039,\n",
       "    14.74963092803955,\n",
       "    13.759110450744629,\n",
       "    14.278473854064941,\n",
       "    15.578432083129883,\n",
       "    14.001688957214355,\n",
       "    13.585515022277832,\n",
       "    14.365860939025879,\n",
       "    13.850756645202637,\n",
       "    14.203639030456543,\n",
       "    14.699383735656738,\n",
       "    13.711873054504395,\n",
       "    14.913463592529297,\n",
       "    13.692021369934082,\n",
       "    14.640875816345215,\n",
       "    14.195771217346191,\n",
       "    15.555976867675781,\n",
       "    14.918622016906738,\n",
       "    14.0252046585083,\n",
       "    14.290125846862793,\n",
       "    13.831157684326172,\n",
       "    14.590856552124023,\n",
       "    14.984996795654297,\n",
       "    14.072755813598633,\n",
       "    15.055203437805176,\n",
       "    13.274816513061523,\n",
       "    14.776145935058594,\n",
       "    14.502296447753906,\n",
       "    14.78732967376709,\n",
       "    13.842013359069824,\n",
       "    14.7078218460083,\n",
       "    14.615005493164062,\n",
       "    14.42858600616455,\n",
       "    14.287803649902344,\n",
       "    14.446861267089844,\n",
       "    15.116752624511719,\n",
       "    12.943875312805176,\n",
       "    14.080012321472168,\n",
       "    13.437283515930176,\n",
       "    13.502657890319824,\n",
       "    12.689369201660156,\n",
       "    14.708160400390625,\n",
       "    13.512768745422363,\n",
       "    14.001879692077637,\n",
       "    13.379488945007324,\n",
       "    12.98061466217041,\n",
       "    14.127520561218262,\n",
       "    14.09006404876709,\n",
       "    14.029224395751953,\n",
       "    14.50499153137207,\n",
       "    14.400262832641602,\n",
       "    15.284266471862793,\n",
       "    14.674050331115723,\n",
       "    12.575368881225586,\n",
       "    14.11198616027832,\n",
       "    14.859439849853516,\n",
       "    14.787286758422852,\n",
       "    13.851974487304688,\n",
       "    12.71480655670166,\n",
       "    14.55383586883545,\n",
       "    12.35106372833252,\n",
       "    13.208423614501953,\n",
       "    14.994104385375977,\n",
       "    13.640741348266602,\n",
       "    13.352363586425781,\n",
       "    14.113908767700195,\n",
       "    14.268363952636719,\n",
       "    13.996760368347168,\n",
       "    12.2496337890625,\n",
       "    13.232816696166992,\n",
       "    13.927409172058105,\n",
       "    14.690956115722656,\n",
       "    14.352426528930664,\n",
       "    13.949867248535156,\n",
       "    14.436763763427734,\n",
       "    12.73610782623291,\n",
       "    13.588855743408203,\n",
       "    13.783287048339844,\n",
       "    13.386066436767578,\n",
       "    14.566082954406738,\n",
       "    13.405167579650879,\n",
       "    13.627241134643555,\n",
       "    14.866929054260254,\n",
       "    13.423377990722656,\n",
       "    13.91026496887207,\n",
       "    15.075477600097656,\n",
       "    14.351938247680664,\n",
       "    13.769513130187988,\n",
       "    15.740674018859863,\n",
       "    14.981950759887695,\n",
       "    13.71661376953125,\n",
       "    13.16258430480957,\n",
       "    15.526728630065918,\n",
       "    14.602219581604004,\n",
       "    14.620773315429688,\n",
       "    13.826078414916992,\n",
       "    15.613350868225098,\n",
       "    14.168646812438965,\n",
       "    14.464639663696289,\n",
       "    13.589560508728027,\n",
       "    12.864704132080078,\n",
       "    13.450693130493164,\n",
       "    13.956809997558594,\n",
       "    13.20539665222168,\n",
       "    14.000948905944824,\n",
       "    13.938702583312988,\n",
       "    13.621089935302734,\n",
       "    11.738814353942871,\n",
       "    14.240445137023926],\n",
       "   [11.150947570800781,\n",
       "    12.057981491088867,\n",
       "    12.169326782226562,\n",
       "    11.79776668548584,\n",
       "    13.25121784210205,\n",
       "    11.801688194274902,\n",
       "    11.779317855834961,\n",
       "    10.745743751525879,\n",
       "    12.94743824005127,\n",
       "    10.801158905029297,\n",
       "    10.674423217773438,\n",
       "    12.791979789733887,\n",
       "    11.465569496154785,\n",
       "    11.287925720214844,\n",
       "    11.130255699157715,\n",
       "    11.420866012573242,\n",
       "    11.697836875915527,\n",
       "    10.92662239074707,\n",
       "    10.424735069274902,\n",
       "    11.417400360107422,\n",
       "    11.793316841125488,\n",
       "    11.121573448181152,\n",
       "    11.27491569519043,\n",
       "    12.15670394897461,\n",
       "    12.41296100616455,\n",
       "    12.086018562316895,\n",
       "    11.666121482849121,\n",
       "    11.483077049255371,\n",
       "    11.432916641235352,\n",
       "    11.38912296295166,\n",
       "    9.970621109008789,\n",
       "    11.8200044631958,\n",
       "    12.04976749420166,\n",
       "    10.754341125488281,\n",
       "    12.106819152832031,\n",
       "    12.388141632080078,\n",
       "    12.351800918579102,\n",
       "    11.329439163208008,\n",
       "    11.917218208312988,\n",
       "    12.457594871520996,\n",
       "    9.879846572875977,\n",
       "    11.06954574584961,\n",
       "    11.780342102050781,\n",
       "    10.85344409942627,\n",
       "    10.414523124694824,\n",
       "    10.361645698547363,\n",
       "    10.706273078918457,\n",
       "    11.052894592285156,\n",
       "    12.407270431518555,\n",
       "    11.024778366088867,\n",
       "    11.169711112976074,\n",
       "    9.881216049194336,\n",
       "    11.867117881774902,\n",
       "    11.225357055664062,\n",
       "    11.672502517700195,\n",
       "    12.413956642150879,\n",
       "    11.593915939331055,\n",
       "    11.629151344299316,\n",
       "    11.336126327514648,\n",
       "    9.66334342956543,\n",
       "    11.828817367553711,\n",
       "    12.47872257232666,\n",
       "    10.875725746154785,\n",
       "    10.570743560791016,\n",
       "    11.447776794433594,\n",
       "    10.636749267578125,\n",
       "    10.656826972961426,\n",
       "    12.34390640258789,\n",
       "    12.01453685760498,\n",
       "    11.502290725708008,\n",
       "    11.938575744628906,\n",
       "    12.187459945678711,\n",
       "    10.498676300048828,\n",
       "    9.532266616821289,\n",
       "    11.91292953491211,\n",
       "    10.087751388549805,\n",
       "    10.440569877624512,\n",
       "    12.087255477905273,\n",
       "    11.655996322631836,\n",
       "    11.2846040725708,\n",
       "    10.896882057189941,\n",
       "    11.584495544433594,\n",
       "    11.460832595825195,\n",
       "    11.157876014709473,\n",
       "    11.93142032623291,\n",
       "    11.109248161315918,\n",
       "    11.940496444702148,\n",
       "    12.125739097595215,\n",
       "    11.44503402709961,\n",
       "    11.768054008483887,\n",
       "    12.344193458557129,\n",
       "    11.72235107421875,\n",
       "    11.94775676727295,\n",
       "    11.461250305175781,\n",
       "    12.129919052124023,\n",
       "    12.094271659851074,\n",
       "    11.861685752868652,\n",
       "    12.644916534423828,\n",
       "    10.2713041305542,\n",
       "    11.670846939086914,\n",
       "    12.320255279541016,\n",
       "    12.954633712768555,\n",
       "    9.36482048034668,\n",
       "    11.805755615234375,\n",
       "    10.071603775024414,\n",
       "    12.127065658569336,\n",
       "    11.541170120239258,\n",
       "    11.179000854492188,\n",
       "    11.662763595581055,\n",
       "    10.896586418151855,\n",
       "    11.190115928649902,\n",
       "    11.315032958984375,\n",
       "    11.296491622924805,\n",
       "    11.479767799377441,\n",
       "    11.843303680419922,\n",
       "    11.85496711730957,\n",
       "    11.625795364379883,\n",
       "    11.811660766601562,\n",
       "    12.296663284301758,\n",
       "    10.901790618896484,\n",
       "    11.774932861328125,\n",
       "    11.495233535766602,\n",
       "    13.131453514099121,\n",
       "    10.667678833007812,\n",
       "    11.614002227783203,\n",
       "    11.321834564208984,\n",
       "    11.723817825317383,\n",
       "    10.18934440612793,\n",
       "    10.402750015258789,\n",
       "    11.315102577209473,\n",
       "    10.589441299438477,\n",
       "    12.812078475952148,\n",
       "    11.994743347167969,\n",
       "    12.672530174255371,\n",
       "    10.34479808807373,\n",
       "    12.08164119720459,\n",
       "    11.397994041442871,\n",
       "    9.76430892944336,\n",
       "    10.070207595825195,\n",
       "    11.989376068115234,\n",
       "    11.588065147399902,\n",
       "    11.12371826171875,\n",
       "    10.243651390075684,\n",
       "    11.04246711730957,\n",
       "    11.878376960754395,\n",
       "    12.410717010498047,\n",
       "    12.572861671447754,\n",
       "    12.30982780456543,\n",
       "    11.523931503295898,\n",
       "    12.042217254638672,\n",
       "    11.394739151000977,\n",
       "    12.035295486450195,\n",
       "    12.366201400756836,\n",
       "    10.63150405883789,\n",
       "    11.910011291503906,\n",
       "    11.480167388916016,\n",
       "    11.17129135131836,\n",
       "    11.094693183898926,\n",
       "    11.929325103759766,\n",
       "    11.095637321472168,\n",
       "    12.226934432983398,\n",
       "    11.285711288452148,\n",
       "    12.054107666015625,\n",
       "    12.281848907470703,\n",
       "    11.959338188171387,\n",
       "    11.93382453918457,\n",
       "    11.943615913391113,\n",
       "    11.503703117370605,\n",
       "    10.971392631530762,\n",
       "    9.980294227600098,\n",
       "    11.55317211151123,\n",
       "    12.53475570678711,\n",
       "    10.52091121673584,\n",
       "    12.350153923034668,\n",
       "    11.667862892150879,\n",
       "    12.3772554397583,\n",
       "    12.184161186218262,\n",
       "    12.127662658691406,\n",
       "    11.054006576538086,\n",
       "    11.132739067077637,\n",
       "    11.4360990524292,\n",
       "    10.680524826049805,\n",
       "    12.637535095214844,\n",
       "    11.15195369720459,\n",
       "    9.725605010986328,\n",
       "    11.600103378295898,\n",
       "    10.739580154418945,\n",
       "    11.789974212646484,\n",
       "    11.10537052154541,\n",
       "    11.480531692504883,\n",
       "    11.41557502746582,\n",
       "    12.147818565368652,\n",
       "    12.124748229980469,\n",
       "    11.863365173339844,\n",
       "    11.29162311553955,\n",
       "    10.355544090270996,\n",
       "    11.569777488708496,\n",
       "    11.04443359375,\n",
       "    10.4013090133667,\n",
       "    11.545153617858887,\n",
       "    11.344517707824707,\n",
       "    11.143081665039062,\n",
       "    12.0424165725708,\n",
       "    12.39156436920166,\n",
       "    12.038673400878906,\n",
       "    11.319925308227539,\n",
       "    11.485404014587402,\n",
       "    12.517562866210938,\n",
       "    11.114355087280273,\n",
       "    11.81574821472168,\n",
       "    11.306253433227539,\n",
       "    11.90379810333252,\n",
       "    10.041555404663086,\n",
       "    11.703773498535156,\n",
       "    10.807624816894531,\n",
       "    10.933801651000977,\n",
       "    11.166029930114746,\n",
       "    11.383228302001953,\n",
       "    11.420696258544922,\n",
       "    11.271308898925781,\n",
       "    11.685037612915039,\n",
       "    10.808693885803223,\n",
       "    11.58183765411377,\n",
       "    10.969975471496582,\n",
       "    12.514189720153809,\n",
       "    11.482712745666504,\n",
       "    12.1489896774292,\n",
       "    10.643117904663086,\n",
       "    11.722664833068848,\n",
       "    10.849767684936523,\n",
       "    11.726449966430664,\n",
       "    10.978581428527832,\n",
       "    12.1254301071167,\n",
       "    10.36219596862793,\n",
       "    10.947487831115723,\n",
       "    12.787811279296875,\n",
       "    10.906014442443848,\n",
       "    11.325936317443848,\n",
       "    10.509523391723633,\n",
       "    10.366026878356934,\n",
       "    11.221105575561523,\n",
       "    11.05793571472168,\n",
       "    10.995372772216797,\n",
       "    9.756460189819336,\n",
       "    11.130512237548828,\n",
       "    11.821294784545898,\n",
       "    12.741793632507324,\n",
       "    11.55631160736084,\n",
       "    12.199975967407227,\n",
       "    10.993253707885742,\n",
       "    11.189510345458984,\n",
       "    13.057001113891602,\n",
       "    10.892757415771484,\n",
       "    11.11640453338623,\n",
       "    12.537833213806152,\n",
       "    11.312139511108398,\n",
       "    11.161530494689941,\n",
       "    12.558964729309082,\n",
       "    11.402006149291992,\n",
       "    11.244430541992188,\n",
       "    11.485589027404785,\n",
       "    10.944197654724121,\n",
       "    11.464654922485352,\n",
       "    11.816323280334473,\n",
       "    11.005119323730469,\n",
       "    12.83581829071045,\n",
       "    11.518060684204102,\n",
       "    11.583284378051758,\n",
       "    11.322152137756348,\n",
       "    11.575430870056152,\n",
       "    12.980392456054688,\n",
       "    11.912370681762695,\n",
       "    11.692886352539062,\n",
       "    10.82639217376709,\n",
       "    11.795973777770996,\n",
       "    10.94735336303711,\n",
       "    11.93893051147461,\n",
       "    9.947039604187012,\n",
       "    11.567719459533691,\n",
       "    11.884817123413086,\n",
       "    12.301267623901367,\n",
       "    12.139737129211426,\n",
       "    11.047978401184082,\n",
       "    11.326508522033691,\n",
       "    11.546089172363281,\n",
       "    10.47453498840332,\n",
       "    12.83985424041748,\n",
       "    10.630675315856934,\n",
       "    12.417906761169434,\n",
       "    12.077849388122559,\n",
       "    12.41852855682373,\n",
       "    12.396282196044922,\n",
       "    10.484753608703613,\n",
       "    10.89610767364502,\n",
       "    11.770683288574219,\n",
       "    11.891378402709961,\n",
       "    10.002452850341797,\n",
       "    10.490447044372559,\n",
       "    9.902728080749512,\n",
       "    10.436047554016113,\n",
       "    12.72220230102539,\n",
       "    11.335332870483398,\n",
       "    11.245783805847168,\n",
       "    11.104593276977539,\n",
       "    10.398212432861328,\n",
       "    12.337455749511719,\n",
       "    12.050936698913574,\n",
       "    11.576288223266602,\n",
       "    11.194143295288086,\n",
       "    10.68237590789795,\n",
       "    11.959535598754883,\n",
       "    12.05554485321045,\n",
       "    10.768379211425781,\n",
       "    11.70000171661377,\n",
       "    11.315556526184082,\n",
       "    13.143138885498047,\n",
       "    10.865402221679688,\n",
       "    12.698729515075684,\n",
       "    11.889540672302246,\n",
       "    11.274262428283691,\n",
       "    11.572758674621582,\n",
       "    10.749492645263672,\n",
       "    11.252706527709961,\n",
       "    10.393174171447754,\n",
       "    11.652812957763672,\n",
       "    11.039281845092773,\n",
       "    11.455883026123047,\n",
       "    10.933155059814453,\n",
       "    10.780580520629883,\n",
       "    11.063411712646484,\n",
       "    9.881682395935059,\n",
       "    11.079361915588379,\n",
       "    11.428665161132812,\n",
       "    10.63217830657959,\n",
       "    10.509237289428711,\n",
       "    9.773396492004395,\n",
       "    11.582250595092773,\n",
       "    12.093714714050293,\n",
       "    11.882779121398926,\n",
       "    11.545374870300293,\n",
       "    11.075329780578613,\n",
       "    12.229386329650879,\n",
       "    11.71883487701416,\n",
       "    11.99336051940918,\n",
       "    10.509389877319336,\n",
       "    11.075003623962402,\n",
       "    11.12957763671875,\n",
       "    11.983407974243164,\n",
       "    11.796648979187012,\n",
       "    11.040475845336914,\n",
       "    10.950085639953613,\n",
       "    10.41540241241455,\n",
       "    11.387463569641113,\n",
       "    11.27271842956543,\n",
       "    10.357274055480957,\n",
       "    11.091318130493164,\n",
       "    11.60926342010498,\n",
       "    10.670111656188965,\n",
       "    12.823188781738281,\n",
       "    9.977398872375488,\n",
       "    12.035530090332031,\n",
       "    10.455329895019531,\n",
       "    9.438312530517578,\n",
       "    11.441225051879883,\n",
       "    11.06225299835205,\n",
       "    10.04304313659668,\n",
       "    11.81098747253418,\n",
       "    10.497772216796875,\n",
       "    12.108994483947754,\n",
       "    11.035842895507812,\n",
       "    11.889192581176758,\n",
       "    11.739235877990723,\n",
       "    11.607151985168457,\n",
       "    10.361010551452637,\n",
       "    10.961159706115723,\n",
       "    11.147955894470215,\n",
       "    11.312233924865723,\n",
       "    10.810144424438477,\n",
       "    11.3536376953125,\n",
       "    10.445222854614258,\n",
       "    11.660901069641113,\n",
       "    10.351899147033691,\n",
       "    11.00350284576416,\n",
       "    8.918415069580078,\n",
       "    10.801648139953613,\n",
       "    12.216351509094238,\n",
       "    12.03868293762207,\n",
       "    10.66989803314209,\n",
       "    10.830023765563965,\n",
       "    11.048168182373047,\n",
       "    9.65781021118164,\n",
       "    11.888043403625488,\n",
       "    10.248665809631348,\n",
       "    11.109319686889648,\n",
       "    12.467811584472656,\n",
       "    9.450340270996094,\n",
       "    10.67967414855957,\n",
       "    11.848325729370117,\n",
       "    10.248820304870605,\n",
       "    12.061324119567871,\n",
       "    12.259833335876465,\n",
       "    11.330087661743164,\n",
       "    11.153275489807129,\n",
       "    10.959449768066406,\n",
       "    10.003541946411133,\n",
       "    10.6888427734375,\n",
       "    10.973030090332031,\n",
       "    10.749985694885254,\n",
       "    12.447431564331055,\n",
       "    10.663960456848145,\n",
       "    11.191773414611816,\n",
       "    11.26107120513916,\n",
       "    11.212928771972656,\n",
       "    11.012125015258789,\n",
       "    11.445920944213867,\n",
       "    12.038416862487793,\n",
       "    11.44981575012207,\n",
       "    10.053457260131836,\n",
       "    11.78219985961914,\n",
       "    11.94158935546875,\n",
       "    11.4358549118042,\n",
       "    11.702339172363281,\n",
       "    10.370556831359863,\n",
       "    11.212306022644043,\n",
       "    10.867876052856445,\n",
       "    10.883854866027832,\n",
       "    13.239042282104492,\n",
       "    11.222707748413086,\n",
       "    11.517318725585938,\n",
       "    10.808760643005371,\n",
       "    11.356101036071777,\n",
       "    10.783841133117676,\n",
       "    11.515158653259277,\n",
       "    11.228110313415527,\n",
       "    10.067593574523926,\n",
       "    11.562366485595703,\n",
       "    11.042348861694336,\n",
       "    10.75961685180664,\n",
       "    10.8844575881958,\n",
       "    10.337995529174805,\n",
       "    11.866018295288086,\n",
       "    10.87281608581543,\n",
       "    11.169349670410156,\n",
       "    11.632999420166016,\n",
       "    10.29112720489502,\n",
       "    10.423009872436523,\n",
       "    10.895495414733887,\n",
       "    9.21273422241211,\n",
       "    10.81175708770752,\n",
       "    10.4199857711792,\n",
       "    10.475593566894531,\n",
       "    10.565390586853027,\n",
       "    10.337068557739258,\n",
       "    11.387420654296875,\n",
       "    11.807286262512207,\n",
       "    9.855154037475586,\n",
       "    8.227776527404785,\n",
       "    10.016403198242188,\n",
       "    10.1276273727417,\n",
       "    11.758825302124023,\n",
       "    11.296390533447266,\n",
       "    10.08142375946045,\n",
       "    11.267614364624023,\n",
       "    10.683544158935547,\n",
       "    10.374760627746582,\n",
       "    10.377504348754883,\n",
       "    11.606332778930664,\n",
       "    11.38742446899414,\n",
       "    10.75324821472168,\n",
       "    11.374617576599121,\n",
       "    10.21124267578125,\n",
       "    10.461721420288086,\n",
       "    12.466194152832031,\n",
       "    11.524468421936035,\n",
       "    11.750764846801758,\n",
       "    11.784144401550293,\n",
       "    9.334238052368164,\n",
       "    10.895097732543945,\n",
       "    11.253421783447266,\n",
       "    12.172286033630371,\n",
       "    10.195233345031738,\n",
       "    12.26242446899414,\n",
       "    12.016292572021484,\n",
       "    11.323739051818848,\n",
       "    9.748090744018555,\n",
       "    11.252737998962402,\n",
       "    11.134539604187012,\n",
       "    10.150842666625977,\n",
       "    11.72793197631836,\n",
       "    11.356109619140625,\n",
       "    11.312576293945312,\n",
       "    11.108439445495605,\n",
       "    10.270122528076172,\n",
       "    11.145028114318848,\n",
       "    12.315154075622559,\n",
       "    10.969172477722168,\n",
       "    10.622982025146484,\n",
       "    10.495992660522461,\n",
       "    10.8917818069458,\n",
       "    11.055449485778809,\n",
       "    12.190858840942383,\n",
       "    11.130532264709473,\n",
       "    9.889053344726562,\n",
       "    11.379257202148438,\n",
       "    11.25987720489502,\n",
       "    11.852267265319824,\n",
       "    10.701428413391113,\n",
       "    10.290304183959961,\n",
       "    10.87329387664795,\n",
       "    12.776119232177734,\n",
       "    10.87840461730957,\n",
       "    8.704195976257324,\n",
       "    10.193207740783691,\n",
       "    12.384352684020996,\n",
       "    11.221572875976562,\n",
       "    12.246072769165039,\n",
       "    10.774137496948242,\n",
       "    11.890950202941895,\n",
       "    10.627833366394043,\n",
       "    9.894898414611816,\n",
       "    10.13881778717041,\n",
       "    11.85916519165039,\n",
       "    10.054424285888672,\n",
       "    9.903319358825684,\n",
       "    12.502674102783203,\n",
       "    11.599148750305176,\n",
       "    10.888238906860352,\n",
       "    9.973769187927246,\n",
       "    11.905189514160156,\n",
       "    10.057205200195312,\n",
       "    9.420507431030273,\n",
       "    9.662514686584473,\n",
       "    11.009581565856934,\n",
       "    11.475749015808105,\n",
       "    11.20309829711914,\n",
       "    12.985658645629883],\n",
       "   [9.044424057006836,\n",
       "    10.124435424804688,\n",
       "    9.081243515014648,\n",
       "    8.409942626953125,\n",
       "    9.52692985534668,\n",
       "    7.549410820007324,\n",
       "    8.188230514526367,\n",
       "    9.012564659118652,\n",
       "    8.407282829284668,\n",
       "    9.668181419372559,\n",
       "    7.913456439971924,\n",
       "    8.284021377563477,\n",
       "    7.865299701690674,\n",
       "    8.257713317871094,\n",
       "    9.161051750183105,\n",
       "    8.648605346679688,\n",
       "    8.557645797729492,\n",
       "    9.074874877929688,\n",
       "    9.826885223388672,\n",
       "    8.87309455871582,\n",
       "    9.288276672363281,\n",
       "    7.258702754974365,\n",
       "    8.913116455078125,\n",
       "    8.631795883178711,\n",
       "    9.727823257446289,\n",
       "    9.953551292419434,\n",
       "    8.490852355957031,\n",
       "    7.206363677978516,\n",
       "    9.311086654663086,\n",
       "    7.518727779388428,\n",
       "    9.376839637756348,\n",
       "    9.056256294250488,\n",
       "    8.676130294799805,\n",
       "    10.141814231872559,\n",
       "    7.568236351013184,\n",
       "    8.617348670959473,\n",
       "    7.956240177154541,\n",
       "    9.459572792053223,\n",
       "    8.805747032165527,\n",
       "    8.899553298950195,\n",
       "    8.15990161895752,\n",
       "    10.294356346130371,\n",
       "    9.24878215789795,\n",
       "    9.184460639953613,\n",
       "    8.464801788330078,\n",
       "    7.944775581359863,\n",
       "    7.227621078491211,\n",
       "    9.519513130187988,\n",
       "    8.308320045471191,\n",
       "    9.369294166564941,\n",
       "    7.272956371307373,\n",
       "    9.045170783996582,\n",
       "    7.683152675628662,\n",
       "    8.413482666015625,\n",
       "    7.838249206542969,\n",
       "    10.374391555786133,\n",
       "    9.166181564331055,\n",
       "    8.233240127563477,\n",
       "    8.859515190124512,\n",
       "    8.810298919677734,\n",
       "    8.83505916595459,\n",
       "    8.0935697555542,\n",
       "    8.35629653930664,\n",
       "    8.98621940612793,\n",
       "    7.9610595703125,\n",
       "    9.046722412109375,\n",
       "    8.583954811096191,\n",
       "    8.26345443725586,\n",
       "    7.7527570724487305,\n",
       "    7.571438312530518,\n",
       "    8.606441497802734,\n",
       "    9.340514183044434,\n",
       "    8.27055835723877,\n",
       "    8.50072193145752,\n",
       "    8.627846717834473,\n",
       "    8.571170806884766,\n",
       "    9.99752140045166,\n",
       "    7.936114311218262,\n",
       "    7.867501735687256,\n",
       "    10.707833290100098,\n",
       "    7.445272922515869,\n",
       "    8.047698974609375,\n",
       "    9.161498069763184,\n",
       "    7.604276180267334,\n",
       "    9.666399002075195,\n",
       "    8.320428848266602,\n",
       "    8.655978202819824,\n",
       "    8.672332763671875,\n",
       "    7.5275678634643555,\n",
       "    8.52609920501709,\n",
       "    6.9649834632873535,\n",
       "    9.141655921936035,\n",
       "    7.428206443786621,\n",
       "    7.927908897399902,\n",
       "    7.909707069396973,\n",
       "    9.316296577453613,\n",
       "    7.8021159172058105,\n",
       "    8.517663955688477,\n",
       "    7.282992362976074,\n",
       "    9.064887046813965,\n",
       "    7.435282230377197,\n",
       "    8.754281044006348,\n",
       "    8.60625171661377,\n",
       "    8.047652244567871,\n",
       "    8.474103927612305,\n",
       "    7.55044412612915,\n",
       "    8.170337677001953,\n",
       "    8.301081657409668,\n",
       "    8.763032913208008,\n",
       "    8.904119491577148,\n",
       "    9.326375961303711,\n",
       "    8.535523414611816,\n",
       "    7.626972198486328,\n",
       "    7.524410724639893,\n",
       "    8.150551795959473,\n",
       "    9.034879684448242,\n",
       "    8.8897123336792,\n",
       "    8.763263702392578,\n",
       "    9.012887954711914,\n",
       "    9.209883689880371,\n",
       "    8.557174682617188,\n",
       "    7.288038730621338,\n",
       "    8.434332847595215,\n",
       "    9.312129020690918,\n",
       "    8.59759521484375,\n",
       "    11.029332160949707,\n",
       "    10.253153800964355,\n",
       "    10.252667427062988,\n",
       "    8.614084243774414,\n",
       "    8.713719367980957,\n",
       "    8.542308807373047,\n",
       "    9.248167991638184,\n",
       "    9.844135284423828,\n",
       "    9.266124725341797,\n",
       "    8.373636245727539,\n",
       "    8.346505165100098,\n",
       "    7.649301528930664,\n",
       "    9.563982009887695,\n",
       "    8.62503433227539,\n",
       "    8.752680778503418,\n",
       "    9.411534309387207,\n",
       "    7.382783889770508,\n",
       "    8.780842781066895,\n",
       "    7.201757431030273,\n",
       "    9.47341537475586,\n",
       "    7.908054828643799,\n",
       "    8.479121208190918,\n",
       "    9.955353736877441,\n",
       "    8.61233901977539,\n",
       "    8.320586204528809,\n",
       "    8.812246322631836,\n",
       "    7.769952297210693,\n",
       "    7.23579216003418,\n",
       "    9.056170463562012,\n",
       "    7.538118362426758,\n",
       "    9.293476104736328,\n",
       "    8.752702713012695,\n",
       "    9.769919395446777,\n",
       "    7.737459182739258,\n",
       "    8.308506965637207,\n",
       "    8.27226734161377,\n",
       "    9.510777473449707,\n",
       "    9.951083183288574,\n",
       "    8.976335525512695,\n",
       "    8.6878023147583,\n",
       "    9.063783645629883,\n",
       "    9.00007438659668,\n",
       "    9.102458000183105,\n",
       "    8.513191223144531,\n",
       "    8.465299606323242,\n",
       "    9.171741485595703,\n",
       "    9.976884841918945,\n",
       "    9.466629981994629,\n",
       "    8.66307544708252,\n",
       "    8.039775848388672,\n",
       "    9.107281684875488,\n",
       "    8.333263397216797,\n",
       "    8.787670135498047,\n",
       "    9.473952293395996,\n",
       "    8.176776885986328,\n",
       "    8.900185585021973,\n",
       "    8.043811798095703,\n",
       "    8.81551456451416,\n",
       "    8.516519546508789,\n",
       "    9.654760360717773,\n",
       "    8.52375316619873,\n",
       "    9.206710815429688,\n",
       "    8.608443260192871,\n",
       "    9.532245635986328,\n",
       "    9.726510047912598,\n",
       "    8.592339515686035,\n",
       "    7.973489761352539,\n",
       "    7.272417068481445,\n",
       "    8.428999900817871,\n",
       "    7.94862699508667,\n",
       "    8.359564781188965,\n",
       "    8.523930549621582,\n",
       "    7.906520843505859,\n",
       "    8.348292350769043,\n",
       "    8.592514038085938,\n",
       "    7.518421649932861,\n",
       "    8.412338256835938,\n",
       "    8.281840324401855,\n",
       "    8.339325904846191,\n",
       "    9.489564895629883,\n",
       "    9.11091423034668,\n",
       "    8.804758071899414,\n",
       "    9.509255409240723,\n",
       "    8.684508323669434,\n",
       "    8.111641883850098,\n",
       "    8.924052238464355,\n",
       "    9.481378555297852,\n",
       "    8.969779968261719,\n",
       "    8.773633003234863,\n",
       "    7.534003734588623,\n",
       "    9.56811237335205,\n",
       "    8.463492393493652,\n",
       "    8.230494499206543,\n",
       "    8.754168510437012,\n",
       "    7.605158805847168,\n",
       "    8.781982421875,\n",
       "    9.973618507385254,\n",
       "    7.123119831085205,\n",
       "    7.723308563232422,\n",
       "    9.62379264831543,\n",
       "    8.356247901916504,\n",
       "    8.82512092590332,\n",
       "    8.530242919921875,\n",
       "    9.02653694152832,\n",
       "    9.049351692199707,\n",
       "    8.267694473266602,\n",
       "    8.482795715332031,\n",
       "    8.707219123840332,\n",
       "    8.406694412231445,\n",
       "    7.7002153396606445,\n",
       "    9.597357749938965,\n",
       "    8.965346336364746,\n",
       "    7.813732624053955,\n",
       "    10.20193099975586,\n",
       "    6.55678129196167,\n",
       "    8.76852798461914,\n",
       "    8.964550018310547,\n",
       "    7.025518417358398,\n",
       "    8.803239822387695,\n",
       "    10.279595375061035,\n",
       "    9.64130973815918,\n",
       "    8.857856750488281,\n",
       "    9.535839080810547,\n",
       "    9.17078971862793,\n",
       "    8.657830238342285,\n",
       "    8.281564712524414,\n",
       "    8.367584228515625,\n",
       "    7.872084140777588,\n",
       "    7.118863105773926,\n",
       "    8.776119232177734,\n",
       "    8.234334945678711,\n",
       "    8.416182518005371,\n",
       "    8.934772491455078,\n",
       "    8.806254386901855,\n",
       "    8.61589527130127,\n",
       "    10.305184364318848,\n",
       "    8.369635581970215,\n",
       "    8.88428020477295,\n",
       "    9.562053680419922,\n",
       "    8.41627025604248,\n",
       "    7.871985912322998,\n",
       "    7.637263774871826,\n",
       "    8.405303955078125,\n",
       "    10.2816743850708,\n",
       "    8.733604431152344,\n",
       "    8.825821876525879,\n",
       "    7.3864216804504395,\n",
       "    8.625877380371094,\n",
       "    9.129693031311035,\n",
       "    8.89566707611084,\n",
       "    8.511202812194824,\n",
       "    9.176506996154785,\n",
       "    8.747420310974121,\n",
       "    8.24439525604248,\n",
       "    7.349756240844727,\n",
       "    7.373679161071777,\n",
       "    8.692657470703125,\n",
       "    7.138994216918945,\n",
       "    8.254753112792969,\n",
       "    9.540060997009277,\n",
       "    8.585915565490723,\n",
       "    9.229472160339355,\n",
       "    9.861551284790039,\n",
       "    8.605208396911621,\n",
       "    8.061517715454102,\n",
       "    7.624711513519287,\n",
       "    9.293291091918945,\n",
       "    7.142894744873047,\n",
       "    9.865065574645996,\n",
       "    8.998682022094727,\n",
       "    8.43110466003418,\n",
       "    8.830795288085938,\n",
       "    8.516729354858398,\n",
       "    8.803943634033203,\n",
       "    7.155697345733643,\n",
       "    8.146419525146484,\n",
       "    8.179800987243652,\n",
       "    7.366611003875732,\n",
       "    8.711529731750488,\n",
       "    8.991256713867188,\n",
       "    8.419195175170898,\n",
       "    9.616679191589355,\n",
       "    8.676250457763672,\n",
       "    8.960756301879883,\n",
       "    8.581735610961914,\n",
       "    6.982267379760742,\n",
       "    8.041389465332031,\n",
       "    9.268838882446289,\n",
       "    9.773563385009766,\n",
       "    8.667160034179688,\n",
       "    10.803548812866211,\n",
       "    8.393877983093262,\n",
       "    7.921474456787109,\n",
       "    8.968925476074219,\n",
       "    7.988032817840576,\n",
       "    7.75703239440918,\n",
       "    7.2520623207092285,\n",
       "    8.884700775146484,\n",
       "    8.947785377502441,\n",
       "    8.711029052734375,\n",
       "    7.933985710144043,\n",
       "    8.348527908325195,\n",
       "    9.841320037841797,\n",
       "    7.940524101257324,\n",
       "    9.603619575500488,\n",
       "    7.994932174682617,\n",
       "    9.248647689819336,\n",
       "    9.284096717834473,\n",
       "    9.78799819946289,\n",
       "    7.955950736999512,\n",
       "    8.700843811035156,\n",
       "    9.033271789550781,\n",
       "    8.488299369812012,\n",
       "    10.493264198303223,\n",
       "    7.825911045074463,\n",
       "    8.5579833984375,\n",
       "    7.302883625030518,\n",
       "    9.049195289611816,\n",
       "    7.704421043395996,\n",
       "    7.674692153930664,\n",
       "    8.300834655761719,\n",
       "    9.2553071975708,\n",
       "    8.5668363571167,\n",
       "    9.871875762939453,\n",
       "    7.2743964195251465,\n",
       "    8.490507125854492,\n",
       "    7.9663190841674805,\n",
       "    10.183608055114746,\n",
       "    9.23732852935791,\n",
       "    7.801334381103516,\n",
       "    8.86791706085205,\n",
       "    8.937056541442871,\n",
       "    7.643308639526367,\n",
       "    8.355936050415039,\n",
       "    7.825161933898926,\n",
       "    8.918011665344238,\n",
       "    8.001991271972656,\n",
       "    10.14873218536377,\n",
       "    8.616737365722656,\n",
       "    9.143433570861816,\n",
       "    9.554313659667969,\n",
       "    9.622835159301758,\n",
       "    8.780743598937988,\n",
       "    8.50955581665039,\n",
       "    8.615185737609863,\n",
       "    8.673964500427246,\n",
       "    9.541666030883789,\n",
       "    7.532626152038574,\n",
       "    8.224772453308105,\n",
       "    8.578507423400879,\n",
       "    10.07141399383545,\n",
       "    8.032770156860352,\n",
       "    8.697257995605469,\n",
       "    7.4474873542785645,\n",
       "    9.16611385345459,\n",
       "    7.214025974273682,\n",
       "    8.91225814819336,\n",
       "    9.250898361206055,\n",
       "    8.050477027893066,\n",
       "    9.222569465637207,\n",
       "    8.383816719055176,\n",
       "    10.444223403930664,\n",
       "    8.787574768066406,\n",
       "    9.014542579650879,\n",
       "    9.171438217163086,\n",
       "    9.073318481445312,\n",
       "    8.706958770751953,\n",
       "    8.396495819091797,\n",
       "    8.068971633911133,\n",
       "    9.012194633483887,\n",
       "    9.198400497436523,\n",
       "    8.8981351852417,\n",
       "    8.864952087402344,\n",
       "    8.139198303222656,\n",
       "    7.213363170623779,\n",
       "    6.868247032165527,\n",
       "    9.283514976501465,\n",
       "    9.393214225769043,\n",
       "    8.416948318481445,\n",
       "    8.13301944732666,\n",
       "    9.13528823852539,\n",
       "    8.81462287902832,\n",
       "    8.91931438446045,\n",
       "    7.617619514465332,\n",
       "    8.604720115661621,\n",
       "    7.290419578552246,\n",
       "    7.741527080535889,\n",
       "    8.35425090789795,\n",
       "    8.928583145141602,\n",
       "    9.014452934265137,\n",
       "    7.241357803344727,\n",
       "    8.579366683959961,\n",
       "    7.577486515045166,\n",
       "    6.467574119567871,\n",
       "    9.055964469909668,\n",
       "    9.205459594726562,\n",
       "    8.713500022888184,\n",
       "    8.961711883544922,\n",
       "    8.85289192199707,\n",
       "    8.801188468933105,\n",
       "    8.394579887390137,\n",
       "    7.452306747436523,\n",
       "    9.615070343017578,\n",
       "    8.872150421142578,\n",
       "    9.145583152770996,\n",
       "    8.987192153930664,\n",
       "    8.13525104522705,\n",
       "    9.122227668762207,\n",
       "    8.597190856933594,\n",
       "    7.370787143707275,\n",
       "    8.169207572937012,\n",
       "    8.294952392578125,\n",
       "    9.314804077148438,\n",
       "    8.620429039001465,\n",
       "    8.618446350097656,\n",
       "    9.11911678314209,\n",
       "    8.437250137329102,\n",
       "    8.567193031311035,\n",
       "    8.255721092224121,\n",
       "    8.032241821289062,\n",
       "    9.458831787109375,\n",
       "    10.710408210754395,\n",
       "    9.197164535522461,\n",
       "    8.555265426635742,\n",
       "    8.550036430358887,\n",
       "    8.703255653381348,\n",
       "    9.398103713989258,\n",
       "    8.18521499633789,\n",
       "    8.431838035583496,\n",
       "    9.398600578308105,\n",
       "    10.575486183166504,\n",
       "    7.965925693511963,\n",
       "    8.72146224975586,\n",
       "    7.312179088592529,\n",
       "    8.304584503173828,\n",
       "    9.123558044433594,\n",
       "    9.188611030578613,\n",
       "    7.892683982849121,\n",
       "    8.892251968383789,\n",
       "    8.397494316101074,\n",
       "    8.93458366394043,\n",
       "    9.463107109069824,\n",
       "    7.881043434143066,\n",
       "    8.619236946105957,\n",
       "    8.37472915649414,\n",
       "    8.189411163330078,\n",
       "    7.307557106018066,\n",
       "    10.319047927856445,\n",
       "    8.347155570983887,\n",
       "    8.435428619384766,\n",
       "    7.925853252410889,\n",
       "    8.664966583251953,\n",
       "    8.003008842468262,\n",
       "    8.882383346557617,\n",
       "    8.328577995300293,\n",
       "    8.620465278625488,\n",
       "    7.9823832511901855,\n",
       "    9.734667778015137,\n",
       "    7.822257995605469,\n",
       "    8.703405380249023,\n",
       "    8.501701354980469,\n",
       "    7.950918674468994,\n",
       "    8.080693244934082,\n",
       "    8.018515586853027,\n",
       "    8.64245891571045,\n",
       "    8.168814659118652,\n",
       "    8.259968757629395,\n",
       "    8.300180435180664,\n",
       "    8.81694507598877,\n",
       "    8.676225662231445,\n",
       "    8.408195495605469,\n",
       "    6.666338920593262,\n",
       "    8.288129806518555,\n",
       "    8.104490280151367,\n",
       "    8.912046432495117,\n",
       "    8.774710655212402,\n",
       "    7.843875408172607,\n",
       "    8.002367973327637,\n",
       "    8.02308464050293,\n",
       "    8.332192420959473,\n",
       "    7.694790363311768,\n",
       "    7.0300092697143555,\n",
       "    7.046313285827637,\n",
       "    9.065162658691406,\n",
       "    9.12148666381836,\n",
       "    9.589475631713867,\n",
       "    8.304564476013184,\n",
       "    7.961014747619629,\n",
       "    9.462961196899414,\n",
       "    9.045321464538574,\n",
       "    9.110736846923828,\n",
       "    9.010915756225586,\n",
       "    7.173088073730469,\n",
       "    8.627598762512207,\n",
       "    8.128183364868164,\n",
       "    8.830464363098145,\n",
       "    7.590054988861084,\n",
       "    7.949373245239258,\n",
       "    7.113448143005371,\n",
       "    7.699595928192139,\n",
       "    8.839208602905273,\n",
       "    9.478641510009766,\n",
       "    8.510649681091309,\n",
       "    9.037508010864258,\n",
       "    7.279356956481934,\n",
       "    7.999396800994873,\n",
       "    8.505181312561035,\n",
       "    8.393020629882812,\n",
       "    7.777120113372803,\n",
       "    7.206308364868164,\n",
       "    9.227705001831055],\n",
       "   [6.176347255706787,\n",
       "    5.694530010223389,\n",
       "    5.779790878295898,\n",
       "    6.932558059692383,\n",
       "    6.38516092300415,\n",
       "    7.0902276039123535,\n",
       "    7.251725673675537,\n",
       "    5.457594871520996,\n",
       "    6.05514669418335,\n",
       "    7.621921062469482,\n",
       "    5.976374626159668,\n",
       "    6.410350799560547,\n",
       "    6.2574005126953125,\n",
       "    6.325606346130371,\n",
       "    5.443533420562744,\n",
       "    7.733724594116211,\n",
       "    7.366811752319336,\n",
       "    5.804844379425049,\n",
       "    6.664515495300293,\n",
       "    7.085330963134766,\n",
       "    6.625879764556885,\n",
       "    6.732481002807617,\n",
       "    5.621792793273926,\n",
       "    8.280722618103027,\n",
       "    8.023958206176758,\n",
       "    6.22327995300293,\n",
       "    6.763762474060059,\n",
       "    6.736435890197754,\n",
       "    5.655642032623291,\n",
       "    6.75347900390625,\n",
       "    6.875180244445801,\n",
       "    6.103917121887207,\n",
       "    6.581114292144775,\n",
       "    5.9362945556640625,\n",
       "    6.54780912399292,\n",
       "    5.957645416259766,\n",
       "    6.663914680480957,\n",
       "    7.377346515655518,\n",
       "    6.2062859535217285,\n",
       "    5.951090335845947,\n",
       "    6.243215560913086,\n",
       "    5.968358039855957,\n",
       "    7.661776065826416,\n",
       "    6.44760799407959,\n",
       "    6.310572147369385,\n",
       "    6.787344932556152,\n",
       "    7.1522135734558105,\n",
       "    6.6655449867248535,\n",
       "    6.355737209320068,\n",
       "    6.068178653717041,\n",
       "    6.6620354652404785,\n",
       "    6.782692909240723,\n",
       "    5.251371383666992,\n",
       "    7.526838302612305,\n",
       "    6.333653450012207,\n",
       "    6.155873775482178,\n",
       "    5.969542503356934,\n",
       "    5.888175964355469,\n",
       "    6.153653621673584,\n",
       "    6.974421977996826,\n",
       "    6.935638427734375,\n",
       "    6.1679840087890625,\n",
       "    5.073781967163086,\n",
       "    6.834982395172119,\n",
       "    7.028167247772217,\n",
       "    6.333239555358887,\n",
       "    5.721370697021484,\n",
       "    5.774321556091309,\n",
       "    6.9479475021362305,\n",
       "    7.078952312469482,\n",
       "    5.994307518005371,\n",
       "    7.2728376388549805,\n",
       "    7.0676164627075195,\n",
       "    6.788761138916016,\n",
       "    6.356638431549072,\n",
       "    6.544823169708252,\n",
       "    5.999679088592529,\n",
       "    6.685506343841553,\n",
       "    5.725490570068359,\n",
       "    7.273926734924316,\n",
       "    7.763895511627197,\n",
       "    7.394420146942139,\n",
       "    7.2951130867004395,\n",
       "    7.457157611846924,\n",
       "    6.294042587280273,\n",
       "    6.817459583282471,\n",
       "    6.925312519073486,\n",
       "    6.489426136016846,\n",
       "    5.8644819259643555,\n",
       "    5.560474872589111,\n",
       "    5.629986763000488,\n",
       "    7.168950080871582,\n",
       "    6.1854047775268555,\n",
       "    6.333634376525879,\n",
       "    6.405902862548828,\n",
       "    6.727243423461914,\n",
       "    6.228157043457031,\n",
       "    7.7419939041137695,\n",
       "    5.960951328277588,\n",
       "    6.882959365844727,\n",
       "    7.156706809997559,\n",
       "    6.840111255645752,\n",
       "    7.000941753387451,\n",
       "    7.486767292022705,\n",
       "    7.397761821746826,\n",
       "    5.492088317871094,\n",
       "    6.201436996459961,\n",
       "    6.400200843811035,\n",
       "    6.426283836364746,\n",
       "    7.560095310211182,\n",
       "    6.587496757507324,\n",
       "    6.053938388824463,\n",
       "    6.39475154876709,\n",
       "    6.972494125366211,\n",
       "    5.656594276428223,\n",
       "    7.417714595794678,\n",
       "    5.953610420227051,\n",
       "    7.729714393615723,\n",
       "    6.971635341644287,\n",
       "    6.05320405960083,\n",
       "    6.215728282928467,\n",
       "    6.424994468688965,\n",
       "    6.89994478225708,\n",
       "    6.659892559051514,\n",
       "    6.882658004760742,\n",
       "    6.290218353271484,\n",
       "    5.937330722808838,\n",
       "    7.82718563079834,\n",
       "    7.418651580810547,\n",
       "    8.055784225463867,\n",
       "    7.428741931915283,\n",
       "    6.409925937652588,\n",
       "    6.008365631103516,\n",
       "    5.057679176330566,\n",
       "    6.979191780090332,\n",
       "    5.703127384185791,\n",
       "    5.468027591705322,\n",
       "    5.879454612731934,\n",
       "    7.25679874420166,\n",
       "    6.284131050109863,\n",
       "    6.37177848815918,\n",
       "    5.753161430358887,\n",
       "    7.440002918243408,\n",
       "    6.784994125366211,\n",
       "    6.962947845458984,\n",
       "    5.729739665985107,\n",
       "    6.738137722015381,\n",
       "    6.443274974822998,\n",
       "    7.488074779510498,\n",
       "    6.369303226470947,\n",
       "    6.338803291320801,\n",
       "    4.580220699310303,\n",
       "    6.499024391174316,\n",
       "    6.454927921295166,\n",
       "    7.505026817321777,\n",
       "    6.248019218444824,\n",
       "    8.006383895874023,\n",
       "    5.765219211578369,\n",
       "    8.338578224182129,\n",
       "    5.619727611541748,\n",
       "    6.648509979248047,\n",
       "    6.191470623016357,\n",
       "    6.766561985015869,\n",
       "    5.849129676818848,\n",
       "    6.140081882476807,\n",
       "    7.376400470733643,\n",
       "    7.9420671463012695,\n",
       "    6.364295959472656,\n",
       "    6.613590717315674,\n",
       "    6.62675142288208,\n",
       "    7.114208698272705,\n",
       "    6.076672554016113,\n",
       "    7.397578716278076,\n",
       "    6.066224575042725,\n",
       "    5.627422332763672,\n",
       "    6.671511650085449,\n",
       "    5.929060935974121,\n",
       "    6.272045612335205,\n",
       "    5.885786056518555,\n",
       "    6.014928817749023,\n",
       "    6.312049865722656,\n",
       "    6.546761512756348,\n",
       "    6.9833197593688965,\n",
       "    6.217831611633301,\n",
       "    6.334920406341553,\n",
       "    6.135789394378662,\n",
       "    7.492424964904785,\n",
       "    5.697948932647705,\n",
       "    6.2360758781433105,\n",
       "    6.968046188354492,\n",
       "    5.918130874633789,\n",
       "    6.459839820861816,\n",
       "    6.87565803527832,\n",
       "    5.56422758102417,\n",
       "    5.457033634185791,\n",
       "    5.9528021812438965,\n",
       "    7.298600196838379,\n",
       "    5.571107864379883,\n",
       "    6.655577659606934,\n",
       "    8.228346824645996,\n",
       "    7.082873821258545,\n",
       "    6.244068622589111,\n",
       "    6.105336666107178,\n",
       "    6.091423988342285,\n",
       "    6.425191879272461,\n",
       "    5.472606182098389,\n",
       "    6.450919151306152,\n",
       "    7.4193525314331055,\n",
       "    6.463132858276367,\n",
       "    6.781471252441406,\n",
       "    6.4950737953186035,\n",
       "    6.980098247528076,\n",
       "    6.169894695281982,\n",
       "    6.808981418609619,\n",
       "    5.224420070648193,\n",
       "    6.929275989532471,\n",
       "    7.153383731842041,\n",
       "    7.737541675567627,\n",
       "    6.776846408843994,\n",
       "    8.360547065734863,\n",
       "    6.718451023101807,\n",
       "    5.894730091094971,\n",
       "    6.869084358215332,\n",
       "    5.780732154846191,\n",
       "    6.0794477462768555,\n",
       "    7.05849552154541,\n",
       "    5.760733127593994,\n",
       "    6.667373180389404,\n",
       "    6.439628601074219,\n",
       "    6.584817886352539,\n",
       "    7.451225757598877,\n",
       "    5.909560203552246,\n",
       "    5.152910232543945,\n",
       "    5.476332187652588,\n",
       "    6.628320217132568,\n",
       "    5.244345664978027,\n",
       "    7.67056941986084,\n",
       "    7.141856670379639,\n",
       "    6.743862152099609,\n",
       "    6.998725891113281,\n",
       "    6.470097064971924,\n",
       "    5.75518274307251,\n",
       "    5.78383731842041,\n",
       "    6.107753276824951,\n",
       "    6.898482799530029,\n",
       "    6.6981706619262695,\n",
       "    6.886767864227295,\n",
       "    6.426526069641113,\n",
       "    6.908196926116943,\n",
       "    6.234683036804199,\n",
       "    7.401698112487793,\n",
       "    7.9935688972473145,\n",
       "    5.912888526916504,\n",
       "    7.649509906768799,\n",
       "    5.890964984893799,\n",
       "    6.359225273132324,\n",
       "    6.030736446380615,\n",
       "    7.17371129989624,\n",
       "    7.199540138244629,\n",
       "    5.411268711090088,\n",
       "    6.36890983581543,\n",
       "    5.416337013244629,\n",
       "    6.516242027282715,\n",
       "    6.111664295196533,\n",
       "    7.245363235473633,\n",
       "    6.284537315368652,\n",
       "    5.997581481933594,\n",
       "    7.767840385437012,\n",
       "    4.916043281555176,\n",
       "    6.384561538696289,\n",
       "    7.608463287353516,\n",
       "    5.019754886627197,\n",
       "    7.167695045471191,\n",
       "    5.793270111083984,\n",
       "    6.654978275299072,\n",
       "    7.309728622436523,\n",
       "    7.660565376281738,\n",
       "    7.9703755378723145,\n",
       "    7.061074733734131,\n",
       "    6.71242094039917,\n",
       "    6.865499496459961,\n",
       "    7.909425258636475,\n",
       "    7.080774307250977,\n",
       "    6.321897029876709,\n",
       "    6.649096488952637,\n",
       "    7.325055122375488,\n",
       "    5.655544281005859,\n",
       "    6.956130504608154,\n",
       "    6.076715469360352,\n",
       "    7.061896800994873,\n",
       "    6.292652606964111,\n",
       "    6.452226638793945,\n",
       "    6.550590515136719,\n",
       "    5.645053386688232,\n",
       "    6.794425010681152,\n",
       "    6.21554708480835,\n",
       "    6.50417423248291,\n",
       "    5.604781150817871,\n",
       "    7.507829666137695,\n",
       "    5.919663906097412,\n",
       "    5.615235328674316,\n",
       "    7.173098564147949,\n",
       "    6.327249050140381,\n",
       "    5.854453086853027,\n",
       "    5.532841682434082,\n",
       "    6.1593217849731445,\n",
       "    6.4757304191589355,\n",
       "    6.315613746643066,\n",
       "    6.123935699462891,\n",
       "    6.781993865966797,\n",
       "    5.99275016784668,\n",
       "    7.2738847732543945,\n",
       "    7.322234630584717,\n",
       "    6.187683582305908,\n",
       "    6.082581996917725,\n",
       "    7.261517524719238,\n",
       "    5.196944713592529,\n",
       "    7.1182355880737305,\n",
       "    6.041680812835693,\n",
       "    6.917208671569824,\n",
       "    6.562018394470215,\n",
       "    8.376189231872559,\n",
       "    5.146981239318848,\n",
       "    7.60663366317749,\n",
       "    6.552862167358398,\n",
       "    5.201222896575928,\n",
       "    5.407698631286621,\n",
       "    5.715559959411621,\n",
       "    5.126369476318359,\n",
       "    5.031243324279785,\n",
       "    6.648217678070068,\n",
       "    7.235194683074951,\n",
       "    6.880026817321777,\n",
       "    6.9880194664001465,\n",
       "    6.000022888183594,\n",
       "    7.861301898956299,\n",
       "    6.306357383728027,\n",
       "    5.571048736572266,\n",
       "    6.004325866699219,\n",
       "    6.6533708572387695,\n",
       "    5.4370598793029785,\n",
       "    7.995724201202393,\n",
       "    6.329532146453857,\n",
       "    6.133126735687256,\n",
       "    6.703456401824951,\n",
       "    7.487766265869141,\n",
       "    5.78209114074707,\n",
       "    5.335708141326904,\n",
       "    5.273913383483887,\n",
       "    6.268187522888184,\n",
       "    6.409919738769531,\n",
       "    6.44194221496582,\n",
       "    7.370935440063477,\n",
       "    7.7391228675842285,\n",
       "    7.4635210037231445,\n",
       "    7.833575248718262,\n",
       "    6.681657314300537,\n",
       "    5.589295387268066,\n",
       "    6.024156093597412,\n",
       "    6.639377117156982,\n",
       "    6.97717809677124,\n",
       "    6.922048091888428,\n",
       "    7.188174247741699,\n",
       "    6.805830001831055,\n",
       "    5.527560234069824,\n",
       "    5.428332805633545,\n",
       "    5.253168106079102,\n",
       "    7.6377058029174805,\n",
       "    5.711365222930908,\n",
       "    6.823042392730713,\n",
       "    5.5067853927612305,\n",
       "    5.978914260864258,\n",
       "    6.625545501708984,\n",
       "    7.261420249938965,\n",
       "    6.775581359863281,\n",
       "    5.385644435882568,\n",
       "    6.367657661437988,\n",
       "    6.189383506774902,\n",
       "    7.064384937286377,\n",
       "    7.267295837402344,\n",
       "    6.257901191711426,\n",
       "    7.572440147399902,\n",
       "    6.3576555252075195,\n",
       "    7.126232147216797,\n",
       "    6.493407249450684,\n",
       "    5.813170433044434,\n",
       "    6.218745231628418,\n",
       "    6.726201057434082,\n",
       "    5.67060661315918,\n",
       "    6.131381988525391,\n",
       "    8.061027526855469,\n",
       "    7.348657608032227,\n",
       "    6.482172966003418,\n",
       "    5.280065536499023,\n",
       "    7.357781887054443,\n",
       "    6.026091575622559,\n",
       "    5.395074844360352,\n",
       "    6.78795862197876,\n",
       "    5.859077453613281,\n",
       "    6.635002613067627,\n",
       "    6.672267436981201,\n",
       "    7.432249069213867,\n",
       "    5.613513469696045,\n",
       "    6.642764568328857,\n",
       "    5.6092658042907715,\n",
       "    6.680134296417236,\n",
       "    6.686321258544922,\n",
       "    6.5495500564575195,\n",
       "    6.199855804443359,\n",
       "    5.365530014038086,\n",
       "    6.36090612411499,\n",
       "    6.272241592407227,\n",
       "    6.721160411834717,\n",
       "    6.535138130187988,\n",
       "    6.2217841148376465,\n",
       "    6.264651298522949,\n",
       "    6.910617351531982,\n",
       "    6.673022270202637,\n",
       "    5.779728889465332,\n",
       "    7.54592227935791,\n",
       "    6.029754638671875,\n",
       "    5.153057098388672,\n",
       "    5.2686448097229,\n",
       "    5.845351696014404,\n",
       "    6.692759990692139,\n",
       "    4.999555587768555,\n",
       "    5.7792792320251465,\n",
       "    6.672338962554932,\n",
       "    7.2740797996521,\n",
       "    6.823965549468994,\n",
       "    7.938591957092285,\n",
       "    5.854622840881348,\n",
       "    7.081638813018799,\n",
       "    6.794650077819824,\n",
       "    6.905900955200195,\n",
       "    6.622790813446045,\n",
       "    5.30099630355835,\n",
       "    6.2461628913879395,\n",
       "    6.110677719116211,\n",
       "    6.657320022583008,\n",
       "    7.111541748046875,\n",
       "    6.670907020568848,\n",
       "    5.951339244842529,\n",
       "    5.406612873077393,\n",
       "    6.397697925567627,\n",
       "    6.9541425704956055,\n",
       "    7.250533103942871,\n",
       "    6.176143169403076,\n",
       "    6.338479518890381,\n",
       "    6.555093288421631,\n",
       "    6.6445794105529785,\n",
       "    6.899037837982178,\n",
       "    6.453738689422607,\n",
       "    5.989450454711914,\n",
       "    6.071560382843018,\n",
       "    7.06386137008667,\n",
       "    7.103687286376953,\n",
       "    5.539539337158203,\n",
       "    5.845955848693848,\n",
       "    7.010980129241943,\n",
       "    7.211377143859863,\n",
       "    5.859223365783691,\n",
       "    5.122995853424072,\n",
       "    7.440246105194092,\n",
       "    6.518027305603027,\n",
       "    6.618076324462891,\n",
       "    5.922545433044434,\n",
       "    7.648507118225098,\n",
       "    4.718914985656738,\n",
       "    5.734625816345215,\n",
       "    6.628301620483398,\n",
       "    6.2342848777771,\n",
       "    6.3978118896484375,\n",
       "    6.378297805786133,\n",
       "    7.361445426940918,\n",
       "    5.508749961853027,\n",
       "    6.090596675872803,\n",
       "    5.613624095916748,\n",
       "    6.265907287597656,\n",
       "    6.845890522003174,\n",
       "    5.607343673706055,\n",
       "    6.266789436340332,\n",
       "    5.954226493835449,\n",
       "    5.5184407234191895,\n",
       "    5.603538990020752,\n",
       "    6.4830098152160645,\n",
       "    6.9347944259643555,\n",
       "    7.253077983856201,\n",
       "    6.216824531555176,\n",
       "    6.207423210144043,\n",
       "    6.0225830078125,\n",
       "    6.4251837730407715,\n",
       "    5.855827331542969,\n",
       "    6.700743198394775,\n",
       "    6.827056884765625,\n",
       "    6.960354804992676,\n",
       "    6.536708354949951,\n",
       "    6.258561134338379,\n",
       "    6.318696975708008,\n",
       "    7.071379661560059,\n",
       "    6.884131908416748,\n",
       "    5.285240173339844,\n",
       "    6.971498489379883,\n",
       "    6.415650367736816,\n",
       "    7.389290809631348,\n",
       "    6.244811534881592,\n",
       "    5.578489303588867,\n",
       "    7.0389862060546875,\n",
       "    7.1101460456848145,\n",
       "    6.830610752105713,\n",
       "    5.6332573890686035,\n",
       "    7.477992057800293,\n",
       "    6.892429351806641,\n",
       "    6.084135055541992,\n",
       "    7.130622863769531,\n",
       "    7.240082263946533,\n",
       "    6.762060165405273,\n",
       "    6.327508926391602,\n",
       "    5.745650291442871,\n",
       "    7.286155700683594,\n",
       "    6.479913234710693,\n",
       "    6.437994480133057,\n",
       "    6.05764627456665,\n",
       "    6.6127705574035645,\n",
       "    5.699431419372559,\n",
       "    7.547414302825928,\n",
       "    5.367857933044434,\n",
       "    6.582363605499268,\n",
       "    7.70688009262085,\n",
       "    6.886938095092773,\n",
       "    5.857229709625244,\n",
       "    5.6662187576293945,\n",
       "    6.978599548339844,\n",
       "    4.748592376708984,\n",
       "    8.752823829650879,\n",
       "    8.882584571838379],\n",
       "   [5.2666425704956055,\n",
       "    5.444337844848633,\n",
       "    4.943405628204346,\n",
       "    4.776228904724121,\n",
       "    4.688910961151123,\n",
       "    5.347850322723389,\n",
       "    5.3153605461120605,\n",
       "    5.201468467712402,\n",
       "    4.519615650177002,\n",
       "    4.850522518157959,\n",
       "    5.2738356590271,\n",
       "    4.737120628356934,\n",
       "    5.110550403594971,\n",
       "    6.054682731628418,\n",
       "    4.87577486038208,\n",
       "    4.3352251052856445,\n",
       "    6.454931735992432,\n",
       "    4.310975074768066,\n",
       "    4.747591018676758,\n",
       "    4.865859031677246,\n",
       "    4.9743194580078125,\n",
       "    4.681094169616699,\n",
       "    4.698554515838623,\n",
       "    5.28316068649292,\n",
       "    5.431077003479004,\n",
       "    5.503489971160889,\n",
       "    5.3902082443237305,\n",
       "    5.933886528015137,\n",
       "    6.25028133392334,\n",
       "    4.803271293640137,\n",
       "    4.361787796020508,\n",
       "    5.54896354675293,\n",
       "    5.4461469650268555,\n",
       "    5.203397274017334,\n",
       "    4.963068008422852,\n",
       "    5.234380722045898,\n",
       "    4.790261268615723,\n",
       "    4.918253421783447,\n",
       "    5.004953384399414,\n",
       "    5.440178871154785,\n",
       "    4.431705474853516,\n",
       "    5.704020023345947,\n",
       "    4.976518630981445,\n",
       "    5.440188884735107,\n",
       "    5.099549770355225,\n",
       "    4.874250888824463,\n",
       "    4.386145114898682,\n",
       "    4.254397869110107,\n",
       "    3.987258195877075,\n",
       "    4.9203619956970215,\n",
       "    5.0141119956970215,\n",
       "    5.6443328857421875,\n",
       "    5.444640159606934,\n",
       "    5.412371635437012,\n",
       "    4.546521186828613,\n",
       "    4.998251438140869,\n",
       "    4.870586395263672,\n",
       "    4.372551918029785,\n",
       "    5.737185478210449,\n",
       "    6.015780448913574,\n",
       "    5.1761932373046875,\n",
       "    5.619534015655518,\n",
       "    4.3145222663879395,\n",
       "    5.04252815246582,\n",
       "    4.094325542449951,\n",
       "    6.018815517425537,\n",
       "    4.672280788421631,\n",
       "    5.131183624267578,\n",
       "    5.696815490722656,\n",
       "    5.341795921325684,\n",
       "    5.261229991912842,\n",
       "    5.033420085906982,\n",
       "    4.955512046813965,\n",
       "    4.885464668273926,\n",
       "    4.619633674621582,\n",
       "    5.291548728942871,\n",
       "    5.328667163848877,\n",
       "    5.389470100402832,\n",
       "    4.425330638885498,\n",
       "    3.9124088287353516,\n",
       "    4.922736167907715,\n",
       "    6.2394304275512695,\n",
       "    4.541933059692383,\n",
       "    5.062958240509033,\n",
       "    5.097168922424316,\n",
       "    4.933569431304932,\n",
       "    4.52531623840332,\n",
       "    5.000936508178711,\n",
       "    5.007759094238281,\n",
       "    5.025870323181152,\n",
       "    5.703967094421387,\n",
       "    5.94868278503418,\n",
       "    5.75960111618042,\n",
       "    4.928527355194092,\n",
       "    4.3495073318481445,\n",
       "    4.687886714935303,\n",
       "    5.439880847930908,\n",
       "    5.172932147979736,\n",
       "    5.0965375900268555,\n",
       "    5.004924297332764,\n",
       "    5.393575191497803,\n",
       "    5.901674270629883,\n",
       "    4.880141258239746,\n",
       "    4.928586006164551,\n",
       "    6.026899814605713,\n",
       "    4.281313419342041,\n",
       "    4.923957347869873,\n",
       "    4.494487762451172,\n",
       "    4.528400421142578,\n",
       "    5.437976837158203,\n",
       "    5.055437088012695,\n",
       "    4.4494218826293945,\n",
       "    5.652281761169434,\n",
       "    5.533830165863037,\n",
       "    4.511280059814453,\n",
       "    5.048468112945557,\n",
       "    5.0337700843811035,\n",
       "    5.675718784332275,\n",
       "    4.674651145935059,\n",
       "    4.173644065856934,\n",
       "    4.51463508605957,\n",
       "    5.723583698272705,\n",
       "    5.243724346160889,\n",
       "    4.834934711456299,\n",
       "    5.368966579437256,\n",
       "    5.031418800354004,\n",
       "    5.589731216430664,\n",
       "    5.009762287139893,\n",
       "    4.735134601593018,\n",
       "    6.118622779846191,\n",
       "    4.183073997497559,\n",
       "    5.683655738830566,\n",
       "    4.39044189453125,\n",
       "    4.683725833892822,\n",
       "    5.810988426208496,\n",
       "    5.917029857635498,\n",
       "    5.168862342834473,\n",
       "    5.350465297698975,\n",
       "    5.661267280578613,\n",
       "    5.853658676147461,\n",
       "    4.349395275115967,\n",
       "    4.968179225921631,\n",
       "    4.695492267608643,\n",
       "    4.849416255950928,\n",
       "    4.209836006164551,\n",
       "    4.963832378387451,\n",
       "    5.084273338317871,\n",
       "    5.9072585105896,\n",
       "    4.917076587677002,\n",
       "    4.720439910888672,\n",
       "    4.507350444793701,\n",
       "    6.064509391784668,\n",
       "    4.359955310821533,\n",
       "    5.227852821350098,\n",
       "    5.394172668457031,\n",
       "    4.861227035522461,\n",
       "    4.680741310119629,\n",
       "    5.212856292724609,\n",
       "    4.86584997177124,\n",
       "    5.476344108581543,\n",
       "    5.467438220977783,\n",
       "    4.49675989151001,\n",
       "    5.103191375732422,\n",
       "    6.099303722381592,\n",
       "    4.346973896026611,\n",
       "    5.143855094909668,\n",
       "    5.081643581390381,\n",
       "    5.574943542480469,\n",
       "    5.026328086853027,\n",
       "    4.834295749664307,\n",
       "    4.859505653381348,\n",
       "    5.037735462188721,\n",
       "    4.984466552734375,\n",
       "    4.880069732666016,\n",
       "    4.761677265167236,\n",
       "    4.900364398956299,\n",
       "    6.707468032836914,\n",
       "    5.015416622161865,\n",
       "    5.6656389236450195,\n",
       "    4.310679912567139,\n",
       "    5.195322036743164,\n",
       "    5.138751029968262,\n",
       "    4.576272964477539,\n",
       "    5.101578235626221,\n",
       "    5.129517078399658,\n",
       "    4.3521599769592285,\n",
       "    4.90040397644043,\n",
       "    4.3867340087890625,\n",
       "    4.986378192901611,\n",
       "    5.33823299407959,\n",
       "    4.635998249053955,\n",
       "    5.18643045425415,\n",
       "    4.861232280731201,\n",
       "    5.579721450805664,\n",
       "    6.096087455749512,\n",
       "    4.809216022491455,\n",
       "    6.231861114501953,\n",
       "    5.23541259765625,\n",
       "    5.168428421020508,\n",
       "    5.673298358917236,\n",
       "    4.910167694091797,\n",
       "    5.130771636962891,\n",
       "    4.216301918029785,\n",
       "    4.993133068084717,\n",
       "    7.3845367431640625,\n",
       "    4.790273189544678,\n",
       "    4.939969539642334,\n",
       "    4.721852779388428,\n",
       "    5.957743167877197,\n",
       "    4.8744120597839355,\n",
       "    4.588269233703613,\n",
       "    5.308602809906006,\n",
       "    4.926897048950195,\n",
       "    6.3521881103515625,\n",
       "    4.195346832275391,\n",
       "    4.634307384490967,\n",
       "    4.976035118103027,\n",
       "    4.747632026672363,\n",
       "    5.119850158691406,\n",
       "    5.366359710693359,\n",
       "    4.874464988708496,\n",
       "    4.1256818771362305,\n",
       "    4.981543064117432,\n",
       "    4.307377815246582,\n",
       "    4.90857458114624,\n",
       "    5.344903469085693,\n",
       "    3.617316484451294,\n",
       "    5.085392475128174,\n",
       "    5.035346984863281,\n",
       "    4.716893196105957,\n",
       "    4.836574077606201,\n",
       "    5.810186862945557,\n",
       "    5.238894462585449,\n",
       "    5.098775386810303,\n",
       "    5.815403461456299,\n",
       "    4.453447341918945,\n",
       "    6.380545139312744,\n",
       "    5.2800092697143555,\n",
       "    4.8477678298950195,\n",
       "    6.184512138366699,\n",
       "    5.007574558258057,\n",
       "    5.851339817047119,\n",
       "    5.085788249969482,\n",
       "    4.624086856842041,\n",
       "    4.285954475402832,\n",
       "    5.2728962898254395,\n",
       "    4.680357933044434,\n",
       "    5.225337982177734,\n",
       "    4.631185054779053,\n",
       "    5.204597473144531,\n",
       "    5.68762731552124,\n",
       "    6.114194869995117,\n",
       "    5.230707168579102,\n",
       "    4.552359580993652,\n",
       "    5.102257251739502,\n",
       "    5.379125118255615,\n",
       "    4.7362213134765625,\n",
       "    5.555825233459473,\n",
       "    5.060291290283203,\n",
       "    5.819024562835693,\n",
       "    5.990413188934326,\n",
       "    4.313182830810547,\n",
       "    4.5590128898620605,\n",
       "    5.447239875793457,\n",
       "    4.5730414390563965,\n",
       "    6.049043655395508,\n",
       "    4.980269908905029,\n",
       "    3.540872097015381,\n",
       "    5.695466995239258,\n",
       "    5.417288780212402,\n",
       "    5.022108554840088,\n",
       "    5.310845375061035,\n",
       "    5.348857402801514,\n",
       "    4.478229522705078,\n",
       "    4.881859302520752,\n",
       "    4.7809367179870605,\n",
       "    5.603732585906982,\n",
       "    5.211780548095703,\n",
       "    5.493140697479248,\n",
       "    5.174168109893799,\n",
       "    5.64018440246582,\n",
       "    5.938117504119873,\n",
       "    4.785220146179199,\n",
       "    4.1004438400268555,\n",
       "    5.072330474853516,\n",
       "    5.248696327209473,\n",
       "    5.564946174621582,\n",
       "    5.248177528381348,\n",
       "    4.819190502166748,\n",
       "    5.34869384765625,\n",
       "    5.491823673248291,\n",
       "    4.775177001953125,\n",
       "    5.802465915679932,\n",
       "    4.891050338745117,\n",
       "    4.097580909729004,\n",
       "    4.442323207855225,\n",
       "    5.440892696380615,\n",
       "    5.231491565704346,\n",
       "    5.041801929473877,\n",
       "    5.052359580993652,\n",
       "    5.024226188659668,\n",
       "    6.012664318084717,\n",
       "    5.601935386657715,\n",
       "    4.035293102264404,\n",
       "    5.017743110656738,\n",
       "    6.032044410705566,\n",
       "    5.254133701324463,\n",
       "    5.837555885314941,\n",
       "    5.8614726066589355,\n",
       "    5.411264896392822,\n",
       "    5.09271764755249,\n",
       "    4.788208961486816,\n",
       "    4.288547992706299,\n",
       "    4.912966728210449,\n",
       "    4.568211078643799,\n",
       "    5.390161037445068,\n",
       "    4.89479398727417,\n",
       "    4.730583667755127,\n",
       "    4.749750137329102,\n",
       "    5.444680690765381,\n",
       "    4.64732551574707,\n",
       "    5.9693450927734375,\n",
       "    5.8025970458984375,\n",
       "    5.044053077697754,\n",
       "    4.47891092300415,\n",
       "    4.607330799102783,\n",
       "    4.675110340118408,\n",
       "    4.789905548095703,\n",
       "    4.795487403869629,\n",
       "    4.9119133949279785,\n",
       "    4.78877592086792,\n",
       "    5.242913722991943,\n",
       "    5.21699857711792,\n",
       "    4.898960590362549,\n",
       "    6.703372478485107,\n",
       "    5.316177845001221,\n",
       "    5.5801191329956055,\n",
       "    4.040500640869141,\n",
       "    5.4210686683654785,\n",
       "    5.274751663208008,\n",
       "    4.456017971038818,\n",
       "    4.823577880859375,\n",
       "    5.051433563232422,\n",
       "    3.955397129058838,\n",
       "    5.1031036376953125,\n",
       "    5.685673713684082,\n",
       "    3.7573916912078857,\n",
       "    5.162668228149414,\n",
       "    5.197181224822998,\n",
       "    4.872339725494385,\n",
       "    4.995842933654785,\n",
       "    4.69392204284668,\n",
       "    5.305576324462891,\n",
       "    4.529530048370361,\n",
       "    4.840611934661865,\n",
       "    4.436398506164551,\n",
       "    5.202538013458252,\n",
       "    4.7261457443237305,\n",
       "    5.364938735961914,\n",
       "    5.505773544311523,\n",
       "    4.786384582519531,\n",
       "    5.897220134735107,\n",
       "    4.946795463562012,\n",
       "    6.321101665496826,\n",
       "    5.163147926330566,\n",
       "    4.336969375610352,\n",
       "    4.338117599487305,\n",
       "    4.589341163635254,\n",
       "    4.621405601501465,\n",
       "    5.477870464324951,\n",
       "    4.5533881187438965,\n",
       "    4.568335056304932,\n",
       "    4.372990608215332,\n",
       "    5.5140485763549805,\n",
       "    5.45557975769043,\n",
       "    4.833723545074463,\n",
       "    4.084848403930664,\n",
       "    4.718927383422852,\n",
       "    6.113776206970215,\n",
       "    5.679195880889893,\n",
       "    6.232600212097168,\n",
       "    5.580737113952637,\n",
       "    5.074005603790283,\n",
       "    4.229931354522705,\n",
       "    4.7908782958984375,\n",
       "    4.868232727050781,\n",
       "    4.554908752441406,\n",
       "    5.585544586181641,\n",
       "    4.661066055297852,\n",
       "    5.442819595336914,\n",
       "    3.6296370029449463,\n",
       "    5.026371002197266,\n",
       "    5.34035587310791,\n",
       "    5.263863563537598,\n",
       "    4.876288414001465,\n",
       "    4.965707302093506,\n",
       "    4.694694519042969,\n",
       "    4.451223373413086,\n",
       "    6.263975143432617,\n",
       "    4.713769912719727,\n",
       "    4.963364124298096,\n",
       "    4.352353572845459,\n",
       "    4.805041313171387,\n",
       "    5.969654560089111,\n",
       "    4.7443437576293945,\n",
       "    5.259479522705078,\n",
       "    5.028067111968994,\n",
       "    4.36930513381958,\n",
       "    6.411094665527344,\n",
       "    4.15728759765625,\n",
       "    4.381043434143066,\n",
       "    3.8632259368896484,\n",
       "    5.39838981628418,\n",
       "    4.853262424468994,\n",
       "    5.420880317687988,\n",
       "    4.547740459442139,\n",
       "    4.524930477142334,\n",
       "    4.281251907348633,\n",
       "    4.193230152130127,\n",
       "    3.7023022174835205,\n",
       "    5.154523849487305,\n",
       "    5.098546504974365,\n",
       "    4.754751205444336,\n",
       "    5.313727378845215,\n",
       "    4.841386318206787,\n",
       "    5.816709041595459,\n",
       "    4.4632344245910645,\n",
       "    5.969751358032227,\n",
       "    5.394263744354248,\n",
       "    5.210293769836426,\n",
       "    5.579956531524658,\n",
       "    6.1557183265686035,\n",
       "    4.645174503326416,\n",
       "    4.535618305206299,\n",
       "    5.015191078186035,\n",
       "    5.1982011795043945,\n",
       "    4.894268035888672,\n",
       "    4.273177146911621,\n",
       "    5.090928077697754,\n",
       "    4.510622024536133,\n",
       "    5.959054470062256,\n",
       "    4.9729390144348145,\n",
       "    4.51352596282959,\n",
       "    4.513563632965088,\n",
       "    4.699404239654541,\n",
       "    4.028294563293457,\n",
       "    4.375420570373535,\n",
       "    5.278275489807129,\n",
       "    4.791451930999756,\n",
       "    5.041480541229248,\n",
       "    4.7379045486450195,\n",
       "    4.960443019866943,\n",
       "    5.207985877990723,\n",
       "    5.066379547119141,\n",
       "    6.796225070953369,\n",
       "    5.194859504699707,\n",
       "    4.762472152709961,\n",
       "    4.789632320404053,\n",
       "    4.798003673553467,\n",
       "    4.2792181968688965,\n",
       "    5.700839042663574,\n",
       "    5.374110698699951,\n",
       "    5.424454689025879,\n",
       "    4.899803161621094,\n",
       "    5.386876106262207,\n",
       "    4.897546291351318,\n",
       "    4.786359786987305,\n",
       "    4.809447288513184,\n",
       "    5.239203453063965,\n",
       "    5.090514659881592,\n",
       "    6.029507160186768,\n",
       "    5.282166481018066,\n",
       "    5.6105194091796875,\n",
       "    4.500662803649902,\n",
       "    5.354658126831055,\n",
       "    4.813261985778809,\n",
       "    6.150645732879639,\n",
       "    4.802182674407959,\n",
       "    5.01555061340332,\n",
       "    4.7895894050598145,\n",
       "    5.547970294952393,\n",
       "    5.475065231323242,\n",
       "    5.310552597045898,\n",
       "    5.505913257598877,\n",
       "    6.06672477722168,\n",
       "    4.620715141296387,\n",
       "    4.986520290374756,\n",
       "    4.229711055755615,\n",
       "    5.71169376373291,\n",
       "    5.163466930389404,\n",
       "    4.4178643226623535,\n",
       "    5.107868671417236,\n",
       "    4.991915225982666,\n",
       "    5.03800630569458,\n",
       "    5.551593780517578,\n",
       "    4.842924118041992,\n",
       "    4.822994232177734,\n",
       "    4.724362373352051,\n",
       "    5.052046298980713,\n",
       "    5.175609588623047,\n",
       "    5.356198787689209,\n",
       "    5.158862113952637,\n",
       "    5.38234281539917,\n",
       "    3.622476100921631,\n",
       "    3.9628026485443115,\n",
       "    4.883012294769287,\n",
       "    4.888844966888428,\n",
       "    4.424697399139404,\n",
       "    5.930322647094727,\n",
       "    5.121537685394287,\n",
       "    4.129578113555908,\n",
       "    6.016397476196289,\n",
       "    6.111972808837891,\n",
       "    4.317153453826904,\n",
       "    4.02348518371582,\n",
       "    4.7387566566467285,\n",
       "    4.605504989624023,\n",
       "    6.287055969238281,\n",
       "    4.579219818115234,\n",
       "    4.173086643218994,\n",
       "    4.9761433601379395,\n",
       "    5.044102191925049,\n",
       "    4.432762145996094,\n",
       "    4.674524307250977,\n",
       "    4.9291253089904785,\n",
       "    4.463366508483887,\n",
       "    6.382822036743164,\n",
       "    5.396068572998047,\n",
       "    4.231234073638916,\n",
       "    3.821420192718506,\n",
       "    3.827582359313965,\n",
       "    3.738717794418335,\n",
       "    5.2450103759765625,\n",
       "    4.933839797973633,\n",
       "    5.470123291015625,\n",
       "    6.269688129425049],\n",
       "   [3.9147145748138428,\n",
       "    3.6164331436157227,\n",
       "    4.421924114227295,\n",
       "    3.354694366455078,\n",
       "    4.580371856689453,\n",
       "    3.691934108734131,\n",
       "    4.802530765533447,\n",
       "    3.593313217163086,\n",
       "    4.093428134918213,\n",
       "    3.623427152633667,\n",
       "    4.004624366760254,\n",
       "    4.433324813842773,\n",
       "    3.948185682296753,\n",
       "    4.9653143882751465,\n",
       "    4.097758769989014,\n",
       "    3.8312625885009766,\n",
       "    4.393575191497803,\n",
       "    4.720466136932373,\n",
       "    4.4808454513549805,\n",
       "    4.9386162757873535,\n",
       "    3.6606333255767822,\n",
       "    3.663273572921753,\n",
       "    4.122498512268066,\n",
       "    4.246323585510254,\n",
       "    3.3077640533447266,\n",
       "    3.619602680206299,\n",
       "    4.676904201507568,\n",
       "    4.216573238372803,\n",
       "    3.835996389389038,\n",
       "    3.532012462615967,\n",
       "    3.7896482944488525,\n",
       "    4.283974647521973,\n",
       "    3.460203170776367,\n",
       "    4.703150749206543,\n",
       "    4.09909200668335,\n",
       "    4.333020210266113,\n",
       "    4.243023872375488,\n",
       "    5.426545143127441,\n",
       "    4.7213006019592285,\n",
       "    4.327883720397949,\n",
       "    5.085940837860107,\n",
       "    5.218155860900879,\n",
       "    4.278316020965576,\n",
       "    4.120528697967529,\n",
       "    4.583083629608154,\n",
       "    4.379847049713135,\n",
       "    4.255413055419922,\n",
       "    4.379988670349121,\n",
       "    3.8400378227233887,\n",
       "    4.3646039962768555,\n",
       "    4.818948745727539,\n",
       "    4.529698371887207,\n",
       "    3.8940465450286865,\n",
       "    4.669680118560791,\n",
       "    4.251590728759766,\n",
       "    3.5096850395202637,\n",
       "    3.8334908485412598,\n",
       "    4.382030010223389,\n",
       "    4.640011310577393,\n",
       "    4.277408123016357,\n",
       "    4.369150161743164,\n",
       "    4.69864559173584,\n",
       "    5.2861199378967285,\n",
       "    4.277029514312744,\n",
       "    4.226284027099609,\n",
       "    4.274721622467041,\n",
       "    4.061107158660889,\n",
       "    3.6159183979034424,\n",
       "    4.448969841003418,\n",
       "    3.9942731857299805,\n",
       "    4.919976234436035,\n",
       "    4.682250499725342,\n",
       "    3.942134380340576,\n",
       "    4.185969352722168,\n",
       "    3.9986369609832764,\n",
       "    4.455613136291504,\n",
       "    4.544523239135742,\n",
       "    3.741299867630005,\n",
       "    4.568103790283203,\n",
       "    3.392942428588867,\n",
       "    4.629921913146973,\n",
       "    5.108020305633545,\n",
       "    4.240718841552734,\n",
       "    5.003602504730225,\n",
       "    4.363699436187744,\n",
       "    3.827756643295288,\n",
       "    3.4884541034698486,\n",
       "    4.371002197265625,\n",
       "    4.597688674926758,\n",
       "    4.056707382202148,\n",
       "    5.39882230758667,\n",
       "    4.390467166900635,\n",
       "    3.717378854751587,\n",
       "    4.140196800231934,\n",
       "    3.2822630405426025,\n",
       "    4.0228166580200195,\n",
       "    2.666705369949341,\n",
       "    3.950268507003784,\n",
       "    4.673607349395752,\n",
       "    4.072317600250244,\n",
       "    3.10886549949646,\n",
       "    4.656554698944092,\n",
       "    4.606127738952637,\n",
       "    4.316128730773926,\n",
       "    3.689578056335449,\n",
       "    3.850416898727417,\n",
       "    4.135969638824463,\n",
       "    4.445273399353027,\n",
       "    4.353021621704102,\n",
       "    3.958015203475952,\n",
       "    4.602937698364258,\n",
       "    4.9986042976379395,\n",
       "    4.502233028411865,\n",
       "    3.7950456142425537,\n",
       "    4.592504978179932,\n",
       "    4.041203498840332,\n",
       "    3.6814630031585693,\n",
       "    3.8233537673950195,\n",
       "    4.20395565032959,\n",
       "    5.014492511749268,\n",
       "    4.365126132965088,\n",
       "    4.184754371643066,\n",
       "    5.3028564453125,\n",
       "    3.988828420639038,\n",
       "    4.19557523727417,\n",
       "    4.774356365203857,\n",
       "    3.961355209350586,\n",
       "    4.033484935760498,\n",
       "    3.2333030700683594,\n",
       "    4.181985378265381,\n",
       "    4.51132345199585,\n",
       "    4.296215057373047,\n",
       "    3.9349143505096436,\n",
       "    3.516322612762451,\n",
       "    4.504617214202881,\n",
       "    4.7824506759643555,\n",
       "    3.9810750484466553,\n",
       "    4.751474857330322,\n",
       "    5.355379104614258,\n",
       "    4.882696628570557,\n",
       "    3.7988574504852295,\n",
       "    4.796706199645996,\n",
       "    3.9352619647979736,\n",
       "    3.809581756591797,\n",
       "    3.376383066177368,\n",
       "    4.293173313140869,\n",
       "    3.889885663986206,\n",
       "    4.654348850250244,\n",
       "    4.682358264923096,\n",
       "    4.502954006195068,\n",
       "    4.666204929351807,\n",
       "    4.136160373687744,\n",
       "    3.733405590057373,\n",
       "    4.146881103515625,\n",
       "    4.677219867706299,\n",
       "    4.243586540222168,\n",
       "    4.093639850616455,\n",
       "    3.762261152267456,\n",
       "    4.31992244720459,\n",
       "    3.980769395828247,\n",
       "    4.005209445953369,\n",
       "    3.9036612510681152,\n",
       "    3.8929126262664795,\n",
       "    4.115530967712402,\n",
       "    4.194039344787598,\n",
       "    4.504822254180908,\n",
       "    3.82049298286438,\n",
       "    3.4630706310272217,\n",
       "    3.060053825378418,\n",
       "    4.003627777099609,\n",
       "    3.9001598358154297,\n",
       "    4.687511920928955,\n",
       "    4.845828533172607,\n",
       "    4.225188255310059,\n",
       "    3.6432149410247803,\n",
       "    4.636654376983643,\n",
       "    4.65112829208374,\n",
       "    4.233211040496826,\n",
       "    4.411481857299805,\n",
       "    4.083871841430664,\n",
       "    3.729196071624756,\n",
       "    3.492462635040283,\n",
       "    5.014538764953613,\n",
       "    4.250409126281738,\n",
       "    4.3308258056640625,\n",
       "    4.735086917877197,\n",
       "    3.5767855644226074,\n",
       "    3.5937955379486084,\n",
       "    4.3594841957092285,\n",
       "    5.703914165496826,\n",
       "    4.28949499130249,\n",
       "    3.785860538482666,\n",
       "    3.425110101699829,\n",
       "    5.559012413024902,\n",
       "    3.281036615371704,\n",
       "    4.760803699493408,\n",
       "    4.714034080505371,\n",
       "    4.391479015350342,\n",
       "    4.5636491775512695,\n",
       "    3.841705083847046,\n",
       "    4.035649299621582,\n",
       "    2.9151828289031982,\n",
       "    3.5360829830169678,\n",
       "    4.182066917419434,\n",
       "    4.550614356994629,\n",
       "    4.506904125213623,\n",
       "    4.192352294921875,\n",
       "    4.927719593048096,\n",
       "    4.242909908294678,\n",
       "    4.7477126121521,\n",
       "    4.312108516693115,\n",
       "    4.400195598602295,\n",
       "    3.826909065246582,\n",
       "    4.665738105773926,\n",
       "    4.35548734664917,\n",
       "    2.918677568435669,\n",
       "    3.4853920936584473,\n",
       "    3.89669132232666,\n",
       "    4.361164569854736,\n",
       "    3.1753759384155273,\n",
       "    4.314595699310303,\n",
       "    4.252098560333252,\n",
       "    3.525827646255493,\n",
       "    4.7980523109436035,\n",
       "    3.72786283493042,\n",
       "    4.641471862792969,\n",
       "    4.088382720947266,\n",
       "    4.3075361251831055,\n",
       "    4.8694233894348145,\n",
       "    4.621325492858887,\n",
       "    4.250938892364502,\n",
       "    3.708747386932373,\n",
       "    5.086832523345947,\n",
       "    4.606318950653076,\n",
       "    4.334437370300293,\n",
       "    3.963554859161377,\n",
       "    4.941201686859131,\n",
       "    4.321342945098877,\n",
       "    5.222095489501953,\n",
       "    4.261590957641602,\n",
       "    4.422240734100342,\n",
       "    4.390445709228516,\n",
       "    4.782052993774414,\n",
       "    4.743422508239746,\n",
       "    3.989570140838623,\n",
       "    5.124723434448242,\n",
       "    3.792222261428833,\n",
       "    4.714875221252441,\n",
       "    4.668112754821777,\n",
       "    3.79111385345459,\n",
       "    5.284661769866943,\n",
       "    5.163338661193848,\n",
       "    4.969211578369141,\n",
       "    5.705061912536621,\n",
       "    3.13993501663208,\n",
       "    5.022960186004639,\n",
       "    3.9158523082733154,\n",
       "    4.40378999710083,\n",
       "    4.924816131591797,\n",
       "    4.607672691345215,\n",
       "    3.2697319984436035,\n",
       "    4.689201831817627,\n",
       "    4.258636951446533,\n",
       "    3.9794869422912598,\n",
       "    4.1451311111450195,\n",
       "    3.478174924850464,\n",
       "    3.551474094390869,\n",
       "    4.385301113128662,\n",
       "    5.306793689727783,\n",
       "    4.56860876083374,\n",
       "    3.859043598175049,\n",
       "    4.627397537231445,\n",
       "    4.554229259490967,\n",
       "    3.971201181411743,\n",
       "    4.019105911254883,\n",
       "    3.9725914001464844,\n",
       "    4.756056785583496,\n",
       "    3.512352228164673,\n",
       "    3.41912841796875,\n",
       "    4.819851875305176,\n",
       "    3.3826444149017334,\n",
       "    3.9800734519958496,\n",
       "    5.38204288482666,\n",
       "    4.212874412536621,\n",
       "    3.6737143993377686,\n",
       "    3.6971795558929443,\n",
       "    3.7519805431365967,\n",
       "    4.217995643615723,\n",
       "    5.064609050750732,\n",
       "    4.122032165527344,\n",
       "    3.904571056365967,\n",
       "    3.1993825435638428,\n",
       "    4.875091075897217,\n",
       "    4.00560188293457,\n",
       "    5.04674768447876,\n",
       "    4.919404983520508,\n",
       "    4.042780876159668,\n",
       "    3.935094118118286,\n",
       "    3.821826934814453,\n",
       "    2.9679205417633057,\n",
       "    3.4014620780944824,\n",
       "    3.9050493240356445,\n",
       "    3.5836703777313232,\n",
       "    3.5149412155151367,\n",
       "    4.367244243621826,\n",
       "    4.532026290893555,\n",
       "    4.326750755310059,\n",
       "    4.309816837310791,\n",
       "    3.5391507148742676,\n",
       "    3.7602102756500244,\n",
       "    4.134907245635986,\n",
       "    4.3230791091918945,\n",
       "    3.935246706008911,\n",
       "    3.1760542392730713,\n",
       "    4.272687911987305,\n",
       "    4.238280296325684,\n",
       "    3.576916217803955,\n",
       "    3.8260040283203125,\n",
       "    3.315525770187378,\n",
       "    4.241455078125,\n",
       "    5.518080711364746,\n",
       "    4.583517074584961,\n",
       "    4.565159320831299,\n",
       "    3.748917579650879,\n",
       "    3.7122538089752197,\n",
       "    5.676726341247559,\n",
       "    3.8933558464050293,\n",
       "    4.2862229347229,\n",
       "    4.292572975158691,\n",
       "    4.382283687591553,\n",
       "    4.270726203918457,\n",
       "    4.931680202484131,\n",
       "    4.027180194854736,\n",
       "    3.7894251346588135,\n",
       "    5.111547946929932,\n",
       "    4.468509674072266,\n",
       "    4.188673496246338,\n",
       "    4.171549320220947,\n",
       "    4.6506218910217285,\n",
       "    5.033717632293701,\n",
       "    3.966735363006592,\n",
       "    5.066228866577148,\n",
       "    5.624378204345703,\n",
       "    3.478665351867676,\n",
       "    4.202624797821045,\n",
       "    3.920102596282959,\n",
       "    4.865735054016113,\n",
       "    4.205997467041016,\n",
       "    4.230800151824951,\n",
       "    3.26430344581604,\n",
       "    3.9604363441467285,\n",
       "    3.324842691421509,\n",
       "    5.560939311981201,\n",
       "    3.7962381839752197,\n",
       "    4.367507457733154,\n",
       "    3.6086156368255615,\n",
       "    3.6187937259674072,\n",
       "    4.212892532348633,\n",
       "    4.134866237640381,\n",
       "    3.902615547180176,\n",
       "    5.256814002990723,\n",
       "    4.1303582191467285,\n",
       "    3.694631576538086,\n",
       "    4.44505500793457,\n",
       "    3.73280930519104,\n",
       "    4.349050998687744,\n",
       "    4.539636611938477,\n",
       "    3.656888008117676,\n",
       "    4.929184913635254,\n",
       "    4.202054023742676,\n",
       "    4.188265323638916,\n",
       "    3.583815813064575,\n",
       "    4.168680191040039,\n",
       "    4.351512908935547,\n",
       "    3.559065341949463,\n",
       "    4.60869026184082,\n",
       "    5.0878448486328125,\n",
       "    4.046836853027344,\n",
       "    5.233706951141357,\n",
       "    3.50909423828125,\n",
       "    4.286013126373291,\n",
       "    4.101918697357178,\n",
       "    5.815723419189453,\n",
       "    4.520676136016846,\n",
       "    4.841832160949707,\n",
       "    5.424135208129883,\n",
       "    4.379395484924316,\n",
       "    5.316969394683838,\n",
       "    4.905004978179932,\n",
       "    4.298969745635986,\n",
       "    5.246694564819336,\n",
       "    3.4181406497955322,\n",
       "    4.373935222625732,\n",
       "    4.207352161407471,\n",
       "    3.8058998584747314,\n",
       "    3.747187852859497,\n",
       "    4.408985137939453,\n",
       "    4.172258377075195,\n",
       "    5.140169143676758,\n",
       "    4.897961139678955,\n",
       "    3.7464957237243652,\n",
       "    3.8637161254882812,\n",
       "    3.760364294052124,\n",
       "    3.5798957347869873,\n",
       "    4.210992813110352,\n",
       "    4.773430347442627,\n",
       "    2.982355833053589,\n",
       "    4.396956920623779,\n",
       "    3.6133856773376465,\n",
       "    4.088338851928711,\n",
       "    5.1223602294921875,\n",
       "    3.7507569789886475,\n",
       "    3.6084511280059814,\n",
       "    4.041133403778076,\n",
       "    5.134105205535889,\n",
       "    5.133516788482666,\n",
       "    4.11570930480957,\n",
       "    4.803202152252197,\n",
       "    4.572884559631348,\n",
       "    4.297607898712158,\n",
       "    4.667661190032959,\n",
       "    5.131168842315674,\n",
       "    4.836528301239014,\n",
       "    4.1845808029174805,\n",
       "    5.079431056976318,\n",
       "    4.4281229972839355,\n",
       "    3.976638078689575,\n",
       "    3.7199552059173584,\n",
       "    4.800317764282227,\n",
       "    3.632355213165283,\n",
       "    3.732557535171509,\n",
       "    3.7523810863494873,\n",
       "    3.9729316234588623,\n",
       "    4.121332168579102,\n",
       "    3.896263599395752,\n",
       "    4.462743282318115,\n",
       "    4.59625768661499,\n",
       "    3.668546676635742,\n",
       "    3.3746063709259033,\n",
       "    4.13637638092041,\n",
       "    5.531775951385498,\n",
       "    4.357448577880859,\n",
       "    4.88389778137207,\n",
       "    4.216325759887695,\n",
       "    5.1370439529418945,\n",
       "    3.2932326793670654,\n",
       "    4.063711643218994,\n",
       "    4.948734283447266,\n",
       "    4.462270259857178,\n",
       "    4.186859607696533,\n",
       "    3.2101821899414062,\n",
       "    4.3192315101623535,\n",
       "    4.092925071716309,\n",
       "    3.719782829284668,\n",
       "    4.143322944641113,\n",
       "    3.7419841289520264,\n",
       "    4.332468032836914,\n",
       "    4.872265815734863,\n",
       "    2.7588930130004883,\n",
       "    3.9453961849212646,\n",
       "    4.272951126098633,\n",
       "    4.185291767120361,\n",
       "    3.995008707046509,\n",
       "    3.5147271156311035,\n",
       "    3.948415994644165,\n",
       "    3.3287789821624756,\n",
       "    3.027031660079956,\n",
       "    4.400683403015137,\n",
       "    4.542054176330566,\n",
       "    4.626466751098633,\n",
       "    4.378376483917236,\n",
       "    5.063118934631348,\n",
       "    3.926395893096924,\n",
       "    4.078916072845459,\n",
       "    3.7432804107666016,\n",
       "    4.097994327545166,\n",
       "    4.4612321853637695,\n",
       "    3.8692562580108643,\n",
       "    4.354586601257324,\n",
       "    4.7030558586120605,\n",
       "    3.920100688934326,\n",
       "    3.848869800567627,\n",
       "    4.619784355163574,\n",
       "    5.2263617515563965,\n",
       "    3.2878458499908447,\n",
       "    4.182878494262695,\n",
       "    4.616523265838623,\n",
       "    4.663987159729004,\n",
       "    4.548173427581787,\n",
       "    4.465517044067383,\n",
       "    3.6212849617004395,\n",
       "    3.508725166320801,\n",
       "    3.4386587142944336,\n",
       "    4.867611408233643,\n",
       "    4.095427513122559,\n",
       "    3.4719793796539307,\n",
       "    3.789766788482666,\n",
       "    5.228296756744385,\n",
       "    3.8601572513580322,\n",
       "    3.8014209270477295,\n",
       "    4.66464900970459,\n",
       "    4.302525997161865,\n",
       "    4.384735107421875,\n",
       "    3.8065762519836426,\n",
       "    4.007503986358643,\n",
       "    5.481439590454102,\n",
       "    4.355834007263184,\n",
       "    4.143601417541504,\n",
       "    3.5897741317749023,\n",
       "    3.644120931625366,\n",
       "    4.066298007965088,\n",
       "    3.907073497772217,\n",
       "    4.814390182495117,\n",
       "    3.679995536804199,\n",
       "    3.4653847217559814,\n",
       "    5.238687038421631,\n",
       "    3.8923227787017822,\n",
       "    4.246353626251221,\n",
       "    5.079140663146973,\n",
       "    4.370739459991455,\n",
       "    4.784276485443115,\n",
       "    4.231475353240967,\n",
       "    3.069546937942505,\n",
       "    4.432971954345703,\n",
       "    4.343544006347656,\n",
       "    3.9810874462127686,\n",
       "    3.673168659210205,\n",
       "    3.6974868774414062,\n",
       "    4.8986616134643555,\n",
       "    4.238022804260254,\n",
       "    3.7294938564300537,\n",
       "    4.454497337341309,\n",
       "    4.086157321929932,\n",
       "    4.404359340667725,\n",
       "    4.7926177978515625,\n",
       "    6.0346198081970215],\n",
       "   [4.139896392822266,\n",
       "    3.4389145374298096,\n",
       "    3.4343950748443604,\n",
       "    3.028360605239868,\n",
       "    4.2286787033081055,\n",
       "    3.7598581314086914,\n",
       "    3.3641343116760254,\n",
       "    4.928482532501221,\n",
       "    2.956106662750244,\n",
       "    3.4167063236236572,\n",
       "    3.3539066314697266,\n",
       "    3.793529510498047,\n",
       "    5.171982288360596,\n",
       "    3.693905830383301,\n",
       "    3.4892587661743164,\n",
       "    4.135919570922852,\n",
       "    4.055098533630371,\n",
       "    3.994318962097168,\n",
       "    3.7809436321258545,\n",
       "    2.956843852996826,\n",
       "    3.9316182136535645,\n",
       "    4.23335599899292,\n",
       "    3.9057955741882324,\n",
       "    4.673925876617432,\n",
       "    4.683396339416504,\n",
       "    4.364606857299805,\n",
       "    4.724434852600098,\n",
       "    3.764077663421631,\n",
       "    3.420565605163574,\n",
       "    3.4355878829956055,\n",
       "    3.833435535430908,\n",
       "    4.60829496383667,\n",
       "    3.5084571838378906,\n",
       "    3.555704116821289,\n",
       "    3.5292952060699463,\n",
       "    4.4057159423828125,\n",
       "    3.713367223739624,\n",
       "    4.048513889312744,\n",
       "    4.187498092651367,\n",
       "    3.6864490509033203,\n",
       "    4.1011762619018555,\n",
       "    4.712584495544434,\n",
       "    4.024231433868408,\n",
       "    3.1908175945281982,\n",
       "    3.7021501064300537,\n",
       "    3.2686381340026855,\n",
       "    4.231924057006836,\n",
       "    3.4058706760406494,\n",
       "    3.9683165550231934,\n",
       "    4.059823989868164,\n",
       "    3.813317060470581,\n",
       "    3.706223487854004,\n",
       "    3.278623342514038,\n",
       "    3.759739637374878,\n",
       "    3.9615437984466553,\n",
       "    3.890308380126953,\n",
       "    3.5750794410705566,\n",
       "    3.8573226928710938,\n",
       "    4.665180206298828,\n",
       "    4.166593551635742,\n",
       "    3.442345380783081,\n",
       "    2.8989593982696533,\n",
       "    4.3197922706604,\n",
       "    3.628873348236084,\n",
       "    3.7254655361175537,\n",
       "    4.527642250061035,\n",
       "    3.6821959018707275,\n",
       "    3.8197219371795654,\n",
       "    3.2676737308502197,\n",
       "    3.567013740539551,\n",
       "    4.073809623718262,\n",
       "    3.9347081184387207,\n",
       "    4.076913833618164,\n",
       "    3.4381368160247803,\n",
       "    4.364109992980957,\n",
       "    3.596615791320801,\n",
       "    3.5484108924865723,\n",
       "    4.052875518798828,\n",
       "    3.3212087154388428,\n",
       "    2.6942312717437744,\n",
       "    3.61155104637146,\n",
       "    3.7586519718170166,\n",
       "    3.823730945587158,\n",
       "    3.5122742652893066,\n",
       "    4.605535507202148,\n",
       "    3.7330501079559326,\n",
       "    3.8467354774475098,\n",
       "    3.8848509788513184,\n",
       "    3.0979480743408203,\n",
       "    4.067971229553223,\n",
       "    4.396698474884033,\n",
       "    4.041123867034912,\n",
       "    3.8751015663146973,\n",
       "    3.4329142570495605,\n",
       "    4.6901326179504395,\n",
       "    3.836306571960449,\n",
       "    3.762286424636841,\n",
       "    4.357269763946533,\n",
       "    2.993884801864624,\n",
       "    4.430393218994141,\n",
       "    3.8259856700897217,\n",
       "    3.8587872982025146,\n",
       "    3.7515571117401123,\n",
       "    3.8743698596954346,\n",
       "    4.194861888885498,\n",
       "    4.102877140045166,\n",
       "    4.359190464019775,\n",
       "    4.696023941040039,\n",
       "    3.8144688606262207,\n",
       "    4.305319786071777,\n",
       "    4.884585857391357,\n",
       "    3.7710390090942383,\n",
       "    4.251921653747559,\n",
       "    4.269780158996582,\n",
       "    4.02418327331543,\n",
       "    3.8202693462371826,\n",
       "    4.556576251983643,\n",
       "    4.521760940551758,\n",
       "    3.9742329120635986,\n",
       "    3.887535572052002,\n",
       "    4.439962863922119,\n",
       "    4.007219314575195,\n",
       "    3.375553846359253,\n",
       "    3.2411048412323,\n",
       "    4.200068950653076,\n",
       "    4.070892810821533,\n",
       "    4.183174133300781,\n",
       "    4.243668556213379,\n",
       "    3.9729440212249756,\n",
       "    3.3900766372680664,\n",
       "    5.204615592956543,\n",
       "    3.970294713973999,\n",
       "    4.522948265075684,\n",
       "    4.272337913513184,\n",
       "    4.1543378829956055,\n",
       "    3.5866711139678955,\n",
       "    3.890965461730957,\n",
       "    3.6752371788024902,\n",
       "    3.7545690536499023,\n",
       "    4.335103988647461,\n",
       "    3.644994020462036,\n",
       "    4.084240436553955,\n",
       "    3.970526695251465,\n",
       "    3.8862764835357666,\n",
       "    3.948289155960083,\n",
       "    2.925071954727173,\n",
       "    3.484081506729126,\n",
       "    4.76973819732666,\n",
       "    4.504209995269775,\n",
       "    3.7822141647338867,\n",
       "    5.0047430992126465,\n",
       "    3.176301956176758,\n",
       "    3.1031432151794434,\n",
       "    4.949880599975586,\n",
       "    4.270822048187256,\n",
       "    3.1254801750183105,\n",
       "    3.054776668548584,\n",
       "    3.2920470237731934,\n",
       "    3.875992774963379,\n",
       "    4.2362961769104,\n",
       "    3.997915029525757,\n",
       "    3.5981435775756836,\n",
       "    4.349106311798096,\n",
       "    4.319247245788574,\n",
       "    3.1489078998565674,\n",
       "    4.092691421508789,\n",
       "    3.2585597038269043,\n",
       "    3.220320224761963,\n",
       "    3.3849358558654785,\n",
       "    5.015550136566162,\n",
       "    4.395754814147949,\n",
       "    4.044763088226318,\n",
       "    3.732264757156372,\n",
       "    3.839539051055908,\n",
       "    4.857426643371582,\n",
       "    4.339341640472412,\n",
       "    2.65281343460083,\n",
       "    3.154601812362671,\n",
       "    4.16738748550415,\n",
       "    4.300949573516846,\n",
       "    2.981874465942383,\n",
       "    4.73374080657959,\n",
       "    3.522954225540161,\n",
       "    3.1699838638305664,\n",
       "    3.752687454223633,\n",
       "    3.9658937454223633,\n",
       "    3.5939393043518066,\n",
       "    3.1849234104156494,\n",
       "    4.268901348114014,\n",
       "    3.446049690246582,\n",
       "    3.6686153411865234,\n",
       "    3.4369099140167236,\n",
       "    3.6639015674591064,\n",
       "    4.482990264892578,\n",
       "    3.666304349899292,\n",
       "    4.125275611877441,\n",
       "    3.2438220977783203,\n",
       "    3.26889967918396,\n",
       "    4.231781959533691,\n",
       "    4.049332141876221,\n",
       "    3.4922986030578613,\n",
       "    4.016641616821289,\n",
       "    4.688056945800781,\n",
       "    3.5197885036468506,\n",
       "    3.8829193115234375,\n",
       "    3.6596264839172363,\n",
       "    3.9933154582977295,\n",
       "    4.203301429748535,\n",
       "    3.468644857406616,\n",
       "    3.307236909866333,\n",
       "    4.064624786376953,\n",
       "    4.152733325958252,\n",
       "    2.8012826442718506,\n",
       "    3.459105968475342,\n",
       "    4.286056995391846,\n",
       "    4.930891990661621,\n",
       "    3.5198521614074707,\n",
       "    4.654797077178955,\n",
       "    3.7746505737304688,\n",
       "    3.8968398571014404,\n",
       "    4.673651218414307,\n",
       "    4.0628533363342285,\n",
       "    4.483269214630127,\n",
       "    4.150313377380371,\n",
       "    3.103703498840332,\n",
       "    3.4459731578826904,\n",
       "    4.656619548797607,\n",
       "    3.762277364730835,\n",
       "    3.6969521045684814,\n",
       "    4.095693588256836,\n",
       "    3.856247663497925,\n",
       "    3.7664332389831543,\n",
       "    3.6107189655303955,\n",
       "    4.336292743682861,\n",
       "    4.419727802276611,\n",
       "    3.9584457874298096,\n",
       "    4.117447853088379,\n",
       "    4.755693435668945,\n",
       "    3.889225721359253,\n",
       "    3.3304989337921143,\n",
       "    3.4945621490478516,\n",
       "    4.608425140380859,\n",
       "    4.6071648597717285,\n",
       "    3.4919986724853516,\n",
       "    3.299160957336426,\n",
       "    4.427648067474365,\n",
       "    3.218646764755249,\n",
       "    4.09498405456543,\n",
       "    4.368226528167725,\n",
       "    5.063002586364746,\n",
       "    3.0908854007720947,\n",
       "    3.985708713531494,\n",
       "    3.8180739879608154,\n",
       "    4.4041218757629395,\n",
       "    4.111177921295166,\n",
       "    3.4962644577026367,\n",
       "    3.8231749534606934,\n",
       "    4.154213905334473,\n",
       "    4.207925796508789,\n",
       "    4.051679611206055,\n",
       "    3.4318041801452637,\n",
       "    3.919666290283203,\n",
       "    4.134464740753174,\n",
       "    3.5997323989868164,\n",
       "    2.194300413131714,\n",
       "    3.5659666061401367,\n",
       "    5.043782711029053,\n",
       "    4.109437942504883,\n",
       "    4.277032375335693,\n",
       "    3.656280040740967,\n",
       "    5.666126251220703,\n",
       "    3.324099063873291,\n",
       "    4.434291362762451,\n",
       "    4.952543258666992,\n",
       "    5.332513809204102,\n",
       "    4.274211406707764,\n",
       "    4.0714874267578125,\n",
       "    4.120619297027588,\n",
       "    3.250196695327759,\n",
       "    3.693159580230713,\n",
       "    3.953195571899414,\n",
       "    3.9795031547546387,\n",
       "    3.4282853603363037,\n",
       "    3.58522367477417,\n",
       "    4.028036117553711,\n",
       "    3.0786325931549072,\n",
       "    5.432670593261719,\n",
       "    4.209207534790039,\n",
       "    3.712162733078003,\n",
       "    4.005010604858398,\n",
       "    3.539273262023926,\n",
       "    4.198184490203857,\n",
       "    3.9379539489746094,\n",
       "    3.273449659347534,\n",
       "    3.5085184574127197,\n",
       "    3.826953887939453,\n",
       "    4.772998332977295,\n",
       "    3.54001784324646,\n",
       "    4.44266939163208,\n",
       "    4.814306259155273,\n",
       "    3.5001516342163086,\n",
       "    4.454118251800537,\n",
       "    3.883666515350342,\n",
       "    3.4641928672790527,\n",
       "    3.7081682682037354,\n",
       "    4.399601936340332,\n",
       "    4.090355396270752,\n",
       "    4.022672176361084,\n",
       "    3.2498629093170166,\n",
       "    5.105312347412109,\n",
       "    3.286376714706421,\n",
       "    3.611475944519043,\n",
       "    3.477423906326294,\n",
       "    3.782838821411133,\n",
       "    3.4579224586486816,\n",
       "    4.373271942138672,\n",
       "    5.220307350158691,\n",
       "    3.659698963165283,\n",
       "    3.242534875869751,\n",
       "    4.774011135101318,\n",
       "    4.338238716125488,\n",
       "    4.019074440002441,\n",
       "    4.502058982849121,\n",
       "    4.0392746925354,\n",
       "    3.8259994983673096,\n",
       "    3.290827989578247,\n",
       "    4.080654621124268,\n",
       "    3.439568519592285,\n",
       "    4.6534199714660645,\n",
       "    3.6957428455352783,\n",
       "    4.561361312866211,\n",
       "    3.5100185871124268,\n",
       "    4.075294494628906,\n",
       "    3.378816604614258,\n",
       "    4.217588424682617,\n",
       "    3.6063380241394043,\n",
       "    3.573640823364258,\n",
       "    3.839353084564209,\n",
       "    3.1510705947875977,\n",
       "    3.497889995574951,\n",
       "    3.7287495136260986,\n",
       "    5.203104019165039,\n",
       "    3.70833158493042,\n",
       "    3.450894832611084,\n",
       "    3.262328863143921,\n",
       "    5.016504287719727,\n",
       "    3.8453874588012695,\n",
       "    4.492928504943848,\n",
       "    3.7808027267456055,\n",
       "    3.433380603790283,\n",
       "    3.7361180782318115,\n",
       "    5.093168258666992,\n",
       "    4.711987018585205,\n",
       "    3.6501946449279785,\n",
       "    3.626995086669922,\n",
       "    3.9623029232025146,\n",
       "    4.572583198547363,\n",
       "    4.8075785636901855,\n",
       "    3.630019187927246,\n",
       "    3.84682035446167,\n",
       "    3.3701376914978027,\n",
       "    4.13292121887207,\n",
       "    3.6030044555664062,\n",
       "    3.5884206295013428,\n",
       "    4.230470657348633,\n",
       "    4.042093276977539,\n",
       "    3.2856054306030273,\n",
       "    3.768965244293213,\n",
       "    4.053108215332031,\n",
       "    3.760876417160034,\n",
       "    4.109480857849121,\n",
       "    3.540224552154541,\n",
       "    3.1017847061157227,\n",
       "    3.5730440616607666,\n",
       "    4.625260353088379,\n",
       "    3.549466848373413,\n",
       "    4.024065971374512,\n",
       "    3.900127649307251,\n",
       "    3.664494514465332,\n",
       "    3.7763304710388184,\n",
       "    3.1669702529907227,\n",
       "    3.6685304641723633,\n",
       "    3.0103352069854736,\n",
       "    4.1081414222717285,\n",
       "    3.450688362121582,\n",
       "    4.032072067260742,\n",
       "    3.249589204788208,\n",
       "    4.0046539306640625,\n",
       "    2.9657938480377197,\n",
       "    3.8785057067871094,\n",
       "    3.1407859325408936,\n",
       "    4.168877601623535,\n",
       "    3.7268457412719727,\n",
       "    3.5570783615112305,\n",
       "    3.32863450050354,\n",
       "    4.6908860206604,\n",
       "    2.9910435676574707,\n",
       "    3.361707925796509,\n",
       "    3.824188709259033,\n",
       "    4.308505058288574,\n",
       "    4.573841094970703,\n",
       "    3.6308984756469727,\n",
       "    4.319616317749023,\n",
       "    3.3060669898986816,\n",
       "    5.0674824714660645,\n",
       "    3.659437894821167,\n",
       "    3.8731908798217773,\n",
       "    4.4162983894348145,\n",
       "    3.7745249271392822,\n",
       "    4.062429904937744,\n",
       "    2.993436098098755,\n",
       "    3.739107131958008,\n",
       "    3.6499996185302734,\n",
       "    3.6332061290740967,\n",
       "    4.2613444328308105,\n",
       "    4.084394931793213,\n",
       "    3.9799163341522217,\n",
       "    3.682865619659424,\n",
       "    4.207202911376953,\n",
       "    2.992356300354004,\n",
       "    4.033565044403076,\n",
       "    3.6220993995666504,\n",
       "    3.21482253074646,\n",
       "    3.55063796043396,\n",
       "    3.6923561096191406,\n",
       "    3.582338571548462,\n",
       "    3.0552761554718018,\n",
       "    4.147101879119873,\n",
       "    5.142778396606445,\n",
       "    4.291236400604248,\n",
       "    4.718404769897461,\n",
       "    3.6523244380950928,\n",
       "    4.255288124084473,\n",
       "    3.4896161556243896,\n",
       "    3.854497194290161,\n",
       "    4.4496002197265625,\n",
       "    5.121382713317871,\n",
       "    3.6346874237060547,\n",
       "    3.024925947189331,\n",
       "    4.214044094085693,\n",
       "    3.4663004875183105,\n",
       "    4.067412376403809,\n",
       "    3.459825277328491,\n",
       "    4.092366695404053,\n",
       "    3.9186081886291504,\n",
       "    3.666189670562744,\n",
       "    3.883359909057617,\n",
       "    3.226186513900757,\n",
       "    5.1467180252075195,\n",
       "    4.240405082702637,\n",
       "    5.010718822479248,\n",
       "    5.086958885192871,\n",
       "    3.938704490661621,\n",
       "    4.128229141235352,\n",
       "    3.690528392791748,\n",
       "    4.464656352996826,\n",
       "    2.8778350353240967,\n",
       "    3.788414239883423,\n",
       "    3.491497278213501,\n",
       "    4.646594524383545,\n",
       "    3.7523741722106934,\n",
       "    3.5432357788085938,\n",
       "    4.300600528717041,\n",
       "    2.895336389541626,\n",
       "    3.7866437435150146,\n",
       "    4.194921493530273,\n",
       "    3.4939754009246826,\n",
       "    4.436675548553467,\n",
       "    3.574875593185425,\n",
       "    3.086331605911255,\n",
       "    4.0109663009643555,\n",
       "    3.9475913047790527,\n",
       "    2.8902587890625,\n",
       "    4.454196929931641,\n",
       "    3.8641626834869385,\n",
       "    4.177126884460449,\n",
       "    4.0284810066223145,\n",
       "    4.503842353820801,\n",
       "    3.2504613399505615,\n",
       "    3.720390796661377,\n",
       "    5.032541751861572,\n",
       "    3.5544097423553467,\n",
       "    3.4151268005371094,\n",
       "    2.7219059467315674,\n",
       "    4.294898509979248,\n",
       "    3.987802505493164,\n",
       "    3.3728950023651123,\n",
       "    3.277700185775757,\n",
       "    5.111924171447754,\n",
       "    3.5794765949249268,\n",
       "    3.7099313735961914,\n",
       "    3.5900747776031494,\n",
       "    4.174344539642334,\n",
       "    3.8012568950653076,\n",
       "    3.630054473876953,\n",
       "    4.725052356719971,\n",
       "    3.9295289516448975,\n",
       "    3.327150344848633,\n",
       "    2.732602119445801,\n",
       "    4.106128692626953,\n",
       "    4.325417518615723,\n",
       "    4.149302959442139,\n",
       "    4.0040740966796875,\n",
       "    4.14399528503418,\n",
       "    3.862511396408081,\n",
       "    4.590724468231201,\n",
       "    3.3455443382263184,\n",
       "    2.8594558238983154,\n",
       "    3.651092052459717,\n",
       "    4.07911491394043,\n",
       "    4.398079872131348,\n",
       "    3.9073538780212402,\n",
       "    4.058624267578125,\n",
       "    3.650223970413208,\n",
       "    3.8395400047302246,\n",
       "    4.236435413360596,\n",
       "    3.1137797832489014,\n",
       "    4.376107215881348,\n",
       "    3.8164968490600586,\n",
       "    4.484625339508057,\n",
       "    3.972317695617676,\n",
       "    4.082663536071777,\n",
       "    4.625130653381348,\n",
       "    3.961843729019165,\n",
       "    3.538201093673706,\n",
       "    4.091324329376221,\n",
       "    3.6809496879577637,\n",
       "    2.9960641860961914,\n",
       "    3.6921234130859375,\n",
       "    4.072531700134277,\n",
       "    3.5686259269714355,\n",
       "    3.55554461479187,\n",
       "    3.394676923751831,\n",
       "    3.552614212036133,\n",
       "    4.764730453491211,\n",
       "    4.204706192016602]],\n",
       "  [0.5856510054626642,\n",
       "   0.6742060399622521,\n",
       "   0.7670006675437421,\n",
       "   0.8283554565935822,\n",
       "   0.8748842960072456,\n",
       "   0.9101988281825657,\n",
       "   0.9340441041837967,\n",
       "   0.9478170434756339,\n",
       "   0.9527268915380349,\n",
       "   0.9535306686362947]))"
      ]
     },
     "execution_count": 7,
     "metadata": {},
     "output_type": "execute_result"
    }
   ],
   "source": [
    "train(model, optimizer, lf, sched, metric_fc, tr_dl, val_dl, n_epochs, val_df, save_path='data/text_models/bert_arcface')"
   ]
  },
  {
   "cell_type": "code",
   "execution_count": 10,
   "metadata": {},
   "outputs": [],
   "source": [
    "torch.save(model.text_embedor, 'data/text_models/bert_final_10ep_text_emb.pth')"
   ]
  },
  {
   "cell_type": "code",
   "execution_count": 11,
   "metadata": {},
   "outputs": [],
   "source": [
    "torch.save(model.state_dict(), 'data/text_models/bert_final_10ep_sd.pth')"
   ]
  },
  {
   "cell_type": "code",
   "execution_count": 9,
   "metadata": {},
   "outputs": [],
   "source": [
    "torch.save(tokenizer, 'data/text_models/bert_tokenizer.pth')"
   ]
  },
  {
   "cell_type": "code",
   "execution_count": 16,
   "metadata": {},
   "outputs": [
    {
     "data": {
      "application/vnd.jupyter.widget-view+json": {
       "model_id": "",
       "version_major": 2,
       "version_minor": 0
      },
      "text/plain": [
       "HBox(children=(FloatProgress(value=0.0, max=536.0), HTML(value='')))"
      ]
     },
     "metadata": {},
     "output_type": "display_data"
    }
   ],
   "source": [
    "with torch.no_grad():\n",
    "    pbar = tqdm(full_dl, leave=False)\n",
    "    text_embeddings = []\n",
    "    for txts, _ in pbar:\n",
    "        txts = text_to_device(txts, device)\n",
    "        feature =  model(txts)\n",
    "        text_embeddings.append(feature)\n",
    "    text_embeddings = F.normalize(torch.cat(text_embeddings, 0))"
   ]
  },
  {
   "cell_type": "code",
   "execution_count": 22,
   "metadata": {},
   "outputs": [
    {
     "data": {
      "application/vnd.jupyter.widget-view+json": {
       "model_id": "",
       "version_major": 2,
       "version_minor": 0
      },
      "text/plain": [
       "HBox(children=(FloatProgress(value=0.0, max=34250.0), HTML(value='')))"
      ]
     },
     "metadata": {},
     "output_type": "display_data"
    },
    {
     "data": {
      "application/vnd.jupyter.widget-view+json": {
       "model_id": "",
       "version_major": 2,
       "version_minor": 0
      },
      "text/plain": [
       "HBox(children=(FloatProgress(value=0.0, max=34250.0), HTML(value='')))"
      ]
     },
     "metadata": {},
     "output_type": "display_data"
    },
    {
     "name": "stdout",
     "output_type": "stream",
     "text": [
      "f1 score : 0.8866721749430263 | precision : 0.9687548716957335 | recall : 0.8586787032327977\n"
     ]
    },
    {
     "data": {
      "text/plain": [
       "(0.8866721749430263, 0.9687548716957335, 0.8586787032327977)"
      ]
     },
     "execution_count": 22,
     "metadata": {},
     "output_type": "execute_result"
    }
   ],
   "source": [
    "compute_f1(text_embeddings, df['label_group'], 0.7)"
   ]
  },
  {
   "cell_type": "markdown",
   "metadata": {},
   "source": [
    "### No train"
   ]
  },
  {
   "cell_type": "code",
   "execution_count": 8,
   "metadata": {},
   "outputs": [],
   "source": [
    "full_ds = SoftMaxDS(df, tokenizer)\n",
    "full_dl = DataLoader(full_ds, batch_size = bs, shuffle = False, pin_memory = True)"
   ]
  },
  {
   "cell_type": "code",
   "execution_count": 15,
   "metadata": {},
   "outputs": [],
   "source": [
    "model = BertModel.from_pretrained('bert-base-uncased').to(device)"
   ]
  },
  {
   "cell_type": "code",
   "execution_count": 34,
   "metadata": {},
   "outputs": [
    {
     "data": {
      "application/vnd.jupyter.widget-view+json": {
       "model_id": "",
       "version_major": 2,
       "version_minor": 0
      },
      "text/plain": [
       "HBox(children=(FloatProgress(value=0.0, max=536.0), HTML(value='')))"
      ]
     },
     "metadata": {},
     "output_type": "display_data"
    }
   ],
   "source": [
    "with torch.no_grad():\n",
    "    pbar = tqdm(full_dl, leave=False)\n",
    "    embs = []\n",
    "    for txts, _ in pbar:\n",
    "        txts = text_to_device(txts, device)\n",
    "        feature =  model(txts['input_ids'], \n",
    "                                     attention_mask=txts['attention_mask'])[0][:,0.,:]\n",
    "        embs.append(feature)\n",
    "    embs = torch.cat(embs, 0)"
   ]
  },
  {
   "cell_type": "code",
   "execution_count": 17,
   "metadata": {},
   "outputs": [],
   "source": [
    "torch.save(embs, 'data/text_embs/bert_notrain_embs.pth')"
   ]
  },
  {
   "cell_type": "code",
   "execution_count": 35,
   "metadata": {},
   "outputs": [
    {
     "data": {
      "text/plain": [
       "torch.Size([34250, 40])"
      ]
     },
     "execution_count": 35,
     "metadata": {},
     "output_type": "execute_result"
    }
   ],
   "source": [
    "embs.shape"
   ]
  },
  {
   "cell_type": "code",
   "execution_count": 36,
   "metadata": {},
   "outputs": [
    {
     "data": {
      "application/vnd.jupyter.widget-view+json": {
       "model_id": "",
       "version_major": 2,
       "version_minor": 0
      },
      "text/plain": [
       "HBox(children=(FloatProgress(value=0.0, max=34250.0), HTML(value='')))"
      ]
     },
     "metadata": {},
     "output_type": "display_data"
    },
    {
     "data": {
      "application/vnd.jupyter.widget-view+json": {
       "model_id": "",
       "version_major": 2,
       "version_minor": 0
      },
      "text/plain": [
       "HBox(children=(FloatProgress(value=0.0, max=34250.0), HTML(value='')))"
      ]
     },
     "metadata": {},
     "output_type": "display_data"
    },
    {
     "name": "stdout",
     "output_type": "stream",
     "text": [
      "f1 score : 0.044660520120419656 | precision : 0.02503708029195983 | recall : 0.37171434782554214\n"
     ]
    },
    {
     "data": {
      "text/plain": [
       "(0.044660520120419656, 0.02503708029195983, 0.37171434782554214)"
      ]
     },
     "execution_count": 36,
     "metadata": {},
     "output_type": "execute_result"
    }
   ],
   "source": [
    "compute_f1(embs, df['label_group'], 2.9)"
   ]
  },
  {
   "cell_type": "markdown",
   "metadata": {},
   "source": [
    "## Effnet image"
   ]
  },
  {
   "cell_type": "code",
   "execution_count": 1,
   "metadata": {},
   "outputs": [],
   "source": [
    "import os\n",
    "import random\n",
    "import functools\n",
    "from functools import partial\n",
    "import PIL\n",
    "\n",
    "import numpy as np \n",
    "import pandas as pd\n",
    "\n",
    "from tqdm.notebook import tqdm\n",
    "import math\n",
    "\n",
    "import torch\n",
    "from torch.nn.parameter import Parameter\n",
    "import torch.nn as nn\n",
    "import torch.nn.functional as F\n",
    "import torchvision\n",
    "from torchvision import transforms\n",
    "from torch.utils.data import Dataset, DataLoader\n",
    "\n",
    "from transformers import BertTokenizer\n",
    "from transformers import BertModel\n",
    "\n",
    "import matplotlib.pyplot as plt\n",
    "\n",
    "import timm\n",
    "np.random.seed(1337)\n"
   ]
  },
  {
   "cell_type": "code",
   "execution_count": 2,
   "metadata": {},
   "outputs": [],
   "source": [
    "# load in data\n",
    "\n",
    "df = pd.read_csv('data/train.csv')\n",
    "small_images_dir = 'data/small_train_images/'\n",
    "n_classes = df['label_group'].nunique()\n",
    "\n",
    "labels = np.random.permutation(df['label_group'].unique())\n",
    "\n",
    "train_perc = 0.7\n",
    "train_idx = int(train_perc * len(labels))\n",
    "\n",
    "train_labels = labels[:train_idx]\n",
    "val_labels = labels[train_idx:]"
   ]
  },
  {
   "cell_type": "code",
   "execution_count": 3,
   "metadata": {},
   "outputs": [],
   "source": [
    "train_df = df[df['label_group'].isin(train_labels)]\n",
    "val_df = df[df['label_group'].isin(val_labels)]"
   ]
  },
  {
   "cell_type": "code",
   "execution_count": 4,
   "metadata": {},
   "outputs": [
    {
     "data": {
      "text/html": [
       "<div>\n",
       "<style scoped>\n",
       "    .dataframe tbody tr th:only-of-type {\n",
       "        vertical-align: middle;\n",
       "    }\n",
       "\n",
       "    .dataframe tbody tr th {\n",
       "        vertical-align: top;\n",
       "    }\n",
       "\n",
       "    .dataframe thead th {\n",
       "        text-align: right;\n",
       "    }\n",
       "</style>\n",
       "<table border=\"1\" class=\"dataframe\">\n",
       "  <thead>\n",
       "    <tr style=\"text-align: right;\">\n",
       "      <th></th>\n",
       "      <th>posting_id</th>\n",
       "      <th>image</th>\n",
       "      <th>image_phash</th>\n",
       "      <th>title</th>\n",
       "      <th>label_group</th>\n",
       "    </tr>\n",
       "  </thead>\n",
       "  <tbody>\n",
       "    <tr>\n",
       "      <th>0</th>\n",
       "      <td>train_129225211</td>\n",
       "      <td>0000a68812bc7e98c42888dfb1c07da0.jpg</td>\n",
       "      <td>94974f937d4c2433</td>\n",
       "      <td>Paper Bag Victoria Secret</td>\n",
       "      <td>249114794</td>\n",
       "    </tr>\n",
       "    <tr>\n",
       "      <th>2</th>\n",
       "      <td>train_2288590299</td>\n",
       "      <td>000a190fdd715a2a36faed16e2c65df7.jpg</td>\n",
       "      <td>b94cb00ed3e50f78</td>\n",
       "      <td>Maling TTS Canned Pork Luncheon Meat 397 gr</td>\n",
       "      <td>2395904891</td>\n",
       "    </tr>\n",
       "    <tr>\n",
       "      <th>3</th>\n",
       "      <td>train_2406599165</td>\n",
       "      <td>00117e4fc239b1b641ff08340b429633.jpg</td>\n",
       "      <td>8514fc58eafea283</td>\n",
       "      <td>Daster Batik Lengan pendek - Motif Acak / Camp...</td>\n",
       "      <td>4093212188</td>\n",
       "    </tr>\n",
       "    <tr>\n",
       "      <th>6</th>\n",
       "      <td>train_1802986387</td>\n",
       "      <td>00144a49c56599d45354a1c28104c039.jpg</td>\n",
       "      <td>f815c9bb833ab4c8</td>\n",
       "      <td>Jubah anak size 1-12 thn</td>\n",
       "      <td>1835033137</td>\n",
       "    </tr>\n",
       "    <tr>\n",
       "      <th>8</th>\n",
       "      <td>train_86570404</td>\n",
       "      <td>0019a3c6755a194cb2e2c12bfc63972e.jpg</td>\n",
       "      <td>ea9af4f483249972</td>\n",
       "      <td>[LOGU] Tempelan kulkas magnet angka, tempelan ...</td>\n",
       "      <td>2359912463</td>\n",
       "    </tr>\n",
       "  </tbody>\n",
       "</table>\n",
       "</div>"
      ],
      "text/plain": [
       "         posting_id                                 image       image_phash  \\\n",
       "0   train_129225211  0000a68812bc7e98c42888dfb1c07da0.jpg  94974f937d4c2433   \n",
       "2  train_2288590299  000a190fdd715a2a36faed16e2c65df7.jpg  b94cb00ed3e50f78   \n",
       "3  train_2406599165  00117e4fc239b1b641ff08340b429633.jpg  8514fc58eafea283   \n",
       "6  train_1802986387  00144a49c56599d45354a1c28104c039.jpg  f815c9bb833ab4c8   \n",
       "8    train_86570404  0019a3c6755a194cb2e2c12bfc63972e.jpg  ea9af4f483249972   \n",
       "\n",
       "                                               title  label_group  \n",
       "0                          Paper Bag Victoria Secret    249114794  \n",
       "2        Maling TTS Canned Pork Luncheon Meat 397 gr   2395904891  \n",
       "3  Daster Batik Lengan pendek - Motif Acak / Camp...   4093212188  \n",
       "6                           Jubah anak size 1-12 thn   1835033137  \n",
       "8  [LOGU] Tempelan kulkas magnet angka, tempelan ...   2359912463  "
      ]
     },
     "execution_count": 4,
     "metadata": {},
     "output_type": "execute_result"
    }
   ],
   "source": [
    "val_df.head()"
   ]
  },
  {
   "cell_type": "code",
   "execution_count": 5,
   "metadata": {},
   "outputs": [],
   "source": [
    "class SoftMaxDS(Dataset):\n",
    "    def __init__(self, data, images_path, return_triplet = True):\n",
    "        super().__init__()\n",
    "        self.imgs = data['image'].tolist()\n",
    "        self.unique_labels = data['label_group'].unique().tolist()\n",
    "        self.labels = data['label_group'].astype('category')\n",
    "        self.label_codes = self.labels.cat.codes\n",
    "        \n",
    "        self.images_path = images_path\n",
    "        \n",
    "    def __getitem__(self, idx):\n",
    "        \n",
    "        img = self._get_item(idx)\n",
    "        label = self.label_codes.iloc[idx]\n",
    "        return img, label\n",
    "    def __len__(self):\n",
    "        return len(self.imgs)\n",
    "    \n",
    "    def _get_item(self, idx):\n",
    "        im = PIL.Image.open(os.path.join(self.images_path, self.imgs[idx]))\n",
    "        im = torch.tensor(np.array(im) / 255.0, dtype = torch.float).permute(2,0,1)\n",
    "        return im"
   ]
  },
  {
   "cell_type": "code",
   "execution_count": 6,
   "metadata": {},
   "outputs": [],
   "source": [
    "# creating dataloaders\n",
    "\n",
    "vision_model = 'resnet50'\n",
    "\n",
    "bs = 64\n",
    "tr_ds = SoftMaxDS(train_df, small_images_dir)\n",
    "tr_dl = DataLoader(tr_ds, batch_size = bs, shuffle = True, pin_memory = True)\n",
    "tr_test_dl = DataLoader(tr_ds, batch_size = bs, shuffle = False, pin_memory = True)\n",
    "\n",
    "val_ds = SoftMaxDS(val_df, small_images_dir)\n",
    "val_dl = DataLoader(val_ds, batch_size = bs, shuffle = False, pin_memory = True)\n",
    "\n",
    "full_ds = SoftMaxDS(df, small_images_dir)\n",
    "full_dl = DataLoader(full_ds, batch_size = bs, shuffle = False, pin_memory = True)\n",
    "\n",
    "device = torch.device('cuda')\n",
    "\n",
    "val_label_count = val_df['label_group'].value_counts()"
   ]
  },
  {
   "cell_type": "code",
   "execution_count": 7,
   "metadata": {},
   "outputs": [],
   "source": [
    "class EMBRes(nn.Module) :\n",
    "    def __init__(self, pretrained_image_embedor='resnet50',\n",
    "                output_dim=512) :\n",
    "        super(EMBRes, self).__init__()\n",
    "        self.image_embedor = timm.create_model(pretrained_image_embedor, pretrained=True, n_classes=0)\n",
    "    \n",
    "    def _get_embs(self, x) :\n",
    "        images = x\n",
    "        out_images = self.image_embedor.forward_features(images)\n",
    "        out_images = self.image_pool(out_images).squeeze()\n",
    "        #return F.normalize(out_images, dim=-1)\n",
    "        return out_images\n",
    "    \n",
    "    def forward(self, x) :\n",
    "        out_images = self._get_embs(x)\n",
    "        \n",
    "        return self.head(out_images)"
   ]
  },
  {
   "cell_type": "code",
   "execution_count": 8,
   "metadata": {},
   "outputs": [],
   "source": [
    "# https://github.com/ronghuaiyang/arcface-pytorch\n",
    "\n",
    "class ArcMarginProduct(nn.Module):\n",
    "    r\"\"\"Implement of large margin arc distance: :\n",
    "        Args:\n",
    "            in_features: size of each input sample\n",
    "            out_features: size of each output sample\n",
    "            s: norm of input feature\n",
    "            m: margin\n",
    "            cos(theta + m)\n",
    "        \"\"\"\n",
    "    def __init__(self, in_features, out_features, s=30.0, m=0.50, easy_margin=False):\n",
    "        super(ArcMarginProduct, self).__init__()\n",
    "        self.in_features = in_features\n",
    "        self.out_features = out_features\n",
    "        self.s = s\n",
    "        self.m = m\n",
    "        self.weight = Parameter(torch.FloatTensor(out_features, in_features))\n",
    "        nn.init.xavier_uniform_(self.weight)\n",
    "\n",
    "        self.easy_margin = easy_margin\n",
    "        self.cos_m = math.cos(m)\n",
    "        self.sin_m = math.sin(m)\n",
    "        self.th = math.cos(math.pi - m)\n",
    "        self.mm = math.sin(math.pi - m) * m\n",
    "\n",
    "    def forward(self, input, label):\n",
    "        # --------------------------- cos(theta) & phi(theta) ---------------------------\n",
    "        cosine = F.linear(F.normalize(input), F.normalize(self.weight))\n",
    "        sine = torch.sqrt((1.0 - torch.pow(cosine, 2)).clamp(0, 1))\n",
    "        phi = cosine * self.cos_m - sine * self.sin_m\n",
    "        if self.easy_margin:\n",
    "            phi = torch.where(cosine > 0, phi, cosine)\n",
    "        else:\n",
    "            phi = torch.where(cosine > self.th, phi, cosine - self.mm)\n",
    "        # --------------------------- convert label to one-hot ---------------------------\n",
    "        # one_hot = torch.zeros(cosine.size(), requires_grad=True, device='cuda')\n",
    "        one_hot = torch.zeros(cosine.size(), device='cuda')\n",
    "        one_hot.scatter_(1, label.view(-1, 1).long(), 1)\n",
    "        # -------------torch.where(out_i = {x_i if condition_i else y_i) -------------\n",
    "        output = (one_hot * phi) + ((1.0 - one_hot) * cosine)  # you can use torch.where if your torch.__version__ is 0.4\n",
    "        output *= self.s\n",
    "        # print(output)\n",
    "\n",
    "        return output\n"
   ]
  },
  {
   "cell_type": "code",
   "execution_count": 9,
   "metadata": {},
   "outputs": [],
   "source": [
    "def compute_f1(embeddings, ls, threshold) :\n",
    "    dists = torch.cdist(embeddings, embeddings)\n",
    "    distances, indices = torch.topk(dists, 50, dim=1, largest=False)\n",
    "    \n",
    "    THRESHOLD = threshold\n",
    "    preds = [[] for _ in range(embeddings.shape[0])]\n",
    "    for i in tqdm(range(distances.shape[0]), leave=False) :\n",
    "        IDX = torch.where(distances[i,]<THRESHOLD)[0]\n",
    "        IDS = indices[i,IDX]\n",
    "        preds[i] = IDS.cpu().numpy()\n",
    "            \n",
    "    label_counts = ls.value_counts()\n",
    "    f_score = 0 \n",
    "    precision = 0\n",
    "    recall = 0\n",
    "    for i in tqdm(range(embeddings.shape[0]), leave=False) :\n",
    "        tp = 0\n",
    "        fp = 0\n",
    "        true_label = ls.iloc[i]\n",
    "        for index in preds[i] :\n",
    "            if ls.iloc[index] == true_label :\n",
    "                tp += 1\n",
    "            else :\n",
    "                fp += 1\n",
    "        fn = label_counts[true_label] - tp\n",
    "        #print(label_counts[true_label]-1, tp)\n",
    "        f_score += 2*tp / (label_counts[true_label] + len(preds[i]))\n",
    "        precision += tp / len(preds[i])\n",
    "        recall += tp/ label_counts[true_label]\n",
    "    f_score = f_score/embeddings.shape[0]\n",
    "    precision = precision/embeddings.shape[0]\n",
    "    recall = recall/embeddings.shape[0]\n",
    "    \n",
    "    print('f1 score : {} | precision : {} | recall : {}'.format(f_score, precision, recall))\n",
    "    return f_score, precision, recall"
   ]
  },
  {
   "cell_type": "markdown",
   "metadata": {},
   "source": [
    "***Embeddings normalization is not done in the model but in the arcface metric***"
   ]
  },
  {
   "cell_type": "code",
   "execution_count": 10,
   "metadata": {},
   "outputs": [],
   "source": [
    "#model = EMBRes('efficientnet_b0').to(device)\n",
    "#metric_fc = ArcMarginProduct(512, df['label_group'].nunique(), s=30, m=0.5, easy_margin=False).to(device)"
   ]
  },
  {
   "cell_type": "code",
   "execution_count": 11,
   "metadata": {},
   "outputs": [
    {
     "ename": "NameError",
     "evalue": "name 'model' is not defined",
     "output_type": "error",
     "traceback": [
      "\u001b[0;31m---------------------------------------------------------------------------\u001b[0m",
      "\u001b[0;31mNameError\u001b[0m                                 Traceback (most recent call last)",
      "\u001b[0;32m<ipython-input-11-03b61e93ef5a>\u001b[0m in \u001b[0;36m<module>\u001b[0;34m\u001b[0m\n\u001b[1;32m     21\u001b[0m             \"BatchNorm1d.weight\", \"BatchNorm1d.bias\"]\n\u001b[1;32m     22\u001b[0m \u001b[0;34m\u001b[0m\u001b[0m\n\u001b[0;32m---> 23\u001b[0;31m \u001b[0mparams\u001b[0m \u001b[0;34m=\u001b[0m \u001b[0mlist\u001b[0m\u001b[0;34m(\u001b[0m\u001b[0mmodel\u001b[0m\u001b[0;34m.\u001b[0m\u001b[0mnamed_parameters\u001b[0m\u001b[0;34m(\u001b[0m\u001b[0;34m)\u001b[0m\u001b[0;34m)\u001b[0m \u001b[0;34m+\u001b[0m \u001b[0mlist\u001b[0m\u001b[0;34m(\u001b[0m\u001b[0mmetric_fc\u001b[0m\u001b[0;34m.\u001b[0m\u001b[0mnamed_parameters\u001b[0m\u001b[0;34m(\u001b[0m\u001b[0;34m)\u001b[0m\u001b[0;34m)\u001b[0m\u001b[0;34m\u001b[0m\u001b[0;34m\u001b[0m\u001b[0m\n\u001b[0m\u001b[1;32m     24\u001b[0m optimizer_grouped_parameters = [\n\u001b[1;32m     25\u001b[0m     {\n",
      "\u001b[0;31mNameError\u001b[0m: name 'model' is not defined"
     ]
    }
   ],
   "source": [
    "\n",
    "normalize = transforms.Normalize(mean=(0.485, 0.456, 0.406),\n",
    "                                 std=(0.229, 0.224, 0.225))\n",
    "\n",
    "train_transforms = transforms.Compose([transforms.ColorJitter(.3,.3,.3),\n",
    "                                       transforms.RandomRotation(5),\n",
    "                                       transforms.RandomCrop(224),\n",
    "                                       transforms.RandomHorizontalFlip(),\n",
    "                                       normalize\n",
    "                                       ])\n",
    "\n",
    "val_transforms = transforms.Compose([normalize\n",
    "                                     ])\n",
    "\n",
    "n_epochs = 30\n",
    "\n",
    "lf = nn.CrossEntropyLoss()\n",
    "\n",
    "lr = 1e-2\n",
    "wd = 0\n",
    "no_decay = [\"bias\", \"BatchNorm2d.weight\", \"BatchNorm2d.bias\", \"LayerNorm.weight\", 'LayerNorm.bias',\n",
    "            \"BatchNorm1d.weight\", \"BatchNorm1d.bias\"]\n",
    "\n",
    "params = list(model.named_parameters()) + list(metric_fc.named_parameters())\n",
    "optimizer_grouped_parameters = [\n",
    "    {\n",
    "        \"params\": [p for n, p in params if not any(nd in n for nd in no_decay)],\n",
    "        \"weight_decay\": wd,\n",
    "    },\n",
    "    {\n",
    "        \"params\": [p for n, p in  model.named_parameters() if any(nd in n for nd in no_decay)],\n",
    "        \"weight_decay\": 0.0,\n",
    "    },\n",
    "]\n",
    "optimizer = torch.optim.AdamW(optimizer_grouped_parameters, lr=lr)\n",
    "\n",
    "# learning rate scheduler\n",
    "sched = torch.optim.lr_scheduler.OneCycleLR(optimizer, max_lr =lr, pct_start = 0.3, #anneal_strategy = 'linear',\n",
    "                                            total_steps = int(n_epochs * len(tr_dl)))"
   ]
  },
  {
   "cell_type": "markdown",
   "metadata": {},
   "source": [
    "### b0"
   ]
  },
  {
   "cell_type": "code",
   "execution_count": 24,
   "metadata": {},
   "outputs": [],
   "source": [
    "small_images_dir = 'data/small_train_images_600/'\n",
    "full_ds = SoftMaxDS(df, small_images_dir)\n",
    "full_dl = DataLoader(full_ds, batch_size = bs, shuffle = False, pin_memory = True)"
   ]
  },
  {
   "cell_type": "code",
   "execution_count": 25,
   "metadata": {},
   "outputs": [],
   "source": [
    "model = timm.create_model('efficientnet_b0', pretrained=True, num_classes=0).to(device)"
   ]
  },
  {
   "cell_type": "code",
   "execution_count": 26,
   "metadata": {},
   "outputs": [
    {
     "data": {
      "application/vnd.jupyter.widget-view+json": {
       "model_id": "",
       "version_major": 2,
       "version_minor": 0
      },
      "text/plain": [
       "HBox(children=(FloatProgress(value=0.0, max=536.0), HTML(value='')))"
      ]
     },
     "metadata": {},
     "output_type": "display_data"
    },
    {
     "name": "stdout",
     "output_type": "stream",
     "text": [
      "\r"
     ]
    }
   ],
   "source": [
    "with torch.no_grad():\n",
    "    pbar = tqdm(full_dl, leave=False)\n",
    "    embs = []\n",
    "    for imgs, _ in pbar:\n",
    "        imgs = val_transforms(imgs.to(device))\n",
    "        feature = model(imgs)\n",
    "        embs.append(feature)\n",
    "    embs = torch.cat(embs, 0)"
   ]
  },
  {
   "cell_type": "code",
   "execution_count": 38,
   "metadata": {},
   "outputs": [],
   "source": [
    "torch.save(embs, 'data/effnet_embs/embs_b0_notrain_600.pth')"
   ]
  },
  {
   "cell_type": "code",
   "execution_count": 37,
   "metadata": {
    "scrolled": false
   },
   "outputs": [
    {
     "data": {
      "application/vnd.jupyter.widget-view+json": {
       "model_id": "",
       "version_major": 2,
       "version_minor": 0
      },
      "text/plain": [
       "HBox(children=(FloatProgress(value=0.0, max=34250.0), HTML(value='')))"
      ]
     },
     "metadata": {},
     "output_type": "display_data"
    },
    {
     "name": "stdout",
     "output_type": "stream",
     "text": [
      "\r"
     ]
    },
    {
     "data": {
      "application/vnd.jupyter.widget-view+json": {
       "model_id": "",
       "version_major": 2,
       "version_minor": 0
      },
      "text/plain": [
       "HBox(children=(FloatProgress(value=0.0, max=34250.0), HTML(value='')))"
      ]
     },
     "metadata": {},
     "output_type": "display_data"
    },
    {
     "name": "stdout",
     "output_type": "stream",
     "text": [
      "\r",
      "f1 score : 0.6363438917214435 | precision : 0.9273578644382607 | recall : 0.558110326058612\n"
     ]
    },
    {
     "data": {
      "text/plain": [
       "(0.6363438917214435, 0.9273578644382607, 0.558110326058612)"
      ]
     },
     "execution_count": 37,
     "metadata": {},
     "output_type": "execute_result"
    }
   ],
   "source": [
    "compute_f1(embs, df['label_group'], 6.6)"
   ]
  },
  {
   "cell_type": "markdown",
   "metadata": {},
   "source": [
    "### TF b3"
   ]
  },
  {
   "cell_type": "code",
   "execution_count": 12,
   "metadata": {},
   "outputs": [],
   "source": [
    "embs = torch.load('data/effnet_embs/image_embeddings.pth')"
   ]
  },
  {
   "cell_type": "code",
   "execution_count": 14,
   "metadata": {},
   "outputs": [],
   "source": [
    "embs = torch.from_numpy(embs).float()"
   ]
  },
  {
   "cell_type": "code",
   "execution_count": 19,
   "metadata": {},
   "outputs": [
    {
     "data": {
      "application/vnd.jupyter.widget-view+json": {
       "model_id": "",
       "version_major": 2,
       "version_minor": 0
      },
      "text/plain": [
       "HBox(children=(FloatProgress(value=0.0, max=34250.0), HTML(value='')))"
      ]
     },
     "metadata": {},
     "output_type": "display_data"
    },
    {
     "name": "stdout",
     "output_type": "stream",
     "text": [
      "\r"
     ]
    },
    {
     "data": {
      "application/vnd.jupyter.widget-view+json": {
       "model_id": "",
       "version_major": 2,
       "version_minor": 0
      },
      "text/plain": [
       "HBox(children=(FloatProgress(value=0.0, max=34250.0), HTML(value='')))"
      ]
     },
     "metadata": {},
     "output_type": "display_data"
    },
    {
     "name": "stdout",
     "output_type": "stream",
     "text": [
      "\r",
      "f1 score : 0.6409645357216606 | precision : 0.9576403504043125 | recall : 0.5480520553212448\n"
     ]
    },
    {
     "data": {
      "text/plain": [
       "(0.6409645357216606, 0.9576403504043125, 0.5480520553212448)"
      ]
     },
     "execution_count": 19,
     "metadata": {},
     "output_type": "execute_result"
    }
   ],
   "source": [
    "compute_f1(embs, df['label_group'], 5)"
   ]
  },
  {
   "cell_type": "markdown",
   "metadata": {
    "heading_collapsed": true
   },
   "source": [
    "### TF b0"
   ]
  },
  {
   "cell_type": "code",
   "execution_count": 10,
   "metadata": {
    "hidden": true
   },
   "outputs": [],
   "source": [
    "embs = torch.load('data/effnet_embs/tf_embs_b0_256.pth')"
   ]
  },
  {
   "cell_type": "code",
   "execution_count": 13,
   "metadata": {
    "hidden": true
   },
   "outputs": [
    {
     "ename": "TypeError",
     "evalue": "expected np.ndarray (got Tensor)",
     "output_type": "error",
     "traceback": [
      "\u001b[0;31m---------------------------------------------------------------------------\u001b[0m",
      "\u001b[0;31mTypeError\u001b[0m                                 Traceback (most recent call last)",
      "\u001b[0;32m<ipython-input-13-6a788cef8524>\u001b[0m in \u001b[0;36m<module>\u001b[0;34m\u001b[0m\n\u001b[0;32m----> 1\u001b[0;31m \u001b[0membs\u001b[0m \u001b[0;34m=\u001b[0m \u001b[0mtorch\u001b[0m\u001b[0;34m.\u001b[0m\u001b[0mfrom_numpy\u001b[0m\u001b[0;34m(\u001b[0m\u001b[0membs\u001b[0m\u001b[0;34m)\u001b[0m\u001b[0;34m.\u001b[0m\u001b[0mfloat\u001b[0m\u001b[0;34m(\u001b[0m\u001b[0;34m)\u001b[0m\u001b[0;34m.\u001b[0m\u001b[0mto\u001b[0m\u001b[0;34m(\u001b[0m\u001b[0mdevice\u001b[0m\u001b[0;34m)\u001b[0m\u001b[0;34m\u001b[0m\u001b[0;34m\u001b[0m\u001b[0m\n\u001b[0m",
      "\u001b[0;31mTypeError\u001b[0m: expected np.ndarray (got Tensor)"
     ]
    }
   ],
   "source": [
    "embs = torch.from_numpy(embs).float().to(device)"
   ]
  },
  {
   "cell_type": "code",
   "execution_count": 21,
   "metadata": {
    "hidden": true
   },
   "outputs": [
    {
     "data": {
      "application/vnd.jupyter.widget-view+json": {
       "model_id": "",
       "version_major": 2,
       "version_minor": 0
      },
      "text/plain": [
       "HBox(children=(FloatProgress(value=0.0, max=34250.0), HTML(value='')))"
      ]
     },
     "metadata": {},
     "output_type": "display_data"
    },
    {
     "name": "stdout",
     "output_type": "stream",
     "text": [
      "\r"
     ]
    },
    {
     "data": {
      "application/vnd.jupyter.widget-view+json": {
       "model_id": "",
       "version_major": 2,
       "version_minor": 0
      },
      "text/plain": [
       "HBox(children=(FloatProgress(value=0.0, max=34250.0), HTML(value='')))"
      ]
     },
     "metadata": {},
     "output_type": "display_data"
    },
    {
     "name": "stdout",
     "output_type": "stream",
     "text": [
      "\r",
      "f1 score : 0.642667609875153 | precision : 0.9084886567491639 | recall : 0.5867818006410631\n"
     ]
    },
    {
     "data": {
      "text/plain": [
       "(0.642667609875153, 0.9084886567491639, 0.5867818006410631)"
      ]
     },
     "execution_count": 21,
     "metadata": {},
     "output_type": "execute_result"
    }
   ],
   "source": [
    "compute_f1(embs, df['label_group'], 7.5)"
   ]
  },
  {
   "cell_type": "markdown",
   "metadata": {},
   "source": [
    "### b2"
   ]
  },
  {
   "cell_type": "code",
   "execution_count": 10,
   "metadata": {},
   "outputs": [],
   "source": [
    "model = timm.create_model('efficientnet_b2', pretrained=True, num_classes=0).to(device)"
   ]
  },
  {
   "cell_type": "code",
   "execution_count": 13,
   "metadata": {},
   "outputs": [
    {
     "data": {
      "application/vnd.jupyter.widget-view+json": {
       "model_id": "",
       "version_major": 2,
       "version_minor": 0
      },
      "text/plain": [
       "HBox(children=(FloatProgress(value=0.0, max=536.0), HTML(value='')))"
      ]
     },
     "metadata": {},
     "output_type": "display_data"
    },
    {
     "name": "stdout",
     "output_type": "stream",
     "text": [
      "\r"
     ]
    }
   ],
   "source": [
    "with torch.no_grad():\n",
    "    pbar = tqdm(full_dl, leave=False)\n",
    "    embs = []\n",
    "    for imgs, _ in pbar:\n",
    "        imgs = val_transforms(imgs.to(device))\n",
    "        feature = model(imgs)\n",
    "        embs.append(feature)\n",
    "    embs = torch.cat(embs, 0)"
   ]
  },
  {
   "cell_type": "code",
   "execution_count": 22,
   "metadata": {
    "scrolled": false
   },
   "outputs": [
    {
     "data": {
      "application/vnd.jupyter.widget-view+json": {
       "model_id": "",
       "version_major": 2,
       "version_minor": 0
      },
      "text/plain": [
       "HBox(children=(FloatProgress(value=0.0, max=34250.0), HTML(value='')))"
      ]
     },
     "metadata": {},
     "output_type": "display_data"
    },
    {
     "name": "stdout",
     "output_type": "stream",
     "text": [
      "\r"
     ]
    },
    {
     "data": {
      "application/vnd.jupyter.widget-view+json": {
       "model_id": "",
       "version_major": 2,
       "version_minor": 0
      },
      "text/plain": [
       "HBox(children=(FloatProgress(value=0.0, max=34250.0), HTML(value='')))"
      ]
     },
     "metadata": {},
     "output_type": "display_data"
    },
    {
     "name": "stdout",
     "output_type": "stream",
     "text": [
      "\r",
      "f1 score : 0.6196357491479187 | precision : 0.9479240435254366 | recall : 0.5289644536998594\n"
     ]
    },
    {
     "data": {
      "text/plain": [
       "(0.6196357491479187, 0.9479240435254366, 0.5289644536998594)"
      ]
     },
     "execution_count": 22,
     "metadata": {},
     "output_type": "execute_result"
    }
   ],
   "source": [
    "compute_f1(embs, df['label_group'], 10)"
   ]
  },
  {
   "cell_type": "code",
   "execution_count": 24,
   "metadata": {
    "scrolled": true
   },
   "outputs": [],
   "source": [
    "#torch.save(embs, 'data/effnet_embs/embs_b2_notrain.pth')"
   ]
  },
  {
   "cell_type": "markdown",
   "metadata": {},
   "source": [
    "### b3"
   ]
  },
  {
   "cell_type": "code",
   "execution_count": null,
   "metadata": {},
   "outputs": [],
   "source": [
    "small_images_dir = 'data/small_train_images_300/'\n",
    "full_ds = SoftMaxDS(df, small_images_dir)\n",
    "full_dl = DataLoader(full_ds, batch_size = bs, shuffle = False, pin_memory = True)"
   ]
  },
  {
   "cell_type": "code",
   "execution_count": 12,
   "metadata": {
    "scrolled": true
   },
   "outputs": [],
   "source": [
    "model = timm.create_model('efficientnet_b3', pretrained=True, num_classes=0).to(device)"
   ]
  },
  {
   "cell_type": "code",
   "execution_count": 13,
   "metadata": {},
   "outputs": [
    {
     "data": {
      "application/vnd.jupyter.widget-view+json": {
       "model_id": "",
       "version_major": 2,
       "version_minor": 0
      },
      "text/plain": [
       "HBox(children=(FloatProgress(value=0.0, max=536.0), HTML(value='')))"
      ]
     },
     "metadata": {},
     "output_type": "display_data"
    },
    {
     "name": "stdout",
     "output_type": "stream",
     "text": [
      "\r"
     ]
    }
   ],
   "source": [
    "with torch.no_grad():\n",
    "    pbar = tqdm(full_dl, leave=False)\n",
    "    embs = []\n",
    "    for imgs, _ in pbar:\n",
    "        imgs = val_transforms(imgs.to(device))\n",
    "        feature = model(imgs)\n",
    "        embs.append(feature)\n",
    "    embs = torch.cat(embs, 0)"
   ]
  },
  {
   "cell_type": "code",
   "execution_count": 22,
   "metadata": {
    "scrolled": false
   },
   "outputs": [
    {
     "data": {
      "application/vnd.jupyter.widget-view+json": {
       "model_id": "",
       "version_major": 2,
       "version_minor": 0
      },
      "text/plain": [
       "HBox(children=(FloatProgress(value=0.0, max=34250.0), HTML(value='')))"
      ]
     },
     "metadata": {},
     "output_type": "display_data"
    },
    {
     "name": "stdout",
     "output_type": "stream",
     "text": [
      "\r"
     ]
    },
    {
     "data": {
      "application/vnd.jupyter.widget-view+json": {
       "model_id": "",
       "version_major": 2,
       "version_minor": 0
      },
      "text/plain": [
       "HBox(children=(FloatProgress(value=0.0, max=34250.0), HTML(value='')))"
      ]
     },
     "metadata": {},
     "output_type": "display_data"
    },
    {
     "name": "stdout",
     "output_type": "stream",
     "text": [
      "\r",
      "f1 score : 0.60674607145152 | precision : 0.9222303967400572 | recall : 0.5332024273267191\n"
     ]
    },
    {
     "data": {
      "text/plain": [
       "(0.60674607145152, 0.9222303967400572, 0.5332024273267191)"
      ]
     },
     "execution_count": 22,
     "metadata": {},
     "output_type": "execute_result"
    }
   ],
   "source": [
    "compute_f1(embs, df['label_group'], 8.1)"
   ]
  },
  {
   "cell_type": "code",
   "execution_count": 15,
   "metadata": {
    "scrolled": true
   },
   "outputs": [],
   "source": [
    "torch.save(embs, 'data/effnet_embs/embs_b3_notrain.pth')"
   ]
  },
  {
   "cell_type": "code",
   "execution_count": 11,
   "metadata": {},
   "outputs": [],
   "source": [
    "embs = torch.load('data/effnet_embs/embs_b3_notrain.pth')"
   ]
  },
  {
   "cell_type": "code",
   "execution_count": null,
   "metadata": {},
   "outputs": [],
   "source": []
  }
 ],
 "metadata": {
  "kernelspec": {
   "display_name": "Python 3",
   "language": "python",
   "name": "python3"
  },
  "language_info": {
   "codemirror_mode": {
    "name": "ipython",
    "version": 3
   },
   "file_extension": ".py",
   "mimetype": "text/x-python",
   "name": "python",
   "nbconvert_exporter": "python",
   "pygments_lexer": "ipython3",
   "version": "3.7.6"
  },
  "toc": {
   "base_numbering": 1,
   "nav_menu": {},
   "number_sections": true,
   "sideBar": true,
   "skip_h1_title": false,
   "title_cell": "Table of Contents",
   "title_sidebar": "Contents",
   "toc_cell": true,
   "toc_position": {
    "height": "calc(100% - 180px)",
    "left": "10px",
    "top": "150px",
    "width": "304.716px"
   },
   "toc_section_display": true,
   "toc_window_display": true
  },
  "varInspector": {
   "cols": {
    "lenName": 16,
    "lenType": 16,
    "lenVar": 40
   },
   "kernels_config": {
    "python": {
     "delete_cmd_postfix": "",
     "delete_cmd_prefix": "del ",
     "library": "var_list.py",
     "varRefreshCmd": "print(var_dic_list())"
    },
    "r": {
     "delete_cmd_postfix": ") ",
     "delete_cmd_prefix": "rm(",
     "library": "var_list.r",
     "varRefreshCmd": "cat(var_dic_list()) "
    }
   },
   "types_to_exclude": [
    "module",
    "function",
    "builtin_function_or_method",
    "instance",
    "_Feature"
   ],
   "window_display": false
  }
 },
 "nbformat": 4,
 "nbformat_minor": 4
}
